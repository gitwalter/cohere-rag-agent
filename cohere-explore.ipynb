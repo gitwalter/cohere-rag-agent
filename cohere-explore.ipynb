{
 "cells": [
  {
   "cell_type": "code",
   "execution_count": 4,
   "metadata": {},
   "outputs": [],
   "source": [
    "import os\n",
    "import cohere  \n",
    "import streamlit as st\n",
    "\n",
    "COHERE_API_KEY = st.secrets[\"COHERE_API_KEY\"]\n",
    "os.environ[\"COHERE_API_KEY\"] = st.secrets[\"COHERE_API_KEY\"]\n",
    "\n",
    "co = cohere.Client(api_key=COHERE_API_KEY)\n",
    "\n",
    "response = co.chat(\n",
    "    model=\"command-r-plus\",\n",
    "\tmessage=\"What is the chemical formula for glucose?\",  \n",
    "\tconnectors=[{\"id\": \"web-search\"}]  \n",
    ")"
   ]
  },
  {
   "cell_type": "code",
   "execution_count": 10,
   "metadata": {},
   "outputs": [
    {
     "name": "stdout",
     "output_type": "stream",
     "text": [
      "The chemical formula for glucose is C6H12O6.\n",
      "[ChatCitation(start=36, end=44, text='C6H12O6.', document_ids=['web-search_0', 'web-search_1', 'web-search_2', 'web-search_3', 'web-search_4', 'web-search_5'])]\n",
      "[Message_User(message='What is the chemical formula for glucose?', tool_calls=None, role='USER'), Message_Chatbot(message='The chemical formula for glucose is C6H12O6.', tool_calls=None, role='CHATBOT')]\n"
     ]
    }
   ],
   "source": [
    "print(response.text)\n",
    "print(response.citations)\n",
    "print(response.chat_history)"
   ]
  },
  {
   "cell_type": "code",
   "execution_count": null,
   "metadata": {},
   "outputs": [],
   "source": []
  }
 ],
 "metadata": {
  "kernelspec": {
   "display_name": "cohere",
   "language": "python",
   "name": "python3"
  },
  "language_info": {
   "codemirror_mode": {
    "name": "ipython",
    "version": 3
   },
   "file_extension": ".py",
   "mimetype": "text/x-python",
   "name": "python",
   "nbconvert_exporter": "python",
   "pygments_lexer": "ipython3",
   "version": "3.12.3"
  }
 },
 "nbformat": 4,
 "nbformat_minor": 2
}
