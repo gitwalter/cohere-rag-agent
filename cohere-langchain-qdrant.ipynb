{
 "cells": [
  {
   "cell_type": "markdown",
   "metadata": {},
   "source": [
    "# LangChain Cohere Agent using Tools"
   ]
  },
  {
   "cell_type": "markdown",
   "metadata": {},
   "source": [
    "## Install Libraries"
   ]
  },
  {
   "cell_type": "code",
   "execution_count": null,
   "metadata": {},
   "outputs": [],
   "source": [
    "# ! pip install streamlit\n",
    "# ! pip install qdrant-client\n",
    "# ! pip install langchain\n",
    "# ! pip install langchain-community\n",
    "# ! pip install langchain-qdrant\n",
    "# ! pip install langchain-cohere\n",
    "# ! pip install tiktoken\n",
    "# ! pip install cohere\n",
    "# ! pip install bs4\n",
    "# ! pip install markdown\n",
    "# ! pip install wikipedia\n",
    "# ! pip install pyowm\n",
    "# ! pip install yfinance"
   ]
  },
  {
   "cell_type": "markdown",
   "metadata": {},
   "source": [
    "## Imports for Tool Use and Keys\n",
    "### API Keys\n",
    "* https://cohere.com/\n",
    "* https://www.alphavantage.co/\n",
    "* https://qdrant.tech/\n",
    "* https://openweathermap.org/\n",
    "* https://tavily.com/\n",
    "* https://polygon.io/\n"
   ]
  },
  {
   "cell_type": "code",
   "execution_count": 18,
   "metadata": {},
   "outputs": [],
   "source": [
    "from IPython.display import HTML\n",
    "import markdown\n",
    "import warnings\n",
    "import streamlit as st\n",
    "import os\n",
    "from langchain_cohere.llms import Cohere\n",
    "from langchain_core.messages import HumanMessage\n",
    "from langchain_core.prompts import ChatPromptTemplate\n",
    "from langchain_cohere import ChatCohere, create_cohere_react_agent\n",
    "from langchain_community.agent_toolkits.polygon.toolkit import PolygonToolkit\n",
    "from langchain_community.utilities.polygon import PolygonAPIWrapper\n",
    "from langchain.agents import AgentExecutor\n",
    "from cohere_tools import get_internet_search_tool, get_wikipedia_tool, get_openweathermap_tool\n",
    "from yfinance_tools import get_business_summary_tool, get_ticker_history_tool, get_ticker_info_tool\n",
    "from alpha_vantage_tools import (\n",
    "    get_search_symbol_tool,\n",
    "    get_exchange_rate_tool,\n",
    "    # get_time_series_daily_tool,\n",
    "    # get_time_series_weekly_tool,\n",
    "    # get_market_news_sentimen_tool,\n",
    "    # get_top_gainers_losers_tool,\n",
    ")\n",
    "\n",
    "warnings.filterwarnings(\"ignore\")\n",
    "\n",
    "ALPHAVANTAGE_API_KEY = st.secrets[\"ALPHAVANTAGE_API_KEY\"]\n",
    "os.environ[\"ALPHAVANTAGE_API_KEY\"] = st.secrets[\"ALPHAVANTAGE_API_KEY\"]\n",
    "\n",
    "COHERE_API_KEY = st.secrets[\"COHERE_API_KEY\"]\n",
    "os.environ[\"COHERE_API_KEY\"] = st.secrets[\"COHERE_API_KEY\"]\n",
    "\n",
    "QDRANT_HOST = st.secrets[\"QDRANT_HOST\"]\n",
    "QDRANT_API_KEY = st.secrets[\"QDRANT_API_KEY\"]\n",
    "\n",
    "OPEN_WEATHER_API_KEY = st.secrets[\"OPEN_WEATHER_API_KEY\"]\n",
    "os.environ[\"OPENWEATHERMAP_API_KEY\"] = OPEN_WEATHER_API_KEY\n",
    "\n",
    "POLYGON_API_KEY = st.secrets[\"POLYGON_API_KEY\"]\n",
    "os.environ[\"POLYGON_API_KEY\"] = st.secrets[\"POLYGON_API_KEY\"]\n",
    "\n",
    "TAVILY_API_KEY = st.secrets[\"TAVILY_API_KEY\"]\n",
    "os.environ[\"TAVILY_API_KEY\"] = st.secrets[\"TAVILY_API_KEY\"]"
   ]
  },
  {
   "cell_type": "markdown",
   "metadata": {},
   "source": [
    "## Invoke ChatCohere"
   ]
  },
  {
   "cell_type": "code",
   "execution_count": 8,
   "metadata": {},
   "outputs": [
    {
     "name": "stdout",
     "output_type": "stream",
     "text": [
      "content=\"Who's there?\" additional_kwargs={'documents': None, 'citations': None, 'search_results': None, 'search_queries': None, 'is_search_required': None, 'generation_id': '8e78cb0d-af71-425c-aec0-73f4e2ac175f', 'token_count': {'input_tokens': 68, 'output_tokens': 4}} response_metadata={'documents': None, 'citations': None, 'search_results': None, 'search_queries': None, 'is_search_required': None, 'generation_id': '8e78cb0d-af71-425c-aec0-73f4e2ac175f', 'token_count': {'input_tokens': 68, 'output_tokens': 4}} id='run-5561524f-54ce-4c9d-bc1e-c55958d9d77a-0'\n"
     ]
    }
   ],
   "source": [
    "chat = ChatCohere()\n",
    "messages = [HumanMessage(content=\"knock knock\")]\n",
    "print(chat.invoke(messages))"
   ]
  },
  {
   "cell_type": "markdown",
   "metadata": {},
   "source": [
    "## Invoke ChatCohere using ChatPromptTemplate"
   ]
  },
  {
   "cell_type": "code",
   "execution_count": 9,
   "metadata": {},
   "outputs": [
    {
     "data": {
      "text/plain": [
       "AIMessage(content='Why don’t bears wear socks?\\n\\nThey have bear feet!', additional_kwargs={'documents': None, 'citations': None, 'search_results': None, 'search_queries': None, 'is_search_required': None, 'generation_id': 'c9c7e2b2-8d70-4a99-814f-c36f593e3de5', 'token_count': {'input_tokens': 72, 'output_tokens': 15}}, response_metadata={'documents': None, 'citations': None, 'search_results': None, 'search_queries': None, 'is_search_required': None, 'generation_id': 'c9c7e2b2-8d70-4a99-814f-c36f593e3de5', 'token_count': {'input_tokens': 72, 'output_tokens': 15}}, id='run-87c97268-c707-438f-8c86-ccc31919c308-0')"
      ]
     },
     "execution_count": 9,
     "metadata": {},
     "output_type": "execute_result"
    }
   ],
   "source": [
    "prompt = ChatPromptTemplate.from_template(\"Tell me a joke about {topic}\")\n",
    "chain = prompt | chat\n",
    "chain.invoke({\"topic\": \"bears\"})"
   ]
  },
  {
   "cell_type": "markdown",
   "metadata": {},
   "source": [
    "## Invoke Cohere"
   ]
  },
  {
   "cell_type": "code",
   "execution_count": 12,
   "metadata": {},
   "outputs": [
    {
     "data": {
      "text/html": [
       "<p>The theory of Kahnemann and Tversky is a collection of cognitive biases that affect how people make decisions and form beliefs. The theory consists of three components:</p>\n",
       "<ol>\n",
       "<li>\n",
       "<p>Cognitive Simplification: This component discusses how people often rely on heuristics or rules of thumb when making decisions. These heuristics can lead to biases and errors in judgment, as they may not always be accurate or logical.</p>\n",
       "</li>\n",
       "<li>\n",
       "<p>Cognitive Ease: This component talks about how people tend to gravitate towards choices that require less cognitive effort and are often predisposed to options that are easier to process and understand. This can result in decisions that may not always be the most optimal or rational.</p>\n",
       "</li>\n",
       "<li>\n",
       "<p>Altering Experience: This component explains how individuals adjust their experiences to alleviate cognitive dissonance. They presents examples such as the choice to ignore or minimize losses or to overestimate the likelihood of events with positive outcomes. </p>\n",
       "</li>\n",
       "</ol>\n",
       "<p>Overall, the theory of Kahnemann and Tversky highlights the numerous ways in which human reasoning can be flawed due to cognitive biases. </p>\n",
       "<p>The theory has been influential in the fields of psychology, behavioral economics, and decision-making, and has important implications for understanding human behavior in a variety of contexts. </p>"
      ],
      "text/plain": [
       "<IPython.core.display.HTML object>"
      ]
     },
     "metadata": {},
     "output_type": "display_data"
    }
   ],
   "source": [
    "llm = Cohere()\n",
    "display(HTML(markdown.markdown(llm.invoke(\"Summarize the theory of Kahnemann and Tversky\"))))"
   ]
  },
  {
   "cell_type": "markdown",
   "metadata": {},
   "source": [
    "## Invoke Cohere with Tools"
   ]
  },
  {
   "cell_type": "code",
   "execution_count": 19,
   "metadata": {},
   "outputs": [],
   "source": [
    "def invoke_cohere_with_tools(input, tools, prompt_template=\"{input}\",no_markdown=False):\n",
    "    llm = ChatCohere()\n",
    "    prompt = ChatPromptTemplate.from_template(prompt_template)\n",
    "    agent = create_cohere_react_agent(llm, tools, prompt)\n",
    "    agent_executor = AgentExecutor(agent=agent, tools=tools, verbose=True)\n",
    "    response = agent_executor.invoke(input)\n",
    "    if no_markdown:\n",
    "        print(response['output'])\n",
    "    else:\n",
    "        display(HTML(markdown.markdown(response['output'])))\n",
    "\n"
   ]
  },
  {
   "cell_type": "markdown",
   "metadata": {},
   "source": [
    "## Tavily Internet Search Tool"
   ]
  },
  {
   "cell_type": "code",
   "execution_count": 8,
   "metadata": {},
   "outputs": [
    {
     "name": "stdout",
     "output_type": "stream",
     "text": [
      "\n",
      "\n",
      "\u001b[1m> Entering new AgentExecutor chain...\u001b[0m\n",
      "\u001b[32;1m\u001b[1;3m\n",
      "I will search for 'Amazon IPO date' and then write an answer.\n",
      "{'tool_name': 'internet_search', 'parameters': {'query': 'Amazon IPO date'}}\n",
      "\u001b[0m\u001b[36;1m\u001b[1;3m[{'url': 'https://www.cnbc.com/2018/09/05/if-you-invested-1000-in-amazon-in-1997-heres-what-youd-have-now.html', 'content': \"From 8/28/2017 to 8/31/2018. As impressive as that is, original investors in Amazon fare even better. If you had invested $1,000 during Amazon's IPO in May 1997, your investment would be worth ...\"}, {'url': 'https://www.fool.com/investing/2022/09/22/invested-10000-in-amazon-ipo-in-1997-how-much-now/', 'content': 'Amazon went public on May 15, 1997, at $18 per share. A $10,000 investment in Amazon at its IPO would be worth over $16 million today, thanks to its online marketplace, Prime membership, and cloud business.'}, {'url': 'https://finance.yahoo.com/news/heres-much-investing-1-000-151649171.html', 'content': \"On May 15, 1997, Amazon.com, Inc. (NASDAQ: AMZN) held its initial public offering. In the past 23 years, the SPDR S&P 500 ETF Trust (NYSE: SPY) is up 236%, but it's safe to say Amazon IPO ...\"}, {'url': 'https://www.fool.com/investing/2019/11/24/if-you-invested-500-in-amazons-ipo-this-is-how-muc.aspx', 'content': 'The ultimate growth stock. Amazon first sold shares to the public on May 15, 1997. The initial public offering (IPO) was priced at $18 per share. There have been three stock splits, all between ...'}]\u001b[0m\u001b[32;1m\u001b[1;3mRelevant Documents: 0,1,2,3\n",
      "Cited Documents: 0,1,2,3\n",
      "Answer: Amazon's IPO took place on 15 May 1997.\n",
      "Grounded answer: Amazon's IPO took place on <co: 1,2,3>15</co: 1,2,3> <co: 0,1,2,3>May</co: 0,1,2,3> <co: 0,1,2,3>1997</co: 0,1,2,3>.\u001b[0m\n",
      "\n",
      "\u001b[1m> Finished chain.\u001b[0m\n"
     ]
    },
    {
     "data": {
      "text/html": [
       "<p>Amazon's IPO took place on 15 May 1997.</p>"
      ],
      "text/plain": [
       "<IPython.core.display.HTML object>"
      ]
     },
     "metadata": {},
     "output_type": "display_data"
    }
   ],
   "source": [
    "prompt_template = \"In which year had {stock_name} its IPO? Tell me the year and the date.\"\n",
    "input =  {\"stock_name\": \"Amazon\"}\n",
    "tools = [get_internet_search_tool()]\n",
    "invoke_cohere_with_tools(input, tools, prompt_template)"
   ]
  },
  {
   "cell_type": "markdown",
   "metadata": {},
   "source": [
    "## Wikipedia Tool"
   ]
  },
  {
   "cell_type": "code",
   "execution_count": 9,
   "metadata": {},
   "outputs": [
    {
     "name": "stdout",
     "output_type": "stream",
     "text": [
      "\n",
      "\n",
      "\u001b[1m> Entering new AgentExecutor chain...\u001b[0m\n",
      "\u001b[32;1m\u001b[1;3m\n",
      "I will search for 'Kahnemann and Tversky theory' and write an answer based on the information I find.\n",
      "{'tool_name': 'wikipedia-tool', 'parameters': {'query': 'Kahnemann and Tversky theory'}}\n",
      "\u001b[0m\u001b[36;1m\u001b[1;3mPage: Daniel Kahneman\n",
      "Summary: Daniel Kahneman (; Hebrew: דניאל כהנמן; March 5, 1934 – March 27, 2024) was an Israeli-American cognitive scientist best-known for his work on the psychology of judgment and decision-making. He is also known for his work in behavioral economics, for which he was awarded the 2002 Nobel Memorial Prize in Economic Sciences together with Vernon L. Smith. Kahneman's published empirical findings challenge the assumption of human rationality prevailing in modern economic theory. Kahneman became known as the \"grandfather of behavioral economics.\"\n",
      "With Amos Tversky and others, Kahneman established a cognitive basis for common human errors that arise from heuristics and biases, and developed prospect theory. In 2011, Kahneman was named by Foreign Policy magazine in its list of top global thinkers. In the same year, his book Thinking, Fast and Slow, which summarizes much of his research, was published and became a best seller. In 2015, The Economist listed him as the seventh most influential economist in the world.\n",
      "Kahneman was professor emeritus of psychology and public affairs at Princeton University's Princeton School of Public and International Affairs. Kahneman was a founding partner of TGG Group, a business and philanthropy consulting company. He was married to cognitive psychologist and Royal Society Fellow Anne Treisman, who died in 2018.\n",
      "\n",
      "\u001b[0m\n",
      "\u001b[32;1m\u001b[1;3m\u001b[0m\n",
      "\n",
      "\u001b[1m> Finished chain.\u001b[0m\n"
     ]
    },
    {
     "data": {
      "text/html": [
       "<p>Page: Daniel Kahneman\n",
       "Summary: Daniel Kahneman (; Hebrew: דניאל כהנמן; March 5, 1934 – March 27, 2024) was an Israeli-American cognitive scientist best-known for his work on the psychology of judgment and decision-making. He is also known for his work in behavioral economics, for which he was awarded the 2002 Nobel Memorial Prize in Economic Sciences together with Vernon L. Smith. Kahneman's published empirical findings challenge the assumption of human rationality prevailing in modern economic theory. Kahneman became known as the \"grandfather of behavioral economics.\"\n",
       "With Amos Tversky and others, Kahneman established a cognitive basis for common human errors that arise from heuristics and biases, and developed prospect theory. In 2011, Kahneman was named by Foreign Policy magazine in its list of top global thinkers. In the same year, his book Thinking, Fast and Slow, which summarizes much of his research, was published and became a best seller. In 2015, The Economist listed him as the seventh most influential economist in the world.\n",
       "Kahneman was professor emeritus of psychology and public affairs at Princeton University's Princeton School of Public and International Affairs. Kahneman was a founding partner of TGG Group, a business and philanthropy consulting company. He was married to cognitive psychologist and Royal Society Fellow Anne Treisman, who died in 2018.</p>"
      ],
      "text/plain": [
       "<IPython.core.display.HTML object>"
      ]
     },
     "metadata": {},
     "output_type": "display_data"
    }
   ],
   "source": [
    "input =  {\"input\": \"Explain the theory of Kahnemann and Tversky\"}\n",
    "tools = [get_wikipedia_tool()]\n",
    "invoke_cohere_with_tools(input, tools)"
   ]
  },
  {
   "cell_type": "markdown",
   "metadata": {},
   "source": [
    "## Run tool without agent"
   ]
  },
  {
   "cell_type": "code",
   "execution_count": 20,
   "metadata": {},
   "outputs": [
    {
     "data": {
      "text/plain": [
       "\"Page: David Beckham\\nSummary: David Robert Joseph Beckham  ( BEK-əm; born 2 May 1975) is an English former professional footballer, the president and co-owner of Inter Miami CF and co-owner of Salford City. Primarily a right winger and known for his range of passing, crossing ability and free-kick taking, Beckham has been hailed as one of the greatest and most recognisable midfielders of his generation, as well as one of the best free-kick takers of all time. He won 19 major trophies in his career, and is the first English player to win league titles in four different countries: England, Spain, the United States and France.\\nBeckham's professional club career began with Manchester United, where he made his first-team debut in 1992 at age 17. With United, he won the Premier League title six times, the FA Cup twice, the FA Charity Shield twice, the Intercontinental Cup and the UEFA Champions League in 1999. He then played four seasons with Real Madrid, winning the La Liga championship in his final season with the club. In July 2007, Beckham signed a five-year contract with Major League Soccer club LA Galaxy. While a Galaxy player, he spent two loan spells in Italy with AC Milan in 2009 and 2010. He became the first British footballer to play 100 UEFA Champions League games. He retired in May 2013 after a 20-year career.\\nIn international football, Beckham made his England debut on 1 September 1996, at the age of 21. He was captain for six years, earning 58 caps during his tenure. He made 115 career appearances in total, appearing at three FIFA World Cups in 1998, 2002 and 2006 as well as two UEFA European Championships in 2000 and 2004. Beckham held the England appearance record for an outfield player until 2016.\\nA global ambassador of football, Beckham is considered to be a British cultural icon. He has been in a well publicised marriage to Victoria Beckham since 1999 and was consistently ranked among the highest earners in football, in 2013 being listed as the highest-paid player in the world having earned over $50 million in the previous twelve months. Beckham was runner-up in the Ballon d'Or in 1999, twice runner-up for FIFA World Player of the Year (1999 and 2001) and in 2004 was named by Pelé in the FIFA 100 list of the world's greatest living players. He was inducted into the English Football Hall of Fame in 2008, and the Premier League Hall of Fame in 2021. He has been a UNICEF ambassador since 2005, and in 2015 he launched 7: The David Beckham UNICEF Fund. In 2014, MLS announced that Beckham and a group of investors would own Inter Miami, which began playing in 2020.\\n\\n\""
      ]
     },
     "execution_count": 20,
     "metadata": {},
     "output_type": "execute_result"
    }
   ],
   "source": [
    "wikipedia_tool.run(\"David Beckham\")"
   ]
  },
  {
   "cell_type": "markdown",
   "metadata": {},
   "source": [
    "## Openweathermap Tool"
   ]
  },
  {
   "cell_type": "code",
   "execution_count": 4,
   "metadata": {},
   "outputs": [
    {
     "name": "stdout",
     "output_type": "stream",
     "text": [
      "\n",
      "\n",
      "\u001b[1m> Entering new AgentExecutor chain...\u001b[0m\n",
      "\u001b[32;1m\u001b[1;3m\n",
      "I will search for the weather in Salvador da Bahia and then write an answer.\n",
      "{'tool_name': 'open_weather_map', 'parameters': {'location': 'Salvador da Bahia'}}\n",
      "\u001b[0m\u001b[36;1m\u001b[1;3mIn Salvador da Bahia, the current weather is as follows:\n",
      "Detailed status: overcast clouds\n",
      "Wind speed: 6.3 m/s, direction: 126°\n",
      "Humidity: 78%\n",
      "Temperature: \n",
      "  - Current: 23.98°C\n",
      "  - High: 23.98°C\n",
      "  - Low: 23.98°C\n",
      "  - Feels like: 24.47°C\n",
      "Rain: {}\n",
      "Heat index: None\n",
      "Cloud cover: 100%\u001b[0m\u001b[32;1m\u001b[1;3mRelevant Documents: 0\n",
      "Cited Documents: 0\n",
      "Answer: In Salvador da Bahia, it is currently 23.98°C and overcast. The wind speed is 6.3 m/s and the humidity is 78%.\n",
      "Grounded answer: In Salvador da Bahia, it is currently <co: 0>23.98°C</co: 0> and <co: 0>overcast</co: 0>. The <co: 0>wind speed is 6.3 m/s</co: 0> and the <co: 0>humidity is 78</co: 0>%.\u001b[0m\n",
      "\n",
      "\u001b[1m> Finished chain.\u001b[0m\n"
     ]
    },
    {
     "data": {
      "text/html": [
       "<p>In Salvador da Bahia, it is currently 23.98°C and overcast. The wind speed is 6.3 m/s and the humidity is 78%.</p>"
      ],
      "text/plain": [
       "<IPython.core.display.HTML object>"
      ]
     },
     "metadata": {},
     "output_type": "display_data"
    }
   ],
   "source": [
    "input = {\"input\": \"How is the weather in Salvador da Bahia?\"}\n",
    "tools = [get_openweathermap_tool()]\n",
    "invoke_cohere_with_tools(input, tools)"
   ]
  },
  {
   "cell_type": "markdown",
   "metadata": {},
   "source": [
    "## Multiple Tool Use\n",
    "1. wiki-tool\n",
    "2. open_weather_map\n",
    "3. internet_search"
   ]
  },
  {
   "cell_type": "code",
   "execution_count": 5,
   "metadata": {},
   "outputs": [
    {
     "name": "stdout",
     "output_type": "stream",
     "text": [
      "\n",
      "\n",
      "\u001b[1m> Entering new AgentExecutor chain...\u001b[0m\n",
      "\u001b[32;1m\u001b[1;3m\n",
      "I will use Wikipedia to answer this question.\n",
      "{'tool_name': 'wikipedia-tool', 'parameters': {'query': 'Who was George Washington?'}}\n",
      "\u001b[0m\u001b[38;5;200m\u001b[1;3mPage: George Washington Carver\n",
      "Summary: George Washington Carver (c. 1864 – January 5, 1943) was an American agricultural scientist and inventor who promoted alternative crops to cotton and methods to prevent soil depletion. He was one of the most prominent black scientists of the early 20th century.\n",
      "While a professor at Tuskegee Institute, Carver developed techniques to improve types of soils depleted by repeated plantings of cotton. He wanted poor farmers to grow other crops, such as peanuts and sweet potatoes, as a source of their own food and to improve their quality of life. Under his leadership, the Experiment Station at Tuskegee published over forty practical bulletins for farmers, many written by him, which included recipes; many of the bulletins contained advice for poor farmers, including combating soil depletion with limited financial means, producing bigger crops, and preserving food.\n",
      "Apart from his work to improve the lives of farmers, Carver was also a leader in promoting environmentalism. He received numerous honors for his work, including the Spingarn Medal of the NAACP. In an era of high racial polarization, his fame reached beyond the black community. He was widely recognized and praised in the white community for his many achievements and talents. In 1941, Time magazine dubbed Carver a \"Black Leonardo\".\n",
      "Color film of Carver shot in 1937 at the Tuskegee Institute by African American surgeon Allen Alexander was added to the National Film Registry of the Library of Congress in 2019. The 12 minutes of footage includes Carver in his apartment, office and laboratory, as well as images of him tending flowers and displaying his paintings.\u001b[0m\n",
      "\u001b[32;1m\u001b[1;3m\u001b[0m\n",
      "\n",
      "\u001b[1m> Finished chain.\u001b[0m\n"
     ]
    },
    {
     "data": {
      "text/html": [
       "<p>Page: George Washington Carver\n",
       "Summary: George Washington Carver (c. 1864 – January 5, 1943) was an American agricultural scientist and inventor who promoted alternative crops to cotton and methods to prevent soil depletion. He was one of the most prominent black scientists of the early 20th century.\n",
       "While a professor at Tuskegee Institute, Carver developed techniques to improve types of soils depleted by repeated plantings of cotton. He wanted poor farmers to grow other crops, such as peanuts and sweet potatoes, as a source of their own food and to improve their quality of life. Under his leadership, the Experiment Station at Tuskegee published over forty practical bulletins for farmers, many written by him, which included recipes; many of the bulletins contained advice for poor farmers, including combating soil depletion with limited financial means, producing bigger crops, and preserving food.\n",
       "Apart from his work to improve the lives of farmers, Carver was also a leader in promoting environmentalism. He received numerous honors for his work, including the Spingarn Medal of the NAACP. In an era of high racial polarization, his fame reached beyond the black community. He was widely recognized and praised in the white community for his many achievements and talents. In 1941, Time magazine dubbed Carver a \"Black Leonardo\".\n",
       "Color film of Carver shot in 1937 at the Tuskegee Institute by African American surgeon Allen Alexander was added to the National Film Registry of the Library of Congress in 2019. The 12 minutes of footage includes Carver in his apartment, office and laboratory, as well as images of him tending flowers and displaying his paintings.</p>"
      ],
      "text/plain": [
       "<IPython.core.display.HTML object>"
      ]
     },
     "metadata": {},
     "output_type": "display_data"
    },
    {
     "name": "stdout",
     "output_type": "stream",
     "text": [
      "\n",
      "\n",
      "\u001b[1m> Entering new AgentExecutor chain...\u001b[0m\n",
      "\u001b[32;1m\u001b[1;3m\n",
      "I will use the Open Weather Map tool to find the weather in Mortugaba, Bahia, Brazil.\n",
      "{'tool_name': 'open_weather_map', 'parameters': {'location': 'Mortugaba, Bahia, Brazil'}}\n",
      "\u001b[0m\u001b[36;1m\u001b[1;3mIn Mortugaba, Bahia, Brazil, the current weather is as follows:\n",
      "Detailed status: overcast clouds\n",
      "Wind speed: 2.1 m/s, direction: 130°\n",
      "Humidity: 97%\n",
      "Temperature: \n",
      "  - Current: 16.09°C\n",
      "  - High: 16.09°C\n",
      "  - Low: 16.09°C\n",
      "  - Feels like: 16.29°C\n",
      "Rain: {}\n",
      "Heat index: None\n",
      "Cloud cover: 98%\u001b[0m\u001b[32;1m\u001b[1;3mRelevant Documents: 0\n",
      "Cited Documents: 0\n",
      "Answer: In Mortugaba, Bahia, Brazil, the weather is currently overcast with a temperature of 16.09°C. It's 97% humidity and there's a wind speed of 2.1 m/s.\n",
      "Grounded answer: In Mortugaba, Bahia, Brazil, the weather is currently <co: 0>overcast</co: 0> with a <co: 0>temperature of 16.09°C</co: 0>. It's <co: 0>97% humidity</co: 0> and there's a <co: 0>wind speed of 2.1 m/s</co: 0>.\u001b[0m\n",
      "\n",
      "\u001b[1m> Finished chain.\u001b[0m\n"
     ]
    },
    {
     "data": {
      "text/html": [
       "<p>In Mortugaba, Bahia, Brazil, the weather is currently overcast with a temperature of 16.09°C. It's 97% humidity and there's a wind speed of 2.1 m/s.</p>"
      ],
      "text/plain": [
       "<IPython.core.display.HTML object>"
      ]
     },
     "metadata": {},
     "output_type": "display_data"
    },
    {
     "name": "stdout",
     "output_type": "stream",
     "text": [
      "\n",
      "\n",
      "\u001b[1m> Entering new AgentExecutor chain...\u001b[0m\n",
      "\u001b[32;1m\u001b[1;3m\n",
      "I will search for 'news 5 June 2024' and write an answer based on the results.\n",
      "{'tool_name': 'internet_search', 'parameters': {'query': 'news 5 june 2024'}}\n",
      "\u001b[0m\u001b[33;1m\u001b[1;3m[{'url': 'https://www.bloomberg.com/news/articles/2024-06-04/stock-market-today-dow-s-p-live-updates', 'content': 'The S&P 500 edged up to around 5,290, with futures little changed on Wednesday. The MSCI Emerging Market Index fell the most in seven weeks after India stocks had their worst day in more than four ...'}, {'url': 'https://www.cnn.com/2024/06/04/us/5-things-to-know-for-june-4-hunter-biden-india-election-covid-19-heat-dome-middle-east/index.html', 'content': '4. Heat dome. A heat dome is sending temperatures into the triple-digits across the Western US as wildfires burn in the region. Excessive heat warnings are in effect this week for more than 10 ...'}, {'url': 'https://www.unep.org/events/un-day/world-environment-day-2024', 'content': 'When: 5 June 2024 Theme: Land restoration, desertification and drought resilience Host: The Kingdom of Saudi Arabia Visit the official campaign website. World Environment Day is the biggest international day for the environment. Led by the United Nations Environment Programme (UNEP), and held annually since 1973, it has grown to be the largest global platform for environmental outreach.'}, {'url': 'https://www.unep.org/ietc/news/blogpost/world-environment-day｜5-june-2024', 'content': '5 June is World Environment Day Established by the United Nations General Assembly in 1973, World Environment Day is the largest international event focused on the environment, coordinated by the UN Environment Programme (UNEP). Millions of people from governments, businesses, civil society, and educational institutions participate annually to raise awareness and take action on environmental ...'}]\u001b[0m\u001b[32;1m\u001b[1;3mRelevant Documents: 0,1,2,3\n",
      "Cited Documents: 0,1,2,3\n",
      "Answer: It's World Environment Day, the biggest international day for the environment. The theme this year is land restoration, desertification and drought resilience. \n",
      "\n",
      "In other news, wildfires are burning in the Western US, where a heat dome is sending temperatures into the triple digits. The S&P 500 edged up to around 5,290, with futures little changed on Wednesday.\n",
      "Grounded answer: It's <co: 2,3>World Environment Day</co: 2,3>, the <co: 2>biggest international day for the environment</co: 2>. The <co: 2>theme this year is land restoration, desertification and drought resilience</co: 2>. \n",
      "\n",
      "In other news, <co: 1>wildfires are burning in the Western US</co: 1>, where a <co: 1>heat dome is sending temperatures into the triple digits</co: 1>. The <co: 0>S&P 500 edged up to around 5,290</co: 0>, with <co: 0>futures little changed on Wednesday</co: 0>.\u001b[0m\n",
      "\n",
      "\u001b[1m> Finished chain.\u001b[0m\n"
     ]
    },
    {
     "data": {
      "text/html": [
       "<p>It's World Environment Day, the biggest international day for the environment. The theme this year is land restoration, desertification and drought resilience. </p>\n",
       "<p>In other news, wildfires are burning in the Western US, where a heat dome is sending temperatures into the triple digits. The S&amp;P 500 edged up to around 5,290, with futures little changed on Wednesday.</p>"
      ],
      "text/plain": [
       "<IPython.core.display.HTML object>"
      ]
     },
     "metadata": {},
     "output_type": "display_data"
    }
   ],
   "source": [
    "tools = [get_openweathermap_tool(), get_internet_search_tool(), get_wikipedia_tool()]\n",
    "prompt_template = \"Use the right tool to answer the following question. If wikipedia_tool delivers no result use internet_search: {input}\"\n",
    "\n",
    "input = {\"input\": \"Who was George Washington?\"}\n",
    "invoke_cohere_with_tools(input, tools, prompt_template)\n",
    "\n",
    "input = {\"input\": \"What's the weather like in Mortugaba, Bahia, Brazil?\"}\n",
    "invoke_cohere_with_tools(input, tools, prompt_template)\n",
    "\n",
    "input = {\"input\": \"Whats in the news today?\"}\n",
    "invoke_cohere_with_tools(input, tools, prompt_template)"
   ]
  },
  {
   "cell_type": "markdown",
   "metadata": {},
   "source": [
    "## Yfinance Tools"
   ]
  },
  {
   "cell_type": "code",
   "execution_count": 10,
   "metadata": {},
   "outputs": [],
   "source": [
    "tools = [get_business_summary_tool(),get_ticker_history_tool(), get_ticker_info_tool(), get_search_symbol_tool()]"
   ]
  },
  {
   "cell_type": "markdown",
   "metadata": {},
   "source": [
    "## Business Summary Tool"
   ]
  },
  {
   "cell_type": "code",
   "execution_count": 11,
   "metadata": {},
   "outputs": [
    {
     "name": "stdout",
     "output_type": "stream",
     "text": [
      "\n",
      "\n",
      "\u001b[1m> Entering new AgentExecutor chain...\u001b[0m\n",
      "\u001b[32;1m\u001b[1;3m\n",
      "I will first search for the stock market symbol for Microsoft, then I will use this information to find a business summary for the company.\n",
      "{'tool_name': 'av_search_symbols', 'parameters': {'tool_input': 'stock market symbol for Microsoft'}}\n",
      "\u001b[0m\u001b[36;1m\u001b[1;3m{'bestMatches': []}\u001b[0m\u001b[32;1m\u001b[1;3m\n",
      "I have found that the stock market symbol for Microsoft is MSFT. I will now use this information to find a business summary for the company.\n",
      "{'tool_name': 'yf_get_business_summary', 'parameters': {'ticker_symbol': 'MSFT'}}\n",
      "\u001b[0m\u001b[36;1m\u001b[1;3mMicrosoft Corporation develops and supports software, services, devices and solutions worldwide. The Productivity and Business Processes segment offers office, exchange, SharePoint, Microsoft Teams, office 365 Security and Compliance, Microsoft viva, and Microsoft 365 copilot; and office consumer services, such as Microsoft 365 consumer subscriptions, Office licensed on-premises, and other office services. This segment also provides LinkedIn; and dynamics business solutions, including Dynamics 365, a set of intelligent, cloud-based applications across ERP, CRM, power apps, and power automate; and on-premises ERP and CRM applications. The Intelligent Cloud segment offers server products and cloud services, such as azure and other cloud services; SQL and windows server, visual studio, system center, and related client access licenses, as well as nuance and GitHub; and enterprise services including enterprise support services, industry solutions, and nuance professional services. The More Personal Computing segment offers Windows, including windows OEM licensing and other non-volume licensing of the Windows operating system; Windows commercial comprising volume licensing of the Windows operating system, windows cloud services, and other Windows commercial offerings; patent licensing; and windows Internet of Things; and devices, such as surface, HoloLens, and PC accessories. Additionally, this segment provides gaming, which includes Xbox hardware and content, and first- and third-party content; Xbox game pass and other subscriptions, cloud gaming, advertising, third-party disc royalties, and other cloud services; and search and news advertising, which includes Bing, Microsoft News and Edge, and third-party affiliates. The company sells its products through OEMs, distributors, and resellers; and directly through digital marketplaces, online, and retail stores. The company was founded in 1975 and is headquartered in Redmond, Washington.\u001b[0m\u001b[32;1m\u001b[1;3mRelevant Documents: 1\n",
      "Cited Documents: 1\n",
      "Answer: The stock market symbol for Microsoft is MSFT. \n",
      "\n",
      "Microsoft Corporation develops and supports software, services, devices and solutions worldwide. The company's segments include Productivity and Business Processes, Intelligent Cloud, and More Personal Computing. The Productivity and Business Processes segment offers office, exchange, SharePoint, Microsoft Teams, office 365 Security and Compliance, Microsoft viva, and Microsoft 365 copilot; and office consumer services, such as Microsoft 365 consumer subscriptions, Office licensed on-premises, and other office services. The Intelligent Cloud segment offers server products and cloud services, such as azure and other cloud services; SQL and windows server, visual studio, system center, and related client access licenses, as well as nuance and GitHub; and enterprise services including enterprise support services, industry solutions, and nuance professional services. The More Personal Computing segment offers Windows, including windows OEM licensing and other non-volume licensing of the Windows operating system; Windows commercial comprising volume licensing of the Windows operating system, windows cloud services, and other Windows commercial offerings; patent licensing; and windows Internet of Things; and devices, such as surface, HoloLens, and PC accessories. Additionally, this segment provides gaming, which includes Xbox hardware and content, and first- and third-party content; Xbox game pass and other subscriptions, cloud gaming, advertising, third-party disc royalties, and other cloud services; and search and news advertising, which includes Bing, Microsoft News and Edge, and third-party affiliates. The company sells its products through OEMs, distributors, and resellers; and directly through digital marketplaces, online, and retail stores. The company was founded in 1975 and is headquartered in Redmond, Washington.\n",
      "Grounded answer: The stock market symbol for Microsoft is <co: 1>MSFT</co: 1>. \n",
      "\n",
      "<co: 1>Microsoft Corporation</co: 1> <co: 1>develops and supports software, services, devices and solutions worldwide</co: 1>. The company's segments include <co: 1>Productivity and Business Processes</co: 1>, <co: 1>Intelligent Cloud</co: 1>, and <co: 1>More Personal Computing</co: 1>. The <co: 1>Productivity and Business Processes</co: 1> segment offers <co: 1>office, exchange, SharePoint, Microsoft Teams, office 365 Security and Compliance, Microsoft viva, and Microsoft 365 copilot</co: 1>; and <co: 1>office consumer services, such as Microsoft 365 consumer subscriptions, Office licensed on-premises, and other office services</co: 1>. The <co: 1>Intelligent Cloud</co: 1> segment offers <co: 1>server products and cloud services, such as azure and other cloud services; SQL and windows server, visual studio, system center, and related client access licenses, as well as nuance and GitHub; and enterprise services including enterprise support services, industry solutions, and nuance professional services</co: 1>. The <co: 1>More Personal Computing</co: 1> segment offers <co: 1>Windows, including windows OEM licensing and other non-volume licensing of the Windows operating system; Windows commercial comprising volume licensing of the Windows operating system, windows cloud services, and other Windows commercial offerings; patent licensing; and windows Internet of Things; and devices, such as surface, HoloLens, and PC accessories</co: 1>. Additionally, this segment provides <co: 1>gaming, which includes Xbox hardware and content, and first- and third-party content; Xbox game pass and other subscriptions, cloud gaming, advertising, third-party disc royalties, and other cloud services; and search and news advertising, which includes Bing, Microsoft News and Edge, and third-party affiliates</co: 1>. The company <co: 1>sells its products through OEMs, distributors, and resellers; and directly through digital marketplaces, online, and retail stores</co: 1>. The company was <co: 1>founded in 1975</co: 1> and is <co: 1>headquartered in Redmond, Washington</co: 1>.\u001b[0m\n",
      "\n",
      "\u001b[1m> Finished chain.\u001b[0m\n"
     ]
    },
    {
     "data": {
      "text/html": [
       "<p>The stock market symbol for Microsoft is MSFT. </p>\n",
       "<p>Microsoft Corporation develops and supports software, services, devices and solutions worldwide. The company's segments include Productivity and Business Processes, Intelligent Cloud, and More Personal Computing. The Productivity and Business Processes segment offers office, exchange, SharePoint, Microsoft Teams, office 365 Security and Compliance, Microsoft viva, and Microsoft 365 copilot; and office consumer services, such as Microsoft 365 consumer subscriptions, Office licensed on-premises, and other office services. The Intelligent Cloud segment offers server products and cloud services, such as azure and other cloud services; SQL and windows server, visual studio, system center, and related client access licenses, as well as nuance and GitHub; and enterprise services including enterprise support services, industry solutions, and nuance professional services. The More Personal Computing segment offers Windows, including windows OEM licensing and other non-volume licensing of the Windows operating system; Windows commercial comprising volume licensing of the Windows operating system, windows cloud services, and other Windows commercial offerings; patent licensing; and windows Internet of Things; and devices, such as surface, HoloLens, and PC accessories. Additionally, this segment provides gaming, which includes Xbox hardware and content, and first- and third-party content; Xbox game pass and other subscriptions, cloud gaming, advertising, third-party disc royalties, and other cloud services; and search and news advertising, which includes Bing, Microsoft News and Edge, and third-party affiliates. The company sells its products through OEMs, distributors, and resellers; and directly through digital marketplaces, online, and retail stores. The company was founded in 1975 and is headquartered in Redmond, Washington.</p>"
      ],
      "text/plain": [
       "<IPython.core.display.HTML object>"
      ]
     },
     "metadata": {},
     "output_type": "display_data"
    }
   ],
   "source": [
    "input = {\"input\": \"What is the stock market symbol for Microsoft? Give me a business summary for the company.\"}\n",
    "invoke_cohere_with_tools(input, tools)"
   ]
  },
  {
   "cell_type": "markdown",
   "metadata": {},
   "source": [
    "## Ticker History Tool"
   ]
  },
  {
   "cell_type": "code",
   "execution_count": 21,
   "metadata": {},
   "outputs": [
    {
     "name": "stdout",
     "output_type": "stream",
     "text": [
      "\n",
      "\n",
      "\u001b[1m> Entering new AgentExecutor chain...\u001b[0m\n",
      "\u001b[32;1m\u001b[1;3m\n",
      "I will search for the ticker history of BRK-B for the last 5 days.\n",
      "{'tool_name': 'yf_get_ticker_history', 'parameters': {'ticker_symbol': 'BRK-B', 'period': '5d'}}\n",
      "\u001b[0m\u001b[33;1m\u001b[1;3m<table border=\"1\" class=\"dataframe\">\n",
      "  <thead>\n",
      "    <tr style=\"text-align: right;\">\n",
      "      <th></th>\n",
      "      <th>Open</th>\n",
      "      <th>High</th>\n",
      "      <th>Low</th>\n",
      "      <th>Close</th>\n",
      "      <th>Volume</th>\n",
      "      <th>Dividends</th>\n",
      "      <th>Stock Splits</th>\n",
      "    </tr>\n",
      "    <tr>\n",
      "      <th>Date</th>\n",
      "      <th></th>\n",
      "      <th></th>\n",
      "      <th></th>\n",
      "      <th></th>\n",
      "      <th></th>\n",
      "      <th></th>\n",
      "      <th></th>\n",
      "    </tr>\n",
      "  </thead>\n",
      "  <tbody>\n",
      "    <tr>\n",
      "      <th>2024-05-29 00:00:00-04:00</th>\n",
      "      <td>403.000000</td>\n",
      "      <td>405.869995</td>\n",
      "      <td>401.579987</td>\n",
      "      <td>404.089996</td>\n",
      "      <td>3426800</td>\n",
      "      <td>0.0</td>\n",
      "      <td>0.0</td>\n",
      "    </tr>\n",
      "    <tr>\n",
      "      <th>2024-05-30 00:00:00-04:00</th>\n",
      "      <td>403.769989</td>\n",
      "      <td>409.040009</td>\n",
      "      <td>402.769989</td>\n",
      "      <td>408.609985</td>\n",
      "      <td>2905300</td>\n",
      "      <td>0.0</td>\n",
      "      <td>0.0</td>\n",
      "    </tr>\n",
      "    <tr>\n",
      "      <th>2024-05-31 00:00:00-04:00</th>\n",
      "      <td>408.089996</td>\n",
      "      <td>415.399994</td>\n",
      "      <td>406.880005</td>\n",
      "      <td>414.399994</td>\n",
      "      <td>5190000</td>\n",
      "      <td>0.0</td>\n",
      "      <td>0.0</td>\n",
      "    </tr>\n",
      "    <tr>\n",
      "      <th>2024-06-03 00:00:00-04:00</th>\n",
      "      <td>414.890015</td>\n",
      "      <td>416.720001</td>\n",
      "      <td>408.779999</td>\n",
      "      <td>414.790009</td>\n",
      "      <td>4903000</td>\n",
      "      <td>0.0</td>\n",
      "      <td>0.0</td>\n",
      "    </tr>\n",
      "    <tr>\n",
      "      <th>2024-06-04 00:00:00-04:00</th>\n",
      "      <td>414.890015</td>\n",
      "      <td>415.890015</td>\n",
      "      <td>406.440094</td>\n",
      "      <td>406.869995</td>\n",
      "      <td>1762127</td>\n",
      "      <td>0.0</td>\n",
      "      <td>0.0</td>\n",
      "    </tr>\n",
      "  </tbody>\n",
      "</table>\u001b[0m\u001b[32;1m\u001b[1;3mRelevant Documents: 0\n",
      "Cited Documents: 0\n",
      "Answer: BRK-B's performance over the last 5 days has been as follows:\n",
      "\n",
      "| Date | Open | High | Low | Close | Volume | Dividends | Stock Splits |\n",
      "|---|---|---|---|---|---|---|---|\n",
      "| 2024-05-29 | 403.00 | 405.87 | 401.58 | 404.09 | 3426800 | 0.0 | 0.0 |\n",
      "| 2024-05-30 | 403.77 | 409.04 | 402.77 | 408.61 | 2905300 | 0.0 | 0.0 |\n",
      "| 2024-05-31 | 408.09 | 415.40 | 406.88 | 414.40 | 5190000 | 0.0 | 0.0 |\n",
      "| 2024-06-03 | 414.89 | 416.72 | 408.78 | 414.79 | 4903000 | 0.0 | 0.0 |\n",
      "| 2024-06-04 | 414.89 | 415.89 | 406.44 | 406.87 | 1762127 | 0.0 | 0.0 |\n",
      "Grounded answer: BRK-B's performance over the last 5 days has been as follows:\n",
      "\n",
      "| <co: 0>Date</co: 0> | <co: 0>Open</co: 0> | <co: 0>High</co: 0> | <co: 0>Low</co: 0> | <co: 0>Close</co: 0> | <co: 0>Volume</co: 0> | <co: 0>Dividends</co: 0> | <co: 0>Stock Splits</co: 0> |\n",
      "|---|---|---|---|---|---|---|---|\n",
      "| <co: 0>2024-05-29</co: 0> | <co: 0>403.00</co: 0> | <co: 0>405.87</co: 0> | <co: 0>401.58</co: 0> | <co: 0>404.09</co: 0> | <co: 0>3426800</co: 0> | <co: 0>0.0</co: 0> | <co: 0>0.0</co: 0> |\n",
      "| <co: 0>2024-05-30</co: 0> | <co: 0>403.77</co: 0> | <co: 0>409.04</co: 0> | <co: 0>402.77</co: 0> | <co: 0>408.61</co: 0> | <co: 0>2905300</co: 0> | <co: 0>0.0</co: 0> | <co: 0>0.0</co: 0> |\n",
      "| <co: 0>2024-05-31</co: 0> | <co: 0>408.09</co: 0> | <co: 0>415.40</co: 0> | <co: 0>406.88</co: 0> | <co: 0>414.40</co: 0> | <co: 0>5190000</co: 0> | <co: 0>0.0</co: 0> | <co: 0>0.0</co: 0> |\n",
      "| <co: 0>2024-06-03</co: 0> | <co: 0>414.89</co: 0> | <co: 0>416.72</co: 0> | <co: 0>408.78</co: 0> | <co: 0>414.79</co: 0> | <co: 0>4903000</co: 0> | <co: 0>0.0</co: 0> | <co: 0>0.0</co: 0> |\n",
      "| <co: 0>2024-06-04</co: 0> | <co: 0>414.89</co: 0> | <co: 0>415.89</co: 0> | <co: 0>406.44</co: 0> | <co: 0>406.87</co: 0> | <co: 0>1762127</co: 0> | <co: 0>0.0</co: 0> | <co: 0>0.0</co: 0> |\u001b[0m\n",
      "\n",
      "\u001b[1m> Finished chain.\u001b[0m\n"
     ]
    },
    {
     "data": {
      "text/html": [
       "<p>BRK-B's performance over the last 5 days has been as follows:</p>\n",
       "<p>| Date | Open | High | Low | Close | Volume | Dividends | Stock Splits |\n",
       "|---|---|---|---|---|---|---|---|\n",
       "| 2024-05-29 | 403.00 | 405.87 | 401.58 | 404.09 | 3426800 | 0.0 | 0.0 |\n",
       "| 2024-05-30 | 403.77 | 409.04 | 402.77 | 408.61 | 2905300 | 0.0 | 0.0 |\n",
       "| 2024-05-31 | 408.09 | 415.40 | 406.88 | 414.40 | 5190000 | 0.0 | 0.0 |\n",
       "| 2024-06-03 | 414.89 | 416.72 | 408.78 | 414.79 | 4903000 | 0.0 | 0.0 |\n",
       "| 2024-06-04 | 414.89 | 415.89 | 406.44 | 406.87 | 1762127 | 0.0 | 0.0 |</p>"
      ],
      "text/plain": [
       "<IPython.core.display.HTML object>"
      ]
     },
     "metadata": {},
     "output_type": "display_data"
    },
    {
     "data": {
      "text/html": [
       "<table border=\"1\" class=\"dataframe\">\n",
       "  <thead>\n",
       "    <tr style=\"text-align: right;\">\n",
       "      <th></th>\n",
       "      <th>Open</th>\n",
       "      <th>High</th>\n",
       "      <th>Low</th>\n",
       "      <th>Close</th>\n",
       "      <th>Volume</th>\n",
       "      <th>Dividends</th>\n",
       "      <th>Stock Splits</th>\n",
       "    </tr>\n",
       "    <tr>\n",
       "      <th>Date</th>\n",
       "      <th></th>\n",
       "      <th></th>\n",
       "      <th></th>\n",
       "      <th></th>\n",
       "      <th></th>\n",
       "      <th></th>\n",
       "      <th></th>\n",
       "    </tr>\n",
       "  </thead>\n",
       "  <tbody>\n",
       "    <tr>\n",
       "      <th>2024-05-29 00:00:00-04:00</th>\n",
       "      <td>403.000000</td>\n",
       "      <td>405.869995</td>\n",
       "      <td>401.579987</td>\n",
       "      <td>404.089996</td>\n",
       "      <td>3426800</td>\n",
       "      <td>0.0</td>\n",
       "      <td>0.0</td>\n",
       "    </tr>\n",
       "    <tr>\n",
       "      <th>2024-05-30 00:00:00-04:00</th>\n",
       "      <td>403.769989</td>\n",
       "      <td>409.040009</td>\n",
       "      <td>402.769989</td>\n",
       "      <td>408.609985</td>\n",
       "      <td>2905300</td>\n",
       "      <td>0.0</td>\n",
       "      <td>0.0</td>\n",
       "    </tr>\n",
       "    <tr>\n",
       "      <th>2024-05-31 00:00:00-04:00</th>\n",
       "      <td>408.089996</td>\n",
       "      <td>415.399994</td>\n",
       "      <td>406.880005</td>\n",
       "      <td>414.399994</td>\n",
       "      <td>5190000</td>\n",
       "      <td>0.0</td>\n",
       "      <td>0.0</td>\n",
       "    </tr>\n",
       "    <tr>\n",
       "      <th>2024-06-03 00:00:00-04:00</th>\n",
       "      <td>414.890015</td>\n",
       "      <td>416.720001</td>\n",
       "      <td>408.779999</td>\n",
       "      <td>414.790009</td>\n",
       "      <td>4903000</td>\n",
       "      <td>0.0</td>\n",
       "      <td>0.0</td>\n",
       "    </tr>\n",
       "    <tr>\n",
       "      <th>2024-06-04 00:00:00-04:00</th>\n",
       "      <td>414.890015</td>\n",
       "      <td>415.890015</td>\n",
       "      <td>406.440094</td>\n",
       "      <td>406.869995</td>\n",
       "      <td>1762127</td>\n",
       "      <td>0.0</td>\n",
       "      <td>0.0</td>\n",
       "    </tr>\n",
       "  </tbody>\n",
       "</table>"
      ],
      "text/plain": [
       "<IPython.core.display.HTML object>"
      ]
     },
     "metadata": {},
     "output_type": "display_data"
    }
   ],
   "source": [
    "input = {\"input\": \"How did BRK-B perform the last 5d?\"}\n",
    "invoke_cohere_with_tools(input, tools)"
   ]
  },
  {
   "cell_type": "markdown",
   "metadata": {},
   "source": [
    "## Ticker Info Tool"
   ]
  },
  {
   "cell_type": "code",
   "execution_count": 12,
   "metadata": {},
   "outputs": [
    {
     "name": "stdout",
     "output_type": "stream",
     "text": [
      "\n",
      "\n",
      "\u001b[1m> Entering new AgentExecutor chain...\u001b[0m\n",
      "\u001b[32;1m\u001b[1;3m\n",
      "I will use the 'yf_get_ticker_info' tool to find the information requested by the user.\n",
      "{'tool_name': 'yf_get_ticker_info', 'parameters': {'ticker_symbol': 'META'}}\n",
      "\u001b[0m\u001b[36;1m\u001b[1;3m{'address1': '1 Meta Way', 'city': 'Menlo Park', 'state': 'CA', 'zip': '94025', 'country': 'United States', 'phone': '650 543 4800', 'website': 'https://investor.fb.com', 'industry': 'Internet Content & Information', 'industryKey': 'internet-content-information', 'industryDisp': 'Internet Content & Information', 'sector': 'Communication Services', 'sectorKey': 'communication-services', 'sectorDisp': 'Communication Services', 'longBusinessSummary': 'Meta Platforms, Inc. engages in the development of products that enable people to connect and share with friends and family through mobile devices, personal computers, virtual reality headsets, and wearables worldwide. It operates in two segments, Family of Apps and Reality Labs. The Family of Apps segment offers Facebook, which enables people to share, discuss, discover, and connect with interests; Instagram, a community for sharing photos, videos, and private messages, as well as feed, stories, reels, video, live, and shops; Messenger, a messaging application for people to connect with friends, family, communities, and businesses across platforms and devices through text, audio, and video calls; and WhatsApp, a messaging application that is used by people and businesses to communicate and transact privately. The Reality Labs segment provides augmented and virtual reality related products comprising consumer hardware, software, and content that help people feel connected, anytime, and anywhere. The company was formerly known as Facebook, Inc. and changed its name to Meta Platforms, Inc. in October 2021. The company was incorporated in 2004 and is headquartered in Menlo Park, California', 'fullTimeEmployees': 69329, 'companyOfficers': [{'maxAge': 1, 'name': 'Mr. Mark Elliot Zuckerberg', 'age': 39, 'title': 'Founder, Chairman & CEO', 'yearBorn': 1984, 'fiscalYear': 2023, 'totalPay': 24399968, 'exercisedValue': 0, 'unexercisedValue': 0}, {'maxAge': 1, 'name': 'Ms. Susan J. S. Li', 'age': 37, 'title': 'Chief Financial Officer', 'yearBorn': 1986, 'fiscalYear': 2023, 'totalPay': 1963161, 'exercisedValue': 0, 'unexercisedValue': 0}, {'maxAge': 1, 'name': 'Mr. Javier  Olivan', 'age': 46, 'title': 'Chief Operating Officer', 'yearBorn': 1977, 'fiscalYear': 2023, 'totalPay': 4065442, 'exercisedValue': 0, 'unexercisedValue': 0}, {'maxAge': 1, 'name': 'Mr. Andrew  Bosworth', 'age': 41, 'title': 'Chief Technology Officer', 'yearBorn': 1982, 'fiscalYear': 2023, 'totalPay': 2000988, 'exercisedValue': 0, 'unexercisedValue': 0}, {'maxAge': 1, 'name': 'Mr. Christopher K. Cox', 'age': 40, 'title': 'Chief Product Officer', 'yearBorn': 1983, 'fiscalYear': 2023, 'totalPay': 2013913, 'exercisedValue': 0, 'unexercisedValue': 0}, {'maxAge': 1, 'name': 'Mr. Aaron A. Anderson', 'title': 'Chief Accounting Officer', 'fiscalYear': 2023, 'exercisedValue': 0, 'unexercisedValue': 0}, {'maxAge': 1, 'name': 'Mr. Atish  Banerjea', 'age': 57, 'title': 'Chief Information Officer', 'yearBorn': 1966, 'fiscalYear': 2023, 'exercisedValue': 0, 'unexercisedValue': 0}, {'maxAge': 1, 'name': 'Ms. Deborah T. Crawford', 'title': 'Vice President of Investor Relations', 'fiscalYear': 2023, 'exercisedValue': 0, 'unexercisedValue': 0}, {'maxAge': 1, 'name': 'Ms. Jennifer G. Newstead', 'age': 53, 'title': 'Chief Legal Officer', 'yearBorn': 1970, 'fiscalYear': 2023, 'totalPay': 3079624, 'exercisedValue': 0, 'unexercisedValue': 0}, {'maxAge': 1, 'name': 'Mr. Henry T. A. Moniz', 'age': 58, 'title': 'Chief Compliance Officer', 'yearBorn': 1965, 'fiscalYear': 2023, 'exercisedValue': 0, 'unexercisedValue': 0}], 'auditRisk': 9, 'boardRisk': 10, 'compensationRisk': 10, 'shareHolderRightsRisk': 10, 'overallRisk': 10, 'governanceEpochDate': 1717200000, 'compensationAsOfEpochDate': 1703980800, 'maxAge': 86400, 'priceHint': 2, 'previousClose': 477.49, 'open': 477.0, 'dayLow': 473.2322, 'dayHigh': 478.89, 'regularMarketPreviousClose': 477.49, 'regularMarketOpen': 477.0, 'regularMarketDayLow': 473.2322, 'regularMarketDayHigh': 478.89, 'dividendRate': 2.0, 'dividendYield': 0.0042, 'exDividendDate': 1718323200, 'payoutRatio': 0.028800001, 'beta': 1.208, 'trailingPE': 27.476381, 'forwardPE': 20.604319, 'volume': 6943737, 'regularMarketVolume': 6943737, 'averageVolume': 15452073, 'averageVolume10days': 11087610, 'averageDailyVolume10Day': 11087610, 'bid': 476.76, 'ask': 477.08, 'bidSize': 100, 'askSize': 200, 'marketCap': 1211168194560, 'fiftyTwoWeekLow': 258.88, 'fiftyTwoWeekHigh': 531.49, 'priceToSalesTrailing12Months': 8.4868, 'fiftyDayAverage': 480.8866, 'twoHundredDayAverage': 393.6079, 'trailingAnnualDividendRate': 0.5, 'trailingAnnualDividendYield': 0.0010471423, 'currency': 'USD', 'enterpriseValue': 1189414436864, 'profitMargins': 0.32062998, 'floatShares': 2186746126, 'sharesOutstanding': 2191450112, 'sharesShort': 29721686, 'sharesShortPriorMonth': 27026387, 'sharesShortPreviousMonthDate': 1713139200, 'dateShortInterest': 1715731200, 'sharesPercentSharesOut': 0.0117, 'heldPercentInsiders': 0.00183, 'heldPercentInstitutions': 0.79175, 'shortRatio': 1.51, 'shortPercentOfFloat': 0.0136, 'impliedSharesOutstanding': 2539190016, 'bookValue': 58.939, 'priceToBook': 8.092943, 'lastFiscalYearEnd': 1703980800, 'nextFiscalYearEnd': 1735603200, 'mostRecentQuarter': 1711843200, 'earningsQuarterlyGrowth': 1.167, 'netIncomeToCommon': 45758001152, 'trailingEps': 17.36, 'forwardEps': 23.15, 'pegRatio': 0.79, 'enterpriseToRevenue': 8.334, 'enterpriseToEbitda': 17.377, '52WeekChange': 0.80952203, 'SandP52WeekChange': 0.23990989, 'lastDividendValue': 0.5, 'lastDividendDate': 1708473600, 'exchange': 'NMS', 'quoteType': 'EQUITY', 'symbol': 'META', 'underlyingSymbol': 'META', 'shortName': 'Meta Platforms, Inc.', 'longName': 'Meta Platforms, Inc.', 'firstTradeDateEpochUtc': 1337347800, 'timeZoneFullName': 'America/New_York', 'timeZoneShortName': 'EDT', 'uuid': 'e59f1c4f-b1aa-3d70-a8c3-eb59ff3e461b', 'messageBoardId': 'finmb_20765463', 'gmtOffSetMilliseconds': -14400000, 'currentPrice': 476.99, 'targetHighPrice': 593.0, 'targetLowPrice': 260.0, 'targetMeanPrice': 512.85, 'targetMedianPrice': 520.0, 'recommendationMean': 1.8, 'recommendationKey': 'buy', 'numberOfAnalystOpinions': 51, 'totalCash': 58119999488, 'totalCashPerShare': 22.913, 'ebitda': 68446998528, 'totalDebt': 37632999424, 'quickRatio': 2.546, 'currentRatio': 2.681, 'totalRevenue': 142711996416, 'debtToEquity': 25.168, 'revenuePerShare': 55.671, 'returnOnAssets': 0.17312999, 'returnOnEquity': 0.33361, 'freeCashflow': 35132125184, 'operatingCashflow': 76360998912, 'earningsGrowth': 1.141, 'revenueGrowth': 0.273, 'grossMargins': 0.81496, 'ebitdaMargins': 0.47962, 'operatingMargins': 0.38579, 'financialCurrency': 'USD', 'trailingPegRatio': 1.1026}\u001b[0m\u001b[32;1m\u001b[1;3mRelevant Documents: 0\n",
      "Cited Documents: 0\n",
      "Answer: Here is a list of the 25 most important financial information about META:\n",
      "\n",
      "- ^ Previous Close: 477.49\n",
      "- ^ Open: 477.0\n",
      "- ^ Day's Range: 473.2322 - 478.89\n",
      "- ^ 52 Week Range: 258.88 - 531.49\n",
      "- ^ Volume: 6,943,737\n",
      "- ^ Average Volume: 15,452,073\n",
      "- ^ Market Capitalisation: $1,211,168,194,560\n",
      "- ^ Beta: 1.208\n",
      "- ^ PE Ratio: 27.476381\n",
      "- ^ Forward PE: 20.604319\n",
      "- ^ EPS: 17.36\n",
      "- ^ Dividend: 2.0\n",
      "- ^ Yield: 0.0042\n",
      "- ^ Shares Outstanding: 2,191,450,112\n",
      "- ^ Shares in Float: 2,186,746,126\n",
      "- ^ % Held by Insiders: 0.00183\n",
      "- ^ % Held by Institutions: 0.79175\n",
      "- ^ Short Ratio: 1.51\n",
      "- ^ Short % of Float: 0.0136\n",
      "- ^ Revenue: $142,711,996,416\n",
      "- ^ Revenue Per Share: 55.671\n",
      "- ^ Gross Profit: $116,661,997,312\n",
      "- ^ EBITDA: $68,446,998,528\n",
      "- ^ Net Income: $45,758,001,152\n",
      "- ^ Operating Cash Flow: $76,360,998,912\n",
      "- ^ Free Cash Flow: $35,132,125,184\n",
      "- ^ Book Value: 58.939\n",
      "Grounded answer: Here is a list of the 25 most important financial information about META:\n",
      "\n",
      "- ^ <co: 0>Previous Close: 477.49</co: 0>\n",
      "- ^ <co: 0>Open: 477.0</co: 0>\n",
      "- ^ <co: 0>Day's Range: 473.2322 - 478.89</co: 0>\n",
      "- ^ <co: 0>52 Week Range: 258.88 - 531.49</co: 0>\n",
      "- ^ <co: 0>Volume: 6,943,737</co: 0>\n",
      "- ^ <co: 0>Average Volume: 15,452,073</co: 0>\n",
      "- ^ <co: 0>Market Capitalisation: $1,211,168,194,560</co: 0>\n",
      "- ^ <co: 0>Beta: 1.208</co: 0>\n",
      "- ^ <co: 0>PE Ratio: 27.476381</co: 0>\n",
      "- ^ <co: 0>Forward PE: 20.604319</co: 0>\n",
      "- ^ <co: 0>EPS: 17.36</co: 0>\n",
      "- ^ <co: 0>Dividend: 2.0</co: 0>\n",
      "- ^ <co: 0>Yield: 0.0042</co: 0>\n",
      "- ^ <co: 0>Shares Outstanding: 2,191,450,112</co: 0>\n",
      "- ^ <co: 0>Shares in Float: 2,186,746,126</co: 0>\n",
      "- ^ <co: 0>% Held by Insiders: 0.00183</co: 0>\n",
      "- ^ <co: 0>% Held by Institutions: 0.79175</co: 0>\n",
      "- ^ <co: 0>Short Ratio: 1.51</co: 0>\n",
      "- ^ <co: 0>Short % of Float: 0.0136</co: 0>\n",
      "- ^ <co: 0>Revenue: $142,711,996,416</co: 0>\n",
      "- ^ <co: 0>Revenue Per Share: 55.671</co: 0>\n",
      "- ^ <co: 0>Gross Profit: $116,661,997,312</co: 0>\n",
      "- ^ <co: 0>EBITDA: $68,446,998,528</co: 0>\n",
      "- ^ <co: 0>Net Income: $45,758,001,152</co: 0>\n",
      "- ^ <co: 0>Operating Cash Flow: $76,360,998,912</co: 0>\n",
      "- ^ <co: 0>Free Cash Flow: $35,132,125,184</co: 0>\n",
      "- ^ <co: 0>Book Value: 58.939</co: 0>\u001b[0m\n",
      "\n",
      "\u001b[1m> Finished chain.\u001b[0m\n"
     ]
    },
    {
     "data": {
      "text/html": [
       "<p>Here is a list of the 25 most important financial information about META:</p>\n",
       "<ul>\n",
       "<li>^ Previous Close: 477.49</li>\n",
       "<li>^ Open: 477.0</li>\n",
       "<li>^ Day's Range: 473.2322 - 478.89</li>\n",
       "<li>^ 52 Week Range: 258.88 - 531.49</li>\n",
       "<li>^ Volume: 6,943,737</li>\n",
       "<li>^ Average Volume: 15,452,073</li>\n",
       "<li>^ Market Capitalisation: $1,211,168,194,560</li>\n",
       "<li>^ Beta: 1.208</li>\n",
       "<li>^ PE Ratio: 27.476381</li>\n",
       "<li>^ Forward PE: 20.604319</li>\n",
       "<li>^ EPS: 17.36</li>\n",
       "<li>^ Dividend: 2.0</li>\n",
       "<li>^ Yield: 0.0042</li>\n",
       "<li>^ Shares Outstanding: 2,191,450,112</li>\n",
       "<li>^ Shares in Float: 2,186,746,126</li>\n",
       "<li>^ % Held by Insiders: 0.00183</li>\n",
       "<li>^ % Held by Institutions: 0.79175</li>\n",
       "<li>^ Short Ratio: 1.51</li>\n",
       "<li>^ Short % of Float: 0.0136</li>\n",
       "<li>^ Revenue: $142,711,996,416</li>\n",
       "<li>^ Revenue Per Share: 55.671</li>\n",
       "<li>^ Gross Profit: $116,661,997,312</li>\n",
       "<li>^ EBITDA: $68,446,998,528</li>\n",
       "<li>^ Net Income: $45,758,001,152</li>\n",
       "<li>^ Operating Cash Flow: $76,360,998,912</li>\n",
       "<li>^ Free Cash Flow: $35,132,125,184</li>\n",
       "<li>^ Book Value: 58.939</li>\n",
       "</ul>"
      ],
      "text/plain": [
       "<IPython.core.display.HTML object>"
      ]
     },
     "metadata": {},
     "output_type": "display_data"
    }
   ],
   "source": [
    "prompt_template = \"I need detailed information about {ticker_symbol}. Produce a key value list for the 25 most important financial informations using CRLF before each point.\"\n",
    "tools = [get_ticker_info_tool()]\n",
    "input = {\"ticker_symbol\": \"META\"}\n",
    "\n",
    "invoke_cohere_with_tools(input, tools, prompt_template)"
   ]
  },
  {
   "cell_type": "markdown",
   "metadata": {},
   "source": [
    "## Alpha Vantage Tool"
   ]
  },
  {
   "cell_type": "code",
   "execution_count": 16,
   "metadata": {},
   "outputs": [
    {
     "name": "stdout",
     "output_type": "stream",
     "text": [
      "\n",
      "\n",
      "\u001b[1m> Entering new AgentExecutor chain...\u001b[0m\n",
      "\u001b[32;1m\u001b[1;3m\n",
      "I will use the currency conversion tool to find out how much one USD is in EUR.\n",
      "{'tool_name': 'av_get_exchange_rate', 'parameters': {'from_currency': 'USD', 'to_currency': 'EUR'}}\n",
      "\u001b[0m\u001b[36;1m\u001b[1;3m{'Realtime Currency Exchange Rate': {'1. From_Currency Code': 'USD', '2. From_Currency Name': 'United States Dollar', '3. To_Currency Code': 'EUR', '4. To_Currency Name': 'Euro', '5. Exchange Rate': '0.91900000', '6. Last Refreshed': '2024-06-05 04:32:35', '7. Time Zone': 'UTC', '8. Bid Price': '0.91890000', '9. Ask Price': '0.91900000'}}\u001b[0m\n",
      "\u001b[32;1m\u001b[1;3m\u001b[0m\n",
      "\n",
      "\u001b[1m> Finished chain.\u001b[0m\n",
      "{'Realtime Currency Exchange Rate': {'1. From_Currency Code': 'USD', '2. From_Currency Name': 'United States Dollar', '3. To_Currency Code': 'EUR', '4. To_Currency Name': 'Euro', '5. Exchange Rate': '0.91900000', '6. Last Refreshed': '2024-06-05 04:32:35', '7. Time Zone': 'UTC', '8. Bid Price': '0.91890000', '9. Ask Price': '0.91900000'}}\n"
     ]
    }
   ],
   "source": [
    "tools = [\n",
    "    # get_search_symbol_tool(),\n",
    "    get_exchange_rate_tool(),\n",
    "    # get_time_series_daily_tool(),\n",
    "    # get_time_series_weekly_tool(),\n",
    "    # get_market_news_sentimen_tool(),\n",
    "    # get_top_gainers_losers_tool(),\n",
    "]\n",
    "# alpha_vantage = AlphaVantageAPIWrapper()\n",
    "# alpha_vantage._get_exchange_rate(\"USD\", \"JPY\")\n",
    "# alpha_vantage._get_time_series_daily(\"MSFT\")\n",
    "# alpha_vantage._get_time_series_weekly(\"IBM\")\n",
    "# alpha_vantage.search_symbols(\"American Superconductor\")\n",
    "# alpha_vantage._get_market_news_sentiment(\"Microsoft\")\n",
    "# alpha_vantage._get_top_gainers_losers()\n",
    "# response = agent_executor.invoke(\n",
    "#     {\"input\": \"What is the symbol for American Superconductor?\"}\n",
    "# )\n",
    "input = {\"input\": \"How much is one USD in EUR?\"}\n",
    "invoke_cohere_with_tools(input, tools, no_markdown= True)\n",
    "# response = agent_executor.invoke({\"input\": \"Who are the gainers and losers at the stock exchange?\"})\n",
    "# response = agent_executor.invoke({\"input\": \"How is Microsoft performing historically?\"})\n",
    "# response = agent_executor.invoke({\"input\": \"How did Apple perform the last time?\"})\n",
    "# response = agent_executor.invoke({\"input\": \"What is in the news about Nvidia?\"})"
   ]
  },
  {
   "cell_type": "markdown",
   "metadata": {},
   "source": [
    "## Polygon Toolkit"
   ]
  },
  {
   "cell_type": "markdown",
   "metadata": {},
   "source": [
    "### Polygon Tools"
   ]
  },
  {
   "cell_type": "code",
   "execution_count": 61,
   "metadata": {},
   "outputs": [
    {
     "data": {
      "text/html": [
       "<h1>polygon_aggregates</h1>\n",
       "\n",
       "<h2>Description</h2>\n",
       "<p>A wrapper around Polygon's Aggregates API. This tool is useful for fetching aggregate bars (stock prices) for a ticker. Input should be the ticker, date range, timespan, and timespan multiplier that you want to get the aggregate bars for.</p>\n",
       "<h2>Schema</h2>\n",
       "<p>{'title': 'PolygonAggregatesSchema', 'description': 'Input for PolygonAggregates.', 'type': 'object', 'properties': {'ticker': {'title': 'Ticker', 'description': 'The ticker symbol to fetch aggregates for.', 'type': 'string'}, 'timespan': {'title': 'Timespan', 'description': \"The size of the time window. Possible values are: second, minute, hour, day, week, month, quarter, year. Default is 'day'\", 'type': 'string'}, 'timespan_multiplier': {'title': 'Timespan Multiplier', 'description': \"The number of timespans to aggregate. For example, if timespan is 'day' and timespan_multiplier is 1, the result will be daily bars. If timespan is 'day' and timespan_multiplier is 5, the result will be weekly bars.  Default is 1.\", 'type': 'integer'}, 'from_date': {'title': 'From Date', 'description': 'The start of the aggregate time window. Either a date with the format YYYY-MM-DD or a millisecond timestamp.', 'type': 'string'}, 'to_date': {'title': 'To Date', 'description': 'The end of the aggregate time window. Either a date with the format YYYY-MM-DD or a millisecond timestamp.', 'type': 'string'}}, 'required': ['ticker', 'timespan', 'timespan_multiplier', 'from_date', 'to_date']}</p>"
      ],
      "text/plain": [
       "<IPython.core.display.HTML object>"
      ]
     },
     "metadata": {},
     "output_type": "display_data"
    },
    {
     "data": {
      "text/html": [
       "<h1>polygon_last_quote</h1>\n",
       "\n",
       "<h2>Description</h2>\n",
       "<p>A wrapper around Polygon's Last Quote API. This tool is useful for fetching the latest price of a stock. Input should be the ticker that you want to query the last price quote for.</p>\n",
       "<h2>Schema</h2>\n",
       "<p>{'title': 'Inputs', 'description': \"Inputs for Polygon's Last Quote API\", 'type': 'object', 'properties': {'query': {'title': 'Query', 'type': 'string'}}, 'required': ['query']}</p>"
      ],
      "text/plain": [
       "<IPython.core.display.HTML object>"
      ]
     },
     "metadata": {},
     "output_type": "display_data"
    },
    {
     "data": {
      "text/html": [
       "<h1>polygon_ticker_news</h1>\n",
       "\n",
       "<h2>Description</h2>\n",
       "<p>A wrapper around Polygon's Ticker News API. This tool is useful for fetching the latest news for a stock. Input should be the ticker that you want to get the latest news for.</p>\n",
       "<h2>Schema</h2>\n",
       "<p>{'title': 'Inputs', 'description': \"Inputs for Polygon's Ticker News API\", 'type': 'object', 'properties': {'query': {'title': 'Query', 'type': 'string'}}, 'required': ['query']}</p>"
      ],
      "text/plain": [
       "<IPython.core.display.HTML object>"
      ]
     },
     "metadata": {},
     "output_type": "display_data"
    },
    {
     "data": {
      "text/html": [
       "<h1>polygon_financials</h1>\n",
       "\n",
       "<h2>Description</h2>\n",
       "<p>A wrapper around Polygon's Stock Financials API. This tool is useful for fetching fundamental financials from balance sheets, income statements, and cash flow statements for a stock ticker. The input should be the ticker that you want to get the latest fundamental financial data for.</p>\n",
       "<h2>Schema</h2>\n",
       "<p>{'title': 'Inputs', 'description': \"Inputs for Polygon's Financials API\", 'type': 'object', 'properties': {'query': {'title': 'Query', 'type': 'string'}}, 'required': ['query']}</p>"
      ],
      "text/plain": [
       "<IPython.core.display.HTML object>"
      ]
     },
     "metadata": {},
     "output_type": "display_data"
    }
   ],
   "source": [
    "polygon = PolygonAPIWrapper()\n",
    "toolkit = PolygonToolkit.from_polygon_api_wrapper(polygon)\n",
    "tools = toolkit.get_tools()\n",
    "for tool in tools:\n",
    "    schema = str(tool.args_schema.schema())\n",
    "    tool_documentation = f\"<h1>{tool.name}</h1>\\n\\n<h2>Description</h2>{tool.description}\\n\\n<h2>Schema</h2>{schema}\"\n",
    "    display(HTML(markdown.markdown(tool_documentation)))"
   ]
  },
  {
   "cell_type": "markdown",
   "metadata": {},
   "source": [
    "### Aggregates"
   ]
  },
  {
   "cell_type": "code",
   "execution_count": null,
   "metadata": {},
   "outputs": [],
   "source": [
    "# Poloygon is called with the correct arguments but this produces an API error\n",
    "# input = {\"input\": \"How did MSFT perform the last 5 days?\"}\n",
    "# invoke_cohere_with_tools(tools=tools,input=input)"
   ]
  },
  {
   "cell_type": "code",
   "execution_count": 83,
   "metadata": {},
   "outputs": [
    {
     "name": "stdout",
     "output_type": "stream",
     "text": [
      "[{\"v\": 73450582.0, \"vw\": 179.0322, \"o\": 179.55, \"c\": 179.66, \"h\": 180.53, \"l\": 177.38, \"t\": 1709269200000, \"n\": 911077}, {\"v\": 81505451.0, \"vw\": 174.8938, \"o\": 176.15, \"c\": 175.1, \"h\": 176.9, \"l\": 173.79, \"t\": 1709528400000, \"n\": 1167166}, {\"v\": 94702355.0, \"vw\": 170.3234, \"o\": 170.76, \"c\": 170.12, \"h\": 172.04, \"l\": 169.62, \"t\": 1709614800000, \"n\": 1108820}, {\"v\": 68568907.0, \"vw\": 169.5506, \"o\": 171.06, \"c\": 169.12, \"h\": 171.24, \"l\": 168.68, \"t\": 1709701200000, \"n\": 896297}, {\"v\": 71763761.0, \"vw\": 169.3619, \"o\": 169.15, \"c\": 169, \"h\": 170.73, \"l\": 168.49, \"t\": 1709787600000, \"n\": 825405}, {\"v\": 76267041.0, \"vw\": 171.5322, \"o\": 169, \"c\": 170.73, \"h\": 173.7, \"l\": 168.94, \"t\": 1709874000000, \"n\": 925213}]\n"
     ]
    }
   ],
   "source": [
    "from langchain_community.tools.polygon.aggregates import PolygonAggregates\n",
    "from langchain_community.tools.polygon.financials import PolygonFinancials\n",
    "from langchain_community.tools.polygon.last_quote import PolygonLastQuote\n",
    "from langchain_community.tools.polygon.ticker_news import PolygonTickerNews\n",
    "from langchain_community.utilities.polygon import PolygonAPIWrapper\n",
    "from langchain_community.tools.polygon.aggregates import PolygonAggregatesSchema\n",
    "\n",
    "api_wrapper = PolygonAPIWrapper()\n",
    "ticker = \"AAPL\"\n",
    "\n",
    "# Define param\n",
    "params = PolygonAggregatesSchema(\n",
    "    ticker=ticker,\n",
    "    timespan=\"day\",\n",
    "    timespan_multiplier=1,\n",
    "    from_date=\"2024-03-01\",\n",
    "    to_date=\"2024-03-08\",\n",
    ")\n",
    "# Get aggregates for ticker\n",
    "aggregates_tool = PolygonAggregates(api_wrapper=api_wrapper)\n",
    "aggregates = aggregates_tool.run(tool_input=params.dict())\n",
    "print(aggregates)"
   ]
  },
  {
   "cell_type": "markdown",
   "metadata": {},
   "source": [
    "### Last Quote"
   ]
  },
  {
   "cell_type": "code",
   "execution_count": null,
   "metadata": {},
   "outputs": [],
   "source": [
    "# Works only with premium subscription at Polygon\n",
    "# input = {\"input\": \"What is the end of day price for MSFT?\"}\n",
    "# invoke_cohere_with_tools(tools=tools,input=input)"
   ]
  },
  {
   "cell_type": "markdown",
   "metadata": {},
   "source": [
    "### Ticker News Sentiment"
   ]
  },
  {
   "cell_type": "code",
   "execution_count": 87,
   "metadata": {},
   "outputs": [
    {
     "name": "stdout",
     "output_type": "stream",
     "text": [
      "\n",
      "\n",
      "\u001b[1m> Entering new AgentExecutor chain...\u001b[0m\n",
      "\u001b[32;1m\u001b[1;3m\n",
      "I will search for news about VST using the Polygon tool and then write an answer based on the results.\n",
      "{'tool_name': 'polygon_ticker_news', 'parameters': {'query': 'VST'}}\n",
      "\u001b[0m\u001b[38;5;200m\u001b[1;3m[{\"id\": \"IGxsgluwcZX830dhjwe_rrmoIf9CugfuNPdKPMn5FZ0\", \"publisher\": {\"name\": \"Zacks Investment Research\", \"homepage_url\": \"https://www.zacks.com/\", \"logo_url\": \"https://s3.polygon.io/public/assets/news/logos/zacks.png\", \"favicon_url\": \"https://s3.polygon.io/public/assets/news/favicons/zacks.ico\"}, \"title\": \"AI Bull Market: 5 Lessons to Learn\", \"author\": \"Andrew Rocco\", \"published_utc\": \"2024-06-04T12:40:00Z\", \"article_url\": \"https://www.zacks.com/commentary/2282962/ai-bull-market-5-lessons-to-learn\", \"tickers\": [\"MSFT\", \"FSLR\", \"NVDA\", \"ARM\", \"CCJ\", \"QQQ\", \"AI\", \"SMCI\", \"VST\", \"META\"], \"amp_url\": \"https://www.zacks.com/amp/commentary/2282962/ai-bull-market-5-lessons-to-learn\", \"image_url\": \"https://staticx-tuner.zacks.com/images/articles/main/3f/61677.jpg\", \"description\": \"Each moment on Wall Street is unique. However, history tends to rhyme when it comes to mega-trends. Strategist Andrew Rocco unveils some lessons from the AI boom\"}, {\"id\": \"mc30nn-0GjwCve7WK-OJ4FSLz349D1-CvoGzcazIKFg\", \"publisher\": {\"name\": \"Zacks Investment Research\", \"homepage_url\": \"https://www.zacks.com/\", \"logo_url\": \"https://s3.polygon.io/public/assets/news/logos/zacks.png\", \"favicon_url\": \"https://s3.polygon.io/public/assets/news/favicons/zacks.ico\"}, \"title\": \"5 Top Best Performing S&P 500 ETF Stocks of May\", \"author\": \"Sweta Killa\", \"published_utc\": \"2024-06-03T15:00:00Z\", \"article_url\": \"https://www.zacks.com/stock/news/2282808/5-top-best-performing-sp-500-etf-stocks-of-may\", \"tickers\": [\"NTAP\", \"NVDA\", \"GEN\", \"SPY\", \"VST\", \"BBWI\"], \"amp_url\": \"https://www.zacks.com/amp/stock/news/2282808/5-top-best-performing-sp-500-etf-stocks-of-may\", \"image_url\": \"https://staticx-tuner.zacks.com/images/default_article_images/default99.jpg\", \"description\": \"The S&P 500 had its best month since February, having risen 4.3% in May. While many stocks have powered the ETF, we have highlighted five that have gained in double-digits and have solid Zacks.\"}, {\"id\": \"Co014GCQ4V-UqmMyclbH5gzBQLjBj7VpzHjpqOCvV6I\", \"publisher\": {\"name\": \"Zacks Investment Research\", \"homepage_url\": \"https://www.zacks.com/\", \"logo_url\": \"https://s3.polygon.io/public/assets/news/logos/zacks.png\", \"favicon_url\": \"https://s3.polygon.io/public/assets/news/favicons/zacks.ico\"}, \"title\": \"Is First Trust Utilities AlphaDEX ETF (FXU) a Strong ETF Right Now?\", \"author\": \"Zacks Equity Research\", \"published_utc\": \"2024-06-03T10:20:06Z\", \"article_url\": \"https://www.zacks.com/stock/news/2282438/is-first-trust-utilities-alphadex-etf-fxu-a-strong-etf-right-now\", \"tickers\": [\"FXU\", \"PEG\", \"XLU\", \"VPU\", \"AGR\", \"VST\"], \"amp_url\": \"https://www.zacks.com/amp/stock/news/2282438/is-first-trust-utilities-alphadex-etf-fxu-a-strong-etf-right-now\", \"image_url\": \"https://staticx-tuner.zacks.com/images/default_article_images/default10.jpg\", \"description\": \"Smart Beta ETF report for FXU\"}, {\"id\": \"1zJyStzfPdjkuwvfu_pWLjVASuDC3O96qha5xynpDxc\", \"publisher\": {\"name\": \"Zacks Investment Research\", \"homepage_url\": \"https://www.zacks.com/\", \"logo_url\": \"https://s3.polygon.io/public/assets/news/logos/zacks.png\", \"favicon_url\": \"https://s3.polygon.io/public/assets/news/favicons/zacks.ico\"}, \"title\": \"Here's Why You Should Add Vistra (VST) to Your Portfolio Now\", \"author\": \"Zacks Equity Research\", \"published_utc\": \"2024-05-31T13:52:00Z\", \"article_url\": \"https://www.zacks.com/stock/news/2282103/heres-why-you-should-add-vistra-vst-to-your-portfolio-now\", \"tickers\": [\"PPL\", \"PNW\", \"IDA\", \"VST\"], \"amp_url\": \"https://www.zacks.com/amp/stock/news/2282103/heres-why-you-should-add-vistra-vst-to-your-portfolio-now\", \"image_url\": \"https://staticx-tuner.zacks.com/images/articles/main/47/62145.jpg\", \"description\": \"Vistra (VST) makes a strong case for investment, given its growth prospects, strong return on equity and ability to increase shareholders' value.\"}, {\"id\": \"zjxVfs3MMbBo-SaaNMp_Hq-t6Us0Dw6FUY3MLr6-1c8\", \"publisher\": {\"name\": \"Zacks Investment Research\", \"homepage_url\": \"https://www.zacks.com/\", \"logo_url\": \"https://s3.polygon.io/public/assets/news/logos/zacks.png\", \"favicon_url\": \"https://s3.polygon.io/public/assets/news/favicons/zacks.ico\"}, \"title\": \"Should Invesco S&P MidCap Momentum ETF (XMMO) Be on Your Investing Radar?\", \"author\": \"Zacks Equity Research\", \"published_utc\": \"2024-05-31T10:20:08Z\", \"article_url\": \"https://www.zacks.com/stock/news/2281781/should-invesco-sp-midcap-momentum-etf-xmmo-be-on-your-investing-radar\", \"tickers\": [\"XMMO\", \"LII\", \"MANH\", \"IWP\", \"VOT\", \"VST\"], \"amp_url\": \"https://www.zacks.com/amp/stock/news/2281781/should-invesco-sp-midcap-momentum-etf-xmmo-be-on-your-investing-radar\", \"image_url\": \"https://staticx-tuner.zacks.com/images/default_article_images/default43.jpg\", \"description\": \"Style Box ETF report for XMMO\"}, {\"id\": \"SnrrTKaXOx-HiL0cJeyGcZH74Ma7_j6ZqWYb0s3TzXE\", \"publisher\": {\"name\": \"Zacks Investment Research\", \"homepage_url\": \"https://www.zacks.com/\", \"logo_url\": \"https://s3.polygon.io/public/assets/news/logos/zacks.png\", \"favicon_url\": \"https://s3.polygon.io/public/assets/news/favicons/zacks.ico\"}, \"title\": \"Here is What to Know Beyond Why Vistra Corp. (VST) is a Trending Stock\", \"author\": \"Zacks Equity Research\", \"published_utc\": \"2024-05-29T13:00:18Z\", \"article_url\": \"https://www.zacks.com/stock/news/2280456/here-is-what-to-know-beyond-why-vistra-corp-vst-is-a-trending-stock\", \"tickers\": [\"VST\"], \"amp_url\": \"https://www.zacks.com/amp/stock/news/2280456/here-is-what-to-know-beyond-why-vistra-corp-vst-is-a-trending-stock\", \"image_url\": \"https://staticx-tuner.zacks.com/images/default_article_images/default6.jpg\", \"description\": \"Zacks.com users have recently been watching Vistra (VST) quite a bit. Thus, it is worth knowing the facts that could determine the stock's prospects.\"}, {\"id\": \"PORNG9XUbUILycBkzAROzK-n-vBGJa-HFe_pBATFiNs\", \"publisher\": {\"name\": \"Zacks Investment Research\", \"homepage_url\": \"https://www.zacks.com/\", \"logo_url\": \"https://s3.polygon.io/public/assets/news/logos/zacks.png\", \"favicon_url\": \"https://s3.polygon.io/public/assets/news/favicons/zacks.ico\"}, \"title\": \"How Utilities Stocks and ETFs Became the Hot AI Play\", \"author\": \"Neena Mishra\", \"published_utc\": \"2024-05-28T20:11:00Z\", \"article_url\": \"https://www.zacks.com/stock/news/2280254/how-utilities-stocks-and-etfs-became-the-hot-ai-play\", \"tickers\": [\"AMZN\", \"NEE\", \"MSFT\", \"CEG\", \"NVDA\", \"XLU\", \"VPU\", \"GOOGL\", \"UTES\", \"VST\", \"META\"], \"amp_url\": \"https://www.zacks.com/amp/stock/news/2280254/how-utilities-stocks-and-etfs-became-the-hot-ai-play\", \"image_url\": \"https://staticx-tuner.zacks.com/images/articles/main/12/4244.jpg\", \"description\": \"Utilities will benefit from surging electricity demand fueled by the AI boom.\"}, {\"id\": \"TYVtNiGJQY1hbQhbpehKahBl8CEEtE-7UIclUVDHDHs\", \"publisher\": {\"name\": \"Benzinga\", \"homepage_url\": \"https://www.benzinga.com/\", \"logo_url\": \"https://s3.polygon.io/public/assets/news/logos/benzinga.svg\", \"favicon_url\": \"https://s3.polygon.io/public/assets/news/favicons/benzinga.ico\"}, \"title\": \"Peeling Back The Layers: Exploring Vistra Through Analyst Insights\", \"author\": \"Benzinga Insights\", \"published_utc\": \"2024-05-28T19:00:41Z\", \"article_url\": \"https://www.benzinga.com/insights/analyst-ratings/24/05/39045622/peeling-back-the-layers-exploring-vistra-through-analyst-insights\", \"tickers\": [\"VST\"], \"amp_url\": \"https://www.benzinga.com/amp/content/39045622\", \"image_url\": \"https://cdn.benzinga.com/files/images/story/2023/analyst_ratings_image_1.jpeg?width=1200&height=800&fit=crop\", \"description\": \"Vistra (NYSE:VST) has been analyzed by 9 analysts in the last three months, revealing a diverse range of perspectives from bullish to bearish.\\nThe table below provides a snapshot of their recent ratings, showcasing how sentiments have evolved over the past 30 days and comparing them to the preceding months.\\n\\n\\n\\n\\nBullish\\nSomewhat Bullish\\nIndifferent\\nSomewhat Bearish\\nBearish\\n\\n\\n\\n\\nTotal Ratings\\n2\\n7\\n0\\n0\\n0\\n\\n\\nLast 30D\\n0\\n1\\n0\\n0\\n0\\n\\n\\n1M Ago\\n1\\n1\\n0\\n0\\n0\\n\\n\\n2M Ago\\n1\\n1\\n0\\n0\\n0\\n\\n\\n3M Ago\\n0\\n4\\n0\\n0\\n0\\n\\n\\n\\nProviding deeper insights, analysts have established 12-month price targets, indicating an average target of $86.44, along with a high estimate of $110.00 and a low estimate of $60.00. Surpassing the previous average price target of $68.29, the current average has increased by 26.58%.\\n\\nDiving into Analyst Ratings: An In-Depth Exploration\\nThe standing of Vistra among financial experts is revealed through an in-depth exploration of recent analyst actions. The summary below outlines key analysts, their recent evaluations, and adjustments to ratings and price targets.\\n\\n\\n\\nAnalyst\\nAnalyst Firm\\nAction Taken\\nRating\\nCurrent Price Target\\nPrior Price Target\\n\\n\\n\\n\\nStephen Byrd\\nMorgan Stanley\\nRaises\\nOverweight\\n$110.00\\n$86.00\\n\\n\\nJames Thalacker\\nBMO Capital\\nRaises\\nOutperform\\n$109.00\\n$79.00\\n\\n\\nWilliam Appicelli\\nUBS\\nRaises\\nBuy\\n$110.00\\n$85.00\\n\\n\\nThomas Meric\\nJanney Montgomery Scott\\nAnnounces\\nBuy\\n$82.00\\n-\\n\\n\\nDurgesh Chopra\\nEvercore ISI Group\\nRaises\\nOutperform\\n$79.00\\n$72.00\\n\\n\\nStephen Byrd\\nMorgan Stanley\\nRaises\\nOverweight\\n$78.00\\n$62.00\\n\\n\\nStephen Byrd\\nMorgan Stanley\\nMaintains\\nOverweight\\n$78.00\\n-\\n\\n\\nDurgesh Chopra\\nEvercore ISI Group\\nRaises\\nOutperform\\n$72.00\\n$42.00\\n\\n\\nJames Thalacker\\nBMO Capital\\nRaises\\nOutperform\\n$60.00\\n$52.00\\n\\n\\n\\nKey Insights:\\n\\nAction Taken: In response to dynamic market conditions and company performance, analysts update their recommendations. Whether they 'Maintain', ...Full story available on Benzinga.com\", \"keywords\": [\"Analyst Ratings\"]}, {\"id\": \"QU3nA8ngX8xJp16tDoam7ekzDtVAy9ib6rfw8TtauVE\", \"publisher\": {\"name\": \"Zacks Investment Research\", \"homepage_url\": \"https://www.zacks.com/\", \"logo_url\": \"https://s3.polygon.io/public/assets/news/logos/zacks.png\", \"favicon_url\": \"https://s3.polygon.io/public/assets/news/favicons/zacks.ico\"}, \"title\": \"Vistra (VST) Is Considered a Good Investment by Brokers: Is That True?\", \"author\": \"Zacks Equity Research\", \"published_utc\": \"2024-05-28T13:30:12Z\", \"article_url\": \"https://www.zacks.com/stock/news/2279961/vistra-vst-is-considered-a-good-investment-by-brokers-is-that-true\", \"tickers\": [\"VST\"], \"amp_url\": \"https://www.zacks.com/amp/stock/news/2279961/vistra-vst-is-considered-a-good-investment-by-brokers-is-that-true\", \"image_url\": \"https://staticx-tuner.zacks.com/images/default_article_images/default17.jpg\", \"description\": \"Based on the average brokerage recommendation (ABR), Vistra (VST) should be added to one's portfolio. Wall Street analysts' overly optimistic recommendations cast doubt on the effectiveness of this highly sought-after metric. So, is the stock worth buying?\"}, {\"id\": \"S1BV8eQCKa7Fx4Pr6LdZTuQao2bOj8cKcfFDfOduVhY\", \"publisher\": {\"name\": \"Zacks Investment Research\", \"homepage_url\": \"https://www.zacks.com/\", \"logo_url\": \"https://s3.polygon.io/public/assets/news/logos/zacks.png\", \"favicon_url\": \"https://s3.polygon.io/public/assets/news/favicons/zacks.ico\"}, \"title\": \"Should SPDR S&P MidCap 400 ETF (MDY) Be on Your Investing Radar?\", \"author\": \"Zacks Equity Research\", \"published_utc\": \"2024-05-28T10:20:07Z\", \"article_url\": \"https://www.zacks.com/stock/news/2279793/should-spdr-sp-midcap-400-etf-mdy-be-on-your-investing-radar\", \"tickers\": [\"MDY\", \"RS\", \"WSM\", \"IJH\", \"VO\", \"VST\"], \"amp_url\": \"https://www.zacks.com/amp/stock/news/2279793/should-spdr-sp-midcap-400-etf-mdy-be-on-your-investing-radar\", \"image_url\": \"https://staticx-tuner.zacks.com/images/default_article_images/default33.jpg\", \"description\": \"Style Box ETF report for MDY\"}]\u001b[0m\u001b[32;1m\u001b[1;3mRelevant Documents: 0\n",
      "Cited Documents: 0\n",
      "Answer: Here is a list of news articles about VST:\n",
      "- *Here's Why You Should Add Vistra (VST) to Your Portfolio Now*\n",
      "- *Here is What to Know Beyond Why Vistra Corp. (VST) is a Trending Stock*\n",
      "- *Vistra (VST) Is Considered a Good Investment by Brokers: Is That True?*\n",
      "- *Peeling Back The Layers: Exploring Vistra Through Analyst Insights*\n",
      "- *Is First Trust Utilities AlphaDEX ETF (FXU) a Strong ETF Right Now?*\n",
      "- *5 Top Best Performing S&P 500 ETF Stocks of May*\n",
      "- *AI Bull Market: 5 Lessons to Learn*\n",
      "Grounded answer: Here is a list of news articles about VST:\n",
      "- <co: 0>*Here's Why You Should Add Vistra (VST) to Your Portfolio Now</co: 0>*\n",
      "- <co: 0>*Here is What to Know Beyond Why Vistra Corp. (VST) is a Trending Stock</co: 0>*\n",
      "- <co: 0>*Vistra (VST) Is Considered a Good Investment by Brokers: Is That True</co: 0>?*\n",
      "- <co: 0>*Peeling Back The Layers: Exploring Vistra Through Analyst Insights</co: 0>*\n",
      "- <co: 0>*Is First Trust Utilities AlphaDEX ETF (FXU) a Strong ETF Right Now</co: 0>?*\n",
      "- <co: 0>*5 Top Best Performing S&P 500 ETF Stocks of May</co: 0>*\n",
      "- <co: 0>*AI Bull Market: 5 Lessons to Learn</co: 0>*\u001b[0m\n",
      "\n",
      "\u001b[1m> Finished chain.\u001b[0m\n"
     ]
    },
    {
     "data": {
      "text/html": [
       "<p>Here is a list of news articles about VST:\n",
       "- <em>Here's Why You Should Add Vistra (VST) to Your Portfolio Now</em>\n",
       "- <em>Here is What to Know Beyond Why Vistra Corp. (VST) is a Trending Stock</em>\n",
       "- <em>Vistra (VST) Is Considered a Good Investment by Brokers: Is That True?</em>\n",
       "- <em>Peeling Back The Layers: Exploring Vistra Through Analyst Insights</em>\n",
       "- <em>Is First Trust Utilities AlphaDEX ETF (FXU) a Strong ETF Right Now?</em>\n",
       "- <em>5 Top Best Performing S&amp;P 500 ETF Stocks of May</em>\n",
       "- <em>AI Bull Market: 5 Lessons to Learn</em></p>"
      ],
      "text/plain": [
       "<IPython.core.display.HTML object>"
      ]
     },
     "metadata": {},
     "output_type": "display_data"
    }
   ],
   "source": [
    "input = {\"input\": \"What is in the news about VST?\"}\n",
    "invoke_cohere_with_tools(tools=tools,input=input)"
   ]
  },
  {
   "cell_type": "code",
   "execution_count": 40,
   "metadata": {},
   "outputs": [
    {
     "name": "stdout",
     "output_type": "stream",
     "text": [
      "\n",
      "\n",
      "\u001b[1m> Entering new AgentExecutor chain...\u001b[0m\n",
      "\u001b[32;1m\u001b[1;3m\n",
      "I will search for the news sentiment for BA and rate the sentiment based on the results.\n",
      "{'tool_name': 'polygon_ticker_news', 'parameters': {'query': 'BA'}}\n",
      "\u001b[0m\u001b[38;5;200m\u001b[1;3m[{\"id\": \"haAt4pUzAXOzpC4spqlT3sdUCqt6FTtX4n2vYVsfy-4\", \"publisher\": {\"name\": \"The Motley Fool\", \"homepage_url\": \"https://www.fool.com/\", \"logo_url\": \"https://s3.polygon.io/public/assets/news/logos/themotleyfool.svg\", \"favicon_url\": \"https://s3.polygon.io/public/assets/news/favicons/themotleyfool.ico\"}, \"title\": \"Is Boeing Stock Going to $240? 1 Wall Street Analyst Thinks So.\", \"author\": \"newsfeedback@fool.com (Lee Samaha)\", \"published_utc\": \"2024-06-03T19:25:00Z\", \"article_url\": \"https://www.fool.com/investing/2024/06/03/is-boeing-stock-going-to-240-1-wall-street-analyst/\", \"tickers\": [\"BA\", \"SPR\"], \"image_url\": \"https://g.foolcdn.com/editorial/images/779436/gettyimages-912360406-1200x800-5b2df79.jpg\", \"description\": \"According to some on Wall Street, the ailing aerospace and defense giant still has a 35% upside.\", \"keywords\": [\"investing\"]}, {\"id\": \"354LPGG771suFaS-4LGXURUOw0XDbme88Rq5tgnC-20\", \"publisher\": {\"name\": \"Benzinga\", \"homepage_url\": \"https://www.benzinga.com/\", \"logo_url\": \"https://s3.polygon.io/public/assets/news/logos/benzinga.svg\", \"favicon_url\": \"https://s3.polygon.io/public/assets/news/favicons/benzinga.ico\"}, \"title\": \"EXCLUSIVE: Tema American Reshoring ETF Outshines S&P 500 Without Owning Magnificent 7 Stocks \\u2014 'They Can No Longer Manufacture In China'\", \"author\": \"Piero Cingari\", \"published_utc\": \"2024-06-03T17:46:36Z\", \"article_url\": \"https://www.benzinga.com/markets/asia/24/06/39143220/exclusive-tema-american-reshoring-etf-outshines-s-p-500-without-owning-magnificent-7-stocks-they-can\", \"tickers\": [\"SPY\", \"AAPL\", \"BA\", \"CLH\", \"ETN\", \"GM\", \"MU\", \"PH\", \"SUM\", \"RSHO\"], \"amp_url\": \"https://www.benzinga.com/amp/content/39143220\", \"image_url\": \"https://cdn.benzinga.com/files/images/story/2024/06/04/US-manufacturing-jobs.jpeg?width=1200&height=800&fit=crop\", \"description\": \"The Tema American Reshoring ETF (NYSE:RSHO), the first U.S.-listed fund dedicated to reshoring investing, outperformed the S&P 500 Index over the last year, remarkably achieving this without holding any of the high-flying Magnificent Seven stocks.\\nAs of June 3, 2024, the RSHO ETF recorded a 32% annual gain, outperforming the SPDR S&P 500 ETF Trust (NYSE:SPY) by about 7 percentage points.\\n\\u201cThe industrial world needs to be rewired to support local manufacturing,\\u201d Maurits\\u00a0Pot, founder and CEO at Tema ETF Management, told Benzinga in an exclusive interview. \\nPot noted supply chain insecurity, trade wars, geopolitical tensions and deglobalization are pushing companies such as Micron Technology Inc. (NASDAQ:MU), Apple Inc. (NASDAQ:AAPL), General Motors Co. (NYSE:GM), and Boeing Co. (NYSE:BA) to bring their manufacturing activities back to America for the first time.\\n\\u201cI think what we\\u2019re starting to see is a massive reinvestment and reactivation of the U.S. industrial heartland,\\u201d Pot said, highlighting that parts of Indiana, Kansas and Michigan, once left ...Full story available on Benzinga.com\", \"keywords\": [\"Asia\", \"Large Cap\", \"Mid Cap\", \"Specialty ETFs\", \"Emerging Markets\", \"Small Cap\", \"Global\", \"Econ #s\", \"Top Stories\", \"ETFs\"]}, {\"id\": \"4JYankpOl8lkNog3UIPwXx8oQdx0KyWbVHKT4dTiwwc\", \"publisher\": {\"name\": \"The Motley Fool\", \"homepage_url\": \"https://www.fool.com/\", \"logo_url\": \"https://s3.polygon.io/public/assets/news/logos/themotleyfool.svg\", \"favicon_url\": \"https://s3.polygon.io/public/assets/news/favicons/themotleyfool.ico\"}, \"title\": \"Huge News for Boeing Stock Investors\", \"author\": \"newsfeedback@fool.com (Parkev Tatevosian, CFA)\", \"published_utc\": \"2024-06-03T13:46:04Z\", \"article_url\": \"https://www.fool.com/investing/2024/06/03/huge-news-for-boeing-stock-investors/\", \"tickers\": [\"BA\"], \"image_url\": \"https://g.foolcdn.com/editorial/images/779385/boeing-737-max-7-plane-airplane-aviation-source-boeing.jpg\", \"description\": \"Boeing met with regulators to discuss expansion plans at its troubled production plants.\", \"keywords\": [\"investing\"]}, {\"id\": \"NttDvT854cA8DaxDRjZF4dqWNQDLPc7bGPIQu6Mw89s\", \"publisher\": {\"name\": \"Benzinga\", \"homepage_url\": \"https://www.benzinga.com/\", \"logo_url\": \"https://s3.polygon.io/public/assets/news/logos/benzinga.svg\", \"favicon_url\": \"https://s3.polygon.io/public/assets/news/favicons/benzinga.ico\"}, \"title\": \"Kimberly-Clark To Rally Around 24%? Here Are 10 Top Analyst Forecasts For Monday\", \"author\": \"Avi Kapoor\", \"published_utc\": \"2024-06-03T12:18:30Z\", \"article_url\": \"https://www.benzinga.com/news/24/06/39135145/kimberly-clark-to-rally-around-24-here-are-10-top-analyst-forecasts-for-monday\", \"tickers\": [\"ADSK\", \"SMRT\", \"BA\", \"KMB\", \"MTG\", \"S\", \"WMT\", \"MSI\", \"HIMS\", \"XPRO\"], \"amp_url\": \"https://www.benzinga.com/amp/content/39135145\", \"image_url\": \"https://cdn.benzinga.com/files/images/story/2024/06/03/xrdDAFtAKwUNBo2-j1003578139540530099-t23.jpeg?width=1200&height=800&fit=crop\", \"description\": \"Top Wall Street analysts changed their outlook on these top names. For a complete view of all analyst rating changes, including upgrades and downgrades, please see our analyst ratings page.\\n\\nRBC Capital boosted the price target for Kimberly-Clark Corporation (NYSE:KMB) from $126 to $165. RBC Capital analyst Nik Modi upgraded the stock from Sector Perform to Outperform. Kimberly-Clark shares rose 2.8% to close at $133.30 on Friday. See how other analysts view this stock.\\nNeedham cut the price target for SentinelOne, Inc. (NYSE:S) from $31 to $25. Needham analyst Alex Henderson maintained a Buy rating. SentinelOne shares dipped 13.3% to close at $16.83 on Friday. See how other analysts view this stock.\\nPiper Sandler lowered Autodesk, Inc. (NASDAQ:ADSK) price target from $260 to $239. Piper Sandler analyst Clarke Jeffries maintained a Neutral rating. Autodesk shares rose 0.9% to close at $201.70 on Friday. See how other analysts view this stock.\\nBaird cut the price target for The Boeing Company (NYSE:Full story available on Benzinga.com\", \"keywords\": [\"News\", \"Price Target\", \"Pre-Market Outlook\", \"Markets\", \"Analyst Ratings\", \"Trading Ideas\"]}, {\"id\": \"fIqMlyN6JWDP17yqq52xI1RVwS3ibviFpfEE18_IKX8\", \"publisher\": {\"name\": \"The Motley Fool\", \"homepage_url\": \"https://www.fool.com/\", \"logo_url\": \"https://s3.polygon.io/public/assets/news/logos/themotleyfool.svg\", \"favicon_url\": \"https://s3.polygon.io/public/assets/news/favicons/themotleyfool.ico\"}, \"title\": \"Did China Just Build the World's First Drone Aircraft Carrier?\", \"author\": \"newsfeedback@fool.com (Rich Smith)\", \"published_utc\": \"2024-06-01T11:31:00Z\", \"article_url\": \"https://www.fool.com/investing/2024/06/01/china-builds-worlds-first-drone-aircraft-carrier/\", \"tickers\": [\"NOC\", \"BA\", \"HII\"], \"image_url\": \"https://g.foolcdn.com/editorial/images/778497/aircraft-carrier3.jpg\", \"description\": \"Three countries are building drone aircraft carriers today. America is not one of them -- and it needs to become one.\", \"keywords\": [\"investing\"]}, {\"id\": \"PmdBuq0qNCNbW_sOC_bedOrglrrYG1tMUznuQO1huuE\", \"publisher\": {\"name\": \"The Motley Fool\", \"homepage_url\": \"https://www.fool.com/\", \"logo_url\": \"https://s3.polygon.io/public/assets/news/logos/themotleyfool.svg\", \"favicon_url\": \"https://s3.polygon.io/public/assets/news/favicons/themotleyfool.ico\"}, \"title\": \"Boeing's Stock Price Just Plunged. Is Now the Time to Invest?\", \"author\": \"newsfeedback@fool.com (Lee Samaha)\", \"published_utc\": \"2024-06-01T08:02:00Z\", \"article_url\": \"https://www.fool.com/investing/2024/06/01/boeings-stock-price-just-plunged-is-now-the-time-t/\", \"tickers\": [\"BA\"], \"image_url\": \"https://g.foolcdn.com/editorial/images/778552/best-stock-buys-in-2024.jpg\", \"description\": \"The company's latest presentation shook investors, but did it also create a buying opportunity?\", \"keywords\": [\"investing\"]}, {\"id\": \"c9cVRaIKX-YPcF5Mwyv2YoHgGId-_eEk0RDEL5IUuzs\", \"publisher\": {\"name\": \"Zacks Investment Research\", \"homepage_url\": \"https://www.zacks.com/\", \"logo_url\": \"https://s3.polygon.io/public/assets/news/logos/zacks.png\", \"favicon_url\": \"https://s3.polygon.io/public/assets/news/favicons/zacks.ico\"}, \"title\": \"Boeing (BA) Advances While Market Declines: Some Information for Investors\", \"author\": \"Zacks Equity Research\", \"published_utc\": \"2024-05-30T21:45:14Z\", \"article_url\": \"https://www.zacks.com/stock/news/2281693/boeing-ba-advances-while-market-declines-some-information-for-investors\", \"tickers\": [\"BA\"], \"amp_url\": \"https://www.zacks.com/amp/stock/news/2281693/boeing-ba-advances-while-market-declines-some-information-for-investors\", \"image_url\": \"https://staticx-tuner.zacks.com/images/default_article_images/default1.jpg\", \"description\": \"In the most recent trading session, Boeing (BA) closed at $172.75, indicating a +0.64% shift from the previous trading day.\"}, {\"id\": \"EiAe-0dNxbD6uYXONxpCowB3fqyXa2hlAapDPGqCIu4\", \"publisher\": {\"name\": \"The Motley Fool\", \"homepage_url\": \"https://www.fool.com/\", \"logo_url\": \"https://s3.polygon.io/public/assets/news/logos/themotleyfool.svg\", \"favicon_url\": \"https://s3.polygon.io/public/assets/news/favicons/themotleyfool.ico\"}, \"title\": \"Where Will RTX Be in 3 Years?\", \"author\": \"newsfeedback@fool.com (Lee Samaha)\", \"published_utc\": \"2024-05-29T12:59:00Z\", \"article_url\": \"https://www.fool.com/investing/2024/05/29/where-will-rtx-be-in-3-years/\", \"tickers\": [\"RTX\", \"BA\", \"LMT\", \"ERJ\", \"EADSY\"], \"image_url\": \"https://g.foolcdn.com/editorial/images/778252/a-stock-to-buy.jpg\", \"description\": \"Investors have a good handle on where the company will be in 2025, but what about after that?\", \"keywords\": [\"investing\"]}, {\"id\": \"x6sfkfFtAZAU4iJQVIPIqcCaw8sfBRupciNWXcpK2t8\", \"publisher\": {\"name\": \"Zacks Investment Research\", \"homepage_url\": \"https://www.zacks.com/\", \"logo_url\": \"https://s3.polygon.io/public/assets/news/logos/zacks.png\", \"favicon_url\": \"https://s3.polygon.io/public/assets/news/favicons/zacks.ico\"}, \"title\": \"Textron (TXT) Reveals Enhanced Features for Cessna Citation Jets\", \"author\": \"Zacks Equity Research\", \"published_utc\": \"2024-05-28T14:27:00Z\", \"article_url\": \"https://www.zacks.com/stock/news/2280092/textron-txt-reveals-enhanced-features-for-cessna-citation-jets\", \"tickers\": [\"BA\", \"GD\", \"TXT\", \"EADSY\"], \"amp_url\": \"https://www.zacks.com/amp/stock/news/2280092/textron-txt-reveals-enhanced-features-for-cessna-citation-jets\", \"image_url\": \"https://staticx-tuner.zacks.com/images/articles/main/e2/2937.jpg\", \"description\": \"Textron (TXT) announces advanced Garmin G5000 feature enhancement in its Cessna Citation Latitude and Citation Longitude business jets.\"}, {\"id\": \"Clb9vHUIZCtaXkC9nrODdbcGTWJsriGPiWKpSY8HYpA\", \"publisher\": {\"name\": \"Zacks Investment Research\", \"homepage_url\": \"https://www.zacks.com/\", \"logo_url\": \"https://s3.polygon.io/public/assets/news/logos/zacks.png\", \"favicon_url\": \"https://s3.polygon.io/public/assets/news/favicons/zacks.ico\"}, \"title\": \"Boeing (BA) Secures a $7.5B Contract to Aid JDAM Program\", \"author\": \"Zacks Equity Research\", \"published_utc\": \"2024-05-27T11:39:00Z\", \"article_url\": \"https://www.zacks.com/stock/news/2279274/boeing-ba-secures-a-75b-contract-to-aid-jdam-program\", \"tickers\": [\"BA\", \"NOC\", \"GD\", \"RTX\"], \"amp_url\": \"https://www.zacks.com/amp/stock/news/2279274/boeing-ba-secures-a-75b-contract-to-aid-jdam-program\", \"image_url\": \"https://staticx-tuner.zacks.com/images/articles/main/06/2358.jpg\", \"description\": \"Boeing (BA) is set to supply JDAM tail kits, spares, repairs, technical and Laser Joint Direct Attack Munition sensor kits.\"}]\u001b[0m\u001b[32;1m\u001b[1;3mRelevant Documents: 0\n",
      "Cited Documents: 0\n",
      "Answer: The news sentiment for BA is neutral. The news articles mention that Boeing's stock price has plunged, but also that it has a 35% upside according to some analysts. There is also news of Boeing securing a $7.5 billion contract, which is positive, but it has also been mentioned that the company met with regulators to discuss expansion plans at its troubled production plants, which is negative.\n",
      "Grounded answer: The news sentiment for BA is neutral. The news articles mention that <co: 0>Boeing's stock price has plunged</co: 0>, but also that it has a <co: 0>35% upside according to some analysts</co: 0>. There is also news of <co: 0>Boeing securing a $7.5 billion contract</co: 0>, which is positive, but it has also been mentioned that the company <co: 0>met with regulators to discuss expansion plans at its troubled production plants</co: 0>, which is negative.\u001b[0m\n",
      "\n",
      "\u001b[1m> Finished chain.\u001b[0m\n"
     ]
    },
    {
     "data": {
      "text/html": [
       "<p>The news sentiment for BA is neutral. The news articles mention that Boeing's stock price has plunged, but also that it has a 35% upside according to some analysts. There is also news of Boeing securing a $7.5 billion contract, which is positive, but it has also been mentioned that the company met with regulators to discuss expansion plans at its troubled production plants, which is negative.</p>"
      ],
      "text/plain": [
       "<IPython.core.display.HTML object>"
      ]
     },
     "metadata": {},
     "output_type": "display_data"
    }
   ],
   "source": [
    "input = {\"input\": \"What is in the news sentiment for BA? Rate the sentiment and explain your rating\"}\n",
    "invoke_cohere_with_tools(tools=tools,input=input)"
   ]
  },
  {
   "cell_type": "markdown",
   "metadata": {},
   "source": [
    "### Financials"
   ]
  },
  {
   "cell_type": "code",
   "execution_count": 84,
   "metadata": {},
   "outputs": [
    {
     "name": "stdout",
     "output_type": "stream",
     "text": [
      "\n",
      "\n",
      "\u001b[1m> Entering new AgentExecutor chain...\u001b[0m\n",
      "\u001b[32;1m\u001b[1;3m\n",
      "I will use the Polygon Financials tool to find out the latest financial information for AAPL.\n",
      "{'tool_name': 'polygon_financials', 'parameters': {'query': 'AAPL'}}\n",
      "\u001b[0m\u001b[36;1m\u001b[1;3m[{\"start_date\": \"2023-03-31\", \"end_date\": \"2024-03-30\", \"timeframe\": \"ttm\", \"fiscal_period\": \"TTM\", \"fiscal_year\": \"\", \"cik\": \"0000320193\", \"sic\": \"3571\", \"tickers\": [\"AAPL\"], \"company_name\": \"APPLE INC\", \"financials\": {\"comprehensive_income\": {\"other_comprehensive_income_loss_attributable_to_parent\": {\"value\": 2786000000.0, \"unit\": \"USD\", \"label\": \"Other Comprehensive Income/Loss Attributable To Parent\", \"order\": 600}, \"comprehensive_income_loss_attributable_to_noncontrolling_interest\": {\"value\": 0, \"unit\": \"USD\", \"label\": \"Comprehensive Income/Loss Attributable To Noncontrolling Interest\", \"order\": 200}, \"other_comprehensive_income_loss\": {\"value\": 103175000000.0, \"unit\": \"USD\", \"label\": \"Other Comprehensive Income/Loss\", \"order\": 400}, \"comprehensive_income_loss_attributable_to_parent\": {\"value\": 103175000000.0, \"unit\": \"USD\", \"label\": \"Comprehensive Income/Loss Attributable To Parent\", \"order\": 300}, \"comprehensive_income_loss\": {\"value\": 103175000000.0, \"unit\": \"USD\", \"label\": \"Comprehensive Income/Loss\", \"order\": 100}}, \"income_statement\": {\"operating_income_loss\": {\"value\": 118240000000.0, \"unit\": \"USD\", \"label\": \"Operating Income/Loss\", \"order\": 1100}, \"net_income_loss_attributable_to_noncontrolling_interest\": {\"value\": 0, \"unit\": \"USD\", \"label\": \"Net Income/Loss Attributable To Noncontrolling Interest\", \"order\": 3300}, \"preferred_stock_dividends_and_other_adjustments\": {\"value\": 0, \"unit\": \"USD\", \"label\": \"Preferred Stock Dividends And Other Adjustments\", \"order\": 3900}, \"operating_expenses\": {\"value\": 55726000000.0, \"unit\": \"USD\", \"label\": \"Operating Expenses\", \"order\": 1000}, \"cost_of_revenue\": {\"value\": 207657000000.0, \"unit\": \"USD\", \"label\": \"Cost Of Revenue\", \"order\": 300}, \"nonoperating_income_loss\": {\"value\": -128000000.0, \"unit\": \"USD\", \"label\": \"Nonoperating Income/Loss\", \"order\": 900}, \"participating_securities_distributed_and_undistributed_earnings_loss_basic\": {\"value\": 0, \"unit\": \"USD\", \"label\": \"Participating Securities, Distributed And Undistributed Earnings/Loss, Basic\", \"order\": 3800}, \"selling_general_and_administrative_expenses\": {\"value\": 25378000000.0, \"unit\": \"USD\", \"label\": \"Selling, General, and Administrative Expenses\", \"order\": 1010}, \"benefits_costs_expenses\": {\"value\": 263511000000.0, \"unit\": \"USD\", \"label\": \"Benefits Costs and Expenses\", \"order\": 200}, \"net_income_loss_available_to_common_stockholders_basic\": {\"value\": 100389000000.0, \"unit\": \"USD\", \"label\": \"Net Income/Loss Available To Common Stockholders, Basic\", \"order\": 3700}, \"basic_average_shares\": {\"value\": 46564967000.0, \"unit\": \"shares\", \"label\": \"Basic Average Shares\", \"order\": 4400}, \"income_loss_from_continuing_operations_before_tax\": {\"value\": 118112000000.0, \"unit\": \"USD\", \"label\": \"Income/Loss From Continuing Operations Before Tax\", \"order\": 1500}, \"income_tax_expense_benefit\": {\"value\": 17723000000.0, \"unit\": \"USD\", \"label\": \"Income Tax Expense/Benefit\", \"order\": 2200}, \"net_income_loss_attributable_to_parent\": {\"value\": 100389000000.0, \"unit\": \"USD\", \"label\": \"Net Income/Loss Attributable To Parent\", \"order\": 3500}, \"diluted_earnings_per_share\": {\"value\": 6.43, \"unit\": \"USD / shares\", \"label\": \"Diluted Earnings Per Share\", \"order\": 4300}, \"diluted_average_shares\": {\"value\": 46769655000.0, \"unit\": \"shares\", \"label\": \"Diluted Average Shares\", \"order\": 4500}, \"gross_profit\": {\"value\": 173966000000.0, \"unit\": \"USD\", \"label\": \"Gross Profit\", \"order\": 800}, \"net_income_loss\": {\"value\": 100389000000.0, \"unit\": \"USD\", \"label\": \"Net Income/Loss\", \"order\": 3200}, \"costs_and_expenses\": {\"value\": 263511000000.0, \"unit\": \"USD\", \"label\": \"Costs And Expenses\", \"order\": 600}, \"research_and_development\": {\"value\": 30348000000.0, \"unit\": \"USD\", \"label\": \"Research and Development\", \"order\": 1030}, \"income_loss_from_continuing_operations_after_tax\": {\"value\": 100389000000.0, \"unit\": \"USD\", \"label\": \"Income/Loss From Continuing Operations After Tax\", \"order\": 1400}, \"basic_earnings_per_share\": {\"value\": 6.459999999999999, \"unit\": \"USD / shares\", \"label\": \"Basic Earnings Per Share\", \"order\": 4200}, \"revenues\": {\"value\": 381623000000.0, \"unit\": \"USD\", \"label\": \"Revenues\", \"order\": 100}}, \"balance_sheet\": {\"other_noncurrent_liabilities\": {\"value\": 36795000000.0, \"unit\": \"USD\", \"label\": \"Other Non-current Liabilities\", \"order\": 820}, \"inventory\": {\"value\": 6232000000.0, \"unit\": \"USD\", \"label\": \"Inventory\", \"order\": 230}, \"other_noncurrent_assets\": {\"value\": 165449000000.0, \"unit\": \"USD\", \"label\": \"Other Non-current Assets\", \"order\": 350}, \"fixed_assets\": {\"value\": 43546000000.0, \"unit\": \"USD\", \"label\": \"Fixed Assets\", \"order\": 320}, \"current_assets\": {\"value\": 128416000000.0, \"unit\": \"USD\", \"label\": \"Current Assets\", \"order\": 200}, \"accounts_payable\": {\"value\": 45753000000.0, \"unit\": \"USD\", \"label\": \"Accounts Payable\", \"order\": 710}, \"assets\": {\"value\": 337411000000.0, \"unit\": \"USD\", \"label\": \"Assets\", \"order\": 100}, \"equity_attributable_to_noncontrolling_interest\": {\"value\": 0, \"unit\": \"USD\", \"label\": \"Equity Attributable To Noncontrolling Interest\", \"order\": 1500}, \"liabilities_and_equity\": {\"value\": 337411000000.0, \"unit\": \"USD\", \"label\": \"Liabilities And Equity\", \"order\": 1900}, \"equity\": {\"value\": 74194000000.0, \"unit\": \"USD\", \"label\": \"Equity\", \"order\": 1400}, \"long_term_debt\": {\"value\": 102600000000.0, \"unit\": \"USD\", \"label\": \"Long-term Debt\", \"order\": 810}, \"current_liabilities\": {\"value\": 123822000000.0, \"unit\": \"USD\", \"label\": \"Current Liabilities\", \"order\": 700}, \"noncurrent_liabilities\": {\"value\": 139395000000.0, \"unit\": \"USD\", \"label\": \"Noncurrent Liabilities\", \"order\": 800}, \"noncurrent_assets\": {\"value\": 208995000000.0, \"unit\": \"USD\", \"label\": \"Noncurrent Assets\", \"order\": 300}, \"other_current_liabilities\": {\"value\": 78069000000.0, \"unit\": \"USD\", \"label\": \"Other Current Liabilities\", \"order\": 740}, \"liabilities\": {\"value\": 263217000000.0, \"unit\": \"USD\", \"label\": \"Liabilities\", \"order\": 600}, \"equity_attributable_to_parent\": {\"value\": 74194000000.0, \"unit\": \"USD\", \"label\": \"Equity Attributable To Parent\", \"order\": 1600}, \"other_current_assets\": {\"value\": 122184000000.0, \"unit\": \"USD\", \"label\": \"Other Current Assets\", \"order\": 250}}, \"cash_flow_statement\": {\"net_cash_flow_from_operating_activities\": {\"value\": 110563000000.0, \"unit\": \"USD\", \"label\": \"Net Cash Flow From Operating Activities\", \"order\": 100}, \"net_cash_flow_from_investing_activities_continuing\": {\"value\": 4448000000.0, \"unit\": \"USD\", \"label\": \"Net Cash Flow From Investing Activities, Continuing\", \"order\": 500}, \"net_cash_flow_from_financing_activities\": {\"value\": -108219000000.0, \"unit\": \"USD\", \"label\": \"Net Cash Flow From Financing Activities\", \"order\": 700}, \"net_cash_flow_from_investing_activities\": {\"value\": 4448000000.0, \"unit\": \"USD\", \"label\": \"Net Cash Flow From Investing Activities\", \"order\": 400}, \"net_cash_flow_from_financing_activities_continuing\": {\"value\": -108219000000.0, \"unit\": \"USD\", \"label\": \"Net Cash Flow From Financing Activities, Continuing\", \"order\": 800}, \"net_cash_flow_from_operating_activities_continuing\": {\"value\": 110563000000.0, \"unit\": \"USD\", \"label\": \"Net Cash Flow From Operating Activities, Continuing\", \"order\": 200}, \"net_cash_flow\": {\"value\": 6792000000.0, \"unit\": \"USD\", \"label\": \"Net Cash Flow\", \"order\": 1100}, \"net_cash_flow_continuing\": {\"value\": 6792000000.0, \"unit\": \"USD\", \"label\": \"Net Cash Flow, Continuing\", \"order\": 1200}}}}, {\"start_date\": \"2023-12-31\", \"end_date\": \"2024-03-30\", \"filing_date\": \"2024-05-03\", \"acceptance_datetime\": \"2024-05-02T22:04:25Z\", \"timeframe\": \"quarterly\", \"fiscal_period\": \"Q2\", \"fiscal_year\": \"2024\", \"cik\": \"0000320193\", \"sic\": \"3571\", \"tickers\": [\"AAPL\"], \"company_name\": \"Apple Inc.\", \"source_filing_url\": \"https://api.polygon.io/v1/reference/sec/filings/0000320193-24-000069\", \"source_filing_file_url\": \"http://api.polygon.io/v1/reference/sec/filings/0000320193-24-000069/files/aapl-20240330_htm.xml\", \"financials\": {\"balance_sheet\": {\"equity\": {\"value\": 74194000000.0, \"unit\": \"USD\", \"label\": \"Equity\", \"order\": 1400}, \"other_noncurrent_assets\": {\"value\": 165449000000.0, \"unit\": \"USD\", \"label\": \"Other Non-current Assets\", \"order\": 350}, \"assets\": {\"value\": 337411000000.0, \"unit\": \"USD\", \"label\": \"Assets\", \"order\": 100}, \"fixed_assets\": {\"value\": 43546000000.0, \"unit\": \"USD\", \"label\": \"Fixed Assets\", \"order\": 320}, \"long_term_debt\": {\"value\": 102600000000.0, \"unit\": \"USD\", \"label\": \"Long-term Debt\", \"order\": 810}, \"current_liabilities\": {\"value\": 123822000000.0, \"unit\": \"USD\", \"label\": \"Current Liabilities\", \"order\": 700}, \"equity_attributable_to_noncontrolling_interest\": {\"value\": 0, \"unit\": \"USD\", \"label\": \"Equity Attributable To Noncontrolling Interest\", \"order\": 1500}, \"other_noncurrent_liabilities\": {\"value\": 36795000000.0, \"unit\": \"USD\", \"label\": \"Other Non-current Liabilities\", \"order\": 820}, \"liabilities\": {\"value\": 263217000000.0, \"unit\": \"USD\", \"label\": \"Liabilities\", \"order\": 600}, \"other_current_liabilities\": {\"value\": 78069000000.0, \"unit\": \"USD\", \"label\": \"Other Current Liabilities\", \"order\": 740}, \"equity_attributable_to_parent\": {\"value\": 74194000000.0, \"unit\": \"USD\", \"label\": \"Equity Attributable To Parent\", \"order\": 1600}, \"inventory\": {\"value\": 6232000000.0, \"unit\": \"USD\", \"label\": \"Inventory\", \"order\": 230}, \"current_assets\": {\"value\": 128416000000.0, \"unit\": \"USD\", \"label\": \"Current Assets\", \"order\": 200}, \"other_current_assets\": {\"value\": 122184000000.0, \"unit\": \"USD\", \"label\": \"Other Current Assets\", \"order\": 250}, \"noncurrent_liabilities\": {\"value\": 139395000000.0, \"unit\": \"USD\", \"label\": \"Noncurrent Liabilities\", \"order\": 800}, \"noncurrent_assets\": {\"value\": 208995000000.0, \"unit\": \"USD\", \"label\": \"Noncurrent Assets\", \"order\": 300}, \"accounts_payable\": {\"value\": 45753000000.0, \"unit\": \"USD\", \"label\": \"Accounts Payable\", \"order\": 710}, \"liabilities_and_equity\": {\"value\": 337411000000.0, \"unit\": \"USD\", \"label\": \"Liabilities And Equity\", \"order\": 1900}}, \"comprehensive_income\": {\"comprehensive_income_loss_attributable_to_parent\": {\"value\": 24054000000.0, \"unit\": \"USD\", \"label\": \"Comprehensive Income/Loss Attributable To Parent\", \"order\": 300}, \"other_comprehensive_income_loss\": {\"value\": 24054000000.0, \"unit\": \"USD\", \"label\": \"Other Comprehensive Income/Loss\", \"order\": 400}, \"comprehensive_income_loss\": {\"value\": 24054000000.0, \"unit\": \"USD\", \"label\": \"Comprehensive Income/Loss\", \"order\": 100}, \"comprehensive_income_loss_attributable_to_noncontrolling_interest\": {\"value\": 0, \"unit\": \"USD\", \"label\": \"Comprehensive Income/Loss Attributable To Noncontrolling Interest\", \"order\": 200}, \"other_comprehensive_income_loss_attributable_to_parent\": {\"value\": 418000000.0, \"unit\": \"USD\", \"label\": \"Other Comprehensive Income/Loss Attributable To Parent\", \"order\": 600}}, \"income_statement\": {\"research_and_development\": {\"value\": 7903000000.0, \"unit\": \"USD\", \"label\": \"Research and Development\", \"order\": 1030}, \"basic_earnings_per_share\": {\"value\": 1.53, \"unit\": \"USD / shares\", \"label\": \"Basic Earnings Per Share\", \"order\": 4200}, \"net_income_loss_attributable_to_parent\": {\"value\": 23636000000.0, \"unit\": \"USD\", \"label\": \"Net Income/Loss Attributable To Parent\", \"order\": 3500}, \"net_income_loss\": {\"value\": 23636000000.0, \"unit\": \"USD\", \"label\": \"Net Income/Loss\", \"order\": 3200}, \"nonoperating_income_loss\": {\"value\": 158000000.0, \"unit\": \"USD\", \"label\": \"Nonoperating Income/Loss\", \"order\": 900}, \"operating_income_loss\": {\"value\": 27900000000.0, \"unit\": \"USD\", \"label\": \"Operating Income/Loss\", \"order\": 1100}, \"diluted_average_shares\": {\"value\": 15464709000.0, \"unit\": \"shares\", \"label\": \"Diluted Average Shares\", \"order\": 4500}, \"operating_expenses\": {\"value\": 14371000000.0, \"unit\": \"USD\", \"label\": \"Operating Expenses\", \"order\": 1000}, \"income_loss_from_continuing_operations_after_tax\": {\"value\": 23636000000.0, \"unit\": \"USD\", \"label\": \"Income/Loss From Continuing Operations After Tax\", \"order\": 1400}, \"net_income_loss_available_to_common_stockholders_basic\": {\"value\": 23636000000.0, \"unit\": \"USD\", \"label\": \"Net Income/Loss Available To Common Stockholders, Basic\", \"order\": 3700}, \"basic_average_shares\": {\"value\": 15405856000.0, \"unit\": \"shares\", \"label\": \"Basic Average Shares\", \"order\": 4400}, \"gross_profit\": {\"value\": 42271000000.0, \"unit\": \"USD\", \"label\": \"Gross Profit\", \"order\": 800}, \"income_loss_from_continuing_operations_before_tax\": {\"value\": 28058000000.0, \"unit\": \"USD\", \"label\": \"Income/Loss From Continuing Operations Before Tax\", \"order\": 1500}, \"benefits_costs_expenses\": {\"value\": 62695000000.0, \"unit\": \"USD\", \"label\": \"Benefits Costs and Expenses\", \"order\": 200}, \"diluted_earnings_per_share\": {\"value\": 1.53, \"unit\": \"USD / shares\", \"label\": \"Diluted Earnings Per Share\", \"order\": 4300}, \"selling_general_and_administrative_expenses\": {\"value\": 6468000000.0, \"unit\": \"USD\", \"label\": \"Selling, General, and Administrative Expenses\", \"order\": 1010}, \"preferred_stock_dividends_and_other_adjustments\": {\"value\": 0, \"unit\": \"USD\", \"label\": \"Preferred Stock Dividends And Other Adjustments\", \"order\": 3900}, \"participating_securities_distributed_and_undistributed_earnings_loss_basic\": {\"value\": 0, \"unit\": \"USD\", \"label\": \"Participating Securities, Distributed And Undistributed Earnings/Loss, Basic\", \"order\": 3800}, \"cost_of_revenue\": {\"value\": 48482000000.0, \"unit\": \"USD\", \"label\": \"Cost Of Revenue\", \"order\": 300}, \"costs_and_expenses\": {\"value\": 62695000000.0, \"unit\": \"USD\", \"label\": \"Costs And Expenses\", \"order\": 600}, \"net_income_loss_attributable_to_noncontrolling_interest\": {\"value\": 0, \"unit\": \"USD\", \"label\": \"Net Income/Loss Attributable To Noncontrolling Interest\", \"order\": 3300}, \"income_tax_expense_benefit\": {\"value\": 4422000000.0, \"unit\": \"USD\", \"label\": \"Income Tax Expense/Benefit\", \"order\": 2200}, \"revenues\": {\"value\": 90753000000.0, \"unit\": \"USD\", \"label\": \"Revenues\", \"order\": 100}}, \"cash_flow_statement\": {\"net_cash_flow_from_financing_activities\": {\"value\": -30433000000.0, \"unit\": \"USD\", \"label\": \"Net Cash Flow From Financing Activities\", \"order\": 700}, \"net_cash_flow_from_operating_activities_continuing\": {\"value\": 22690000000.0, \"unit\": \"USD\", \"label\": \"Net Cash Flow From Operating Activities, Continuing\", \"order\": 200}, \"net_cash_flow_from_investing_activities\": {\"value\": -310000000.0, \"unit\": \"USD\", \"label\": \"Net Cash Flow From Investing Activities\", \"order\": 400}, \"net_cash_flow\": {\"value\": -8053000000.0, \"unit\": \"USD\", \"label\": \"Net Cash Flow\", \"order\": 1100}, \"net_cash_flow_from_investing_activities_continuing\": {\"value\": -310000000.0, \"unit\": \"USD\", \"label\": \"Net Cash Flow From Investing Activities, Continuing\", \"order\": 500}, \"net_cash_flow_from_operating_activities\": {\"value\": 22690000000.0, \"unit\": \"USD\", \"label\": \"Net Cash Flow From Operating Activities\", \"order\": 100}, \"net_cash_flow_continuing\": {\"value\": -8053000000.0, \"unit\": \"USD\", \"label\": \"Net Cash Flow, Continuing\", \"order\": 1200}, \"net_cash_flow_from_financing_activities_continuing\": {\"value\": -30433000000.0, \"unit\": \"USD\", \"label\": \"Net Cash Flow From Financing Activities, Continuing\", \"order\": 800}}}}, {\"start_date\": \"2023-10-01\", \"end_date\": \"2023-12-30\", \"filing_date\": \"2024-02-02\", \"acceptance_datetime\": \"2024-02-01T23:03:38Z\", \"timeframe\": \"quarterly\", \"fiscal_period\": \"Q1\", \"fiscal_year\": \"2024\", \"cik\": \"0000320193\", \"sic\": \"3571\", \"tickers\": [\"AAPL\"], \"company_name\": \"Apple Inc.\", \"source_filing_url\": \"https://api.polygon.io/v1/reference/sec/filings/0000320193-24-000006\", \"source_filing_file_url\": \"http://api.polygon.io/v1/reference/sec/filings/0000320193-24-000006/files/aapl-20231230_htm.xml\", \"financials\": {\"comprehensive_income\": {\"other_comprehensive_income_loss_attributable_to_parent\": {\"value\": 2074000000.0, \"unit\": \"USD\", \"label\": \"Other Comprehensive Income/Loss Attributable To Parent\", \"order\": 600}, \"comprehensive_income_loss_attributable_to_parent\": {\"value\": 35990000000.0, \"unit\": \"USD\", \"label\": \"Comprehensive Income/Loss Attributable To Parent\", \"order\": 300}, \"comprehensive_income_loss\": {\"value\": 35990000000.0, \"unit\": \"USD\", \"label\": \"Comprehensive Income/Loss\", \"order\": 100}, \"comprehensive_income_loss_attributable_to_noncontrolling_interest\": {\"value\": 0, \"unit\": \"USD\", \"label\": \"Comprehensive Income/Loss Attributable To Noncontrolling Interest\", \"order\": 200}, \"other_comprehensive_income_loss\": {\"value\": 35990000000.0, \"unit\": \"USD\", \"label\": \"Other Comprehensive Income/Loss\", \"order\": 400}}, \"income_statement\": {\"diluted_average_shares\": {\"value\": 15576641000.0, \"unit\": \"shares\", \"label\": \"Diluted Average Shares\", \"order\": 4500}, \"preferred_stock_dividends_and_other_adjustments\": {\"value\": 0, \"unit\": \"USD\", \"label\": \"Preferred Stock Dividends And Other Adjustments\", \"order\": 3900}, \"income_loss_from_continuing_operations_after_tax\": {\"value\": 33916000000.0, \"unit\": \"USD\", \"label\": \"Income/Loss From Continuing Operations After Tax\", \"order\": 1400}, \"nonoperating_income_loss\": {\"value\": -50000000.0, \"unit\": \"USD\", \"label\": \"Nonoperating Income/Loss\", \"order\": 900}, \"revenues\": {\"value\": 119575000000.0, \"unit\": \"USD\", \"label\": \"Revenues\", \"order\": 100}, \"income_loss_from_continuing_operations_before_tax\": {\"value\": 40323000000.0, \"unit\": \"USD\", \"label\": \"Income/Loss From Continuing Operations Before Tax\", \"order\": 1500}, \"diluted_earnings_per_share\": {\"value\": 2.18, \"unit\": \"USD / shares\", \"label\": \"Diluted Earnings Per Share\", \"order\": 4300}, \"operating_expenses\": {\"value\": 14482000000.0, \"unit\": \"USD\", \"label\": \"Operating Expenses\", \"order\": 1000}, \"research_and_development\": {\"value\": 7696000000.0, \"unit\": \"USD\", \"label\": \"Research and Development\", \"order\": 1030}, \"net_income_loss_available_to_common_stockholders_basic\": {\"value\": 33916000000.0, \"unit\": \"USD\", \"label\": \"Net Income/Loss Available To Common Stockholders, Basic\", \"order\": 3700}, \"income_tax_expense_benefit\": {\"value\": 6407000000.0, \"unit\": \"USD\", \"label\": \"Income Tax Expense/Benefit\", \"order\": 2200}, \"net_income_loss_attributable_to_noncontrolling_interest\": {\"value\": 0, \"unit\": \"USD\", \"label\": \"Net Income/Loss Attributable To Noncontrolling Interest\", \"order\": 3300}, \"costs_and_expenses\": {\"value\": 79252000000.0, \"unit\": \"USD\", \"label\": \"Costs And Expenses\", \"order\": 600}, \"benefits_costs_expenses\": {\"value\": 79252000000.0, \"unit\": \"USD\", \"label\": \"Benefits Costs and Expenses\", \"order\": 200}, \"selling_general_and_administrative_expenses\": {\"value\": 6786000000.0, \"unit\": \"USD\", \"label\": \"Selling, General, and Administrative Expenses\", \"order\": 1010}, \"operating_income_loss\": {\"value\": 40373000000.0, \"unit\": \"USD\", \"label\": \"Operating Income/Loss\", \"order\": 1100}, \"cost_of_revenue\": {\"value\": 64720000000.0, \"unit\": \"USD\", \"label\": \"Cost Of Revenue\", \"order\": 300}, \"participating_securities_distributed_and_undistributed_earnings_loss_basic\": {\"value\": 0, \"unit\": \"USD\", \"label\": \"Participating Securities, Distributed And Undistributed Earnings/Loss, Basic\", \"order\": 3800}, \"net_income_loss\": {\"value\": 33916000000.0, \"unit\": \"USD\", \"label\": \"Net Income/Loss\", \"order\": 3200}, \"basic_earnings_per_share\": {\"value\": 2.19, \"unit\": \"USD / shares\", \"label\": \"Basic Earnings Per Share\", \"order\": 4200}, \"gross_profit\": {\"value\": 54855000000.0, \"unit\": \"USD\", \"label\": \"Gross Profit\", \"order\": 800}, \"basic_average_shares\": {\"value\": 15509763000.0, \"unit\": \"shares\", \"label\": \"Basic Average Shares\", \"order\": 4400}, \"net_income_loss_attributable_to_parent\": {\"value\": 33916000000.0, \"unit\": \"USD\", \"label\": \"Net Income/Loss Attributable To Parent\", \"order\": 3500}}, \"balance_sheet\": {\"other_current_liabilities\": {\"value\": 75827000000.0, \"unit\": \"USD\", \"label\": \"Other Current Liabilities\", \"order\": 740}, \"equity_attributable_to_noncontrolling_interest\": {\"value\": 0, \"unit\": \"USD\", \"label\": \"Equity Attributable To Noncontrolling Interest\", \"order\": 1500}, \"liabilities_and_equity\": {\"value\": 353514000000.0, \"unit\": \"USD\", \"label\": \"Liabilities And Equity\", \"order\": 1900}, \"noncurrent_assets\": {\"value\": 209822000000.0, \"unit\": \"USD\", \"label\": \"Noncurrent Assets\", \"order\": 300}, \"inventory\": {\"value\": 6511000000.0, \"unit\": \"USD\", \"label\": \"Inventory\", \"order\": 230}, \"accounts_payable\": {\"value\": 58146000000.0, \"unit\": \"USD\", \"label\": \"Accounts Payable\", \"order\": 710}, \"other_noncurrent_liabilities\": {\"value\": 39441000000.0, \"unit\": \"USD\", \"label\": \"Other Non-current Liabilities\", \"order\": 820}, \"other_current_assets\": {\"value\": 137181000000.0, \"unit\": \"USD\", \"label\": \"Other Current Assets\", \"order\": 250}, \"equity_attributable_to_parent\": {\"value\": 74100000000.0, \"unit\": \"USD\", \"label\": \"Equity Attributable To Parent\", \"order\": 1600}, \"current_liabilities\": {\"value\": 133973000000.0, \"unit\": \"USD\", \"label\": \"Current Liabilities\", \"order\": 700}, \"liabilities\": {\"value\": 279414000000.0, \"unit\": \"USD\", \"label\": \"Liabilities\", \"order\": 600}, \"equity\": {\"value\": 74100000000.0, \"unit\": \"USD\", \"label\": \"Equity\", \"order\": 1400}, \"current_assets\": {\"value\": 143692000000.0, \"unit\": \"USD\", \"label\": \"Current Assets\", \"order\": 200}, \"other_noncurrent_assets\": {\"value\": 166156000000.0, \"unit\": \"USD\", \"label\": \"Other Non-current Assets\", \"order\": 350}, \"assets\": {\"value\": 353514000000.0, \"unit\": \"USD\", \"label\": \"Assets\", \"order\": 100}, \"long_term_debt\": {\"value\": 106000000000.0, \"unit\": \"USD\", \"label\": \"Long-term Debt\", \"order\": 810}, \"noncurrent_liabilities\": {\"value\": 145441000000.0, \"unit\": \"USD\", \"label\": \"Noncurrent Liabilities\", \"order\": 800}, \"fixed_assets\": {\"value\": 43666000000.0, \"unit\": \"USD\", \"label\": \"Fixed Assets\", \"order\": 320}}, \"cash_flow_statement\": {\"net_cash_flow_from_investing_activities_continuing\": {\"value\": 1927000000.0, \"unit\": \"USD\", \"label\": \"Net Cash Flow From Investing Activities, Continuing\", \"order\": 500}, \"net_cash_flow\": {\"value\": 11237000000.0, \"unit\": \"USD\", \"label\": \"Net Cash Flow\", \"order\": 1100}, \"net_cash_flow_from_financing_activities\": {\"value\": -30585000000.0, \"unit\": \"USD\", \"label\": \"Net Cash Flow From Financing Activities\", \"order\": 700}, \"net_cash_flow_from_operating_activities\": {\"value\": 39895000000.0, \"unit\": \"USD\", \"label\": \"Net Cash Flow From Operating Activities\", \"order\": 100}, \"net_cash_flow_from_operating_activities_continuing\": {\"value\": 39895000000.0, \"unit\": \"USD\", \"label\": \"Net Cash Flow From Operating Activities, Continuing\", \"order\": 200}, \"net_cash_flow_from_financing_activities_continuing\": {\"value\": -30585000000.0, \"unit\": \"USD\", \"label\": \"Net Cash Flow From Financing Activities, Continuing\", \"order\": 800}, \"net_cash_flow_continuing\": {\"value\": 11237000000.0, \"unit\": \"USD\", \"label\": \"Net Cash Flow, Continuing\", \"order\": 1200}, \"net_cash_flow_from_investing_activities\": {\"value\": 1927000000.0, \"unit\": \"USD\", \"label\": \"Net Cash Flow From Investing Activities\", \"order\": 400}}}}, {\"start_date\": \"2023-07-02\", \"end_date\": \"2023-09-30\", \"timeframe\": \"quarterly\", \"fiscal_period\": \"Q4\", \"fiscal_year\": \"2023\", \"cik\": \"0000320193\", \"sic\": \"3571\", \"tickers\": [\"AAPL\"], \"company_name\": \"Apple Inc.\", \"financials\": {\"comprehensive_income\": {\"comprehensive_income_loss_attributable_to_parent\": {\"value\": 23305000000.0, \"unit\": \"USD\", \"label\": \"Comprehensive Income/Loss Attributable To Parent\", \"order\": 300}, \"other_comprehensive_income_loss_attributable_to_parent\": {\"value\": 349000000.0, \"unit\": \"USD\", \"label\": \"Other Comprehensive Income/Loss Attributable To Parent\", \"order\": 600}, \"comprehensive_income_loss_attributable_to_noncontrolling_interest\": {\"value\": 0, \"unit\": \"USD\", \"label\": \"Comprehensive Income/Loss Attributable To Noncontrolling Interest\", \"order\": 200}, \"other_comprehensive_income_loss\": {\"value\": 23305000000.0, \"unit\": \"USD\", \"label\": \"Other Comprehensive Income/Loss\", \"order\": 400}, \"comprehensive_income_loss\": {\"value\": 23305000000.0, \"unit\": \"USD\", \"label\": \"Comprehensive Income/Loss\", \"order\": 100}}, \"cash_flow_statement\": {\"net_cash_flow_from_financing_activities_continuing\": {\"value\": -23153000000.0, \"unit\": \"USD\", \"label\": \"Net Cash Flow From Financing Activities, Continuing\", \"order\": 800}, \"net_cash_flow_continuing\": {\"value\": 839000000.0, \"unit\": \"USD\", \"label\": \"Net Cash Flow, Continuing\", \"order\": 1200}, \"net_cash_flow\": {\"value\": 839000000.0, \"unit\": \"USD\", \"label\": \"Net Cash Flow\", \"order\": 1100}, \"net_cash_flow_from_operating_activities\": {\"value\": 21598000000.0, \"unit\": \"USD\", \"label\": \"Net Cash Flow From Operating Activities\", \"order\": 100}, \"net_cash_flow_from_investing_activities_continuing\": {\"value\": 2394000000.0, \"unit\": \"USD\", \"label\": \"Net Cash Flow From Investing Activities, Continuing\", \"order\": 500}, \"net_cash_flow_from_financing_activities\": {\"value\": -23153000000.0, \"unit\": \"USD\", \"label\": \"Net Cash Flow From Financing Activities\", \"order\": 700}, \"net_cash_flow_from_investing_activities\": {\"value\": 2394000000.0, \"unit\": \"USD\", \"label\": \"Net Cash Flow From Investing Activities\", \"order\": 400}, \"net_cash_flow_from_operating_activities_continuing\": {\"value\": 21598000000.0, \"unit\": \"USD\", \"label\": \"Net Cash Flow From Operating Activities, Continuing\", \"order\": 200}}, \"income_statement\": {\"selling_general_and_administrative_expenses\": {\"value\": 6151000000.0, \"unit\": \"USD\", \"label\": \"Selling, General, and Administrative Expenses\", \"order\": 1010}, \"net_income_loss\": {\"value\": 22956000000.0, \"unit\": \"USD\", \"label\": \"Net Income/Loss\", \"order\": 3200}, \"income_loss_from_continuing_operations_before_tax\": {\"value\": 26998000000.0, \"unit\": \"USD\", \"label\": \"Income/Loss From Continuing Operations Before Tax\", \"order\": 1500}, \"revenues\": {\"value\": 89498000000.0, \"unit\": \"USD\", \"label\": \"Revenues\", \"order\": 100}, \"operating_expenses\": {\"value\": 13458000000.0, \"unit\": \"USD\", \"label\": \"Operating Expenses\", \"order\": 1000}, \"interest_expense_operating\": {\"value\": 1002000000.0, \"unit\": \"USD\", \"label\": \"Interest Expense, Operating\", \"order\": 2700}, \"net_income_loss_attributable_to_noncontrolling_interest\": {\"value\": 0, \"unit\": \"USD\", \"label\": \"Net Income/Loss Attributable To Noncontrolling Interest\", \"order\": 3300}, \"preferred_stock_dividends_and_other_adjustments\": {\"value\": 0, \"unit\": \"USD\", \"label\": \"Preferred Stock Dividends And Other Adjustments\", \"order\": 3900}, \"diluted_average_shares\": {\"value\": -46716000.0, \"unit\": \"shares\", \"label\": \"Diluted Average Shares\", \"order\": 4500}, \"income_tax_expense_benefit\": {\"value\": 4042000000.0, \"unit\": \"USD\", \"label\": \"Income Tax Expense/Benefit\", \"order\": 2200}, \"net_income_loss_attributable_to_parent\": {\"value\": 22956000000.0, \"unit\": \"USD\", \"label\": \"Net Income/Loss Attributable To Parent\", \"order\": 3500}, \"benefits_costs_expenses\": {\"value\": 62500000000.0, \"unit\": \"USD\", \"label\": \"Benefits Costs and Expenses\", \"order\": 200}, \"nonoperating_income_loss\": {\"value\": 29000000.0, \"unit\": \"USD\", \"label\": \"Nonoperating Income/Loss\", \"order\": 900}, \"gross_profit\": {\"value\": 40427000000.0, \"unit\": \"USD\", \"label\": \"Gross Profit\", \"order\": 800}, \"diluted_earnings_per_share\": {\"value\": 1.46, \"unit\": \"USD / shares\", \"label\": \"Diluted Earnings Per Share\", \"order\": 4300}, \"basic_earnings_per_share\": {\"value\": 1.4699999999999998, \"unit\": \"USD / shares\", \"label\": \"Basic Earnings Per Share\", \"order\": 4200}, \"participating_securities_distributed_and_undistributed_earnings_loss_basic\": {\"value\": 0, \"unit\": \"USD\", \"label\": \"Participating Securities, Distributed And Undistributed Earnings/Loss, Basic\", \"order\": 3800}, \"operating_income_loss\": {\"value\": 26969000000.0, \"unit\": \"USD\", \"label\": \"Operating Income/Loss\", \"order\": 1100}, \"cost_of_revenue\": {\"value\": 49071000000.0, \"unit\": \"USD\", \"label\": \"Cost Of Revenue\", \"order\": 300}, \"costs_and_expenses\": {\"value\": 62500000000.0, \"unit\": \"USD\", \"label\": \"Costs And Expenses\", \"order\": 600}, \"basic_average_shares\": {\"value\": -48266000.0, \"unit\": \"shares\", \"label\": \"Basic Average Shares\", \"order\": 4400}, \"net_income_loss_available_to_common_stockholders_basic\": {\"value\": 22956000000.0, \"unit\": \"USD\", \"label\": \"Net Income/Loss Available To Common Stockholders, Basic\", \"order\": 3700}, \"research_and_development\": {\"value\": 7307000000.0, \"unit\": \"USD\", \"label\": \"Research and Development\", \"order\": 1030}, \"income_loss_from_continuing_operations_after_tax\": {\"value\": 22956000000.0, \"unit\": \"USD\", \"label\": \"Income/Loss From Continuing Operations After Tax\", \"order\": 1400}}, \"balance_sheet\": {\"other_current_assets\": {\"value\": 137235000000.0, \"unit\": \"USD\", \"label\": \"Other Current Assets\", \"order\": 250}, \"current_assets\": {\"value\": 143566000000.0, \"unit\": \"USD\", \"label\": \"Current Assets\", \"order\": 200}, \"noncurrent_liabilities\": {\"value\": 145129000000.0, \"unit\": \"USD\", \"label\": \"Noncurrent Liabilities\", \"order\": 800}, \"equity\": {\"value\": 62146000000.0, \"unit\": \"USD\", \"label\": \"Equity\", \"order\": 1400}, \"liabilities_and_equity\": {\"value\": 352583000000.0, \"unit\": \"USD\", \"label\": \"Liabilities And Equity\", \"order\": 1900}, \"accounts_payable\": {\"value\": 62611000000.0, \"unit\": \"USD\", \"label\": \"Accounts Payable\", \"order\": 710}, \"other_current_liabilities\": {\"value\": 82697000000.0, \"unit\": \"USD\", \"label\": \"Other Current Liabilities\", \"order\": 740}, \"other_noncurrent_assets\": {\"value\": 165302000000.0, \"unit\": \"USD\", \"label\": \"Other Non-current Assets\", \"order\": 350}, \"liabilities\": {\"value\": 290437000000.0, \"unit\": \"USD\", \"label\": \"Liabilities\", \"order\": 600}, \"equity_attributable_to_parent\": {\"value\": 62146000000.0, \"unit\": \"USD\", \"label\": \"Equity Attributable To Parent\", \"order\": 1600}, \"assets\": {\"value\": 352583000000.0, \"unit\": \"USD\", \"label\": \"Assets\", \"order\": 100}, \"inventory\": {\"value\": 6331000000.0, \"unit\": \"USD\", \"label\": \"Inventory\", \"order\": 230}, \"noncurrent_assets\": {\"value\": 209017000000.0, \"unit\": \"USD\", \"label\": \"Noncurrent Assets\", \"order\": 300}, \"equity_attributable_to_noncontrolling_interest\": {\"value\": 0, \"unit\": \"USD\", \"label\": \"Equity Attributable To Noncontrolling Interest\", \"order\": 1500}, \"fixed_assets\": {\"value\": 43715000000.0, \"unit\": \"USD\", \"label\": \"Fixed Assets\", \"order\": 320}, \"other_noncurrent_liabilities\": {\"value\": 40026000000.0, \"unit\": \"USD\", \"label\": \"Other Non-current Liabilities\", \"order\": 820}, \"current_liabilities\": {\"value\": 145308000000.0, \"unit\": \"USD\", \"label\": \"Current Liabilities\", \"order\": 700}, \"long_term_debt\": {\"value\": 105103000000.0, \"unit\": \"USD\", \"label\": \"Long-term Debt\", \"order\": 810}}}}, {\"start_date\": \"2022-09-25\", \"end_date\": \"2023-09-30\", \"filing_date\": \"2023-11-03\", \"acceptance_datetime\": \"2023-11-02T22:08:27Z\", \"timeframe\": \"annual\", \"fiscal_period\": \"FY\", \"fiscal_year\": \"2023\", \"cik\": \"0000320193\", \"sic\": \"3571\", \"tickers\": [\"AAPL\"], \"company_name\": \"Apple Inc.\", \"source_filing_url\": \"https://api.polygon.io/v1/reference/sec/filings/0000320193-23-000106\", \"source_filing_file_url\": \"http://api.polygon.io/v1/reference/sec/filings/0000320193-23-000106/files/aapl-20230930_htm.xml\", \"financials\": {\"cash_flow_statement\": {\"net_cash_flow\": {\"value\": 5760000000.0, \"unit\": \"USD\", \"label\": \"Net Cash Flow\", \"order\": 1100}, \"net_cash_flow_from_operating_activities\": {\"value\": 110543000000.0, \"unit\": \"USD\", \"label\": \"Net Cash Flow From Operating Activities\", \"order\": 100}, \"net_cash_flow_from_investing_activities_continuing\": {\"value\": 3705000000.0, \"unit\": \"USD\", \"label\": \"Net Cash Flow From Investing Activities, Continuing\", \"order\": 500}, \"net_cash_flow_from_operating_activities_continuing\": {\"value\": 110543000000.0, \"unit\": \"USD\", \"label\": \"Net Cash Flow From Operating Activities, Continuing\", \"order\": 200}, \"net_cash_flow_from_investing_activities\": {\"value\": 3705000000.0, \"unit\": \"USD\", \"label\": \"Net Cash Flow From Investing Activities\", \"order\": 400}, \"net_cash_flow_from_financing_activities\": {\"value\": -108488000000.0, \"unit\": \"USD\", \"label\": \"Net Cash Flow From Financing Activities\", \"order\": 700}, \"net_cash_flow_continuing\": {\"value\": 5760000000.0, \"unit\": \"USD\", \"label\": \"Net Cash Flow, Continuing\", \"order\": 1200}, \"net_cash_flow_from_financing_activities_continuing\": {\"value\": -108488000000.0, \"unit\": \"USD\", \"label\": \"Net Cash Flow From Financing Activities, Continuing\", \"order\": 800}}, \"comprehensive_income\": {\"other_comprehensive_income_loss_attributable_to_parent\": {\"value\": -343000000.0, \"unit\": \"USD\", \"label\": \"Other Comprehensive Income/Loss Attributable To Parent\", \"order\": 600}, \"comprehensive_income_loss_attributable_to_noncontrolling_interest\": {\"value\": 0, \"unit\": \"USD\", \"label\": \"Comprehensive Income/Loss Attributable To Noncontrolling Interest\", \"order\": 200}, \"comprehensive_income_loss\": {\"value\": 96652000000.0, \"unit\": \"USD\", \"label\": \"Comprehensive Income/Loss\", \"order\": 100}, \"other_comprehensive_income_loss\": {\"value\": 96652000000.0, \"unit\": \"USD\", \"label\": \"Other Comprehensive Income/Loss\", \"order\": 400}, \"comprehensive_income_loss_attributable_to_parent\": {\"value\": 96652000000.0, \"unit\": \"USD\", \"label\": \"Comprehensive Income/Loss Attributable To Parent\", \"order\": 300}}, \"balance_sheet\": {\"inventory\": {\"value\": 6331000000.0, \"unit\": \"USD\", \"label\": \"Inventory\", \"order\": 230}, \"other_noncurrent_assets\": {\"value\": 165302000000.0, \"unit\": \"USD\", \"label\": \"Other Non-current Assets\", \"order\": 350}, \"other_current_assets\": {\"value\": 137235000000.0, \"unit\": \"USD\", \"label\": \"Other Current Assets\", \"order\": 250}, \"liabilities\": {\"value\": 290437000000.0, \"unit\": \"USD\", \"label\": \"Liabilities\", \"order\": 600}, \"current_liabilities\": {\"value\": 145308000000.0, \"unit\": \"USD\", \"label\": \"Current Liabilities\", \"order\": 700}, \"fixed_assets\": {\"value\": 43715000000.0, \"unit\": \"USD\", \"label\": \"Fixed Assets\", \"order\": 320}, \"equity\": {\"value\": 62146000000.0, \"unit\": \"USD\", \"label\": \"Equity\", \"order\": 1400}, \"assets\": {\"value\": 352583000000.0, \"unit\": \"USD\", \"label\": \"Assets\", \"order\": 100}, \"equity_attributable_to_parent\": {\"value\": 62146000000.0, \"unit\": \"USD\", \"label\": \"Equity Attributable To Parent\", \"order\": 1600}, \"noncurrent_liabilities\": {\"value\": 145129000000.0, \"unit\": \"USD\", \"label\": \"Noncurrent Liabilities\", \"order\": 800}, \"equity_attributable_to_noncontrolling_interest\": {\"value\": 0, \"unit\": \"USD\", \"label\": \"Equity Attributable To Noncontrolling Interest\", \"order\": 1500}, \"liabilities_and_equity\": {\"value\": 352583000000.0, \"unit\": \"USD\", \"label\": \"Liabilities And Equity\", \"order\": 1900}, \"accounts_payable\": {\"value\": 62611000000.0, \"unit\": \"USD\", \"label\": \"Accounts Payable\", \"order\": 710}, \"long_term_debt\": {\"value\": 105103000000.0, \"unit\": \"USD\", \"label\": \"Long-term Debt\", \"order\": 810}, \"other_current_liabilities\": {\"value\": 82697000000.0, \"unit\": \"USD\", \"label\": \"Other Current Liabilities\", \"order\": 740}, \"current_assets\": {\"value\": 143566000000.0, \"unit\": \"USD\", \"label\": \"Current Assets\", \"order\": 200}, \"other_noncurrent_liabilities\": {\"value\": 40026000000.0, \"unit\": \"USD\", \"label\": \"Other Non-current Liabilities\", \"order\": 820}, \"noncurrent_assets\": {\"value\": 209017000000.0, \"unit\": \"USD\", \"label\": \"Noncurrent Assets\", \"order\": 300}}, \"income_statement\": {\"research_and_development\": {\"value\": 29915000000.0, \"unit\": \"USD\", \"label\": \"Research and Development\", \"order\": 1030}, \"net_income_loss_attributable_to_noncontrolling_interest\": {\"value\": 0, \"unit\": \"USD\", \"label\": \"Net Income/Loss Attributable To Noncontrolling Interest\", \"order\": 3300}, \"preferred_stock_dividends_and_other_adjustments\": {\"value\": 0, \"unit\": \"USD\", \"label\": \"Preferred Stock Dividends And Other Adjustments\", \"order\": 3900}, \"basic_average_shares\": {\"value\": 15744231000.0, \"unit\": \"shares\", \"label\": \"Basic Average Shares\", \"order\": 4400}, \"basic_earnings_per_share\": {\"value\": 6.16, \"unit\": \"USD / shares\", \"label\": \"Basic Earnings Per Share\", \"order\": 4200}, \"diluted_average_shares\": {\"value\": 15812547000.0, \"unit\": \"shares\", \"label\": \"Diluted Average Shares\", \"order\": 4500}, \"operating_income_loss\": {\"value\": 114301000000.0, \"unit\": \"USD\", \"label\": \"Operating Income/Loss\", \"order\": 1100}, \"net_income_loss_available_to_common_stockholders_basic\": {\"value\": 96995000000.0, \"unit\": \"USD\", \"label\": \"Net Income/Loss Available To Common Stockholders, Basic\", \"order\": 3700}, \"net_income_loss\": {\"value\": 96995000000.0, \"unit\": \"USD\", \"label\": \"Net Income/Loss\", \"order\": 3200}, \"nonoperating_income_loss\": {\"value\": -565000000.0, \"unit\": \"USD\", \"label\": \"Nonoperating Income/Loss\", \"order\": 900}, \"income_loss_from_continuing_operations_after_tax\": {\"value\": 96995000000.0, \"unit\": \"USD\", \"label\": \"Income/Loss From Continuing Operations After Tax\", \"order\": 1400}, \"revenues\": {\"value\": 383285000000.0, \"unit\": \"USD\", \"label\": \"Revenues\", \"order\": 100}, \"operating_expenses\": {\"value\": 54847000000.0, \"unit\": \"USD\", \"label\": \"Operating Expenses\", \"order\": 1000}, \"income_tax_expense_benefit\": {\"value\": 16741000000.0, \"unit\": \"USD\", \"label\": \"Income Tax Expense/Benefit\", \"order\": 2200}, \"benefits_costs_expenses\": {\"value\": 269549000000.0, \"unit\": \"USD\", \"label\": \"Benefits Costs and Expenses\", \"order\": 200}, \"net_income_loss_attributable_to_parent\": {\"value\": 96995000000.0, \"unit\": \"USD\", \"label\": \"Net Income/Loss Attributable To Parent\", \"order\": 3500}, \"gross_profit\": {\"value\": 169148000000.0, \"unit\": \"USD\", \"label\": \"Gross Profit\", \"order\": 800}, \"diluted_earnings_per_share\": {\"value\": 6.13, \"unit\": \"USD / shares\", \"label\": \"Diluted Earnings Per Share\", \"order\": 4300}, \"costs_and_expenses\": {\"value\": 269549000000.0, \"unit\": \"USD\", \"label\": \"Costs And Expenses\", \"order\": 600}, \"participating_securities_distributed_and_undistributed_earnings_loss_basic\": {\"value\": 0, \"unit\": \"USD\", \"label\": \"Participating Securities, Distributed And Undistributed Earnings/Loss, Basic\", \"order\": 3800}, \"selling_general_and_administrative_expenses\": {\"value\": 24932000000.0, \"unit\": \"USD\", \"label\": \"Selling, General, and Administrative Expenses\", \"order\": 1010}, \"cost_of_revenue\": {\"value\": 214137000000.0, \"unit\": \"USD\", \"label\": \"Cost Of Revenue\", \"order\": 300}, \"interest_expense_operating\": {\"value\": 3933000000.0, \"unit\": \"USD\", \"label\": \"Interest Expense, Operating\", \"order\": 2700}, \"income_loss_from_continuing_operations_before_tax\": {\"value\": 113736000000.0, \"unit\": \"USD\", \"label\": \"Income/Loss From Continuing Operations Before Tax\", \"order\": 1500}}}}, {\"start_date\": \"2023-04-02\", \"end_date\": \"2023-07-01\", \"filing_date\": \"2023-08-04\", \"acceptance_datetime\": \"2023-08-03T22:04:43Z\", \"timeframe\": \"quarterly\", \"fiscal_period\": \"Q3\", \"fiscal_year\": \"2023\", \"cik\": \"0000320193\", \"sic\": \"3571\", \"tickers\": [\"AAPL\"], \"company_name\": \"Apple Inc.\", \"source_filing_url\": \"https://api.polygon.io/v1/reference/sec/filings/0000320193-23-000077\", \"source_filing_file_url\": \"http://api.polygon.io/v1/reference/sec/filings/0000320193-23-000077/files/aapl-20230701_htm.xml\", \"financials\": {\"cash_flow_statement\": {\"net_cash_flow_continuing\": {\"value\": 2769000000.0, \"unit\": \"USD\", \"label\": \"Net Cash Flow, Continuing\", \"order\": 1200}, \"net_cash_flow_from_financing_activities_continuing\": {\"value\": -24048000000.0, \"unit\": \"USD\", \"label\": \"Net Cash Flow From Financing Activities, Continuing\", \"order\": 800}, \"net_cash_flow\": {\"value\": 2769000000.0, \"unit\": \"USD\", \"label\": \"Net Cash Flow\", \"order\": 1100}, \"net_cash_flow_from_financing_activities\": {\"value\": -24048000000.0, \"unit\": \"USD\", \"label\": \"Net Cash Flow From Financing Activities\", \"order\": 700}, \"net_cash_flow_from_investing_activities\": {\"value\": 437000000.0, \"unit\": \"USD\", \"label\": \"Net Cash Flow From Investing Activities\", \"order\": 400}, \"net_cash_flow_from_operating_activities_continuing\": {\"value\": 26380000000.0, \"unit\": \"USD\", \"label\": \"Net Cash Flow From Operating Activities, Continuing\", \"order\": 200}, \"net_cash_flow_from_operating_activities\": {\"value\": 26380000000.0, \"unit\": \"USD\", \"label\": \"Net Cash Flow From Operating Activities\", \"order\": 100}, \"net_cash_flow_from_investing_activities_continuing\": {\"value\": 437000000.0, \"unit\": \"USD\", \"label\": \"Net Cash Flow From Investing Activities, Continuing\", \"order\": 500}}, \"income_statement\": {\"income_loss_from_continuing_operations_after_tax\": {\"value\": 19881000000.0, \"unit\": \"USD\", \"label\": \"Income/Loss From Continuing Operations After Tax\", \"order\": 1400}, \"participating_securities_distributed_and_undistributed_earnings_loss_basic\": {\"value\": 0, \"unit\": \"USD\", \"label\": \"Participating Securities, Distributed And Undistributed Earnings/Loss, Basic\", \"order\": 3800}, \"basic_average_shares\": {\"value\": 15697614000.0, \"unit\": \"shares\", \"label\": \"Basic Average Shares\", \"order\": 4400}, \"net_income_loss_attributable_to_parent\": {\"value\": 19881000000.0, \"unit\": \"USD\", \"label\": \"Net Income/Loss Attributable To Parent\", \"order\": 3500}, \"basic_earnings_per_share\": {\"value\": 1.27, \"unit\": \"USD / shares\", \"label\": \"Basic Earnings Per Share\", \"order\": 4200}, \"income_tax_expense_benefit\": {\"value\": 2852000000.0, \"unit\": \"USD\", \"label\": \"Income Tax Expense/Benefit\", \"order\": 2200}, \"income_loss_from_continuing_operations_before_tax\": {\"value\": 22733000000.0, \"unit\": \"USD\", \"label\": \"Income/Loss From Continuing Operations Before Tax\", \"order\": 1500}, \"diluted_average_shares\": {\"value\": 15775021000.0, \"unit\": \"shares\", \"label\": \"Diluted Average Shares\", \"order\": 4500}, \"revenues\": {\"value\": 81797000000.0, \"unit\": \"USD\", \"label\": \"Revenues\", \"order\": 100}, \"selling_general_and_administrative_expenses\": {\"value\": 5973000000.0, \"unit\": \"USD\", \"label\": \"Selling, General, and Administrative Expenses\", \"order\": 1010}, \"research_and_development\": {\"value\": 7442000000.0, \"unit\": \"USD\", \"label\": \"Research and Development\", \"order\": 1030}, \"net_income_loss\": {\"value\": 19881000000.0, \"unit\": \"USD\", \"label\": \"Net Income/Loss\", \"order\": 3200}, \"interest_expense_operating\": {\"value\": 998000000.0, \"unit\": \"USD\", \"label\": \"Interest Expense, Operating\", \"order\": 2700}, \"diluted_earnings_per_share\": {\"value\": 1.26, \"unit\": \"USD / shares\", \"label\": \"Diluted Earnings Per Share\", \"order\": 4300}, \"benefits_costs_expenses\": {\"value\": 59064000000.0, \"unit\": \"USD\", \"label\": \"Benefits Costs and Expenses\", \"order\": 200}, \"net_income_loss_available_to_common_stockholders_basic\": {\"value\": 19881000000.0, \"unit\": \"USD\", \"label\": \"Net Income/Loss Available To Common Stockholders, Basic\", \"order\": 3700}, \"net_income_loss_attributable_to_noncontrolling_interest\": {\"value\": 0, \"unit\": \"USD\", \"label\": \"Net Income/Loss Attributable To Noncontrolling Interest\", \"order\": 3300}, \"costs_and_expenses\": {\"value\": 59064000000.0, \"unit\": \"USD\", \"label\": \"Costs And Expenses\", \"order\": 600}, \"preferred_stock_dividends_and_other_adjustments\": {\"value\": 0, \"unit\": \"USD\", \"label\": \"Preferred Stock Dividends And Other Adjustments\", \"order\": 3900}, \"operating_expenses\": {\"value\": 13415000000.0, \"unit\": \"USD\", \"label\": \"Operating Expenses\", \"order\": 1000}, \"nonoperating_income_loss\": {\"value\": -265000000.0, \"unit\": \"USD\", \"label\": \"Nonoperating Income/Loss\", \"order\": 900}, \"operating_income_loss\": {\"value\": 22998000000.0, \"unit\": \"USD\", \"label\": \"Operating Income/Loss\", \"order\": 1100}, \"gross_profit\": {\"value\": 36413000000.0, \"unit\": \"USD\", \"label\": \"Gross Profit\", \"order\": 800}, \"cost_of_revenue\": {\"value\": 45384000000.0, \"unit\": \"USD\", \"label\": \"Cost Of Revenue\", \"order\": 300}}, \"balance_sheet\": {\"assets\": {\"value\": 335038000000.0, \"unit\": \"USD\", \"label\": \"Assets\", \"order\": 100}, \"fixed_assets\": {\"value\": 43550000000.0, \"unit\": \"USD\", \"label\": \"Fixed Assets\", \"order\": 320}, \"long_term_debt\": {\"value\": 105300000000.0, \"unit\": \"USD\", \"label\": \"Long-term Debt\", \"order\": 810}, \"equity_attributable_to_noncontrolling_interest\": {\"value\": 0, \"unit\": \"USD\", \"label\": \"Equity Attributable To Noncontrolling Interest\", \"order\": 1500}, \"current_assets\": {\"value\": 122659000000.0, \"unit\": \"USD\", \"label\": \"Current Assets\", \"order\": 200}, \"current_liabilities\": {\"value\": 124963000000.0, \"unit\": \"USD\", \"label\": \"Current Liabilities\", \"order\": 700}, \"noncurrent_liabilities\": {\"value\": 149801000000.0, \"unit\": \"USD\", \"label\": \"Noncurrent Liabilities\", \"order\": 800}, \"other_noncurrent_assets\": {\"value\": 168829000000.0, \"unit\": \"USD\", \"label\": \"Other Non-current Assets\", \"order\": 350}, \"other_noncurrent_liabilities\": {\"value\": 44501000000.0, \"unit\": \"USD\", \"label\": \"Other Non-current Liabilities\", \"order\": 820}, \"liabilities\": {\"value\": 274764000000.0, \"unit\": \"USD\", \"label\": \"Liabilities\", \"order\": 600}, \"other_current_assets\": {\"value\": 115308000000.0, \"unit\": \"USD\", \"label\": \"Other Current Assets\", \"order\": 250}, \"noncurrent_assets\": {\"value\": 212379000000.0, \"unit\": \"USD\", \"label\": \"Noncurrent Assets\", \"order\": 300}, \"equity_attributable_to_parent\": {\"value\": 60274000000.0, \"unit\": \"USD\", \"label\": \"Equity Attributable To Parent\", \"order\": 1600}, \"other_current_liabilities\": {\"value\": 78264000000.0, \"unit\": \"USD\", \"label\": \"Other Current Liabilities\", \"order\": 740}, \"accounts_payable\": {\"value\": 46699000000.0, \"unit\": \"USD\", \"label\": \"Accounts Payable\", \"order\": 710}, \"inventory\": {\"value\": 7351000000.0, \"unit\": \"USD\", \"label\": \"Inventory\", \"order\": 230}, \"liabilities_and_equity\": {\"value\": 335038000000.0, \"unit\": \"USD\", \"label\": \"Liabilities And Equity\", \"order\": 1900}, \"equity\": {\"value\": 60274000000.0, \"unit\": \"USD\", \"label\": \"Equity\", \"order\": 1400}}, \"comprehensive_income\": {\"comprehensive_income_loss_attributable_to_parent\": {\"value\": 19826000000.0, \"unit\": \"USD\", \"label\": \"Comprehensive Income/Loss Attributable To Parent\", \"order\": 300}, \"other_comprehensive_income_loss_attributable_to_parent\": {\"value\": -55000000.0, \"unit\": \"USD\", \"label\": \"Other Comprehensive Income/Loss Attributable To Parent\", \"order\": 600}, \"comprehensive_income_loss\": {\"value\": 19826000000.0, \"unit\": \"USD\", \"label\": \"Comprehensive Income/Loss\", \"order\": 100}, \"other_comprehensive_income_loss\": {\"value\": 19826000000.0, \"unit\": \"USD\", \"label\": \"Other Comprehensive Income/Loss\", \"order\": 400}, \"comprehensive_income_loss_attributable_to_noncontrolling_interest\": {\"value\": 0, \"unit\": \"USD\", \"label\": \"Comprehensive Income/Loss Attributable To Noncontrolling Interest\", \"order\": 200}}}}, {\"start_date\": \"2023-01-01\", \"end_date\": \"2023-04-01\", \"filing_date\": \"2023-05-05\", \"acceptance_datetime\": \"2023-05-04T22:03:52Z\", \"timeframe\": \"quarterly\", \"fiscal_period\": \"Q2\", \"fiscal_year\": \"2023\", \"cik\": \"0000320193\", \"sic\": \"3571\", \"tickers\": [\"AAPL\"], \"company_name\": \"Apple Inc.\", \"source_filing_url\": \"https://api.polygon.io/v1/reference/sec/filings/0000320193-23-000064\", \"source_filing_file_url\": \"http://api.polygon.io/v1/reference/sec/filings/0000320193-23-000064/files/aapl-20230401_htm.xml\", \"financials\": {\"income_statement\": {\"net_income_loss_attributable_to_noncontrolling_interest\": {\"value\": 0, \"unit\": \"USD\", \"label\": \"Net Income/Loss Attributable To Noncontrolling Interest\", \"order\": 3300}, \"income_loss_from_continuing_operations_after_tax\": {\"value\": 24160000000.0, \"unit\": \"USD\", \"label\": \"Income/Loss From Continuing Operations After Tax\", \"order\": 1400}, \"preferred_stock_dividends_and_other_adjustments\": {\"value\": 0, \"unit\": \"USD\", \"label\": \"Preferred Stock Dividends And Other Adjustments\", \"order\": 3900}, \"participating_securities_distributed_and_undistributed_earnings_loss_basic\": {\"value\": 0, \"unit\": \"USD\", \"label\": \"Participating Securities, Distributed And Undistributed Earnings/Loss, Basic\", \"order\": 3800}, \"net_income_loss\": {\"value\": 24160000000.0, \"unit\": \"USD\", \"label\": \"Net Income/Loss\", \"order\": 3200}, \"benefits_costs_expenses\": {\"value\": 66454000000.0, \"unit\": \"USD\", \"label\": \"Benefits Costs and Expenses\", \"order\": 200}, \"operating_income_loss\": {\"value\": 28318000000.0, \"unit\": \"USD\", \"label\": \"Operating Income/Loss\", \"order\": 1100}, \"net_income_loss_attributable_to_parent\": {\"value\": 24160000000.0, \"unit\": \"USD\", \"label\": \"Net Income/Loss Attributable To Parent\", \"order\": 3500}, \"income_tax_expense_benefit\": {\"value\": 4222000000.0, \"unit\": \"USD\", \"label\": \"Income Tax Expense/Benefit\", \"order\": 2200}, \"operating_expenses\": {\"value\": 13658000000.0, \"unit\": \"USD\", \"label\": \"Operating Expenses\", \"order\": 1000}, \"nonoperating_income_loss\": {\"value\": 64000000.0, \"unit\": \"USD\", \"label\": \"Nonoperating Income/Loss\", \"order\": 900}, \"income_loss_from_continuing_operations_before_tax\": {\"value\": 28382000000.0, \"unit\": \"USD\", \"label\": \"Income/Loss From Continuing Operations Before Tax\", \"order\": 1500}, \"net_income_loss_available_to_common_stockholders_basic\": {\"value\": 24160000000.0, \"unit\": \"USD\", \"label\": \"Net Income/Loss Available To Common Stockholders, Basic\", \"order\": 3700}, \"revenues\": {\"value\": 94836000000.0, \"unit\": \"USD\", \"label\": \"Revenues\", \"order\": 100}, \"gross_profit\": {\"value\": 41976000000.0, \"unit\": \"USD\", \"label\": \"Gross Profit\", \"order\": 800}, \"selling_general_and_administrative_expenses\": {\"value\": 6201000000.0, \"unit\": \"USD\", \"label\": \"Selling, General, and Administrative Expenses\", \"order\": 1010}, \"basic_earnings_per_share\": {\"value\": 1.53, \"unit\": \"USD / shares\", \"label\": \"Basic Earnings Per Share\", \"order\": 4200}, \"costs_and_expenses\": {\"value\": 66454000000.0, \"unit\": \"USD\", \"label\": \"Costs And Expenses\", \"order\": 600}, \"research_and_development\": {\"value\": 7457000000.0, \"unit\": \"USD\", \"label\": \"Research and Development\", \"order\": 1030}, \"cost_of_revenue\": {\"value\": 52860000000.0, \"unit\": \"USD\", \"label\": \"Cost Of Revenue\", \"order\": 300}, \"diluted_average_shares\": {\"value\": 15847050000.0, \"unit\": \"shares\", \"label\": \"Diluted Average Shares\", \"order\": 4500}, \"diluted_earnings_per_share\": {\"value\": 1.52, \"unit\": \"USD / shares\", \"label\": \"Diluted Earnings Per Share\", \"order\": 4300}, \"interest_expense_operating\": {\"value\": 930000000.0, \"unit\": \"USD\", \"label\": \"Interest Expense, Operating\", \"order\": 2700}, \"basic_average_shares\": {\"value\": 15787154000.0, \"unit\": \"shares\", \"label\": \"Basic Average Shares\", \"order\": 4400}}, \"cash_flow_statement\": {\"net_cash_flow_from_operating_activities_continuing\": {\"value\": 28560000000.0, \"unit\": \"USD\", \"label\": \"Net Cash Flow From Operating Activities, Continuing\", \"order\": 200}, \"net_cash_flow_from_investing_activities_continuing\": {\"value\": 2319000000.0, \"unit\": \"USD\", \"label\": \"Net Cash Flow From Investing Activities, Continuing\", \"order\": 500}, \"net_cash_flow\": {\"value\": 5155000000.0, \"unit\": \"USD\", \"label\": \"Net Cash Flow\", \"order\": 1100}, \"net_cash_flow_continuing\": {\"value\": 5155000000.0, \"unit\": \"USD\", \"label\": \"Net Cash Flow, Continuing\", \"order\": 1200}, \"net_cash_flow_from_investing_activities\": {\"value\": 2319000000.0, \"unit\": \"USD\", \"label\": \"Net Cash Flow From Investing Activities\", \"order\": 400}, \"net_cash_flow_from_operating_activities\": {\"value\": 28560000000.0, \"unit\": \"USD\", \"label\": \"Net Cash Flow From Operating Activities\", \"order\": 100}, \"net_cash_flow_from_financing_activities\": {\"value\": -25724000000.0, \"unit\": \"USD\", \"label\": \"Net Cash Flow From Financing Activities\", \"order\": 700}, \"net_cash_flow_from_financing_activities_continuing\": {\"value\": -25724000000.0, \"unit\": \"USD\", \"label\": \"Net Cash Flow From Financing Activities, Continuing\", \"order\": 800}}, \"comprehensive_income\": {\"other_comprehensive_income_loss\": {\"value\": 25326000000.0, \"unit\": \"USD\", \"label\": \"Other Comprehensive Income/Loss\", \"order\": 400}, \"comprehensive_income_loss_attributable_to_parent\": {\"value\": 25326000000.0, \"unit\": \"USD\", \"label\": \"Comprehensive Income/Loss Attributable To Parent\", \"order\": 300}, \"comprehensive_income_loss_attributable_to_noncontrolling_interest\": {\"value\": 0, \"unit\": \"USD\", \"label\": \"Comprehensive Income/Loss Attributable To Noncontrolling Interest\", \"order\": 200}, \"comprehensive_income_loss\": {\"value\": 25326000000.0, \"unit\": \"USD\", \"label\": \"Comprehensive Income/Loss\", \"order\": 100}, \"other_comprehensive_income_loss_attributable_to_parent\": {\"value\": 1166000000.0, \"unit\": \"USD\", \"label\": \"Other Comprehensive Income/Loss Attributable To Parent\", \"order\": 600}}, \"balance_sheet\": {\"equity_attributable_to_parent\": {\"value\": 62158000000.0, \"unit\": \"USD\", \"label\": \"Equity Attributable To Parent\", \"order\": 1600}, \"liabilities\": {\"value\": 270002000000.0, \"unit\": \"USD\", \"label\": \"Liabilities\", \"order\": 600}, \"current_assets\": {\"value\": 112913000000.0, \"unit\": \"USD\", \"label\": \"Current Assets\", \"order\": 200}, \"other_current_assets\": {\"value\": 105431000000.0, \"unit\": \"USD\", \"label\": \"Other Current Assets\", \"order\": 250}, \"noncurrent_assets\": {\"value\": 219247000000.0, \"unit\": \"USD\", \"label\": \"Noncurrent Assets\", \"order\": 300}, \"other_current_liabilities\": {\"value\": 77130000000.0, \"unit\": \"USD\", \"label\": \"Other Current Liabilities\", \"order\": 740}, \"long_term_debt\": {\"value\": 107600000000.0, \"unit\": \"USD\", \"label\": \"Long-term Debt\", \"order\": 810}, \"fixed_assets\": {\"value\": 43398000000.0, \"unit\": \"USD\", \"label\": \"Fixed Assets\", \"order\": 320}, \"inventory\": {\"value\": 7482000000.0, \"unit\": \"USD\", \"label\": \"Inventory\", \"order\": 230}, \"current_liabilities\": {\"value\": 120075000000.0, \"unit\": \"USD\", \"label\": \"Current Liabilities\", \"order\": 700}, \"assets\": {\"value\": 332160000000.0, \"unit\": \"USD\", \"label\": \"Assets\", \"order\": 100}, \"liabilities_and_equity\": {\"value\": 332160000000.0, \"unit\": \"USD\", \"label\": \"Liabilities And Equity\", \"order\": 1900}, \"equity\": {\"value\": 62158000000.0, \"unit\": \"USD\", \"label\": \"Equity\", \"order\": 1400}, \"accounts_payable\": {\"value\": 42945000000.0, \"unit\": \"USD\", \"label\": \"Accounts Payable\", \"order\": 710}, \"other_noncurrent_assets\": {\"value\": 175849000000.0, \"unit\": \"USD\", \"label\": \"Other Non-current Assets\", \"order\": 350}, \"other_noncurrent_liabilities\": {\"value\": 42327000000.0, \"unit\": \"USD\", \"label\": \"Other Non-current Liabilities\", \"order\": 820}, \"noncurrent_liabilities\": {\"value\": 149927000000.0, \"unit\": \"USD\", \"label\": \"Noncurrent Liabilities\", \"order\": 800}, \"equity_attributable_to_noncontrolling_interest\": {\"value\": 0, \"unit\": \"USD\", \"label\": \"Equity Attributable To Noncontrolling Interest\", \"order\": 1500}}}}, {\"start_date\": \"2022-09-25\", \"end_date\": \"2022-12-31\", \"filing_date\": \"2023-02-03\", \"timeframe\": \"quarterly\", \"fiscal_period\": \"Q1\", \"fiscal_year\": \"2023\", \"cik\": \"0000320193\", \"sic\": \"3571\", \"tickers\": [\"AAPL\"], \"company_name\": \"Apple Inc.\", \"source_filing_url\": \"https://api.polygon.io/v1/reference/sec/filings/0000320193-23-000006\", \"source_filing_file_url\": \"http://api.polygon.io/v1/reference/sec/filings/0000320193-23-000006/files/aapl-20221231_htm.xml\", \"financials\": {\"cash_flow_statement\": {\"net_cash_flow_continuing\": {\"value\": -3003000000.0, \"unit\": \"USD\", \"label\": \"Net Cash Flow, Continuing\", \"order\": 1200}, \"net_cash_flow_from_investing_activities_continuing\": {\"value\": -1445000000.0, \"unit\": \"USD\", \"label\": \"Net Cash Flow From Investing Activities, Continuing\", \"order\": 500}, \"net_cash_flow\": {\"value\": -3003000000.0, \"unit\": \"USD\", \"label\": \"Net Cash Flow\", \"order\": 1100}, \"net_cash_flow_from_financing_activities\": {\"value\": -35563000000.0, \"unit\": \"USD\", \"label\": \"Net Cash Flow From Financing Activities\", \"order\": 700}, \"net_cash_flow_from_operating_activities\": {\"value\": 34005000000.0, \"unit\": \"USD\", \"label\": \"Net Cash Flow From Operating Activities\", \"order\": 100}, \"net_cash_flow_from_financing_activities_continuing\": {\"value\": -35563000000.0, \"unit\": \"USD\", \"label\": \"Net Cash Flow From Financing Activities, Continuing\", \"order\": 800}, \"net_cash_flow_from_operating_activities_continuing\": {\"value\": 34005000000.0, \"unit\": \"USD\", \"label\": \"Net Cash Flow From Operating Activities, Continuing\", \"order\": 200}, \"net_cash_flow_from_investing_activities\": {\"value\": -1445000000.0, \"unit\": \"USD\", \"label\": \"Net Cash Flow From Investing Activities\", \"order\": 400}}, \"comprehensive_income\": {\"comprehensive_income_loss_attributable_to_parent\": {\"value\": 28195000000.0, \"unit\": \"USD\", \"label\": \"Comprehensive Income/Loss Attributable To Parent\", \"order\": 300}, \"other_comprehensive_income_loss_attributable_to_parent\": {\"value\": -1803000000.0, \"unit\": \"USD\", \"label\": \"Other Comprehensive Income/Loss Attributable To Parent\", \"order\": 600}, \"comprehensive_income_loss_attributable_to_noncontrolling_interest\": {\"value\": 0, \"unit\": \"USD\", \"label\": \"Comprehensive Income/Loss Attributable To Noncontrolling Interest\", \"order\": 200}, \"other_comprehensive_income_loss\": {\"value\": 28195000000.0, \"unit\": \"USD\", \"label\": \"Other Comprehensive Income/Loss\", \"order\": 400}, \"comprehensive_income_loss\": {\"value\": 28195000000.0, \"unit\": \"USD\", \"label\": \"Comprehensive Income/Loss\", \"order\": 100}}, \"balance_sheet\": {\"other_current_liabilities\": {\"value\": 79368000000.0, \"unit\": \"USD\", \"label\": \"Other Current Liabilities\", \"order\": 740}, \"noncurrent_assets\": {\"value\": 217970000000.0, \"unit\": \"USD\", \"label\": \"Noncurrent Assets\", \"order\": 300}, \"other_current_assets\": {\"value\": 121957000000.0, \"unit\": \"USD\", \"label\": \"Other Current Assets\", \"order\": 250}, \"equity_attributable_to_noncontrolling_interest\": {\"value\": 0, \"unit\": \"USD\", \"label\": \"Equity Attributable To Noncontrolling Interest\", \"order\": 1500}, \"equity_attributable_to_parent\": {\"value\": 56727000000.0, \"unit\": \"USD\", \"label\": \"Equity Attributable To Parent\", \"order\": 1600}, \"inventory\": {\"value\": 6820000000.0, \"unit\": \"USD\", \"label\": \"Inventory\", \"order\": 230}, \"assets\": {\"value\": 346747000000.0, \"unit\": \"USD\", \"label\": \"Assets\", \"order\": 100}, \"current_assets\": {\"value\": 128777000000.0, \"unit\": \"USD\", \"label\": \"Current Assets\", \"order\": 200}, \"accounts_payable\": {\"value\": 57918000000.0, \"unit\": \"USD\", \"label\": \"Accounts Payable\", \"order\": 710}, \"liabilities\": {\"value\": 290020000000.0, \"unit\": \"USD\", \"label\": \"Liabilities\", \"order\": 600}, \"long_term_debt\": {\"value\": 109400000000.0, \"unit\": \"USD\", \"label\": \"Long-term Debt\", \"order\": 810}, \"noncurrent_liabilities\": {\"value\": 152734000000.0, \"unit\": \"USD\", \"label\": \"Noncurrent Liabilities\", \"order\": 800}, \"liabilities_and_equity\": {\"value\": 346747000000.0, \"unit\": \"USD\", \"label\": \"Liabilities And Equity\", \"order\": 1900}, \"current_liabilities\": {\"value\": 137286000000.0, \"unit\": \"USD\", \"label\": \"Current Liabilities\", \"order\": 700}, \"other_noncurrent_assets\": {\"value\": 175019000000.0, \"unit\": \"USD\", \"label\": \"Other Non-current Assets\", \"order\": 350}, \"equity\": {\"value\": 56727000000.0, \"unit\": \"USD\", \"label\": \"Equity\", \"order\": 1400}, \"other_noncurrent_liabilities\": {\"value\": 43334000000.0, \"unit\": \"USD\", \"label\": \"Other Non-current Liabilities\", \"order\": 820}, \"fixed_assets\": {\"value\": 42951000000.0, \"unit\": \"USD\", \"label\": \"Fixed Assets\", \"order\": 320}}, \"income_statement\": {\"net_income_loss_attributable_to_parent\": {\"value\": 29998000000.0, \"unit\": \"USD\", \"label\": \"Net Income/Loss Attributable To Parent\", \"order\": 3500}, \"preferred_stock_dividends_and_other_adjustments\": {\"value\": 0, \"unit\": \"USD\", \"label\": \"Preferred Stock Dividends And Other Adjustments\", \"order\": 3900}, \"cost_of_revenue\": {\"value\": 66822000000.0, \"unit\": \"USD\", \"label\": \"Cost Of Revenue\", \"order\": 300}, \"operating_income_loss\": {\"value\": 36016000000.0, \"unit\": \"USD\", \"label\": \"Operating Income/Loss\", \"order\": 1100}, \"participating_securities_distributed_and_undistributed_earnings_loss_basic\": {\"value\": 0, \"unit\": \"USD\", \"label\": \"Participating Securities, Distributed And Undistributed Earnings/Loss, Basic\", \"order\": 3800}, \"research_and_development\": {\"value\": 7709000000.0, \"unit\": \"USD\", \"label\": \"Research and Development\", \"order\": 1030}, \"net_income_loss\": {\"value\": 29998000000.0, \"unit\": \"USD\", \"label\": \"Net Income/Loss\", \"order\": 3200}, \"net_income_loss_attributable_to_noncontrolling_interest\": {\"value\": 0, \"unit\": \"USD\", \"label\": \"Net Income/Loss Attributable To Noncontrolling Interest\", \"order\": 3300}, \"costs_and_expenses\": {\"value\": 81531000000.0, \"unit\": \"USD\", \"label\": \"Costs And Expenses\", \"order\": 600}, \"revenues\": {\"value\": 117154000000.0, \"unit\": \"USD\", \"label\": \"Revenues\", \"order\": 100}, \"nonoperating_income_loss\": {\"value\": -393000000.0, \"unit\": \"USD\", \"label\": \"Nonoperating Income/Loss\", \"order\": 900}, \"benefits_costs_expenses\": {\"value\": 81531000000.0, \"unit\": \"USD\", \"label\": \"Benefits Costs and Expenses\", \"order\": 200}, \"basic_earnings_per_share\": {\"value\": 1.89, \"unit\": \"USD / shares\", \"label\": \"Basic Earnings Per Share\", \"order\": 4200}, \"income_loss_from_continuing_operations_before_tax\": {\"value\": 35623000000.0, \"unit\": \"USD\", \"label\": \"Income/Loss From Continuing Operations Before Tax\", \"order\": 1500}, \"basic_average_shares\": {\"value\": 15892723000.0, \"unit\": \"shares\", \"label\": \"Basic Average Shares\", \"order\": 4400}, \"income_loss_from_continuing_operations_after_tax\": {\"value\": 29998000000.0, \"unit\": \"USD\", \"label\": \"Income/Loss From Continuing Operations After Tax\", \"order\": 1400}, \"operating_expenses\": {\"value\": 14316000000.0, \"unit\": \"USD\", \"label\": \"Operating Expenses\", \"order\": 1000}, \"income_tax_expense_benefit\": {\"value\": 5625000000.0, \"unit\": \"USD\", \"label\": \"Income Tax Expense/Benefit\", \"order\": 2200}, \"diluted_earnings_per_share\": {\"value\": 1.88, \"unit\": \"USD / shares\", \"label\": \"Diluted Earnings Per Share\", \"order\": 4300}, \"gross_profit\": {\"value\": 50332000000.0, \"unit\": \"USD\", \"label\": \"Gross Profit\", \"order\": 800}, \"selling_general_and_administrative_expenses\": {\"value\": 6607000000.0, \"unit\": \"USD\", \"label\": \"Selling, General, and Administrative Expenses\", \"order\": 1010}, \"diluted_average_shares\": {\"value\": 15955718000.0, \"unit\": \"shares\", \"label\": \"Diluted Average Shares\", \"order\": 4500}, \"interest_expense_operating\": {\"value\": 1003000000.0, \"unit\": \"USD\", \"label\": \"Interest Expense, Operating\", \"order\": 2700}, \"net_income_loss_available_to_common_stockholders_basic\": {\"value\": 29998000000.0, \"unit\": \"USD\", \"label\": \"Net Income/Loss Available To Common Stockholders, Basic\", \"order\": 3700}}}}, {\"start_date\": \"2022-06-26\", \"end_date\": \"2022-09-24\", \"timeframe\": \"quarterly\", \"fiscal_period\": \"Q4\", \"fiscal_year\": \"2022\", \"cik\": \"0000320193\", \"sic\": \"3571\", \"tickers\": [\"AAPL\"], \"company_name\": \"Apple Inc.\", \"financials\": {\"comprehensive_income\": {\"comprehensive_income_loss\": {\"value\": 18909000000.0, \"unit\": \"USD\", \"label\": \"Comprehensive Income/Loss\", \"order\": 100}, \"other_comprehensive_income_loss\": {\"value\": 18909000000.0, \"unit\": \"USD\", \"label\": \"Other Comprehensive Income/Loss\", \"order\": 400}, \"comprehensive_income_loss_attributable_to_noncontrolling_interest\": {\"value\": 0, \"unit\": \"USD\", \"label\": \"Comprehensive Income/Loss Attributable To Noncontrolling Interest\", \"order\": 200}, \"comprehensive_income_loss_attributable_to_parent\": {\"value\": 18909000000.0, \"unit\": \"USD\", \"label\": \"Comprehensive Income/Loss Attributable To Parent\", \"order\": 300}, \"other_comprehensive_income_loss_attributable_to_parent\": {\"value\": -1812000000.0, \"unit\": \"USD\", \"label\": \"Other Comprehensive Income/Loss Attributable To Parent\", \"order\": 600}}, \"balance_sheet\": {\"equity_attributable_to_noncontrolling_interest\": {\"value\": 0, \"unit\": \"USD\", \"label\": \"Equity Attributable To Noncontrolling Interest\", \"order\": 1500}, \"equity_attributable_to_parent\": {\"value\": 50672000000.0, \"unit\": \"USD\", \"label\": \"Equity Attributable To Parent\", \"order\": 1600}, \"noncurrent_assets\": {\"value\": 217350000000.0, \"unit\": \"USD\", \"label\": \"Noncurrent Assets\", \"order\": 300}, \"noncurrent_liabilities\": {\"value\": 148101000000.0, \"unit\": \"USD\", \"label\": \"Noncurrent Liabilities\", \"order\": 800}, \"fixed_assets\": {\"value\": 42117000000.0, \"unit\": \"USD\", \"label\": \"Fixed Assets\", \"order\": 320}, \"liabilities_and_equity\": {\"value\": 352755000000.0, \"unit\": \"USD\", \"label\": \"Liabilities And Equity\", \"order\": 1900}, \"other_current_assets\": {\"value\": 130459000000.0, \"unit\": \"USD\", \"label\": \"Other Current Assets\", \"order\": 250}, \"current_liabilities\": {\"value\": 153982000000.0, \"unit\": \"USD\", \"label\": \"Current Liabilities\", \"order\": 700}, \"other_noncurrent_assets\": {\"value\": 175233000000.0, \"unit\": \"USD\", \"label\": \"Other Non-current Assets\", \"order\": 350}, \"liabilities\": {\"value\": 302083000000.0, \"unit\": \"USD\", \"label\": \"Liabilities\", \"order\": 600}, \"equity\": {\"value\": 50672000000.0, \"unit\": \"USD\", \"label\": \"Equity\", \"order\": 1400}, \"inventory\": {\"value\": 4946000000.0, \"unit\": \"USD\", \"label\": \"Inventory\", \"order\": 230}, \"other_current_liabilities\": {\"value\": 89867000000.0, \"unit\": \"USD\", \"label\": \"Other Current Liabilities\", \"order\": 740}, \"current_assets\": {\"value\": 135405000000.0, \"unit\": \"USD\", \"label\": \"Current Assets\", \"order\": 200}, \"assets\": {\"value\": 352755000000.0, \"unit\": \"USD\", \"label\": \"Assets\", \"order\": 100}, \"accounts_payable\": {\"value\": 64115000000.0, \"unit\": \"USD\", \"label\": \"Accounts Payable\", \"order\": 710}}, \"income_statement\": {\"gross_profit\": {\"value\": 38095000000.0, \"unit\": \"USD\", \"label\": \"Gross Profit\", \"order\": 800}, \"interest_expense_operating\": {\"value\": 827000000.0, \"unit\": \"USD\", \"label\": \"Interest Expense, Operating\", \"order\": 2700}, \"revenues\": {\"value\": 90146000000.0, \"unit\": \"USD\", \"label\": \"Revenues\", \"order\": 100}, \"preferred_stock_dividends_and_other_adjustments\": {\"value\": 0, \"unit\": \"USD\", \"label\": \"Preferred Stock Dividends And Other Adjustments\", \"order\": 3900}, \"operating_income_loss\": {\"value\": 24894000000.0, \"unit\": \"USD\", \"label\": \"Operating Income/Loss\", \"order\": 1100}, \"basic_earnings_per_share\": {\"value\": 1.29, \"unit\": \"USD / shares\", \"label\": \"Basic Earnings Per Share\", \"order\": 4200}, \"income_loss_from_continuing_operations_before_tax\": {\"value\": 24657000000.0, \"unit\": \"USD\", \"label\": \"Income/Loss From Continuing Operations Before Tax\", \"order\": 1500}, \"net_income_loss_available_to_common_stockholders_basic\": {\"value\": 20721000000.0, \"unit\": \"USD\", \"label\": \"Net Income/Loss Available To Common Stockholders, Basic\", \"order\": 3700}, \"basic_average_shares\": {\"value\": -61861000.0, \"unit\": \"shares\", \"label\": \"Basic Average Shares\", \"order\": 4400}, \"cost_of_revenue\": {\"value\": 52051000000.0, \"unit\": \"USD\", \"label\": \"Cost Of Revenue\", \"order\": 300}, \"income_tax_expense_benefit\": {\"value\": 3936000000.0, \"unit\": \"USD\", \"label\": \"Income Tax Expense/Benefit\", \"order\": 2200}, \"research_and_development\": {\"value\": 6761000000.0, \"unit\": \"USD\", \"label\": \"Research and Development\", \"order\": 1030}, \"participating_securities_distributed_and_undistributed_earnings_loss_basic\": {\"value\": 0, \"unit\": \"USD\", \"label\": \"Participating Securities, Distributed And Undistributed Earnings/Loss, Basic\", \"order\": 3800}, \"income_tax_expense_benefit_deferred\": {\"value\": -1861000000.0, \"unit\": \"USD\", \"label\": \"Income Tax Expense/Benefit, Deferred\", \"order\": 2400}, \"net_income_loss_attributable_to_parent\": {\"value\": 20721000000.0, \"unit\": \"USD\", \"label\": \"Net Income/Loss Attributable To Parent\", \"order\": 3500}, \"diluted_earnings_per_share\": {\"value\": 1.29, \"unit\": \"USD / shares\", \"label\": \"Diluted Earnings Per Share\", \"order\": 4300}, \"net_income_loss_attributable_to_noncontrolling_interest\": {\"value\": 0, \"unit\": \"USD\", \"label\": \"Net Income/Loss Attributable To Noncontrolling Interest\", \"order\": 3300}, \"income_loss_from_continuing_operations_after_tax\": {\"value\": 20721000000.0, \"unit\": \"USD\", \"label\": \"Income/Loss From Continuing Operations After Tax\", \"order\": 1400}, \"nonoperating_income_loss\": {\"value\": -237000000.0, \"unit\": \"USD\", \"label\": \"Nonoperating Income/Loss\", \"order\": 900}, \"selling_general_and_administrative_expenses\": {\"value\": 6440000000.0, \"unit\": \"USD\", \"label\": \"Selling, General, and Administrative Expenses\", \"order\": 1010}, \"costs_and_expenses\": {\"value\": 65489000000.0, \"unit\": \"USD\", \"label\": \"Costs And Expenses\", \"order\": 600}, \"diluted_average_shares\": {\"value\": -69118000.0, \"unit\": \"shares\", \"label\": \"Diluted Average Shares\", \"order\": 4500}, \"operating_expenses\": {\"value\": 13201000000.0, \"unit\": \"USD\", \"label\": \"Operating Expenses\", \"order\": 1000}, \"net_income_loss\": {\"value\": 20721000000.0, \"unit\": \"USD\", \"label\": \"Net Income/Loss\", \"order\": 3200}, \"benefits_costs_expenses\": {\"value\": 65489000000.0, \"unit\": \"USD\", \"label\": \"Benefits Costs and Expenses\", \"order\": 200}}, \"cash_flow_statement\": {\"net_cash_flow_from_operating_activities\": {\"value\": 24127000000.0, \"unit\": \"USD\", \"label\": \"Net Cash Flow From Operating Activities\", \"order\": 100}, \"net_cash_flow_from_financing_activities_continuing\": {\"value\": -26794000000.0, \"unit\": \"USD\", \"label\": \"Net Cash Flow From Financing Activities, Continuing\", \"order\": 800}, \"net_cash_flow_from_investing_activities\": {\"value\": -1217000000.0, \"unit\": \"USD\", \"label\": \"Net Cash Flow From Investing Activities\", \"order\": 400}, \"net_cash_flow_from_financing_activities\": {\"value\": -26794000000.0, \"unit\": \"USD\", \"label\": \"Net Cash Flow From Financing Activities\", \"order\": 700}, \"net_cash_flow\": {\"value\": -3884000000.0, \"unit\": \"USD\", \"label\": \"Net Cash Flow\", \"order\": 1100}, \"net_cash_flow_continuing\": {\"value\": -3884000000.0, \"unit\": \"USD\", \"label\": \"Net Cash Flow, Continuing\", \"order\": 1200}, \"net_cash_flow_from_investing_activities_continuing\": {\"value\": -1217000000.0, \"unit\": \"USD\", \"label\": \"Net Cash Flow From Investing Activities, Continuing\", \"order\": 500}, \"net_cash_flow_from_operating_activities_continuing\": {\"value\": 24127000000.0, \"unit\": \"USD\", \"label\": \"Net Cash Flow From Operating Activities, Continuing\", \"order\": 200}}}}, {\"start_date\": \"2021-09-26\", \"end_date\": \"2022-09-24\", \"filing_date\": \"2022-10-28\", \"timeframe\": \"annual\", \"fiscal_period\": \"FY\", \"fiscal_year\": \"2022\", \"cik\": \"0000320193\", \"sic\": \"3571\", \"tickers\": [\"AAPL\"], \"company_name\": \"Apple Inc.\", \"source_filing_url\": \"https://api.polygon.io/v1/reference/sec/filings/0000320193-22-000108\", \"source_filing_file_url\": \"http://api.polygon.io/v1/reference/sec/filings/0000320193-22-000108/files/aapl-20220924_htm.xml\", \"financials\": {\"comprehensive_income\": {\"other_comprehensive_income_loss\": {\"value\": 88531000000.0, \"unit\": \"USD\", \"label\": \"Other Comprehensive Income/Loss\", \"order\": 400}, \"comprehensive_income_loss\": {\"value\": 88531000000.0, \"unit\": \"USD\", \"label\": \"Comprehensive Income/Loss\", \"order\": 100}, \"comprehensive_income_loss_attributable_to_noncontrolling_interest\": {\"value\": 0, \"unit\": \"USD\", \"label\": \"Comprehensive Income/Loss Attributable To Noncontrolling Interest\", \"order\": 200}, \"other_comprehensive_income_loss_attributable_to_parent\": {\"value\": -11272000000.0, \"unit\": \"USD\", \"label\": \"Other Comprehensive Income/Loss Attributable To Parent\", \"order\": 600}, \"comprehensive_income_loss_attributable_to_parent\": {\"value\": 88531000000.0, \"unit\": \"USD\", \"label\": \"Comprehensive Income/Loss Attributable To Parent\", \"order\": 300}}, \"income_statement\": {\"operating_expenses\": {\"value\": 51345000000.0, \"unit\": \"USD\", \"label\": \"Operating Expenses\", \"order\": 1000}, \"diluted_average_shares\": {\"value\": 16325819000.0, \"unit\": \"shares\", \"label\": \"Diluted Average Shares\", \"order\": 4500}, \"net_income_loss_available_to_common_stockholders_basic\": {\"value\": 99803000000.0, \"unit\": \"USD\", \"label\": \"Net Income/Loss Available To Common Stockholders, Basic\", \"order\": 3700}, \"research_and_development\": {\"value\": 26251000000.0, \"unit\": \"USD\", \"label\": \"Research and Development\", \"order\": 1030}, \"preferred_stock_dividends_and_other_adjustments\": {\"value\": 0, \"unit\": \"USD\", \"label\": \"Preferred Stock Dividends And Other Adjustments\", \"order\": 3900}, \"income_loss_from_continuing_operations_after_tax\": {\"value\": 99803000000.0, \"unit\": \"USD\", \"label\": \"Income/Loss From Continuing Operations After Tax\", \"order\": 1400}, \"income_loss_from_continuing_operations_before_tax\": {\"value\": 119103000000.0, \"unit\": \"USD\", \"label\": \"Income/Loss From Continuing Operations Before Tax\", \"order\": 1500}, \"net_income_loss_attributable_to_noncontrolling_interest\": {\"value\": 0, \"unit\": \"USD\", \"label\": \"Net Income/Loss Attributable To Noncontrolling Interest\", \"order\": 3300}, \"selling_general_and_administrative_expenses\": {\"value\": 25094000000.0, \"unit\": \"USD\", \"label\": \"Selling, General, and Administrative Expenses\", \"order\": 1010}, \"net_income_loss\": {\"value\": 99803000000.0, \"unit\": \"USD\", \"label\": \"Net Income/Loss\", \"order\": 3200}, \"gross_profit\": {\"value\": 170782000000.0, \"unit\": \"USD\", \"label\": \"Gross Profit\", \"order\": 800}, \"diluted_earnings_per_share\": {\"value\": 6.11, \"unit\": \"USD / shares\", \"label\": \"Diluted Earnings Per Share\", \"order\": 4300}, \"income_tax_expense_benefit\": {\"value\": 19300000000.0, \"unit\": \"USD\", \"label\": \"Income Tax Expense/Benefit\", \"order\": 2200}, \"income_tax_expense_benefit_deferred\": {\"value\": 895000000.0, \"unit\": \"USD\", \"label\": \"Income Tax Expense/Benefit, Deferred\", \"order\": 2400}, \"net_income_loss_attributable_to_parent\": {\"value\": 99803000000.0, \"unit\": \"USD\", \"label\": \"Net Income/Loss Attributable To Parent\", \"order\": 3500}, \"interest_expense_operating\": {\"value\": 2931000000.0, \"unit\": \"USD\", \"label\": \"Interest Expense, Operating\", \"order\": 2700}, \"participating_securities_distributed_and_undistributed_earnings_loss_basic\": {\"value\": 0, \"unit\": \"USD\", \"label\": \"Participating Securities, Distributed And Undistributed Earnings/Loss, Basic\", \"order\": 3800}, \"benefits_costs_expenses\": {\"value\": 275225000000.0, \"unit\": \"USD\", \"label\": \"Benefits Costs and Expenses\", \"order\": 200}, \"revenues\": {\"value\": 394328000000.0, \"unit\": \"USD\", \"label\": \"Revenues\", \"order\": 100}, \"operating_income_loss\": {\"value\": 119437000000.0, \"unit\": \"USD\", \"label\": \"Operating Income/Loss\", \"order\": 1100}, \"basic_earnings_per_share\": {\"value\": 6.15, \"unit\": \"USD / shares\", \"label\": \"Basic Earnings Per Share\", \"order\": 4200}, \"cost_of_revenue\": {\"value\": 223546000000.0, \"unit\": \"USD\", \"label\": \"Cost Of Revenue\", \"order\": 300}, \"basic_average_shares\": {\"value\": 16215963000.0, \"unit\": \"shares\", \"label\": \"Basic Average Shares\", \"order\": 4400}, \"nonoperating_income_loss\": {\"value\": -334000000.0, \"unit\": \"USD\", \"label\": \"Nonoperating Income/Loss\", \"order\": 900}, \"costs_and_expenses\": {\"value\": 275225000000.0, \"unit\": \"USD\", \"label\": \"Costs And Expenses\", \"order\": 600}}, \"cash_flow_statement\": {\"net_cash_flow_from_operating_activities\": {\"value\": 122151000000.0, \"unit\": \"USD\", \"label\": \"Net Cash Flow From Operating Activities\", \"order\": 100}, \"net_cash_flow_continuing\": {\"value\": -10952000000.0, \"unit\": \"USD\", \"label\": \"Net Cash Flow, Continuing\", \"order\": 1200}, \"net_cash_flow_from_investing_activities_continuing\": {\"value\": -22354000000.0, \"unit\": \"USD\", \"label\": \"Net Cash Flow From Investing Activities, Continuing\", \"order\": 500}, \"net_cash_flow\": {\"value\": -10952000000.0, \"unit\": \"USD\", \"label\": \"Net Cash Flow\", \"order\": 1100}, \"net_cash_flow_from_operating_activities_continuing\": {\"value\": 122151000000.0, \"unit\": \"USD\", \"label\": \"Net Cash Flow From Operating Activities, Continuing\", \"order\": 200}, \"net_cash_flow_from_financing_activities_continuing\": {\"value\": -110749000000.0, \"unit\": \"USD\", \"label\": \"Net Cash Flow From Financing Activities, Continuing\", \"order\": 800}, \"net_cash_flow_from_investing_activities\": {\"value\": -22354000000.0, \"unit\": \"USD\", \"label\": \"Net Cash Flow From Investing Activities\", \"order\": 400}, \"net_cash_flow_from_financing_activities\": {\"value\": -110749000000.0, \"unit\": \"USD\", \"label\": \"Net Cash Flow From Financing Activities\", \"order\": 700}}, \"balance_sheet\": {\"other_current_assets\": {\"value\": 130459000000.0, \"unit\": \"USD\", \"label\": \"Other Current Assets\", \"order\": 250}, \"assets\": {\"value\": 352755000000.0, \"unit\": \"USD\", \"label\": \"Assets\", \"order\": 100}, \"current_assets\": {\"value\": 135405000000.0, \"unit\": \"USD\", \"label\": \"Current Assets\", \"order\": 200}, \"noncurrent_liabilities\": {\"value\": 148101000000.0, \"unit\": \"USD\", \"label\": \"Noncurrent Liabilities\", \"order\": 800}, \"equity_attributable_to_parent\": {\"value\": 50672000000.0, \"unit\": \"USD\", \"label\": \"Equity Attributable To Parent\", \"order\": 1600}, \"current_liabilities\": {\"value\": 153982000000.0, \"unit\": \"USD\", \"label\": \"Current Liabilities\", \"order\": 700}, \"fixed_assets\": {\"value\": 42117000000.0, \"unit\": \"USD\", \"label\": \"Fixed Assets\", \"order\": 320}, \"other_current_liabilities\": {\"value\": 89867000000.0, \"unit\": \"USD\", \"label\": \"Other Current Liabilities\", \"order\": 740}, \"liabilities\": {\"value\": 302083000000.0, \"unit\": \"USD\", \"label\": \"Liabilities\", \"order\": 600}, \"liabilities_and_equity\": {\"value\": 352755000000.0, \"unit\": \"USD\", \"label\": \"Liabilities And Equity\", \"order\": 1900}, \"noncurrent_assets\": {\"value\": 217350000000.0, \"unit\": \"USD\", \"label\": \"Noncurrent Assets\", \"order\": 300}, \"equity_attributable_to_noncontrolling_interest\": {\"value\": 0, \"unit\": \"USD\", \"label\": \"Equity Attributable To Noncontrolling Interest\", \"order\": 1500}, \"equity\": {\"value\": 50672000000.0, \"unit\": \"USD\", \"label\": \"Equity\", \"order\": 1400}, \"other_noncurrent_assets\": {\"value\": 175233000000.0, \"unit\": \"USD\", \"label\": \"Other Non-current Assets\", \"order\": 350}, \"accounts_payable\": {\"value\": 64115000000.0, \"unit\": \"USD\", \"label\": \"Accounts Payable\", \"order\": 710}, \"inventory\": {\"value\": 4946000000.0, \"unit\": \"USD\", \"label\": \"Inventory\", \"order\": 230}}}}]\u001b[0m\u001b[32;1m\u001b[1;3mRelevant Documents: 0\n",
      "Cited Documents: 0\n",
      "Answer: Apple Inc. has a lot of financial information available. Here are some of the latest figures:\n",
      "\n",
      "- The company's latest quarterly revenue is $90.75 billion.\n",
      "- Its latest quarterly net income is $2.36 billion.\n",
      "- Its latest quarterly operating income is $2.79 billion.\n",
      "- Its latest quarterly gross profit is $4.23 billion.\n",
      "- Its latest quarterly operating expenses are $1.44 billion.\n",
      "- Its latest quarterly research and development expenses are $79 million.\n",
      "- Its latest quarterly net cash flow is negative $805 million.\n",
      "Grounded answer: Apple Inc. has a lot of financial information available. Here are some of the latest figures:\n",
      "\n",
      "- The company's latest quarterly <co: 0>revenue is $90.75 billion</co: 0>.\n",
      "- Its latest quarterly <co: 0>net income is $2.36 billion</co: 0>.\n",
      "- Its latest quarterly <co: 0>operating income is $2.79 billion</co: 0>.\n",
      "- Its latest quarterly <co: 0>gross profit is $4.23 billion</co: 0>.\n",
      "- Its latest quarterly <co: 0>operating expenses are $1.44 billion</co: 0>.\n",
      "- Its latest quarterly <co: 0>research and development expenses are $79 million</co: 0>.\n",
      "- Its latest quarterly <co: 0>net cash flow is negative $805 million</co: 0>.\u001b[0m\n",
      "\n",
      "\u001b[1m> Finished chain.\u001b[0m\n"
     ]
    },
    {
     "data": {
      "text/html": [
       "<p>Apple Inc. has a lot of financial information available. Here are some of the latest figures:</p>\n",
       "<ul>\n",
       "<li>The company's latest quarterly revenue is $90.75 billion.</li>\n",
       "<li>Its latest quarterly net income is $2.36 billion.</li>\n",
       "<li>Its latest quarterly operating income is $2.79 billion.</li>\n",
       "<li>Its latest quarterly gross profit is $4.23 billion.</li>\n",
       "<li>Its latest quarterly operating expenses are $1.44 billion.</li>\n",
       "<li>Its latest quarterly research and development expenses are $79 million.</li>\n",
       "<li>Its latest quarterly net cash flow is negative $805 million.</li>\n",
       "</ul>"
      ],
      "text/plain": [
       "<IPython.core.display.HTML object>"
      ]
     },
     "metadata": {},
     "output_type": "display_data"
    }
   ],
   "source": [
    "input = {\"input\": \"How are the financials for AAPL?\"}\n",
    "invoke_cohere_with_tools(tools=tools,input=input)"
   ]
  },
  {
   "cell_type": "markdown",
   "metadata": {},
   "source": [
    "## Imports for Embeddings and Qdrant"
   ]
  },
  {
   "cell_type": "code",
   "execution_count": 36,
   "metadata": {},
   "outputs": [],
   "source": [
    "from langchain.text_splitter import RecursiveCharacterTextSplitter\n",
    "from langchain.document_loaders import WebBaseLoader\n",
    "from langchain.embeddings.cohere import CohereEmbeddings\n",
    "from langchain.vectorstores import Qdrant\n",
    "from langchain_community.vectorstores import Qdrant\n",
    "from langchain.prompts import PromptTemplate\n",
    "from langchain.chains import ConversationalRetrievalChain\n",
    "from langchain.chains.conversation.memory import ConversationSummaryMemory\n",
    "import qdrant_client"
   ]
  },
  {
   "cell_type": "markdown",
   "metadata": {},
   "source": [
    "## Build Qdrant Vector Store"
   ]
  },
  {
   "cell_type": "code",
   "execution_count": null,
   "metadata": {},
   "outputs": [],
   "source": [
    "# web_links = [\"https://www.fielmann-group.com/ueber-uns/?\",\n",
    "#              \"https://de.wikipedia.org/wiki/Fielmann\",\n",
    "#              \"https://de.wikipedia.org/wiki/G%C3%BCnther_Fielmann\",\n",
    "#              \"https://de.wikipedia.org/wiki/Marc_Fielmann\"] \n",
    "\n",
    "web_links = [\"https://python.langchain.com/v0.2/docs/introduction\",\n",
    "             \"https://python.langchain.com/v0.2/docs/concepts\",\n",
    "             \"https://python.langchain.com/v0.2/docs/integrations/tools\",\n",
    "             \"https://python.langchain.com/v0.2/docs/integrations/vectorstores\",\n",
    "             \"https://python.langchain.com/v0.2/docs/integrations/document_loaders\",\n",
    "             \"https://python.langchain.com/v0.2/docs/integrations/retrievers\",\n",
    "             \"https://python.langchain.com/v0.2/docs/integrations/vectorstores/qdrant\",\n",
    "             \"https://python.langchain.com/v0.2/docs/integrations/providers/cohere/#react-agent\",\n",
    "             \"https://de.wikipedia.org/wiki/Herz#:~:text=Das%20Herz%20(lateinisch%20Cor%2C%20griechisch,die%20Versorgung%20aller%20Organe%20sichert.\"]\n",
    " \n",
    "\n",
    "loader = WebBaseLoader(web_links)\n",
    "document=loader.load()\n",
    "\n",
    "text_splitter = RecursiveCharacterTextSplitter(chunk_size=500, chunk_overlap=0)\n",
    "texts = text_splitter.split_documents(document)\n",
    "\n",
    "embeddings = CohereEmbeddings(model = \"embed-english-v2.0\")\n",
    "\n",
    "qdrant = Qdrant.from_documents(\n",
    "    document,\n",
    "    embeddings,\n",
    "    url=QDRANT_HOST,\n",
    "    api_key=QDRANT_API_KEY,\n",
    "    prefer_grpc=True,\n",
    "    collection_name=\"rag_documents\",\n",
    "    force_recreate=True,\n",
    ")\n"
   ]
  },
  {
   "cell_type": "markdown",
   "metadata": {},
   "source": [
    "## Load Qdrant Vector Store"
   ]
  },
  {
   "cell_type": "code",
   "execution_count": 37,
   "metadata": {},
   "outputs": [
    {
     "name": "stdout",
     "output_type": "stream",
     "text": [
      "connection established !\n"
     ]
    }
   ],
   "source": [
    "client = qdrant_client.QdrantClient(\n",
    "    url=QDRANT_HOST,\n",
    "    api_key=QDRANT_API_KEY,\n",
    ")\n",
    "embeddings = CohereEmbeddings(model=\"embed-english-v2.0\")\n",
    "vector_store = Qdrant(\n",
    "    client = client,\n",
    "    collection_name = \"rag_documents\",\n",
    "    embeddings = embeddings\n",
    ")\n",
    "print(\"connection established !\")"
   ]
  },
  {
   "cell_type": "markdown",
   "metadata": {},
   "source": [
    "## Use Qdrant Vector Store as RAG Retriever for Cohere"
   ]
  },
  {
   "cell_type": "code",
   "execution_count": 38,
   "metadata": {},
   "outputs": [
    {
     "data": {
      "text/html": [
       "<p>The tools in LangChain are:</p>\n",
       "<ul>\n",
       "<li>Alpha Vantage</li>\n",
       "<li>Apify</li>\n",
       "<li>Arxiv</li>\n",
       "<li>AskNews</li>\n",
       "<li>AWS Lambda</li>\n",
       "<li>Azure Container Apps dynamic sessions</li>\n",
       "<li>Shell (bash)</li>\n",
       "<li>Bearly Code Interpreter</li>\n",
       "<li>Bing Search</li>\n",
       "<li>Brave Search</li>\n",
       "<li>ChatGPT Plugins</li>\n",
       "<li>Connery Action Tool</li>\n",
       "<li>Dall-E Image Generator</li>\n",
       "<li>DataForSEO</li>\n",
       "<li>Dataherald</li>\n",
       "<li>DuckDuckGo Search</li>\n",
       "<li>E2B Data Analysis</li>\n",
       "<li>Eden AI</li>\n",
       "<li>Eleven Labs Text2Speech</li>\n",
       "<li>Exa Search</li>\n",
       "<li>File System</li>\n",
       "<li>Golden Query</li>\n",
       "<li>Google Cloud Text-to-Speech</li>\n",
       "<li>Google Drive</li>\n",
       "<li>Google Finance</li>\n",
       "<li>Google Imagen</li>\n",
       "<li>Google Jobs</li>\n",
       "<li>Google Lens</li>\n",
       "<li>Google Places</li>\n",
       "<li>Google Scholar</li>\n",
       "<li>Google Search</li>\n",
       "<li>Google Serper</li>\n",
       "<li>Google Trends</li>\n",
       "<li>Gradio</li>\n",
       "<li>GraphQL</li>\n",
       "<li>HuggingFace Hub Tools</li>\n",
       "<li>Human as a tool</li>\n",
       "<li>IFTTT WebHooks</li>\n",
       "<li>Infobip</li>\n",
       "<li>Ionic Shopping Tool</li>\n",
       "<li>Lemon Agent</li>\n",
       "<li>Memorize</li>\n",
       "<li>Mojeek Search</li>\n",
       "<li>Nuclia Understanding</li>\n",
       "<li>NVIDIA Riva: ASR and TTS</li>\n",
       "<li>OpenWeatherMap</li>\n",
       "<li>Oracle AI Vector Search: Generate Summary</li>\n",
       "<li>Passio NutritionAI</li>\n",
       "<li>Polygon Stock Market API Tools</li>\n",
       "<li>PubMed</li>\n",
       "<li>Python REPL</li>\n",
       "<li>Reddit Search</li>\n",
       "<li>Requests</li>\n",
       "<li>SceneXplain</li>\n",
       "<li>Search Tools</li>\n",
       "<li>SearchApi</li>\n",
       "<li>SearxNG Search</li>\n",
       "<li>Semantic Scholar API Tool</li>\n",
       "<li>SerpAPI</li>\n",
       "<li>SQL Database</li>\n",
       "<li>StackExchange</li>\n",
       "<li>Tavily Search</li>\n",
       "<li>Twilio</li>\n",
       "<li>Upstage</li>\n",
       "<li>Wikidata</li>\n",
       "<li>Wikipedia</li>\n",
       "<li>Wolfram Alpha</li>\n",
       "<li>Yahoo Finance News</li>\n",
       "<li>You.com Search</li>\n",
       "<li>YouTube</li>\n",
       "<li>Zapier Natural Language Actions</li>\n",
       "</ul>"
      ],
      "text/plain": [
       "<IPython.core.display.HTML object>"
      ]
     },
     "metadata": {},
     "output_type": "display_data"
    }
   ],
   "source": [
    "prompt_template = \"\"\"\n",
    "You are a bot to answer questions from a document.\n",
    "    \n",
    "You will be given a context of the conversation made so far followed by a question, \n",
    "give the answer to the question using the context. \n",
    "The answer should be short, straight and to the point. If you don't know the answer, reply that the answer is not available.\n",
    "\n",
    "Context: {context}\n",
    "\n",
    "Question: {question}\n",
    "Answer:\"\"\"\n",
    "\n",
    "PROMPT = PromptTemplate(\n",
    "    template=prompt_template, input_variables=[\"context\", \"question\"]\n",
    ")\n",
    "\n",
    "chain_type_kwargs = { \"prompt\" : PROMPT }\n",
    "\n",
    "llm = ChatCohere()\n",
    "\n",
    "template = (\n",
    "        \"\"\"Combine the chat history and follow up question into \n",
    "        a standalone question. \n",
    "        If chat hsitory is empty, use the follow up question as it is.\n",
    "        Chat History: {chat_history}\n",
    "        Follow up question: {question}\"\"\"\n",
    "    )\n",
    "\n",
    "prompt = PromptTemplate.from_template(template)\n",
    "\n",
    "chain = ConversationalRetrievalChain.from_llm(     \n",
    "    llm = llm,\n",
    "    chain_type = \"stuff\",\n",
    "    memory = ConversationSummaryMemory(llm = llm, memory_key='chat_history', input_key='question', output_key= 'answer', return_messages=True),\n",
    "    retriever = vector_store.as_retriever(search_type=\"mmr\"),\n",
    "    condense_question_prompt = prompt,\n",
    "    return_source_documents=False,\n",
    "    combine_docs_chain_kwargs=chain_type_kwargs,\n",
    ")\n",
    "customer_prompt = \"What are tools in LangChain?\"\n",
    "\n",
    "\n",
    "llm_response = chain.invoke(\n",
    "                {\n",
    "                    \"context\": chain.memory.buffer,\n",
    "                    \"question\": customer_prompt,\n",
    "                },\n",
    "                return_only_outputs=True,\n",
    "            )\n",
    "\n",
    "display(HTML(markdown.markdown(llm_response['answer'])))\n"
   ]
  }
 ],
 "metadata": {
  "kernelspec": {
   "display_name": "cohere",
   "language": "python",
   "name": "python3"
  },
  "language_info": {
   "codemirror_mode": {
    "name": "ipython",
    "version": 3
   },
   "file_extension": ".py",
   "mimetype": "text/x-python",
   "name": "python",
   "nbconvert_exporter": "python",
   "pygments_lexer": "ipython3",
   "version": "3.10.5"
  }
 },
 "nbformat": 4,
 "nbformat_minor": 2
}
