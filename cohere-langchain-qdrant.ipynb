{
 "cells": [
  {
   "cell_type": "code",
   "execution_count": 126,
   "metadata": {},
   "outputs": [],
   "source": [
    "# ! pip install streamlit\n",
    "# ! pip install qdrant-client\n",
    "# ! pip install langchain\n",
    "# ! pip install langchain-community\n",
    "# ! pip install langchain-qdrant\n",
    "# ! pip install langchain-cohere\n",
    "# ! pip install tiktoken\n",
    "# ! pip install cohere\n",
    "# ! pip install bs4"
   ]
  },
  {
   "cell_type": "code",
   "execution_count": null,
   "metadata": {},
   "outputs": [],
   "source": [
    "import warnings\n",
    "warnings.filterwarnings('ignore')"
   ]
  },
  {
   "cell_type": "code",
   "execution_count": 127,
   "metadata": {},
   "outputs": [],
   "source": [
    "import streamlit as st\n",
    "import os\n",
    "COHERE_API_KEY = st.secrets[\"COHERE_API_KEY\"]\n",
    "os.environ[\"COHERE_API_KEY\"] = st.secrets[\"COHERE_API_KEY\"]\n",
    "QDRANT_HOST = st.secrets[\"QDRANT_HOST\"]\n",
    "QDRANT_API_KEY = st.secrets[\"QDRANT_API_KEY\"]"
   ]
  },
  {
   "cell_type": "code",
   "execution_count": 128,
   "metadata": {},
   "outputs": [
    {
     "name": "stdout",
     "output_type": "stream",
     "text": [
      "content=\"Who's there?\" additional_kwargs={'documents': None, 'citations': None, 'search_results': None, 'search_queries': None, 'is_search_required': None, 'generation_id': 'ad63741d-5ee3-4358-81f9-03373f3dafb4', 'token_count': {'input_tokens': 73, 'output_tokens': 4}} response_metadata={'documents': None, 'citations': None, 'search_results': None, 'search_queries': None, 'is_search_required': None, 'generation_id': 'ad63741d-5ee3-4358-81f9-03373f3dafb4', 'token_count': {'input_tokens': 73, 'output_tokens': 4}} id='run-e5f0a28b-e10e-4c63-812b-90ac8bfd11da-0'\n"
     ]
    }
   ],
   "source": [
    "from langchain_cohere import ChatCohere\n",
    "from langchain_core.messages import HumanMessage\n",
    "chat = ChatCohere()\n",
    "messages = [HumanMessage(content=\"knock knock\")]\n",
    "print(chat.invoke(messages))"
   ]
  },
  {
   "cell_type": "code",
   "execution_count": 51,
   "metadata": {},
   "outputs": [
    {
     "data": {
      "text/plain": [
       "AIMessage(content='Why did the bear become a magician? \\nHe wanted to be a master of bear-monies!', additional_kwargs={'documents': None, 'citations': None, 'search_results': None, 'search_queries': None, 'is_search_required': None, 'generation_id': '993efad9-3793-480e-a032-d1269d975796', 'token_count': {'input_tokens': 81, 'output_tokens': 22}}, response_metadata={'documents': None, 'citations': None, 'search_results': None, 'search_queries': None, 'is_search_required': None, 'generation_id': '993efad9-3793-480e-a032-d1269d975796', 'token_count': {'input_tokens': 81, 'output_tokens': 22}}, id='run-9d45bccb-5b8c-4d83-b408-c28fbbb2d063-0')"
      ]
     },
     "execution_count": 51,
     "metadata": {},
     "output_type": "execute_result"
    }
   ],
   "source": [
    "from langchain_core.prompts import ChatPromptTemplate\n",
    "\n",
    "prompt = ChatPromptTemplate.from_template(\"Tell me a joke about {topic}\")\n",
    "chain = prompt | chat\n",
    "chain.invoke({\"topic\": \"bears\"})"
   ]
  },
  {
   "cell_type": "code",
   "execution_count": 47,
   "metadata": {},
   "outputs": [
    {
     "name": "stdout",
     "output_type": "stream",
     "text": [
      " Of course! Here are a few suggestions for pet names: \n",
      "\n",
      "- Sweetheart \n",
      "- Love \n",
      "- Honey\n",
      "- Doll \n",
      "- Cutie \n",
      "- Babe \n",
      "\n",
      "These are some relatively common pet names people use for their loved ones. If you're looking for something more specific, let me know and we can work on a pet name that best suits your relationship with the person you have in mind. \n"
     ]
    }
   ],
   "source": [
    "from langchain_cohere.llms import Cohere\n",
    "\n",
    "llm = Cohere()\n",
    "print(llm.invoke(\"Come up with a pet name\"))"
   ]
  },
  {
   "cell_type": "code",
   "execution_count": 48,
   "metadata": {},
   "outputs": [
    {
     "name": "stdout",
     "output_type": "stream",
     "text": [
      " The theory of Kahnemann and Tversky is a collection of cognitive biases that affect how people make decisions and form beliefs. The theory focuses on the idea that people use two different systems to make decisions:\n",
      "\n",
      "1. System 1: This is the fast, intuitive part of the brain that forms impressions and judgments quickly. It tends to be emotional, subjective, and biased. It often leads to cognitive biases, such as anchoring, availability heuristics, and representativeness heuristics. This system is often used to make decisions quickly and efficiently, and it is often very effective at doing so. It relies on instinct and emotions rather than logical reasoning. \n",
      "\n",
      "2. System 2: This is the slower, more deliberate part of the brain that analyzes decisions and corrections. It tends to be more logical and rational. This system is used when the decisions required more thought and analysis. \n",
      "\n",
      "The theory also highlights the concept of cognitive ease and discomfort. Overall, their theory demonstrates how decision-making is often influenced by cognitive biases and heuristics, leading to deviations from strict rationality, and provides a framework for understanding the various biases inherent in these processes. \n",
      "\n",
      "It's important to note that these two systems are not distinct entities but rather represent different modes of cognitive processing. They work in tandem, often leading to accurate decisions, but sometimes leading to errors due to cognitive biases. \n"
     ]
    }
   ],
   "source": [
    "print(llm.invoke(\"Summarize the theory of Kahnemann and Tversky\"))"
   ]
  },
  {
   "cell_type": "code",
   "execution_count": 129,
   "metadata": {},
   "outputs": [],
   "source": [
    "import os\n",
    "TAVILY_API_KEY = st.secrets[\"TAVILY_API_KEY\"]\n",
    "os.environ[\"TAVILY_API_KEY\"] = st.secrets[\"TAVILY_API_KEY\"]"
   ]
  },
  {
   "cell_type": "code",
   "execution_count": 55,
   "metadata": {},
   "outputs": [
    {
     "name": "stdout",
     "output_type": "stream",
     "text": [
      "\n",
      "\n",
      "\u001b[1m> Entering new AgentExecutor chain...\u001b[0m\n",
      "\u001b[32;1m\u001b[1;3m\n",
      "I will search for 'Palantir IPO NYSE' and write an answer based on the results.\n",
      "{'tool_name': 'internet_search', 'parameters': {'query': 'Palantir IPO NYSE'}}\n",
      "\u001b[0m\u001b[36;1m\u001b[1;3m[{'url': 'https://www.investopedia.com/palantir-ipo-what-you-need-to-know-5080082', 'content': 'Published September 30, 2020. Palantir to make public debut via direct listing with ticker: PLTR. Reference price $7.25/share, banks expect $10/share, valuation of $22B. Provides U.S. government ...'}, {'url': 'https://www.reuters.com/article/idUSKBN26L3DQ/', 'content': 'Item 1 of 3 A person poses in front of a banner featuring the logo of Palantir Technologies (PLTR) at the New York Stock Exchange (NYSE) on the day of their initial public offering (IPO) in ...'}, {'url': 'https://www.cnbc.com/2020/09/30/palantir-goes-public-pltr-starts-trading-on-the-nyse.html', 'content': 'Palantir shares traded actively in the private market, selling for between $4.17 and $11.50 this year. Alex Karp, CEO of Palantir, speaking at the 2019 WEF in Davos, Switzerland on Jan. 23rd, 2019 ...'}, {'url': 'https://finance.yahoo.com/quote/PLTR/', 'content': '166.90. +0.09%. Find the latest Palantir Technologies Inc. (PLTR) stock quote, history, news and other vital information to help you with your stock trading and investing.'}]\u001b[0m\u001b[32;1m\u001b[1;3mRelevant Documents: 0,1,2,3\n",
      "Cited Documents: 0,1,2,3\n",
      "Answer: Palantir Technologies Inc. (PLTR) went public on 30 September 2020.\n",
      "Grounded answer: <co: 1,3>Palantir Technologies Inc</co: 1,3>. <co: 0,1,2,3>(PLTR</co: 0,1,2,3>) went public on <co: 0>30 September 2020</co: 0>.\u001b[0m\n",
      "\n",
      "\u001b[1m> Finished chain.\u001b[0m\n"
     ]
    },
    {
     "data": {
      "text/plain": [
       "{'input': 'When has Palantir had its IPO at the NYSE?',\n",
       " 'output': 'Palantir Technologies Inc. (PLTR) went public on 30 September 2020.',\n",
       " 'citations': [CohereCitation(start=0, end=25, text='Palantir Technologies Inc', documents=[{'url': 'https://www.reuters.com/article/idUSKBN26L3DQ/', 'content': 'Item 1 of 3 A person poses in front of a banner featuring the logo of Palantir Technologies (PLTR) at the New York Stock Exchange (NYSE) on the day of their initial public offering (IPO) in ...', 'id': 'doc_1'}, {'url': 'https://finance.yahoo.com/quote/PLTR/', 'content': '166.90. +0.09%. Find the latest Palantir Technologies Inc. (PLTR) stock quote, history, news and other vital information to help you with your stock trading and investing.', 'id': 'doc_3'}], document_ids={'doc_1', 'doc_3'}),\n",
       "  CohereCitation(start=27, end=32, text='(PLTR', documents=[{'url': 'https://www.investopedia.com/palantir-ipo-what-you-need-to-know-5080082', 'content': 'Published September 30, 2020. Palantir to make public debut via direct listing with ticker: PLTR. Reference price $7.25/share, banks expect $10/share, valuation of $22B. Provides U.S. government ...', 'id': 'doc_0'}, {'url': 'https://www.reuters.com/article/idUSKBN26L3DQ/', 'content': 'Item 1 of 3 A person poses in front of a banner featuring the logo of Palantir Technologies (PLTR) at the New York Stock Exchange (NYSE) on the day of their initial public offering (IPO) in ...', 'id': 'doc_1'}, {'url': 'https://www.cnbc.com/2020/09/30/palantir-goes-public-pltr-starts-trading-on-the-nyse.html', 'content': 'Palantir shares traded actively in the private market, selling for between $4.17 and $11.50 this year. Alex Karp, CEO of Palantir, speaking at the 2019 WEF in Davos, Switzerland on Jan. 23rd, 2019 ...', 'id': 'doc_2'}, {'url': 'https://finance.yahoo.com/quote/PLTR/', 'content': '166.90. +0.09%. Find the latest Palantir Technologies Inc. (PLTR) stock quote, history, news and other vital information to help you with your stock trading and investing.', 'id': 'doc_3'}], document_ids={'doc_2', 'doc_3', 'doc_0', 'doc_1'}),\n",
       "  CohereCitation(start=49, end=66, text='30 September 2020', documents=[{'url': 'https://www.investopedia.com/palantir-ipo-what-you-need-to-know-5080082', 'content': 'Published September 30, 2020. Palantir to make public debut via direct listing with ticker: PLTR. Reference price $7.25/share, banks expect $10/share, valuation of $22B. Provides U.S. government ...', 'id': 'doc_0'}], document_ids={'doc_0'})]}"
      ]
     },
     "execution_count": 55,
     "metadata": {},
     "output_type": "execute_result"
    }
   ],
   "source": [
    "from langchain_community.tools.tavily_search import TavilySearchResults\n",
    "from langchain_cohere import ChatCohere, create_cohere_react_agent\n",
    "from langchain_core.prompts import ChatPromptTemplate\n",
    "from langchain.agents import AgentExecutor\n",
    "\n",
    "llm = ChatCohere()\n",
    "\n",
    "internet_search = TavilySearchResults(max_results=4)\n",
    "internet_search.name = \"internet_search\"\n",
    "internet_search.description = \"Route a user query to the internet\"\n",
    "\n",
    "prompt = ChatPromptTemplate.from_template(\"{input}\")\n",
    "\n",
    "agent = create_cohere_react_agent(\n",
    "    llm,\n",
    "    [internet_search],\n",
    "    prompt\n",
    ")\n",
    "\n",
    "agent_executor = AgentExecutor(agent=agent, tools=[internet_search], verbose=True)\n",
    "\n",
    "agent_executor.invoke({\n",
    "    \"input\": \"When has Palantir had its IPO at the NYSE?\",\n",
    "})"
   ]
  },
  {
   "cell_type": "code",
   "execution_count": 162,
   "metadata": {},
   "outputs": [
    {
     "name": "stdout",
     "output_type": "stream",
     "text": [
      "\n",
      "\n",
      "\u001b[1m> Entering new AgentExecutor chain...\u001b[0m\n",
      "\u001b[32;1m\u001b[1;3m\n",
      "I will search for 'Kahnemann and Tversky theory' and write an answer based on the information I find.\n",
      "{'tool_name': 'wiki-tool', 'parameters': {'query': 'Kahnemann and Tversky theory'}}\n",
      "\u001b[0m\u001b[36;1m\u001b[1;3mPage: Daniel Kahneman\n",
      "Summary: Daniel Kahneman (; Hebrew: דניאל כהנמן; March 5, 1934 – March 27, 2024) was an Israeli-American cognitive scientist best-known for his work on the psychology of judgment and decision-making. He is also known for his work in behavioral economics, for which he was awarded the 2002 Nobel Memorial Prize in Economic Sciences together with Vernon L. Smith. Kahneman's published empirical findings challenge the assumption of human rationality prevailing in modern economic theory. Kahneman became known as the \"grandfather of behavioral economics.\"\n",
      "With Amos Tversky and others, Kahneman established a cognitive basis for common human errors that arise from heuristics and biases, and developed prospect theory. In 2011, Kahneman was named by Foreign Policy magazine in its list of top global thinkers. In the same year, his book Thinking, Fast and Slow, which summarizes much of his research, was published and became a best seller. In 2015, The Economist listed him as the seventh most influential economist in the world.\n",
      "Kahneman was professor emeritus of psychology and public affairs at Princeton University's Princeton School of Public and International Affairs. Kahneman was a founding partner of TGG Group, a business and philanthropy consulting company. He was married to cognitive psychologist and Royal Society Fellow Anne Treisman, who died in 2018.\n",
      "\n",
      "\u001b[0m\n",
      "\u001b[32;1m\u001b[1;3m\u001b[0m\n",
      "\n",
      "\u001b[1m> Finished chain.\u001b[0m\n"
     ]
    }
   ],
   "source": [
    "from langchain_core.pydantic_v1 import BaseModel, Field\n",
    "from langchain_community.tools import WikipediaQueryRun\n",
    "from langchain_community.utilities import WikipediaAPIWrapper\n",
    "\n",
    "api_wrapper = WikipediaAPIWrapper(top_k_results=1)\n",
    "\n",
    "class WikiInputs(BaseModel):\n",
    "    \"\"\"Inputs to the wikipedia tool.\"\"\"\n",
    "\n",
    "    query: str = Field(\n",
    "        description=\"query to look up in Wikipedia\"\n",
    "    )\n",
    "    \n",
    "wikipedia_tool = WikipediaQueryRun(\n",
    "    name=\"wiki-tool\",\n",
    "    description=\"look up things in wikipedia\",\n",
    "    args_schema=WikiInputs,\n",
    "    api_wrapper=api_wrapper,\n",
    "    return_direct=True,\n",
    ")\n",
    "\n",
    "prompt = ChatPromptTemplate.from_template(\"{input}\")\n",
    "\n",
    "agent = create_cohere_react_agent(\n",
    "    llm,\n",
    "    [wikipedia_tool],\n",
    "    prompt\n",
    ")\n",
    "\n",
    "agent_executor = AgentExecutor(agent=agent, tools=[wikipedia_tool], verbose=True)\n",
    "\n",
    "response = agent_executor.invoke({\n",
    "                \"input\": \"Explain the theory of Kahnemann and Tversky\",\n",
    "            })"
   ]
  },
  {
   "cell_type": "code",
   "execution_count": 163,
   "metadata": {},
   "outputs": [
    {
     "data": {
      "text/plain": [
       "\"Page: David Beckham\\nSummary: David Robert Joseph Beckham  ( BEK-əm; born 2 May 1975) is an English former professional footballer, the president and co-owner of Inter Miami CF and co-owner of Salford City. Primarily a right winger and known for his range of passing, crossing ability and free-kick taking, Beckham has been hailed as one of the greatest and most recognisable midfielders of his generation, as well as one of the best free-kick takers of all time. He won 19 major trophies in his career, and is the first English player to win league titles in four different countries: England, Spain, the United States and France.\\nBeckham's professional club career began with Manchester United, where he made his first-team debut in 1992 at age 17. With United, he won the Premier League title six times, the FA Cup twice, the FA Charity Shield twice, the Intercontinental Cup and the UEFA Champions League in 1999. He then played four seasons with Real Madrid, winning the La Liga championship in his final season with the club. In July 2007, Beckham signed a five-year contract with Major League Soccer club LA Galaxy. While a Galaxy player, he spent two loan spells in Italy with AC Milan in 2009 and 2010. He became the first British footballer to play 100 UEFA Champions League games. He retired in May 2013 after a 20-year career.\\nIn international football, Beckham made his England debut on 1 September 1996, at the age of 21. He was captain for six years, earning 58 caps during his tenure. He made 115 career appearances in total, appearing at three FIFA World Cups in 1998, 2002 and 2006 as well as two UEFA European Championships in 2000 and 2004. Beckham held the England appearance record for an outfield player until 2016.\\nA global ambassador of football, Beckham is considered to be a British cultural icon. He has been in a well publicised marriage to Victoria Beckham since 1999 and was consistently ranked among the highest earners in football, in 2013 being listed as the highest-paid player in the world having earned over $50 million in the previous twelve months. Beckham was runner-up in the Ballon d'Or in 1999, twice runner-up for FIFA World Player of the Year (1999 and 2001) and in 2004 was named by Pelé in the FIFA 100 list of the world's greatest living players. He was inducted into the English Football Hall of Fame in 2008, and the Premier League Hall of Fame in 2021. He has been a UNICEF ambassador since 2005, and in 2015 he launched 7: The David Beckham UNICEF Fund. In 2014, MLS announced that Beckham and a group of investors would own Inter Miami, which began playing in 2020.\\n\\n\""
      ]
     },
     "execution_count": 163,
     "metadata": {},
     "output_type": "execute_result"
    }
   ],
   "source": [
    "wikipedia_tool.run(\"David Beckham\")"
   ]
  },
  {
   "cell_type": "code",
   "execution_count": 137,
   "metadata": {},
   "outputs": [
    {
     "name": "stdout",
     "output_type": "stream",
     "text": [
      "\n",
      "\n",
      "\u001b[1m> Entering new AgentExecutor chain...\u001b[0m\n",
      "\u001b[32;1m\u001b[1;3m\n",
      "I will use the Open Weather Map tool to find out what the weather is like in London.\n",
      "{'tool_name': 'open_weather_map', 'parameters': {'location': 'London'}}\n",
      "\u001b[0m\u001b[36;1m\u001b[1;3mIn London, the current weather is as follows:\n",
      "Detailed status: overcast clouds\n",
      "Wind speed: 4.12 m/s, direction: 290°\n",
      "Humidity: 67%\n",
      "Temperature: \n",
      "  - Current: 19.13°C\n",
      "  - High: 20.56°C\n",
      "  - Low: 17.7°C\n",
      "  - Feels like: 18.85°C\n",
      "Rain: {}\n",
      "Heat index: None\n",
      "Cloud cover: 100%\u001b[0m\u001b[32;1m\u001b[1;3mRelevant Documents: 0\n",
      "Cited Documents: 0\n",
      "Answer: The weather in London is currently overcast, with a temperature of 19.13°C.\n",
      "Grounded answer: The weather in London is currently <co: 0>overcast</co: 0>, with a <co: 0>temperature of 19.13°C</co: 0>.\u001b[0m\n",
      "\n",
      "\u001b[1m> Finished chain.\u001b[0m\n"
     ]
    }
   ],
   "source": [
    "import os\n",
    "import streamlit as st\n",
    "from langchain_core.prompts import ChatPromptTemplate\n",
    "from langchain.agents import AgentType, initialize_agent, load_tools\n",
    "from langchain_cohere import ChatCohere, create_cohere_react_agent\n",
    "\n",
    "OPEN_WEATHER_API_KEY = st.secrets[\"OPEN_WEATHER_API_KEY\"]\n",
    "os.environ[\"OPENWEATHERMAP_API_KEY\"] = OPEN_WEATHER_API_KEY\n",
    "\n",
    "\n",
    "\n",
    "llm = ChatCohere()\n",
    "\n",
    "prompt = ChatPromptTemplate.from_template(\"{input}\")\n",
    "\n",
    "\n",
    "tools = load_tools([\"openweathermap-api\"], llm)\n",
    "tools.append(wikipedia_tool)\n",
    "\n",
    "\n",
    "agent = create_cohere_react_agent(\n",
    "    tools=tools, llm=llm, prompt=prompt\n",
    ")\n",
    "\n",
    "agent_executor = AgentExecutor(agent=agent, tools=tools, verbose=True)\n",
    "\n",
    "response = agent_executor.invoke({\"input\": \"How is the weather in London?\"})"
   ]
  },
  {
   "cell_type": "code",
   "execution_count": 138,
   "metadata": {},
   "outputs": [
    {
     "data": {
      "text/plain": [
       "'The weather in London is currently overcast, with a temperature of 19.13°C.'"
      ]
     },
     "execution_count": 138,
     "metadata": {},
     "output_type": "execute_result"
    }
   ],
   "source": [
    "response[\"output\"]"
   ]
  },
  {
   "cell_type": "code",
   "execution_count": 139,
   "metadata": {},
   "outputs": [],
   "source": [
    "! pip install --upgrade --quiet  yfinance"
   ]
  },
  {
   "cell_type": "code",
   "execution_count": 154,
   "metadata": {},
   "outputs": [],
   "source": [
    "tools = load_tools([\"openweathermap-api\"], llm)\n",
    "internet_search = TavilySearchResults(max_results=4)\n",
    "internet_search.name = \"internet_search\"\n",
    "internet_search.description = \"Route a user query to the internet\"\n",
    "tools.append(internet_search)\n",
    "tools.append(wikipedia_tool)"
   ]
  },
  {
   "cell_type": "code",
   "execution_count": 155,
   "metadata": {},
   "outputs": [],
   "source": [
    "prompt = ChatPromptTemplate.from_template(\"Use the right tool to answer the following question. If wikipedia_tool delivers no result use internet_search: {input}\")"
   ]
  },
  {
   "cell_type": "code",
   "execution_count": 159,
   "metadata": {},
   "outputs": [
    {
     "name": "stdout",
     "output_type": "stream",
     "text": [
      "\n",
      "\n",
      "\u001b[1m> Entering new AgentExecutor chain...\u001b[0m\n",
      "\u001b[32;1m\u001b[1;3m\n",
      "I will use the Wikipedia tool to answer this question.\n",
      "{'tool_name': 'wiki-tool', 'parameters': {'query': 'Who was George Washington?'}}\n",
      "\u001b[0m\u001b[38;5;200m\u001b[1;3mPage: George Washington Carver\n",
      "Summary: George Washington Carver (c. 1864 – January 5, 1943) was an American agricultural scientist and inventor who promoted alternative crops to cotton and methods to prevent soil depletion. He was one of the most prominent black scientists of the early 20th century.\n",
      "While a professor at Tuskegee Institute, Carver developed techniques to improve types of soils depleted by repeated plantings of cotton. He wanted poor farmers to grow other crops, such as peanuts and sweet potatoes, as a source of their own food and to improve their quality of life. Under his leadership, the Experiment Station at Tuskegee published over forty practical bulletins for farmers, many written by him, which included recipes; many of the bulletins contained advice for poor farmers, including combating soil depletion with limited financial means, producing bigger crops, and preserving food.\n",
      "Apart from his work to improve the lives of farmers, Carver was also a leader in promoting environmentalism. He received numerous honors for his work, including the Spingarn Medal of the NAACP. In an era of high racial polarization, his fame reached beyond the black community. He was widely recognized and praised in the white community for his many achievements and talents. In 1941, Time magazine dubbed Carver a \"Black Leonardo\".\n",
      "Color film of Carver shot in 1937 at the Tuskegee Institute by African American surgeon Allen Alexander was added to the National Film Registry of the Library of Congress in 2019. The 12 minutes of footage includes Carver in his apartment, office and laboratory, as well as images of him tending flowers and displaying his paintings.\u001b[0m\n",
      "\u001b[32;1m\u001b[1;3m\u001b[0m\n",
      "\n",
      "\u001b[1m> Finished chain.\u001b[0m\n",
      "{'input': 'Who was George Washington?', 'output': 'Page: George Washington Carver\\nSummary: George Washington Carver (c. 1864 – January 5, 1943) was an American agricultural scientist and inventor who promoted alternative crops to cotton and methods to prevent soil depletion. He was one of the most prominent black scientists of the early 20th century.\\nWhile a professor at Tuskegee Institute, Carver developed techniques to improve types of soils depleted by repeated plantings of cotton. He wanted poor farmers to grow other crops, such as peanuts and sweet potatoes, as a source of their own food and to improve their quality of life. Under his leadership, the Experiment Station at Tuskegee published over forty practical bulletins for farmers, many written by him, which included recipes; many of the bulletins contained advice for poor farmers, including combating soil depletion with limited financial means, producing bigger crops, and preserving food.\\nApart from his work to improve the lives of farmers, Carver was also a leader in promoting environmentalism. He received numerous honors for his work, including the Spingarn Medal of the NAACP. In an era of high racial polarization, his fame reached beyond the black community. He was widely recognized and praised in the white community for his many achievements and talents. In 1941, Time magazine dubbed Carver a \"Black Leonardo\".\\nColor film of Carver shot in 1937 at the Tuskegee Institute by African American surgeon Allen Alexander was added to the National Film Registry of the Library of Congress in 2019. The 12 minutes of footage includes Carver in his apartment, office and laboratory, as well as images of him tending flowers and displaying his paintings.'}\n",
      "\n",
      "\n",
      "\u001b[1m> Entering new AgentExecutor chain...\u001b[0m\n",
      "\u001b[32;1m\u001b[1;3m\n",
      "I will use the Open Weather Map tool to find out what the weather is like in New Orleans.\n",
      "{'tool_name': 'open_weather_map', 'parameters': {'location': 'New Orleans'}}\n",
      "\u001b[0m\u001b[36;1m\u001b[1;3mIn New Orleans, the current weather is as follows:\n",
      "Detailed status: clear sky\n",
      "Wind speed: 2.06 m/s, direction: 150°\n",
      "Humidity: 85%\n",
      "Temperature: \n",
      "  - Current: 26.03°C\n",
      "  - High: 27.0°C\n",
      "  - Low: 25.0°C\n",
      "  - Feels like: 26.03°C\n",
      "Rain: {}\n",
      "Heat index: None\n",
      "Cloud cover: 0%\u001b[0m\u001b[32;1m\u001b[1;3mRelevant Documents: 0\n",
      "Cited Documents: 0\n",
      "Answer: The weather in New Orleans is currently 26.03°C, with a clear sky, 2.06 m/s wind speed, 85% humidity, and 0% cloud cover.\n",
      "Grounded answer: The weather in New Orleans is currently <co: 0>26.03°C</co: 0>, with a <co: 0>clear sky</co: 0>, <co: 0>2.06 m/s wind speed</co: 0>, <co: 0>85% humidity</co: 0>, and <co: 0>0% cloud cover</co: 0>.\u001b[0m\n",
      "\n",
      "\u001b[1m> Finished chain.\u001b[0m\n",
      "{'input': \"What's the weather like in New Orleans?\", 'output': 'The weather in New Orleans is currently 26.03°C, with a clear sky, 2.06 m/s wind speed, 85% humidity, and 0% cloud cover.', 'citations': [CohereCitation(start=40, end=47, text='26.03°C', documents=[{'output': 'In New Orleans, the current weather is as follows:\\nDetailed status: clear sky\\nWind speed: 2.06 m/s, direction: 150°\\nHumidity: 85%\\nTemperature: \\n  - Current: 26.03°C\\n  - High: 27.0°C\\n  - Low: 25.0°C\\n  - Feels like: 26.03°C\\nRain: {}\\nHeat index: None\\nCloud cover: 0%', 'id': 'doc_0'}], document_ids={'doc_0'}), CohereCitation(start=56, end=65, text='clear sky', documents=[{'output': 'In New Orleans, the current weather is as follows:\\nDetailed status: clear sky\\nWind speed: 2.06 m/s, direction: 150°\\nHumidity: 85%\\nTemperature: \\n  - Current: 26.03°C\\n  - High: 27.0°C\\n  - Low: 25.0°C\\n  - Feels like: 26.03°C\\nRain: {}\\nHeat index: None\\nCloud cover: 0%', 'id': 'doc_0'}], document_ids={'doc_0'}), CohereCitation(start=67, end=86, text='2.06 m/s wind speed', documents=[{'output': 'In New Orleans, the current weather is as follows:\\nDetailed status: clear sky\\nWind speed: 2.06 m/s, direction: 150°\\nHumidity: 85%\\nTemperature: \\n  - Current: 26.03°C\\n  - High: 27.0°C\\n  - Low: 25.0°C\\n  - Feels like: 26.03°C\\nRain: {}\\nHeat index: None\\nCloud cover: 0%', 'id': 'doc_0'}], document_ids={'doc_0'}), CohereCitation(start=88, end=100, text='85% humidity', documents=[{'output': 'In New Orleans, the current weather is as follows:\\nDetailed status: clear sky\\nWind speed: 2.06 m/s, direction: 150°\\nHumidity: 85%\\nTemperature: \\n  - Current: 26.03°C\\n  - High: 27.0°C\\n  - Low: 25.0°C\\n  - Feels like: 26.03°C\\nRain: {}\\nHeat index: None\\nCloud cover: 0%', 'id': 'doc_0'}], document_ids={'doc_0'}), CohereCitation(start=106, end=120, text='0% cloud cover', documents=[{'output': 'In New Orleans, the current weather is as follows:\\nDetailed status: clear sky\\nWind speed: 2.06 m/s, direction: 150°\\nHumidity: 85%\\nTemperature: \\n  - Current: 26.03°C\\n  - High: 27.0°C\\n  - Low: 25.0°C\\n  - Feels like: 26.03°C\\nRain: {}\\nHeat index: None\\nCloud cover: 0%', 'id': 'doc_0'}], document_ids={'doc_0'})]}\n",
      "\n",
      "\n",
      "\u001b[1m> Entering new AgentExecutor chain...\u001b[0m\n",
      "\u001b[32;1m\u001b[1;3m\n",
      "I will search for the winner of the Indian elections this year using Wikipedia.\n",
      "{'tool_name': 'wiki-tool', 'parameters': {'query': 'Indian election results 2024'}}\n",
      "\u001b[0m\u001b[38;5;200m\u001b[1;3mPage: 2024 Indian general election\n",
      "Summary: General elections were held in India from 19 April to 1 June 2024 in seven phases, to elect all 543 members of the Lok Sabha. The votes will be counted and the results will be declared on 4 June 2024.\n",
      "This was the largest-ever election in history, surpassing the previous election, lasting 44 days, second only to the 1951–52 Indian general election. The incumbent prime minister Narendra Modi, who completed a second term, ran for a third consecutive term.\n",
      "More than 968 million people out of a population of 1.4 billion people were eligible to vote, equivalent to 70% of the total population. The legislative assembly elections in the states of Andhra Pradesh, Arunachal Pradesh, Odisha, and Sikkim were held simultaneously with the general election, along with the by-elections for 25 constituencies in 12 legislative assemblies.\n",
      "\n",
      "\u001b[0m\n",
      "\u001b[32;1m\u001b[1;3m\u001b[0m\n",
      "\n",
      "\u001b[1m> Finished chain.\u001b[0m\n",
      "{'input': 'Who did win the Indian elections this year?', 'output': 'Page: 2024 Indian general election\\nSummary: General elections were held in India from 19 April to 1 June 2024 in seven phases, to elect all 543 members of the Lok Sabha. The votes will be counted and the results will be declared on 4 June 2024.\\nThis was the largest-ever election in history, surpassing the previous election, lasting 44 days, second only to the 1951–52 Indian general election. The incumbent prime minister Narendra Modi, who completed a second term, ran for a third consecutive term.\\nMore than 968 million people out of a population of 1.4 billion people were eligible to vote, equivalent to 70% of the total population. The legislative assembly elections in the states of Andhra Pradesh, Arunachal Pradesh, Odisha, and Sikkim were held simultaneously with the general election, along with the by-elections for 25 constituencies in 12 legislative assemblies.\\n\\n'}\n",
      "\n",
      "\n",
      "\u001b[1m> Entering new AgentExecutor chain...\u001b[0m\n",
      "\u001b[32;1m\u001b[1;3m\n",
      "I will search for how the Microsoft stock is performing.\n",
      "{'tool_name': 'internet_search', 'parameters': {'query': 'How is Microsoft stock performing?'}}\n",
      "\u001b[0m\u001b[33;1m\u001b[1;3m[{'url': 'https://stockanalysis.com/stocks/msft/', 'content': \"The move is a shift in Micro...\\nMicrosoft-backed OpenAI valued at $80bn after company completes deal\\nCompany to sell existing shares in ‘tender offer' led by venture firm Thrive Capital, in similar deal as early last year\\nOpenAI valued at $80 billion after deal, NYT reports\\nMicrosoft-backed OpenAI has completed a deal that values the artificial intelligence company at $80 billion or more, the New York Times reported on Friday, citing three people with knowledge of the de...\\nAmazon, Google, Meta and Microsoft among tech companies to sign pact combatting AI-generated election trickery\\nMajor technology companies signed a pact Friday to voluntarily adopt “reasonable precautions” to prevent artificial-intelligence tools from being used to disrupt democratic elections around the world.\\nOpenAI, Meta and other tech giants sign effort to fight AI election interference\\nA group of 20 tech companies announced on Friday they have agreed to work together to prevent deceptive artificial-intelligence content from interfering with elections across the globe this year.\\n Appaloosa takes new stakes in Oracle and GM, raises stakes in Alibaba and Microsoft\\nDavid Tepper's Appaloosa hedge fund took new stakes in Oracle Corp. and General Motors Co., to name a few, and increased its holdings in Alibaba Group and Microsoft Corp., among other moves, according...\\nAnalysts' Top S&P 500 Stocks to Buy Now\\nAmazon, Microsoft and Nvidia make the list of stocks scoring rare Strong Buy consensus ratings.\\n Microsoft bringing Xbox games to PlayStation and Nintendo, amid major strategy shift\\nFour games that were previously exclusive to the Xbox console will be made available for the PS5 and Nintendo Switch, as the company focuses on its software products\\nMicrosoft UK collaborates with the Digital Revolution Awards\\nLONDON--(BUSINESS WIRE)--For more information, visit:\\u202fwww.digitalrevolutionawards.com.\\n Microsoft Claims Russia, China And Others Used OpenAI's Tools For Hacking\\nState-sponsored hacking groups from Russia, China and other U.S. adversaries have been caught using OpenAI's tools to better attack their targets, according to a report published Wednesday by Microsof...\\nSix Stocks Wall Street Loves for Valentine's Day\\nWhat could be a better gift than a list of Wall Street's favorite stocks?\\n OpenAI supposedly working on web search to rival Google: RPT\\nArtificial intelligence developer OpenAI — which Microsoft (MSFT) owns a 49% stake in — is reportedly developing a web search product to rival that of Alphabet's Google (GOOG, GOOGL), according to The...\\nXbox-Exclusive Games Coming To Rival Platforms—Here's What We Know\\n\"}, {'url': 'https://stockanalysis.com/stocks/msft/forecast/', 'content': 'Stock Price Forecast. The 36 analysts with 12-month price forecasts for Microsoft stock have an average target of 463.58, with a low estimate of 370 and a high estimate of 600. The average target predicts an increase of 11.67% from the current stock price of 415.13.'}, {'url': 'https://markets.businessinsider.com/stocks/msft-stock?op=1', 'content': 'The latest Microsoft stock prices, stock quotes, news, and MSFT history to help you invest and trade smarter.'}, {'url': 'https://www.google.com/finance/quote/MSFT:NASDAQ', 'content': 'Get the latest Microsoft Corp (MSFT) real-time quote, historical performance, charts, and other financial information to help you make more informed trading and investment decisions.'}]\u001b[0m\u001b[32;1m\u001b[1;3mRelevant Documents: 1,3\n",
      "Cited Documents: 1,3\n",
      "Answer: The current stock price of Microsoft is 415.13. The average target predicts an increase of 11.67% from the current stock price, with a low estimate of 370 and a high estimate of 600.\n",
      "Grounded answer: The <co: 1>current stock price</co: 1> of Microsoft is <co: 1>415.13</co: 1>. The <co: 1>average target</co: 1> predicts an <co: 1>increase of 11.67% from the current stock price</co: 1>, with a <co: 1>low estimate of 370</co: 1> and a <co: 1>high estimate of 600</co: 1>.\u001b[0m\n",
      "\n",
      "\u001b[1m> Finished chain.\u001b[0m\n",
      "{'input': 'How does the Microsoft stock perform?', 'output': 'The current stock price of Microsoft is 415.13. The average target predicts an increase of 11.67% from the current stock price, with a low estimate of 370 and a high estimate of 600.', 'citations': [CohereCitation(start=4, end=23, text='current stock price', documents=[{'url': 'https://stockanalysis.com/stocks/msft/forecast/', 'content': 'Stock Price Forecast. The 36 analysts with 12-month price forecasts for Microsoft stock have an average target of 463.58, with a low estimate of 370 and a high estimate of 600. The average target predicts an increase of 11.67% from the current stock price of 415.13.', 'id': 'doc_1'}], document_ids={'doc_1'}), CohereCitation(start=40, end=46, text='415.13', documents=[{'url': 'https://stockanalysis.com/stocks/msft/forecast/', 'content': 'Stock Price Forecast. The 36 analysts with 12-month price forecasts for Microsoft stock have an average target of 463.58, with a low estimate of 370 and a high estimate of 600. The average target predicts an increase of 11.67% from the current stock price of 415.13.', 'id': 'doc_1'}], document_ids={'doc_1'}), CohereCitation(start=52, end=66, text='average target', documents=[{'url': 'https://stockanalysis.com/stocks/msft/forecast/', 'content': 'Stock Price Forecast. The 36 analysts with 12-month price forecasts for Microsoft stock have an average target of 463.58, with a low estimate of 370 and a high estimate of 600. The average target predicts an increase of 11.67% from the current stock price of 415.13.', 'id': 'doc_1'}], document_ids={'doc_1'}), CohereCitation(start=79, end=126, text='increase of 11.67% from the current stock price', documents=[{'url': 'https://stockanalysis.com/stocks/msft/forecast/', 'content': 'Stock Price Forecast. The 36 analysts with 12-month price forecasts for Microsoft stock have an average target of 463.58, with a low estimate of 370 and a high estimate of 600. The average target predicts an increase of 11.67% from the current stock price of 415.13.', 'id': 'doc_1'}], document_ids={'doc_1'}), CohereCitation(start=135, end=154, text='low estimate of 370', documents=[{'url': 'https://stockanalysis.com/stocks/msft/forecast/', 'content': 'Stock Price Forecast. The 36 analysts with 12-month price forecasts for Microsoft stock have an average target of 463.58, with a low estimate of 370 and a high estimate of 600. The average target predicts an increase of 11.67% from the current stock price of 415.13.', 'id': 'doc_1'}], document_ids={'doc_1'}), CohereCitation(start=161, end=181, text='high estimate of 600', documents=[{'url': 'https://stockanalysis.com/stocks/msft/forecast/', 'content': 'Stock Price Forecast. The 36 analysts with 12-month price forecasts for Microsoft stock have an average target of 463.58, with a low estimate of 370 and a high estimate of 600. The average target predicts an increase of 11.67% from the current stock price of 415.13.', 'id': 'doc_1'}], document_ids={'doc_1'})]}\n"
     ]
    }
   ],
   "source": [
    "agent = create_cohere_react_agent(\n",
    "    tools=tools, llm=llm, prompt=prompt\n",
    ")\n",
    "\n",
    "agent_executor = AgentExecutor(agent=agent, tools=tools, verbose=True)\n",
    "\n",
    "print(agent_executor.invoke({\"input\": \"Who was George Washington?\"}))\n",
    "print(agent_executor.invoke({\"input\": \"What's the weather like in New Orleans?\"}))\n",
    "print(agent_executor.invoke({\"input\": \"Who did win the Indian elections this year?\"}))\n",
    "print(agent_executor.invoke({\"input\": \"How does the Microsoft stock perform?\"}))"
   ]
  },
  {
   "cell_type": "code",
   "execution_count": 160,
   "metadata": {},
   "outputs": [
    {
     "name": "stdout",
     "output_type": "stream",
     "text": [
      "\n",
      "\n",
      "\u001b[1m> Entering new AgentExecutor chain...\u001b[0m\n",
      "\u001b[32;1m\u001b[1;3m\n",
      "I will use the open_weather_map tool to find the weather in Mortugaba, Bahia, Brazil.\n",
      "{'tool_name': 'open_weather_map', 'parameters': {'location': 'Mortugaba, Bahia, Brazil'}}\n",
      "\u001b[0m\u001b[36;1m\u001b[1;3mIn Mortugaba, Bahia, Brazil, the current weather is as follows:\n",
      "Detailed status: overcast clouds\n",
      "Wind speed: 4.12 m/s, direction: 108°\n",
      "Humidity: 62%\n",
      "Temperature: \n",
      "  - Current: 22.0°C\n",
      "  - High: 22.0°C\n",
      "  - Low: 22.0°C\n",
      "  - Feels like: 21.87°C\n",
      "Rain: {}\n",
      "Heat index: None\n",
      "Cloud cover: 100%\u001b[0m\u001b[32;1m\u001b[1;3mRelevant Documents: 0\n",
      "Cited Documents: 0\n",
      "Answer: In Mortugaba, Bahia, Brazil, the weather is currently overcast with a temperature of 22.0°C. The wind speed is 4.12 m/s and the humidity is 62%.\n",
      "Grounded answer: In Mortugaba, Bahia, Brazil, the weather is currently <co: 0>overcast</co: 0> with a <co: 0>temperature of 22.0°C</co: 0>. The <co: 0>wind speed is 4.12 m/s</co: 0> and the <co: 0>humidity is 62</co: 0>%.\u001b[0m\n",
      "\n",
      "\u001b[1m> Finished chain.\u001b[0m\n",
      "{'input': \"What's the weather like in Mortugaba, Bahia, Brazil?\", 'output': 'In Mortugaba, Bahia, Brazil, the weather is currently overcast with a temperature of 22.0°C. The wind speed is 4.12 m/s and the humidity is 62%.', 'citations': [CohereCitation(start=54, end=62, text='overcast', documents=[{'output': 'In Mortugaba, Bahia, Brazil, the current weather is as follows:\\nDetailed status: overcast clouds\\nWind speed: 4.12 m/s, direction: 108°\\nHumidity: 62%\\nTemperature: \\n  - Current: 22.0°C\\n  - High: 22.0°C\\n  - Low: 22.0°C\\n  - Feels like: 21.87°C\\nRain: {}\\nHeat index: None\\nCloud cover: 100%', 'id': 'doc_0'}], document_ids={'doc_0'}), CohereCitation(start=70, end=91, text='temperature of 22.0°C', documents=[{'output': 'In Mortugaba, Bahia, Brazil, the current weather is as follows:\\nDetailed status: overcast clouds\\nWind speed: 4.12 m/s, direction: 108°\\nHumidity: 62%\\nTemperature: \\n  - Current: 22.0°C\\n  - High: 22.0°C\\n  - Low: 22.0°C\\n  - Feels like: 21.87°C\\nRain: {}\\nHeat index: None\\nCloud cover: 100%', 'id': 'doc_0'}], document_ids={'doc_0'}), CohereCitation(start=97, end=119, text='wind speed is 4.12 m/s', documents=[{'output': 'In Mortugaba, Bahia, Brazil, the current weather is as follows:\\nDetailed status: overcast clouds\\nWind speed: 4.12 m/s, direction: 108°\\nHumidity: 62%\\nTemperature: \\n  - Current: 22.0°C\\n  - High: 22.0°C\\n  - Low: 22.0°C\\n  - Feels like: 21.87°C\\nRain: {}\\nHeat index: None\\nCloud cover: 100%', 'id': 'doc_0'}], document_ids={'doc_0'}), CohereCitation(start=128, end=142, text='humidity is 62', documents=[{'output': 'In Mortugaba, Bahia, Brazil, the current weather is as follows:\\nDetailed status: overcast clouds\\nWind speed: 4.12 m/s, direction: 108°\\nHumidity: 62%\\nTemperature: \\n  - Current: 22.0°C\\n  - High: 22.0°C\\n  - Low: 22.0°C\\n  - Feels like: 21.87°C\\nRain: {}\\nHeat index: None\\nCloud cover: 100%', 'id': 'doc_0'}], document_ids={'doc_0'})]}\n"
     ]
    }
   ],
   "source": [
    "print(agent_executor.invoke({\"input\": \"What's the weather like in Mortugaba, Bahia, Brazil?\"}))"
   ]
  }
 ],
 "metadata": {
  "kernelspec": {
   "display_name": "cohere",
   "language": "python",
   "name": "python3"
  },
  "language_info": {
   "codemirror_mode": {
    "name": "ipython",
    "version": 3
   },
   "file_extension": ".py",
   "mimetype": "text/x-python",
   "name": "python",
   "nbconvert_exporter": "python",
   "pygments_lexer": "ipython3",
   "version": "3.12.3"
  }
 },
 "nbformat": 4,
 "nbformat_minor": 2
}
