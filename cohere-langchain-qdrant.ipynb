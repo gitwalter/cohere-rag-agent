{
 "cells": [
  {
   "cell_type": "markdown",
   "metadata": {},
   "source": [
    "# LangChain Cohere Agent using Tools"
   ]
  },
  {
   "cell_type": "markdown",
   "metadata": {},
   "source": [
    "Install Libraries"
   ]
  },
  {
   "cell_type": "code",
   "execution_count": 6,
   "metadata": {},
   "outputs": [],
   "source": [
    "# ! pip install streamlit\n",
    "# ! pip install qdrant-client\n",
    "# ! pip install langchain\n",
    "# ! pip install langchain-community\n",
    "# ! pip install langchain-qdrant\n",
    "# ! pip install langchain-cohere\n",
    "# ! pip install tiktoken\n",
    "# ! pip install cohere\n",
    "# ! pip install bs4"
   ]
  },
  {
   "cell_type": "markdown",
   "metadata": {},
   "source": [
    "Ignore Warnings"
   ]
  },
  {
   "cell_type": "code",
   "execution_count": 2,
   "metadata": {},
   "outputs": [],
   "source": [
    "import warnings\n",
    "\n",
    "warnings.filterwarnings(\"ignore\")"
   ]
  },
  {
   "cell_type": "markdown",
   "metadata": {},
   "source": [
    "Import API-Keys"
   ]
  },
  {
   "cell_type": "code",
   "execution_count": 1,
   "metadata": {},
   "outputs": [],
   "source": [
    "import streamlit as st\n",
    "import os\n",
    "\n",
    "\n",
    "ALPHAVANTAGE_API_KEY = st.secrets[\"ALPHAVANTAGE_API_KEY\"]\n",
    "os.environ[\"ALPHAVANTAGE_API_KEY\"] = st.secrets[\"ALPHAVANTAGE_API_KEY\"]\n",
    "\n",
    "COHERE_API_KEY = st.secrets[\"COHERE_API_KEY\"]\n",
    "os.environ[\"COHERE_API_KEY\"] = st.secrets[\"COHERE_API_KEY\"]\n",
    "\n",
    "QDRANT_HOST = st.secrets[\"QDRANT_HOST\"]\n",
    "QDRANT_API_KEY = st.secrets[\"QDRANT_API_KEY\"]\n",
    "\n",
    "OPEN_WEATHER_API_KEY = st.secrets[\"OPEN_WEATHER_API_KEY\"]\n",
    "os.environ[\"OPENWEATHERMAP_API_KEY\"] = OPEN_WEATHER_API_KEY\n",
    "\n",
    "POLYGON_API_KEY = st.secrets[\"POLYGON_API_KEY\"]\n",
    "os.environ[\"POLYGON_API_KEY\"] = st.secrets[\"POLYGON_API_KEY\"]\n",
    "\n",
    "\n",
    "TAVILY_API_KEY = st.secrets[\"TAVILY_API_KEY\"]\n",
    "os.environ[\"TAVILY_API_KEY\"] = st.secrets[\"TAVILY_API_KEY\"]"
   ]
  },
  {
   "cell_type": "markdown",
   "metadata": {},
   "source": [
    "Invoke ChatCohere"
   ]
  },
  {
   "cell_type": "code",
   "execution_count": 9,
   "metadata": {},
   "outputs": [
    {
     "name": "stdout",
     "output_type": "stream",
     "text": [
      "content=\"Who's there?\" additional_kwargs={'documents': None, 'citations': None, 'search_results': None, 'search_queries': None, 'is_search_required': None, 'generation_id': '8c7b69ad-1a4f-40aa-b365-910b679dc73f', 'token_count': {'input_tokens': 68, 'output_tokens': 4}} response_metadata={'documents': None, 'citations': None, 'search_results': None, 'search_queries': None, 'is_search_required': None, 'generation_id': '8c7b69ad-1a4f-40aa-b365-910b679dc73f', 'token_count': {'input_tokens': 68, 'output_tokens': 4}} id='run-3c2fb0b9-aba8-4378-b81a-03a069da25b2-0'\n"
     ]
    }
   ],
   "source": [
    "from langchain_cohere import ChatCohere\n",
    "from langchain_core.messages import HumanMessage\n",
    "\n",
    "chat = ChatCohere()\n",
    "messages = [HumanMessage(content=\"knock knock\")]\n",
    "print(chat.invoke(messages))"
   ]
  },
  {
   "cell_type": "markdown",
   "metadata": {},
   "source": [
    "Invoke ChatCohere using ChatPromptTemplate"
   ]
  },
  {
   "cell_type": "code",
   "execution_count": 10,
   "metadata": {},
   "outputs": [
    {
     "data": {
      "text/plain": [
       "AIMessage(content='Why don’t bears wear socks? \\n\\nThey have bear feet!', additional_kwargs={'documents': None, 'citations': None, 'search_results': None, 'search_queries': None, 'is_search_required': None, 'generation_id': '96aec7ab-7bb7-47c9-a38e-10d1ba5d99cf', 'token_count': {'input_tokens': 72, 'output_tokens': 15}}, response_metadata={'documents': None, 'citations': None, 'search_results': None, 'search_queries': None, 'is_search_required': None, 'generation_id': '96aec7ab-7bb7-47c9-a38e-10d1ba5d99cf', 'token_count': {'input_tokens': 72, 'output_tokens': 15}}, id='run-db8eb780-c8ee-4220-8bd5-75c9b3c37435-0')"
      ]
     },
     "execution_count": 10,
     "metadata": {},
     "output_type": "execute_result"
    }
   ],
   "source": [
    "from langchain_core.prompts import ChatPromptTemplate\n",
    "\n",
    "prompt = ChatPromptTemplate.from_template(\"Tell me a joke about {topic}\")\n",
    "chain = prompt | chat\n",
    "chain.invoke({\"topic\": \"bears\"})"
   ]
  },
  {
   "cell_type": "markdown",
   "metadata": {},
   "source": [
    "Invoke Cohere"
   ]
  },
  {
   "cell_type": "code",
   "execution_count": 11,
   "metadata": {},
   "outputs": [
    {
     "name": "stdout",
     "output_type": "stream",
     "text": [
      " The theory of Kahnemann and Tversky is a collection of cognitive biases that affect how people make decisions and form beliefs. The theory consists of a list of heuristics (mental shortcuts) that are used by humans to make decisions, and the cognitive biases that result from these heuristics.\n",
      "\n",
      "One of the most well-known heuristics is the availability heuristic, which is the tendency for people to make judgments based on how easy it is to think of examples for or against a particular issue. It is also known as the availability bias, which is a cognitive bias that causes people to overestimate the likelihood of events that are more easy to recall than events that are less easy to recall. For instance, individuals are more likely to believe that siblings resemble each other and that emigration rates are higher in the destination country when this country is next door, simply because these statements seem more available or easier to bring to mind. \n",
      "\n",
      "Let me know if you'd like to know more about Kahnemann and Tversky's theory or any of the specific heuristics and cognitive biases it entails. \n"
     ]
    }
   ],
   "source": [
    "from langchain_cohere.llms import Cohere\n",
    "\n",
    "llm = Cohere()\n",
    "print(llm.invoke(\"Summarize the theory of Kahnemann and Tversky\"))"
   ]
  },
  {
   "cell_type": "markdown",
   "metadata": {},
   "source": [
    "Tavily Internet Search Tool"
   ]
  },
  {
   "cell_type": "code",
   "execution_count": 12,
   "metadata": {},
   "outputs": [
    {
     "name": "stdout",
     "output_type": "stream",
     "text": [
      "\n",
      "\n",
      "\u001b[1m> Entering new AgentExecutor chain...\u001b[0m\n",
      "\u001b[32;1m\u001b[1;3m\n",
      "I will search for 'Palantir IPO NYSE' and write an answer based on the information I find.\n",
      "{'tool_name': 'internet_search', 'parameters': {'query': 'Palantir IPO NYSE'}}\n",
      "\u001b[0m\u001b[36;1m\u001b[1;3m[{'url': 'https://www.investopedia.com/palantir-ipo-what-you-need-to-know-5080082', 'content': \"(If you want to hear us talk about it, check out this week's Express podcast)\\n475.8 million Class A shares can be sold today (the remaining locked up, a rarity for direct listings) and the reference price is $7.25 a share, which translates to a valuation of nearly $16 billion. Financials\\nControversy\\nPalantir is seen as controversial because of the nature of some of the work its clients conduct, its inability to share much information on the projects and its unconventional corporate governance structure. What Does It Do\\nNamed after the sinister seeing stones in the Lord of the Rings series, Palantir helps its clients analyze data to solve complicated problems or optimize operations by building them platforms with search features and visualizations. Its tools are primarily adopted for surveillance and security, and its biggest customers are law enforcement agencies like the FBI, CIA, and ICE, police departments and the U.S. Army. The secretive company has raised $2.6 billion in the past and is part of the Big Data and data mining boom.\"}, {'url': 'https://www.cnn.com/2020/09/30/tech/palantir-ipo/index.html', 'content': 'The company began trading on the New York Stock Exchange under the ticker symbol \"PLTR\" just after 1:30pm ET at $10 a share, up from the reference price listed by the NYSE of $7.25 a share ...'}, {'url': 'https://finance.yahoo.com/news/palantir-technologies-ipo-investor-comprehensive-193224055.html', 'content': 'Palantir Stock IPO: A Direct Listing. Palantir stock begins trading on the NYSE on Tuesday, Sept. 30 under the ticker \"PLTR\". The company will pursue a direct listing, rather than a ...'}, {'url': 'https://www.cnbc.com/2020/09/30/palantir-goes-public-pltr-starts-trading-on-the-nyse.html', 'content': 'Palantir shares traded actively in the private market, selling for between $4.17 and $11.50 this year. Alex Karp, CEO of Palantir, speaking at the 2019 WEF in Davos, Switzerland on Jan. 23rd, 2019 ...'}]\u001b[0m\u001b[32;1m\u001b[1;3mRelevant Documents: 1,2,3\n",
      "Cited Documents: 1,2,3\n",
      "Answer: Palantir began trading on the New York Stock Exchange on Tuesday 30 September 2020.\n",
      "Grounded answer: Palantir began trading on the New York Stock Exchange on <co: 2>Tuesday</co: 2> <co: 1,2>30 September</co: 1,2> <co: 1>2020</co: 1>.\u001b[0m\n",
      "\n",
      "\u001b[1m> Finished chain.\u001b[0m\n"
     ]
    },
    {
     "data": {
      "text/plain": [
       "{'input': 'When has Palantir had its IPO at the NYSE?',\n",
       " 'output': 'Palantir began trading on the New York Stock Exchange on Tuesday 30 September 2020.',\n",
       " 'citations': [CohereCitation(start=57, end=64, text='Tuesday', documents=[{'url': 'https://finance.yahoo.com/news/palantir-technologies-ipo-investor-comprehensive-193224055.html', 'content': 'Palantir Stock IPO: A Direct Listing. Palantir stock begins trading on the NYSE on Tuesday, Sept. 30 under the ticker \"PLTR\". The company will pursue a direct listing, rather than a ...', 'id': 'doc_2'}], document_ids={'doc_2'}),\n",
       "  CohereCitation(start=65, end=77, text='30 September', documents=[{'url': 'https://www.cnn.com/2020/09/30/tech/palantir-ipo/index.html', 'content': 'The company began trading on the New York Stock Exchange under the ticker symbol \"PLTR\" just after 1:30pm ET at $10 a share, up from the reference price listed by the NYSE of $7.25 a share ...', 'id': 'doc_1'}, {'url': 'https://finance.yahoo.com/news/palantir-technologies-ipo-investor-comprehensive-193224055.html', 'content': 'Palantir Stock IPO: A Direct Listing. Palantir stock begins trading on the NYSE on Tuesday, Sept. 30 under the ticker \"PLTR\". The company will pursue a direct listing, rather than a ...', 'id': 'doc_2'}], document_ids={'doc_1', 'doc_2'}),\n",
       "  CohereCitation(start=78, end=82, text='2020', documents=[{'url': 'https://www.cnn.com/2020/09/30/tech/palantir-ipo/index.html', 'content': 'The company began trading on the New York Stock Exchange under the ticker symbol \"PLTR\" just after 1:30pm ET at $10 a share, up from the reference price listed by the NYSE of $7.25 a share ...', 'id': 'doc_1'}], document_ids={'doc_1'})]}"
      ]
     },
     "execution_count": 12,
     "metadata": {},
     "output_type": "execute_result"
    }
   ],
   "source": [
    "from langchain_community.tools.tavily_search import TavilySearchResults\n",
    "from langchain_cohere import ChatCohere, create_cohere_react_agent\n",
    "from langchain_core.prompts import ChatPromptTemplate\n",
    "from langchain.agents import AgentExecutor\n",
    "\n",
    "llm = ChatCohere()\n",
    "\n",
    "internet_search = TavilySearchResults(max_results=4)\n",
    "internet_search.name = \"internet_search\"\n",
    "internet_search.description = \"Route a user query to the internet\"\n",
    "\n",
    "prompt = ChatPromptTemplate.from_template(\"{input}\")\n",
    "\n",
    "agent = create_cohere_react_agent(llm, [internet_search], prompt)\n",
    "\n",
    "agent_executor = AgentExecutor(agent=agent, tools=[internet_search], verbose=True)\n",
    "\n",
    "agent_executor.invoke(\n",
    "    {\n",
    "        \"input\": \"When has Palantir had its IPO at the NYSE?\",\n",
    "    }\n",
    ")"
   ]
  },
  {
   "cell_type": "code",
   "execution_count": 70,
   "metadata": {},
   "outputs": [
    {
     "name": "stdout",
     "output_type": "stream",
     "text": [
      "\n",
      "\n",
      "\u001b[1m> Entering new AgentExecutor chain...\u001b[0m\n",
      "\u001b[32;1m\u001b[1;3m\n",
      "I will search for 'Palantir IPO NYSE' to find the answer to the user's request.\n",
      "{'tool_name': 'internet_search', 'parameters': {'query': 'Palantir IPO NYSE'}}\n",
      "\u001b[0m\u001b[36;1m\u001b[1;3m[{'url': 'https://www.cnbc.com/2020/09/30/palantir-goes-public-pltr-starts-trading-on-the-nyse.html', 'content': 'Palantir shares traded actively in the private market, selling for between $4.17 and $11.50 this year. Alex Karp, CEO of Palantir, speaking at the 2019 WEF in Davos, Switzerland on Jan. 23rd, 2019 ...'}, {'url': 'https://www.investopedia.com/palantir-ipo-what-you-need-to-know-5080082', 'content': \"(If you want to hear us talk about it, check out this week's Express podcast)\\n475.8 million Class A shares can be sold today (the remaining locked up, a rarity for direct listings) and the reference price is $7.25 a share, which translates to a valuation of nearly $16 billion. Financials\\nControversy\\nPalantir is seen as controversial because of the nature of some of the work its clients conduct, its inability to share much information on the projects and its unconventional corporate governance structure. What Does It Do\\nNamed after the sinister seeing stones in the Lord of the Rings series, Palantir helps its clients analyze data to solve complicated problems or optimize operations by building them platforms with search features and visualizations. Its tools are primarily adopted for surveillance and security, and its biggest customers are law enforcement agencies like the FBI, CIA, and ICE, police departments and the U.S. Army. The secretive company has raised $2.6 billion in the past and is part of the Big Data and data mining boom.\"}, {'url': 'https://www.reuters.com/article/idUSKBN26L3DQ/', 'content': 'Item 1 of 3 A person poses in front of a banner featuring the logo of Palantir Technologies (PLTR) at the New York Stock Exchange (NYSE) on the day of their initial public offering (IPO) in ...'}, {'url': 'https://finance.yahoo.com/news/palantir-technologies-ipo-investor-comprehensive-193224055.html', 'content': 'Palantir Stock IPO: A Direct Listing. Palantir stock begins trading on the NYSE on Tuesday, Sept. 30 under the ticker \"PLTR\". The company will pursue a direct listing, rather than a ...'}]\u001b[0m\u001b[32;1m\u001b[1;3mRelevant Documents: 2,3\n",
      "Cited Documents: 2,3\n",
      "Answer: Palantir had its IPO at the NYSE on 30 September.\n",
      "Grounded answer: Palantir had its IPO at the NYSE on <co: 3>30 September</co: 3>.\u001b[0m\n",
      "\n",
      "\u001b[1m> Finished chain.\u001b[0m\n"
     ]
    },
    {
     "data": {
      "text/plain": [
       "{'input': 'When has Palantir had its IPO at the NYSE?',\n",
       " 'output': 'Palantir had its IPO at the NYSE on 30 September.',\n",
       " 'citations': [CohereCitation(start=36, end=48, text='30 September', documents=[{'url': 'https://finance.yahoo.com/news/palantir-technologies-ipo-investor-comprehensive-193224055.html', 'content': 'Palantir Stock IPO: A Direct Listing. Palantir stock begins trading on the NYSE on Tuesday, Sept. 30 under the ticker \"PLTR\". The company will pursue a direct listing, rather than a ...', 'id': 'doc_3'}], document_ids={'doc_3'})]}"
      ]
     },
     "execution_count": 70,
     "metadata": {},
     "output_type": "execute_result"
    }
   ],
   "source": [
    "from langchain_cohere import ChatCohere, create_cohere_react_agent\n",
    "from langchain_core.prompts import ChatPromptTemplate\n",
    "from langchain.agents import AgentExecutor\n",
    "from cohere_tools import get_internet_search_tool\n",
    "\n",
    "llm = ChatCohere()\n",
    "\n",
    "internet_search = get_internet_search_tool()\n",
    "\n",
    "prompt = ChatPromptTemplate.from_template(\"{input}\")\n",
    "\n",
    "agent = create_cohere_react_agent(llm, [internet_search], prompt)\n",
    "\n",
    "agent_executor = AgentExecutor(agent=agent, tools=[internet_search], verbose=True)\n",
    "\n",
    "agent_executor.invoke(\n",
    "    {\n",
    "        \"input\": \"When has Palantir had its IPO at the NYSE?\",\n",
    "    }\n",
    ")"
   ]
  },
  {
   "cell_type": "markdown",
   "metadata": {},
   "source": [
    "Wikipedia Tool"
   ]
  },
  {
   "cell_type": "code",
   "execution_count": 72,
   "metadata": {},
   "outputs": [
    {
     "name": "stdout",
     "output_type": "stream",
     "text": [
      "\n",
      "\n",
      "\u001b[1m> Entering new AgentExecutor chain...\u001b[0m\n",
      "\u001b[32;1m\u001b[1;3m\n",
      "I will search for 'Kahnemann and Tversky theory' and write an answer based on the results.\n",
      "{'tool_name': 'wikipedia-tool', 'parameters': {'query': 'Kahnemann and Tversky theory'}}\n",
      "\u001b[0m\u001b[36;1m\u001b[1;3mPage: Daniel Kahneman\n",
      "Summary: Daniel Kahneman (; Hebrew: דניאל כהנמן; March 5, 1934 – March 27, 2024) was an Israeli-American cognitive scientist best-known for his work on the psychology of judgment and decision-making. He is also known for his work in behavioral economics, for which he was awarded the 2002 Nobel Memorial Prize in Economic Sciences together with Vernon L. Smith. Kahneman's published empirical findings challenge the assumption of human rationality prevailing in modern economic theory. Kahneman became known as the \"grandfather of behavioral economics.\"\n",
      "With Amos Tversky and others, Kahneman established a cognitive basis for common human errors that arise from heuristics and biases, and developed prospect theory. In 2011, Kahneman was named by Foreign Policy magazine in its list of top global thinkers. In the same year, his book Thinking, Fast and Slow, which summarizes much of his research, was published and became a best seller. In 2015, The Economist listed him as the seventh most influential economist in the world.\n",
      "Kahneman was professor emeritus of psychology and public affairs at Princeton University's Princeton School of Public and International Affairs. Kahneman was a founding partner of TGG Group, a business and philanthropy consulting company. He was married to cognitive psychologist and Royal Society Fellow Anne Treisman, who died in 2018.\n",
      "\n",
      "\u001b[0m\n",
      "\u001b[32;1m\u001b[1;3m\u001b[0m\n",
      "\n",
      "\u001b[1m> Finished chain.\u001b[0m\n"
     ]
    }
   ],
   "source": [
    "from langchain_cohere import ChatCohere, create_cohere_react_agent\n",
    "from langchain_core.prompts import ChatPromptTemplate\n",
    "from langchain.agents import AgentExecutor\n",
    "from cohere_tools import get_wikipedia_tool\n",
    "\n",
    "\n",
    "llm = ChatCohere()\n",
    "\n",
    "\n",
    "prompt = ChatPromptTemplate.from_template(\"{input}\")\n",
    "\n",
    "\n",
    "wikipedia_tool = get_wikipedia_tool()\n",
    "\n",
    "\n",
    "agent = create_cohere_react_agent(llm, [wikipedia_tool], prompt)\n",
    "\n",
    "\n",
    "agent_executor = AgentExecutor(agent=agent, tools=[wikipedia_tool], verbose=True)\n",
    "\n",
    "\n",
    "response = agent_executor.invoke(\n",
    "    {\n",
    "        \"input\": \"Explain the theory of Kahnemann and Tversky\",\n",
    "    }\n",
    ")"
   ]
  },
  {
   "cell_type": "markdown",
   "metadata": {},
   "source": [
    "Run tool without agent"
   ]
  },
  {
   "cell_type": "code",
   "execution_count": 73,
   "metadata": {},
   "outputs": [
    {
     "data": {
      "text/plain": [
       "\"Page: David Beckham\\nSummary: David Robert Joseph Beckham  ( BEK-əm; born 2 May 1975) is an English former professional footballer, the president and co-owner of Inter Miami CF and co-owner of Salford City. Primarily a right winger and known for his range of passing, crossing ability and free-kick taking, Beckham has been hailed as one of the greatest and most recognisable midfielders of his generation, as well as one of the best free-kick takers of all time. He won 19 major trophies in his career, and is the first English player to win league titles in four different countries: England, Spain, the United States and France.\\nBeckham's professional club career began with Manchester United, where he made his first-team debut in 1992 at age 17. With United, he won the Premier League title six times, the FA Cup twice, the FA Charity Shield twice, the Intercontinental Cup and the UEFA Champions League in 1999. He then played four seasons with Real Madrid, winning the La Liga championship in his final season with the club. In July 2007, Beckham signed a five-year contract with Major League Soccer club LA Galaxy. While a Galaxy player, he spent two loan spells in Italy with AC Milan in 2009 and 2010. He became the first British footballer to play 100 UEFA Champions League games. He retired in May 2013 after a 20-year career.\\nIn international football, Beckham made his England debut on 1 September 1996, at the age of 21. He was captain for six years, earning 58 caps during his tenure. He made 115 career appearances in total, appearing at three FIFA World Cups in 1998, 2002 and 2006 as well as two UEFA European Championships in 2000 and 2004. Beckham held the England appearance record for an outfield player until 2016.\\nA global ambassador of football, Beckham is considered to be a British cultural icon. He has been in a well publicised marriage to Victoria Beckham since 1999 and was consistently ranked among the highest earners in football, in 2013 being listed as the highest-paid player in the world having earned over $50 million in the previous twelve months. Beckham was runner-up in the Ballon d'Or in 1999, twice runner-up for FIFA World Player of the Year (1999 and 2001) and in 2004 was named by Pelé in the FIFA 100 list of the world's greatest living players. He was inducted into the English Football Hall of Fame in 2008, and the Premier League Hall of Fame in 2021. He has been a UNICEF ambassador since 2005, and in 2015 he launched 7: The David Beckham UNICEF Fund. In 2014, MLS announced that Beckham and a group of investors would own Inter Miami, which began playing in 2020.\\n\\n\""
      ]
     },
     "execution_count": 73,
     "metadata": {},
     "output_type": "execute_result"
    }
   ],
   "source": [
    "wikipedia_tool.run(\"David Beckham\")"
   ]
  },
  {
   "cell_type": "markdown",
   "metadata": {},
   "source": [
    "Openweathermap Tool"
   ]
  },
  {
   "cell_type": "code",
   "execution_count": 75,
   "metadata": {},
   "outputs": [
    {
     "name": "stdout",
     "output_type": "stream",
     "text": [
      "\n",
      "\n",
      "\u001b[1m> Entering new AgentExecutor chain...\u001b[0m\n",
      "\u001b[32;1m\u001b[1;3m\n",
      "I will use the Open Weather Map tool to find out what the weather is like in London.\n",
      "{'tool_name': 'open_weather_map', 'parameters': {'location': 'London'}}\n",
      "\u001b[0m\u001b[36;1m\u001b[1;3mIn London, the current weather is as follows:\n",
      "Detailed status: overcast clouds\n",
      "Wind speed: 5.14 m/s, direction: 230°\n",
      "Humidity: 76%\n",
      "Temperature: \n",
      "  - Current: 18.25°C\n",
      "  - High: 20.08°C\n",
      "  - Low: 16.66°C\n",
      "  - Feels like: 18.12°C\n",
      "Rain: {}\n",
      "Heat index: None\n",
      "Cloud cover: 100%\u001b[0m\u001b[32;1m\u001b[1;3mRelevant Documents: 0\n",
      "Cited Documents: 0\n",
      "Answer: The weather in London is currently overcast with a temperature of 18.25°C. It's also quite humid at 76% humidity.\n",
      "Grounded answer: The weather in London is currently <co: 0>overcast</co: 0> with a <co: 0>temperature of 18.25°C</co: 0>. It's also quite <co: 0>humid at 76% humidity</co: 0>.\u001b[0m\n",
      "\n",
      "\u001b[1m> Finished chain.\u001b[0m\n"
     ]
    }
   ],
   "source": [
    "from langchain_core.prompts import ChatPromptTemplate\n",
    "from langchain.agents import AgentExecutor\n",
    "\n",
    "from langchain_cohere import ChatCohere, create_cohere_react_agent\n",
    "\n",
    "from cohere_tools import get_openweathermap_tool, get_wikipedia_tool\n",
    "\n",
    "\n",
    "\n",
    "llm = ChatCohere()\n",
    "\n",
    "\n",
    "prompt = ChatPromptTemplate.from_template(\"{input}\")\n",
    "\n",
    "\n",
    "tools = [get_openweathermap_tool(llm)]\n",
    "\n",
    "tools.append(get_wikipedia_tool())\n",
    "\n",
    "\n",
    "agent = create_cohere_react_agent(tools=tools, llm=llm, prompt=prompt)\n",
    "\n",
    "\n",
    "agent_executor = AgentExecutor(agent=agent, tools=tools, verbose=True)\n",
    "\n",
    "\n",
    "response = agent_executor.invoke({\"input\": \"How is the weather in London?\"})"
   ]
  },
  {
   "cell_type": "markdown",
   "metadata": {},
   "source": [
    "Access Output"
   ]
  },
  {
   "cell_type": "code",
   "execution_count": 76,
   "metadata": {},
   "outputs": [
    {
     "data": {
      "text/plain": [
       "\"The weather in London is currently overcast with a temperature of 18.25°C. It's also quite humid at 76% humidity.\""
      ]
     },
     "execution_count": 76,
     "metadata": {},
     "output_type": "execute_result"
    }
   ],
   "source": [
    "response[\"output\"]"
   ]
  },
  {
   "cell_type": "markdown",
   "metadata": {},
   "source": [
    "Multiple Tools"
   ]
  },
  {
   "cell_type": "code",
   "execution_count": 4,
   "metadata": {},
   "outputs": [],
   "source": [
    "from langchain_cohere import ChatCohere\n",
    "from cohere_tools import (\n",
    "    get_openweathermap_tool,\n",
    "    get_internet_search_tool,\n",
    "    get_wikipedia_tool,\n",
    ")\n",
    "\n",
    "llm = ChatCohere()\n",
    "tools = [get_openweathermap_tool(llm), get_internet_search_tool(), get_wikipedia_tool()]"
   ]
  },
  {
   "cell_type": "markdown",
   "metadata": {},
   "source": [
    "Multiple Tool Use\n",
    "1. wiki-tool\n",
    "2. open_weather_map\n",
    "3. internet_search"
   ]
  },
  {
   "cell_type": "code",
   "execution_count": 5,
   "metadata": {},
   "outputs": [
    {
     "name": "stdout",
     "output_type": "stream",
     "text": [
      "\n",
      "\n",
      "\u001b[1m> Entering new AgentExecutor chain...\u001b[0m\n",
      "\u001b[32;1m\u001b[1;3m\n",
      "I will use Wikipedia to answer this question.\n",
      "{'tool_name': 'wikipedia-tool', 'parameters': {'query': 'Who was George Washington?'}}\n",
      "\u001b[0m\u001b[38;5;200m\u001b[1;3mPage: George Washington Carver\n",
      "Summary: George Washington Carver (c. 1864 – January 5, 1943) was an American agricultural scientist and inventor who promoted alternative crops to cotton and methods to prevent soil depletion. He was one of the most prominent black scientists of the early 20th century.\n",
      "While a professor at Tuskegee Institute, Carver developed techniques to improve types of soils depleted by repeated plantings of cotton. He wanted poor farmers to grow other crops, such as peanuts and sweet potatoes, as a source of their own food and to improve their quality of life. Under his leadership, the Experiment Station at Tuskegee published over forty practical bulletins for farmers, many written by him, which included recipes; many of the bulletins contained advice for poor farmers, including combating soil depletion with limited financial means, producing bigger crops, and preserving food.\n",
      "Apart from his work to improve the lives of farmers, Carver was also a leader in promoting environmentalism. He received numerous honors for his work, including the Spingarn Medal of the NAACP. In an era of high racial polarization, his fame reached beyond the black community. He was widely recognized and praised in the white community for his many achievements and talents. In 1941, Time magazine dubbed Carver a \"Black Leonardo\".\n",
      "Color film of Carver shot in 1937 at the Tuskegee Institute by African American surgeon Allen Alexander was added to the National Film Registry of the Library of Congress in 2019. The 12 minutes of footage includes Carver in his apartment, office and laboratory, as well as images of him tending flowers and displaying his paintings.\u001b[0m\n",
      "\u001b[32;1m\u001b[1;3m\u001b[0m\n",
      "\n",
      "\u001b[1m> Finished chain.\u001b[0m\n",
      "{'input': 'Who was George Washington?', 'output': 'Page: George Washington Carver\\nSummary: George Washington Carver (c. 1864 – January 5, 1943) was an American agricultural scientist and inventor who promoted alternative crops to cotton and methods to prevent soil depletion. He was one of the most prominent black scientists of the early 20th century.\\nWhile a professor at Tuskegee Institute, Carver developed techniques to improve types of soils depleted by repeated plantings of cotton. He wanted poor farmers to grow other crops, such as peanuts and sweet potatoes, as a source of their own food and to improve their quality of life. Under his leadership, the Experiment Station at Tuskegee published over forty practical bulletins for farmers, many written by him, which included recipes; many of the bulletins contained advice for poor farmers, including combating soil depletion with limited financial means, producing bigger crops, and preserving food.\\nApart from his work to improve the lives of farmers, Carver was also a leader in promoting environmentalism. He received numerous honors for his work, including the Spingarn Medal of the NAACP. In an era of high racial polarization, his fame reached beyond the black community. He was widely recognized and praised in the white community for his many achievements and talents. In 1941, Time magazine dubbed Carver a \"Black Leonardo\".\\nColor film of Carver shot in 1937 at the Tuskegee Institute by African American surgeon Allen Alexander was added to the National Film Registry of the Library of Congress in 2019. The 12 minutes of footage includes Carver in his apartment, office and laboratory, as well as images of him tending flowers and displaying his paintings.'}\n",
      "\n",
      "\n",
      "\u001b[1m> Entering new AgentExecutor chain...\u001b[0m\n",
      "\u001b[32;1m\u001b[1;3m\n",
      "I will use the location provided to search for the weather in Mortugaba, Bahia, Brazil.\n",
      "{'tool_name': 'open_weather_map', 'parameters': {'location': 'Mortugaba, Bahia, Brazil'}}\n",
      "\u001b[0m\u001b[36;1m\u001b[1;3mIn Mortugaba, Bahia, Brazil, the current weather is as follows:\n",
      "Detailed status: overcast clouds\n",
      "Wind speed: 1.74 m/s, direction: 143°\n",
      "Humidity: 96%\n",
      "Temperature: \n",
      "  - Current: 16.1°C\n",
      "  - High: 16.1°C\n",
      "  - Low: 16.1°C\n",
      "  - Feels like: 16.27°C\n",
      "Rain: {}\n",
      "Heat index: None\n",
      "Cloud cover: 97%\u001b[0m\u001b[32;1m\u001b[1;3mRelevant Documents: 0\n",
      "Cited Documents: 0\n",
      "Answer: In Mortugaba, Bahia, Brazil, the weather is currently overcast with a temperature of 16.1°C. The humidity is 96% and the wind speed is 1.74 m/s.\n",
      "Grounded answer: In Mortugaba, Bahia, Brazil, the weather is currently <co: 0>overcast</co: 0> with a <co: 0>temperature of 16.1°C</co: 0>. The <co: 0>humidity is 96</co: 0>% and the <co: 0>wind speed is 1.74 m/s</co: 0>.\u001b[0m\n",
      "\n",
      "\u001b[1m> Finished chain.\u001b[0m\n",
      "{'input': \"What's the weather like in Mortugaba, Bahia, Brazil?\", 'output': 'In Mortugaba, Bahia, Brazil, the weather is currently overcast with a temperature of 16.1°C. The humidity is 96% and the wind speed is 1.74 m/s.', 'citations': [CohereCitation(start=54, end=62, text='overcast', documents=[{'output': 'In Mortugaba, Bahia, Brazil, the current weather is as follows:\\nDetailed status: overcast clouds\\nWind speed: 1.74 m/s, direction: 143°\\nHumidity: 96%\\nTemperature: \\n  - Current: 16.1°C\\n  - High: 16.1°C\\n  - Low: 16.1°C\\n  - Feels like: 16.27°C\\nRain: {}\\nHeat index: None\\nCloud cover: 97%', 'id': 'doc_0'}], document_ids={'doc_0'}), CohereCitation(start=70, end=91, text='temperature of 16.1°C', documents=[{'output': 'In Mortugaba, Bahia, Brazil, the current weather is as follows:\\nDetailed status: overcast clouds\\nWind speed: 1.74 m/s, direction: 143°\\nHumidity: 96%\\nTemperature: \\n  - Current: 16.1°C\\n  - High: 16.1°C\\n  - Low: 16.1°C\\n  - Feels like: 16.27°C\\nRain: {}\\nHeat index: None\\nCloud cover: 97%', 'id': 'doc_0'}], document_ids={'doc_0'}), CohereCitation(start=97, end=111, text='humidity is 96', documents=[{'output': 'In Mortugaba, Bahia, Brazil, the current weather is as follows:\\nDetailed status: overcast clouds\\nWind speed: 1.74 m/s, direction: 143°\\nHumidity: 96%\\nTemperature: \\n  - Current: 16.1°C\\n  - High: 16.1°C\\n  - Low: 16.1°C\\n  - Feels like: 16.27°C\\nRain: {}\\nHeat index: None\\nCloud cover: 97%', 'id': 'doc_0'}], document_ids={'doc_0'}), CohereCitation(start=121, end=143, text='wind speed is 1.74 m/s', documents=[{'output': 'In Mortugaba, Bahia, Brazil, the current weather is as follows:\\nDetailed status: overcast clouds\\nWind speed: 1.74 m/s, direction: 143°\\nHumidity: 96%\\nTemperature: \\n  - Current: 16.1°C\\n  - High: 16.1°C\\n  - Low: 16.1°C\\n  - Feels like: 16.27°C\\nRain: {}\\nHeat index: None\\nCloud cover: 97%', 'id': 'doc_0'}], document_ids={'doc_0'})]}\n",
      "\n",
      "\n",
      "\u001b[1m> Entering new AgentExecutor chain...\u001b[0m\n",
      "\u001b[32;1m\u001b[1;3m\n",
      "I will search for 'news 4 June 2024' and write an answer based on the results.\n",
      "{'tool_name': 'internet_search', 'parameters': {'query': 'news 4 June 2024'}}\n",
      "\u001b[0m\u001b[33;1m\u001b[1;3m[{'url': 'https://www.usatoday.com/story/news/politics/elections/2024/05/30/2024-primary-election-preview/73890673007/', 'content': '1:24. The U.S. presidential primary season continues, with five states and the District of Columbia holding their elections on June 4. Voters in D.C., Iowa, Montana, New Jersey, New Mexico and ...'}, {'url': 'https://www.state.gov/public-schedule-june-4-2024/', 'content': 'Assistant Secretary Stewart is on travel to Singapore and Qatar from May 29-June 5, 2024. BRIEFING SCHEDULE. 1:15 p.m. Department Press Briefing with Spokesperson Matthew Miller. (OPEN PRESS COVERAGE) The Department Press Briefing will be streamed live on the Department homepage and YouTube Channel. Office of the Spokesperson The Secretary of ...'}, {'url': 'https://www.desmoinesregister.com/story/news/politics/elections/2024/05/06/everything-to-know-about-the-june-4-2024-primary-election-in-iowa/73532289007/', 'content': \"Here's what you should know: Iowans will head to the polls June 4 to vote in primary elections for Congress, state legislative seats and countywide positions. But early voting officially kicks off ...\"}, {'url': 'https://www.hindustantimes.com/india-news/election-results-2024-live-updates-india-general-elections-results-today-latest-news-04-june-2024-101717452970179.html', 'content': \"4:06 AM IST, June 4 What do the exit polls indicate? ... Election Results 2024 LIVE News: In Chandni Chowk, Congress' JP Aggarwal is leading by 3,211 votes against BJP's Praveen Khandelwal.\"}]\u001b[0m\u001b[32;1m\u001b[1;3mRelevant Documents: 0,1,2,3\n",
      "Cited Documents: 0,1,2,3\n",
      "Answer: Here is a selection of news stories from today:\n",
      "- The U.S. presidential primary season continues, with five states and the District of Columbia holding their elections.\n",
      "- Assistant Secretary Stewart is on travel to Singapore and Qatar.\n",
      "- In India, Congress' JP Aggarwal is leading by 3,211 votes against BJP's Praveen Khandelwal in Chandni Chowk.\n",
      "Grounded answer: Here is a selection of news stories from today:\n",
      "- The <co: 0>U.S. presidential primary season continues</co: 0>, with <co: 0>five states and the District of Columbia holding their elections</co: 0>.\n",
      "- <co: 1>Assistant Secretary Stewart is on travel to Singapore and Qatar</co: 1>.\n",
      "- In <co: 3>India</co: 3>, <co: 3>Congress' JP Aggarwal is leading by 3,211 votes against BJP's Praveen Khandelwal in Chandni Chowk</co: 3>.\u001b[0m\n",
      "\n",
      "\u001b[1m> Finished chain.\u001b[0m\n",
      "{'input': 'Whats in the news today?', 'output': \"Here is a selection of news stories from today:\\n- The U.S. presidential primary season continues, with five states and the District of Columbia holding their elections.\\n- Assistant Secretary Stewart is on travel to Singapore and Qatar.\\n- In India, Congress' JP Aggarwal is leading by 3,211 votes against BJP's Praveen Khandelwal in Chandni Chowk.\", 'citations': [CohereCitation(start=54, end=96, text='U.S. presidential primary season continues', documents=[{'url': 'https://www.usatoday.com/story/news/politics/elections/2024/05/30/2024-primary-election-preview/73890673007/', 'content': '1:24. The U.S. presidential primary season continues, with five states and the District of Columbia holding their elections on June 4. Voters in D.C., Iowa, Montana, New Jersey, New Mexico and ...', 'id': 'doc_0'}], document_ids={'doc_0'}), CohereCitation(start=103, end=167, text='five states and the District of Columbia holding their elections', documents=[{'url': 'https://www.usatoday.com/story/news/politics/elections/2024/05/30/2024-primary-election-preview/73890673007/', 'content': '1:24. The U.S. presidential primary season continues, with five states and the District of Columbia holding their elections on June 4. Voters in D.C., Iowa, Montana, New Jersey, New Mexico and ...', 'id': 'doc_0'}], document_ids={'doc_0'}), CohereCitation(start=171, end=234, text='Assistant Secretary Stewart is on travel to Singapore and Qatar', documents=[{'url': 'https://www.state.gov/public-schedule-june-4-2024/', 'content': 'Assistant Secretary Stewart is on travel to Singapore and Qatar from May 29-June 5, 2024. BRIEFING SCHEDULE. 1:15 p.m. Department Press Briefing with Spokesperson Matthew Miller. (OPEN PRESS COVERAGE) The Department Press Briefing will be streamed live on the Department homepage and YouTube Channel. Office of the Spokesperson The Secretary of ...', 'id': 'doc_1'}], document_ids={'doc_1'}), CohereCitation(start=241, end=246, text='India', documents=[{'url': 'https://www.hindustantimes.com/india-news/election-results-2024-live-updates-india-general-elections-results-today-latest-news-04-june-2024-101717452970179.html', 'content': \"4:06 AM IST, June 4 What do the exit polls indicate? ... Election Results 2024 LIVE News: In Chandni Chowk, Congress' JP Aggarwal is leading by 3,211 votes against BJP's Praveen Khandelwal.\", 'id': 'doc_3'}], document_ids={'doc_3'}), CohereCitation(start=248, end=345, text=\"Congress' JP Aggarwal is leading by 3,211 votes against BJP's Praveen Khandelwal in Chandni Chowk\", documents=[{'url': 'https://www.hindustantimes.com/india-news/election-results-2024-live-updates-india-general-elections-results-today-latest-news-04-june-2024-101717452970179.html', 'content': \"4:06 AM IST, June 4 What do the exit polls indicate? ... Election Results 2024 LIVE News: In Chandni Chowk, Congress' JP Aggarwal is leading by 3,211 votes against BJP's Praveen Khandelwal.\", 'id': 'doc_3'}], document_ids={'doc_3'})]}\n",
      "\n",
      "\n",
      "\u001b[1m> Entering new AgentExecutor chain...\u001b[0m\n",
      "\u001b[32;1m\u001b[1;3m\n",
      "I will search for how Microsoft stock performed last week.\n",
      "{'tool_name': 'internet_search', 'parameters': {'query': 'Microsoft stock performance last week'}}\n",
      "\u001b[0m\u001b[33;1m\u001b[1;3m[{'url': 'https://finance.yahoo.com/quote/MSFT/history/', 'content': 'Discover historical prices for MSFT stock on Yahoo Finance. View daily, weekly or monthly format back to when Microsoft Corporation stock was issued.'}, {'url': 'https://www.google.com/finance/quote/MSFT:NASDAQ', 'content': 'Get the latest Microsoft Corp (MSFT) real-time quote, historical performance, charts, and other financial information to help you make more informed trading and investment decisions.'}, {'url': 'https://finance.yahoo.com/quote/MSFT/', 'content': 'Find the latest Microsoft Corporation (MSFT) stock quote, history, news and other vital information to help you with your stock trading and investing.'}, {'url': 'https://stockanalysis.com/stocks/msft/', 'content': \"The move is a shift in Micro...\\nMicrosoft-backed OpenAI valued at $80bn after company completes deal\\nCompany to sell existing shares in ‘tender offer' led by venture firm Thrive Capital, in similar deal as early last year\\nOpenAI valued at $80 billion after deal, NYT reports\\nMicrosoft-backed OpenAI has completed a deal that values the artificial intelligence company at $80 billion or more, the New York Times reported on Friday, citing three people with knowledge of the de...\\nAmazon, Google, Meta and Microsoft among tech companies to sign pact combatting AI-generated election trickery\\nMajor technology companies signed a pact Friday to voluntarily adopt “reasonable precautions” to prevent artificial-intelligence tools from being used to disrupt democratic elections around the world.\\nOpenAI, Meta and other tech giants sign effort to fight AI election interference\\nA group of 20 tech companies announced on Friday they have agreed to work together to prevent deceptive artificial-intelligence content from interfering with elections across the globe this year.\\n Appaloosa takes new stakes in Oracle and GM, raises stakes in Alibaba and Microsoft\\nDavid Tepper's Appaloosa hedge fund took new stakes in Oracle Corp. and General Motors Co., to name a few, and increased its holdings in Alibaba Group and Microsoft Corp., among other moves, according...\\nAnalysts' Top S&P 500 Stocks to Buy Now\\nAmazon, Microsoft and Nvidia make the list of stocks scoring rare Strong Buy consensus ratings.\\n Microsoft bringing Xbox games to PlayStation and Nintendo, amid major strategy shift\\nFour games that were previously exclusive to the Xbox console will be made available for the PS5 and Nintendo Switch, as the company focuses on its software products\\nMicrosoft UK collaborates with the Digital Revolution Awards\\nLONDON--(BUSINESS WIRE)--For more information, visit:\\u202fwww.digitalrevolutionawards.com.\\n Microsoft Claims Russia, China And Others Used OpenAI's Tools For Hacking\\nState-sponsored hacking groups from Russia, China and other U.S. adversaries have been caught using OpenAI's tools to better attack their targets, according to a report published Wednesday by Microsof...\\nSix Stocks Wall Street Loves for Valentine's Day\\nWhat could be a better gift than a list of Wall Street's favorite stocks?\\n OpenAI supposedly working on web search to rival Google: RPT\\nArtificial intelligence developer OpenAI — which Microsoft (MSFT) owns a 49% stake in — is reportedly developing a web search product to rival that of Alphabet's Google (GOOG, GOOGL), according to The...\\nXbox-Exclusive Games Coming To Rival Platforms—Here's What We Know\\n\"}]\u001b[0m\u001b[32;1m\u001b[1;3m\n",
      "I couldn't find any information about how Microsoft stock performed last week. I will now search for Microsoft stock performance in June 2024.\n",
      "{'tool_name': 'internet_search', 'parameters': {'query': 'Microsoft stock performance June 2024'}}\n",
      "\u001b[0m\u001b[33;1m\u001b[1;3m[{'url': 'https://www.techopedia.com/investing/microsoft-stock-forecast', 'content': \"The average one-year Microsoft (MSFT) stock forecast for 2024/2025 is for the price to reach $452.61, with the highest projection being $600.00 and the lowest estimate standing at $232.00. The following table shows 10 latest analysts' Microsoft stock predictions. Source: MarketBeat as of April 30, 2024.\"}, {'url': 'https://finance.yahoo.com/quote/MSFT/history/', 'content': 'Discover historical prices for MSFT stock on Yahoo Finance. View daily, weekly or monthly format back to when Microsoft Corporation stock was issued.'}, {'url': 'https://www.google.com/finance/quote/MSFT:NASDAQ', 'content': 'Get the latest Microsoft Corp (MSFT) real-time quote, historical performance, charts, and other financial information to help you make more informed trading and investment decisions.'}, {'url': 'https://www.macrotrends.net/stocks/charts/MSFT/microsoft/stock-price-history', 'content': 'Historical daily share price chart and data for Microsoft since 1986 adjusted for splits and dividends. The latest closing stock price for Microsoft as of June 03, 2024 is 413.52.. The all-time high Microsoft stock closing price was 430.52 on May 22, 2024.; The Microsoft 52-week high stock price is 433.60, which is 4.9% above the current share price.; The Microsoft 52-week low stock price is ...'}]\u001b[0m\u001b[32;1m\u001b[1;3mRelevant Documents: 4,7\n",
      "Cited Documents: 4,7\n",
      "Answer: I couldn't find any information about how Microsoft stock performed last week. However, the latest closing stock price for Microsoft as of 3 June 2024 is 413.52. The highest projection for the average one-year Microsoft stock forecast for 2024/2025 is $600.00 and the lowest estimate is $232.00.\n",
      "Grounded answer: I couldn't find any information about how Microsoft stock performed last week. However, the <co: 7>latest closing stock price for Microsoft as of 3 June 2024 is 413.52</co: 7>. The <co: 4>highest projection for the average one-year Microsoft stock forecast for 2024/2025 is $600.00 and the lowest estimate is $232.00</co: 4>.\u001b[0m\n",
      "\n",
      "\u001b[1m> Finished chain.\u001b[0m\n",
      "{'input': 'How did the Microsoft stock perform last week?', 'output': \"I couldn't find any information about how Microsoft stock performed last week. However, the latest closing stock price for Microsoft as of 3 June 2024 is 413.52. The highest projection for the average one-year Microsoft stock forecast for 2024/2025 is $600.00 and the lowest estimate is $232.00.\", 'citations': [CohereCitation(start=92, end=160, text='latest closing stock price for Microsoft as of 3 June 2024 is 413.52', documents=[{'url': 'https://www.macrotrends.net/stocks/charts/MSFT/microsoft/stock-price-history', 'content': 'Historical daily share price chart and data for Microsoft since 1986 adjusted for splits and dividends. The latest closing stock price for Microsoft as of June 03, 2024 is 413.52.. The all-time high Microsoft stock closing price was 430.52 on May 22, 2024.; The Microsoft 52-week high stock price is 433.60, which is 4.9% above the current share price.; The Microsoft 52-week low stock price is ...', 'id': 'doc_7'}], document_ids={'doc_7'}), CohereCitation(start=166, end=294, text='highest projection for the average one-year Microsoft stock forecast for 2024/2025 is $600.00 and the lowest estimate is $232.00', documents=[{'url': 'https://www.techopedia.com/investing/microsoft-stock-forecast', 'content': \"The average one-year Microsoft (MSFT) stock forecast for 2024/2025 is for the price to reach $452.61, with the highest projection being $600.00 and the lowest estimate standing at $232.00. The following table shows 10 latest analysts' Microsoft stock predictions. Source: MarketBeat as of April 30, 2024.\", 'id': 'doc_4'}], document_ids={'doc_4'})]}\n"
     ]
    }
   ],
   "source": [
    "from langchain_core.prompts import ChatPromptTemplate\n",
    "from langchain_cohere import create_cohere_react_agent  #\n",
    "from langchain.agents import AgentExecutor\n",
    "\n",
    "\n",
    "prompt = ChatPromptTemplate.from_template(\n",
    "    \"Use the right tool to answer the following question. If wikipedia_tool delivers no result use internet_search: {input}\"\n",
    ")\n",
    "agent = create_cohere_react_agent(tools=tools, llm=llm, prompt=prompt)\n",
    "\n",
    "\n",
    "agent_executor = AgentExecutor(agent=agent, tools=tools, verbose=True)\n",
    "\n",
    "\n",
    "print(agent_executor.invoke({\"input\": \"Who was George Washington?\"}))\n",
    "print(\n",
    "    agent_executor.invoke(\n",
    "        {\"input\": \"What's the weather like in Mortugaba, Bahia, Brazil?\"}\n",
    "    )\n",
    ")\n",
    "\n",
    "print(agent_executor.invoke({\"input\": \"Whats in the news today?\"}))\n",
    "print(\n",
    "    agent_executor.invoke({\"input\": \"How did the Microsoft stock perform last week?\"})\n",
    ")"
   ]
  },
  {
   "cell_type": "markdown",
   "metadata": {},
   "source": [
    "Alpha Vantage Tool"
   ]
  },
  {
   "cell_type": "code",
   "execution_count": null,
   "metadata": {},
   "outputs": [],
   "source": [
    "from langchain_community.utilities.alpha_vantage import AlphaVantageAPIWrapper\n",
    "from langchain_core.prompts import ChatPromptTemplate\n",
    "from langchain.agents import AgentExecutor\n",
    "from langchain_cohere import ChatCohere, create_cohere_react_agent\n",
    "from alpha_vantage_tools import (\n",
    "    get_search_symbol_tool,\n",
    "    get_exchange_rate_tool,\n",
    "    get_time_series_daily_tool,\n",
    "    get_time_series_weekly_tool,\n",
    "    get_market_news_sentimen_tool,\n",
    "    get_top_gainers_losers_tool,\n",
    ")\n",
    "\n",
    "llm = ChatCohere()\n",
    "\n",
    "prompt = ChatPromptTemplate.from_template(\"{input}\")\n",
    "\n",
    "tools = [\n",
    "    # get_search_symbol_tool(),\n",
    "    get_exchange_rate_tool(),\n",
    "    # get_time_series_daily_tool(),\n",
    "    # get_time_series_weekly_tool(),\n",
    "    # get_market_news_sentimen_tool(),\n",
    "    # get_top_gainers_losers_tool(),\n",
    "]\n",
    "\n",
    "\n",
    "agent = create_cohere_react_agent(tools=tools, llm=llm, prompt=prompt)\n",
    "\n",
    "agent_executor = AgentExecutor(agent=agent, tools=tools, verbose=True)\n",
    "\n",
    "\n",
    "# alpha_vantage = AlphaVantageAPIWrapper()\n",
    "# alpha_vantage._get_exchange_rate(\"USD\", \"JPY\")\n",
    "# alpha_vantage._get_time_series_daily(\"MSFT\")\n",
    "# alpha_vantage._get_time_series_weekly(\"IBM\")\n",
    "# alpha_vantage.search_symbols(\"American Superconductor\")\n",
    "# alpha_vantage._get_market_news_sentiment(\"Microsoft\")\n",
    "# alpha_vantage._get_top_gainers_losers()\n",
    "\n",
    "\n",
    "# response = agent_executor.invoke(\n",
    "#     {\"input\": \"What is the symbol for American Superconductor?\"}\n",
    "# )\n",
    "response = agent_executor.invoke({\"input\": \"How much is one Dollar in Euro?\"})\n",
    "\n",
    "\n",
    "# response = agent_executor.invoke({\"input\": \"Who are the gainers and losers at the stock exchange?\"})\n",
    "\n",
    "# response = agent_executor.invoke({\"input\": \"How is Microsoft performing historically?\"})\n",
    "\n",
    "\n",
    "# response = agent_executor.invoke({\"input\": \"How did Apple perform the last time?\"})\n",
    "\n",
    "# response = agent_executor.invoke({\"input\": \"What is in the news about Nvidia?\"})"
   ]
  },
  {
   "cell_type": "markdown",
   "metadata": {},
   "source": [
    "Tool using Alpha Vantage"
   ]
  },
  {
   "cell_type": "code",
   "execution_count": 66,
   "metadata": {},
   "outputs": [],
   "source": [
    "from langchain.agents import Tool\n",
    "\n",
    "\n",
    "def search_symbols(query: str) -> str:\n",
    "    \"\"\"Searches a stock market symbol or a company.\"\"\"\n",
    "    alpha_vantage = AlphaVantageAPIWrapper()\n",
    "    return alpha_vantage.search_symbols(query)\n",
    "\n",
    "\n",
    "description = (\n",
    "    \"Useful for when you need to search for a company or a stock symbol. \"\n",
    "    \"Useful if somebody asks 'How is the stock market symbol for...' \"\n",
    "    \"Useful if somebody asks 'For which company stands this stock symbol...' \"\n",
    ")\n",
    "\n",
    "av_search_symbols = Tool(\n",
    "    name=\"av_search_symbols\",  # We'll just call it 'Data'\n",
    "    func=search_symbols,\n",
    "    description=description,\n",
    ")\n",
    "\n",
    "tools = load_tools([\"openweathermap-api\"], llm)\n",
    "internet_search = TavilySearchResults(max_results=4)\n",
    "internet_search.name = \"internet_search\"\n",
    "internet_search.description = \"Route a user query to the internet\"\n",
    "tools.append(internet_search)\n",
    "tools.append(wikipedia_tool)\n",
    "tools.append(av_search_symbols)"
   ]
  },
  {
   "cell_type": "code",
   "execution_count": 67,
   "metadata": {},
   "outputs": [
    {
     "data": {
      "text/plain": [
       "[OpenWeatherMapQueryRun(api_wrapper=OpenWeatherMapAPIWrapper(owm=<pyowm.owm.OWM - API key=************************77bc3a62, subscription type=free, PyOWM version=(3, 3, 0)>, openweathermap_api_key=None)),\n",
       " TavilySearchResults(name='internet_search', description='Route a user query to the internet', max_results=4),\n",
       " WikipediaQueryRun(name='wiki-tool', description='look up things in wikipedia', args_schema=<class '__main__.WikiInputs'>, return_direct=True, api_wrapper=WikipediaAPIWrapper(wiki_client=<module 'wikipedia' from 'c:\\\\App\\\\Anaconda\\\\envs\\\\cohere\\\\Lib\\\\site-packages\\\\wikipedia\\\\__init__.py'>, top_k_results=1, lang='en', load_all_available_meta=False, doc_content_chars_max=4000)),\n",
       " Tool(name='av_search_symbols', description=\"Useful for when you need to search for a company or a stock symbol. Useful if somebody asks 'How is the stock market symbol for...' Useful if somebody asks 'For which company stands this stock symbol...' \", func=<function search_symbols at 0x0000017F00007420>)]"
      ]
     },
     "execution_count": 67,
     "metadata": {},
     "output_type": "execute_result"
    }
   ],
   "source": [
    "tools"
   ]
  },
  {
   "cell_type": "code",
   "execution_count": 68,
   "metadata": {},
   "outputs": [
    {
     "name": "stdout",
     "output_type": "stream",
     "text": [
      "\n",
      "\n",
      "\u001b[1m> Entering new AgentExecutor chain...\u001b[0m\n",
      "\u001b[32;1m\u001b[1;3m\n",
      "I will search for 'news 4 June 2024' and write an answer based on the results.\n",
      "{'tool_name': 'internet_search', 'parameters': {'query': 'news 4 june 2024'}}\n",
      "\u001b[0m\u001b[33;1m\u001b[1;3m[{'url': 'https://www.state.gov/public-schedule-june-4-2024/', 'content': 'Assistant Secretary Stewart is on travel to Singapore and Qatar from May 29-June 5, 2024. BRIEFING SCHEDULE. 1:15 p.m. Department Press Briefing with Spokesperson Matthew Miller. (OPEN PRESS COVERAGE) The Department Press Briefing will be streamed live on the Department homepage and YouTube Channel. Office of the Spokesperson The Secretary of ...'}, {'url': 'https://www.usatoday.com/story/news/politics/elections/2024/05/30/2024-primary-election-preview/73890673007/', 'content': '1:24. The U.S. presidential primary season continues, with five states and the District of Columbia holding their elections on June 4. Voters in D.C., Iowa, Montana, New Jersey, New Mexico and ...'}, {'url': 'https://www.desmoinesregister.com/story/news/politics/elections/2024/05/06/everything-to-know-about-the-june-4-2024-primary-election-in-iowa/73532289007/', 'content': \"Here's what you should know: Iowans will head to the polls June 4 to vote in primary elections for Congress, state legislative seats and countywide positions. But early voting officially kicks off ...\"}, {'url': 'https://www.hindustantimes.com/india-news/election-results-2024-live-updates-india-general-elections-results-today-latest-news-04-june-2024-101717452970179.html', 'content': \"4:06 AM IST, June 4 What do the exit polls indicate? ... Election Results 2024 LIVE News: In Chandni Chowk, Congress' JP Aggarwal is leading by 3,211 votes against BJP's Praveen Khandelwal.\"}]\u001b[0m\u001b[32;1m\u001b[1;3mRelevant Documents: 0,1,2,3\n",
      "Cited Documents: 0,1,2,3\n",
      "Answer: Here are some of the stories in the news today:\n",
      "- Assistant Secretary Stewart is travelling to Singapore and Qatar from May 29 to June 5.\n",
      "- The U.S. presidential primary season continues, with five states and the District of Columbia holding their elections today.\n",
      "- India's election results are coming in, with Congress' JP Aggarwal leading in Chandni Chowk.\n",
      "Grounded answer: Here are some of the stories in the news today:\n",
      "- <co: 0>Assistant Secretary Stewart is travelling to Singapore and Qatar from May 29 to June 5</co: 0>.\n",
      "- <co: 1,2>The U.S. presidential primary season continues, with five states and the District of Columbia holding their elections today</co: 1,2>.\n",
      "- <co: 3>India's election results are coming in, with Congress' JP Aggarwal leading in Chandni Chowk</co: 3>.\u001b[0m\n",
      "\n",
      "\u001b[1m> Finished chain.\u001b[0m\n",
      "{'input': 'Whats in the news today?', 'output': \"Here are some of the stories in the news today:\\n- Assistant Secretary Stewart is travelling to Singapore and Qatar from May 29 to June 5.\\n- The U.S. presidential primary season continues, with five states and the District of Columbia holding their elections today.\\n- India's election results are coming in, with Congress' JP Aggarwal leading in Chandni Chowk.\", 'citations': [CohereCitation(start=50, end=136, text='Assistant Secretary Stewart is travelling to Singapore and Qatar from May 29 to June 5', documents=[{'url': 'https://www.state.gov/public-schedule-june-4-2024/', 'content': 'Assistant Secretary Stewart is on travel to Singapore and Qatar from May 29-June 5, 2024. BRIEFING SCHEDULE. 1:15 p.m. Department Press Briefing with Spokesperson Matthew Miller. (OPEN PRESS COVERAGE) The Department Press Briefing will be streamed live on the Department homepage and YouTube Channel. Office of the Spokesperson The Secretary of ...', 'id': 'doc_0'}], document_ids={'doc_0'}), CohereCitation(start=140, end=263, text='The U.S. presidential primary season continues, with five states and the District of Columbia holding their elections today', documents=[{'url': 'https://www.usatoday.com/story/news/politics/elections/2024/05/30/2024-primary-election-preview/73890673007/', 'content': '1:24. The U.S. presidential primary season continues, with five states and the District of Columbia holding their elections on June 4. Voters in D.C., Iowa, Montana, New Jersey, New Mexico and ...', 'id': 'doc_1'}, {'url': 'https://www.desmoinesregister.com/story/news/politics/elections/2024/05/06/everything-to-know-about-the-june-4-2024-primary-election-in-iowa/73532289007/', 'content': \"Here's what you should know: Iowans will head to the polls June 4 to vote in primary elections for Congress, state legislative seats and countywide positions. But early voting officially kicks off ...\", 'id': 'doc_2'}], document_ids={'doc_1', 'doc_2'}), CohereCitation(start=267, end=358, text=\"India's election results are coming in, with Congress' JP Aggarwal leading in Chandni Chowk\", documents=[{'url': 'https://www.hindustantimes.com/india-news/election-results-2024-live-updates-india-general-elections-results-today-latest-news-04-june-2024-101717452970179.html', 'content': \"4:06 AM IST, June 4 What do the exit polls indicate? ... Election Results 2024 LIVE News: In Chandni Chowk, Congress' JP Aggarwal is leading by 3,211 votes against BJP's Praveen Khandelwal.\", 'id': 'doc_3'}], document_ids={'doc_3'})]}\n",
      "\n",
      "\n",
      "\u001b[1m> Entering new AgentExecutor chain...\u001b[0m\n",
      "\u001b[32;1m\u001b[1;3m\n",
      "I will use the av_search_symbols tool to find out which company the stock symbol MSFT stands for.\n",
      "{'tool_name': 'av_search_symbols', 'parameters': {'tool_input': 'MSFT'}}\n",
      "\u001b[0m\u001b[36;1m\u001b[1;3m{'bestMatches': [{'1. symbol': 'MSFT', '2. name': 'Microsoft Corporation', '3. type': 'Equity', '4. region': 'United States', '5. marketOpen': '09:30', '6. marketClose': '16:00', '7. timezone': 'UTC-04', '8. currency': 'USD', '9. matchScore': '1.0000'}, {'1. symbol': 'MSFT.AMS', '2. name': '1X MSFT', '3. type': 'ETF', '4. region': 'Amsterdam', '5. marketOpen': '09:00', '6. marketClose': '17:40', '7. timezone': 'UTC+01', '8. currency': 'EUR', '9. matchScore': '0.7273'}, {'1. symbol': 'MSFT34.SAO', '2. name': 'Microsoft Corporation', '3. type': 'Equity', '4. region': 'Brazil/Sao Paolo', '5. marketOpen': '10:00', '6. marketClose': '17:30', '7. timezone': 'UTC-03', '8. currency': 'BRL', '9. matchScore': '0.6154'}]}\u001b[0m\u001b[32;1m\u001b[1;3mRelevant Documents: 0\n",
      "Cited Documents: 0\n",
      "Answer: The stock symbol MSFT stands for Microsoft Corporation.\n",
      "Grounded answer: The stock symbol MSFT stands for <co: 0>Microsoft Corporation</co: 0>.\u001b[0m\n",
      "\n",
      "\u001b[1m> Finished chain.\u001b[0m\n",
      "{'input': 'Tell me for which company stands the symbol MSFT', 'output': 'The stock symbol MSFT stands for Microsoft Corporation.', 'citations': [CohereCitation(start=33, end=54, text='Microsoft Corporation', documents=[{'bestMatches': [{'1. symbol': 'MSFT', '2. name': 'Microsoft Corporation', '3. type': 'Equity', '4. region': 'United States', '5. marketOpen': '09:30', '6. marketClose': '16:00', '7. timezone': 'UTC-04', '8. currency': 'USD', '9. matchScore': '1.0000'}, {'1. symbol': 'MSFT.AMS', '2. name': '1X MSFT', '3. type': 'ETF', '4. region': 'Amsterdam', '5. marketOpen': '09:00', '6. marketClose': '17:40', '7. timezone': 'UTC+01', '8. currency': 'EUR', '9. matchScore': '0.7273'}, {'1. symbol': 'MSFT34.SAO', '2. name': 'Microsoft Corporation', '3. type': 'Equity', '4. region': 'Brazil/Sao Paolo', '5. marketOpen': '10:00', '6. marketClose': '17:30', '7. timezone': 'UTC-03', '8. currency': 'BRL', '9. matchScore': '0.6154'}], 'id': 'doc_0'}], document_ids={'doc_0'})]}\n",
      "\n",
      "\n",
      "\u001b[1m> Entering new AgentExecutor chain...\u001b[0m\n",
      "\u001b[32;1m\u001b[1;3m\n",
      "I will use the av_search_symbols tool to find the stock market symbol for Cameco Corp.\n",
      "{'tool_name': 'av_search_symbols', 'parameters': {'tool_input': 'Cameco Corp'}}\n",
      "\u001b[0m\u001b[36;1m\u001b[1;3m{'bestMatches': [{'1. symbol': 'CCJ', '2. name': 'Cameco Corp', '3. type': 'Equity', '4. region': 'United States', '5. marketOpen': '09:30', '6. marketClose': '16:00', '7. timezone': 'UTC-04', '8. currency': 'USD', '9. matchScore': '1.0000'}, {'1. symbol': 'CCO.FRK', '2. name': 'Cameco Corp', '3. type': 'Equity', '4. region': 'Frankfurt', '5. marketOpen': '08:00', '6. marketClose': '20:00', '7. timezone': 'UTC+02', '8. currency': 'EUR', '9. matchScore': '1.0000'}, {'1. symbol': 'CCO.TRT', '2. name': 'Cameco Corp', '3. type': 'Equity', '4. region': 'Toronto', '5. marketOpen': '09:30', '6. marketClose': '16:00', '7. timezone': 'UTC-05', '8. currency': 'CAD', '9. matchScore': '1.0000'}, {'1. symbol': '0R35.LON', '2. name': 'Cameco Corp.', '3. type': 'Equity', '4. region': 'United Kingdom', '5. marketOpen': '08:00', '6. marketClose': '16:30', '7. timezone': 'UTC+01', '8. currency': 'CAD', '9. matchScore': '0.9565'}, {'1. symbol': 'CJ6.FRK', '2. name': 'Cameco Corporation', '3. type': 'Equity', '4. region': 'Frankfurt', '5. marketOpen': '08:00', '6. marketClose': '20:00', '7. timezone': 'UTC+02', '8. currency': 'EUR', '9. matchScore': '0.7586'}]}\u001b[0m\u001b[32;1m\u001b[1;3mRelevant Documents: 0\n",
      "Cited Documents: 0\n",
      "Answer: The symbol for Cameco Corp is CCJ.\n",
      "Grounded answer: The symbol for Cameco Corp is <co: 0>CCJ</co: 0>.\u001b[0m\n",
      "\n",
      "\u001b[1m> Finished chain.\u001b[0m\n",
      "{'input': 'What is the symbol for Cameco Corp?', 'output': 'The symbol for Cameco Corp is CCJ.', 'citations': [CohereCitation(start=30, end=33, text='CCJ', documents=[{'bestMatches': [{'1. symbol': 'CCJ', '2. name': 'Cameco Corp', '3. type': 'Equity', '4. region': 'United States', '5. marketOpen': '09:30', '6. marketClose': '16:00', '7. timezone': 'UTC-04', '8. currency': 'USD', '9. matchScore': '1.0000'}, {'1. symbol': 'CCO.FRK', '2. name': 'Cameco Corp', '3. type': 'Equity', '4. region': 'Frankfurt', '5. marketOpen': '08:00', '6. marketClose': '20:00', '7. timezone': 'UTC+02', '8. currency': 'EUR', '9. matchScore': '1.0000'}, {'1. symbol': 'CCO.TRT', '2. name': 'Cameco Corp', '3. type': 'Equity', '4. region': 'Toronto', '5. marketOpen': '09:30', '6. marketClose': '16:00', '7. timezone': 'UTC-05', '8. currency': 'CAD', '9. matchScore': '1.0000'}, {'1. symbol': '0R35.LON', '2. name': 'Cameco Corp.', '3. type': 'Equity', '4. region': 'United Kingdom', '5. marketOpen': '08:00', '6. marketClose': '16:30', '7. timezone': 'UTC+01', '8. currency': 'CAD', '9. matchScore': '0.9565'}, {'1. symbol': 'CJ6.FRK', '2. name': 'Cameco Corporation', '3. type': 'Equity', '4. region': 'Frankfurt', '5. marketOpen': '08:00', '6. marketClose': '20:00', '7. timezone': 'UTC+02', '8. currency': 'EUR', '9. matchScore': '0.7586'}], 'id': 'doc_0'}], document_ids={'doc_0'})]}\n"
     ]
    }
   ],
   "source": [
    "prompt = ChatPromptTemplate.from_template(\n",
    "    \"Use the right tool to answer the following question. If wikipedia_tool delivers no result use internet_search: {input}\"\n",
    ")\n",
    "agent = create_cohere_react_agent(tools=tools, llm=llm, prompt=prompt)\n",
    "\n",
    "agent_executor = AgentExecutor(agent=agent, tools=tools, verbose=True)\n",
    "\n",
    "\n",
    "print(agent_executor.invoke({\"input\": \"Whats in the news today?\"}))\n",
    "print(\n",
    "    agent_executor.invoke({\"input\": \"Tell me for which company stands the symbol MSFT\"})\n",
    ")\n",
    "print(agent_executor.invoke({\"input\": \"What is the symbol for Cameco Corp?\"}))"
   ]
  },
  {
   "cell_type": "markdown",
   "metadata": {},
   "source": [
    "Build Qdrant Vectorstore"
   ]
  },
  {
   "cell_type": "code",
   "execution_count": null,
   "metadata": {},
   "outputs": [],
   "source": [
    "import os\n",
    "from langchain.text_splitter import RecursiveCharacterTextSplitter\n",
    "from langchain.document_loaders import WebBaseLoader\n",
    "from langchain.embeddings.cohere import CohereEmbeddings\n",
    "from langchain.vectorstores import Qdrant\n",
    "import streamlit as st\n",
    "import qdrant_client\n",
    "from langchain_community.vectorstores import Qdrant\n",
    "\n",
    "\n",
    "os.environ[\"COHERE_API_KEY\"] = st.secrets[\"COHERE_API_KEY\"]\n",
    "QDRANT_HOST = st.secrets[\"QDRANT_HOST\"]\n",
    "QDRANT_API_KEY = st.secrets[\"QDRANT_API_KEY\"]\n",
    "\n",
    "\n",
    "\n",
    "# web_links = [\"https://www.fielmann-group.com/ueber-uns/?\",\n",
    "#              \"https://de.wikipedia.org/wiki/Fielmann\",\n",
    "#              \"https://de.wikipedia.org/wiki/G%C3%BCnther_Fielmann\",\n",
    "#              \"https://de.wikipedia.org/wiki/Marc_Fielmann\"] \n",
    "\n",
    "web_links = [\"https://python.langchain.com/v0.2/docs/introduction\",\n",
    "             \"https://python.langchain.com/v0.2/docs/concepts\",\n",
    "             \"https://python.langchain.com/v0.2/docs/integrations/tools\",\n",
    "             \"https://python.langchain.com/v0.2/docs/integrations/vectorstores\",\n",
    "             \"https://python.langchain.com/v0.2/docs/integrations/document_loaders\",\n",
    "             \"https://python.langchain.com/v0.2/docs/integrations/retrievers\",\n",
    "             \"https://python.langchain.com/v0.2/docs/integrations/vectorstores/qdrant\",\n",
    "             \"https://python.langchain.com/v0.2/docs/integrations/providers/cohere/#react-agent\",\n",
    "             \"https://de.wikipedia.org/wiki/Herz#:~:text=Das%20Herz%20(lateinisch%20Cor%2C%20griechisch,die%20Versorgung%20aller%20Organe%20sichert.\"]\n",
    " \n",
    "\n",
    "loader = WebBaseLoader(web_links)\n",
    "document=loader.load()\n",
    "\n",
    "text_splitter = RecursiveCharacterTextSplitter(chunk_size=500, chunk_overlap=0)\n",
    "texts = text_splitter.split_documents(document)\n",
    "\n",
    "embeddings = CohereEmbeddings(model = \"embed-english-v2.0\")\n",
    "\n",
    "qdrant = Qdrant.from_documents(\n",
    "    document,\n",
    "    embeddings,\n",
    "    url=QDRANT_HOST,\n",
    "    api_key=QDRANT_API_KEY,\n",
    "    prefer_grpc=True,\n",
    "    collection_name=\"rag_documents\",\n",
    "    force_recreate=True,\n",
    ")\n"
   ]
  },
  {
   "cell_type": "markdown",
   "metadata": {},
   "source": [
    "Load Qdrant Vectostore"
   ]
  },
  {
   "cell_type": "code",
   "execution_count": null,
   "metadata": {},
   "outputs": [],
   "source": [
    "import qdrant_client\n",
    "from langchain.vectorstores import Qdrant\n",
    "from langchain.embeddings.cohere import CohereEmbeddings\n",
    "client = qdrant_client.QdrantClient(\n",
    "    url=QDRANT_HOST,\n",
    "    api_key=QDRANT_API_KEY,\n",
    ")\n",
    "embeddings = CohereEmbeddings(model=\"embed-english-v2.0\")\n",
    "vector_store = Qdrant(\n",
    "    client = client,\n",
    "    collection_name = \"rag_documents\",\n",
    "    embeddings = embeddings\n",
    ")\n",
    "print(\"connection established !\")"
   ]
  },
  {
   "cell_type": "markdown",
   "metadata": {},
   "source": [
    "Use Qdrant Vectorstore as RAG Retriever for Cohere"
   ]
  },
  {
   "cell_type": "code",
   "execution_count": 29,
   "metadata": {},
   "outputs": [
    {
     "name": "stdout",
     "output_type": "stream",
     "text": [
      "vector store loaded !\n"
     ]
    },
    {
     "data": {
      "text/html": [
       "<p>The tools in LangChain are: Alpha Vantage, Apify, Arxiv, AskNews, AWS Lambda, Azure Container Apps dynamic sessions, Shell (bash), Bearly Code Interpreter, Bing Search, Brave Search, ChatGPT Plugins, Connery Action Tool, Dall-E Image Generator, DataForSEO, Dataherald, DuckDuckGo Search, E2B Data Analysis, Eden AI, Eleven Labs Text2Speech, Exa Search, File System, Golden Query, Google Cloud Text-to-Speech, Google Drive, Google Finance, Google Imagen, Google Jobs, Google Lens, Google Places, Google Scholar, Google Search, Google Serper, Google Trends, Gradio, GraphQL, HuggingFace Hub Tools, Human as a tool, IFTTT WebHooks, Infobip, Ionic Shopping Tool, Lemon Agent, Memorize, Mojeek Search, Nuclia Understanding, NVIDIA Riva: ASR and TTS, OpenWeatherMap, Oracle AI Vector Search: Generate Summary, Passio NutritionAI, Polygon Stock Market API Tools, PubMed, Python REPL, Reddit Search, Requests, SceneXplain, Search Tools, SearchApi, SearxNG Search, Semantic Scholar API Tool, SerpAPI, SQL Database, StackExchange, Tavily Search, Twilio, Upstage, Wikidata, Wikipedia, Wolfram Alpha, Yahoo Finance News, You.com Search, YouTube, and Zapier Natural Language Actions.</p>"
      ],
      "text/plain": [
       "<IPython.core.display.HTML object>"
      ]
     },
     "metadata": {},
     "output_type": "display_data"
    }
   ],
   "source": [
    "from langchain.prompts import PromptTemplate\n",
    "from langchain.chains import ConversationalRetrievalChain\n",
    "from langchain.chains.conversation.memory import ConversationSummaryMemory\n",
    "from IPython.display import HTML\n",
    "import markdown\n",
    "\n",
    " #create custom prompt for your use case\n",
    "prompt_template = \"\"\"\n",
    "You are a bot to answer questions from a document.\n",
    "    \n",
    "You will be given a context of the conversation made so far followed by a question, \n",
    "give the answer to the question using the context. \n",
    "The answer should be short, straight and to the point. If you don't know the answer, reply that the answer is not available.\n",
    "\n",
    "Context: {context}\n",
    "\n",
    "Question: {question}\n",
    "Answer:\"\"\"\n",
    "\n",
    "PROMPT = PromptTemplate(\n",
    "    template=prompt_template, input_variables=[\"context\", \"question\"]\n",
    ")\n",
    "\n",
    "chain_type_kwargs = { \"prompt\" : PROMPT }\n",
    "#build your LLM\n",
    "llm = ChatCohere()\n",
    "#build your chain for RAG+C\n",
    "template = (\n",
    "        \"\"\"Combine the chat history and follow up question into \n",
    "        a standalone question. \n",
    "        If chat hsitory is empty, use the follow up question as it is.\n",
    "        Chat History: {chat_history}\n",
    "        Follow up question: {question}\"\"\"\n",
    "    )\n",
    "# TRY TO ADD THE INPUT VARIABLES\n",
    "prompt = PromptTemplate.from_template(template)\n",
    "# question_generator_chain = LLMChain(llm=llm, prompt=prompt)\n",
    "print(\"vector store loaded !\")\n",
    "chain = ConversationalRetrievalChain.from_llm(     \n",
    "    llm = llm,\n",
    "    chain_type = \"stuff\",\n",
    "    memory = ConversationSummaryMemory(llm = llm, memory_key='chat_history', input_key='question', output_key= 'answer', return_messages=True),\n",
    "    retriever = vector_store.as_retriever(search_type=\"mmr\"),\n",
    "    condense_question_prompt = prompt,\n",
    "    return_source_documents=False,\n",
    "    combine_docs_chain_kwargs=chain_type_kwargs,\n",
    ")\n",
    "customer_prompt = \"What are tools in LangChain?\"\n",
    "\n",
    "\n",
    "llm_response = chain.invoke(\n",
    "                {\n",
    "                    \"context\": chain.memory.buffer,\n",
    "                    \"question\": customer_prompt,\n",
    "                },\n",
    "                return_only_outputs=True,\n",
    "            )\n",
    "\n",
    "display(HTML(markdown.markdown(llm_response['answer'])))\n"
   ]
  }
 ],
 "metadata": {
  "kernelspec": {
   "display_name": "cohere",
   "language": "python",
   "name": "python3"
  },
  "language_info": {
   "codemirror_mode": {
    "name": "ipython",
    "version": 3
   },
   "file_extension": ".py",
   "mimetype": "text/x-python",
   "name": "python",
   "nbconvert_exporter": "python",
   "pygments_lexer": "ipython3",
   "version": "3.12.3"
  }
 },
 "nbformat": 4,
 "nbformat_minor": 2
}
