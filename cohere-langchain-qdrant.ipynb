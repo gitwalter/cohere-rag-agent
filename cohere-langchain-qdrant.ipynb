{
 "cells": [
  {
   "cell_type": "markdown",
   "metadata": {},
   "source": [
    "# LangChain Cohere Agent using Tools"
   ]
  },
  {
   "cell_type": "markdown",
   "metadata": {},
   "source": [
    "Install Libraries"
   ]
  },
  {
   "cell_type": "code",
   "execution_count": 6,
   "metadata": {},
   "outputs": [],
   "source": [
    "# ! pip install streamlit\n",
    "# ! pip install qdrant-client\n",
    "# ! pip install langchain\n",
    "# ! pip install langchain-community\n",
    "# ! pip install langchain-qdrant\n",
    "# ! pip install langchain-cohere\n",
    "# ! pip install tiktoken\n",
    "# ! pip install cohere\n",
    "# ! pip install bs4"
   ]
  },
  {
   "cell_type": "markdown",
   "metadata": {},
   "source": [
    "Imports for Tool Use"
   ]
  },
  {
   "cell_type": "code",
   "execution_count": 10,
   "metadata": {},
   "outputs": [],
   "source": [
    "from IPython.display import HTML\n",
    "import markdown\n",
    "import warnings\n",
    "import streamlit as st\n",
    "import os\n",
    "from langchain_cohere.llms import Cohere\n",
    "from langchain_core.messages import HumanMessage\n",
    "from langchain_core.prompts import ChatPromptTemplate\n",
    "from langchain_cohere import ChatCohere, create_cohere_react_agent\n",
    "from langchain.agents import AgentExecutor\n",
    "from cohere_tools import get_internet_search_tool, get_wikipedia_tool, get_openweathermap_tool\n",
    "from alpha_vantage_tools import (\n",
    "    # get_search_symbol_tool,\n",
    "    get_exchange_rate_tool,\n",
    "    # get_time_series_daily_tool,\n",
    "    # get_time_series_weekly_tool,\n",
    "    # get_market_news_sentimen_tool,\n",
    "    # get_top_gainers_losers_tool,\n",
    ")"
   ]
  },
  {
   "cell_type": "markdown",
   "metadata": {},
   "source": [
    "Ignore Warnings"
   ]
  },
  {
   "cell_type": "code",
   "execution_count": 11,
   "metadata": {},
   "outputs": [],
   "source": [
    "\n",
    "warnings.filterwarnings(\"ignore\")"
   ]
  },
  {
   "cell_type": "markdown",
   "metadata": {},
   "source": [
    "Import API-Keys"
   ]
  },
  {
   "cell_type": "code",
   "execution_count": 12,
   "metadata": {},
   "outputs": [],
   "source": [
    "ALPHAVANTAGE_API_KEY = st.secrets[\"ALPHAVANTAGE_API_KEY\"]\n",
    "os.environ[\"ALPHAVANTAGE_API_KEY\"] = st.secrets[\"ALPHAVANTAGE_API_KEY\"]\n",
    "\n",
    "COHERE_API_KEY = st.secrets[\"COHERE_API_KEY\"]\n",
    "os.environ[\"COHERE_API_KEY\"] = st.secrets[\"COHERE_API_KEY\"]\n",
    "\n",
    "QDRANT_HOST = st.secrets[\"QDRANT_HOST\"]\n",
    "QDRANT_API_KEY = st.secrets[\"QDRANT_API_KEY\"]\n",
    "\n",
    "OPEN_WEATHER_API_KEY = st.secrets[\"OPEN_WEATHER_API_KEY\"]\n",
    "os.environ[\"OPENWEATHERMAP_API_KEY\"] = OPEN_WEATHER_API_KEY\n",
    "\n",
    "POLYGON_API_KEY = st.secrets[\"POLYGON_API_KEY\"]\n",
    "os.environ[\"POLYGON_API_KEY\"] = st.secrets[\"POLYGON_API_KEY\"]\n",
    "\n",
    "TAVILY_API_KEY = st.secrets[\"TAVILY_API_KEY\"]\n",
    "os.environ[\"TAVILY_API_KEY\"] = st.secrets[\"TAVILY_API_KEY\"]"
   ]
  },
  {
   "cell_type": "markdown",
   "metadata": {},
   "source": [
    "Invoke ChatCohere"
   ]
  },
  {
   "cell_type": "code",
   "execution_count": 9,
   "metadata": {},
   "outputs": [
    {
     "name": "stdout",
     "output_type": "stream",
     "text": [
      "content=\"Who's there?\" additional_kwargs={'documents': None, 'citations': None, 'search_results': None, 'search_queries': None, 'is_search_required': None, 'generation_id': '8c7b69ad-1a4f-40aa-b365-910b679dc73f', 'token_count': {'input_tokens': 68, 'output_tokens': 4}} response_metadata={'documents': None, 'citations': None, 'search_results': None, 'search_queries': None, 'is_search_required': None, 'generation_id': '8c7b69ad-1a4f-40aa-b365-910b679dc73f', 'token_count': {'input_tokens': 68, 'output_tokens': 4}} id='run-3c2fb0b9-aba8-4378-b81a-03a069da25b2-0'\n"
     ]
    }
   ],
   "source": [
    "chat = ChatCohere()\n",
    "messages = [HumanMessage(content=\"knock knock\")]\n",
    "print(chat.invoke(messages))"
   ]
  },
  {
   "cell_type": "markdown",
   "metadata": {},
   "source": [
    "Invoke ChatCohere using ChatPromptTemplate"
   ]
  },
  {
   "cell_type": "code",
   "execution_count": 10,
   "metadata": {},
   "outputs": [
    {
     "data": {
      "text/plain": [
       "AIMessage(content='Why don’t bears wear socks? \\n\\nThey have bear feet!', additional_kwargs={'documents': None, 'citations': None, 'search_results': None, 'search_queries': None, 'is_search_required': None, 'generation_id': '96aec7ab-7bb7-47c9-a38e-10d1ba5d99cf', 'token_count': {'input_tokens': 72, 'output_tokens': 15}}, response_metadata={'documents': None, 'citations': None, 'search_results': None, 'search_queries': None, 'is_search_required': None, 'generation_id': '96aec7ab-7bb7-47c9-a38e-10d1ba5d99cf', 'token_count': {'input_tokens': 72, 'output_tokens': 15}}, id='run-db8eb780-c8ee-4220-8bd5-75c9b3c37435-0')"
      ]
     },
     "execution_count": 10,
     "metadata": {},
     "output_type": "execute_result"
    }
   ],
   "source": [
    "prompt = ChatPromptTemplate.from_template(\"Tell me a joke about {topic}\")\n",
    "chain = prompt | chat\n",
    "chain.invoke({\"topic\": \"bears\"})"
   ]
  },
  {
   "cell_type": "markdown",
   "metadata": {},
   "source": [
    "Invoke Cohere"
   ]
  },
  {
   "cell_type": "code",
   "execution_count": 11,
   "metadata": {},
   "outputs": [
    {
     "name": "stdout",
     "output_type": "stream",
     "text": [
      " The theory of Kahnemann and Tversky is a collection of cognitive biases that affect how people make decisions and form beliefs. The theory consists of a list of heuristics (mental shortcuts) that are used by humans to make decisions, and the cognitive biases that result from these heuristics.\n",
      "\n",
      "One of the most well-known heuristics is the availability heuristic, which is the tendency for people to make judgments based on how easy it is to think of examples for or against a particular issue. It is also known as the availability bias, which is a cognitive bias that causes people to overestimate the likelihood of events that are more easy to recall than events that are less easy to recall. For instance, individuals are more likely to believe that siblings resemble each other and that emigration rates are higher in the destination country when this country is next door, simply because these statements seem more available or easier to bring to mind. \n",
      "\n",
      "Let me know if you'd like to know more about Kahnemann and Tversky's theory or any of the specific heuristics and cognitive biases it entails. \n"
     ]
    }
   ],
   "source": [
    "llm = Cohere()\n",
    "print(llm.invoke(\"Summarize the theory of Kahnemann and Tversky\"))"
   ]
  },
  {
   "cell_type": "markdown",
   "metadata": {},
   "source": [
    "Tavily Internet Search Tool"
   ]
  },
  {
   "cell_type": "code",
   "execution_count": 13,
   "metadata": {},
   "outputs": [
    {
     "name": "stdout",
     "output_type": "stream",
     "text": [
      "\n",
      "\n",
      "\u001b[1m> Entering new AgentExecutor chain...\u001b[0m\n",
      "\u001b[32;1m\u001b[1;3m\n",
      "I will search for 'Palantir IPO NYSE date' and write an answer based on the information I find.\n",
      "{'tool_name': 'internet_search', 'parameters': {'query': 'Palantir IPO NYSE date'}}\n",
      "\u001b[0m\u001b[36;1m\u001b[1;3m[{'url': 'https://www.cnn.com/2020/09/30/tech/palantir-ipo/index.html', 'content': 'The company began trading on the New York Stock Exchange under the ticker symbol \"PLTR\" just after 1:30pm ET at $10 a share, up from the reference price listed by the NYSE of $7.25 a share ...'}, {'url': 'https://investorplace.com/palantir-stock-pltr-ipo-ultimate-guide/', 'content': 'Palantir stock begins trading on the NYSE on Tuesday, Sept. 30 under the ticker \"PLTR\". The company will pursue a direct listing, rather than a traditional initial public offering (IPO).'}, {'url': 'https://www.investopedia.com/palantir-ipo-what-you-need-to-know-5080082', 'content': \"(If you want to hear us talk about it, check out this week's Express podcast)\\n475.8 million Class A shares can be sold today (the remaining locked up, a rarity for direct listings) and the reference price is $7.25 a share, which translates to a valuation of nearly $16 billion. Financials\\nControversy\\nPalantir is seen as controversial because of the nature of some of the work its clients conduct, its inability to share much information on the projects and its unconventional corporate governance structure. What Does It Do\\nNamed after the sinister seeing stones in the Lord of the Rings series, Palantir helps its clients analyze data to solve complicated problems or optimize operations by building them platforms with search features and visualizations. Its tools are primarily adopted for surveillance and security, and its biggest customers are law enforcement agencies like the FBI, CIA, and ICE, police departments and the U.S. Army. The secretive company has raised $2.6 billion in the past and is part of the Big Data and data mining boom.\"}, {'url': 'https://www.cnbc.com/2020/09/30/palantir-goes-public-pltr-starts-trading-on-the-nyse.html', 'content': 'Palantir shares traded actively in the private market, selling for between $4.17 and $11.50 this year. Alex Karp, CEO of Palantir, speaking at the 2019 WEF in Davos, Switzerland on Jan. 23rd, 2019 ...'}]\u001b[0m\u001b[32;1m\u001b[1;3mRelevant Documents: 0,1,3\n",
      "Cited Documents: 0,1,3\n",
      "Answer: Palantir began trading on the New York Stock Exchange on Tuesday, 30 September 2020.\n",
      "Grounded answer: Palantir began trading on the New York Stock Exchange on <co: 1>Tuesday</co: 1>, <co: 0,1,3>30 September 2020</co: 0,1,3>.\u001b[0m\n",
      "\n",
      "\u001b[1m> Finished chain.\u001b[0m\n"
     ]
    },
    {
     "data": {
      "text/plain": [
       "{'input': 'In which year had Palantir its IPO at the NYSE? Return the exact date and year of the IPO.',\n",
       " 'output': 'Palantir began trading on the New York Stock Exchange on Tuesday, 30 September 2020.',\n",
       " 'citations': [CohereCitation(start=57, end=64, text='Tuesday', documents=[{'url': 'https://investorplace.com/palantir-stock-pltr-ipo-ultimate-guide/', 'content': 'Palantir stock begins trading on the NYSE on Tuesday, Sept. 30 under the ticker \"PLTR\". The company will pursue a direct listing, rather than a traditional initial public offering (IPO).', 'id': 'doc_1'}], document_ids={'doc_1'}),\n",
       "  CohereCitation(start=66, end=83, text='30 September 2020', documents=[{'url': 'https://www.cnn.com/2020/09/30/tech/palantir-ipo/index.html', 'content': 'The company began trading on the New York Stock Exchange under the ticker symbol \"PLTR\" just after 1:30pm ET at $10 a share, up from the reference price listed by the NYSE of $7.25 a share ...', 'id': 'doc_0'}, {'url': 'https://investorplace.com/palantir-stock-pltr-ipo-ultimate-guide/', 'content': 'Palantir stock begins trading on the NYSE on Tuesday, Sept. 30 under the ticker \"PLTR\". The company will pursue a direct listing, rather than a traditional initial public offering (IPO).', 'id': 'doc_1'}, {'url': 'https://www.cnbc.com/2020/09/30/palantir-goes-public-pltr-starts-trading-on-the-nyse.html', 'content': 'Palantir shares traded actively in the private market, selling for between $4.17 and $11.50 this year. Alex Karp, CEO of Palantir, speaking at the 2019 WEF in Davos, Switzerland on Jan. 23rd, 2019 ...', 'id': 'doc_3'}], document_ids={'doc_1', 'doc_0', 'doc_3'})]}"
      ]
     },
     "execution_count": 13,
     "metadata": {},
     "output_type": "execute_result"
    }
   ],
   "source": [
    "llm = ChatCohere()\n",
    "internet_search = get_internet_search_tool()\n",
    "prompt = ChatPromptTemplate.from_template(\"{input}\")\n",
    "agent = create_cohere_react_agent(llm, [internet_search], prompt)\n",
    "agent_executor = AgentExecutor(agent=agent, tools=[internet_search], verbose=True)\n",
    "agent_executor.invoke(\n",
    "    {\n",
    "        \"input\": \"In which year had Palantir its IPO at the NYSE? Return the exact date and year of the IPO.\",\n",
    "    }\n",
    ")"
   ]
  },
  {
   "cell_type": "markdown",
   "metadata": {},
   "source": [
    "Wikipedia Tool"
   ]
  },
  {
   "cell_type": "code",
   "execution_count": 24,
   "metadata": {},
   "outputs": [
    {
     "name": "stdout",
     "output_type": "stream",
     "text": [
      "\n",
      "\n",
      "\u001b[1m> Entering new AgentExecutor chain...\u001b[0m\n",
      "\u001b[32;1m\u001b[1;3m\n",
      "I will search for 'Kahnemann and Tversky theory' and write an answer based on the results.\n",
      "{'tool_name': 'wikipedia-tool', 'parameters': {'query': 'Kahnemann and Tversky theory'}}\n",
      "\u001b[0m\u001b[36;1m\u001b[1;3mPage: Daniel Kahneman\n",
      "Summary: Daniel Kahneman (; Hebrew: דניאל כהנמן; March 5, 1934 – March 27, 2024) was an Israeli-American cognitive scientist best-known for his work on the psychology of judgment and decision-making. He is also known for his work in behavioral economics, for which he was awarded the 2002 Nobel Memorial Prize in Economic Sciences together with Vernon L. Smith. Kahneman's published empirical findings challenge the assumption of human rationality prevailing in modern economic theory. Kahneman became known as the \"grandfather of behavioral economics.\"\n",
      "With Amos Tversky and others, Kahneman established a cognitive basis for common human errors that arise from heuristics and biases, and developed prospect theory. In 2011, Kahneman was named by Foreign Policy magazine in its list of top global thinkers. In the same year, his book Thinking, Fast and Slow, which summarizes much of his research, was published and became a best seller. In 2015, The Economist listed him as the seventh most influential economist in the world.\n",
      "Kahneman was professor emeritus of psychology and public affairs at Princeton University's Princeton School of Public and International Affairs. Kahneman was a founding partner of TGG Group, a business and philanthropy consulting company. He was married to cognitive psychologist and Royal Society Fellow Anne Treisman, who died in 2018.\n",
      "\n",
      "\u001b[0m\n",
      "\u001b[32;1m\u001b[1;3m\u001b[0m\n",
      "\n",
      "\u001b[1m> Finished chain.\u001b[0m\n"
     ]
    },
    {
     "data": {
      "text/html": [
       "<p>Page: Daniel Kahneman\n",
       "Summary: Daniel Kahneman (; Hebrew: דניאל כהנמן; March 5, 1934 – March 27, 2024) was an Israeli-American cognitive scientist best-known for his work on the psychology of judgment and decision-making. He is also known for his work in behavioral economics, for which he was awarded the 2002 Nobel Memorial Prize in Economic Sciences together with Vernon L. Smith. Kahneman's published empirical findings challenge the assumption of human rationality prevailing in modern economic theory. Kahneman became known as the \"grandfather of behavioral economics.\"\n",
       "With Amos Tversky and others, Kahneman established a cognitive basis for common human errors that arise from heuristics and biases, and developed prospect theory. In 2011, Kahneman was named by Foreign Policy magazine in its list of top global thinkers. In the same year, his book Thinking, Fast and Slow, which summarizes much of his research, was published and became a best seller. In 2015, The Economist listed him as the seventh most influential economist in the world.\n",
       "Kahneman was professor emeritus of psychology and public affairs at Princeton University's Princeton School of Public and International Affairs. Kahneman was a founding partner of TGG Group, a business and philanthropy consulting company. He was married to cognitive psychologist and Royal Society Fellow Anne Treisman, who died in 2018.</p>"
      ],
      "text/plain": [
       "<IPython.core.display.HTML object>"
      ]
     },
     "metadata": {},
     "output_type": "display_data"
    }
   ],
   "source": [
    "llm = ChatCohere()\n",
    "prompt = ChatPromptTemplate.from_template(\"{input}\")\n",
    "wikipedia_tool = get_wikipedia_tool()\n",
    "agent = create_cohere_react_agent(llm, [wikipedia_tool], prompt)\n",
    "agent_executor = AgentExecutor(agent=agent, tools=[wikipedia_tool], verbose=True)\n",
    "response = agent_executor.invoke(\n",
    "    {\n",
    "        \"input\": \"Explain the theory of Kahnemann and Tversky\",\n",
    "    }\n",
    ")\n",
    "\n",
    "display(HTML(markdown.markdown(response[\"output\"])))"
   ]
  },
  {
   "cell_type": "markdown",
   "metadata": {},
   "source": [
    "Run tool without agent"
   ]
  },
  {
   "cell_type": "code",
   "execution_count": 73,
   "metadata": {},
   "outputs": [
    {
     "data": {
      "text/plain": [
       "\"Page: David Beckham\\nSummary: David Robert Joseph Beckham  ( BEK-əm; born 2 May 1975) is an English former professional footballer, the president and co-owner of Inter Miami CF and co-owner of Salford City. Primarily a right winger and known for his range of passing, crossing ability and free-kick taking, Beckham has been hailed as one of the greatest and most recognisable midfielders of his generation, as well as one of the best free-kick takers of all time. He won 19 major trophies in his career, and is the first English player to win league titles in four different countries: England, Spain, the United States and France.\\nBeckham's professional club career began with Manchester United, where he made his first-team debut in 1992 at age 17. With United, he won the Premier League title six times, the FA Cup twice, the FA Charity Shield twice, the Intercontinental Cup and the UEFA Champions League in 1999. He then played four seasons with Real Madrid, winning the La Liga championship in his final season with the club. In July 2007, Beckham signed a five-year contract with Major League Soccer club LA Galaxy. While a Galaxy player, he spent two loan spells in Italy with AC Milan in 2009 and 2010. He became the first British footballer to play 100 UEFA Champions League games. He retired in May 2013 after a 20-year career.\\nIn international football, Beckham made his England debut on 1 September 1996, at the age of 21. He was captain for six years, earning 58 caps during his tenure. He made 115 career appearances in total, appearing at three FIFA World Cups in 1998, 2002 and 2006 as well as two UEFA European Championships in 2000 and 2004. Beckham held the England appearance record for an outfield player until 2016.\\nA global ambassador of football, Beckham is considered to be a British cultural icon. He has been in a well publicised marriage to Victoria Beckham since 1999 and was consistently ranked among the highest earners in football, in 2013 being listed as the highest-paid player in the world having earned over $50 million in the previous twelve months. Beckham was runner-up in the Ballon d'Or in 1999, twice runner-up for FIFA World Player of the Year (1999 and 2001) and in 2004 was named by Pelé in the FIFA 100 list of the world's greatest living players. He was inducted into the English Football Hall of Fame in 2008, and the Premier League Hall of Fame in 2021. He has been a UNICEF ambassador since 2005, and in 2015 he launched 7: The David Beckham UNICEF Fund. In 2014, MLS announced that Beckham and a group of investors would own Inter Miami, which began playing in 2020.\\n\\n\""
      ]
     },
     "execution_count": 73,
     "metadata": {},
     "output_type": "execute_result"
    }
   ],
   "source": [
    "wikipedia_tool.run(\"David Beckham\")"
   ]
  },
  {
   "cell_type": "markdown",
   "metadata": {},
   "source": [
    "Openweathermap Tool"
   ]
  },
  {
   "cell_type": "code",
   "execution_count": 22,
   "metadata": {},
   "outputs": [
    {
     "name": "stdout",
     "output_type": "stream",
     "text": [
      "\n",
      "\n",
      "\u001b[1m> Entering new AgentExecutor chain...\u001b[0m\n",
      "\u001b[32;1m\u001b[1;3m\n",
      "I will search for the weather in Salvador da Bahia and then write an answer.\n",
      "{'tool_name': 'open_weather_map', 'parameters': {'location': 'Salvador da Bahia'}}\n",
      "\u001b[0m\u001b[36;1m\u001b[1;3mIn Salvador da Bahia, the current weather is as follows:\n",
      "Detailed status: broken clouds\n",
      "Wind speed: 6.48 m/s, direction: 163°\n",
      "Humidity: 78%\n",
      "Temperature: \n",
      "  - Current: 26.22°C\n",
      "  - High: 26.22°C\n",
      "  - Low: 26.22°C\n",
      "  - Feels like: 26.22°C\n",
      "Rain: {}\n",
      "Heat index: None\n",
      "Cloud cover: 82%\u001b[0m\u001b[32;1m\u001b[1;3mRelevant Documents: 0\n",
      "Cited Documents: 0\n",
      "Answer: In Salvador da Bahia, the weather is currently 26.22°C, with broken clouds, 78% humidity, and a wind speed of 6.48 m/s.\n",
      "Grounded answer: In Salvador da Bahia, the weather is currently <co: 0>26.22°C</co: 0>, with <co: 0>broken clouds</co: 0>, <co: 0>78% humidity</co: 0>, and a <co: 0>wind speed of 6.48 m/s</co: 0>.\u001b[0m\n",
      "\n",
      "\u001b[1m> Finished chain.\u001b[0m\n"
     ]
    }
   ],
   "source": [
    "llm = ChatCohere()\n",
    "prompt = ChatPromptTemplate.from_template(\"{input}\")\n",
    "tools = [get_openweathermap_tool(llm), get_wikipedia_tool()]\n",
    "agent = create_cohere_react_agent(tools=tools, llm=llm, prompt=prompt)\n",
    "agent_executor = AgentExecutor(agent=agent, tools=tools, verbose=True)\n",
    "response = agent_executor.invoke({\"input\": \"How is the weather in Salvador da Bahia?\"})"
   ]
  },
  {
   "cell_type": "markdown",
   "metadata": {},
   "source": [
    "Access Output"
   ]
  },
  {
   "cell_type": "code",
   "execution_count": 23,
   "metadata": {},
   "outputs": [
    {
     "data": {
      "text/html": [
       "<p>In Salvador da Bahia, the weather is currently 26.22°C, with broken clouds, 78% humidity, and a wind speed of 6.48 m/s.</p>"
      ],
      "text/plain": [
       "<IPython.core.display.HTML object>"
      ]
     },
     "metadata": {},
     "output_type": "display_data"
    }
   ],
   "source": [
    "display(HTML(markdown.markdown(response[\"output\"])))"
   ]
  },
  {
   "cell_type": "markdown",
   "metadata": {},
   "source": [
    "Multiple Tools"
   ]
  },
  {
   "cell_type": "markdown",
   "metadata": {},
   "source": [
    "Multiple Tool Use\n",
    "1. wiki-tool\n",
    "2. open_weather_map\n",
    "3. internet_search"
   ]
  },
  {
   "cell_type": "code",
   "execution_count": 5,
   "metadata": {},
   "outputs": [
    {
     "name": "stdout",
     "output_type": "stream",
     "text": [
      "\n",
      "\n",
      "\u001b[1m> Entering new AgentExecutor chain...\u001b[0m\n",
      "\u001b[32;1m\u001b[1;3m\n",
      "I will use Wikipedia to answer this question.\n",
      "{'tool_name': 'wikipedia-tool', 'parameters': {'query': 'Who was George Washington?'}}\n",
      "\u001b[0m\u001b[38;5;200m\u001b[1;3mPage: George Washington Carver\n",
      "Summary: George Washington Carver (c. 1864 – January 5, 1943) was an American agricultural scientist and inventor who promoted alternative crops to cotton and methods to prevent soil depletion. He was one of the most prominent black scientists of the early 20th century.\n",
      "While a professor at Tuskegee Institute, Carver developed techniques to improve types of soils depleted by repeated plantings of cotton. He wanted poor farmers to grow other crops, such as peanuts and sweet potatoes, as a source of their own food and to improve their quality of life. Under his leadership, the Experiment Station at Tuskegee published over forty practical bulletins for farmers, many written by him, which included recipes; many of the bulletins contained advice for poor farmers, including combating soil depletion with limited financial means, producing bigger crops, and preserving food.\n",
      "Apart from his work to improve the lives of farmers, Carver was also a leader in promoting environmentalism. He received numerous honors for his work, including the Spingarn Medal of the NAACP. In an era of high racial polarization, his fame reached beyond the black community. He was widely recognized and praised in the white community for his many achievements and talents. In 1941, Time magazine dubbed Carver a \"Black Leonardo\".\n",
      "Color film of Carver shot in 1937 at the Tuskegee Institute by African American surgeon Allen Alexander was added to the National Film Registry of the Library of Congress in 2019. The 12 minutes of footage includes Carver in his apartment, office and laboratory, as well as images of him tending flowers and displaying his paintings.\u001b[0m\n",
      "\u001b[32;1m\u001b[1;3m\u001b[0m\n",
      "\n",
      "\u001b[1m> Finished chain.\u001b[0m\n",
      "{'input': 'Who was George Washington?', 'output': 'Page: George Washington Carver\\nSummary: George Washington Carver (c. 1864 – January 5, 1943) was an American agricultural scientist and inventor who promoted alternative crops to cotton and methods to prevent soil depletion. He was one of the most prominent black scientists of the early 20th century.\\nWhile a professor at Tuskegee Institute, Carver developed techniques to improve types of soils depleted by repeated plantings of cotton. He wanted poor farmers to grow other crops, such as peanuts and sweet potatoes, as a source of their own food and to improve their quality of life. Under his leadership, the Experiment Station at Tuskegee published over forty practical bulletins for farmers, many written by him, which included recipes; many of the bulletins contained advice for poor farmers, including combating soil depletion with limited financial means, producing bigger crops, and preserving food.\\nApart from his work to improve the lives of farmers, Carver was also a leader in promoting environmentalism. He received numerous honors for his work, including the Spingarn Medal of the NAACP. In an era of high racial polarization, his fame reached beyond the black community. He was widely recognized and praised in the white community for his many achievements and talents. In 1941, Time magazine dubbed Carver a \"Black Leonardo\".\\nColor film of Carver shot in 1937 at the Tuskegee Institute by African American surgeon Allen Alexander was added to the National Film Registry of the Library of Congress in 2019. The 12 minutes of footage includes Carver in his apartment, office and laboratory, as well as images of him tending flowers and displaying his paintings.'}\n",
      "\n",
      "\n",
      "\u001b[1m> Entering new AgentExecutor chain...\u001b[0m\n",
      "\u001b[32;1m\u001b[1;3m\n",
      "I will use the location provided to search for the weather in Mortugaba, Bahia, Brazil.\n",
      "{'tool_name': 'open_weather_map', 'parameters': {'location': 'Mortugaba, Bahia, Brazil'}}\n",
      "\u001b[0m\u001b[36;1m\u001b[1;3mIn Mortugaba, Bahia, Brazil, the current weather is as follows:\n",
      "Detailed status: overcast clouds\n",
      "Wind speed: 1.74 m/s, direction: 143°\n",
      "Humidity: 96%\n",
      "Temperature: \n",
      "  - Current: 16.1°C\n",
      "  - High: 16.1°C\n",
      "  - Low: 16.1°C\n",
      "  - Feels like: 16.27°C\n",
      "Rain: {}\n",
      "Heat index: None\n",
      "Cloud cover: 97%\u001b[0m\u001b[32;1m\u001b[1;3mRelevant Documents: 0\n",
      "Cited Documents: 0\n",
      "Answer: In Mortugaba, Bahia, Brazil, the weather is currently overcast with a temperature of 16.1°C. The humidity is 96% and the wind speed is 1.74 m/s.\n",
      "Grounded answer: In Mortugaba, Bahia, Brazil, the weather is currently <co: 0>overcast</co: 0> with a <co: 0>temperature of 16.1°C</co: 0>. The <co: 0>humidity is 96</co: 0>% and the <co: 0>wind speed is 1.74 m/s</co: 0>.\u001b[0m\n",
      "\n",
      "\u001b[1m> Finished chain.\u001b[0m\n",
      "{'input': \"What's the weather like in Mortugaba, Bahia, Brazil?\", 'output': 'In Mortugaba, Bahia, Brazil, the weather is currently overcast with a temperature of 16.1°C. The humidity is 96% and the wind speed is 1.74 m/s.', 'citations': [CohereCitation(start=54, end=62, text='overcast', documents=[{'output': 'In Mortugaba, Bahia, Brazil, the current weather is as follows:\\nDetailed status: overcast clouds\\nWind speed: 1.74 m/s, direction: 143°\\nHumidity: 96%\\nTemperature: \\n  - Current: 16.1°C\\n  - High: 16.1°C\\n  - Low: 16.1°C\\n  - Feels like: 16.27°C\\nRain: {}\\nHeat index: None\\nCloud cover: 97%', 'id': 'doc_0'}], document_ids={'doc_0'}), CohereCitation(start=70, end=91, text='temperature of 16.1°C', documents=[{'output': 'In Mortugaba, Bahia, Brazil, the current weather is as follows:\\nDetailed status: overcast clouds\\nWind speed: 1.74 m/s, direction: 143°\\nHumidity: 96%\\nTemperature: \\n  - Current: 16.1°C\\n  - High: 16.1°C\\n  - Low: 16.1°C\\n  - Feels like: 16.27°C\\nRain: {}\\nHeat index: None\\nCloud cover: 97%', 'id': 'doc_0'}], document_ids={'doc_0'}), CohereCitation(start=97, end=111, text='humidity is 96', documents=[{'output': 'In Mortugaba, Bahia, Brazil, the current weather is as follows:\\nDetailed status: overcast clouds\\nWind speed: 1.74 m/s, direction: 143°\\nHumidity: 96%\\nTemperature: \\n  - Current: 16.1°C\\n  - High: 16.1°C\\n  - Low: 16.1°C\\n  - Feels like: 16.27°C\\nRain: {}\\nHeat index: None\\nCloud cover: 97%', 'id': 'doc_0'}], document_ids={'doc_0'}), CohereCitation(start=121, end=143, text='wind speed is 1.74 m/s', documents=[{'output': 'In Mortugaba, Bahia, Brazil, the current weather is as follows:\\nDetailed status: overcast clouds\\nWind speed: 1.74 m/s, direction: 143°\\nHumidity: 96%\\nTemperature: \\n  - Current: 16.1°C\\n  - High: 16.1°C\\n  - Low: 16.1°C\\n  - Feels like: 16.27°C\\nRain: {}\\nHeat index: None\\nCloud cover: 97%', 'id': 'doc_0'}], document_ids={'doc_0'})]}\n",
      "\n",
      "\n",
      "\u001b[1m> Entering new AgentExecutor chain...\u001b[0m\n",
      "\u001b[32;1m\u001b[1;3m\n",
      "I will search for 'news 4 June 2024' and write an answer based on the results.\n",
      "{'tool_name': 'internet_search', 'parameters': {'query': 'news 4 June 2024'}}\n",
      "\u001b[0m\u001b[33;1m\u001b[1;3m[{'url': 'https://www.usatoday.com/story/news/politics/elections/2024/05/30/2024-primary-election-preview/73890673007/', 'content': '1:24. The U.S. presidential primary season continues, with five states and the District of Columbia holding their elections on June 4. Voters in D.C., Iowa, Montana, New Jersey, New Mexico and ...'}, {'url': 'https://www.state.gov/public-schedule-june-4-2024/', 'content': 'Assistant Secretary Stewart is on travel to Singapore and Qatar from May 29-June 5, 2024. BRIEFING SCHEDULE. 1:15 p.m. Department Press Briefing with Spokesperson Matthew Miller. (OPEN PRESS COVERAGE) The Department Press Briefing will be streamed live on the Department homepage and YouTube Channel. Office of the Spokesperson The Secretary of ...'}, {'url': 'https://www.desmoinesregister.com/story/news/politics/elections/2024/05/06/everything-to-know-about-the-june-4-2024-primary-election-in-iowa/73532289007/', 'content': \"Here's what you should know: Iowans will head to the polls June 4 to vote in primary elections for Congress, state legislative seats and countywide positions. But early voting officially kicks off ...\"}, {'url': 'https://www.hindustantimes.com/india-news/election-results-2024-live-updates-india-general-elections-results-today-latest-news-04-june-2024-101717452970179.html', 'content': \"4:06 AM IST, June 4 What do the exit polls indicate? ... Election Results 2024 LIVE News: In Chandni Chowk, Congress' JP Aggarwal is leading by 3,211 votes against BJP's Praveen Khandelwal.\"}]\u001b[0m\u001b[32;1m\u001b[1;3mRelevant Documents: 0,1,2,3\n",
      "Cited Documents: 0,1,2,3\n",
      "Answer: Here is a selection of news stories from today:\n",
      "- The U.S. presidential primary season continues, with five states and the District of Columbia holding their elections.\n",
      "- Assistant Secretary Stewart is on travel to Singapore and Qatar.\n",
      "- In India, Congress' JP Aggarwal is leading by 3,211 votes against BJP's Praveen Khandelwal in Chandni Chowk.\n",
      "Grounded answer: Here is a selection of news stories from today:\n",
      "- The <co: 0>U.S. presidential primary season continues</co: 0>, with <co: 0>five states and the District of Columbia holding their elections</co: 0>.\n",
      "- <co: 1>Assistant Secretary Stewart is on travel to Singapore and Qatar</co: 1>.\n",
      "- In <co: 3>India</co: 3>, <co: 3>Congress' JP Aggarwal is leading by 3,211 votes against BJP's Praveen Khandelwal in Chandni Chowk</co: 3>.\u001b[0m\n",
      "\n",
      "\u001b[1m> Finished chain.\u001b[0m\n",
      "{'input': 'Whats in the news today?', 'output': \"Here is a selection of news stories from today:\\n- The U.S. presidential primary season continues, with five states and the District of Columbia holding their elections.\\n- Assistant Secretary Stewart is on travel to Singapore and Qatar.\\n- In India, Congress' JP Aggarwal is leading by 3,211 votes against BJP's Praveen Khandelwal in Chandni Chowk.\", 'citations': [CohereCitation(start=54, end=96, text='U.S. presidential primary season continues', documents=[{'url': 'https://www.usatoday.com/story/news/politics/elections/2024/05/30/2024-primary-election-preview/73890673007/', 'content': '1:24. The U.S. presidential primary season continues, with five states and the District of Columbia holding their elections on June 4. Voters in D.C., Iowa, Montana, New Jersey, New Mexico and ...', 'id': 'doc_0'}], document_ids={'doc_0'}), CohereCitation(start=103, end=167, text='five states and the District of Columbia holding their elections', documents=[{'url': 'https://www.usatoday.com/story/news/politics/elections/2024/05/30/2024-primary-election-preview/73890673007/', 'content': '1:24. The U.S. presidential primary season continues, with five states and the District of Columbia holding their elections on June 4. Voters in D.C., Iowa, Montana, New Jersey, New Mexico and ...', 'id': 'doc_0'}], document_ids={'doc_0'}), CohereCitation(start=171, end=234, text='Assistant Secretary Stewart is on travel to Singapore and Qatar', documents=[{'url': 'https://www.state.gov/public-schedule-june-4-2024/', 'content': 'Assistant Secretary Stewart is on travel to Singapore and Qatar from May 29-June 5, 2024. BRIEFING SCHEDULE. 1:15 p.m. Department Press Briefing with Spokesperson Matthew Miller. (OPEN PRESS COVERAGE) The Department Press Briefing will be streamed live on the Department homepage and YouTube Channel. Office of the Spokesperson The Secretary of ...', 'id': 'doc_1'}], document_ids={'doc_1'}), CohereCitation(start=241, end=246, text='India', documents=[{'url': 'https://www.hindustantimes.com/india-news/election-results-2024-live-updates-india-general-elections-results-today-latest-news-04-june-2024-101717452970179.html', 'content': \"4:06 AM IST, June 4 What do the exit polls indicate? ... Election Results 2024 LIVE News: In Chandni Chowk, Congress' JP Aggarwal is leading by 3,211 votes against BJP's Praveen Khandelwal.\", 'id': 'doc_3'}], document_ids={'doc_3'}), CohereCitation(start=248, end=345, text=\"Congress' JP Aggarwal is leading by 3,211 votes against BJP's Praveen Khandelwal in Chandni Chowk\", documents=[{'url': 'https://www.hindustantimes.com/india-news/election-results-2024-live-updates-india-general-elections-results-today-latest-news-04-june-2024-101717452970179.html', 'content': \"4:06 AM IST, June 4 What do the exit polls indicate? ... Election Results 2024 LIVE News: In Chandni Chowk, Congress' JP Aggarwal is leading by 3,211 votes against BJP's Praveen Khandelwal.\", 'id': 'doc_3'}], document_ids={'doc_3'})]}\n",
      "\n",
      "\n",
      "\u001b[1m> Entering new AgentExecutor chain...\u001b[0m\n",
      "\u001b[32;1m\u001b[1;3m\n",
      "I will search for how Microsoft stock performed last week.\n",
      "{'tool_name': 'internet_search', 'parameters': {'query': 'Microsoft stock performance last week'}}\n",
      "\u001b[0m\u001b[33;1m\u001b[1;3m[{'url': 'https://finance.yahoo.com/quote/MSFT/history/', 'content': 'Discover historical prices for MSFT stock on Yahoo Finance. View daily, weekly or monthly format back to when Microsoft Corporation stock was issued.'}, {'url': 'https://www.google.com/finance/quote/MSFT:NASDAQ', 'content': 'Get the latest Microsoft Corp (MSFT) real-time quote, historical performance, charts, and other financial information to help you make more informed trading and investment decisions.'}, {'url': 'https://finance.yahoo.com/quote/MSFT/', 'content': 'Find the latest Microsoft Corporation (MSFT) stock quote, history, news and other vital information to help you with your stock trading and investing.'}, {'url': 'https://stockanalysis.com/stocks/msft/', 'content': \"The move is a shift in Micro...\\nMicrosoft-backed OpenAI valued at $80bn after company completes deal\\nCompany to sell existing shares in ‘tender offer' led by venture firm Thrive Capital, in similar deal as early last year\\nOpenAI valued at $80 billion after deal, NYT reports\\nMicrosoft-backed OpenAI has completed a deal that values the artificial intelligence company at $80 billion or more, the New York Times reported on Friday, citing three people with knowledge of the de...\\nAmazon, Google, Meta and Microsoft among tech companies to sign pact combatting AI-generated election trickery\\nMajor technology companies signed a pact Friday to voluntarily adopt “reasonable precautions” to prevent artificial-intelligence tools from being used to disrupt democratic elections around the world.\\nOpenAI, Meta and other tech giants sign effort to fight AI election interference\\nA group of 20 tech companies announced on Friday they have agreed to work together to prevent deceptive artificial-intelligence content from interfering with elections across the globe this year.\\n Appaloosa takes new stakes in Oracle and GM, raises stakes in Alibaba and Microsoft\\nDavid Tepper's Appaloosa hedge fund took new stakes in Oracle Corp. and General Motors Co., to name a few, and increased its holdings in Alibaba Group and Microsoft Corp., among other moves, according...\\nAnalysts' Top S&P 500 Stocks to Buy Now\\nAmazon, Microsoft and Nvidia make the list of stocks scoring rare Strong Buy consensus ratings.\\n Microsoft bringing Xbox games to PlayStation and Nintendo, amid major strategy shift\\nFour games that were previously exclusive to the Xbox console will be made available for the PS5 and Nintendo Switch, as the company focuses on its software products\\nMicrosoft UK collaborates with the Digital Revolution Awards\\nLONDON--(BUSINESS WIRE)--For more information, visit:\\u202fwww.digitalrevolutionawards.com.\\n Microsoft Claims Russia, China And Others Used OpenAI's Tools For Hacking\\nState-sponsored hacking groups from Russia, China and other U.S. adversaries have been caught using OpenAI's tools to better attack their targets, according to a report published Wednesday by Microsof...\\nSix Stocks Wall Street Loves for Valentine's Day\\nWhat could be a better gift than a list of Wall Street's favorite stocks?\\n OpenAI supposedly working on web search to rival Google: RPT\\nArtificial intelligence developer OpenAI — which Microsoft (MSFT) owns a 49% stake in — is reportedly developing a web search product to rival that of Alphabet's Google (GOOG, GOOGL), according to The...\\nXbox-Exclusive Games Coming To Rival Platforms—Here's What We Know\\n\"}]\u001b[0m\u001b[32;1m\u001b[1;3m\n",
      "I couldn't find any information about how Microsoft stock performed last week. I will now search for Microsoft stock performance in June 2024.\n",
      "{'tool_name': 'internet_search', 'parameters': {'query': 'Microsoft stock performance June 2024'}}\n",
      "\u001b[0m\u001b[33;1m\u001b[1;3m[{'url': 'https://www.techopedia.com/investing/microsoft-stock-forecast', 'content': \"The average one-year Microsoft (MSFT) stock forecast for 2024/2025 is for the price to reach $452.61, with the highest projection being $600.00 and the lowest estimate standing at $232.00. The following table shows 10 latest analysts' Microsoft stock predictions. Source: MarketBeat as of April 30, 2024.\"}, {'url': 'https://finance.yahoo.com/quote/MSFT/history/', 'content': 'Discover historical prices for MSFT stock on Yahoo Finance. View daily, weekly or monthly format back to when Microsoft Corporation stock was issued.'}, {'url': 'https://www.google.com/finance/quote/MSFT:NASDAQ', 'content': 'Get the latest Microsoft Corp (MSFT) real-time quote, historical performance, charts, and other financial information to help you make more informed trading and investment decisions.'}, {'url': 'https://www.macrotrends.net/stocks/charts/MSFT/microsoft/stock-price-history', 'content': 'Historical daily share price chart and data for Microsoft since 1986 adjusted for splits and dividends. The latest closing stock price for Microsoft as of June 03, 2024 is 413.52.. The all-time high Microsoft stock closing price was 430.52 on May 22, 2024.; The Microsoft 52-week high stock price is 433.60, which is 4.9% above the current share price.; The Microsoft 52-week low stock price is ...'}]\u001b[0m\u001b[32;1m\u001b[1;3mRelevant Documents: 4,7\n",
      "Cited Documents: 4,7\n",
      "Answer: I couldn't find any information about how Microsoft stock performed last week. However, the latest closing stock price for Microsoft as of 3 June 2024 is 413.52. The highest projection for the average one-year Microsoft stock forecast for 2024/2025 is $600.00 and the lowest estimate is $232.00.\n",
      "Grounded answer: I couldn't find any information about how Microsoft stock performed last week. However, the <co: 7>latest closing stock price for Microsoft as of 3 June 2024 is 413.52</co: 7>. The <co: 4>highest projection for the average one-year Microsoft stock forecast for 2024/2025 is $600.00 and the lowest estimate is $232.00</co: 4>.\u001b[0m\n",
      "\n",
      "\u001b[1m> Finished chain.\u001b[0m\n",
      "{'input': 'How did the Microsoft stock perform last week?', 'output': \"I couldn't find any information about how Microsoft stock performed last week. However, the latest closing stock price for Microsoft as of 3 June 2024 is 413.52. The highest projection for the average one-year Microsoft stock forecast for 2024/2025 is $600.00 and the lowest estimate is $232.00.\", 'citations': [CohereCitation(start=92, end=160, text='latest closing stock price for Microsoft as of 3 June 2024 is 413.52', documents=[{'url': 'https://www.macrotrends.net/stocks/charts/MSFT/microsoft/stock-price-history', 'content': 'Historical daily share price chart and data for Microsoft since 1986 adjusted for splits and dividends. The latest closing stock price for Microsoft as of June 03, 2024 is 413.52.. The all-time high Microsoft stock closing price was 430.52 on May 22, 2024.; The Microsoft 52-week high stock price is 433.60, which is 4.9% above the current share price.; The Microsoft 52-week low stock price is ...', 'id': 'doc_7'}], document_ids={'doc_7'}), CohereCitation(start=166, end=294, text='highest projection for the average one-year Microsoft stock forecast for 2024/2025 is $600.00 and the lowest estimate is $232.00', documents=[{'url': 'https://www.techopedia.com/investing/microsoft-stock-forecast', 'content': \"The average one-year Microsoft (MSFT) stock forecast for 2024/2025 is for the price to reach $452.61, with the highest projection being $600.00 and the lowest estimate standing at $232.00. The following table shows 10 latest analysts' Microsoft stock predictions. Source: MarketBeat as of April 30, 2024.\", 'id': 'doc_4'}], document_ids={'doc_4'})]}\n"
     ]
    }
   ],
   "source": [
    "\n",
    "llm = ChatCohere()\n",
    "tools = [get_openweathermap_tool(llm), get_internet_search_tool(), get_wikipedia_tool()]\n",
    "\n",
    "prompt = ChatPromptTemplate.from_template(\n",
    "    \"Use the right tool to answer the following question. If wikipedia_tool delivers no result use internet_search: {input}\"\n",
    ")\n",
    "agent = create_cohere_react_agent(tools=tools, llm=llm, prompt=prompt)\n",
    "agent_executor = AgentExecutor(agent=agent, tools=tools, verbose=True)\n",
    "\n",
    "print(agent_executor.invoke({\"input\": \"Who was George Washington?\"}))\n",
    "print(\n",
    "    agent_executor.invoke(\n",
    "        {\"input\": \"What's the weather like in Mortugaba, Bahia, Brazil?\"}\n",
    "    )\n",
    ")\n",
    "print(agent_executor.invoke({\"input\": \"Whats in the news today?\"}))\n",
    "print(\n",
    "    agent_executor.invoke({\"input\": \"How did the Microsoft stock perform last week?\"})\n",
    ")"
   ]
  },
  {
   "cell_type": "markdown",
   "metadata": {},
   "source": [
    "Alpha Vantage Tool"
   ]
  },
  {
   "cell_type": "code",
   "execution_count": null,
   "metadata": {},
   "outputs": [],
   "source": [
    "llm = ChatCohere()\n",
    "\n",
    "prompt = ChatPromptTemplate.from_template(\"{input}\")\n",
    "\n",
    "tools = [\n",
    "    # get_search_symbol_tool(),\n",
    "    get_exchange_rate_tool(),\n",
    "    # get_time_series_daily_tool(),\n",
    "    # get_time_series_weekly_tool(),\n",
    "    # get_market_news_sentimen_tool(),\n",
    "    # get_top_gainers_losers_tool(),\n",
    "]\n",
    "\n",
    "agent = create_cohere_react_agent(tools=tools, llm=llm, prompt=prompt)\n",
    "\n",
    "agent_executor = AgentExecutor(agent=agent, tools=tools, verbose=True)\n",
    "# alpha_vantage = AlphaVantageAPIWrapper()\n",
    "# alpha_vantage._get_exchange_rate(\"USD\", \"JPY\")\n",
    "# alpha_vantage._get_time_series_daily(\"MSFT\")\n",
    "# alpha_vantage._get_time_series_weekly(\"IBM\")\n",
    "# alpha_vantage.search_symbols(\"American Superconductor\")\n",
    "# alpha_vantage._get_market_news_sentiment(\"Microsoft\")\n",
    "# alpha_vantage._get_top_gainers_losers()\n",
    "# response = agent_executor.invoke(\n",
    "#     {\"input\": \"What is the symbol for American Superconductor?\"}\n",
    "# )\n",
    "response = agent_executor.invoke({\"input\": \"How much is one Dollar in Euro?\"})\n",
    "# response = agent_executor.invoke({\"input\": \"Who are the gainers and losers at the stock exchange?\"})\n",
    "# response = agent_executor.invoke({\"input\": \"How is Microsoft performing historically?\"})\n",
    "# response = agent_executor.invoke({\"input\": \"How did Apple perform the last time?\"})\n",
    "# response = agent_executor.invoke({\"input\": \"What is in the news about Nvidia?\"})"
   ]
  },
  {
   "cell_type": "markdown",
   "metadata": {},
   "source": [
    "Imports for Embeddings and Qdrant"
   ]
  },
  {
   "cell_type": "code",
   "execution_count": 18,
   "metadata": {},
   "outputs": [],
   "source": [
    "from langchain.text_splitter import RecursiveCharacterTextSplitter\n",
    "from langchain.document_loaders import WebBaseLoader\n",
    "from langchain.embeddings.cohere import CohereEmbeddings\n",
    "from langchain.vectorstores import Qdrant\n",
    "from langchain_community.vectorstores import Qdrant\n",
    "from langchain.prompts import PromptTemplate\n",
    "from langchain.chains import ConversationalRetrievalChain\n",
    "from langchain.chains.conversation.memory import ConversationSummaryMemory\n",
    "import qdrant_client"
   ]
  },
  {
   "cell_type": "markdown",
   "metadata": {},
   "source": [
    "Build Qdrant Vector Store"
   ]
  },
  {
   "cell_type": "code",
   "execution_count": null,
   "metadata": {},
   "outputs": [],
   "source": [
    "# web_links = [\"https://www.fielmann-group.com/ueber-uns/?\",\n",
    "#              \"https://de.wikipedia.org/wiki/Fielmann\",\n",
    "#              \"https://de.wikipedia.org/wiki/G%C3%BCnther_Fielmann\",\n",
    "#              \"https://de.wikipedia.org/wiki/Marc_Fielmann\"] \n",
    "\n",
    "web_links = [\"https://python.langchain.com/v0.2/docs/introduction\",\n",
    "             \"https://python.langchain.com/v0.2/docs/concepts\",\n",
    "             \"https://python.langchain.com/v0.2/docs/integrations/tools\",\n",
    "             \"https://python.langchain.com/v0.2/docs/integrations/vectorstores\",\n",
    "             \"https://python.langchain.com/v0.2/docs/integrations/document_loaders\",\n",
    "             \"https://python.langchain.com/v0.2/docs/integrations/retrievers\",\n",
    "             \"https://python.langchain.com/v0.2/docs/integrations/vectorstores/qdrant\",\n",
    "             \"https://python.langchain.com/v0.2/docs/integrations/providers/cohere/#react-agent\",\n",
    "             \"https://de.wikipedia.org/wiki/Herz#:~:text=Das%20Herz%20(lateinisch%20Cor%2C%20griechisch,die%20Versorgung%20aller%20Organe%20sichert.\"]\n",
    " \n",
    "\n",
    "loader = WebBaseLoader(web_links)\n",
    "document=loader.load()\n",
    "\n",
    "text_splitter = RecursiveCharacterTextSplitter(chunk_size=500, chunk_overlap=0)\n",
    "texts = text_splitter.split_documents(document)\n",
    "\n",
    "embeddings = CohereEmbeddings(model = \"embed-english-v2.0\")\n",
    "\n",
    "qdrant = Qdrant.from_documents(\n",
    "    document,\n",
    "    embeddings,\n",
    "    url=QDRANT_HOST,\n",
    "    api_key=QDRANT_API_KEY,\n",
    "    prefer_grpc=True,\n",
    "    collection_name=\"rag_documents\",\n",
    "    force_recreate=True,\n",
    ")\n"
   ]
  },
  {
   "cell_type": "markdown",
   "metadata": {},
   "source": [
    "Load Qdrant Vector Store"
   ]
  },
  {
   "cell_type": "code",
   "execution_count": 19,
   "metadata": {},
   "outputs": [
    {
     "name": "stdout",
     "output_type": "stream",
     "text": [
      "connection established !\n"
     ]
    }
   ],
   "source": [
    "client = qdrant_client.QdrantClient(\n",
    "    url=QDRANT_HOST,\n",
    "    api_key=QDRANT_API_KEY,\n",
    ")\n",
    "embeddings = CohereEmbeddings(model=\"embed-english-v2.0\")\n",
    "vector_store = Qdrant(\n",
    "    client = client,\n",
    "    collection_name = \"rag_documents\",\n",
    "    embeddings = embeddings\n",
    ")\n",
    "print(\"connection established !\")"
   ]
  },
  {
   "cell_type": "markdown",
   "metadata": {},
   "source": [
    "Use Qdrant Vector Store as RAG Retriever for Cohere"
   ]
  },
  {
   "cell_type": "code",
   "execution_count": 25,
   "metadata": {},
   "outputs": [
    {
     "data": {
      "text/html": [
       "<p>The tools in LangChain are: Alpha Vantage, Apify, Arxiv, AskNews, AWS Lambda, Azure Container Apps dynamic sessions, Shell (bash), Bearly Code Interpreter, Bing Search, Brave Search, ChatGPT Plugins, Connery Action Tool, Dall-E Image Generator, DataForSEO, Dataherald, DuckDuckGo Search, E2B Data Analysis, Eden AI, Eleven Labs Text2Speech, Exa Search, File System, Golden Query, Google Cloud Text-to-Speech, Google Drive, Google Finance, Google Imagen, Google Jobs, Google Lens, Google Places, Google Scholar, Google Search, Google Serper, Google Trends, Gradio, GraphQL, HuggingFace Hub Tools, Human as a tool, IFTTT WebHooks, Infobip, Ionic Shopping Tool, Lemon Agent, Memorize, Mojeek Search, Nuclia Understanding, NVIDIA Riva: ASR and TTS, OpenWeatherMap, Oracle AI Vector Search: Generate Summary, Passio NutritionAI, Polygon Stock Market API Tools, PubMed, Python REPL, Reddit Search, Requests, SceneXplain, Search Tools, SearchApi, SearxNG Search, Semantic Scholar API Tool, SerpAPI, SQL Database, StackExchange, Tavily Search, Twilio, Upstage, Wikidata, Wikipedia, Wolfram Alpha, Yahoo Finance News, You.com Search, YouTube, and Zapier Natural Language Actions.</p>"
      ],
      "text/plain": [
       "<IPython.core.display.HTML object>"
      ]
     },
     "metadata": {},
     "output_type": "display_data"
    }
   ],
   "source": [
    "prompt_template = \"\"\"\n",
    "You are a bot to answer questions from a document.\n",
    "    \n",
    "You will be given a context of the conversation made so far followed by a question, \n",
    "give the answer to the question using the context. \n",
    "The answer should be short, straight and to the point. If you don't know the answer, reply that the answer is not available.\n",
    "\n",
    "Context: {context}\n",
    "\n",
    "Question: {question}\n",
    "Answer:\"\"\"\n",
    "\n",
    "PROMPT = PromptTemplate(\n",
    "    template=prompt_template, input_variables=[\"context\", \"question\"]\n",
    ")\n",
    "\n",
    "chain_type_kwargs = { \"prompt\" : PROMPT }\n",
    "\n",
    "llm = ChatCohere()\n",
    "\n",
    "template = (\n",
    "        \"\"\"Combine the chat history and follow up question into \n",
    "        a standalone question. \n",
    "        If chat hsitory is empty, use the follow up question as it is.\n",
    "        Chat History: {chat_history}\n",
    "        Follow up question: {question}\"\"\"\n",
    "    )\n",
    "\n",
    "prompt = PromptTemplate.from_template(template)\n",
    "\n",
    "chain = ConversationalRetrievalChain.from_llm(     \n",
    "    llm = llm,\n",
    "    chain_type = \"stuff\",\n",
    "    memory = ConversationSummaryMemory(llm = llm, memory_key='chat_history', input_key='question', output_key= 'answer', return_messages=True),\n",
    "    retriever = vector_store.as_retriever(search_type=\"mmr\"),\n",
    "    condense_question_prompt = prompt,\n",
    "    return_source_documents=False,\n",
    "    combine_docs_chain_kwargs=chain_type_kwargs,\n",
    ")\n",
    "customer_prompt = \"What are tools in LangChain?\"\n",
    "\n",
    "\n",
    "llm_response = chain.invoke(\n",
    "                {\n",
    "                    \"context\": chain.memory.buffer,\n",
    "                    \"question\": customer_prompt,\n",
    "                },\n",
    "                return_only_outputs=True,\n",
    "            )\n",
    "\n",
    "display(HTML(markdown.markdown(llm_response['answer'])))\n"
   ]
  },
  {
   "cell_type": "code",
   "execution_count": null,
   "metadata": {},
   "outputs": [],
   "source": [
    "import yfinance as yf\n",
    "def get_ticker_info(ticker_symbol: str) -> str:\n",
    "    \"\"\"\"Gets the information about a stock market ticker symbol\"\"\"\n",
    "    ticker = yf.Ticker(ticker_symbol)\n",
    "    return ticker.info"
   ]
  },
  {
   "cell_type": "code",
   "execution_count": 26,
   "metadata": {},
   "outputs": [
    {
     "data": {
      "text/plain": [
       "{'address1': 'One Microsoft Way',\n",
       " 'city': 'Redmond',\n",
       " 'state': 'WA',\n",
       " 'zip': '98052-6399',\n",
       " 'country': 'United States',\n",
       " 'phone': '425 882 8080',\n",
       " 'website': 'https://www.microsoft.com',\n",
       " 'industry': 'Software - Infrastructure',\n",
       " 'industryKey': 'software-infrastructure',\n",
       " 'industryDisp': 'Software - Infrastructure',\n",
       " 'sector': 'Technology',\n",
       " 'sectorKey': 'technology',\n",
       " 'sectorDisp': 'Technology',\n",
       " 'longBusinessSummary': 'Microsoft Corporation develops and supports software, services, devices and solutions worldwide. The Productivity and Business Processes segment offers office, exchange, SharePoint, Microsoft Teams, office 365 Security and Compliance, Microsoft viva, and Microsoft 365 copilot; and office consumer services, such as Microsoft 365 consumer subscriptions, Office licensed on-premises, and other office services. This segment also provides LinkedIn; and dynamics business solutions, including Dynamics 365, a set of intelligent, cloud-based applications across ERP, CRM, power apps, and power automate; and on-premises ERP and CRM applications. The Intelligent Cloud segment offers server products and cloud services, such as azure and other cloud services; SQL and windows server, visual studio, system center, and related client access licenses, as well as nuance and GitHub; and enterprise services including enterprise support services, industry solutions, and nuance professional services. The More Personal Computing segment offers Windows, including windows OEM licensing and other non-volume licensing of the Windows operating system; Windows commercial comprising volume licensing of the Windows operating system, windows cloud services, and other Windows commercial offerings; patent licensing; and windows Internet of Things; and devices, such as surface, HoloLens, and PC accessories. Additionally, this segment provides gaming, which includes Xbox hardware and content, and first- and third-party content; Xbox game pass and other subscriptions, cloud gaming, advertising, third-party disc royalties, and other cloud services; and search and news advertising, which includes Bing, Microsoft News and Edge, and third-party affiliates. The company sells its products through OEMs, distributors, and resellers; and directly through digital marketplaces, online, and retail stores. The company was founded in 1975 and is headquartered in Redmond, Washington.',\n",
       " 'fullTimeEmployees': 221000,\n",
       " 'companyOfficers': [{'maxAge': 1,\n",
       "   'name': 'Mr. Satya  Nadella',\n",
       "   'age': 56,\n",
       "   'title': 'Chairman & CEO',\n",
       "   'yearBorn': 1967,\n",
       "   'fiscalYear': 2023,\n",
       "   'totalPay': 9276400,\n",
       "   'exercisedValue': 0,\n",
       "   'unexercisedValue': 0},\n",
       "  {'maxAge': 1,\n",
       "   'name': 'Mr. Bradford L. Smith LCA',\n",
       "   'age': 64,\n",
       "   'title': 'President & Vice Chairman',\n",
       "   'yearBorn': 1959,\n",
       "   'fiscalYear': 2023,\n",
       "   'totalPay': 3591277,\n",
       "   'exercisedValue': 0,\n",
       "   'unexercisedValue': 0},\n",
       "  {'maxAge': 1,\n",
       "   'name': 'Ms. Amy E. Hood',\n",
       "   'age': 51,\n",
       "   'title': 'Executive VP & CFO',\n",
       "   'yearBorn': 1972,\n",
       "   'fiscalYear': 2023,\n",
       "   'totalPay': 3452196,\n",
       "   'exercisedValue': 0,\n",
       "   'unexercisedValue': 0},\n",
       "  {'maxAge': 1,\n",
       "   'name': 'Mr. Judson B. Althoff',\n",
       "   'age': 49,\n",
       "   'title': 'Executive VP & Chief Commercial Officer',\n",
       "   'yearBorn': 1974,\n",
       "   'fiscalYear': 2023,\n",
       "   'totalPay': 3355797,\n",
       "   'exercisedValue': 0,\n",
       "   'unexercisedValue': 0},\n",
       "  {'maxAge': 1,\n",
       "   'name': 'Mr. Christopher David Young',\n",
       "   'age': 51,\n",
       "   'title': 'Executive Vice President of Business Development, Strategy & Ventures',\n",
       "   'yearBorn': 1972,\n",
       "   'fiscalYear': 2023,\n",
       "   'totalPay': 2460507,\n",
       "   'exercisedValue': 0,\n",
       "   'unexercisedValue': 0},\n",
       "  {'maxAge': 1,\n",
       "   'name': 'Ms. Alice L. Jolla',\n",
       "   'age': 56,\n",
       "   'title': 'Corporate VP & Chief Accounting Officer',\n",
       "   'yearBorn': 1967,\n",
       "   'fiscalYear': 2023,\n",
       "   'exercisedValue': 0,\n",
       "   'unexercisedValue': 0},\n",
       "  {'maxAge': 1,\n",
       "   'name': 'Mr. James Kevin Scott',\n",
       "   'age': 51,\n",
       "   'title': 'Executive VP of AI & CTO',\n",
       "   'yearBorn': 1972,\n",
       "   'fiscalYear': 2023,\n",
       "   'exercisedValue': 0,\n",
       "   'unexercisedValue': 0},\n",
       "  {'maxAge': 1,\n",
       "   'name': 'Brett  Iversen',\n",
       "   'title': 'Vice President of Investor Relations',\n",
       "   'fiscalYear': 2023,\n",
       "   'exercisedValue': 0,\n",
       "   'unexercisedValue': 0},\n",
       "  {'maxAge': 1,\n",
       "   'name': 'Mr. Hossein  Nowbar',\n",
       "   'title': 'Chief Legal Officer',\n",
       "   'fiscalYear': 2023,\n",
       "   'exercisedValue': 0,\n",
       "   'unexercisedValue': 0},\n",
       "  {'maxAge': 1,\n",
       "   'name': 'Mr. Frank X. Shaw',\n",
       "   'title': 'Chief Communications Officer',\n",
       "   'fiscalYear': 2023,\n",
       "   'exercisedValue': 0,\n",
       "   'unexercisedValue': 0}],\n",
       " 'auditRisk': 3,\n",
       " 'boardRisk': 4,\n",
       " 'compensationRisk': 2,\n",
       " 'shareHolderRightsRisk': 2,\n",
       " 'overallRisk': 1,\n",
       " 'governanceEpochDate': 1717200000,\n",
       " 'compensationAsOfEpochDate': 1703980800,\n",
       " 'irWebsite': 'http://www.microsoft.com/investor/default.aspx',\n",
       " 'maxAge': 86400,\n",
       " 'priceHint': 2,\n",
       " 'previousClose': 415.13,\n",
       " 'open': 415.58,\n",
       " 'dayLow': 408.9234,\n",
       " 'dayHigh': 416.41,\n",
       " 'regularMarketPreviousClose': 415.13,\n",
       " 'regularMarketOpen': 415.58,\n",
       " 'regularMarketDayLow': 408.9234,\n",
       " 'regularMarketDayHigh': 416.41,\n",
       " 'dividendRate': 3.0,\n",
       " 'dividendYield': 0.0073,\n",
       " 'exDividendDate': 1715731200,\n",
       " 'payoutRatio': 0.24780001,\n",
       " 'fiveYearAvgDividendYield': 0.93,\n",
       " 'beta': 0.893,\n",
       " 'trailingPE': 35.833622,\n",
       " 'forwardPE': 31.185518,\n",
       " 'volume': 16930801,\n",
       " 'regularMarketVolume': 16930801,\n",
       " 'averageVolume': 20047079,\n",
       " 'averageVolume10days': 20994600,\n",
       " 'averageDailyVolume10Day': 20994600,\n",
       " 'bid': 413.47,\n",
       " 'ask': 413.59,\n",
       " 'bidSize': 100,\n",
       " 'askSize': 100,\n",
       " 'marketCap': 3073408761856,\n",
       " 'fiftyTwoWeekLow': 309.45,\n",
       " 'fiftyTwoWeekHigh': 433.6,\n",
       " 'priceToSalesTrailing12Months': 12.990772,\n",
       " 'fiftyDayAverage': 416.131,\n",
       " 'twoHundredDayAverage': 379.4301,\n",
       " 'trailingAnnualDividendRate': 2.93,\n",
       " 'trailingAnnualDividendYield': 0.00705803,\n",
       " 'currency': 'USD',\n",
       " 'enterpriseValue': 3099623161856,\n",
       " 'profitMargins': 0.36426997,\n",
       " 'floatShares': 7421528951,\n",
       " 'sharesOutstanding': 7432309760,\n",
       " 'sharesShort': 43764126,\n",
       " 'sharesShortPriorMonth': 56321541,\n",
       " 'sharesShortPreviousMonthDate': 1713139200,\n",
       " 'dateShortInterest': 1715731200,\n",
       " 'sharesPercentSharesOut': 0.0058999998,\n",
       " 'heldPercentInsiders': 0.00054000004,\n",
       " 'heldPercentInstitutions': 0.73740995,\n",
       " 'shortRatio': 2.18,\n",
       " 'shortPercentOfFloat': 0.0058999998,\n",
       " 'impliedSharesOutstanding': 7432309760,\n",
       " 'bookValue': 34.058,\n",
       " 'priceToBook': 12.141641,\n",
       " 'lastFiscalYearEnd': 1688083200,\n",
       " 'nextFiscalYearEnd': 1719705600,\n",
       " 'mostRecentQuarter': 1711843200,\n",
       " 'earningsQuarterlyGrowth': 0.199,\n",
       " 'netIncomeToCommon': 86181003264,\n",
       " 'trailingEps': 11.54,\n",
       " 'forwardEps': 13.26,\n",
       " 'pegRatio': 2.17,\n",
       " 'lastSplitFactor': '2:1',\n",
       " 'lastSplitDate': 1045526400,\n",
       " 'enterpriseToRevenue': 13.102,\n",
       " 'enterpriseToEbitda': 24.761,\n",
       " '52WeekChange': 0.23927116,\n",
       " 'SandP52WeekChange': 0.23332977,\n",
       " 'lastDividendValue': 0.75,\n",
       " 'lastDividendDate': 1715731200,\n",
       " 'exchange': 'NMS',\n",
       " 'quoteType': 'EQUITY',\n",
       " 'symbol': 'MSFT',\n",
       " 'underlyingSymbol': 'MSFT',\n",
       " 'shortName': 'Microsoft Corporation',\n",
       " 'longName': 'Microsoft Corporation',\n",
       " 'firstTradeDateEpochUtc': 511108200,\n",
       " 'timeZoneFullName': 'America/New_York',\n",
       " 'timeZoneShortName': 'EDT',\n",
       " 'uuid': 'b004b3ec-de24-385e-b2c1-923f10d3fb62',\n",
       " 'messageBoardId': 'finmb_21835',\n",
       " 'gmtOffSetMilliseconds': -14400000,\n",
       " 'currentPrice': 413.52,\n",
       " 'targetHighPrice': 600.0,\n",
       " 'targetLowPrice': 436.0,\n",
       " 'targetMeanPrice': 483.33,\n",
       " 'targetMedianPrice': 477.33,\n",
       " 'recommendationMean': 1.7,\n",
       " 'recommendationKey': 'buy',\n",
       " 'numberOfAnalystOpinions': 47,\n",
       " 'totalCash': 80013000704,\n",
       " 'totalCashPerShare': 10.766,\n",
       " 'ebitda': 125182001152,\n",
       " 'totalDebt': 106228998144,\n",
       " 'quickRatio': 1.132,\n",
       " 'currentRatio': 1.242,\n",
       " 'totalRevenue': 236583993344,\n",
       " 'debtToEquity': 41.963,\n",
       " 'revenuePerShare': 31.834,\n",
       " 'returnOnAssets': 0.15295,\n",
       " 'returnOnEquity': 0.38487998,\n",
       " 'freeCashflow': 61497999360,\n",
       " 'operatingCashflow': 110122999808,\n",
       " 'earningsGrowth': 0.2,\n",
       " 'revenueGrowth': 0.17,\n",
       " 'grossMargins': 0.69894,\n",
       " 'ebitdaMargins': 0.52911997,\n",
       " 'operatingMargins': 0.44588003,\n",
       " 'financialCurrency': 'USD',\n",
       " 'trailingPegRatio': 2.0395}"
      ]
     },
     "execution_count": 26,
     "metadata": {},
     "output_type": "execute_result"
    }
   ],
   "source": [
    "import yfinance as yf\n",
    "\n",
    "msft = yf.Ticker(\"MSFT\")\n",
    "\n",
    "# get all stock info\n",
    "msft.info"
   ]
  }
 ],
 "metadata": {
  "kernelspec": {
   "display_name": "cohere",
   "language": "python",
   "name": "python3"
  },
  "language_info": {
   "codemirror_mode": {
    "name": "ipython",
    "version": 3
   },
   "file_extension": ".py",
   "mimetype": "text/x-python",
   "name": "python",
   "nbconvert_exporter": "python",
   "pygments_lexer": "ipython3",
   "version": "3.12.3"
  }
 },
 "nbformat": 4,
 "nbformat_minor": 2
}
