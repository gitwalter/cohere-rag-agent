{
 "cells": [
  {
   "cell_type": "markdown",
   "metadata": {},
   "source": [
    "# LangChain Cohere Agent using Tools"
   ]
  },
  {
   "cell_type": "markdown",
   "metadata": {},
   "source": [
    "## Install Libraries"
   ]
  },
  {
   "cell_type": "code",
   "execution_count": null,
   "metadata": {},
   "outputs": [],
   "source": [
    "# ! pip install streamlit\n",
    "# ! pip install qdrant-client\n",
    "# ! pip install langchain\n",
    "# ! pip install langchain-community\n",
    "# ! pip install langchain-qdrant\n",
    "# ! pip install langchain-cohere\n",
    "# ! pip install tiktoken\n",
    "# ! pip install cohere\n",
    "# ! pip install bs4\n",
    "# ! pip install markdown\n",
    "# ! pip install wikipedia\n",
    "# ! pip install pyowm\n",
    "# ! pip install yfinance"
   ]
  },
  {
   "cell_type": "markdown",
   "metadata": {},
   "source": [
    "## Imports for Tool Use and Keys\n",
    "### API Keys\n",
    "* https://cohere.com/\n",
    "* https://www.alphavantage.co/\n",
    "* https://qdrant.tech/\n",
    "* https://openweathermap.org/\n",
    "* https://tavily.com/\n",
    "* https://polygon.io/\n"
   ]
  },
  {
   "cell_type": "code",
   "execution_count": 13,
   "metadata": {},
   "outputs": [],
   "source": [
    "from IPython.display import HTML\n",
    "import markdown\n",
    "import warnings\n",
    "import streamlit as st\n",
    "import os\n",
    "from langchain_cohere.llms import Cohere\n",
    "from langchain_core.messages import HumanMessage\n",
    "from langchain_core.prompts import ChatPromptTemplate\n",
    "from langchain_cohere import ChatCohere, create_cohere_react_agent\n",
    "from langchain_community.agent_toolkits.polygon.toolkit import PolygonToolkit\n",
    "from langchain_community.utilities.polygon import PolygonAPIWrapper\n",
    "from langchain.agents import AgentExecutor\n",
    "from cohere_tools import get_internet_search_tool, get_wikipedia_tool, get_openweathermap_tool\n",
    "from yfinance_tools import get_business_summary_tool, get_ticker_history_tool, get_ticker_info_tool\n",
    "from alpha_vantage_tools import (\n",
    "    get_search_symbols_tool,\n",
    "    get_exchange_rate_tool,\n",
    "    # get_time_series_daily_tool,\n",
    "    # get_time_series_weekly_tool,\n",
    "    # get_market_news_sentimen_tool,\n",
    "    # get_top_gainers_losers_tool,\n",
    ")\n",
    "\n",
    "warnings.filterwarnings(\"ignore\")\n",
    "\n",
    "ALPHAVANTAGE_API_KEY = st.secrets[\"ALPHAVANTAGE_API_KEY\"]\n",
    "os.environ[\"ALPHAVANTAGE_API_KEY\"] = st.secrets[\"ALPHAVANTAGE_API_KEY\"]\n",
    "\n",
    "COHERE_API_KEY = st.secrets[\"COHERE_API_KEY\"]\n",
    "os.environ[\"COHERE_API_KEY\"] = st.secrets[\"COHERE_API_KEY\"]\n",
    "\n",
    "QDRANT_HOST = st.secrets[\"QDRANT_HOST\"]\n",
    "QDRANT_API_KEY = st.secrets[\"QDRANT_API_KEY\"]\n",
    "\n",
    "OPEN_WEATHER_API_KEY = st.secrets[\"OPEN_WEATHER_API_KEY\"]\n",
    "os.environ[\"OPENWEATHERMAP_API_KEY\"] = OPEN_WEATHER_API_KEY\n",
    "\n",
    "POLYGON_API_KEY = st.secrets[\"POLYGON_API_KEY\"]\n",
    "os.environ[\"POLYGON_API_KEY\"] = st.secrets[\"POLYGON_API_KEY\"]\n",
    "\n",
    "TAVILY_API_KEY = st.secrets[\"TAVILY_API_KEY\"]\n",
    "os.environ[\"TAVILY_API_KEY\"] = st.secrets[\"TAVILY_API_KEY\"]"
   ]
  },
  {
   "cell_type": "markdown",
   "metadata": {},
   "source": [
    "## Invoke ChatCohere"
   ]
  },
  {
   "cell_type": "code",
   "execution_count": 8,
   "metadata": {},
   "outputs": [
    {
     "name": "stdout",
     "output_type": "stream",
     "text": [
      "content=\"Who's there?\" additional_kwargs={'documents': None, 'citations': None, 'search_results': None, 'search_queries': None, 'is_search_required': None, 'generation_id': '8e78cb0d-af71-425c-aec0-73f4e2ac175f', 'token_count': {'input_tokens': 68, 'output_tokens': 4}} response_metadata={'documents': None, 'citations': None, 'search_results': None, 'search_queries': None, 'is_search_required': None, 'generation_id': '8e78cb0d-af71-425c-aec0-73f4e2ac175f', 'token_count': {'input_tokens': 68, 'output_tokens': 4}} id='run-5561524f-54ce-4c9d-bc1e-c55958d9d77a-0'\n"
     ]
    }
   ],
   "source": [
    "chat = ChatCohere()\n",
    "messages = [HumanMessage(content=\"knock knock\")]\n",
    "print(chat.invoke(messages))"
   ]
  },
  {
   "cell_type": "markdown",
   "metadata": {},
   "source": [
    "## Invoke ChatCohere using ChatPromptTemplate"
   ]
  },
  {
   "cell_type": "code",
   "execution_count": 9,
   "metadata": {},
   "outputs": [
    {
     "data": {
      "text/plain": [
       "AIMessage(content='Why don’t bears wear socks?\\n\\nThey have bear feet!', additional_kwargs={'documents': None, 'citations': None, 'search_results': None, 'search_queries': None, 'is_search_required': None, 'generation_id': 'c9c7e2b2-8d70-4a99-814f-c36f593e3de5', 'token_count': {'input_tokens': 72, 'output_tokens': 15}}, response_metadata={'documents': None, 'citations': None, 'search_results': None, 'search_queries': None, 'is_search_required': None, 'generation_id': 'c9c7e2b2-8d70-4a99-814f-c36f593e3de5', 'token_count': {'input_tokens': 72, 'output_tokens': 15}}, id='run-87c97268-c707-438f-8c86-ccc31919c308-0')"
      ]
     },
     "execution_count": 9,
     "metadata": {},
     "output_type": "execute_result"
    }
   ],
   "source": [
    "prompt = ChatPromptTemplate.from_template(\"Tell me a joke about {topic}\")\n",
    "chain = prompt | chat\n",
    "chain.invoke({\"topic\": \"bears\"})"
   ]
  },
  {
   "cell_type": "markdown",
   "metadata": {},
   "source": [
    "## Invoke Cohere"
   ]
  },
  {
   "cell_type": "code",
   "execution_count": 12,
   "metadata": {},
   "outputs": [
    {
     "data": {
      "text/html": [
       "<p>The theory of Kahnemann and Tversky is a collection of cognitive biases that affect how people make decisions and form beliefs. The theory consists of three components:</p>\n",
       "<ol>\n",
       "<li>\n",
       "<p>Cognitive Simplification: This component discusses how people often rely on heuristics or rules of thumb when making decisions. These heuristics can lead to biases and errors in judgment, as they may not always be accurate or logical.</p>\n",
       "</li>\n",
       "<li>\n",
       "<p>Cognitive Ease: This component talks about how people tend to gravitate towards choices that require less cognitive effort and are often predisposed to options that are easier to process and understand. This can result in decisions that may not always be the most optimal or rational.</p>\n",
       "</li>\n",
       "<li>\n",
       "<p>Altering Experience: This component explains how individuals adjust their experiences to alleviate cognitive dissonance. They presents examples such as the choice to ignore or minimize losses or to overestimate the likelihood of events with positive outcomes. </p>\n",
       "</li>\n",
       "</ol>\n",
       "<p>Overall, the theory of Kahnemann and Tversky highlights the numerous ways in which human reasoning can be flawed due to cognitive biases. </p>\n",
       "<p>The theory has been influential in the fields of psychology, behavioral economics, and decision-making, and has important implications for understanding human behavior in a variety of contexts. </p>"
      ],
      "text/plain": [
       "<IPython.core.display.HTML object>"
      ]
     },
     "metadata": {},
     "output_type": "display_data"
    }
   ],
   "source": [
    "llm = Cohere()\n",
    "display(HTML(markdown.markdown(llm.invoke(\"Summarize the theory of Kahnemann and Tversky\"))))"
   ]
  },
  {
   "cell_type": "markdown",
   "metadata": {},
   "source": [
    "## Invoke Cohere with Tools"
   ]
  },
  {
   "cell_type": "code",
   "execution_count": 14,
   "metadata": {},
   "outputs": [],
   "source": [
    "def invoke_cohere_with_tools(input, tools, prompt_template=\"{input}\",no_markdown=False):\n",
    "    llm = ChatCohere()\n",
    "    prompt = ChatPromptTemplate.from_template(prompt_template)\n",
    "    agent = create_cohere_react_agent(llm, tools, prompt)\n",
    "    agent_executor = AgentExecutor(agent=agent, tools=tools, verbose=True)\n",
    "    response = agent_executor.invoke(input)\n",
    "    if no_markdown:\n",
    "        print(response['output'])\n",
    "    else:\n",
    "        display(HTML(markdown.markdown(response['output'])))\n",
    "\n"
   ]
  },
  {
   "cell_type": "markdown",
   "metadata": {},
   "source": [
    "## Tavily Internet Search Tool"
   ]
  },
  {
   "cell_type": "code",
   "execution_count": 8,
   "metadata": {},
   "outputs": [
    {
     "name": "stdout",
     "output_type": "stream",
     "text": [
      "\n",
      "\n",
      "\u001b[1m> Entering new AgentExecutor chain...\u001b[0m\n",
      "\u001b[32;1m\u001b[1;3m\n",
      "I will search for 'Amazon IPO date' and then write an answer.\n",
      "{'tool_name': 'internet_search', 'parameters': {'query': 'Amazon IPO date'}}\n",
      "\u001b[0m\u001b[36;1m\u001b[1;3m[{'url': 'https://www.cnbc.com/2018/09/05/if-you-invested-1000-in-amazon-in-1997-heres-what-youd-have-now.html', 'content': \"From 8/28/2017 to 8/31/2018. As impressive as that is, original investors in Amazon fare even better. If you had invested $1,000 during Amazon's IPO in May 1997, your investment would be worth ...\"}, {'url': 'https://www.fool.com/investing/2022/09/22/invested-10000-in-amazon-ipo-in-1997-how-much-now/', 'content': 'Amazon went public on May 15, 1997, at $18 per share. A $10,000 investment in Amazon at its IPO would be worth over $16 million today, thanks to its online marketplace, Prime membership, and cloud business.'}, {'url': 'https://finance.yahoo.com/news/heres-much-investing-1-000-151649171.html', 'content': \"On May 15, 1997, Amazon.com, Inc. (NASDAQ: AMZN) held its initial public offering. In the past 23 years, the SPDR S&P 500 ETF Trust (NYSE: SPY) is up 236%, but it's safe to say Amazon IPO ...\"}, {'url': 'https://www.fool.com/investing/2019/11/24/if-you-invested-500-in-amazons-ipo-this-is-how-muc.aspx', 'content': 'The ultimate growth stock. Amazon first sold shares to the public on May 15, 1997. The initial public offering (IPO) was priced at $18 per share. There have been three stock splits, all between ...'}]\u001b[0m\u001b[32;1m\u001b[1;3mRelevant Documents: 0,1,2,3\n",
      "Cited Documents: 0,1,2,3\n",
      "Answer: Amazon's IPO took place on 15 May 1997.\n",
      "Grounded answer: Amazon's IPO took place on <co: 1,2,3>15</co: 1,2,3> <co: 0,1,2,3>May</co: 0,1,2,3> <co: 0,1,2,3>1997</co: 0,1,2,3>.\u001b[0m\n",
      "\n",
      "\u001b[1m> Finished chain.\u001b[0m\n"
     ]
    },
    {
     "data": {
      "text/html": [
       "<p>Amazon's IPO took place on 15 May 1997.</p>"
      ],
      "text/plain": [
       "<IPython.core.display.HTML object>"
      ]
     },
     "metadata": {},
     "output_type": "display_data"
    }
   ],
   "source": [
    "prompt_template = \"In which year had {stock_name} its IPO? Tell me the year and the date.\"\n",
    "input =  {\"stock_name\": \"Amazon\"}\n",
    "tools = [get_internet_search_tool()]\n",
    "invoke_cohere_with_tools(input, tools, prompt_template)"
   ]
  },
  {
   "cell_type": "markdown",
   "metadata": {},
   "source": [
    "## Wikipedia Tool"
   ]
  },
  {
   "cell_type": "code",
   "execution_count": 15,
   "metadata": {},
   "outputs": [
    {
     "name": "stdout",
     "output_type": "stream",
     "text": [
      "\n",
      "\n",
      "\u001b[1m> Entering new AgentExecutor chain...\u001b[0m\n",
      "\u001b[32;1m\u001b[1;3m\n",
      "I will search for 'Kahnemann and Tversky theory' and write an answer based on the information I find.\n",
      "{'tool_name': 'wikipedia-tool', 'parameters': {'query': 'Kahnemann and Tversky theory'}}\n",
      "\u001b[0m\u001b[36;1m\u001b[1;3mPage: Daniel Kahneman\n",
      "Summary: Daniel Kahneman (; Hebrew: דניאל כהנמן; March 5, 1934 – March 27, 2024) was an Israeli-American cognitive scientist best-known for his work on the psychology of judgment and decision-making. He is also known for his work in behavioral economics, for which he was awarded the 2002 Nobel Memorial Prize in Economic Sciences together with Vernon L. Smith. Kahneman's published empirical findings challenge the assumption of human rationality prevailing in modern economic theory. Kahneman became known as the \"grandfather of behavioral economics.\"\n",
      "With Amos Tversky and others, Kahneman established a cognitive basis for common human errors that arise from heuristics and biases, and developed prospect theory. In 2011, Kahneman was named by Foreign Policy magazine in its list of top global thinkers. In the same year, his book Thinking, Fast and Slow, which summarizes much of his research, was published and became a best seller. In 2015, The Economist listed him as the seventh most influential economist in the world.\n",
      "Kahneman was professor emeritus of psychology and public affairs at Princeton University's Princeton School of Public and International Affairs. Kahneman was a founding partner of TGG Group, a business and philanthropy consulting company. He was married to cognitive psychologist and Royal Society Fellow Anne Treisman, who died in 2018.\n",
      "\n",
      "\u001b[0m\n",
      "\u001b[32;1m\u001b[1;3m\u001b[0m\n",
      "\n",
      "\u001b[1m> Finished chain.\u001b[0m\n"
     ]
    },
    {
     "data": {
      "text/html": [
       "<p>Page: Daniel Kahneman\n",
       "Summary: Daniel Kahneman (; Hebrew: דניאל כהנמן; March 5, 1934 – March 27, 2024) was an Israeli-American cognitive scientist best-known for his work on the psychology of judgment and decision-making. He is also known for his work in behavioral economics, for which he was awarded the 2002 Nobel Memorial Prize in Economic Sciences together with Vernon L. Smith. Kahneman's published empirical findings challenge the assumption of human rationality prevailing in modern economic theory. Kahneman became known as the \"grandfather of behavioral economics.\"\n",
       "With Amos Tversky and others, Kahneman established a cognitive basis for common human errors that arise from heuristics and biases, and developed prospect theory. In 2011, Kahneman was named by Foreign Policy magazine in its list of top global thinkers. In the same year, his book Thinking, Fast and Slow, which summarizes much of his research, was published and became a best seller. In 2015, The Economist listed him as the seventh most influential economist in the world.\n",
       "Kahneman was professor emeritus of psychology and public affairs at Princeton University's Princeton School of Public and International Affairs. Kahneman was a founding partner of TGG Group, a business and philanthropy consulting company. He was married to cognitive psychologist and Royal Society Fellow Anne Treisman, who died in 2018.</p>"
      ],
      "text/plain": [
       "<IPython.core.display.HTML object>"
      ]
     },
     "metadata": {},
     "output_type": "display_data"
    }
   ],
   "source": [
    "input =  {\"input\": \"Explain the theory of Kahnemann and Tversky\"}\n",
    "tools = [get_wikipedia_tool()]\n",
    "invoke_cohere_with_tools(input, tools)"
   ]
  },
  {
   "cell_type": "markdown",
   "metadata": {},
   "source": [
    "## Run tool without agent"
   ]
  },
  {
   "cell_type": "code",
   "execution_count": 20,
   "metadata": {},
   "outputs": [
    {
     "data": {
      "text/plain": [
       "\"Page: David Beckham\\nSummary: David Robert Joseph Beckham  ( BEK-əm; born 2 May 1975) is an English former professional footballer, the president and co-owner of Inter Miami CF and co-owner of Salford City. Primarily a right winger and known for his range of passing, crossing ability and free-kick taking, Beckham has been hailed as one of the greatest and most recognisable midfielders of his generation, as well as one of the best free-kick takers of all time. He won 19 major trophies in his career, and is the first English player to win league titles in four different countries: England, Spain, the United States and France.\\nBeckham's professional club career began with Manchester United, where he made his first-team debut in 1992 at age 17. With United, he won the Premier League title six times, the FA Cup twice, the FA Charity Shield twice, the Intercontinental Cup and the UEFA Champions League in 1999. He then played four seasons with Real Madrid, winning the La Liga championship in his final season with the club. In July 2007, Beckham signed a five-year contract with Major League Soccer club LA Galaxy. While a Galaxy player, he spent two loan spells in Italy with AC Milan in 2009 and 2010. He became the first British footballer to play 100 UEFA Champions League games. He retired in May 2013 after a 20-year career.\\nIn international football, Beckham made his England debut on 1 September 1996, at the age of 21. He was captain for six years, earning 58 caps during his tenure. He made 115 career appearances in total, appearing at three FIFA World Cups in 1998, 2002 and 2006 as well as two UEFA European Championships in 2000 and 2004. Beckham held the England appearance record for an outfield player until 2016.\\nA global ambassador of football, Beckham is considered to be a British cultural icon. He has been in a well publicised marriage to Victoria Beckham since 1999 and was consistently ranked among the highest earners in football, in 2013 being listed as the highest-paid player in the world having earned over $50 million in the previous twelve months. Beckham was runner-up in the Ballon d'Or in 1999, twice runner-up for FIFA World Player of the Year (1999 and 2001) and in 2004 was named by Pelé in the FIFA 100 list of the world's greatest living players. He was inducted into the English Football Hall of Fame in 2008, and the Premier League Hall of Fame in 2021. He has been a UNICEF ambassador since 2005, and in 2015 he launched 7: The David Beckham UNICEF Fund. In 2014, MLS announced that Beckham and a group of investors would own Inter Miami, which began playing in 2020.\\n\\n\""
      ]
     },
     "execution_count": 20,
     "metadata": {},
     "output_type": "execute_result"
    }
   ],
   "source": [
    "wikipedia_tool.run(\"David Beckham\")"
   ]
  },
  {
   "cell_type": "markdown",
   "metadata": {},
   "source": [
    "## Openweathermap Tool"
   ]
  },
  {
   "cell_type": "code",
   "execution_count": 4,
   "metadata": {},
   "outputs": [
    {
     "name": "stdout",
     "output_type": "stream",
     "text": [
      "\n",
      "\n",
      "\u001b[1m> Entering new AgentExecutor chain...\u001b[0m\n",
      "\u001b[32;1m\u001b[1;3m\n",
      "I will search for the weather in Salvador da Bahia and then write an answer.\n",
      "{'tool_name': 'open_weather_map', 'parameters': {'location': 'Salvador da Bahia'}}\n",
      "\u001b[0m\u001b[36;1m\u001b[1;3mIn Salvador da Bahia, the current weather is as follows:\n",
      "Detailed status: overcast clouds\n",
      "Wind speed: 6.3 m/s, direction: 126°\n",
      "Humidity: 78%\n",
      "Temperature: \n",
      "  - Current: 23.98°C\n",
      "  - High: 23.98°C\n",
      "  - Low: 23.98°C\n",
      "  - Feels like: 24.47°C\n",
      "Rain: {}\n",
      "Heat index: None\n",
      "Cloud cover: 100%\u001b[0m\u001b[32;1m\u001b[1;3mRelevant Documents: 0\n",
      "Cited Documents: 0\n",
      "Answer: In Salvador da Bahia, it is currently 23.98°C and overcast. The wind speed is 6.3 m/s and the humidity is 78%.\n",
      "Grounded answer: In Salvador da Bahia, it is currently <co: 0>23.98°C</co: 0> and <co: 0>overcast</co: 0>. The <co: 0>wind speed is 6.3 m/s</co: 0> and the <co: 0>humidity is 78</co: 0>%.\u001b[0m\n",
      "\n",
      "\u001b[1m> Finished chain.\u001b[0m\n"
     ]
    },
    {
     "data": {
      "text/html": [
       "<p>In Salvador da Bahia, it is currently 23.98°C and overcast. The wind speed is 6.3 m/s and the humidity is 78%.</p>"
      ],
      "text/plain": [
       "<IPython.core.display.HTML object>"
      ]
     },
     "metadata": {},
     "output_type": "display_data"
    }
   ],
   "source": [
    "input = {\"input\": \"How is the weather in Salvador da Bahia?\"}\n",
    "yfinance_tools = [get_openweathermap_tool()]\n",
    "invoke_cohere_with_tools(input, yfinance_tools)"
   ]
  },
  {
   "cell_type": "markdown",
   "metadata": {},
   "source": [
    "## Multiple Tool Use\n",
    "1. wiki-tool\n",
    "2. open_weather_map\n",
    "3. internet_search"
   ]
  },
  {
   "cell_type": "code",
   "execution_count": 5,
   "metadata": {},
   "outputs": [
    {
     "name": "stdout",
     "output_type": "stream",
     "text": [
      "\n",
      "\n",
      "\u001b[1m> Entering new AgentExecutor chain...\u001b[0m\n",
      "\u001b[32;1m\u001b[1;3m\n",
      "I will use Wikipedia to answer this question.\n",
      "{'tool_name': 'wikipedia-tool', 'parameters': {'query': 'Who was George Washington?'}}\n",
      "\u001b[0m\u001b[38;5;200m\u001b[1;3mPage: George Washington Carver\n",
      "Summary: George Washington Carver (c. 1864 – January 5, 1943) was an American agricultural scientist and inventor who promoted alternative crops to cotton and methods to prevent soil depletion. He was one of the most prominent black scientists of the early 20th century.\n",
      "While a professor at Tuskegee Institute, Carver developed techniques to improve types of soils depleted by repeated plantings of cotton. He wanted poor farmers to grow other crops, such as peanuts and sweet potatoes, as a source of their own food and to improve their quality of life. Under his leadership, the Experiment Station at Tuskegee published over forty practical bulletins for farmers, many written by him, which included recipes; many of the bulletins contained advice for poor farmers, including combating soil depletion with limited financial means, producing bigger crops, and preserving food.\n",
      "Apart from his work to improve the lives of farmers, Carver was also a leader in promoting environmentalism. He received numerous honors for his work, including the Spingarn Medal of the NAACP. In an era of high racial polarization, his fame reached beyond the black community. He was widely recognized and praised in the white community for his many achievements and talents. In 1941, Time magazine dubbed Carver a \"Black Leonardo\".\n",
      "Color film of Carver shot in 1937 at the Tuskegee Institute by African American surgeon Allen Alexander was added to the National Film Registry of the Library of Congress in 2019. The 12 minutes of footage includes Carver in his apartment, office and laboratory, as well as images of him tending flowers and displaying his paintings.\u001b[0m\n",
      "\u001b[32;1m\u001b[1;3m\u001b[0m\n",
      "\n",
      "\u001b[1m> Finished chain.\u001b[0m\n"
     ]
    },
    {
     "data": {
      "text/html": [
       "<p>Page: George Washington Carver\n",
       "Summary: George Washington Carver (c. 1864 – January 5, 1943) was an American agricultural scientist and inventor who promoted alternative crops to cotton and methods to prevent soil depletion. He was one of the most prominent black scientists of the early 20th century.\n",
       "While a professor at Tuskegee Institute, Carver developed techniques to improve types of soils depleted by repeated plantings of cotton. He wanted poor farmers to grow other crops, such as peanuts and sweet potatoes, as a source of their own food and to improve their quality of life. Under his leadership, the Experiment Station at Tuskegee published over forty practical bulletins for farmers, many written by him, which included recipes; many of the bulletins contained advice for poor farmers, including combating soil depletion with limited financial means, producing bigger crops, and preserving food.\n",
       "Apart from his work to improve the lives of farmers, Carver was also a leader in promoting environmentalism. He received numerous honors for his work, including the Spingarn Medal of the NAACP. In an era of high racial polarization, his fame reached beyond the black community. He was widely recognized and praised in the white community for his many achievements and talents. In 1941, Time magazine dubbed Carver a \"Black Leonardo\".\n",
       "Color film of Carver shot in 1937 at the Tuskegee Institute by African American surgeon Allen Alexander was added to the National Film Registry of the Library of Congress in 2019. The 12 minutes of footage includes Carver in his apartment, office and laboratory, as well as images of him tending flowers and displaying his paintings.</p>"
      ],
      "text/plain": [
       "<IPython.core.display.HTML object>"
      ]
     },
     "metadata": {},
     "output_type": "display_data"
    },
    {
     "name": "stdout",
     "output_type": "stream",
     "text": [
      "\n",
      "\n",
      "\u001b[1m> Entering new AgentExecutor chain...\u001b[0m\n",
      "\u001b[32;1m\u001b[1;3m\n",
      "I will use the Open Weather Map tool to find the weather in Mortugaba, Bahia, Brazil.\n",
      "{'tool_name': 'open_weather_map', 'parameters': {'location': 'Mortugaba, Bahia, Brazil'}}\n",
      "\u001b[0m\u001b[36;1m\u001b[1;3mIn Mortugaba, Bahia, Brazil, the current weather is as follows:\n",
      "Detailed status: overcast clouds\n",
      "Wind speed: 2.1 m/s, direction: 130°\n",
      "Humidity: 97%\n",
      "Temperature: \n",
      "  - Current: 16.09°C\n",
      "  - High: 16.09°C\n",
      "  - Low: 16.09°C\n",
      "  - Feels like: 16.29°C\n",
      "Rain: {}\n",
      "Heat index: None\n",
      "Cloud cover: 98%\u001b[0m\u001b[32;1m\u001b[1;3mRelevant Documents: 0\n",
      "Cited Documents: 0\n",
      "Answer: In Mortugaba, Bahia, Brazil, the weather is currently overcast with a temperature of 16.09°C. It's 97% humidity and there's a wind speed of 2.1 m/s.\n",
      "Grounded answer: In Mortugaba, Bahia, Brazil, the weather is currently <co: 0>overcast</co: 0> with a <co: 0>temperature of 16.09°C</co: 0>. It's <co: 0>97% humidity</co: 0> and there's a <co: 0>wind speed of 2.1 m/s</co: 0>.\u001b[0m\n",
      "\n",
      "\u001b[1m> Finished chain.\u001b[0m\n"
     ]
    },
    {
     "data": {
      "text/html": [
       "<p>In Mortugaba, Bahia, Brazil, the weather is currently overcast with a temperature of 16.09°C. It's 97% humidity and there's a wind speed of 2.1 m/s.</p>"
      ],
      "text/plain": [
       "<IPython.core.display.HTML object>"
      ]
     },
     "metadata": {},
     "output_type": "display_data"
    },
    {
     "name": "stdout",
     "output_type": "stream",
     "text": [
      "\n",
      "\n",
      "\u001b[1m> Entering new AgentExecutor chain...\u001b[0m\n",
      "\u001b[32;1m\u001b[1;3m\n",
      "I will search for 'news 5 June 2024' and write an answer based on the results.\n",
      "{'tool_name': 'internet_search', 'parameters': {'query': 'news 5 june 2024'}}\n",
      "\u001b[0m\u001b[33;1m\u001b[1;3m[{'url': 'https://www.bloomberg.com/news/articles/2024-06-04/stock-market-today-dow-s-p-live-updates', 'content': 'The S&P 500 edged up to around 5,290, with futures little changed on Wednesday. The MSCI Emerging Market Index fell the most in seven weeks after India stocks had their worst day in more than four ...'}, {'url': 'https://www.cnn.com/2024/06/04/us/5-things-to-know-for-june-4-hunter-biden-india-election-covid-19-heat-dome-middle-east/index.html', 'content': '4. Heat dome. A heat dome is sending temperatures into the triple-digits across the Western US as wildfires burn in the region. Excessive heat warnings are in effect this week for more than 10 ...'}, {'url': 'https://www.unep.org/events/un-day/world-environment-day-2024', 'content': 'When: 5 June 2024 Theme: Land restoration, desertification and drought resilience Host: The Kingdom of Saudi Arabia Visit the official campaign website. World Environment Day is the biggest international day for the environment. Led by the United Nations Environment Programme (UNEP), and held annually since 1973, it has grown to be the largest global platform for environmental outreach.'}, {'url': 'https://www.unep.org/ietc/news/blogpost/world-environment-day｜5-june-2024', 'content': '5 June is World Environment Day Established by the United Nations General Assembly in 1973, World Environment Day is the largest international event focused on the environment, coordinated by the UN Environment Programme (UNEP). Millions of people from governments, businesses, civil society, and educational institutions participate annually to raise awareness and take action on environmental ...'}]\u001b[0m\u001b[32;1m\u001b[1;3mRelevant Documents: 0,1,2,3\n",
      "Cited Documents: 0,1,2,3\n",
      "Answer: It's World Environment Day, the biggest international day for the environment. The theme this year is land restoration, desertification and drought resilience. \n",
      "\n",
      "In other news, wildfires are burning in the Western US, where a heat dome is sending temperatures into the triple digits. The S&P 500 edged up to around 5,290, with futures little changed on Wednesday.\n",
      "Grounded answer: It's <co: 2,3>World Environment Day</co: 2,3>, the <co: 2>biggest international day for the environment</co: 2>. The <co: 2>theme this year is land restoration, desertification and drought resilience</co: 2>. \n",
      "\n",
      "In other news, <co: 1>wildfires are burning in the Western US</co: 1>, where a <co: 1>heat dome is sending temperatures into the triple digits</co: 1>. The <co: 0>S&P 500 edged up to around 5,290</co: 0>, with <co: 0>futures little changed on Wednesday</co: 0>.\u001b[0m\n",
      "\n",
      "\u001b[1m> Finished chain.\u001b[0m\n"
     ]
    },
    {
     "data": {
      "text/html": [
       "<p>It's World Environment Day, the biggest international day for the environment. The theme this year is land restoration, desertification and drought resilience. </p>\n",
       "<p>In other news, wildfires are burning in the Western US, where a heat dome is sending temperatures into the triple digits. The S&amp;P 500 edged up to around 5,290, with futures little changed on Wednesday.</p>"
      ],
      "text/plain": [
       "<IPython.core.display.HTML object>"
      ]
     },
     "metadata": {},
     "output_type": "display_data"
    }
   ],
   "source": [
    "yfinance_tools = [get_openweathermap_tool(), get_internet_search_tool(), get_wikipedia_tool()]\n",
    "prompt_template = \"Use the right tool to answer the following question. If wikipedia_tool delivers no result use internet_search: {input}\"\n",
    "\n",
    "input = {\"input\": \"Who was George Washington?\"}\n",
    "invoke_cohere_with_tools(input, yfinance_tools, prompt_template)\n",
    "\n",
    "input = {\"input\": \"What's the weather like in Mortugaba, Bahia, Brazil?\"}\n",
    "invoke_cohere_with_tools(input, yfinance_tools, prompt_template)\n",
    "\n",
    "input = {\"input\": \"Whats in the news today?\"}\n",
    "invoke_cohere_with_tools(input, yfinance_tools, prompt_template)"
   ]
  },
  {
   "cell_type": "markdown",
   "metadata": {},
   "source": [
    "## Yfinance Tools"
   ]
  },
  {
   "cell_type": "code",
   "execution_count": 3,
   "metadata": {},
   "outputs": [],
   "source": [
    "yfinance_tools = [get_business_summary_tool(),get_ticker_history_tool(), get_ticker_info_tool()]"
   ]
  },
  {
   "cell_type": "markdown",
   "metadata": {},
   "source": [
    "### Business Summary Tool"
   ]
  },
  {
   "cell_type": "code",
   "execution_count": 12,
   "metadata": {},
   "outputs": [
    {
     "ename": "KeyError",
     "evalue": "'tools'",
     "output_type": "error",
     "traceback": [
      "\u001b[1;31m---------------------------------------------------------------------------\u001b[0m",
      "\u001b[1;31mKeyError\u001b[0m                                  Traceback (most recent call last)",
      "Cell \u001b[1;32mIn[12], line 3\u001b[0m\n\u001b[0;32m      1\u001b[0m prompt_template_summary \u001b[38;5;241m=\u001b[39m \u001b[38;5;124m\"\u001b[39m\u001b[38;5;124mGive me a business summary for \u001b[39m\u001b[38;5;132;01m{ticker}\u001b[39;00m\u001b[38;5;124m.\u001b[39m\u001b[38;5;124m\"\u001b[39m \n\u001b[0;32m      2\u001b[0m \u001b[38;5;28minput\u001b[39m \u001b[38;5;241m=\u001b[39m {\u001b[38;5;124m\"\u001b[39m\u001b[38;5;124mticker\u001b[39m\u001b[38;5;124m\"\u001b[39m: \u001b[38;5;124m\"\u001b[39m\u001b[38;5;124mMSFT\u001b[39m\u001b[38;5;124m\"\u001b[39m}\n\u001b[1;32m----> 3\u001b[0m \u001b[43minvoke_cohere_with_tools\u001b[49m\u001b[43m(\u001b[49m\u001b[38;5;28;43minput\u001b[39;49m\u001b[38;5;241;43m=\u001b[39;49m\u001b[38;5;28;43minput\u001b[39;49m\u001b[43m,\u001b[49m\u001b[43mtools\u001b[49m\u001b[38;5;241;43m=\u001b[39;49m\u001b[43myfinance_tools\u001b[49m\u001b[43m,\u001b[49m\u001b[43mprompt_template\u001b[49m\u001b[38;5;241;43m=\u001b[39;49m\u001b[43mprompt_template_summary\u001b[49m\u001b[43m)\u001b[49m\n",
      "Cell \u001b[1;32mIn[9], line 5\u001b[0m, in \u001b[0;36minvoke_cohere_with_tools\u001b[1;34m(input, tools, prompt_template, no_markdown)\u001b[0m\n\u001b[0;32m      3\u001b[0m prompt \u001b[38;5;241m=\u001b[39m ChatPromptTemplate\u001b[38;5;241m.\u001b[39mfrom_template(prompt_template)\n\u001b[0;32m      4\u001b[0m agent \u001b[38;5;241m=\u001b[39m create_cohere_react_agent(llm, tools, prompt)\n\u001b[1;32m----> 5\u001b[0m agent_executor \u001b[38;5;241m=\u001b[39m \u001b[43mAgentExecutor\u001b[49m\u001b[43m(\u001b[49m\u001b[43magent\u001b[49m\u001b[38;5;241;43m=\u001b[39;49m\u001b[43magent\u001b[49m\u001b[43m,\u001b[49m\u001b[43m \u001b[49m\u001b[43mtools\u001b[49m\u001b[38;5;241;43m=\u001b[39;49m\u001b[43mtools\u001b[49m\u001b[43m,\u001b[49m\u001b[43m \u001b[49m\u001b[43mverbose\u001b[49m\u001b[38;5;241;43m=\u001b[39;49m\u001b[38;5;28;43;01mTrue\u001b[39;49;00m\u001b[43m)\u001b[49m\n\u001b[0;32m      6\u001b[0m response \u001b[38;5;241m=\u001b[39m agent_executor\u001b[38;5;241m.\u001b[39minvoke(\u001b[38;5;28minput\u001b[39m)\n\u001b[0;32m      7\u001b[0m \u001b[38;5;28;01mif\u001b[39;00m no_markdown:\n",
      "File \u001b[1;32mc:\\App\\Anaconda\\envs\\cohere\\Lib\\site-packages\\pydantic\\v1\\main.py:339\u001b[0m, in \u001b[0;36mBaseModel.__init__\u001b[1;34m(__pydantic_self__, **data)\u001b[0m\n\u001b[0;32m    333\u001b[0m \u001b[38;5;250m\u001b[39m\u001b[38;5;124;03m\"\"\"\u001b[39;00m\n\u001b[0;32m    334\u001b[0m \u001b[38;5;124;03mCreate a new model by parsing and validating input data from keyword arguments.\u001b[39;00m\n\u001b[0;32m    335\u001b[0m \n\u001b[0;32m    336\u001b[0m \u001b[38;5;124;03mRaises ValidationError if the input data cannot be parsed to form a valid model.\u001b[39;00m\n\u001b[0;32m    337\u001b[0m \u001b[38;5;124;03m\"\"\"\u001b[39;00m\n\u001b[0;32m    338\u001b[0m \u001b[38;5;66;03m# Uses something other than `self` the first arg to allow \"self\" as a settable attribute\u001b[39;00m\n\u001b[1;32m--> 339\u001b[0m values, fields_set, validation_error \u001b[38;5;241m=\u001b[39m \u001b[43mvalidate_model\u001b[49m\u001b[43m(\u001b[49m\u001b[43m__pydantic_self__\u001b[49m\u001b[38;5;241;43m.\u001b[39;49m\u001b[38;5;18;43m__class__\u001b[39;49m\u001b[43m,\u001b[49m\u001b[43m \u001b[49m\u001b[43mdata\u001b[49m\u001b[43m)\u001b[49m\n\u001b[0;32m    340\u001b[0m \u001b[38;5;28;01mif\u001b[39;00m validation_error:\n\u001b[0;32m    341\u001b[0m     \u001b[38;5;28;01mraise\u001b[39;00m validation_error\n",
      "File \u001b[1;32mc:\\App\\Anaconda\\envs\\cohere\\Lib\\site-packages\\pydantic\\v1\\main.py:1100\u001b[0m, in \u001b[0;36mvalidate_model\u001b[1;34m(model, input_data, cls)\u001b[0m\n\u001b[0;32m   1098\u001b[0m     \u001b[38;5;28;01mcontinue\u001b[39;00m\n\u001b[0;32m   1099\u001b[0m \u001b[38;5;28;01mtry\u001b[39;00m:\n\u001b[1;32m-> 1100\u001b[0m     values \u001b[38;5;241m=\u001b[39m \u001b[43mvalidator\u001b[49m\u001b[43m(\u001b[49m\u001b[43mcls_\u001b[49m\u001b[43m,\u001b[49m\u001b[43m \u001b[49m\u001b[43mvalues\u001b[49m\u001b[43m)\u001b[49m\n\u001b[0;32m   1101\u001b[0m \u001b[38;5;28;01mexcept\u001b[39;00m (\u001b[38;5;167;01mValueError\u001b[39;00m, \u001b[38;5;167;01mTypeError\u001b[39;00m, \u001b[38;5;167;01mAssertionError\u001b[39;00m) \u001b[38;5;28;01mas\u001b[39;00m exc:\n\u001b[0;32m   1102\u001b[0m     errors\u001b[38;5;241m.\u001b[39mappend(ErrorWrapper(exc, loc\u001b[38;5;241m=\u001b[39mROOT_KEY))\n",
      "File \u001b[1;32mc:\\App\\Anaconda\\envs\\cohere\\Lib\\site-packages\\langchain\\agents\\agent.py:981\u001b[0m, in \u001b[0;36mAgentExecutor.validate_tools\u001b[1;34m(cls, values)\u001b[0m\n\u001b[0;32m    979\u001b[0m \u001b[38;5;250m\u001b[39m\u001b[38;5;124;03m\"\"\"Validate that tools are compatible with agent.\"\"\"\u001b[39;00m\n\u001b[0;32m    980\u001b[0m agent \u001b[38;5;241m=\u001b[39m values[\u001b[38;5;124m\"\u001b[39m\u001b[38;5;124magent\u001b[39m\u001b[38;5;124m\"\u001b[39m]\n\u001b[1;32m--> 981\u001b[0m tools \u001b[38;5;241m=\u001b[39m \u001b[43mvalues\u001b[49m\u001b[43m[\u001b[49m\u001b[38;5;124;43m\"\u001b[39;49m\u001b[38;5;124;43mtools\u001b[39;49m\u001b[38;5;124;43m\"\u001b[39;49m\u001b[43m]\u001b[49m\n\u001b[0;32m    982\u001b[0m allowed_tools \u001b[38;5;241m=\u001b[39m agent\u001b[38;5;241m.\u001b[39mget_allowed_tools()\n\u001b[0;32m    983\u001b[0m \u001b[38;5;28;01mif\u001b[39;00m allowed_tools \u001b[38;5;129;01mis\u001b[39;00m \u001b[38;5;129;01mnot\u001b[39;00m \u001b[38;5;28;01mNone\u001b[39;00m:\n",
      "\u001b[1;31mKeyError\u001b[0m: 'tools'"
     ]
    }
   ],
   "source": [
    "prompt_template_summary = \"Give me a business summary for {ticker}.\" \n",
    "input = {\"ticker\": \"MSFT\"}\n",
    "invoke_cohere_with_tools(input=input,tools=yfinance_tools,prompt_template=prompt_template_summary)"
   ]
  },
  {
   "cell_type": "markdown",
   "metadata": {},
   "source": [
    "### Ticker History Tool"
   ]
  },
  {
   "cell_type": "code",
   "execution_count": 13,
   "metadata": {},
   "outputs": [
    {
     "name": "stdout",
     "output_type": "stream",
     "text": [
      "\n",
      "\n",
      "\u001b[1m> Entering new AgentExecutor chain...\u001b[0m\n",
      "\u001b[32;1m\u001b[1;3m\n",
      "I will use the yf_get_ticker_history tool to find the performance of AMZN over the last 5 days. I will then write an answer based on the information I find.\n",
      "{'tool_name': 'yf_get_ticker_history', 'parameters': {'ticker_symbol': 'AMZN', 'period': '5d'}}\n",
      "\u001b[0m\u001b[33;1m\u001b[1;3m<table border=\"1\" class=\"dataframe\">\n",
      "  <thead>\n",
      "    <tr style=\"text-align: right;\">\n",
      "      <th></th>\n",
      "      <th>Open</th>\n",
      "      <th>High</th>\n",
      "      <th>Low</th>\n",
      "      <th>Close</th>\n",
      "      <th>Volume</th>\n",
      "      <th>Dividends</th>\n",
      "      <th>Stock Splits</th>\n",
      "    </tr>\n",
      "    <tr>\n",
      "      <th>Date</th>\n",
      "      <th></th>\n",
      "      <th></th>\n",
      "      <th></th>\n",
      "      <th></th>\n",
      "      <th></th>\n",
      "      <th></th>\n",
      "      <th></th>\n",
      "    </tr>\n",
      "  </thead>\n",
      "  <tbody>\n",
      "    <tr>\n",
      "      <th>2024-05-29 00:00:00-04:00</th>\n",
      "      <td>181.699997</td>\n",
      "      <td>184.080002</td>\n",
      "      <td>181.550003</td>\n",
      "      <td>182.020004</td>\n",
      "      <td>32009300</td>\n",
      "      <td>0.0</td>\n",
      "      <td>0.0</td>\n",
      "    </tr>\n",
      "    <tr>\n",
      "      <th>2024-05-30 00:00:00-04:00</th>\n",
      "      <td>181.309998</td>\n",
      "      <td>181.339996</td>\n",
      "      <td>178.360001</td>\n",
      "      <td>179.320007</td>\n",
      "      <td>29249200</td>\n",
      "      <td>0.0</td>\n",
      "      <td>0.0</td>\n",
      "    </tr>\n",
      "    <tr>\n",
      "      <th>2024-05-31 00:00:00-04:00</th>\n",
      "      <td>178.300003</td>\n",
      "      <td>179.210007</td>\n",
      "      <td>173.869995</td>\n",
      "      <td>176.440002</td>\n",
      "      <td>58903900</td>\n",
      "      <td>0.0</td>\n",
      "      <td>0.0</td>\n",
      "    </tr>\n",
      "    <tr>\n",
      "      <th>2024-06-03 00:00:00-04:00</th>\n",
      "      <td>177.699997</td>\n",
      "      <td>178.699997</td>\n",
      "      <td>175.919998</td>\n",
      "      <td>178.339996</td>\n",
      "      <td>30786600</td>\n",
      "      <td>0.0</td>\n",
      "      <td>0.0</td>\n",
      "    </tr>\n",
      "    <tr>\n",
      "      <th>2024-06-04 00:00:00-04:00</th>\n",
      "      <td>177.639999</td>\n",
      "      <td>179.820007</td>\n",
      "      <td>176.440002</td>\n",
      "      <td>179.339996</td>\n",
      "      <td>26177000</td>\n",
      "      <td>0.0</td>\n",
      "      <td>0.0</td>\n",
      "    </tr>\n",
      "  </tbody>\n",
      "</table>\u001b[0m\u001b[32;1m\u001b[1;3mRelevant Documents: 0\n",
      "Cited Documents: 0\n",
      "Answer: Here is the timeseries data for AMZN over the last 5 days:\n",
      "\n",
      "| Date | Open | High | Low | Close | Volume | Dividends | Stock Splits |\n",
      "|---|---|---|---|---|---|---|---|\n",
      "| 2024-05-29 00:00:00-04:00 | 181.699997 | 184.080002 | 181.550003 | 182.020004 | 32009300 | 0.0 | 0.0 |\n",
      "| 2024-05-30 00:00:00-04:00 | 181.309998 | 181.339996 | 178.360001 | 179.320007 | 29249200 | 0.0 | 0.0 |\n",
      "| 2024-05-31 00:00:00-04:00 | 178.300003 | 179.210007 | 173.869995 | 176.440002 | 58903900 | 0.0 | 0.0 |\n",
      "| 2024-06-03 00:00:00-04:00 | 177.699997 | 178.699997 | 175.919998 | 178.339996 | 30786600 | 0.0 | 0.0 |\n",
      "| 2024-06-04 00:00:00-04:00 | 177.639999 | 179.820007 | 176.440002 | 179.339996 | 26177000 | 0.0 | 0.0 |\n",
      "\n",
      "AMZN's performance over the last 5 days has been mixed, with the stock price fluctuating between highs of 184.080002 and lows of 173.869995. The overall performance can be rated as slightly negative, with the stock price closing lower on the last day (179.339996) compared to the first day (182.020004) in the given period.\n",
      "Grounded answer: Here is the timeseries data for AMZN over the last 5 days:\n",
      "\n",
      "| <co: 0>Date</co: 0> | <co: 0>Open</co: 0> | <co: 0>High</co: 0> | <co: 0>Low</co: 0> | <co: 0>Close</co: 0> | <co: 0>Volume</co: 0> | <co: 0>Dividends</co: 0> | <co: 0>Stock Splits</co: 0> |\n",
      "|---|---|---|---|---|---|---|---|\n",
      "| <co: 0>2024-05-29 00:00:00-04:00</co: 0> | <co: 0>181.699997</co: 0> | <co: 0>184.080002</co: 0> | <co: 0>181.550003</co: 0> | <co: 0>182.020004</co: 0> | <co: 0>32009300</co: 0> | <co: 0>0.0</co: 0> | <co: 0>0.0</co: 0> |\n",
      "| <co: 0>2024-05-30 00:00:00-04:00</co: 0> | <co: 0>181.309998</co: 0> | <co: 0>181.339996</co: 0> | <co: 0>178.360001</co: 0> | <co: 0>179.320007</co: 0> | <co: 0>29249200</co: 0> | <co: 0>0.0</co: 0> | <co: 0>0.0</co: 0> |\n",
      "| <co: 0>2024-05-31 00:00:00-04:00</co: 0> | <co: 0>178.300003</co: 0> | <co: 0>179.210007</co: 0> | <co: 0>173.869995</co: 0> | <co: 0>176.440002</co: 0> | <co: 0>58903900</co: 0> | <co: 0>0.0</co: 0> | <co: 0>0.0</co: 0> |\n",
      "| <co: 0>2024-06-03 00:00:00-04:00</co: 0> | <co: 0>177.699997</co: 0> | <co: 0>178.699997</co: 0> | <co: 0>175.919998</co: 0> | <co: 0>178.339996</co: 0> | <co: 0>30786600</co: 0> | <co: 0>0.0</co: 0> | <co: 0>0.0</co: 0> |\n",
      "| <co: 0>2024-06-04 00:00:00-04:00</co: 0> | <co: 0>177.639999</co: 0> | <co: 0>179.820007</co: 0> | <co: 0>176.440002</co: 0> | <co: 0>179.339996</co: 0> | <co: 0>26177000</co: 0> | <co: 0>0.0</co: 0> | <co: 0>0.0</co: 0> |\n",
      "\n",
      "AMZN's performance over the last 5 days has been mixed, with the stock price fluctuating between highs of <co: 0>184.080002</co: 0> and lows of <co: 0>173.869995</co: 0>. The overall performance can be rated as slightly negative, with the stock price closing lower on the last day <co: 0>(179.339996</co: 0>) compared to the first day <co: 0>(182.020004</co: 0>) in the given period.\u001b[0m\n",
      "\n",
      "\u001b[1m> Finished chain.\u001b[0m\n"
     ]
    },
    {
     "data": {
      "text/html": [
       "<p>Here is the timeseries data for AMZN over the last 5 days:</p>\n",
       "<p>| Date | Open | High | Low | Close | Volume | Dividends | Stock Splits |\n",
       "|---|---|---|---|---|---|---|---|\n",
       "| 2024-05-29 00:00:00-04:00 | 181.699997 | 184.080002 | 181.550003 | 182.020004 | 32009300 | 0.0 | 0.0 |\n",
       "| 2024-05-30 00:00:00-04:00 | 181.309998 | 181.339996 | 178.360001 | 179.320007 | 29249200 | 0.0 | 0.0 |\n",
       "| 2024-05-31 00:00:00-04:00 | 178.300003 | 179.210007 | 173.869995 | 176.440002 | 58903900 | 0.0 | 0.0 |\n",
       "| 2024-06-03 00:00:00-04:00 | 177.699997 | 178.699997 | 175.919998 | 178.339996 | 30786600 | 0.0 | 0.0 |\n",
       "| 2024-06-04 00:00:00-04:00 | 177.639999 | 179.820007 | 176.440002 | 179.339996 | 26177000 | 0.0 | 0.0 |</p>\n",
       "<p>AMZN's performance over the last 5 days has been mixed, with the stock price fluctuating between highs of 184.080002 and lows of 173.869995. The overall performance can be rated as slightly negative, with the stock price closing lower on the last day (179.339996) compared to the first day (182.020004) in the given period.</p>"
      ],
      "text/plain": [
       "<IPython.core.display.HTML object>"
      ]
     },
     "metadata": {},
     "output_type": "display_data"
    }
   ],
   "source": [
    "prompt_template_history = \"How did {ticker} perform the last {period}? Show the timeseries in a dataframe and calculate and rate the performance.\"\n",
    "ticker = 'AMZN'\n",
    "period = '5d'\n",
    "input = {\"ticker\": {ticker}, \"period\": {period}}\n",
    "invoke_cohere_with_tools(input=input, tools=yfinance_tools,prompt_template=prompt_template_history)"
   ]
  },
  {
   "cell_type": "markdown",
   "metadata": {},
   "source": [
    "### Ticker Info Tool with Investment Rating"
   ]
  },
  {
   "cell_type": "code",
   "execution_count": 19,
   "metadata": {},
   "outputs": [
    {
     "name": "stdout",
     "output_type": "stream",
     "text": [
      "\n",
      "\n",
      "\u001b[1m> Entering new AgentExecutor chain...\u001b[0m\n",
      "\u001b[32;1m\u001b[1;3m\n",
      "I will search for 'AMSC' and then write an answer based on the information I find.\n",
      "{'tool_name': 'yf_get_ticker_info', 'parameters': {'ticker_symbol': 'AMSC'}}\n",
      "\u001b[0m\u001b[36;1m\u001b[1;3m{'address1': '114 East Main Street', 'city': 'Ayer', 'state': 'MA', 'zip': '01432', 'country': 'United States', 'phone': '978 842 3000', 'fax': '978 842 3024', 'website': 'https://www.amsc.com', 'industry': 'Specialty Industrial Machinery', 'industryKey': 'specialty-industrial-machinery', 'industryDisp': 'Specialty Industrial Machinery', 'sector': 'Industrials', 'sectorKey': 'industrials', 'sectorDisp': 'Industrials', 'longBusinessSummary': \"American Superconductor Corporation, together with its subsidiaries, provides megawatt-scale power resiliency solutions worldwide. The company operates through Grid and Wind segments. The Grid segment offers products and services that enable electric utilities, industrial facilities, and renewable energy project developers to connect, transmit, and distribute power under the Gridtec Solutions brand. It provides transmission planning services, which identify power grid congestion, poor power quality, and other risks; grid interconnection solutions for wind farms and solar power plants, power quality systems, and transmission and distribution cable systems; D-VAR systems used for controlling power flow and voltage in the AC transmission system; actiVAR system, a fast-switching medium-voltage reactive compensation solution; armorVAR system installed for reactive compensation, power factor correction, loss reduction, utility bill savings, and mitigation of common power quality concerns related to power converter-based generation and load devices; and D-VAR volt var optimization (VVO) that serves the distribution power grid market. This segment also offers ship protection systems, which reduce a naval ship's magnetic signature; and ON board power delivery systems, power generation systems, and propulsion systems; and transformers and rectifiers systems. The Wind segment designs wind turbine systems and licenses these designs to third parties under the Windtec Solutions brand. It also supplies power electronics and software-based control systems, engineered designs, and support services; and provides customer support services to wind turbine manufacturers. This segment's design portfolio comprises a range of drivetrains and power ratings of 2 megawatts and higher. American Superconductor Corporation was incorporated in 1987 and is headquartered in Ayer, Massachusetts.\", 'companyOfficers': [{'maxAge': 1, 'name': 'Mr. Daniel Patrick McGahn', 'age': 52, 'title': 'Chairman, President & CEO', 'yearBorn': 1971, 'fiscalYear': 2023, 'totalPay': 811776, 'exercisedValue': 0, 'unexercisedValue': 0}, {'maxAge': 1, 'name': 'Mr. John W. Kosiba Jr.', 'age': 50, 'title': 'CFO, Senior VP & Treasurer', 'yearBorn': 1973, 'fiscalYear': 2023, 'totalPay': 481545, 'exercisedValue': 0, 'unexercisedValue': 0}, {'maxAge': 1, 'name': 'John R. Samia', 'title': 'Secretary', 'fiscalYear': 2023, 'exercisedValue': 0, 'unexercisedValue': 0}], 'auditRisk': 6, 'boardRisk': 6, 'compensationRisk': 9, 'shareHolderRightsRisk': 2, 'overallRisk': 6, 'governanceEpochDate': 1717200000, 'compensationAsOfEpochDate': 1703980800, 'irWebsite': 'http://ir.amsc.com/', 'maxAge': 86400, 'priceHint': 2, 'previousClose': 20.77, 'open': 20.49, 'dayLow': 19.41, 'dayHigh': 21.19, 'regularMarketPreviousClose': 20.77, 'regularMarketOpen': 20.49, 'regularMarketDayLow': 19.41, 'regularMarketDayHigh': 21.19, 'forwardPE': 65.71875, 'volume': 1313239, 'regularMarketVolume': 1313239, 'averageVolume': 520309, 'averageVolume10days': 1303420, 'averageDailyVolume10Day': 1303420, 'bid': 20.98, 'ask': 21.05, 'bidSize': 200, 'askSize': 100, 'marketCap': 777994368, 'fiftyTwoWeekLow': 5.25, 'fiftyTwoWeekHigh': 21.19, 'priceToSalesTrailing12Months': 5.3419366, 'fiftyDayAverage': 13.82, 'twoHundredDayAverage': 10.8763, 'currency': 'USD', 'enterpriseValue': 690181696, 'profitMargins': -0.076290004, 'floatShares': 32639892, 'sharesOutstanding': 36994500, 'sharesShort': 1850417, 'sharesShortPriorMonth': 2163328, 'sharesShortPreviousMonthDate': 1713139200, 'dateShortInterest': 1715731200, 'sharesPercentSharesOut': 0.050100002, 'heldPercentInsiders': 0.04301, 'heldPercentInstitutions': 0.63358, 'shortRatio': 6.35, 'shortPercentOfFloat': 0.052699998, 'impliedSharesOutstanding': 36994500, 'bookValue': 3.913, 'priceToBook': 5.374393, 'lastFiscalYearEnd': 1711843200, 'nextFiscalYearEnd': 1743379200, 'mostRecentQuarter': 1711843200, 'netIncomeToCommon': -11111000, 'trailingEps': -0.37, 'forwardEps': 0.32, 'pegRatio': 13.85, 'lastSplitFactor': '1:10', 'lastSplitDate': 1427241600, 'enterpriseToRevenue': 4.739, 'enterpriseToEbitda': -351.059, '52WeekChange': 2.4933555, 'SandP52WeekChange': 0.23990989, 'exchange': 'NMS', 'quoteType': 'EQUITY', 'symbol': 'AMSC', 'underlyingSymbol': 'AMSC', 'shortName': 'American Superconductor Corpora', 'longName': 'American Superconductor Corporation', 'firstTradeDateEpochUtc': 692548200, 'timeZoneFullName': 'America/New_York', 'timeZoneShortName': 'EDT', 'uuid': '79297ca2-495a-373f-8171-080f8a91fccf', 'messageBoardId': 'finmb_34933', 'gmtOffSetMilliseconds': -14400000, 'currentPrice': 21.03, 'targetHighPrice': 23.0, 'targetLowPrice': 20.0, 'targetMeanPrice': 22.0, 'targetMedianPrice': 23.0, 'recommendationMean': 1.7, 'recommendationKey': 'buy', 'numberOfAnalystOpinions': 3, 'totalCash': 90522000, 'totalCashPerShare': 2.447, 'ebitda': -1966000, 'totalDebt': 2709000, 'quickRatio': 1.483, 'currentRatio': 2.112, 'totalRevenue': 145639008, 'debtToEquity': 1.874, 'revenuePerShare': 4.883, 'returnOnAssets': -0.01978, 'returnOnEquity': -0.098170005, 'freeCashflow': 1232500, 'operatingCashflow': 2138000, 'revenueGrowth': 0.324, 'grossMargins': 0.24226, 'ebitdaMargins': -0.0135, 'operatingMargins': -0.00849, 'financialCurrency': 'USD', 'trailingPegRatio': None}\u001b[0m\u001b[32;1m\u001b[1;3mRelevant Documents: 0\n",
      "Cited Documents: 0\n",
      "Answer: ## Key figures:\n",
      "- Previous close: 20.77\n",
      "- Open: 20.49\n",
      "- Day low: 19.41\n",
      "- Day high: 21.19\n",
      "- 52-week low: 5.25\n",
      "- 52-week high: 21.19\n",
      "- Price-to-sales trailing 12 months: 5.34\n",
      "- Fifty-day average: 13.82\n",
      "- Two-hundred-day average: 10.88\n",
      "- Market cap: $777,994,368\n",
      "- Price-to-book: 5.37\n",
      "- Net income to common: -$11,111,000\n",
      "- Trailing EPS: -0.37\n",
      "- Forward EPS: 0.32\n",
      "- PEG ratio: 13.85\n",
      "- Enterprise value: $690,181,696\n",
      "- Profit margins: -7.63%\n",
      "- Float shares: 32,639,892\n",
      "- Shares outstanding: 36,994,500\n",
      "- Shares short: 1,850,417\n",
      "- Short ratio: 6.35\n",
      "- Quick ratio: 1.48\n",
      "- Current ratio: 2.11\n",
      "- Total revenue: $145,639,008\n",
      "- Debt-to-equity: 1.87\n",
      "- Revenue per share: $4.88\n",
      "- Return on assets: -1.98%\n",
      "- Return on equity: -9.82%\n",
      "- Free cash flow: $1,232,500\n",
      "- Operating cash flow: $2,138,000\n",
      "- Revenue growth: 32.4%\n",
      "- Gross margins: 24.23%\n",
      "- EBITDA margins: -1.35%\n",
      "- Operating margins: -0.85%\n",
      "\n",
      "## Technical indicators:\n",
      "- 52-week change: 249.34%\n",
      "- S&P 500 52-week change: 23.99%\n",
      "- Current price: 21.03\n",
      "- Target high price: 23.00\n",
      "- Target low price: 20.00\n",
      "- Target mean price: 22.00\n",
      "- Target median price: 23.00\n",
      "- Recommendation mean: 1.7\n",
      "- Recommendation key: buy\n",
      "- Number of analyst opinions: 3\n",
      "\n",
      "## Analysis:\n",
      "American Superconductor Corporation (AMSC) is a company that provides megawatt-scale power resiliency solutions worldwide. It operates through two segments: Grid and Wind. The Grid segment offers products and services for power transmission, distribution, and grid interconnection, while the Wind segment designs wind turbine systems and licenses these designs to third parties. \n",
      "\n",
      "In terms of financial performance, AMSC has seen strong revenue growth of 32.4% and has a healthy gross margin of 24.23%. However, the company is currently unprofitable, with a net income of -$11,111,000 and a profit margin of -7.63%. AMSC also has a negative return on assets and return on equity, indicating that it is not efficiently utilising its assets and generating returns for shareholders. \n",
      "\n",
      "From a technical perspective, the stock has performed well over the past year, with a 52-week change of 249.34%, significantly outpacing the S&P 500's 23.99% change. The current price of $21.03 is close to the 52-week high of $21.19, indicating that the stock may be overbought in the short term. \n",
      "\n",
      "Overall, AMSC appears to be a speculative investment. While it has strong revenue growth and gross margins, its lack of profitability and negative returns on assets and equity are concerning. The stock may be overbought in the short term, but it could still have potential for long-term growth if the company can improve its bottom line. Therefore, it may be a good buy for investors with a higher risk tolerance and a long-term investment horizon.\n",
      "Grounded answer: ## Key figures:\n",
      "- <co: 0>Previous close: 20.77</co: 0>\n",
      "- <co: 0>Open: 20.49</co: 0>\n",
      "- <co: 0>Day low: 19.41</co: 0>\n",
      "- <co: 0>Day high: 21.19</co: 0>\n",
      "- <co: 0>52-week low: 5.25</co: 0>\n",
      "- <co: 0>52-week high: 21.19</co: 0>\n",
      "- <co: 0>Price-to-sales trailing 12 months: 5.34</co: 0>\n",
      "- <co: 0>Fifty-day average: 13.82</co: 0>\n",
      "- <co: 0>Two-hundred-day average: 10.88</co: 0>\n",
      "- <co: 0>Market cap: $777,994,368</co: 0>\n",
      "- <co: 0>Price-to-book: 5.37</co: 0>\n",
      "- <co: 0>Net income to common: -$11,111,000</co: 0>\n",
      "- <co: 0>Trailing EPS: -0.37</co: 0>\n",
      "- <co: 0>Forward EPS: 0.32</co: 0>\n",
      "- <co: 0>PEG ratio: 13.85</co: 0>\n",
      "- <co: 0>Enterprise value: $690,181,696</co: 0>\n",
      "- <co: 0>Profit margins: -7.63</co: 0>%\n",
      "- <co: 0>Float shares: 32,639,892</co: 0>\n",
      "- <co: 0>Shares outstanding: 36,994,500</co: 0>\n",
      "- <co: 0>Shares short: 1,850,417</co: 0>\n",
      "- <co: 0>Short ratio: 6.35</co: 0>\n",
      "- <co: 0>Quick ratio: 1.48</co: 0>\n",
      "- <co: 0>Current ratio: 2.11</co: 0>\n",
      "- <co: 0>Total revenue: $145,639,008</co: 0>\n",
      "- <co: 0>Debt-to-equity: 1.87</co: 0>\n",
      "- <co: 0>Revenue per share: $4.88</co: 0>\n",
      "- <co: 0>Return on assets: -1.98</co: 0>%\n",
      "- <co: 0>Return on equity: -9.82</co: 0>%\n",
      "- <co: 0>Free cash flow: $1,232,500</co: 0>\n",
      "- <co: 0>Operating cash flow: $2,138,000</co: 0>\n",
      "- <co: 0>Revenue growth: 32.4</co: 0>%\n",
      "- <co: 0>Gross margins: 24.23</co: 0>%\n",
      "- <co: 0>EBITDA margins: -1.35</co: 0>%\n",
      "- <co: 0>Operating margins: -0.85</co: 0>%\n",
      "\n",
      "## Technical indicators:\n",
      "- <co: 0>52-week change: 249.34</co: 0>%\n",
      "- <co: 0>S&P 500 52-week change: 23.99</co: 0>%\n",
      "- <co: 0>Current price: 21.03</co: 0>\n",
      "- <co: 0>Target high price: 23.00</co: 0>\n",
      "- <co: 0>Target low price: 20.00</co: 0>\n",
      "- <co: 0>Target mean price: 22.00</co: 0>\n",
      "- <co: 0>Target median price: 23.00</co: 0>\n",
      "- <co: 0>Recommendation mean: 1.7</co: 0>\n",
      "- <co: 0>Recommendation key: buy</co: 0>\n",
      "- <co: 0>Number of analyst opinions: 3</co: 0>\n",
      "\n",
      "## Analysis:\n",
      "American Superconductor Corporation <co: 0>(AMSC</co: 0>) is a company that provides <co: 0>megawatt-scale power resiliency solutions worldwide</co: 0>. It operates through two segments: <co: 0>Grid and Wind</co: 0>. The <co: 0>Grid segment offers products and services for power transmission, distribution, and grid interconnection</co: 0>, while the <co: 0>Wind segment designs wind turbine systems and licenses these designs to third parties</co: 0>. \n",
      "\n",
      "In terms of financial performance, AMSC has seen <co: 0>strong revenue growth of 32.4% and has a healthy gross margin of 24.23%.</co: 0> However, the company is <co: 0>currently unprofitable, with a net income of -$11,111,000 and a profit margin of -7.63</co: 0>%. AMSC also has a <co: 0>negative return on assets and return on equity, indicating that it is not efficiently utilising its assets and generating returns for shareholders</co: 0>. \n",
      "\n",
      "From a technical perspective, the stock has performed well over the past year, with a <co: 0>52-week change of 249.34%, significantly outpacing the S&P 500's 23.99% change</co: 0>. The <co: 0>current price of $21.03 is close to the 52-week high of $21.19, indicating that the stock may be overbought in the short term</co: 0>. \n",
      "\n",
      "Overall, AMSC appears to be a speculative investment. While it has strong revenue growth and gross margins, its lack of profitability and negative returns on assets and equity are concerning. The stock may be overbought in the short term, but it could still have potential for long-term growth if the company can improve its bottom line. Therefore, it may be a good buy for investors with a higher risk tolerance and a long-term investment horizon.\u001b[0m\n",
      "\n",
      "\u001b[1m> Finished chain.\u001b[0m\n"
     ]
    },
    {
     "data": {
      "text/html": [
       "<h2>Key figures:</h2>\n",
       "<ul>\n",
       "<li>Previous close: 20.77</li>\n",
       "<li>Open: 20.49</li>\n",
       "<li>Day low: 19.41</li>\n",
       "<li>Day high: 21.19</li>\n",
       "<li>52-week low: 5.25</li>\n",
       "<li>52-week high: 21.19</li>\n",
       "<li>Price-to-sales trailing 12 months: 5.34</li>\n",
       "<li>Fifty-day average: 13.82</li>\n",
       "<li>Two-hundred-day average: 10.88</li>\n",
       "<li>Market cap: $777,994,368</li>\n",
       "<li>Price-to-book: 5.37</li>\n",
       "<li>Net income to common: -$11,111,000</li>\n",
       "<li>Trailing EPS: -0.37</li>\n",
       "<li>Forward EPS: 0.32</li>\n",
       "<li>PEG ratio: 13.85</li>\n",
       "<li>Enterprise value: $690,181,696</li>\n",
       "<li>Profit margins: -7.63%</li>\n",
       "<li>Float shares: 32,639,892</li>\n",
       "<li>Shares outstanding: 36,994,500</li>\n",
       "<li>Shares short: 1,850,417</li>\n",
       "<li>Short ratio: 6.35</li>\n",
       "<li>Quick ratio: 1.48</li>\n",
       "<li>Current ratio: 2.11</li>\n",
       "<li>Total revenue: $145,639,008</li>\n",
       "<li>Debt-to-equity: 1.87</li>\n",
       "<li>Revenue per share: $4.88</li>\n",
       "<li>Return on assets: -1.98%</li>\n",
       "<li>Return on equity: -9.82%</li>\n",
       "<li>Free cash flow: $1,232,500</li>\n",
       "<li>Operating cash flow: $2,138,000</li>\n",
       "<li>Revenue growth: 32.4%</li>\n",
       "<li>Gross margins: 24.23%</li>\n",
       "<li>EBITDA margins: -1.35%</li>\n",
       "<li>Operating margins: -0.85%</li>\n",
       "</ul>\n",
       "<h2>Technical indicators:</h2>\n",
       "<ul>\n",
       "<li>52-week change: 249.34%</li>\n",
       "<li>S&amp;P 500 52-week change: 23.99%</li>\n",
       "<li>Current price: 21.03</li>\n",
       "<li>Target high price: 23.00</li>\n",
       "<li>Target low price: 20.00</li>\n",
       "<li>Target mean price: 22.00</li>\n",
       "<li>Target median price: 23.00</li>\n",
       "<li>Recommendation mean: 1.7</li>\n",
       "<li>Recommendation key: buy</li>\n",
       "<li>Number of analyst opinions: 3</li>\n",
       "</ul>\n",
       "<h2>Analysis:</h2>\n",
       "<p>American Superconductor Corporation (AMSC) is a company that provides megawatt-scale power resiliency solutions worldwide. It operates through two segments: Grid and Wind. The Grid segment offers products and services for power transmission, distribution, and grid interconnection, while the Wind segment designs wind turbine systems and licenses these designs to third parties. </p>\n",
       "<p>In terms of financial performance, AMSC has seen strong revenue growth of 32.4% and has a healthy gross margin of 24.23%. However, the company is currently unprofitable, with a net income of -$11,111,000 and a profit margin of -7.63%. AMSC also has a negative return on assets and return on equity, indicating that it is not efficiently utilising its assets and generating returns for shareholders. </p>\n",
       "<p>From a technical perspective, the stock has performed well over the past year, with a 52-week change of 249.34%, significantly outpacing the S&amp;P 500's 23.99% change. The current price of $21.03 is close to the 52-week high of $21.19, indicating that the stock may be overbought in the short term. </p>\n",
       "<p>Overall, AMSC appears to be a speculative investment. While it has strong revenue growth and gross margins, its lack of profitability and negative returns on assets and equity are concerning. The stock may be overbought in the short term, but it could still have potential for long-term growth if the company can improve its bottom line. Therefore, it may be a good buy for investors with a higher risk tolerance and a long-term investment horizon.</p>"
      ],
      "text/plain": [
       "<IPython.core.display.HTML object>"
      ]
     },
     "metadata": {},
     "output_type": "display_data"
    }
   ],
   "source": [
    "prompt_template_ticker_info = \"\"\"I need detailed information about {ticker_symbol}. Produce a key value list for the 25 most important {topics} using CRLF before each point.\n",
    "                                 After that analyze the fundamental and technical data and rate the company. Is it a good buy? Is it oversold or overbought? Is it a stable investment\n",
    "                                 with a good sharpe ratio?\"\"\"\n",
    "yfinance_tools = [get_ticker_info_tool()]\n",
    "input = {\"ticker_symbol\": \"AMSC\", \"topics\": \"key figures, technical indicators and analyst recommendations\"}\n",
    "\n",
    "invoke_cohere_with_tools(input=input, tools=yfinance_tools, prompt_template=prompt_template_ticker_info)"
   ]
  },
  {
   "cell_type": "markdown",
   "metadata": {},
   "source": [
    "## Alpha Vantage Tool"
   ]
  },
  {
   "cell_type": "code",
   "execution_count": 16,
   "metadata": {},
   "outputs": [
    {
     "name": "stdout",
     "output_type": "stream",
     "text": [
      "\n",
      "\n",
      "\u001b[1m> Entering new AgentExecutor chain...\u001b[0m\n",
      "\u001b[32;1m\u001b[1;3m\n",
      "I will use the currency conversion tool to find out how much one USD is in EUR.\n",
      "{'tool_name': 'av_get_exchange_rate', 'parameters': {'from_currency': 'USD', 'to_currency': 'EUR'}}\n",
      "\u001b[0m\u001b[36;1m\u001b[1;3m{'Realtime Currency Exchange Rate': {'1. From_Currency Code': 'USD', '2. From_Currency Name': 'United States Dollar', '3. To_Currency Code': 'EUR', '4. To_Currency Name': 'Euro', '5. Exchange Rate': '0.91900000', '6. Last Refreshed': '2024-06-05 04:32:35', '7. Time Zone': 'UTC', '8. Bid Price': '0.91890000', '9. Ask Price': '0.91900000'}}\u001b[0m\n",
      "\u001b[32;1m\u001b[1;3m\u001b[0m\n",
      "\n",
      "\u001b[1m> Finished chain.\u001b[0m\n",
      "{'Realtime Currency Exchange Rate': {'1. From_Currency Code': 'USD', '2. From_Currency Name': 'United States Dollar', '3. To_Currency Code': 'EUR', '4. To_Currency Name': 'Euro', '5. Exchange Rate': '0.91900000', '6. Last Refreshed': '2024-06-05 04:32:35', '7. Time Zone': 'UTC', '8. Bid Price': '0.91890000', '9. Ask Price': '0.91900000'}}\n"
     ]
    }
   ],
   "source": [
    "yfinance_tools = [\n",
    "    # get_search_symbol_tool(),\n",
    "    get_exchange_rate_tool(),\n",
    "    # get_time_series_daily_tool(),\n",
    "    # get_time_series_weekly_tool(),\n",
    "    # get_market_news_sentimen_tool(),\n",
    "    # get_top_gainers_losers_tool(),\n",
    "]\n",
    "# alpha_vantage = AlphaVantageAPIWrapper()\n",
    "# alpha_vantage._get_exchange_rate(\"USD\", \"JPY\")\n",
    "# alpha_vantage._get_time_series_daily(\"MSFT\")\n",
    "# alpha_vantage._get_time_series_weekly(\"IBM\")\n",
    "# alpha_vantage.search_symbols(\"American Superconductor\")\n",
    "# alpha_vantage._get_market_news_sentiment(\"Microsoft\")\n",
    "# alpha_vantage._get_top_gainers_losers()\n",
    "# response = agent_executor.invoke(\n",
    "#     {\"input\": \"What is the symbol for American Superconductor?\"}\n",
    "# )\n",
    "input = {\"input\": \"How much is one USD in EUR?\"}\n",
    "invoke_cohere_with_tools(input, yfinance_tools, no_markdown= True)\n",
    "# response = agent_executor.invoke({\"input\": \"Who are the gainers and losers at the stock exchange?\"})\n",
    "# response = agent_executor.invoke({\"input\": \"How is Microsoft performing historically?\"})\n",
    "# response = agent_executor.invoke({\"input\": \"How did Apple perform the last time?\"})\n",
    "# response = agent_executor.invoke({\"input\": \"What is in the news about Nvidia?\"})"
   ]
  },
  {
   "cell_type": "markdown",
   "metadata": {},
   "source": [
    "## Polygon Toolkit"
   ]
  },
  {
   "cell_type": "markdown",
   "metadata": {},
   "source": [
    "### Polygon Tools"
   ]
  },
  {
   "cell_type": "code",
   "execution_count": 4,
   "metadata": {},
   "outputs": [
    {
     "data": {
      "text/html": [
       "<h1>polygon_aggregates</h1>\n",
       "\n",
       "<h2>Description</h2>\n",
       "<p>A wrapper around Polygon's Aggregates API. This tool is useful for fetching aggregate bars (stock prices) for a ticker. Input should be the ticker, date range, timespan, and timespan multiplier that you want to get the aggregate bars for.</p>\n",
       "<h2>Schema</h2>\n",
       "<p>{'title': 'PolygonAggregatesSchema', 'description': 'Input for PolygonAggregates.', 'type': 'object', 'properties': {'ticker': {'title': 'Ticker', 'description': 'The ticker symbol to fetch aggregates for.', 'type': 'string'}, 'timespan': {'title': 'Timespan', 'description': \"The size of the time window. Possible values are: second, minute, hour, day, week, month, quarter, year. Default is 'day'\", 'type': 'string'}, 'timespan_multiplier': {'title': 'Timespan Multiplier', 'description': \"The number of timespans to aggregate. For example, if timespan is 'day' and timespan_multiplier is 1, the result will be daily bars. If timespan is 'day' and timespan_multiplier is 5, the result will be weekly bars.  Default is 1.\", 'type': 'integer'}, 'from_date': {'title': 'From Date', 'description': 'The start of the aggregate time window. Either a date with the format YYYY-MM-DD or a millisecond timestamp.', 'type': 'string'}, 'to_date': {'title': 'To Date', 'description': 'The end of the aggregate time window. Either a date with the format YYYY-MM-DD or a millisecond timestamp.', 'type': 'string'}}, 'required': ['ticker', 'timespan', 'timespan_multiplier', 'from_date', 'to_date']}</p>"
      ],
      "text/plain": [
       "<IPython.core.display.HTML object>"
      ]
     },
     "metadata": {},
     "output_type": "display_data"
    },
    {
     "data": {
      "text/html": [
       "<h1>polygon_last_quote</h1>\n",
       "\n",
       "<h2>Description</h2>\n",
       "<p>A wrapper around Polygon's Last Quote API. This tool is useful for fetching the latest price of a stock. Input should be the ticker that you want to query the last price quote for.</p>\n",
       "<h2>Schema</h2>\n",
       "<p>{'title': 'Inputs', 'description': \"Inputs for Polygon's Last Quote API\", 'type': 'object', 'properties': {'query': {'title': 'Query', 'type': 'string'}}, 'required': ['query']}</p>"
      ],
      "text/plain": [
       "<IPython.core.display.HTML object>"
      ]
     },
     "metadata": {},
     "output_type": "display_data"
    },
    {
     "data": {
      "text/html": [
       "<h1>polygon_ticker_news</h1>\n",
       "\n",
       "<h2>Description</h2>\n",
       "<p>A wrapper around Polygon's Ticker News API. This tool is useful for fetching the latest news for a stock. Input should be the ticker that you want to get the latest news for.</p>\n",
       "<h2>Schema</h2>\n",
       "<p>{'title': 'Inputs', 'description': \"Inputs for Polygon's Ticker News API\", 'type': 'object', 'properties': {'query': {'title': 'Query', 'type': 'string'}}, 'required': ['query']}</p>"
      ],
      "text/plain": [
       "<IPython.core.display.HTML object>"
      ]
     },
     "metadata": {},
     "output_type": "display_data"
    },
    {
     "data": {
      "text/html": [
       "<h1>polygon_financials</h1>\n",
       "\n",
       "<h2>Description</h2>\n",
       "<p>A wrapper around Polygon's Stock Financials API. This tool is useful for fetching fundamental financials from balance sheets, income statements, and cash flow statements for a stock ticker. The input should be the ticker that you want to get the latest fundamental financial data for.</p>\n",
       "<h2>Schema</h2>\n",
       "<p>{'title': 'Inputs', 'description': \"Inputs for Polygon's Financials API\", 'type': 'object', 'properties': {'query': {'title': 'Query', 'type': 'string'}}, 'required': ['query']}</p>"
      ],
      "text/plain": [
       "<IPython.core.display.HTML object>"
      ]
     },
     "metadata": {},
     "output_type": "display_data"
    }
   ],
   "source": [
    "polygon = PolygonAPIWrapper()\n",
    "toolkit = PolygonToolkit.from_polygon_api_wrapper(polygon)\n",
    "polygon_tools = toolkit.get_tools()\n",
    "for tool in polygon_tools:\n",
    "    schema = str(tool.args_schema.schema())\n",
    "    tool_documentation = f\"<h1>{tool.name}</h1>\\n\\n<h2>Description</h2>{tool.description}\\n\\n<h2>Schema</h2>{schema}\"\n",
    "    display(HTML(markdown.markdown(tool_documentation)))"
   ]
  },
  {
   "cell_type": "markdown",
   "metadata": {},
   "source": [
    "### Aggregates"
   ]
  },
  {
   "cell_type": "code",
   "execution_count": 92,
   "metadata": {},
   "outputs": [],
   "source": [
    "# Poloygon is called with the correct arguments but this produces an API error\n",
    "# input = {\"input\": \"How did MSFT perform the last 5 days?\"}\n",
    "# invoke_cohere_with_tools(tools=tools,input=input)"
   ]
  },
  {
   "cell_type": "code",
   "execution_count": 93,
   "metadata": {},
   "outputs": [
    {
     "name": "stdout",
     "output_type": "stream",
     "text": [
      "[{\"v\": 73450582.0, \"vw\": 179.0322, \"o\": 179.55, \"c\": 179.66, \"h\": 180.53, \"l\": 177.38, \"t\": 1709269200000, \"n\": 911077}, {\"v\": 81505451.0, \"vw\": 174.8938, \"o\": 176.15, \"c\": 175.1, \"h\": 176.9, \"l\": 173.79, \"t\": 1709528400000, \"n\": 1167166}, {\"v\": 94702355.0, \"vw\": 170.3234, \"o\": 170.76, \"c\": 170.12, \"h\": 172.04, \"l\": 169.62, \"t\": 1709614800000, \"n\": 1108820}, {\"v\": 68568907.0, \"vw\": 169.5506, \"o\": 171.06, \"c\": 169.12, \"h\": 171.24, \"l\": 168.68, \"t\": 1709701200000, \"n\": 896297}, {\"v\": 71763761.0, \"vw\": 169.3619, \"o\": 169.15, \"c\": 169, \"h\": 170.73, \"l\": 168.49, \"t\": 1709787600000, \"n\": 825405}, {\"v\": 76267041.0, \"vw\": 171.5322, \"o\": 169, \"c\": 170.73, \"h\": 173.7, \"l\": 168.94, \"t\": 1709874000000, \"n\": 925213}]\n"
     ]
    }
   ],
   "source": [
    "from langchain_community.tools.polygon.aggregates import PolygonAggregates\n",
    "from langchain_community.tools.polygon.financials import PolygonFinancials\n",
    "from langchain_community.tools.polygon.last_quote import PolygonLastQuote\n",
    "from langchain_community.tools.polygon.ticker_news import PolygonTickerNews\n",
    "from langchain_community.utilities.polygon import PolygonAPIWrapper\n",
    "from langchain_community.tools.polygon.aggregates import PolygonAggregatesSchema\n",
    "\n",
    "api_wrapper = PolygonAPIWrapper()\n",
    "ticker = \"AAPL\"\n",
    "\n",
    "# Define param\n",
    "params = PolygonAggregatesSchema(\n",
    "    ticker=ticker,\n",
    "    timespan=\"day\",\n",
    "    timespan_multiplier=1,\n",
    "    from_date=\"2024-03-01\",\n",
    "    to_date=\"2024-03-08\",\n",
    ")\n",
    "# Get aggregates for ticker\n",
    "aggregates_tool = PolygonAggregates(api_wrapper=api_wrapper)\n",
    "aggregates = aggregates_tool.run(tool_input=params.dict())\n",
    "print(aggregates)"
   ]
  },
  {
   "cell_type": "markdown",
   "metadata": {},
   "source": [
    "### Last Quote"
   ]
  },
  {
   "cell_type": "code",
   "execution_count": 94,
   "metadata": {},
   "outputs": [],
   "source": [
    "# Works only with premium subscription at Polygon\n",
    "# input = {\"input\": \"What is the end of day price for MSFT?\"}\n",
    "# invoke_cohere_with_tools(tools=polygon_tools,input=input)"
   ]
  },
  {
   "cell_type": "markdown",
   "metadata": {},
   "source": [
    "### Ticker News Sentiment"
   ]
  },
  {
   "cell_type": "code",
   "execution_count": 15,
   "metadata": {},
   "outputs": [
    {
     "name": "stdout",
     "output_type": "stream",
     "text": [
      "\n",
      "\n",
      "\u001b[1m> Entering new AgentExecutor chain...\u001b[0m\n",
      "\u001b[32;1m\u001b[1;3m\n",
      "I will search for news sentiment for AMSC and then rate the sentiment based on the news.\n",
      "{'tool_name': 'polygon_ticker_news', 'parameters': {'query': 'AMSC'}}\n",
      "\u001b[0m\u001b[38;5;200m\u001b[1;3m[{\"id\": \"IaogJOBz1n-HOyXl9XlsGiM0pyYByQrDejQF2yEZ-mc\", \"publisher\": {\"name\": \"The Motley Fool\", \"homepage_url\": \"https://www.fool.com/\", \"logo_url\": \"https://s3.polygon.io/public/assets/news/logos/themotleyfool.svg\", \"favicon_url\": \"https://s3.polygon.io/public/assets/news/favicons/themotleyfool.ico\"}, \"title\": \"Why American Superconductor Stock Shocked Investors on Thursday\", \"author\": \"newsfeedback@fool.com (Rich Smith)\", \"published_utc\": \"2024-05-30T15:46:51Z\", \"article_url\": \"https://www.fool.com/investing/2024/05/30/why-american-superconductor-stock-shocked-investor/\", \"tickers\": [\"AMSC\"], \"image_url\": \"https://g.foolcdn.com/editorial/images/779058/1-glowing-green-stock-arrow-climbs-on-a-stock-screen.jpg\", \"description\": \"AMSC isn't a profitable company yet, but it's moving in the right direction.\", \"keywords\": [\"investing\"]}, {\"id\": \"ZjCrr03mBZW31WfkkiNkqbt1zqzUfFBMY6jyklebIXg\", \"publisher\": {\"name\": \"Zacks Investment Research\", \"homepage_url\": \"https://www.zacks.com/\", \"logo_url\": \"https://s3.polygon.io/public/assets/news/logos/zacks.png\", \"favicon_url\": \"https://s3.polygon.io/public/assets/news/favicons/zacks.ico\"}, \"title\": \"American Superconductor (AMSC) Q4 Earnings and Revenues Surpass Estimates\", \"author\": \"Zacks Equity Research\", \"published_utc\": \"2024-05-29T21:35:03Z\", \"article_url\": \"https://www.zacks.com/stock/news/2280916/american-superconductor-amsc-q4-earnings-and-revenues-surpass-estimates\", \"tickers\": [\"AMSC\", \"CAMP\"], \"amp_url\": \"https://www.zacks.com/amp/stock/news/2280916/american-superconductor-amsc-q4-earnings-and-revenues-surpass-estimates\", \"image_url\": \"https://staticx-tuner.zacks.com/images/default_article_images/default6.jpg\", \"description\": \"American Superconductor (AMSC) delivered earnings and revenue surprises of 266.67% and 14.36%, respectively, for the quarter ended March 2024. Do the numbers hold clues to what lies ahead for the stock?\"}, {\"id\": \"LSzizSKQGDEFywrEtfieFT0lwasEKFrFWVeNmCVN0ss\", \"publisher\": {\"name\": \"GlobeNewswire Inc.\", \"homepage_url\": \"https://www.globenewswire.com\", \"logo_url\": \"https://s3.polygon.io/public/assets/news/logos/globenewswire.svg\", \"favicon_url\": \"https://s3.polygon.io/public/assets/news/favicons/globenewswire.ico\"}, \"title\": \"AMSC Reports Fourth Quarter and Fiscal Year 2023 Financial Results and Provides Business Outlook\", \"author\": \"AMSC\", \"published_utc\": \"2024-05-29T20:15:00Z\", \"article_url\": \"https://www.globenewswire.com/news-release/2024/05/29/2890286/18367/en/AMSC-Reports-Fourth-Quarter-and-Fiscal-Year-2023-Financial-Results-and-Provides-Business-Outlook.html\", \"tickers\": [\"AMSC\"], \"amp_url\": \"https://www.globenewswire.com/news-release/2024/05/29/2890286/18367/en/AMSC-Reports-Fourth-Quarter-and-Fiscal-Year-2023-Financial-Results-and-Provides-Business-Outlook.html\", \"image_url\": \"https://ml.globenewswire.com/Resource/Download/0e483fa1-6200-4860-bb83-7ad0f5c228e8\", \"description\": \"Business Highlights:\", \"keywords\": [\"Earnings Releases and Operating Results\"]}, {\"id\": \"pPFSFixg-uK1k0ydu9b0JBGyzPR9-k_46YyOIW0BunQ\", \"publisher\": {\"name\": \"The Motley Fool\", \"homepage_url\": \"https://www.fool.com/\", \"logo_url\": \"https://s3.polygon.io/public/assets/news/logos/themotleyfool.svg\", \"favicon_url\": \"https://s3.polygon.io/public/assets/news/favicons/themotleyfool.ico\"}, \"title\": \"U.S. Clean Energy Stocks Pop, But Will It Last?\", \"author\": \"newsfeedback@fool.com (Travis Hoium)\", \"published_utc\": \"2024-05-24T19:53:00Z\", \"article_url\": \"https://www.fool.com/investing/2024/05/24/us-clean-energy-stocks-but-will-it-last/\", \"tickers\": [\"BE\", \"AMSC\", \"LI\"], \"image_url\": \"https://g.foolcdn.com/editorial/images/778547/hydrogen-assets.jpg\", \"description\": \"Will tariffs and AI give clean energy a boost?\", \"keywords\": [\"investing\"]}, {\"id\": \"cG3tMjRioPkf3s55Z6-i1sqTw4D_ic1g8iOW3TYmbnE\", \"publisher\": {\"name\": \"GlobeNewswire Inc.\", \"homepage_url\": \"https://www.globenewswire.com\", \"logo_url\": \"https://s3.polygon.io/public/assets/news/logos/globenewswire.svg\", \"favicon_url\": \"https://s3.polygon.io/public/assets/news/favicons/globenewswire.ico\"}, \"title\": \"AMSC to Report Fourth Quarter and Fiscal Year 2023 Financial Results on May 29, 2024\", \"author\": \"AMSC\", \"published_utc\": \"2024-05-23T20:05:00Z\", \"article_url\": \"https://www.globenewswire.com/news-release/2024/05/23/2887628/18367/en/AMSC-to-Report-Fourth-Quarter-and-Fiscal-Year-2023-Financial-Results-on-May-29-2024.html\", \"tickers\": [\"AMSC\"], \"amp_url\": \"https://www.globenewswire.com/news-release/2024/05/23/2887628/18367/en/AMSC-to-Report-Fourth-Quarter-and-Fiscal-Year-2023-Financial-Results-on-May-29-2024.html\", \"image_url\": \"https://ml.globenewswire.com/Resource/Download/0e483fa1-6200-4860-bb83-7ad0f5c228e8\", \"description\": \"AYER, Mass., May  23, 2024  (GLOBE NEWSWIRE) -- AMSC\\u00ae (NASDAQ: AMSC), a leading system provider of megawatt-scale power resiliency solutions that orchestrate the rhythm and harmony of power on the grid\\u2122 and protect and expand the capability of our Navy\\u2019s fleet, announced today that it plans to release its fourth quarter and fiscal year 2023 financial results after the market close on Wednesday, May 29, 2024. In conjunction with this announcement, AMSC management will participate in a conference call with investors and covering analysts beginning at 10:00 a.m. Eastern Time on Thursday, May 30, 2024. On this call, management will discuss the Company\\u2019s recent accomplishments, financial results, and business outlook.\", \"keywords\": [\"Calendar of Events\"]}, {\"id\": \"YZbiXDxAQx-VB0w1VVs-TdxW6QmS7aBaQGw7aBN44c8\", \"publisher\": {\"name\": \"Zacks Investment Research\", \"homepage_url\": \"https://www.zacks.com/\", \"logo_url\": \"https://s3.polygon.io/public/assets/news/logos/zacks.png\", \"favicon_url\": \"https://s3.polygon.io/public/assets/news/favicons/zacks.ico\"}, \"title\": \"Ondas Holdings Inc. (ONDS) Reports Q1 Loss, Misses Revenue Estimates\", \"author\": \"Zacks Equity Research\", \"published_utc\": \"2024-05-15T13:05:03Z\", \"article_url\": \"https://www.zacks.com/stock/news/2274007/ondas-holdings-inc-onds-reports-q1-loss-misses-revenue-estimates\", \"tickers\": [\"ONDS\", \"AMSC\"], \"amp_url\": \"https://www.zacks.com/amp/stock/news/2274007/ondas-holdings-inc-onds-reports-q1-loss-misses-revenue-estimates\", \"image_url\": \"https://staticx-tuner.zacks.com/images/default_article_images/default43.jpg\", \"description\": \"Ondas (ONDS) delivered earnings and revenue surprises of -6.25% and 82.49%, respectively, for the quarter ended March 2024. Do the numbers hold clues to what lies ahead for the stock?\"}, {\"id\": \"H6JDFoaqv9YZa0k4EkUz42WzJhVQVQ4l8GAqJVoZ7XQ\", \"publisher\": {\"name\": \"Zacks Investment Research\", \"homepage_url\": \"https://www.zacks.com/\", \"logo_url\": \"https://s3.polygon.io/public/assets/news/logos/zacks.png\", \"favicon_url\": \"https://s3.polygon.io/public/assets/news/favicons/zacks.ico\"}, \"title\": \"Vishay Precision (VPG) Q1 Earnings Beat Estimates\", \"author\": \"Zacks Equity Research\", \"published_utc\": \"2024-05-07T11:25:02Z\", \"article_url\": \"https://www.zacks.com/stock/news/2269274/vishay-precision-vpg-q1-earnings-beat-estimates\", \"tickers\": [\"VPG\", \"AMSC\"], \"amp_url\": \"https://www.zacks.com/amp/stock/news/2269274/vishay-precision-vpg-q1-earnings-beat-estimates\", \"image_url\": \"https://staticx-tuner.zacks.com/images/default_article_images/default2.jpg\", \"description\": \"Vishay (VPG) delivered earnings and revenue surprises of 31.25% and 3.53%, respectively, for the quarter ended March 2024. Do the numbers hold clues to what lies ahead for the stock?\"}, {\"id\": \"M8ptEjrwmDe8TVo57B-Xs8Pd4qZat-vZnDnUTRtkDtE\", \"publisher\": {\"name\": \"Zacks Investment Research\", \"homepage_url\": \"https://www.zacks.com/\", \"logo_url\": \"https://s3.polygon.io/public/assets/news/logos/zacks.png\", \"favicon_url\": \"https://s3.polygon.io/public/assets/news/favicons/zacks.ico\"}, \"title\": \"Barnes (B) Expands East Granby MRO Facility for Engine Projects\", \"author\": \"Zacks Equity Research\", \"published_utc\": \"2024-04-11T14:05:00Z\", \"article_url\": \"https://www.zacks.com/stock/news/2254007/barnes-b-expands-east-granby-mro-facility-for-engine-projects\", \"tickers\": [\"TGI\", \"AMSC\", \"ESE\", \"B\"], \"amp_url\": \"https://www.zacks.com/amp/stock/news/2254007/barnes-b-expands-east-granby-mro-facility-for-engine-projects\", \"image_url\": \"https://staticx-tuner.zacks.com/images/articles/main/39/2343.jpg\", \"description\": \"The expansion of Barnes' (B) MRO facility in East Granby will bolster its capability to cater to solid demand for existing and new engine programs.\"}, {\"id\": \"R6rdfzqYN2hdxkD_nDJuadYPL92_CmlDIZVHXBUBAp8\", \"publisher\": {\"name\": \"Zacks Investment Research\", \"homepage_url\": \"https://www.zacks.com/\", \"logo_url\": \"https://s3.polygon.io/public/assets/news/logos/zacks.png\", \"favicon_url\": \"https://s3.polygon.io/public/assets/news/favicons/zacks.ico\"}, \"title\": \"Are Computer and Technology Stocks Lagging  American Superconductor (AMSC) This Year?\", \"author\": \"Zacks Equity Research\", \"published_utc\": \"2024-03-18T13:40:10Z\", \"article_url\": \"https://www.zacks.com/stock/news/2242140/are-computer-and-technology-stocks-lagging-american-superconductor-amsc-this-year\", \"tickers\": [\"AMSC\", \"ABNB\"], \"amp_url\": \"https://www.zacks.com/amp/stock/news/2242140/are-computer-and-technology-stocks-lagging-american-superconductor-amsc-this-year\", \"image_url\": \"https://staticx-tuner.zacks.com/images/default_article_images/default8.jpg\", \"description\": \"Here is how American Superconductor (AMSC) and Airbnb, Inc. (ABNB) have performed compared to their sector so far this year.\"}, {\"id\": \"IeLjILcwQMwAL3nIwqUEpfHZhGIja1SiM31UsYK_pGM\", \"publisher\": {\"name\": \"Zacks Investment Research\", \"homepage_url\": \"https://www.zacks.com/\", \"logo_url\": \"https://s3.polygon.io/public/assets/news/logos/zacks.png\", \"favicon_url\": \"https://s3.polygon.io/public/assets/news/favicons/zacks.ico\"}, \"title\": \"American Superconductor (AMSC) Is a Great Choice for 'Trend' Investors, Here's Why\", \"author\": \"Zacks Equity Research\", \"published_utc\": \"2024-03-11T12:50:05Z\", \"article_url\": \"https://www.zacks.com/stock/news/2238472/american-superconductor-amsc-is-a-great-choice-for-trend-investors-heres-why\", \"tickers\": [\"AMSC\"], \"amp_url\": \"https://www.zacks.com/amp/stock/news/2238472/american-superconductor-amsc-is-a-great-choice-for-trend-investors-heres-why\", \"image_url\": \"https://staticx-tuner.zacks.com/images/default_article_images/default20.jpg\", \"description\": \"American Superconductor (AMSC) made it through our \\\"Recent Price Strength\\\" screen and could be a great choice for investors looking to make a profit from stocks that are currently on the move.\"}]\u001b[0m\u001b[32;1m\u001b[1;3mRelevant Documents: 0\n",
      "Cited Documents: 0\n",
      "Answer: The news sentiment for AMSC is positive. The company's fourth-quarter and fiscal year 2023 earnings and revenues surpassed estimates, and it is moving in the right direction, although it is not yet profitable.\n",
      "Grounded answer: The news sentiment for AMSC is positive. The company's <co: 0>fourth-quarter and fiscal year 2023 earnings and revenues surpassed estimates</co: 0>, and it is <co: 0>moving in the right direction</co: 0>, although it is <co: 0>not yet profitable</co: 0>.\u001b[0m\n",
      "\n",
      "\u001b[1m> Finished chain.\u001b[0m\n"
     ]
    },
    {
     "data": {
      "text/html": [
       "<p>The news sentiment for AMSC is positive. The company's fourth-quarter and fiscal year 2023 earnings and revenues surpassed estimates, and it is moving in the right direction, although it is not yet profitable.</p>"
      ],
      "text/plain": [
       "<IPython.core.display.HTML object>"
      ]
     },
     "metadata": {},
     "output_type": "display_data"
    }
   ],
   "source": [
    "prompt_template_av_sentiment = \"What is the news sentiment for {ticker}? Rate the sentiment based on the news and explain your rating.\"\n",
    "ticker = \"AMSC\"\n",
    "input = {\"ticker\": ticker}\n",
    "invoke_cohere_with_tools(tools=polygon_tools,input=input,prompt_template=prompt_template_av_sentiment)"
   ]
  },
  {
   "cell_type": "markdown",
   "metadata": {},
   "source": [
    "### Financials"
   ]
  },
  {
   "cell_type": "code",
   "execution_count": 16,
   "metadata": {},
   "outputs": [
    {
     "name": "stdout",
     "output_type": "stream",
     "text": [
      "\n",
      "\n",
      "\u001b[1m> Entering new AgentExecutor chain...\u001b[0m\n",
      "\u001b[32;1m\u001b[1;3m\n",
      "I will search for AMSC's financials and market value using the polygon_financials tool. I will then write an overview of the company's financial situation in the form of a bullet point list and rate the financial situation of the company.\n",
      "{'tool_name': 'polygon_financials', 'parameters': {'query': 'AMSC'}}\n",
      "\u001b[0m\u001b[36;1m\u001b[1;3m[{\"start_date\": \"2023-04-01\", \"end_date\": \"2024-03-31\", \"filing_date\": \"2024-05-29\", \"acceptance_datetime\": \"2024-05-29T20:35:54Z\", \"timeframe\": \"ttm\", \"fiscal_period\": \"TTM\", \"fiscal_year\": \"2024\", \"cik\": \"0000880807\", \"sic\": \"3621\", \"tickers\": [\"AMSC\", \"FMD\"], \"company_name\": \"AMERICAN SUPERCONDUCTOR CORP /DE/\", \"source_filing_url\": \"https://api.polygon.io/v1/reference/sec/filings/0001437749-24-018602\", \"source_filing_file_url\": \"http://api.polygon.io/v1/reference/sec/filings/0001437749-24-018602/files/amsc20240331_10k_htm.xml\", \"financials\": {\"income_statement\": {\"depreciation_and_amortization\": {\"value\": 4494000.0, \"unit\": \"USD\", \"label\": \"Depreciation and Amortization\", \"order\": 1020}, \"basic_earnings_per_share\": {\"value\": -0.37, \"unit\": \"USD / shares\", \"label\": \"Basic Earnings Per Share\", \"order\": 4200}, \"participating_securities_distributed_and_undistributed_earnings_loss_basic\": {\"value\": 0, \"unit\": \"USD\", \"label\": \"Participating Securities, Distributed And Undistributed Earnings/Loss, Basic\", \"order\": 3800}, \"income_loss_from_continuing_operations_before_tax\": {\"value\": -10802000.0, \"unit\": \"USD\", \"label\": \"Income/Loss From Continuing Operations Before Tax\", \"order\": 1500}, \"net_income_loss_attributable_to_noncontrolling_interest\": {\"value\": 0, \"unit\": \"USD\", \"label\": \"Net Income/Loss Attributable To Noncontrolling Interest\", \"order\": 3300}, \"other_operating_expenses\": {\"value\": 2566000.0, \"unit\": \"USD\", \"label\": \"Other Operating Expenses\", \"order\": 1040}, \"basic_average_shares\": {\"value\": 29825000.0, \"unit\": \"shares\", \"label\": \"Basic Average Shares\", \"order\": 4400}, \"diluted_earnings_per_share\": {\"value\": -0.37, \"unit\": \"USD / shares\", \"label\": \"Diluted Earnings Per Share\", \"order\": 4300}, \"net_income_loss_available_to_common_stockholders_basic\": {\"value\": -11111000.0, \"unit\": \"USD\", \"label\": \"Net Income/Loss Available To Common Stockholders, Basic\", \"order\": 3700}, \"operating_income_loss\": {\"value\": -11368000.0, \"unit\": \"USD\", \"label\": \"Operating Income/Loss\", \"order\": 1100}, \"costs_and_expenses\": {\"value\": 156441000.0, \"unit\": \"USD\", \"label\": \"Costs And Expenses\", \"order\": 600}, \"net_income_loss_attributable_to_parent\": {\"value\": -11111000.0, \"unit\": \"USD\", \"label\": \"Net Income/Loss Attributable To Parent\", \"order\": 3500}, \"net_income_loss\": {\"value\": -11111000.0, \"unit\": \"USD\", \"label\": \"Net Income/Loss\", \"order\": 3200}, \"gross_profit\": {\"value\": 35283000.0, \"unit\": \"USD\", \"label\": \"Gross Profit\", \"order\": 800}, \"selling_general_and_administrative_expenses\": {\"value\": 31600000.0, \"unit\": \"USD\", \"label\": \"Selling, General, and Administrative Expenses\", \"order\": 1010}, \"revenues\": {\"value\": 145639000.0, \"unit\": \"USD\", \"label\": \"Revenues\", \"order\": 100}, \"income_tax_expense_benefit_current\": {\"value\": 244000, \"unit\": \"USD\", \"label\": \"Income Tax Expense/Benefit, Current\", \"order\": 2300}, \"diluted_average_shares\": {\"value\": 29825000.0, \"unit\": \"shares\", \"label\": \"Diluted Average Shares\", \"order\": 4500}, \"operating_expenses\": {\"value\": 46651000.0, \"unit\": \"USD\", \"label\": \"Operating Expenses\", \"order\": 1000}, \"income_tax_expense_benefit_deferred\": {\"value\": 65000, \"unit\": \"USD\", \"label\": \"Income Tax Expense/Benefit, Deferred\", \"order\": 2400}, \"income_loss_from_continuing_operations_after_tax\": {\"value\": -11111000.0, \"unit\": \"USD\", \"label\": \"Income/Loss From Continuing Operations After Tax\", \"order\": 1400}, \"preferred_stock_dividends_and_other_adjustments\": {\"value\": 0, \"unit\": \"USD\", \"label\": \"Preferred Stock Dividends And Other Adjustments\", \"order\": 3900}, \"income_tax_expense_benefit\": {\"value\": 309000, \"unit\": \"USD\", \"label\": \"Income Tax Expense/Benefit\", \"order\": 2200}, \"cost_of_revenue\": {\"value\": 110356000.0, \"unit\": \"USD\", \"label\": \"Cost Of Revenue\", \"order\": 300}, \"research_and_development\": {\"value\": 7991000.0, \"unit\": \"USD\", \"label\": \"Research and Development\", \"order\": 1030}, \"benefits_costs_expenses\": {\"value\": 156441000.0, \"unit\": \"USD\", \"label\": \"Benefits Costs and Expenses\", \"order\": 200}}, \"comprehensive_income\": {\"comprehensive_income_loss_attributable_to_parent\": {\"value\": -11100000.0, \"unit\": \"USD\", \"label\": \"Comprehensive Income/Loss Attributable To Parent\", \"order\": 300}, \"other_comprehensive_income_loss_attributable_to_parent\": {\"value\": 11000, \"unit\": \"USD\", \"label\": \"Other Comprehensive Income/Loss Attributable To Parent\", \"order\": 600}, \"comprehensive_income_loss\": {\"value\": -11100000.0, \"unit\": \"USD\", \"label\": \"Comprehensive Income/Loss\", \"order\": 100}, \"comprehensive_income_loss_attributable_to_noncontrolling_interest\": {\"value\": 0, \"unit\": \"USD\", \"label\": \"Comprehensive Income/Loss Attributable To Noncontrolling Interest\", \"order\": 200}, \"other_comprehensive_income_loss\": {\"value\": -11100000.0, \"unit\": \"USD\", \"label\": \"Other Comprehensive Income/Loss\", \"order\": 400}}, \"cash_flow_statement\": {\"net_cash_flow_from_operating_activities_continuing\": {\"value\": 2138000.0, \"unit\": \"USD\", \"label\": \"Net Cash Flow From Operating Activities, Continuing\", \"order\": 200}, \"net_cash_flow_from_investing_activities_continuing\": {\"value\": -961000, \"unit\": \"USD\", \"label\": \"Net Cash Flow From Investing Activities, Continuing\", \"order\": 500}, \"net_cash_flow_from_operating_activities\": {\"value\": 2138000.0, \"unit\": \"USD\", \"label\": \"Net Cash Flow From Operating Activities\", \"order\": 100}, \"net_cash_flow_from_investing_activities\": {\"value\": -961000, \"unit\": \"USD\", \"label\": \"Net Cash Flow From Investing Activities\", \"order\": 400}, \"net_cash_flow\": {\"value\": 66618000.0, \"unit\": \"USD\", \"label\": \"Net Cash Flow\", \"order\": 1100}, \"net_cash_flow_continuing\": {\"value\": 66618000.0, \"unit\": \"USD\", \"label\": \"Net Cash Flow, Continuing\", \"order\": 1200}, \"net_cash_flow_from_financing_activities\": {\"value\": 65441000.0, \"unit\": \"USD\", \"label\": \"Net Cash Flow From Financing Activities\", \"order\": 700}, \"net_cash_flow_from_financing_activities_continuing\": {\"value\": 65441000.0, \"unit\": \"USD\", \"label\": \"Net Cash Flow From Financing Activities, Continuing\", \"order\": 800}}, \"balance_sheet\": {\"equity\": {\"value\": 144571000.0, \"unit\": \"USD\", \"label\": \"Equity\", \"order\": 1400}, \"noncurrent_assets\": {\"value\": 66304000.0, \"unit\": \"USD\", \"label\": \"Noncurrent Assets\", \"order\": 300}, \"other_current_liabilities\": {\"value\": 64006000.0, \"unit\": \"USD\", \"label\": \"Other Current Liabilities\", \"order\": 740}, \"liabilities\": {\"value\": 88200000.0, \"unit\": \"USD\", \"label\": \"Liabilities\", \"order\": 600}, \"equity_attributable_to_noncontrolling_interest\": {\"value\": 0, \"unit\": \"USD\", \"label\": \"Equity Attributable To Noncontrolling Interest\", \"order\": 1500}, \"other_current_assets\": {\"value\": 124610000.0, \"unit\": \"USD\", \"label\": \"Other Current Assets\", \"order\": 250}, \"current_liabilities\": {\"value\": 78808000.0, \"unit\": \"USD\", \"label\": \"Current Liabilities\", \"order\": 700}, \"intangible_assets\": {\"value\": 6369000.0, \"unit\": \"USD\", \"label\": \"Intangible Assets\", \"order\": 330}, \"other_noncurrent_assets\": {\"value\": 49074000.0, \"unit\": \"USD\", \"label\": \"Other Non-current Assets\", \"order\": 350}, \"inventory\": {\"value\": 41857000.0, \"unit\": \"USD\", \"label\": \"Inventory\", \"order\": 230}, \"noncurrent_liabilities\": {\"value\": 9392000.0, \"unit\": \"USD\", \"label\": \"Noncurrent Liabilities\", \"order\": 800}, \"equity_attributable_to_parent\": {\"value\": 144571000.0, \"unit\": \"USD\", \"label\": \"Equity Attributable To Parent\", \"order\": 1600}, \"liabilities_and_equity\": {\"value\": 232771000.0, \"unit\": \"USD\", \"label\": \"Liabilities And Equity\", \"order\": 1900}, \"fixed_assets\": {\"value\": 10861000.0, \"unit\": \"USD\", \"label\": \"Fixed Assets\", \"order\": 320}, \"assets\": {\"value\": 232771000.0, \"unit\": \"USD\", \"label\": \"Assets\", \"order\": 100}, \"wages\": {\"value\": 10326000.0, \"unit\": \"USD\", \"label\": \"Wages\", \"order\": 730}, \"accounts_payable\": {\"value\": 4476000.0, \"unit\": \"USD\", \"label\": \"Accounts Payable\", \"order\": 710}, \"current_assets\": {\"value\": 166467000.0, \"unit\": \"USD\", \"label\": \"Current Assets\", \"order\": 200}}}}, {\"start_date\": \"2024-01-01\", \"end_date\": \"2024-03-31\", \"timeframe\": \"quarterly\", \"fiscal_period\": \"Q4\", \"fiscal_year\": \"2024\", \"cik\": \"0000880807\", \"sic\": \"3621\", \"tickers\": [\"AMSC\"], \"company_name\": \"AMERICAN SUPERCONDUCTOR CORP /DE/\", \"financials\": {\"balance_sheet\": {\"assets\": {\"value\": 232771000.0, \"unit\": \"USD\", \"label\": \"Assets\", \"order\": 100}, \"equity_attributable_to_parent\": {\"value\": 144571000.0, \"unit\": \"USD\", \"label\": \"Equity Attributable To Parent\", \"order\": 1600}, \"current_assets\": {\"value\": 166467000.0, \"unit\": \"USD\", \"label\": \"Current Assets\", \"order\": 200}, \"other_noncurrent_assets\": {\"value\": 49074000.0, \"unit\": \"USD\", \"label\": \"Other Non-current Assets\", \"order\": 350}, \"liabilities_and_equity\": {\"value\": 232771000.0, \"unit\": \"USD\", \"label\": \"Liabilities And Equity\", \"order\": 1900}, \"accounts_payable\": {\"value\": 4476000.0, \"unit\": \"USD\", \"label\": \"Accounts Payable\", \"order\": 710}, \"equity\": {\"value\": 144571000.0, \"unit\": \"USD\", \"label\": \"Equity\", \"order\": 1400}, \"fixed_assets\": {\"value\": 10861000.0, \"unit\": \"USD\", \"label\": \"Fixed Assets\", \"order\": 320}, \"current_liabilities\": {\"value\": 78808000.0, \"unit\": \"USD\", \"label\": \"Current Liabilities\", \"order\": 700}, \"noncurrent_assets\": {\"value\": 66304000.0, \"unit\": \"USD\", \"label\": \"Noncurrent Assets\", \"order\": 300}, \"liabilities\": {\"value\": 88200000.0, \"unit\": \"USD\", \"label\": \"Liabilities\", \"order\": 600}, \"other_current_liabilities\": {\"value\": 64006000.0, \"unit\": \"USD\", \"label\": \"Other Current Liabilities\", \"order\": 740}, \"noncurrent_liabilities\": {\"value\": 9392000.0, \"unit\": \"USD\", \"label\": \"Noncurrent Liabilities\", \"order\": 800}, \"other_current_assets\": {\"value\": 124610000.0, \"unit\": \"USD\", \"label\": \"Other Current Assets\", \"order\": 250}, \"equity_attributable_to_noncontrolling_interest\": {\"value\": 0, \"unit\": \"USD\", \"label\": \"Equity Attributable To Noncontrolling Interest\", \"order\": 1500}, \"intangible_assets\": {\"value\": 6369000.0, \"unit\": \"USD\", \"label\": \"Intangible Assets\", \"order\": 330}, \"inventory\": {\"value\": 41857000.0, \"unit\": \"USD\", \"label\": \"Inventory\", \"order\": 230}, \"wages\": {\"value\": 10326000.0, \"unit\": \"USD\", \"label\": \"Wages\", \"order\": 730}}, \"income_statement\": {\"cost_of_revenue\": {\"value\": 31597000.0, \"unit\": \"USD\", \"label\": \"Cost Of Revenue\", \"order\": 300}, \"income_tax_expense_benefit_deferred\": {\"value\": 62000, \"unit\": \"USD\", \"label\": \"Income Tax Expense/Benefit, Deferred\", \"order\": 2400}, \"revenues\": {\"value\": 42028000.0, \"unit\": \"USD\", \"label\": \"Revenues\", \"order\": 100}, \"income_loss_from_continuing_operations_after_tax\": {\"value\": -11111000.0, \"unit\": \"USD\", \"label\": \"Income/Loss From Continuing Operations After Tax\", \"order\": 1400}, \"income_loss_from_continuing_operations_before_tax\": {\"value\": -11111000.0, \"unit\": \"USD\", \"label\": \"Income/Loss From Continuing Operations Before Tax\", \"order\": 1500}, \"basic_average_shares\": {\"value\": 29825000.0, \"unit\": \"shares\", \"label\": \"Basic Average Shares\", \"order\": 4400}, \"net_income_loss_attributable_to_parent\": {\"value\": -11111000.0, \"unit\": \"USD\", \"label\": \"Net Income/Loss Attributable To Parent\", \"order\": 3500}, \"income_tax_expense_benefit\": {\"value\": 18000, \"unit\": \"USD\", \"label\": \"Income Tax Expense/Benefit\", \"order\": 2200}, \"net_income_loss_attributable_to_noncontrolling_interest\": {\"value\": 0, \"unit\": \"USD\", \"label\": \"Net Income/Loss Attributable To Noncontrolling Interest\", \"order\": 3300}, \"diluted_average_shares\": {\"value\": 29825000.0, \"unit\": \"shares\", \"label\": \"Diluted Average Shares\", \"order\": 4500}, \"net_income_loss\": {\"value\": -11111000.0, \"unit\": \"USD\", \"label\": \"Net Income/Loss\", \"order\": 3200}, \"participating_securities_distributed_and_undistributed_earnings_loss_basic\": {\"value\": 0, \"unit\": \"USD\", \"label\": \"Participating Securities, Distributed And Undistributed Earnings/Loss, Basic\", \"order\": 3800}, \"depreciation_and_amortization\": {\"value\": 1134000.0, \"unit\": \"USD\", \"label\": \"Depreciation and Amortization\", \"order\": 1020}, \"research_and_development\": {\"value\": 2298000.0, \"unit\": \"USD\", \"label\": \"Research and Development\", \"order\": 1030}, \"other_operating_expenses\": {\"value\": 1274000.0, \"unit\": \"USD\", \"label\": \"Other Operating Expenses\", \"order\": 1040}, \"costs_and_expenses\": {\"value\": 43589000.0, \"unit\": \"USD\", \"label\": \"Costs And Expenses\", \"order\": 600}, \"diluted_earnings_per_share\": {\"value\": -0.37, \"unit\": \"USD / shares\", \"label\": \"Diluted Earnings Per Share\", \"order\": 4300}, \"basic_earnings_per_share\": {\"value\": -0.37, \"unit\": \"USD / shares\", \"label\": \"Basic Earnings Per Share\", \"order\": 4200}, \"net_income_loss_available_to_common_stockholders_basic\": {\"value\": -11111000.0, \"unit\": \"USD\", \"label\": \"Net Income/Loss Available To Common Stockholders, Basic\", \"order\": 3700}, \"benefits_costs_expenses\": {\"value\": 43589000.0, \"unit\": \"USD\", \"label\": \"Benefits Costs and Expenses\", \"order\": 200}, \"selling_general_and_administrative_expenses\": {\"value\": 7952000.0, \"unit\": \"USD\", \"label\": \"Selling, General, and Administrative Expenses\", \"order\": 1010}, \"operating_income_loss\": {\"value\": -2227000.0, \"unit\": \"USD\", \"label\": \"Operating Income/Loss\", \"order\": 1100}, \"preferred_stock_dividends_and_other_adjustments\": {\"value\": 0, \"unit\": \"USD\", \"label\": \"Preferred Stock Dividends And Other Adjustments\", \"order\": 3900}, \"operating_expenses\": {\"value\": 12658000.0, \"unit\": \"USD\", \"label\": \"Operating Expenses\", \"order\": 1000}, \"gross_profit\": {\"value\": 10431000.0, \"unit\": \"USD\", \"label\": \"Gross Profit\", \"order\": 800}}, \"comprehensive_income\": {\"other_comprehensive_income_loss\": {\"value\": 0, \"unit\": \"USD\", \"label\": \"Other Comprehensive Income/Loss\", \"order\": 400}, \"comprehensive_income_loss_attributable_to_noncontrolling_interest\": {\"value\": 0, \"unit\": \"USD\", \"label\": \"Comprehensive Income/Loss Attributable To Noncontrolling Interest\", \"order\": 200}, \"other_comprehensive_income_loss_attributable_to_parent\": {\"value\": 55000, \"unit\": \"USD\", \"label\": \"Other Comprehensive Income/Loss Attributable To Parent\", \"order\": 600}, \"comprehensive_income_loss\": {\"value\": -11111000.0, \"unit\": \"USD\", \"label\": \"Comprehensive Income/Loss\", \"order\": 100}, \"comprehensive_income_loss_attributable_to_parent\": {\"value\": -11111000.0, \"unit\": \"USD\", \"label\": \"Comprehensive Income/Loss Attributable To Parent\", \"order\": 300}}, \"cash_flow_statement\": {\"net_cash_flow_from_financing_activities\": {\"value\": 65354000.0, \"unit\": \"USD\", \"label\": \"Net Cash Flow From Financing Activities\", \"order\": 700}, \"net_cash_flow_from_investing_activities_continuing\": {\"value\": -318000, \"unit\": \"USD\", \"label\": \"Net Cash Flow From Investing Activities, Continuing\", \"order\": 500}, \"net_cash_flow_from_operating_activities\": {\"value\": 2235000.0, \"unit\": \"USD\", \"label\": \"Net Cash Flow From Operating Activities\", \"order\": 100}, \"net_cash_flow_from_operating_activities_continuing\": {\"value\": 2235000.0, \"unit\": \"USD\", \"label\": \"Net Cash Flow From Operating Activities, Continuing\", \"order\": 200}, \"net_cash_flow\": {\"value\": 67271000.0, \"unit\": \"USD\", \"label\": \"Net Cash Flow\", \"order\": 1100}, \"net_cash_flow_continuing\": {\"value\": 67271000.0, \"unit\": \"USD\", \"label\": \"Net Cash Flow, Continuing\", \"order\": 1200}, \"net_cash_flow_from_investing_activities\": {\"value\": -318000, \"unit\": \"USD\", \"label\": \"Net Cash Flow From Investing Activities\", \"order\": 400}, \"net_cash_flow_from_financing_activities_continuing\": {\"value\": 65354000.0, \"unit\": \"USD\", \"label\": \"Net Cash Flow From Financing Activities, Continuing\", \"order\": 800}}}}, {\"start_date\": \"2023-04-01\", \"end_date\": \"2024-03-31\", \"filing_date\": \"2024-05-29\", \"acceptance_datetime\": \"2024-05-29T20:35:54Z\", \"timeframe\": \"annual\", \"fiscal_period\": \"FY\", \"fiscal_year\": \"2024\", \"cik\": \"0000880807\", \"sic\": \"3621\", \"tickers\": [\"AMSC\", \"FMD\"], \"company_name\": \"AMERICAN SUPERCONDUCTOR CORP /DE/\", \"source_filing_url\": \"https://api.polygon.io/v1/reference/sec/filings/0001437749-24-018602\", \"source_filing_file_url\": \"http://api.polygon.io/v1/reference/sec/filings/0001437749-24-018602/files/amsc20240331_10k_htm.xml\", \"financials\": {\"balance_sheet\": {\"equity\": {\"value\": 144571000.0, \"unit\": \"USD\", \"label\": \"Equity\", \"order\": 1400}, \"accounts_payable\": {\"value\": 4476000.0, \"unit\": \"USD\", \"label\": \"Accounts Payable\", \"order\": 710}, \"fixed_assets\": {\"value\": 10861000.0, \"unit\": \"USD\", \"label\": \"Fixed Assets\", \"order\": 320}, \"liabilities\": {\"value\": 88200000.0, \"unit\": \"USD\", \"label\": \"Liabilities\", \"order\": 600}, \"current_liabilities\": {\"value\": 78808000.0, \"unit\": \"USD\", \"label\": \"Current Liabilities\", \"order\": 700}, \"equity_attributable_to_parent\": {\"value\": 144571000.0, \"unit\": \"USD\", \"label\": \"Equity Attributable To Parent\", \"order\": 1600}, \"wages\": {\"value\": 10326000.0, \"unit\": \"USD\", \"label\": \"Wages\", \"order\": 730}, \"inventory\": {\"value\": 41857000.0, \"unit\": \"USD\", \"label\": \"Inventory\", \"order\": 230}, \"noncurrent_liabilities\": {\"value\": 9392000.0, \"unit\": \"USD\", \"label\": \"Noncurrent Liabilities\", \"order\": 800}, \"current_assets\": {\"value\": 166467000.0, \"unit\": \"USD\", \"label\": \"Current Assets\", \"order\": 200}, \"other_current_liabilities\": {\"value\": 64006000.0, \"unit\": \"USD\", \"label\": \"Other Current Liabilities\", \"order\": 740}, \"equity_attributable_to_noncontrolling_interest\": {\"value\": 0, \"unit\": \"USD\", \"label\": \"Equity Attributable To Noncontrolling Interest\", \"order\": 1500}, \"noncurrent_assets\": {\"value\": 66304000.0, \"unit\": \"USD\", \"label\": \"Noncurrent Assets\", \"order\": 300}, \"other_noncurrent_assets\": {\"value\": 49074000.0, \"unit\": \"USD\", \"label\": \"Other Non-current Assets\", \"order\": 350}, \"intangible_assets\": {\"value\": 6369000.0, \"unit\": \"USD\", \"label\": \"Intangible Assets\", \"order\": 330}, \"assets\": {\"value\": 232771000.0, \"unit\": \"USD\", \"label\": \"Assets\", \"order\": 100}, \"other_current_assets\": {\"value\": 124610000.0, \"unit\": \"USD\", \"label\": \"Other Current Assets\", \"order\": 250}, \"liabilities_and_equity\": {\"value\": 232771000.0, \"unit\": \"USD\", \"label\": \"Liabilities And Equity\", \"order\": 1900}}, \"income_statement\": {\"depreciation_and_amortization\": {\"value\": 4494000.0, \"unit\": \"USD\", \"label\": \"Depreciation and Amortization\", \"order\": 1020}, \"benefits_costs_expenses\": {\"value\": 156441000.0, \"unit\": \"USD\", \"label\": \"Benefits Costs and Expenses\", \"order\": 200}, \"basic_earnings_per_share\": {\"value\": -0.37, \"unit\": \"USD / shares\", \"label\": \"Basic Earnings Per Share\", \"order\": 4200}, \"research_and_development\": {\"value\": 7991000.0, \"unit\": \"USD\", \"label\": \"Research and Development\", \"order\": 1030}, \"cost_of_revenue\": {\"value\": 110356000.0, \"unit\": \"USD\", \"label\": \"Cost Of Revenue\", \"order\": 300}, \"costs_and_expenses\": {\"value\": 156441000.0, \"unit\": \"USD\", \"label\": \"Costs And Expenses\", \"order\": 600}, \"basic_average_shares\": {\"value\": 29825000.0, \"unit\": \"shares\", \"label\": \"Basic Average Shares\", \"order\": 4400}, \"revenues\": {\"value\": 145639000.0, \"unit\": \"USD\", \"label\": \"Revenues\", \"order\": 100}, \"net_income_loss_attributable_to_parent\": {\"value\": -11111000.0, \"unit\": \"USD\", \"label\": \"Net Income/Loss Attributable To Parent\", \"order\": 3500}, \"income_loss_from_continuing_operations_before_tax\": {\"value\": -10802000.0, \"unit\": \"USD\", \"label\": \"Income/Loss From Continuing Operations Before Tax\", \"order\": 1500}, \"income_tax_expense_benefit_current\": {\"value\": 244000, \"unit\": \"USD\", \"label\": \"Income Tax Expense/Benefit, Current\", \"order\": 2300}, \"net_income_loss_attributable_to_noncontrolling_interest\": {\"value\": 0, \"unit\": \"USD\", \"label\": \"Net Income/Loss Attributable To Noncontrolling Interest\", \"order\": 3300}, \"selling_general_and_administrative_expenses\": {\"value\": 31600000.0, \"unit\": \"USD\", \"label\": \"Selling, General, and Administrative Expenses\", \"order\": 1010}, \"participating_securities_distributed_and_undistributed_earnings_loss_basic\": {\"value\": 0, \"unit\": \"USD\", \"label\": \"Participating Securities, Distributed And Undistributed Earnings/Loss, Basic\", \"order\": 3800}, \"income_tax_expense_benefit\": {\"value\": 309000, \"unit\": \"USD\", \"label\": \"Income Tax Expense/Benefit\", \"order\": 2200}, \"income_loss_from_continuing_operations_after_tax\": {\"value\": -11111000.0, \"unit\": \"USD\", \"label\": \"Income/Loss From Continuing Operations After Tax\", \"order\": 1400}, \"net_income_loss\": {\"value\": -11111000.0, \"unit\": \"USD\", \"label\": \"Net Income/Loss\", \"order\": 3200}, \"preferred_stock_dividends_and_other_adjustments\": {\"value\": 0, \"unit\": \"USD\", \"label\": \"Preferred Stock Dividends And Other Adjustments\", \"order\": 3900}, \"operating_expenses\": {\"value\": 46651000.0, \"unit\": \"USD\", \"label\": \"Operating Expenses\", \"order\": 1000}, \"net_income_loss_available_to_common_stockholders_basic\": {\"value\": -11111000.0, \"unit\": \"USD\", \"label\": \"Net Income/Loss Available To Common Stockholders, Basic\", \"order\": 3700}, \"diluted_average_shares\": {\"value\": 29825000.0, \"unit\": \"shares\", \"label\": \"Diluted Average Shares\", \"order\": 4500}, \"other_operating_expenses\": {\"value\": 2566000.0, \"unit\": \"USD\", \"label\": \"Other Operating Expenses\", \"order\": 1040}, \"income_tax_expense_benefit_deferred\": {\"value\": 65000, \"unit\": \"USD\", \"label\": \"Income Tax Expense/Benefit, Deferred\", \"order\": 2400}, \"gross_profit\": {\"value\": 35283000.0, \"unit\": \"USD\", \"label\": \"Gross Profit\", \"order\": 800}, \"operating_income_loss\": {\"value\": -11368000.0, \"unit\": \"USD\", \"label\": \"Operating Income/Loss\", \"order\": 1100}, \"diluted_earnings_per_share\": {\"value\": -0.37, \"unit\": \"USD / shares\", \"label\": \"Diluted Earnings Per Share\", \"order\": 4300}}, \"cash_flow_statement\": {\"net_cash_flow_continuing\": {\"value\": 66618000.0, \"unit\": \"USD\", \"label\": \"Net Cash Flow, Continuing\", \"order\": 1200}, \"net_cash_flow_from_financing_activities\": {\"value\": 65441000.0, \"unit\": \"USD\", \"label\": \"Net Cash Flow From Financing Activities\", \"order\": 700}, \"net_cash_flow_from_operating_activities_continuing\": {\"value\": 2138000.0, \"unit\": \"USD\", \"label\": \"Net Cash Flow From Operating Activities, Continuing\", \"order\": 200}, \"net_cash_flow_from_investing_activities_continuing\": {\"value\": -961000, \"unit\": \"USD\", \"label\": \"Net Cash Flow From Investing Activities, Continuing\", \"order\": 500}, \"net_cash_flow_from_operating_activities\": {\"value\": 2138000.0, \"unit\": \"USD\", \"label\": \"Net Cash Flow From Operating Activities\", \"order\": 100}, \"net_cash_flow_from_financing_activities_continuing\": {\"value\": 65441000.0, \"unit\": \"USD\", \"label\": \"Net Cash Flow From Financing Activities, Continuing\", \"order\": 800}, \"net_cash_flow\": {\"value\": 66618000.0, \"unit\": \"USD\", \"label\": \"Net Cash Flow\", \"order\": 1100}, \"net_cash_flow_from_investing_activities\": {\"value\": -961000, \"unit\": \"USD\", \"label\": \"Net Cash Flow From Investing Activities\", \"order\": 400}}, \"comprehensive_income\": {\"other_comprehensive_income_loss\": {\"value\": -11100000.0, \"unit\": \"USD\", \"label\": \"Other Comprehensive Income/Loss\", \"order\": 400}, \"comprehensive_income_loss\": {\"value\": -11100000.0, \"unit\": \"USD\", \"label\": \"Comprehensive Income/Loss\", \"order\": 100}, \"comprehensive_income_loss_attributable_to_noncontrolling_interest\": {\"value\": 0, \"unit\": \"USD\", \"label\": \"Comprehensive Income/Loss Attributable To Noncontrolling Interest\", \"order\": 200}, \"comprehensive_income_loss_attributable_to_parent\": {\"value\": -11100000.0, \"unit\": \"USD\", \"label\": \"Comprehensive Income/Loss Attributable To Parent\", \"order\": 300}, \"other_comprehensive_income_loss_attributable_to_parent\": {\"value\": 11000, \"unit\": \"USD\", \"label\": \"Other Comprehensive Income/Loss Attributable To Parent\", \"order\": 600}}}}, {\"start_date\": \"2023-10-01\", \"end_date\": \"2023-12-31\", \"filing_date\": \"2024-01-24\", \"acceptance_datetime\": \"2024-01-24T21:08:28Z\", \"timeframe\": \"quarterly\", \"fiscal_period\": \"Q3\", \"fiscal_year\": \"2024\", \"cik\": \"0000880807\", \"sic\": \"3621\", \"tickers\": [\"AMSC\"], \"company_name\": \"AMERICAN SUPERCONDUCTOR CORP /DE/\", \"source_filing_url\": \"https://api.polygon.io/v1/reference/sec/filings/0001437749-24-002041\", \"source_filing_file_url\": \"http://api.polygon.io/v1/reference/sec/filings/0001437749-24-002041/files/amsc20231231_10q_htm.xml\", \"financials\": {\"balance_sheet\": {\"inventory\": {\"value\": 44197000.0, \"unit\": \"USD\", \"label\": \"Inventory\", \"order\": 230}, \"noncurrent_assets\": {\"value\": 66144000.0, \"unit\": \"USD\", \"label\": \"Noncurrent Assets\", \"order\": 300}, \"wages\": {\"value\": 7385000.0, \"unit\": \"USD\", \"label\": \"Wages\", \"order\": 730}, \"noncurrent_liabilities\": {\"value\": 9267000.0, \"unit\": \"USD\", \"label\": \"Noncurrent Liabilities\", \"order\": 800}, \"other_current_liabilities\": {\"value\": 64299000.0, \"unit\": \"USD\", \"label\": \"Other Current Liabilities\", \"order\": 740}, \"current_liabilities\": {\"value\": 77551000.0, \"unit\": \"USD\", \"label\": \"Current Liabilities\", \"order\": 700}, \"current_assets\": {\"value\": 100199000.0, \"unit\": \"USD\", \"label\": \"Current Assets\", \"order\": 200}, \"other_current_assets\": {\"value\": 56002000.0, \"unit\": \"USD\", \"label\": \"Other Current Assets\", \"order\": 250}, \"accounts_payable\": {\"value\": 5867000.0, \"unit\": \"USD\", \"label\": \"Accounts Payable\", \"order\": 710}, \"fixed_assets\": {\"value\": 11205000.0, \"unit\": \"USD\", \"label\": \"Fixed Assets\", \"order\": 320}, \"assets\": {\"value\": 166343000.0, \"unit\": \"USD\", \"label\": \"Assets\", \"order\": 100}, \"other_noncurrent_assets\": {\"value\": 48032000.0, \"unit\": \"USD\", \"label\": \"Other Non-current Assets\", \"order\": 350}, \"liabilities\": {\"value\": 86818000.0, \"unit\": \"USD\", \"label\": \"Liabilities\", \"order\": 600}, \"intangible_assets\": {\"value\": 6907000.0, \"unit\": \"USD\", \"label\": \"Intangible Assets\", \"order\": 330}, \"equity\": {\"value\": 79525000.0, \"unit\": \"USD\", \"label\": \"Equity\", \"order\": 1400}, \"equity_attributable_to_parent\": {\"value\": 79525000.0, \"unit\": \"USD\", \"label\": \"Equity Attributable To Parent\", \"order\": 1600}, \"liabilities_and_equity\": {\"value\": 166343000.0, \"unit\": \"USD\", \"label\": \"Liabilities And Equity\", \"order\": 1900}, \"equity_attributable_to_noncontrolling_interest\": {\"value\": 0, \"unit\": \"USD\", \"label\": \"Equity Attributable To Noncontrolling Interest\", \"order\": 1500}}, \"income_statement\": {\"gross_profit\": {\"value\": 9984000.0, \"unit\": \"USD\", \"label\": \"Gross Profit\", \"order\": 800}, \"diluted_earnings_per_share\": {\"value\": -0.06, \"unit\": \"USD / shares\", \"label\": \"Diluted Earnings Per Share\", \"order\": 4300}, \"cost_of_revenue\": {\"value\": 29369000.0, \"unit\": \"USD\", \"label\": \"Cost Of Revenue\", \"order\": 300}, \"selling_general_and_administrative_expenses\": {\"value\": 7833000.0, \"unit\": \"USD\", \"label\": \"Selling, General, and Administrative Expenses\", \"order\": 1010}, \"operating_expenses\": {\"value\": 11422000.0, \"unit\": \"USD\", \"label\": \"Operating Expenses\", \"order\": 1000}, \"net_income_loss_available_to_common_stockholders_basic\": {\"value\": -1649000.0, \"unit\": \"USD\", \"label\": \"Net Income/Loss Available To Common Stockholders, Basic\", \"order\": 3700}, \"preferred_stock_dividends_and_other_adjustments\": {\"value\": 0, \"unit\": \"USD\", \"label\": \"Preferred Stock Dividends And Other Adjustments\", \"order\": 3900}, \"net_income_loss\": {\"value\": -1649000.0, \"unit\": \"USD\", \"label\": \"Net Income/Loss\", \"order\": 3200}, \"basic_earnings_per_share\": {\"value\": -0.06, \"unit\": \"USD / shares\", \"label\": \"Basic Earnings Per Share\", \"order\": 4200}, \"operating_income_loss\": {\"value\": -1438000.0, \"unit\": \"USD\", \"label\": \"Operating Income/Loss\", \"order\": 1100}, \"income_loss_from_continuing_operations_after_tax\": {\"value\": -1649000.0, \"unit\": \"USD\", \"label\": \"Income/Loss From Continuing Operations After Tax\", \"order\": 1400}, \"basic_average_shares\": {\"value\": 29092000.0, \"unit\": \"shares\", \"label\": \"Basic Average Shares\", \"order\": 4400}, \"net_income_loss_attributable_to_noncontrolling_interest\": {\"value\": 0, \"unit\": \"USD\", \"label\": \"Net Income/Loss Attributable To Noncontrolling Interest\", \"order\": 3300}, \"participating_securities_distributed_and_undistributed_earnings_loss_basic\": {\"value\": 0, \"unit\": \"USD\", \"label\": \"Participating Securities, Distributed And Undistributed Earnings/Loss, Basic\", \"order\": 3800}, \"income_tax_expense_benefit\": {\"value\": 63000, \"unit\": \"USD\", \"label\": \"Income Tax Expense/Benefit\", \"order\": 2200}, \"diluted_average_shares\": {\"value\": 29092000.0, \"unit\": \"shares\", \"label\": \"Diluted Average Shares\", \"order\": 4500}, \"research_and_development\": {\"value\": 2199000.0, \"unit\": \"USD\", \"label\": \"Research and Development\", \"order\": 1030}, \"other_operating_expenses\": {\"value\": 1390000.0, \"unit\": \"USD\", \"label\": \"Other Operating Expenses\", \"order\": 1040}, \"income_tax_expense_benefit_deferred\": {\"value\": 3000, \"unit\": \"USD\", \"label\": \"Income Tax Expense/Benefit, Deferred\", \"order\": 2400}, \"income_loss_from_continuing_operations_before_tax\": {\"value\": -1586000.0, \"unit\": \"USD\", \"label\": \"Income/Loss From Continuing Operations Before Tax\", \"order\": 1500}, \"net_income_loss_attributable_to_parent\": {\"value\": -1649000.0, \"unit\": \"USD\", \"label\": \"Net Income/Loss Attributable To Parent\", \"order\": 3500}, \"revenues\": {\"value\": 39353000.0, \"unit\": \"USD\", \"label\": \"Revenues\", \"order\": 100}, \"benefits_costs_expenses\": {\"value\": 40939000.0, \"unit\": \"USD\", \"label\": \"Benefits Costs and Expenses\", \"order\": 200}, \"costs_and_expenses\": {\"value\": 40939000.0, \"unit\": \"USD\", \"label\": \"Costs And Expenses\", \"order\": 600}, \"depreciation_and_amortization\": {\"value\": 1126000.0, \"unit\": \"USD\", \"label\": \"Depreciation and Amortization\", \"order\": 1020}}, \"cash_flow_statement\": {\"net_cash_flow\": {\"value\": 1032000.0, \"unit\": \"USD\", \"label\": \"Net Cash Flow\", \"order\": 1100}, \"net_cash_flow_from_financing_activities\": {\"value\": -16000, \"unit\": \"USD\", \"label\": \"Net Cash Flow From Financing Activities\", \"order\": 700}, \"net_cash_flow_continuing\": {\"value\": 1032000.0, \"unit\": \"USD\", \"label\": \"Net Cash Flow, Continuing\", \"order\": 1200}, \"net_cash_flow_from_operating_activities\": {\"value\": 1251000.0, \"unit\": \"USD\", \"label\": \"Net Cash Flow From Operating Activities\", \"order\": 100}, \"net_cash_flow_from_investing_activities_continuing\": {\"value\": -203000, \"unit\": \"USD\", \"label\": \"Net Cash Flow From Investing Activities, Continuing\", \"order\": 500}, \"net_cash_flow_from_financing_activities_continuing\": {\"value\": -16000, \"unit\": \"USD\", \"label\": \"Net Cash Flow From Financing Activities, Continuing\", \"order\": 800}, \"net_cash_flow_from_investing_activities\": {\"value\": -203000, \"unit\": \"USD\", \"label\": \"Net Cash Flow From Investing Activities\", \"order\": 400}, \"net_cash_flow_from_operating_activities_continuing\": {\"value\": 1251000.0, \"unit\": \"USD\", \"label\": \"Net Cash Flow From Operating Activities, Continuing\", \"order\": 200}}, \"comprehensive_income\": {\"comprehensive_income_loss_attributable_to_noncontrolling_interest\": {\"value\": 0, \"unit\": \"USD\", \"label\": \"Comprehensive Income/Loss Attributable To Noncontrolling Interest\", \"order\": 200}, \"other_comprehensive_income_loss\": {\"value\": -1755000.0, \"unit\": \"USD\", \"label\": \"Other Comprehensive Income/Loss\", \"order\": 400}, \"comprehensive_income_loss_attributable_to_parent\": {\"value\": -1755000.0, \"unit\": \"USD\", \"label\": \"Comprehensive Income/Loss Attributable To Parent\", \"order\": 300}, \"comprehensive_income_loss\": {\"value\": -1755000.0, \"unit\": \"USD\", \"label\": \"Comprehensive Income/Loss\", \"order\": 100}, \"other_comprehensive_income_loss_attributable_to_parent\": {\"value\": -106000, \"unit\": \"USD\", \"label\": \"Other Comprehensive Income/Loss Attributable To Parent\", \"order\": 600}}}}, {\"start_date\": \"2023-07-01\", \"end_date\": \"2023-09-30\", \"filing_date\": \"2023-11-01\", \"acceptance_datetime\": \"2023-11-01T20:10:45Z\", \"timeframe\": \"quarterly\", \"fiscal_period\": \"Q2\", \"fiscal_year\": \"2024\", \"cik\": \"0000880807\", \"sic\": \"3621\", \"tickers\": [\"AMSC\"], \"company_name\": \"AMERICAN SUPERCONDUCTOR CORP /DE/\", \"source_filing_url\": \"https://api.polygon.io/v1/reference/sec/filings/0001437749-23-029753\", \"source_filing_file_url\": \"http://api.polygon.io/v1/reference/sec/filings/0001437749-23-029753/files/amsc20230930_10q_htm.xml\", \"financials\": {\"income_statement\": {\"income_tax_expense_benefit\": {\"value\": 106000, \"unit\": \"USD\", \"label\": \"Income Tax Expense/Benefit\", \"order\": 2200}, \"participating_securities_distributed_and_undistributed_earnings_loss_basic\": {\"value\": 0, \"unit\": \"USD\", \"label\": \"Participating Securities, Distributed And Undistributed Earnings/Loss, Basic\", \"order\": 3800}, \"operating_expenses\": {\"value\": 10955000.0, \"unit\": \"USD\", \"label\": \"Operating Expenses\", \"order\": 1000}, \"diluted_average_shares\": {\"value\": 28828000.0, \"unit\": \"shares\", \"label\": \"Diluted Average Shares\", \"order\": 4500}, \"costs_and_expenses\": {\"value\": 36383000.0, \"unit\": \"USD\", \"label\": \"Costs And Expenses\", \"order\": 600}, \"basic_earnings_per_share\": {\"value\": -0.09, \"unit\": \"USD / shares\", \"label\": \"Basic Earnings Per Share\", \"order\": 4200}, \"cost_of_revenue\": {\"value\": 25418000.0, \"unit\": \"USD\", \"label\": \"Cost Of Revenue\", \"order\": 300}, \"income_loss_from_continuing_operations_after_tax\": {\"value\": -2485000.0, \"unit\": \"USD\", \"label\": \"Income/Loss From Continuing Operations After Tax\", \"order\": 1400}, \"net_income_loss\": {\"value\": -2485000.0, \"unit\": \"USD\", \"label\": \"Net Income/Loss\", \"order\": 3200}, \"diluted_earnings_per_share\": {\"value\": -0.09, \"unit\": \"USD / shares\", \"label\": \"Diluted Earnings Per Share\", \"order\": 4300}, \"income_tax_expense_benefit_deferred\": {\"value\": 1000, \"unit\": \"USD\", \"label\": \"Income Tax Expense/Benefit, Deferred\", \"order\": 2400}, \"depreciation_and_amortization\": {\"value\": 1115000.0, \"unit\": \"USD\", \"label\": \"Depreciation and Amortization\", \"order\": 1020}, \"net_income_loss_attributable_to_parent\": {\"value\": -2485000.0, \"unit\": \"USD\", \"label\": \"Net Income/Loss Attributable To Parent\", \"order\": 3500}, \"other_operating_expenses\": {\"value\": 1368000.0, \"unit\": \"USD\", \"label\": \"Other Operating Expenses\", \"order\": 1040}, \"benefits_costs_expenses\": {\"value\": 36383000.0, \"unit\": \"USD\", \"label\": \"Benefits Costs and Expenses\", \"order\": 200}, \"basic_average_shares\": {\"value\": 28828000.0, \"unit\": \"shares\", \"label\": \"Basic Average Shares\", \"order\": 4400}, \"revenues\": {\"value\": 34004000.0, \"unit\": \"USD\", \"label\": \"Revenues\", \"order\": 100}, \"operating_income_loss\": {\"value\": -2369000.0, \"unit\": \"USD\", \"label\": \"Operating Income/Loss\", \"order\": 1100}, \"income_loss_from_continuing_operations_before_tax\": {\"value\": -2379000.0, \"unit\": \"USD\", \"label\": \"Income/Loss From Continuing Operations Before Tax\", \"order\": 1500}, \"gross_profit\": {\"value\": 8586000.0, \"unit\": \"USD\", \"label\": \"Gross Profit\", \"order\": 800}, \"preferred_stock_dividends_and_other_adjustments\": {\"value\": 0, \"unit\": \"USD\", \"label\": \"Preferred Stock Dividends And Other Adjustments\", \"order\": 3900}, \"net_income_loss_attributable_to_noncontrolling_interest\": {\"value\": 0, \"unit\": \"USD\", \"label\": \"Net Income/Loss Attributable To Noncontrolling Interest\", \"order\": 3300}, \"net_income_loss_available_to_common_stockholders_basic\": {\"value\": -2485000.0, \"unit\": \"USD\", \"label\": \"Net Income/Loss Available To Common Stockholders, Basic\", \"order\": 3700}, \"selling_general_and_administrative_expenses\": {\"value\": 7946000.0, \"unit\": \"USD\", \"label\": \"Selling, General, and Administrative Expenses\", \"order\": 1010}, \"research_and_development\": {\"value\": 1641000.0, \"unit\": \"USD\", \"label\": \"Research and Development\", \"order\": 1030}}, \"cash_flow_statement\": {\"net_cash_flow_from_financing_activities\": {\"value\": 120000, \"unit\": \"USD\", \"label\": \"Net Cash Flow From Financing Activities\", \"order\": 700}, \"net_cash_flow_from_investing_activities\": {\"value\": -147000, \"unit\": \"USD\", \"label\": \"Net Cash Flow From Investing Activities\", \"order\": 400}, \"net_cash_flow_from_financing_activities_continuing\": {\"value\": 120000, \"unit\": \"USD\", \"label\": \"Net Cash Flow From Financing Activities, Continuing\", \"order\": 800}, \"net_cash_flow_from_investing_activities_continuing\": {\"value\": -147000, \"unit\": \"USD\", \"label\": \"Net Cash Flow From Investing Activities, Continuing\", \"order\": 500}, \"net_cash_flow_continuing\": {\"value\": 870000, \"unit\": \"USD\", \"label\": \"Net Cash Flow, Continuing\", \"order\": 1200}, \"net_cash_flow_from_operating_activities\": {\"value\": 897000, \"unit\": \"USD\", \"label\": \"Net Cash Flow From Operating Activities\", \"order\": 100}, \"net_cash_flow\": {\"value\": 870000, \"unit\": \"USD\", \"label\": \"Net Cash Flow\", \"order\": 1100}, \"net_cash_flow_from_operating_activities_continuing\": {\"value\": 897000, \"unit\": \"USD\", \"label\": \"Net Cash Flow From Operating Activities, Continuing\", \"order\": 200}}, \"comprehensive_income\": {\"comprehensive_income_loss\": {\"value\": -2485000.0, \"unit\": \"USD\", \"label\": \"Comprehensive Income/Loss\", \"order\": 100}, \"other_comprehensive_income_loss\": {\"value\": 0, \"unit\": \"USD\", \"label\": \"Other Comprehensive Income/Loss\", \"order\": 400}, \"other_comprehensive_income_loss_attributable_to_parent\": {\"value\": 64000, \"unit\": \"USD\", \"label\": \"Other Comprehensive Income/Loss Attributable To Parent\", \"order\": 600}, \"comprehensive_income_loss_attributable_to_noncontrolling_interest\": {\"value\": 0, \"unit\": \"USD\", \"label\": \"Comprehensive Income/Loss Attributable To Noncontrolling Interest\", \"order\": 200}, \"comprehensive_income_loss_attributable_to_parent\": {\"value\": -2421000.0, \"unit\": \"USD\", \"label\": \"Comprehensive Income/Loss Attributable To Parent\", \"order\": 300}}, \"balance_sheet\": {\"other_current_assets\": {\"value\": 56271000.0, \"unit\": \"USD\", \"label\": \"Other Current Assets\", \"order\": 250}, \"liabilities\": {\"value\": 94433000.0, \"unit\": \"USD\", \"label\": \"Liabilities\", \"order\": 600}, \"inventory\": {\"value\": 47835000.0, \"unit\": \"USD\", \"label\": \"Inventory\", \"order\": 230}, \"fixed_assets\": {\"value\": 11583000.0, \"unit\": \"USD\", \"label\": \"Fixed Assets\", \"order\": 320}, \"current_assets\": {\"value\": 104106000.0, \"unit\": \"USD\", \"label\": \"Current Assets\", \"order\": 200}, \"wages\": {\"value\": 6041000.0, \"unit\": \"USD\", \"label\": \"Wages\", \"order\": 730}, \"equity_attributable_to_noncontrolling_interest\": {\"value\": 0, \"unit\": \"USD\", \"label\": \"Equity Attributable To Noncontrolling Interest\", \"order\": 1500}, \"equity_attributable_to_parent\": {\"value\": 76894000.0, \"unit\": \"USD\", \"label\": \"Equity Attributable To Parent\", \"order\": 1600}, \"equity\": {\"value\": 76894000.0, \"unit\": \"USD\", \"label\": \"Equity\", \"order\": 1400}, \"other_noncurrent_assets\": {\"value\": 48193000.0, \"unit\": \"USD\", \"label\": \"Other Non-current Assets\", \"order\": 350}, \"current_liabilities\": {\"value\": 85265000.0, \"unit\": \"USD\", \"label\": \"Current Liabilities\", \"order\": 700}, \"other_current_liabilities\": {\"value\": 67831000.0, \"unit\": \"USD\", \"label\": \"Other Current Liabilities\", \"order\": 740}, \"noncurrent_liabilities\": {\"value\": 0, \"unit\": \"USD\", \"label\": \"Noncurrent Liabilities\", \"order\": 800}, \"intangible_assets\": {\"value\": 7445000.0, \"unit\": \"USD\", \"label\": \"Intangible Assets\", \"order\": 330}, \"assets\": {\"value\": 171327000.0, \"unit\": \"USD\", \"label\": \"Assets\", \"order\": 100}, \"noncurrent_assets\": {\"value\": 67221000.0, \"unit\": \"USD\", \"label\": \"Noncurrent Assets\", \"order\": 300}, \"accounts_payable\": {\"value\": 11393000.0, \"unit\": \"USD\", \"label\": \"Accounts Payable\", \"order\": 710}, \"liabilities_and_equity\": {\"value\": 171327000.0, \"unit\": \"USD\", \"label\": \"Liabilities And Equity\", \"order\": 1900}}}}, {\"start_date\": \"2023-04-01\", \"end_date\": \"2023-06-30\", \"filing_date\": \"2023-08-09\", \"acceptance_datetime\": \"2023-08-09T20:10:41Z\", \"timeframe\": \"quarterly\", \"fiscal_period\": \"Q1\", \"fiscal_year\": \"2024\", \"cik\": \"0000880807\", \"sic\": \"3621\", \"tickers\": [\"AMSC\"], \"company_name\": \"AMERICAN SUPERCONDUCTOR CORP /DE/\", \"source_filing_url\": \"https://api.polygon.io/v1/reference/sec/filings/0001437749-23-022793\", \"source_filing_file_url\": \"http://api.polygon.io/v1/reference/sec/filings/0001437749-23-022793/files/amsc20230630_10q_htm.xml\", \"financials\": {\"balance_sheet\": {\"noncurrent_liabilities\": {\"value\": 0, \"unit\": \"USD\", \"label\": \"Noncurrent Liabilities\", \"order\": 800}, \"other_current_liabilities\": {\"value\": 67828000.0, \"unit\": \"USD\", \"label\": \"Other Current Liabilities\", \"order\": 740}, \"fixed_assets\": {\"value\": 11947000.0, \"unit\": \"USD\", \"label\": \"Fixed Assets\", \"order\": 320}, \"other_current_assets\": {\"value\": 59320000.0, \"unit\": \"USD\", \"label\": \"Other Current Assets\", \"order\": 250}, \"assets\": {\"value\": 170634000.0, \"unit\": \"USD\", \"label\": \"Assets\", \"order\": 100}, \"current_liabilities\": {\"value\": 83149000.0, \"unit\": \"USD\", \"label\": \"Current Liabilities\", \"order\": 700}, \"liabilities_and_equity\": {\"value\": 170634000.0, \"unit\": \"USD\", \"label\": \"Liabilities And Equity\", \"order\": 1900}, \"other_noncurrent_assets\": {\"value\": 48510000.0, \"unit\": \"USD\", \"label\": \"Other Non-current Assets\", \"order\": 350}, \"noncurrent_assets\": {\"value\": 68440000.0, \"unit\": \"USD\", \"label\": \"Noncurrent Assets\", \"order\": 300}, \"intangible_assets\": {\"value\": 7983000.0, \"unit\": \"USD\", \"label\": \"Intangible Assets\", \"order\": 330}, \"accounts_payable\": {\"value\": 10878000.0, \"unit\": \"USD\", \"label\": \"Accounts Payable\", \"order\": 710}, \"inventory\": {\"value\": 42874000.0, \"unit\": \"USD\", \"label\": \"Inventory\", \"order\": 230}, \"equity_attributable_to_noncontrolling_interest\": {\"value\": 0, \"unit\": \"USD\", \"label\": \"Equity Attributable To Noncontrolling Interest\", \"order\": 1500}, \"equity_attributable_to_parent\": {\"value\": 77918000.0, \"unit\": \"USD\", \"label\": \"Equity Attributable To Parent\", \"order\": 1600}, \"current_assets\": {\"value\": 102194000.0, \"unit\": \"USD\", \"label\": \"Current Assets\", \"order\": 200}, \"equity\": {\"value\": 77918000.0, \"unit\": \"USD\", \"label\": \"Equity\", \"order\": 1400}, \"wages\": {\"value\": 4443000.0, \"unit\": \"USD\", \"label\": \"Wages\", \"order\": 730}, \"liabilities\": {\"value\": 92716000.0, \"unit\": \"USD\", \"label\": \"Liabilities\", \"order\": 600}}, \"comprehensive_income\": {\"comprehensive_income_loss_attributable_to_parent\": {\"value\": -5400000.0, \"unit\": \"USD\", \"label\": \"Comprehensive Income/Loss Attributable To Parent\", \"order\": 300}, \"other_comprehensive_income_loss_attributable_to_parent\": {\"value\": -2000, \"unit\": \"USD\", \"label\": \"Other Comprehensive Income/Loss Attributable To Parent\", \"order\": 600}, \"comprehensive_income_loss_attributable_to_noncontrolling_interest\": {\"value\": 0, \"unit\": \"USD\", \"label\": \"Comprehensive Income/Loss Attributable To Noncontrolling Interest\", \"order\": 200}, \"other_comprehensive_income_loss\": {\"value\": 0, \"unit\": \"USD\", \"label\": \"Other Comprehensive Income/Loss\", \"order\": 400}, \"comprehensive_income_loss\": {\"value\": -5398000.0, \"unit\": \"USD\", \"label\": \"Comprehensive Income/Loss\", \"order\": 100}}, \"income_statement\": {\"net_income_loss_attributable_to_noncontrolling_interest\": {\"value\": 0, \"unit\": \"USD\", \"label\": \"Net Income/Loss Attributable To Noncontrolling Interest\", \"order\": 3300}, \"operating_expenses\": {\"value\": 11615000.0, \"unit\": \"USD\", \"label\": \"Operating Expenses\", \"order\": 1000}, \"net_income_loss_attributable_to_parent\": {\"value\": -5398000.0, \"unit\": \"USD\", \"label\": \"Net Income/Loss Attributable To Parent\", \"order\": 3500}, \"income_tax_expense_benefit\": {\"value\": 121000, \"unit\": \"USD\", \"label\": \"Income Tax Expense/Benefit\", \"order\": 2200}, \"net_income_loss\": {\"value\": -5398000.0, \"unit\": \"USD\", \"label\": \"Net Income/Loss\", \"order\": 3200}, \"income_loss_from_continuing_operations_after_tax\": {\"value\": -5398000.0, \"unit\": \"USD\", \"label\": \"Income/Loss From Continuing Operations After Tax\", \"order\": 1400}, \"selling_general_and_administrative_expenses\": {\"value\": 7868000.0, \"unit\": \"USD\", \"label\": \"Selling, General, and Administrative Expenses\", \"order\": 1010}, \"benefits_costs_expenses\": {\"value\": 35531000.0, \"unit\": \"USD\", \"label\": \"Benefits Costs and Expenses\", \"order\": 200}, \"research_and_development\": {\"value\": 1853000.0, \"unit\": \"USD\", \"label\": \"Research and Development\", \"order\": 1030}, \"costs_and_expenses\": {\"value\": 35531000.0, \"unit\": \"USD\", \"label\": \"Costs And Expenses\", \"order\": 600}, \"net_income_loss_available_to_common_stockholders_basic\": {\"value\": -5398000.0, \"unit\": \"USD\", \"label\": \"Net Income/Loss Available To Common Stockholders, Basic\", \"order\": 3700}, \"basic_earnings_per_share\": {\"value\": -0.19, \"unit\": \"USD / shares\", \"label\": \"Basic Earnings Per Share\", \"order\": 4200}, \"diluted_earnings_per_share\": {\"value\": -0.19, \"unit\": \"USD / shares\", \"label\": \"Diluted Earnings Per Share\", \"order\": 4300}, \"gross_profit\": {\"value\": 6282000.0, \"unit\": \"USD\", \"label\": \"Gross Profit\", \"order\": 800}, \"depreciation_and_amortization\": {\"value\": 1119000.0, \"unit\": \"USD\", \"label\": \"Depreciation and Amortization\", \"order\": 1020}, \"participating_securities_distributed_and_undistributed_earnings_loss_basic\": {\"value\": 0, \"unit\": \"USD\", \"label\": \"Participating Securities, Distributed And Undistributed Earnings/Loss, Basic\", \"order\": 3800}, \"basic_average_shares\": {\"value\": 28258000.0, \"unit\": \"shares\", \"label\": \"Basic Average Shares\", \"order\": 4400}, \"income_tax_expense_benefit_deferred\": {\"value\": -1000, \"unit\": \"USD\", \"label\": \"Income Tax Expense/Benefit, Deferred\", \"order\": 2400}, \"cost_of_revenue\": {\"value\": 23972000.0, \"unit\": \"USD\", \"label\": \"Cost Of Revenue\", \"order\": 300}, \"revenues\": {\"value\": 30254000.0, \"unit\": \"USD\", \"label\": \"Revenues\", \"order\": 100}, \"diluted_average_shares\": {\"value\": 28258000.0, \"unit\": \"shares\", \"label\": \"Diluted Average Shares\", \"order\": 4500}, \"preferred_stock_dividends_and_other_adjustments\": {\"value\": 0, \"unit\": \"USD\", \"label\": \"Preferred Stock Dividends And Other Adjustments\", \"order\": 3900}, \"operating_income_loss\": {\"value\": -5333000.0, \"unit\": \"USD\", \"label\": \"Operating Income/Loss\", \"order\": 1100}, \"other_operating_expenses\": {\"value\": 775000, \"unit\": \"USD\", \"label\": \"Other Operating Expenses\", \"order\": 1040}, \"income_loss_from_continuing_operations_before_tax\": {\"value\": -5277000.0, \"unit\": \"USD\", \"label\": \"Income/Loss From Continuing Operations Before Tax\", \"order\": 1500}}, \"cash_flow_statement\": {\"net_cash_flow_continuing\": {\"value\": -2555000.0, \"unit\": \"USD\", \"label\": \"Net Cash Flow, Continuing\", \"order\": 1200}, \"net_cash_flow_from_investing_activities_continuing\": {\"value\": -293000, \"unit\": \"USD\", \"label\": \"Net Cash Flow From Investing Activities, Continuing\", \"order\": 500}, \"net_cash_flow_from_financing_activities_continuing\": {\"value\": -17000, \"unit\": \"USD\", \"label\": \"Net Cash Flow From Financing Activities, Continuing\", \"order\": 800}, \"net_cash_flow\": {\"value\": -2555000.0, \"unit\": \"USD\", \"label\": \"Net Cash Flow\", \"order\": 1100}, \"net_cash_flow_from_financing_activities\": {\"value\": -17000, \"unit\": \"USD\", \"label\": \"Net Cash Flow From Financing Activities\", \"order\": 700}, \"net_cash_flow_from_operating_activities_continuing\": {\"value\": -2245000.0, \"unit\": \"USD\", \"label\": \"Net Cash Flow From Operating Activities, Continuing\", \"order\": 200}, \"net_cash_flow_from_investing_activities\": {\"value\": -293000, \"unit\": \"USD\", \"label\": \"Net Cash Flow From Investing Activities\", \"order\": 400}, \"net_cash_flow_from_operating_activities\": {\"value\": -2245000.0, \"unit\": \"USD\", \"label\": \"Net Cash Flow From Operating Activities\", \"order\": 100}}}}, {\"start_date\": \"2023-01-01\", \"end_date\": \"2023-03-31\", \"timeframe\": \"quarterly\", \"fiscal_period\": \"Q4\", \"fiscal_year\": \"2023\", \"cik\": \"0000880807\", \"sic\": \"3621\", \"tickers\": [\"AMSC\"], \"company_name\": \"AMERICAN SUPERCONDUCTOR CORP /DE/\", \"financials\": {\"balance_sheet\": {\"assets\": {\"value\": 175561000.0, \"unit\": \"USD\", \"label\": \"Assets\", \"order\": 100}, \"other_noncurrent_assets\": {\"value\": 48552000.0, \"unit\": \"USD\", \"label\": \"Other Non-current Assets\", \"order\": 350}, \"wages\": {\"value\": 5430000.0, \"unit\": \"USD\", \"label\": \"Wages\", \"order\": 730}, \"noncurrent_assets\": {\"value\": 69388000.0, \"unit\": \"USD\", \"label\": \"Noncurrent Assets\", \"order\": 300}, \"current_liabilities\": {\"value\": 84108000.0, \"unit\": \"USD\", \"label\": \"Current Liabilities\", \"order\": 700}, \"fixed_assets\": {\"value\": 12309000.0, \"unit\": \"USD\", \"label\": \"Fixed Assets\", \"order\": 320}, \"other_current_assets\": {\"value\": 69187000.0, \"unit\": \"USD\", \"label\": \"Other Current Assets\", \"order\": 250}, \"equity_attributable_to_noncontrolling_interest\": {\"value\": 0, \"unit\": \"USD\", \"label\": \"Equity Attributable To Noncontrolling Interest\", \"order\": 1500}, \"other_current_liabilities\": {\"value\": 64743000.0, \"unit\": \"USD\", \"label\": \"Other Current Liabilities\", \"order\": 740}, \"accounts_payable\": {\"value\": 13935000.0, \"unit\": \"USD\", \"label\": \"Accounts Payable\", \"order\": 710}, \"intangible_assets\": {\"value\": 8527000.0, \"unit\": \"USD\", \"label\": \"Intangible Assets\", \"order\": 330}, \"equity_attributable_to_parent\": {\"value\": 81797000.0, \"unit\": \"USD\", \"label\": \"Equity Attributable To Parent\", \"order\": 1600}, \"equity\": {\"value\": 81797000.0, \"unit\": \"USD\", \"label\": \"Equity\", \"order\": 1400}, \"current_assets\": {\"value\": 106173000.0, \"unit\": \"USD\", \"label\": \"Current Assets\", \"order\": 200}, \"liabilities\": {\"value\": 93764000.0, \"unit\": \"USD\", \"label\": \"Liabilities\", \"order\": 600}, \"noncurrent_liabilities\": {\"value\": 9656000.0, \"unit\": \"USD\", \"label\": \"Noncurrent Liabilities\", \"order\": 800}, \"liabilities_and_equity\": {\"value\": 175561000.0, \"unit\": \"USD\", \"label\": \"Liabilities And Equity\", \"order\": 1900}, \"inventory\": {\"value\": 36986000.0, \"unit\": \"USD\", \"label\": \"Inventory\", \"order\": 230}}, \"cash_flow_statement\": {\"net_cash_flow_from_investing_activities\": {\"value\": -353000, \"unit\": \"USD\", \"label\": \"Net Cash Flow From Investing Activities\", \"order\": 400}, \"net_cash_flow_from_investing_activities_continuing\": {\"value\": -353000, \"unit\": \"USD\", \"label\": \"Net Cash Flow From Investing Activities, Continuing\", \"order\": 500}, \"net_cash_flow_from_financing_activities_continuing\": {\"value\": 91000, \"unit\": \"USD\", \"label\": \"Net Cash Flow From Financing Activities, Continuing\", \"order\": 800}, \"net_cash_flow_from_operating_activities_continuing\": {\"value\": -5418000.0, \"unit\": \"USD\", \"label\": \"Net Cash Flow From Operating Activities, Continuing\", \"order\": 200}, \"net_cash_flow\": {\"value\": -5680000.0, \"unit\": \"USD\", \"label\": \"Net Cash Flow\", \"order\": 1100}, \"net_cash_flow_continuing\": {\"value\": -5680000.0, \"unit\": \"USD\", \"label\": \"Net Cash Flow, Continuing\", \"order\": 1200}, \"net_cash_flow_from_operating_activities\": {\"value\": -5418000.0, \"unit\": \"USD\", \"label\": \"Net Cash Flow From Operating Activities\", \"order\": 100}, \"net_cash_flow_from_financing_activities\": {\"value\": 91000, \"unit\": \"USD\", \"label\": \"Net Cash Flow From Financing Activities\", \"order\": 700}}, \"comprehensive_income\": {\"other_comprehensive_income_loss_attributable_to_parent\": {\"value\": -32000, \"unit\": \"USD\", \"label\": \"Other Comprehensive Income/Loss Attributable To Parent\", \"order\": 600}, \"comprehensive_income_loss_attributable_to_noncontrolling_interest\": {\"value\": 0, \"unit\": \"USD\", \"label\": \"Comprehensive Income/Loss Attributable To Noncontrolling Interest\", \"order\": 200}, \"other_comprehensive_income_loss\": {\"value\": -6902000.0, \"unit\": \"USD\", \"label\": \"Other Comprehensive Income/Loss\", \"order\": 400}, \"comprehensive_income_loss_attributable_to_parent\": {\"value\": -6902000.0, \"unit\": \"USD\", \"label\": \"Comprehensive Income/Loss Attributable To Parent\", \"order\": 300}, \"comprehensive_income_loss\": {\"value\": -6902000.0, \"unit\": \"USD\", \"label\": \"Comprehensive Income/Loss\", \"order\": 100}}, \"income_statement\": {\"selling_general_and_administrative_expenses\": {\"value\": 6616000.0, \"unit\": \"USD\", \"label\": \"Selling, General, and Administrative Expenses\", \"order\": 1010}, \"research_and_development\": {\"value\": 1890000.0, \"unit\": \"USD\", \"label\": \"Research and Development\", \"order\": 1030}, \"participating_securities_distributed_and_undistributed_earnings_loss_basic\": {\"value\": 0, \"unit\": \"USD\", \"label\": \"Participating Securities, Distributed And Undistributed Earnings/Loss, Basic\", \"order\": 3800}, \"income_tax_expense_benefit_deferred\": {\"value\": 24000, \"unit\": \"USD\", \"label\": \"Income Tax Expense/Benefit, Deferred\", \"order\": 2400}, \"operating_income_loss\": {\"value\": -6839000.0, \"unit\": \"USD\", \"label\": \"Operating Income/Loss\", \"order\": 1100}, \"income_tax_expense_benefit_current\": {\"value\": 191000, \"unit\": \"USD\", \"label\": \"Income Tax Expense/Benefit, Current\", \"order\": 2300}, \"net_income_loss_attributable_to_parent\": {\"value\": -6870000.0, \"unit\": \"USD\", \"label\": \"Net Income/Loss Attributable To Parent\", \"order\": 3500}, \"revenues\": {\"value\": 31743000.0, \"unit\": \"USD\", \"label\": \"Revenues\", \"order\": 100}, \"income_tax_expense_benefit\": {\"value\": 215000, \"unit\": \"USD\", \"label\": \"Income Tax Expense/Benefit\", \"order\": 2200}, \"net_income_loss_available_to_common_stockholders_basic\": {\"value\": -6870000.0, \"unit\": \"USD\", \"label\": \"Net Income/Loss Available To Common Stockholders, Basic\", \"order\": 3700}, \"net_income_loss_attributable_to_noncontrolling_interest\": {\"value\": 0, \"unit\": \"USD\", \"label\": \"Net Income/Loss Attributable To Noncontrolling Interest\", \"order\": 3300}, \"cost_of_revenue\": {\"value\": 27930000.0, \"unit\": \"USD\", \"label\": \"Cost Of Revenue\", \"order\": 300}, \"net_income_loss\": {\"value\": -6870000.0, \"unit\": \"USD\", \"label\": \"Net Income/Loss\", \"order\": 3200}, \"diluted_earnings_per_share\": {\"value\": -0.25, \"unit\": \"USD / shares\", \"label\": \"Diluted Earnings Per Share\", \"order\": 4300}, \"basic_average_shares\": {\"value\": 54000, \"unit\": \"shares\", \"label\": \"Basic Average Shares\", \"order\": 4400}, \"income_loss_from_continuing_operations_after_tax\": {\"value\": -6914000.0, \"unit\": \"USD\", \"label\": \"Income/Loss From Continuing Operations After Tax\", \"order\": 1400}, \"benefits_costs_expenses\": {\"value\": 38542000.0, \"unit\": \"USD\", \"label\": \"Benefits Costs and Expenses\", \"order\": 200}, \"income_loss_from_continuing_operations_before_tax\": {\"value\": -6799000.0, \"unit\": \"USD\", \"label\": \"Income/Loss From Continuing Operations Before Tax\", \"order\": 1500}, \"diluted_average_shares\": {\"value\": 54000, \"unit\": \"shares\", \"label\": \"Diluted Average Shares\", \"order\": 4500}, \"depreciation_and_amortization\": {\"value\": 1257000.0, \"unit\": \"USD\", \"label\": \"Depreciation and Amortization\", \"order\": 1020}, \"gross_profit\": {\"value\": 3813000.0, \"unit\": \"USD\", \"label\": \"Gross Profit\", \"order\": 800}, \"preferred_stock_dividends_and_other_adjustments\": {\"value\": 0, \"unit\": \"USD\", \"label\": \"Preferred Stock Dividends And Other Adjustments\", \"order\": 3900}, \"costs_and_expenses\": {\"value\": 38542000.0, \"unit\": \"USD\", \"label\": \"Costs And Expenses\", \"order\": 600}, \"operating_expenses\": {\"value\": 10652000.0, \"unit\": \"USD\", \"label\": \"Operating Expenses\", \"order\": 1000}, \"basic_earnings_per_share\": {\"value\": -0.25, \"unit\": \"USD / shares\", \"label\": \"Basic Earnings Per Share\", \"order\": 4200}}}}, {\"start_date\": \"2022-04-01\", \"end_date\": \"2023-03-31\", \"filing_date\": \"2023-05-31\", \"acceptance_datetime\": \"2023-05-31T20:12:22Z\", \"timeframe\": \"annual\", \"fiscal_period\": \"FY\", \"fiscal_year\": \"2023\", \"cik\": \"0000880807\", \"sic\": \"3621\", \"tickers\": [\"AMSC\"], \"company_name\": \"AMERICAN SUPERCONDUCTOR CORP /DE/\", \"source_filing_url\": \"https://api.polygon.io/v1/reference/sec/filings/0001437749-23-016265\", \"source_filing_file_url\": \"http://api.polygon.io/v1/reference/sec/filings/0001437749-23-016265/files/amsc20230331_10k_htm.xml\", \"financials\": {\"balance_sheet\": {\"equity\": {\"value\": 81797000.0, \"unit\": \"USD\", \"label\": \"Equity\", \"order\": 1400}, \"fixed_assets\": {\"value\": 12309000.0, \"unit\": \"USD\", \"label\": \"Fixed Assets\", \"order\": 320}, \"liabilities_and_equity\": {\"value\": 175561000.0, \"unit\": \"USD\", \"label\": \"Liabilities And Equity\", \"order\": 1900}, \"equity_attributable_to_parent\": {\"value\": 81797000.0, \"unit\": \"USD\", \"label\": \"Equity Attributable To Parent\", \"order\": 1600}, \"other_current_assets\": {\"value\": 69187000.0, \"unit\": \"USD\", \"label\": \"Other Current Assets\", \"order\": 250}, \"current_assets\": {\"value\": 106173000.0, \"unit\": \"USD\", \"label\": \"Current Assets\", \"order\": 200}, \"intangible_assets\": {\"value\": 8527000.0, \"unit\": \"USD\", \"label\": \"Intangible Assets\", \"order\": 330}, \"inventory\": {\"value\": 36986000.0, \"unit\": \"USD\", \"label\": \"Inventory\", \"order\": 230}, \"equity_attributable_to_noncontrolling_interest\": {\"value\": 0, \"unit\": \"USD\", \"label\": \"Equity Attributable To Noncontrolling Interest\", \"order\": 1500}, \"wages\": {\"value\": 5430000.0, \"unit\": \"USD\", \"label\": \"Wages\", \"order\": 730}, \"liabilities\": {\"value\": 93764000.0, \"unit\": \"USD\", \"label\": \"Liabilities\", \"order\": 600}, \"other_noncurrent_assets\": {\"value\": 48552000.0, \"unit\": \"USD\", \"label\": \"Other Non-current Assets\", \"order\": 350}, \"accounts_payable\": {\"value\": 13935000.0, \"unit\": \"USD\", \"label\": \"Accounts Payable\", \"order\": 710}, \"other_current_liabilities\": {\"value\": 64743000.0, \"unit\": \"USD\", \"label\": \"Other Current Liabilities\", \"order\": 740}, \"current_liabilities\": {\"value\": 84108000.0, \"unit\": \"USD\", \"label\": \"Current Liabilities\", \"order\": 700}, \"assets\": {\"value\": 175561000.0, \"unit\": \"USD\", \"label\": \"Assets\", \"order\": 100}, \"noncurrent_liabilities\": {\"value\": 9656000.0, \"unit\": \"USD\", \"label\": \"Noncurrent Liabilities\", \"order\": 800}, \"noncurrent_assets\": {\"value\": 69388000.0, \"unit\": \"USD\", \"label\": \"Noncurrent Assets\", \"order\": 300}}, \"cash_flow_statement\": {\"net_cash_flow_from_investing_activities_continuing\": {\"value\": -1517000.0, \"unit\": \"USD\", \"label\": \"Net Cash Flow From Investing Activities, Continuing\", \"order\": 500}, \"net_cash_flow\": {\"value\": -23840000.0, \"unit\": \"USD\", \"label\": \"Net Cash Flow\", \"order\": 1100}, \"net_cash_flow_from_investing_activities\": {\"value\": -1517000.0, \"unit\": \"USD\", \"label\": \"Net Cash Flow From Investing Activities\", \"order\": 400}, \"net_cash_flow_from_operating_activities\": {\"value\": -22485000.0, \"unit\": \"USD\", \"label\": \"Net Cash Flow From Operating Activities\", \"order\": 100}, \"net_cash_flow_continuing\": {\"value\": -23840000.0, \"unit\": \"USD\", \"label\": \"Net Cash Flow, Continuing\", \"order\": 1200}, \"net_cash_flow_from_financing_activities\": {\"value\": 162000, \"unit\": \"USD\", \"label\": \"Net Cash Flow From Financing Activities\", \"order\": 700}, \"net_cash_flow_from_financing_activities_continuing\": {\"value\": 162000, \"unit\": \"USD\", \"label\": \"Net Cash Flow From Financing Activities, Continuing\", \"order\": 800}, \"net_cash_flow_from_operating_activities_continuing\": {\"value\": -22485000.0, \"unit\": \"USD\", \"label\": \"Net Cash Flow From Operating Activities, Continuing\", \"order\": 200}}, \"income_statement\": {\"income_loss_from_continuing_operations_after_tax\": {\"value\": -35041000.0, \"unit\": \"USD\", \"label\": \"Income/Loss From Continuing Operations After Tax\", \"order\": 1400}, \"net_income_loss_attributable_to_noncontrolling_interest\": {\"value\": 0, \"unit\": \"USD\", \"label\": \"Net Income/Loss Attributable To Noncontrolling Interest\", \"order\": 3300}, \"selling_general_and_administrative_expenses\": {\"value\": 28700000.0, \"unit\": \"USD\", \"label\": \"Selling, General, and Administrative Expenses\", \"order\": 1010}, \"net_income_loss_available_to_common_stockholders_basic\": {\"value\": -35041000.0, \"unit\": \"USD\", \"label\": \"Net Income/Loss Available To Common Stockholders, Basic\", \"order\": 3700}, \"income_tax_expense_benefit_deferred\": {\"value\": 24000, \"unit\": \"USD\", \"label\": \"Income Tax Expense/Benefit, Deferred\", \"order\": 2400}, \"basic_average_shares\": {\"value\": 27848000.0, \"unit\": \"shares\", \"label\": \"Basic Average Shares\", \"order\": 4400}, \"diluted_average_shares\": {\"value\": 27848000.0, \"unit\": \"shares\", \"label\": \"Diluted Average Shares\", \"order\": 4500}, \"operating_expenses\": {\"value\": 41530000.0, \"unit\": \"USD\", \"label\": \"Operating Expenses\", \"order\": 1000}, \"cost_of_revenue\": {\"value\": 97463000.0, \"unit\": \"USD\", \"label\": \"Cost Of Revenue\", \"order\": 300}, \"basic_earnings_per_share\": {\"value\": -1.26, \"unit\": \"USD / shares\", \"label\": \"Basic Earnings Per Share\", \"order\": 4200}, \"preferred_stock_dividends_and_other_adjustments\": {\"value\": 0, \"unit\": \"USD\", \"label\": \"Preferred Stock Dividends And Other Adjustments\", \"order\": 3900}, \"costs_and_expenses\": {\"value\": 140810000.0, \"unit\": \"USD\", \"label\": \"Costs And Expenses\", \"order\": 600}, \"research_and_development\": {\"value\": 8966000.0, \"unit\": \"USD\", \"label\": \"Research and Development\", \"order\": 1030}, \"net_income_loss\": {\"value\": -35041000.0, \"unit\": \"USD\", \"label\": \"Net Income/Loss\", \"order\": 3200}, \"net_income_loss_attributable_to_parent\": {\"value\": -35041000.0, \"unit\": \"USD\", \"label\": \"Net Income/Loss Attributable To Parent\", \"order\": 3500}, \"income_loss_from_continuing_operations_before_tax\": {\"value\": -34826000.0, \"unit\": \"USD\", \"label\": \"Income/Loss From Continuing Operations Before Tax\", \"order\": 1500}, \"diluted_earnings_per_share\": {\"value\": -1.26, \"unit\": \"USD / shares\", \"label\": \"Diluted Earnings Per Share\", \"order\": 4300}, \"depreciation_and_amortization\": {\"value\": 5361000.0, \"unit\": \"USD\", \"label\": \"Depreciation and Amortization\", \"order\": 1020}, \"gross_profit\": {\"value\": 8521000.0, \"unit\": \"USD\", \"label\": \"Gross Profit\", \"order\": 800}, \"participating_securities_distributed_and_undistributed_earnings_loss_basic\": {\"value\": 0, \"unit\": \"USD\", \"label\": \"Participating Securities, Distributed And Undistributed Earnings/Loss, Basic\", \"order\": 3800}, \"benefits_costs_expenses\": {\"value\": 140810000.0, \"unit\": \"USD\", \"label\": \"Benefits Costs and Expenses\", \"order\": 200}, \"operating_income_loss\": {\"value\": -33009000.0, \"unit\": \"USD\", \"label\": \"Operating Income/Loss\", \"order\": 1100}, \"income_tax_expense_benefit\": {\"value\": 215000, \"unit\": \"USD\", \"label\": \"Income Tax Expense/Benefit\", \"order\": 2200}, \"revenues\": {\"value\": 105984000.0, \"unit\": \"USD\", \"label\": \"Revenues\", \"order\": 100}}, \"comprehensive_income\": {\"comprehensive_income_loss_attributable_to_parent\": {\"value\": -33179000.0, \"unit\": \"USD\", \"label\": \"Comprehensive Income/Loss Attributable To Parent\", \"order\": 300}, \"comprehensive_income_loss_attributable_to_noncontrolling_interest\": {\"value\": 0, \"unit\": \"USD\", \"label\": \"Comprehensive Income/Loss Attributable To Noncontrolling Interest\", \"order\": 200}, \"comprehensive_income_loss\": {\"value\": -33179000.0, \"unit\": \"USD\", \"label\": \"Comprehensive Income/Loss\", \"order\": 100}, \"other_comprehensive_income_loss_attributable_to_parent\": {\"value\": 1862000.0, \"unit\": \"USD\", \"label\": \"Other Comprehensive Income/Loss Attributable To Parent\", \"order\": 600}, \"other_comprehensive_income_loss\": {\"value\": -33179000.0, \"unit\": \"USD\", \"label\": \"Other Comprehensive Income/Loss\", \"order\": 400}}}}, {\"start_date\": \"2022-10-01\", \"end_date\": \"2022-12-31\", \"filing_date\": \"2023-02-01\", \"timeframe\": \"quarterly\", \"fiscal_period\": \"Q3\", \"fiscal_year\": \"2023\", \"cik\": \"0000880807\", \"sic\": \"3621\", \"tickers\": [\"AMSC\"], \"company_name\": \"AMERICAN SUPERCONDUCTOR CORP /DE/\", \"source_filing_url\": \"https://api.polygon.io/v1/reference/sec/filings/0001437749-23-002270\", \"source_filing_file_url\": \"http://api.polygon.io/v1/reference/sec/filings/0001437749-23-002270/files/amsc20221231_10q_htm.xml\", \"financials\": {\"balance_sheet\": {\"noncurrent_liabilities\": {\"value\": 9812000.0, \"unit\": \"USD\", \"label\": \"Noncurrent Liabilities\", \"order\": 800}, \"current_assets\": {\"value\": 94165000.0, \"unit\": \"USD\", \"label\": \"Current Assets\", \"order\": 200}, \"noncurrent_assets\": {\"value\": 70907000.0, \"unit\": \"USD\", \"label\": \"Noncurrent Assets\", \"order\": 300}, \"other_current_assets\": {\"value\": 55440000.0, \"unit\": \"USD\", \"label\": \"Other Current Assets\", \"order\": 250}, \"equity_attributable_to_parent\": {\"value\": 87207000.0, \"unit\": \"USD\", \"label\": \"Equity Attributable To Parent\", \"order\": 1600}, \"fixed_assets\": {\"value\": 12611000.0, \"unit\": \"USD\", \"label\": \"Fixed Assets\", \"order\": 320}, \"intangible_assets\": {\"value\": 9215000.0, \"unit\": \"USD\", \"label\": \"Intangible Assets\", \"order\": 330}, \"liabilities_and_equity\": {\"value\": 165072000.0, \"unit\": \"USD\", \"label\": \"Liabilities And Equity\", \"order\": 1900}, \"current_liabilities\": {\"value\": 68053000.0, \"unit\": \"USD\", \"label\": \"Current Liabilities\", \"order\": 700}, \"equity_attributable_to_noncontrolling_interest\": {\"value\": 0, \"unit\": \"USD\", \"label\": \"Equity Attributable To Noncontrolling Interest\", \"order\": 1500}, \"other_noncurrent_assets\": {\"value\": 49081000.0, \"unit\": \"USD\", \"label\": \"Other Non-current Assets\", \"order\": 350}, \"equity\": {\"value\": 87207000.0, \"unit\": \"USD\", \"label\": \"Equity\", \"order\": 1400}, \"inventory\": {\"value\": 38725000.0, \"unit\": \"USD\", \"label\": \"Inventory\", \"order\": 230}, \"assets\": {\"value\": 165072000.0, \"unit\": \"USD\", \"label\": \"Assets\", \"order\": 100}, \"other_current_liabilities\": {\"value\": 50224000.0, \"unit\": \"USD\", \"label\": \"Other Current Liabilities\", \"order\": 740}, \"liabilities\": {\"value\": 77865000.0, \"unit\": \"USD\", \"label\": \"Liabilities\", \"order\": 600}, \"wages\": {\"value\": 4281000.0, \"unit\": \"USD\", \"label\": \"Wages\", \"order\": 730}, \"accounts_payable\": {\"value\": 13548000.0, \"unit\": \"USD\", \"label\": \"Accounts Payable\", \"order\": 710}}, \"comprehensive_income\": {\"other_comprehensive_income_loss_attributable_to_parent\": {\"value\": -195000, \"unit\": \"USD\", \"label\": \"Other Comprehensive Income/Loss Attributable To Parent\", \"order\": 600}, \"comprehensive_income_loss\": {\"value\": -9776000.0, \"unit\": \"USD\", \"label\": \"Comprehensive Income/Loss\", \"order\": 100}, \"comprehensive_income_loss_attributable_to_parent\": {\"value\": -9776000.0, \"unit\": \"USD\", \"label\": \"Comprehensive Income/Loss Attributable To Parent\", \"order\": 300}, \"other_comprehensive_income_loss\": {\"value\": -9776000.0, \"unit\": \"USD\", \"label\": \"Other Comprehensive Income/Loss\", \"order\": 400}, \"comprehensive_income_loss_attributable_to_noncontrolling_interest\": {\"value\": 0, \"unit\": \"USD\", \"label\": \"Comprehensive Income/Loss Attributable To Noncontrolling Interest\", \"order\": 200}}, \"cash_flow_statement\": {\"net_cash_flow_from_operating_activities_continuing\": {\"value\": -5495000.0, \"unit\": \"USD\", \"label\": \"Net Cash Flow From Operating Activities, Continuing\", \"order\": 200}, \"net_cash_flow\": {\"value\": -6024000.0, \"unit\": \"USD\", \"label\": \"Net Cash Flow\", \"order\": 1100}, \"net_cash_flow_from_investing_activities\": {\"value\": -505000, \"unit\": \"USD\", \"label\": \"Net Cash Flow From Investing Activities\", \"order\": 400}, \"net_cash_flow_from_financing_activities_continuing\": {\"value\": -24000, \"unit\": \"USD\", \"label\": \"Net Cash Flow From Financing Activities, Continuing\", \"order\": 800}, \"net_cash_flow_from_operating_activities\": {\"value\": -5495000.0, \"unit\": \"USD\", \"label\": \"Net Cash Flow From Operating Activities\", \"order\": 100}, \"net_cash_flow_from_investing_activities_continuing\": {\"value\": -505000, \"unit\": \"USD\", \"label\": \"Net Cash Flow From Investing Activities, Continuing\", \"order\": 500}, \"net_cash_flow_continuing\": {\"value\": -6024000.0, \"unit\": \"USD\", \"label\": \"Net Cash Flow, Continuing\", \"order\": 1200}, \"net_cash_flow_from_financing_activities\": {\"value\": -24000, \"unit\": \"USD\", \"label\": \"Net Cash Flow From Financing Activities\", \"order\": 700}}, \"income_statement\": {\"research_and_development\": {\"value\": 2083000.0, \"unit\": \"USD\", \"label\": \"Research and Development\", \"order\": 1030}, \"costs_and_expenses\": {\"value\": 33335000.0, \"unit\": \"USD\", \"label\": \"Costs And Expenses\", \"order\": 600}, \"income_loss_from_continuing_operations_after_tax\": {\"value\": -9581000.0, \"unit\": \"USD\", \"label\": \"Income/Loss From Continuing Operations After Tax\", \"order\": 1400}, \"operating_expenses\": {\"value\": 9726000.0, \"unit\": \"USD\", \"label\": \"Operating Expenses\", \"order\": 1000}, \"diluted_earnings_per_share\": {\"value\": -0.34, \"unit\": \"USD / shares\", \"label\": \"Diluted Earnings Per Share\", \"order\": 4300}, \"basic_earnings_per_share\": {\"value\": -0.34, \"unit\": \"USD / shares\", \"label\": \"Basic Earnings Per Share\", \"order\": 4200}, \"net_income_loss_attributable_to_parent\": {\"value\": -9581000.0, \"unit\": \"USD\", \"label\": \"Net Income/Loss Attributable To Parent\", \"order\": 3500}, \"gross_profit\": {\"value\": 517000, \"unit\": \"USD\", \"label\": \"Gross Profit\", \"order\": 800}, \"net_income_loss_available_to_common_stockholders_basic\": {\"value\": -9581000.0, \"unit\": \"USD\", \"label\": \"Net Income/Loss Available To Common Stockholders, Basic\", \"order\": 3700}, \"selling_general_and_administrative_expenses\": {\"value\": 7173000.0, \"unit\": \"USD\", \"label\": \"Selling, General, and Administrative Expenses\", \"order\": 1010}, \"revenues\": {\"value\": 23881000.0, \"unit\": \"USD\", \"label\": \"Revenues\", \"order\": 100}, \"income_tax_expense_benefit_deferred\": {\"value\": 2000, \"unit\": \"USD\", \"label\": \"Income Tax Expense/Benefit, Deferred\", \"order\": 2400}, \"depreciation_and_amortization\": {\"value\": 1305000.0, \"unit\": \"USD\", \"label\": \"Depreciation and Amortization\", \"order\": 1020}, \"income_tax_expense_benefit\": {\"value\": 127000, \"unit\": \"USD\", \"label\": \"Income Tax Expense/Benefit\", \"order\": 2200}, \"net_income_loss_attributable_to_noncontrolling_interest\": {\"value\": 0, \"unit\": \"USD\", \"label\": \"Net Income/Loss Attributable To Noncontrolling Interest\", \"order\": 3300}, \"basic_average_shares\": {\"value\": 27954000.0, \"unit\": \"shares\", \"label\": \"Basic Average Shares\", \"order\": 4400}, \"preferred_stock_dividends_and_other_adjustments\": {\"value\": 0, \"unit\": \"USD\", \"label\": \"Preferred Stock Dividends And Other Adjustments\", \"order\": 3900}, \"cost_of_revenue\": {\"value\": 23364000.0, \"unit\": \"USD\", \"label\": \"Cost Of Revenue\", \"order\": 300}, \"net_income_loss\": {\"value\": -9581000.0, \"unit\": \"USD\", \"label\": \"Net Income/Loss\", \"order\": 3200}, \"benefits_costs_expenses\": {\"value\": 33335000.0, \"unit\": \"USD\", \"label\": \"Benefits Costs and Expenses\", \"order\": 200}, \"participating_securities_distributed_and_undistributed_earnings_loss_basic\": {\"value\": 0, \"unit\": \"USD\", \"label\": \"Participating Securities, Distributed And Undistributed Earnings/Loss, Basic\", \"order\": 3800}, \"other_operating_expenses\": {\"value\": 470000, \"unit\": \"USD\", \"label\": \"Other Operating Expenses\", \"order\": 1040}, \"diluted_average_shares\": {\"value\": 27954000.0, \"unit\": \"shares\", \"label\": \"Diluted Average Shares\", \"order\": 4500}, \"operating_income_loss\": {\"value\": -9209000.0, \"unit\": \"USD\", \"label\": \"Operating Income/Loss\", \"order\": 1100}, \"income_loss_from_continuing_operations_before_tax\": {\"value\": -9454000.0, \"unit\": \"USD\", \"label\": \"Income/Loss From Continuing Operations Before Tax\", \"order\": 1500}}}}, {\"start_date\": \"2022-07-01\", \"end_date\": \"2022-09-30\", \"filing_date\": \"2022-11-01\", \"timeframe\": \"quarterly\", \"fiscal_period\": \"Q2\", \"fiscal_year\": \"2023\", \"cik\": \"0000880807\", \"sic\": \"3621\", \"tickers\": [\"AMSC\"], \"company_name\": \"AMERICAN SUPERCONDUCTOR CORP /DE/\", \"source_filing_url\": \"https://api.polygon.io/v1/reference/sec/filings/0001437749-22-025367\", \"source_filing_file_url\": \"http://api.polygon.io/v1/reference/sec/filings/0001437749-22-025367/files/amsc20220930_10q_htm.xml\", \"financials\": {\"cash_flow_statement\": {\"net_cash_flow_from_operating_activities\": {\"value\": -5709000.0, \"unit\": \"USD\", \"label\": \"Net Cash Flow From Operating Activities\", \"order\": 100}, \"net_cash_flow_continuing\": {\"value\": -5757000.0, \"unit\": \"USD\", \"label\": \"Net Cash Flow, Continuing\", \"order\": 1200}, \"net_cash_flow\": {\"value\": -5757000.0, \"unit\": \"USD\", \"label\": \"Net Cash Flow\", \"order\": 1100}, \"net_cash_flow_from_financing_activities_continuing\": {\"value\": 115000, \"unit\": \"USD\", \"label\": \"Net Cash Flow From Financing Activities, Continuing\", \"order\": 800}, \"net_cash_flow_from_investing_activities_continuing\": {\"value\": -163000, \"unit\": \"USD\", \"label\": \"Net Cash Flow From Investing Activities, Continuing\", \"order\": 500}, \"net_cash_flow_from_financing_activities\": {\"value\": 115000, \"unit\": \"USD\", \"label\": \"Net Cash Flow From Financing Activities\", \"order\": 700}, \"net_cash_flow_from_operating_activities_continuing\": {\"value\": -5709000.0, \"unit\": \"USD\", \"label\": \"Net Cash Flow From Operating Activities, Continuing\", \"order\": 200}, \"net_cash_flow_from_investing_activities\": {\"value\": -163000, \"unit\": \"USD\", \"label\": \"Net Cash Flow From Investing Activities\", \"order\": 400}}, \"balance_sheet\": {\"accounts_payable\": {\"value\": 18184000.0, \"unit\": \"USD\", \"label\": \"Accounts Payable\", \"order\": 710}, \"equity_attributable_to_parent\": {\"value\": 95383000.0, \"unit\": \"USD\", \"label\": \"Equity Attributable To Parent\", \"order\": 1600}, \"liabilities_and_equity\": {\"value\": 171747000.0, \"unit\": \"USD\", \"label\": \"Liabilities And Equity\", \"order\": 1900}, \"liabilities\": {\"value\": 76364000.0, \"unit\": \"USD\", \"label\": \"Liabilities\", \"order\": 600}, \"inventory\": {\"value\": 36342000.0, \"unit\": \"USD\", \"label\": \"Inventory\", \"order\": 230}, \"intangible_assets\": {\"value\": 9911000.0, \"unit\": \"USD\", \"label\": \"Intangible Assets\", \"order\": 330}, \"fixed_assets\": {\"value\": 12798000.0, \"unit\": \"USD\", \"label\": \"Fixed Assets\", \"order\": 320}, \"equity\": {\"value\": 95383000.0, \"unit\": \"USD\", \"label\": \"Equity\", \"order\": 1400}, \"other_noncurrent_assets\": {\"value\": 54059000.0, \"unit\": \"USD\", \"label\": \"Other Non-current Assets\", \"order\": 350}, \"assets\": {\"value\": 171747000.0, \"unit\": \"USD\", \"label\": \"Assets\", \"order\": 100}, \"other_current_assets\": {\"value\": 58637000.0, \"unit\": \"USD\", \"label\": \"Other Current Assets\", \"order\": 250}, \"noncurrent_assets\": {\"value\": 76768000.0, \"unit\": \"USD\", \"label\": \"Noncurrent Assets\", \"order\": 300}, \"equity_attributable_to_noncontrolling_interest\": {\"value\": 0, \"unit\": \"USD\", \"label\": \"Equity Attributable To Noncontrolling Interest\", \"order\": 1500}, \"wages\": {\"value\": 5589000.0, \"unit\": \"USD\", \"label\": \"Wages\", \"order\": 730}, \"current_assets\": {\"value\": 94979000.0, \"unit\": \"USD\", \"label\": \"Current Assets\", \"order\": 200}, \"other_current_liabilities\": {\"value\": 43107000.0, \"unit\": \"USD\", \"label\": \"Other Current Liabilities\", \"order\": 740}, \"current_liabilities\": {\"value\": 66880000.0, \"unit\": \"USD\", \"label\": \"Current Liabilities\", \"order\": 700}, \"noncurrent_liabilities\": {\"value\": 0, \"unit\": \"USD\", \"label\": \"Noncurrent Liabilities\", \"order\": 800}}, \"comprehensive_income\": {\"comprehensive_income_loss_attributable_to_noncontrolling_interest\": {\"value\": 0, \"unit\": \"USD\", \"label\": \"Comprehensive Income/Loss Attributable To Noncontrolling Interest\", \"order\": 200}, \"comprehensive_income_loss\": {\"value\": -9881000.0, \"unit\": \"USD\", \"label\": \"Comprehensive Income/Loss\", \"order\": 100}, \"other_comprehensive_income_loss\": {\"value\": 0, \"unit\": \"USD\", \"label\": \"Other Comprehensive Income/Loss\", \"order\": 400}, \"comprehensive_income_loss_attributable_to_parent\": {\"value\": -7855000.0, \"unit\": \"USD\", \"label\": \"Comprehensive Income/Loss Attributable To Parent\", \"order\": 300}}, \"income_statement\": {\"gross_profit\": {\"value\": 1970000.0, \"unit\": \"USD\", \"label\": \"Gross Profit\", \"order\": 800}, \"net_income_loss_attributable_to_noncontrolling_interest\": {\"value\": 0, \"unit\": \"USD\", \"label\": \"Net Income/Loss Attributable To Noncontrolling Interest\", \"order\": 3300}, \"operating_income_loss\": {\"value\": -8092000.0, \"unit\": \"USD\", \"label\": \"Operating Income/Loss\", \"order\": 1100}, \"net_income_loss_attributable_to_parent\": {\"value\": -9881000.0, \"unit\": \"USD\", \"label\": \"Net Income/Loss Attributable To Parent\", \"order\": 3500}, \"net_income_loss_available_to_common_stockholders_basic\": {\"value\": -9881000.0, \"unit\": \"USD\", \"label\": \"Net Income/Loss Available To Common Stockholders, Basic\", \"order\": 3700}, \"selling_general_and_administrative_expenses\": {\"value\": 7350000.0, \"unit\": \"USD\", \"label\": \"Selling, General, and Administrative Expenses\", \"order\": 1010}, \"participating_securities_distributed_and_undistributed_earnings_loss_basic\": {\"value\": 0, \"unit\": \"USD\", \"label\": \"Participating Securities, Distributed And Undistributed Earnings/Loss, Basic\", \"order\": 3800}, \"diluted_earnings_per_share\": {\"value\": -0.35, \"unit\": \"USD / shares\", \"label\": \"Diluted Earnings Per Share\", \"order\": 4300}, \"net_income_loss\": {\"value\": -9881000.0, \"unit\": \"USD\", \"label\": \"Net Income/Loss\", \"order\": 3200}, \"income_loss_from_continuing_operations_after_tax\": {\"value\": -9881000.0, \"unit\": \"USD\", \"label\": \"Income/Loss From Continuing Operations After Tax\", \"order\": 1400}, \"revenues\": {\"value\": 27680000.0, \"unit\": \"USD\", \"label\": \"Revenues\", \"order\": 100}, \"operating_expenses\": {\"value\": 10062000.0, \"unit\": \"USD\", \"label\": \"Operating Expenses\", \"order\": 1000}, \"income_tax_expense_benefit\": {\"value\": -14000, \"unit\": \"USD\", \"label\": \"Income Tax Expense/Benefit\", \"order\": 2200}, \"basic_average_shares\": {\"value\": 27867000.0, \"unit\": \"shares\", \"label\": \"Basic Average Shares\", \"order\": 4400}, \"benefits_costs_expenses\": {\"value\": 37575000.0, \"unit\": \"USD\", \"label\": \"Benefits Costs and Expenses\", \"order\": 200}, \"research_and_development\": {\"value\": 2314000.0, \"unit\": \"USD\", \"label\": \"Research and Development\", \"order\": 1030}, \"cost_of_revenue\": {\"value\": 25710000.0, \"unit\": \"USD\", \"label\": \"Cost Of Revenue\", \"order\": 300}, \"other_operating_expenses\": {\"value\": 398000, \"unit\": \"USD\", \"label\": \"Other Operating Expenses\", \"order\": 1040}, \"costs_and_expenses\": {\"value\": 37575000.0, \"unit\": \"USD\", \"label\": \"Costs And Expenses\", \"order\": 600}, \"income_loss_from_continuing_operations_before_tax\": {\"value\": -9895000.0, \"unit\": \"USD\", \"label\": \"Income/Loss From Continuing Operations Before Tax\", \"order\": 1500}, \"basic_earnings_per_share\": {\"value\": -0.35, \"unit\": \"USD / shares\", \"label\": \"Basic Earnings Per Share\", \"order\": 4200}, \"income_tax_expense_benefit_deferred\": {\"value\": 2000, \"unit\": \"USD\", \"label\": \"Income Tax Expense/Benefit, Deferred\", \"order\": 2400}, \"diluted_average_shares\": {\"value\": 27867000.0, \"unit\": \"shares\", \"label\": \"Diluted Average Shares\", \"order\": 4500}, \"preferred_stock_dividends_and_other_adjustments\": {\"value\": 0, \"unit\": \"USD\", \"label\": \"Preferred Stock Dividends And Other Adjustments\", \"order\": 3900}, \"depreciation_and_amortization\": {\"value\": 1398000.0, \"unit\": \"USD\", \"label\": \"Depreciation and Amortization\", \"order\": 1020}}}}]\u001b[0m\u001b[32;1m\u001b[1;3mRelevant Documents: 0\n",
      "Cited Documents: 0\n",
      "Answer: I was unable to find the market value of AMSC. Here is an overview of the company's financial situation:\n",
      "\n",
      "- AMSC has a net income loss of $11,111,000\n",
      "- The company has a gross profit of $35,283,000\n",
      "- AMSC has a net cash flow of $66,618,000\n",
      "- The company's total assets are valued at $232,771,000\n",
      "- AMSC has a net income loss per share of $0.37\n",
      "\n",
      "AMSC's financial situation appears to be mixed. While the company has a net income loss, it also has a positive gross profit and a positive net cash flow. The company's total assets also appear to be higher than its total liabilities.\n",
      "Grounded answer: I was unable to find the market value of AMSC. Here is an overview of the company's financial situation:\n",
      "\n",
      "- AMSC has a <co: 0>net income loss of $11,111,000</co: 0>\n",
      "- The company has a <co: 0>gross profit of $35,283,000</co: 0>\n",
      "- AMSC has a <co: 0>net cash flow of $66,618,000</co: 0>\n",
      "- The company's <co: 0>total assets are valued at $232,771,000</co: 0>\n",
      "- AMSC has a <co: 0>net income loss per share of $0.37</co: 0>\n",
      "\n",
      "AMSC's financial situation appears to be mixed. While the company has a net income loss, it also has a positive gross profit and a positive net cash flow. The company's total assets also appear to be higher than its total liabilities.\u001b[0m\n",
      "\n",
      "\u001b[1m> Finished chain.\u001b[0m\n"
     ]
    },
    {
     "data": {
      "text/html": [
       "<p>I was unable to find the market value of AMSC. Here is an overview of the company's financial situation:</p>\n",
       "<ul>\n",
       "<li>AMSC has a net income loss of $11,111,000</li>\n",
       "<li>The company has a gross profit of $35,283,000</li>\n",
       "<li>AMSC has a net cash flow of $66,618,000</li>\n",
       "<li>The company's total assets are valued at $232,771,000</li>\n",
       "<li>AMSC has a net income loss per share of $0.37</li>\n",
       "</ul>\n",
       "<p>AMSC's financial situation appears to be mixed. While the company has a net income loss, it also has a positive gross profit and a positive net cash flow. The company's total assets also appear to be higher than its total liabilities.</p>"
      ],
      "text/plain": [
       "<IPython.core.display.HTML object>"
      ]
     },
     "metadata": {},
     "output_type": "display_data"
    }
   ],
   "source": [
    "prompt_template_av_financials = \"How are the financials for {ticker}? What is its market value? Produce an overview in form of a bullet point list (use CRLF for new lines) and rate the financial situation of the company.\"\n",
    "ticker = \"AMSC\"\n",
    "input = {\"ticker\": ticker}\n",
    "invoke_cohere_with_tools(tools=polygon_tools,input=input,prompt_template=prompt_template_av_financials)"
   ]
  },
  {
   "cell_type": "markdown",
   "metadata": {},
   "source": [
    "### Financials, News and Technical Combined"
   ]
  },
  {
   "cell_type": "code",
   "execution_count": 11,
   "metadata": {},
   "outputs": [
    {
     "ename": "KeyError",
     "evalue": "'tools'",
     "output_type": "error",
     "traceback": [
      "\u001b[1;31m---------------------------------------------------------------------------\u001b[0m",
      "\u001b[1;31mKeyError\u001b[0m                                  Traceback (most recent call last)",
      "Cell \u001b[1;32mIn[11], line 26\u001b[0m\n\u001b[0;32m     24\u001b[0m topics \u001b[38;5;241m=\u001b[39m \u001b[38;5;124m\"\u001b[39m\u001b[38;5;124mkey figures, technical indicators and analyst recommendations\u001b[39m\u001b[38;5;124m\"\u001b[39m\n\u001b[0;32m     25\u001b[0m \u001b[38;5;28minput\u001b[39m \u001b[38;5;241m=\u001b[39m {\u001b[38;5;124m\"\u001b[39m\u001b[38;5;124mticker\u001b[39m\u001b[38;5;124m\"\u001b[39m: ticker, \u001b[38;5;124m\"\u001b[39m\u001b[38;5;124mtopics\u001b[39m\u001b[38;5;124m\"\u001b[39m: topics, \u001b[38;5;124m\"\u001b[39m\u001b[38;5;124mperiod\u001b[39m\u001b[38;5;124m\"\u001b[39m: period}\n\u001b[1;32m---> 26\u001b[0m \u001b[43minvoke_cohere_with_tools\u001b[49m\u001b[43m(\u001b[49m\u001b[38;5;28;43minput\u001b[39;49m\u001b[38;5;241;43m=\u001b[39;49m\u001b[38;5;28;43minput\u001b[39;49m\u001b[43m,\u001b[49m\u001b[43mtools\u001b[49m\u001b[38;5;241;43m=\u001b[39;49m\u001b[43myfinance_tools\u001b[49m\u001b[43m,\u001b[49m\u001b[43mprompt_template\u001b[49m\u001b[38;5;241;43m=\u001b[39;49m\u001b[43mprompt_template_summary\u001b[49m\u001b[43m)\u001b[49m\n",
      "Cell \u001b[1;32mIn[9], line 5\u001b[0m, in \u001b[0;36minvoke_cohere_with_tools\u001b[1;34m(input, tools, prompt_template, no_markdown)\u001b[0m\n\u001b[0;32m      3\u001b[0m prompt \u001b[38;5;241m=\u001b[39m ChatPromptTemplate\u001b[38;5;241m.\u001b[39mfrom_template(prompt_template)\n\u001b[0;32m      4\u001b[0m agent \u001b[38;5;241m=\u001b[39m create_cohere_react_agent(llm, tools, prompt)\n\u001b[1;32m----> 5\u001b[0m agent_executor \u001b[38;5;241m=\u001b[39m \u001b[43mAgentExecutor\u001b[49m\u001b[43m(\u001b[49m\u001b[43magent\u001b[49m\u001b[38;5;241;43m=\u001b[39;49m\u001b[43magent\u001b[49m\u001b[43m,\u001b[49m\u001b[43m \u001b[49m\u001b[43mtools\u001b[49m\u001b[38;5;241;43m=\u001b[39;49m\u001b[43mtools\u001b[49m\u001b[43m,\u001b[49m\u001b[43m \u001b[49m\u001b[43mverbose\u001b[49m\u001b[38;5;241;43m=\u001b[39;49m\u001b[38;5;28;43;01mTrue\u001b[39;49;00m\u001b[43m)\u001b[49m\n\u001b[0;32m      6\u001b[0m response \u001b[38;5;241m=\u001b[39m agent_executor\u001b[38;5;241m.\u001b[39minvoke(\u001b[38;5;28minput\u001b[39m)\n\u001b[0;32m      7\u001b[0m \u001b[38;5;28;01mif\u001b[39;00m no_markdown:\n",
      "File \u001b[1;32mc:\\App\\Anaconda\\envs\\cohere\\Lib\\site-packages\\pydantic\\v1\\main.py:339\u001b[0m, in \u001b[0;36mBaseModel.__init__\u001b[1;34m(__pydantic_self__, **data)\u001b[0m\n\u001b[0;32m    333\u001b[0m \u001b[38;5;250m\u001b[39m\u001b[38;5;124;03m\"\"\"\u001b[39;00m\n\u001b[0;32m    334\u001b[0m \u001b[38;5;124;03mCreate a new model by parsing and validating input data from keyword arguments.\u001b[39;00m\n\u001b[0;32m    335\u001b[0m \n\u001b[0;32m    336\u001b[0m \u001b[38;5;124;03mRaises ValidationError if the input data cannot be parsed to form a valid model.\u001b[39;00m\n\u001b[0;32m    337\u001b[0m \u001b[38;5;124;03m\"\"\"\u001b[39;00m\n\u001b[0;32m    338\u001b[0m \u001b[38;5;66;03m# Uses something other than `self` the first arg to allow \"self\" as a settable attribute\u001b[39;00m\n\u001b[1;32m--> 339\u001b[0m values, fields_set, validation_error \u001b[38;5;241m=\u001b[39m \u001b[43mvalidate_model\u001b[49m\u001b[43m(\u001b[49m\u001b[43m__pydantic_self__\u001b[49m\u001b[38;5;241;43m.\u001b[39;49m\u001b[38;5;18;43m__class__\u001b[39;49m\u001b[43m,\u001b[49m\u001b[43m \u001b[49m\u001b[43mdata\u001b[49m\u001b[43m)\u001b[49m\n\u001b[0;32m    340\u001b[0m \u001b[38;5;28;01mif\u001b[39;00m validation_error:\n\u001b[0;32m    341\u001b[0m     \u001b[38;5;28;01mraise\u001b[39;00m validation_error\n",
      "File \u001b[1;32mc:\\App\\Anaconda\\envs\\cohere\\Lib\\site-packages\\pydantic\\v1\\main.py:1100\u001b[0m, in \u001b[0;36mvalidate_model\u001b[1;34m(model, input_data, cls)\u001b[0m\n\u001b[0;32m   1098\u001b[0m     \u001b[38;5;28;01mcontinue\u001b[39;00m\n\u001b[0;32m   1099\u001b[0m \u001b[38;5;28;01mtry\u001b[39;00m:\n\u001b[1;32m-> 1100\u001b[0m     values \u001b[38;5;241m=\u001b[39m \u001b[43mvalidator\u001b[49m\u001b[43m(\u001b[49m\u001b[43mcls_\u001b[49m\u001b[43m,\u001b[49m\u001b[43m \u001b[49m\u001b[43mvalues\u001b[49m\u001b[43m)\u001b[49m\n\u001b[0;32m   1101\u001b[0m \u001b[38;5;28;01mexcept\u001b[39;00m (\u001b[38;5;167;01mValueError\u001b[39;00m, \u001b[38;5;167;01mTypeError\u001b[39;00m, \u001b[38;5;167;01mAssertionError\u001b[39;00m) \u001b[38;5;28;01mas\u001b[39;00m exc:\n\u001b[0;32m   1102\u001b[0m     errors\u001b[38;5;241m.\u001b[39mappend(ErrorWrapper(exc, loc\u001b[38;5;241m=\u001b[39mROOT_KEY))\n",
      "File \u001b[1;32mc:\\App\\Anaconda\\envs\\cohere\\Lib\\site-packages\\langchain\\agents\\agent.py:981\u001b[0m, in \u001b[0;36mAgentExecutor.validate_tools\u001b[1;34m(cls, values)\u001b[0m\n\u001b[0;32m    979\u001b[0m \u001b[38;5;250m\u001b[39m\u001b[38;5;124;03m\"\"\"Validate that tools are compatible with agent.\"\"\"\u001b[39;00m\n\u001b[0;32m    980\u001b[0m agent \u001b[38;5;241m=\u001b[39m values[\u001b[38;5;124m\"\u001b[39m\u001b[38;5;124magent\u001b[39m\u001b[38;5;124m\"\u001b[39m]\n\u001b[1;32m--> 981\u001b[0m tools \u001b[38;5;241m=\u001b[39m \u001b[43mvalues\u001b[49m\u001b[43m[\u001b[49m\u001b[38;5;124;43m\"\u001b[39;49m\u001b[38;5;124;43mtools\u001b[39;49m\u001b[38;5;124;43m\"\u001b[39;49m\u001b[43m]\u001b[49m\n\u001b[0;32m    982\u001b[0m allowed_tools \u001b[38;5;241m=\u001b[39m agent\u001b[38;5;241m.\u001b[39mget_allowed_tools()\n\u001b[0;32m    983\u001b[0m \u001b[38;5;28;01mif\u001b[39;00m allowed_tools \u001b[38;5;129;01mis\u001b[39;00m \u001b[38;5;129;01mnot\u001b[39;00m \u001b[38;5;28;01mNone\u001b[39;00m:\n",
      "\u001b[1;31mKeyError\u001b[0m: 'tools'"
     ]
    }
   ],
   "source": [
    "combined_tools = yfinance_tools\n",
    "filtered_polygon_tools = [tool for tool in polygon_tools if tool.name in (\"polygon_financials\", \"polygon_ticker_news\")]\n",
    "combined_tools.append(filtered_polygon_tools)\n",
    "\n",
    "prompt_template_av_financials = \"\"\" How are the financials for {ticker}? What is its market value?\n",
    "                                    Produce an overview in form of a bullet point list (use CRLF for new lines)\n",
    "                                    and rate the financial situation of the company. \"\"\"\n",
    "\n",
    "\n",
    "prompt_template_av_sentiment = \" What is the news sentiment for {ticker}? Rate the sentiment based on the news and explain your rating. \"\n",
    "\n",
    "prompt_template_ticker_info = \"\"\" I need detailed information about {ticker}. Produce a key value list for the 25 most important {topics} using CRLF before each point.\n",
    "                                 After that analyze the fundamental and technical data and rate the company. Is it a good buy? Is it oversold or overbought? Is it a stable investment\n",
    "                                 with a good sharpe ratio? \"\"\"\n",
    "\n",
    "prompt_template_history = \" How did {ticker} perform the last {period}? Show the timeseries in a dataframe and calculate and rate the performance. \"\n",
    "\n",
    "prompt_template_summary = \" Give me a business summary for {ticker}. \" \n",
    "\n",
    "prompt_template_combined = prompt_template_summary + prompt_template_av_financials + prompt_template_av_sentiment + prompt_template_history + prompt_template_ticker_info\n",
    "\n",
    "ticker = \"AMSC\"\n",
    "period = \"1y\"\n",
    "topics = \"key figures, technical indicators and analyst recommendations\"\n",
    "input = {\"ticker\": ticker, \"topics\": topics, \"period\": period}\n",
    "invoke_cohere_with_tools(input=input,tools=yfinance_tools,prompt_template=prompt_template_summary)"
   ]
  },
  {
   "cell_type": "markdown",
   "metadata": {},
   "source": [
    "## Imports for Embeddings and Qdrant"
   ]
  },
  {
   "cell_type": "code",
   "execution_count": 36,
   "metadata": {},
   "outputs": [],
   "source": [
    "from langchain.text_splitter import RecursiveCharacterTextSplitter\n",
    "from langchain.document_loaders import WebBaseLoader\n",
    "from langchain.embeddings.cohere import CohereEmbeddings\n",
    "from langchain.vectorstores import Qdrant\n",
    "from langchain_community.vectorstores import Qdrant\n",
    "from langchain.prompts import PromptTemplate\n",
    "from langchain.chains import ConversationalRetrievalChain\n",
    "from langchain.chains.conversation.memory import ConversationSummaryMemory\n",
    "import qdrant_client"
   ]
  },
  {
   "cell_type": "markdown",
   "metadata": {},
   "source": [
    "## Build Qdrant Vector Store"
   ]
  },
  {
   "cell_type": "code",
   "execution_count": null,
   "metadata": {},
   "outputs": [],
   "source": [
    "# web_links = [\"https://www.fielmann-group.com/ueber-uns/?\",\n",
    "#              \"https://de.wikipedia.org/wiki/Fielmann\",\n",
    "#              \"https://de.wikipedia.org/wiki/G%C3%BCnther_Fielmann\",\n",
    "#              \"https://de.wikipedia.org/wiki/Marc_Fielmann\"] \n",
    "\n",
    "web_links = [\"https://python.langchain.com/v0.2/docs/introduction\",\n",
    "             \"https://python.langchain.com/v0.2/docs/concepts\",\n",
    "             \"https://python.langchain.com/v0.2/docs/integrations/tools\",\n",
    "             \"https://python.langchain.com/v0.2/docs/integrations/vectorstores\",\n",
    "             \"https://python.langchain.com/v0.2/docs/integrations/document_loaders\",\n",
    "             \"https://python.langchain.com/v0.2/docs/integrations/retrievers\",\n",
    "             \"https://python.langchain.com/v0.2/docs/integrations/vectorstores/qdrant\",\n",
    "             \"https://python.langchain.com/v0.2/docs/integrations/providers/cohere/#react-agent\",\n",
    "             \"https://de.wikipedia.org/wiki/Herz#:~:text=Das%20Herz%20(lateinisch%20Cor%2C%20griechisch,die%20Versorgung%20aller%20Organe%20sichert.\"]\n",
    " \n",
    "\n",
    "loader = WebBaseLoader(web_links)\n",
    "document=loader.load()\n",
    "\n",
    "text_splitter = RecursiveCharacterTextSplitter(chunk_size=500, chunk_overlap=0)\n",
    "texts = text_splitter.split_documents(document)\n",
    "\n",
    "embeddings = CohereEmbeddings(model = \"embed-english-v2.0\")\n",
    "\n",
    "qdrant = Qdrant.from_documents(\n",
    "    document,\n",
    "    embeddings,\n",
    "    url=QDRANT_HOST,\n",
    "    api_key=QDRANT_API_KEY,\n",
    "    prefer_grpc=True,\n",
    "    collection_name=\"rag_documents\",\n",
    "    force_recreate=True,\n",
    ")\n"
   ]
  },
  {
   "cell_type": "markdown",
   "metadata": {},
   "source": [
    "## Load Qdrant Vector Store"
   ]
  },
  {
   "cell_type": "code",
   "execution_count": 37,
   "metadata": {},
   "outputs": [
    {
     "name": "stdout",
     "output_type": "stream",
     "text": [
      "connection established !\n"
     ]
    }
   ],
   "source": [
    "client = qdrant_client.QdrantClient(\n",
    "    url=QDRANT_HOST,\n",
    "    api_key=QDRANT_API_KEY,\n",
    ")\n",
    "embeddings = CohereEmbeddings(model=\"embed-english-v2.0\")\n",
    "vector_store = Qdrant(\n",
    "    client = client,\n",
    "    collection_name = \"rag_documents\",\n",
    "    embeddings = embeddings\n",
    ")\n",
    "print(\"connection established !\")"
   ]
  },
  {
   "cell_type": "markdown",
   "metadata": {},
   "source": [
    "## Use Qdrant Vector Store as RAG Retriever for Cohere"
   ]
  },
  {
   "cell_type": "code",
   "execution_count": 38,
   "metadata": {},
   "outputs": [
    {
     "data": {
      "text/html": [
       "<p>The tools in LangChain are:</p>\n",
       "<ul>\n",
       "<li>Alpha Vantage</li>\n",
       "<li>Apify</li>\n",
       "<li>Arxiv</li>\n",
       "<li>AskNews</li>\n",
       "<li>AWS Lambda</li>\n",
       "<li>Azure Container Apps dynamic sessions</li>\n",
       "<li>Shell (bash)</li>\n",
       "<li>Bearly Code Interpreter</li>\n",
       "<li>Bing Search</li>\n",
       "<li>Brave Search</li>\n",
       "<li>ChatGPT Plugins</li>\n",
       "<li>Connery Action Tool</li>\n",
       "<li>Dall-E Image Generator</li>\n",
       "<li>DataForSEO</li>\n",
       "<li>Dataherald</li>\n",
       "<li>DuckDuckGo Search</li>\n",
       "<li>E2B Data Analysis</li>\n",
       "<li>Eden AI</li>\n",
       "<li>Eleven Labs Text2Speech</li>\n",
       "<li>Exa Search</li>\n",
       "<li>File System</li>\n",
       "<li>Golden Query</li>\n",
       "<li>Google Cloud Text-to-Speech</li>\n",
       "<li>Google Drive</li>\n",
       "<li>Google Finance</li>\n",
       "<li>Google Imagen</li>\n",
       "<li>Google Jobs</li>\n",
       "<li>Google Lens</li>\n",
       "<li>Google Places</li>\n",
       "<li>Google Scholar</li>\n",
       "<li>Google Search</li>\n",
       "<li>Google Serper</li>\n",
       "<li>Google Trends</li>\n",
       "<li>Gradio</li>\n",
       "<li>GraphQL</li>\n",
       "<li>HuggingFace Hub Tools</li>\n",
       "<li>Human as a tool</li>\n",
       "<li>IFTTT WebHooks</li>\n",
       "<li>Infobip</li>\n",
       "<li>Ionic Shopping Tool</li>\n",
       "<li>Lemon Agent</li>\n",
       "<li>Memorize</li>\n",
       "<li>Mojeek Search</li>\n",
       "<li>Nuclia Understanding</li>\n",
       "<li>NVIDIA Riva: ASR and TTS</li>\n",
       "<li>OpenWeatherMap</li>\n",
       "<li>Oracle AI Vector Search: Generate Summary</li>\n",
       "<li>Passio NutritionAI</li>\n",
       "<li>Polygon Stock Market API Tools</li>\n",
       "<li>PubMed</li>\n",
       "<li>Python REPL</li>\n",
       "<li>Reddit Search</li>\n",
       "<li>Requests</li>\n",
       "<li>SceneXplain</li>\n",
       "<li>Search Tools</li>\n",
       "<li>SearchApi</li>\n",
       "<li>SearxNG Search</li>\n",
       "<li>Semantic Scholar API Tool</li>\n",
       "<li>SerpAPI</li>\n",
       "<li>SQL Database</li>\n",
       "<li>StackExchange</li>\n",
       "<li>Tavily Search</li>\n",
       "<li>Twilio</li>\n",
       "<li>Upstage</li>\n",
       "<li>Wikidata</li>\n",
       "<li>Wikipedia</li>\n",
       "<li>Wolfram Alpha</li>\n",
       "<li>Yahoo Finance News</li>\n",
       "<li>You.com Search</li>\n",
       "<li>YouTube</li>\n",
       "<li>Zapier Natural Language Actions</li>\n",
       "</ul>"
      ],
      "text/plain": [
       "<IPython.core.display.HTML object>"
      ]
     },
     "metadata": {},
     "output_type": "display_data"
    }
   ],
   "source": [
    "prompt_template = \"\"\"\n",
    "You are a bot to answer questions from a document.\n",
    "    \n",
    "You will be given a context of the conversation made so far followed by a question, \n",
    "give the answer to the question using the context. \n",
    "The answer should be short, straight and to the point. If you don't know the answer, reply that the answer is not available.\n",
    "\n",
    "Context: {context}\n",
    "\n",
    "Question: {question}\n",
    "Answer:\"\"\"\n",
    "\n",
    "PROMPT = PromptTemplate(\n",
    "    template=prompt_template, input_variables=[\"context\", \"question\"]\n",
    ")\n",
    "\n",
    "chain_type_kwargs = { \"prompt\" : PROMPT }\n",
    "\n",
    "llm = ChatCohere()\n",
    "\n",
    "template = (\n",
    "        \"\"\"Combine the chat history and follow up question into \n",
    "        a standalone question. \n",
    "        If chat hsitory is empty, use the follow up question as it is.\n",
    "        Chat History: {chat_history}\n",
    "        Follow up question: {question}\"\"\"\n",
    "    )\n",
    "\n",
    "prompt = PromptTemplate.from_template(template)\n",
    "\n",
    "chain = ConversationalRetrievalChain.from_llm(     \n",
    "    llm = llm,\n",
    "    chain_type = \"stuff\",\n",
    "    memory = ConversationSummaryMemory(llm = llm, memory_key='chat_history', input_key='question', output_key= 'answer', return_messages=True),\n",
    "    retriever = vector_store.as_retriever(search_type=\"mmr\"),\n",
    "    condense_question_prompt = prompt,\n",
    "    return_source_documents=False,\n",
    "    combine_docs_chain_kwargs=chain_type_kwargs,\n",
    ")\n",
    "customer_prompt = \"What are tools in LangChain?\"\n",
    "\n",
    "\n",
    "llm_response = chain.invoke(\n",
    "                {\n",
    "                    \"context\": chain.memory.buffer,\n",
    "                    \"question\": customer_prompt,\n",
    "                },\n",
    "                return_only_outputs=True,\n",
    "            )\n",
    "\n",
    "display(HTML(markdown.markdown(llm_response['answer'])))\n"
   ]
  }
 ],
 "metadata": {
  "kernelspec": {
   "display_name": "cohere",
   "language": "python",
   "name": "python3"
  },
  "language_info": {
   "codemirror_mode": {
    "name": "ipython",
    "version": 3
   },
   "file_extension": ".py",
   "mimetype": "text/x-python",
   "name": "python",
   "nbconvert_exporter": "python",
   "pygments_lexer": "ipython3",
   "version": "3.12.3"
  }
 },
 "nbformat": 4,
 "nbformat_minor": 2
}
