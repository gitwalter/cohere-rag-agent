{
 "cells": [
  {
   "cell_type": "markdown",
   "metadata": {},
   "source": [
    "# LangChain Cohere Agent using Tools"
   ]
  },
  {
   "cell_type": "markdown",
   "metadata": {},
   "source": [
    "## Install Libraries"
   ]
  },
  {
   "cell_type": "code",
   "execution_count": null,
   "metadata": {},
   "outputs": [],
   "source": [
    "# ! pip install streamlit\n",
    "# ! pip install qdrant-client\n",
    "# ! pip install langchain\n",
    "# ! pip install langchain-community\n",
    "# ! pip install langchain-qdrant\n",
    "# ! pip install langchain-cohere\n",
    "# ! pip install tiktoken\n",
    "# ! pip install cohere\n",
    "# ! pip install bs4\n",
    "# ! pip install markdown\n",
    "# ! pip install wikipedia\n",
    "# ! pip install pyowm\n",
    "# ! pip install yfinance"
   ]
  },
  {
   "cell_type": "markdown",
   "metadata": {},
   "source": [
    "## Imports for Tool Use and Keys\n",
    "### API Keys\n",
    "* https://cohere.com/\n",
    "* https://www.alphavantage.co/\n",
    "* https://qdrant.tech/\n",
    "* https://openweathermap.org/\n",
    "* https://tavily.com/\n",
    "* https://polygon.io/\n"
   ]
  },
  {
   "cell_type": "code",
   "execution_count": 18,
   "metadata": {},
   "outputs": [],
   "source": [
    "from IPython.display import HTML\n",
    "import markdown\n",
    "import warnings\n",
    "import streamlit as st\n",
    "import os\n",
    "from langchain_cohere.llms import Cohere\n",
    "from langchain_core.messages import HumanMessage\n",
    "from langchain_core.prompts import ChatPromptTemplate\n",
    "from langchain_cohere import ChatCohere, create_cohere_react_agent\n",
    "from langchain_community.agent_toolkits.polygon.toolkit import PolygonToolkit\n",
    "from langchain_community.utilities.polygon import PolygonAPIWrapper\n",
    "from langchain.agents import AgentExecutor\n",
    "from cohere_tools import get_internet_search_tool, get_wikipedia_tool, get_openweathermap_tool\n",
    "from yfinance_tools import get_business_summary_tool, get_ticker_history_tool, get_ticker_info_tool\n",
    "from alpha_vantage_tools import (\n",
    "    get_search_symbol_tool,\n",
    "    get_exchange_rate_tool,\n",
    "    # get_time_series_daily_tool,\n",
    "    # get_time_series_weekly_tool,\n",
    "    # get_market_news_sentimen_tool,\n",
    "    # get_top_gainers_losers_tool,\n",
    ")\n",
    "\n",
    "warnings.filterwarnings(\"ignore\")\n",
    "\n",
    "ALPHAVANTAGE_API_KEY = st.secrets[\"ALPHAVANTAGE_API_KEY\"]\n",
    "os.environ[\"ALPHAVANTAGE_API_KEY\"] = st.secrets[\"ALPHAVANTAGE_API_KEY\"]\n",
    "\n",
    "COHERE_API_KEY = st.secrets[\"COHERE_API_KEY\"]\n",
    "os.environ[\"COHERE_API_KEY\"] = st.secrets[\"COHERE_API_KEY\"]\n",
    "\n",
    "QDRANT_HOST = st.secrets[\"QDRANT_HOST\"]\n",
    "QDRANT_API_KEY = st.secrets[\"QDRANT_API_KEY\"]\n",
    "\n",
    "OPEN_WEATHER_API_KEY = st.secrets[\"OPEN_WEATHER_API_KEY\"]\n",
    "os.environ[\"OPENWEATHERMAP_API_KEY\"] = OPEN_WEATHER_API_KEY\n",
    "\n",
    "POLYGON_API_KEY = st.secrets[\"POLYGON_API_KEY\"]\n",
    "os.environ[\"POLYGON_API_KEY\"] = st.secrets[\"POLYGON_API_KEY\"]\n",
    "\n",
    "TAVILY_API_KEY = st.secrets[\"TAVILY_API_KEY\"]\n",
    "os.environ[\"TAVILY_API_KEY\"] = st.secrets[\"TAVILY_API_KEY\"]"
   ]
  },
  {
   "cell_type": "markdown",
   "metadata": {},
   "source": [
    "## Invoke ChatCohere"
   ]
  },
  {
   "cell_type": "code",
   "execution_count": 8,
   "metadata": {},
   "outputs": [
    {
     "name": "stdout",
     "output_type": "stream",
     "text": [
      "content=\"Who's there?\" additional_kwargs={'documents': None, 'citations': None, 'search_results': None, 'search_queries': None, 'is_search_required': None, 'generation_id': '8e78cb0d-af71-425c-aec0-73f4e2ac175f', 'token_count': {'input_tokens': 68, 'output_tokens': 4}} response_metadata={'documents': None, 'citations': None, 'search_results': None, 'search_queries': None, 'is_search_required': None, 'generation_id': '8e78cb0d-af71-425c-aec0-73f4e2ac175f', 'token_count': {'input_tokens': 68, 'output_tokens': 4}} id='run-5561524f-54ce-4c9d-bc1e-c55958d9d77a-0'\n"
     ]
    }
   ],
   "source": [
    "chat = ChatCohere()\n",
    "messages = [HumanMessage(content=\"knock knock\")]\n",
    "print(chat.invoke(messages))"
   ]
  },
  {
   "cell_type": "markdown",
   "metadata": {},
   "source": [
    "## Invoke ChatCohere using ChatPromptTemplate"
   ]
  },
  {
   "cell_type": "code",
   "execution_count": 9,
   "metadata": {},
   "outputs": [
    {
     "data": {
      "text/plain": [
       "AIMessage(content='Why don’t bears wear socks?\\n\\nThey have bear feet!', additional_kwargs={'documents': None, 'citations': None, 'search_results': None, 'search_queries': None, 'is_search_required': None, 'generation_id': 'c9c7e2b2-8d70-4a99-814f-c36f593e3de5', 'token_count': {'input_tokens': 72, 'output_tokens': 15}}, response_metadata={'documents': None, 'citations': None, 'search_results': None, 'search_queries': None, 'is_search_required': None, 'generation_id': 'c9c7e2b2-8d70-4a99-814f-c36f593e3de5', 'token_count': {'input_tokens': 72, 'output_tokens': 15}}, id='run-87c97268-c707-438f-8c86-ccc31919c308-0')"
      ]
     },
     "execution_count": 9,
     "metadata": {},
     "output_type": "execute_result"
    }
   ],
   "source": [
    "prompt = ChatPromptTemplate.from_template(\"Tell me a joke about {topic}\")\n",
    "chain = prompt | chat\n",
    "chain.invoke({\"topic\": \"bears\"})"
   ]
  },
  {
   "cell_type": "markdown",
   "metadata": {},
   "source": [
    "## Invoke Cohere"
   ]
  },
  {
   "cell_type": "code",
   "execution_count": 12,
   "metadata": {},
   "outputs": [
    {
     "data": {
      "text/html": [
       "<p>The theory of Kahnemann and Tversky is a collection of cognitive biases that affect how people make decisions and form beliefs. The theory consists of three components:</p>\n",
       "<ol>\n",
       "<li>\n",
       "<p>Cognitive Simplification: This component discusses how people often rely on heuristics or rules of thumb when making decisions. These heuristics can lead to biases and errors in judgment, as they may not always be accurate or logical.</p>\n",
       "</li>\n",
       "<li>\n",
       "<p>Cognitive Ease: This component talks about how people tend to gravitate towards choices that require less cognitive effort and are often predisposed to options that are easier to process and understand. This can result in decisions that may not always be the most optimal or rational.</p>\n",
       "</li>\n",
       "<li>\n",
       "<p>Altering Experience: This component explains how individuals adjust their experiences to alleviate cognitive dissonance. They presents examples such as the choice to ignore or minimize losses or to overestimate the likelihood of events with positive outcomes. </p>\n",
       "</li>\n",
       "</ol>\n",
       "<p>Overall, the theory of Kahnemann and Tversky highlights the numerous ways in which human reasoning can be flawed due to cognitive biases. </p>\n",
       "<p>The theory has been influential in the fields of psychology, behavioral economics, and decision-making, and has important implications for understanding human behavior in a variety of contexts. </p>"
      ],
      "text/plain": [
       "<IPython.core.display.HTML object>"
      ]
     },
     "metadata": {},
     "output_type": "display_data"
    }
   ],
   "source": [
    "llm = Cohere()\n",
    "display(HTML(markdown.markdown(llm.invoke(\"Summarize the theory of Kahnemann and Tversky\"))))"
   ]
  },
  {
   "cell_type": "markdown",
   "metadata": {},
   "source": [
    "## Invoke Cohere with Tools"
   ]
  },
  {
   "cell_type": "code",
   "execution_count": 19,
   "metadata": {},
   "outputs": [],
   "source": [
    "def invoke_cohere_with_tools(input, tools, prompt_template=\"{input}\",no_markdown=False):\n",
    "    llm = ChatCohere()\n",
    "    prompt = ChatPromptTemplate.from_template(prompt_template)\n",
    "    agent = create_cohere_react_agent(llm, tools, prompt)\n",
    "    agent_executor = AgentExecutor(agent=agent, tools=tools, verbose=True)\n",
    "    response = agent_executor.invoke(input)\n",
    "    if no_markdown:\n",
    "        print(response['output'])\n",
    "    else:\n",
    "        display(HTML(markdown.markdown(response['output'])))\n",
    "\n"
   ]
  },
  {
   "cell_type": "markdown",
   "metadata": {},
   "source": [
    "## Tavily Internet Search Tool"
   ]
  },
  {
   "cell_type": "code",
   "execution_count": 8,
   "metadata": {},
   "outputs": [
    {
     "name": "stdout",
     "output_type": "stream",
     "text": [
      "\n",
      "\n",
      "\u001b[1m> Entering new AgentExecutor chain...\u001b[0m\n",
      "\u001b[32;1m\u001b[1;3m\n",
      "I will search for 'Amazon IPO date' and then write an answer.\n",
      "{'tool_name': 'internet_search', 'parameters': {'query': 'Amazon IPO date'}}\n",
      "\u001b[0m\u001b[36;1m\u001b[1;3m[{'url': 'https://www.cnbc.com/2018/09/05/if-you-invested-1000-in-amazon-in-1997-heres-what-youd-have-now.html', 'content': \"From 8/28/2017 to 8/31/2018. As impressive as that is, original investors in Amazon fare even better. If you had invested $1,000 during Amazon's IPO in May 1997, your investment would be worth ...\"}, {'url': 'https://www.fool.com/investing/2022/09/22/invested-10000-in-amazon-ipo-in-1997-how-much-now/', 'content': 'Amazon went public on May 15, 1997, at $18 per share. A $10,000 investment in Amazon at its IPO would be worth over $16 million today, thanks to its online marketplace, Prime membership, and cloud business.'}, {'url': 'https://finance.yahoo.com/news/heres-much-investing-1-000-151649171.html', 'content': \"On May 15, 1997, Amazon.com, Inc. (NASDAQ: AMZN) held its initial public offering. In the past 23 years, the SPDR S&P 500 ETF Trust (NYSE: SPY) is up 236%, but it's safe to say Amazon IPO ...\"}, {'url': 'https://www.fool.com/investing/2019/11/24/if-you-invested-500-in-amazons-ipo-this-is-how-muc.aspx', 'content': 'The ultimate growth stock. Amazon first sold shares to the public on May 15, 1997. The initial public offering (IPO) was priced at $18 per share. There have been three stock splits, all between ...'}]\u001b[0m\u001b[32;1m\u001b[1;3mRelevant Documents: 0,1,2,3\n",
      "Cited Documents: 0,1,2,3\n",
      "Answer: Amazon's IPO took place on 15 May 1997.\n",
      "Grounded answer: Amazon's IPO took place on <co: 1,2,3>15</co: 1,2,3> <co: 0,1,2,3>May</co: 0,1,2,3> <co: 0,1,2,3>1997</co: 0,1,2,3>.\u001b[0m\n",
      "\n",
      "\u001b[1m> Finished chain.\u001b[0m\n"
     ]
    },
    {
     "data": {
      "text/html": [
       "<p>Amazon's IPO took place on 15 May 1997.</p>"
      ],
      "text/plain": [
       "<IPython.core.display.HTML object>"
      ]
     },
     "metadata": {},
     "output_type": "display_data"
    }
   ],
   "source": [
    "prompt_template = \"In which year had {stock_name} its IPO? Tell me the year and the date.\"\n",
    "input =  {\"stock_name\": \"Amazon\"}\n",
    "tools = [get_internet_search_tool()]\n",
    "invoke_cohere_with_tools(input, tools, prompt_template)"
   ]
  },
  {
   "cell_type": "markdown",
   "metadata": {},
   "source": [
    "## Wikipedia Tool"
   ]
  },
  {
   "cell_type": "code",
   "execution_count": 9,
   "metadata": {},
   "outputs": [
    {
     "name": "stdout",
     "output_type": "stream",
     "text": [
      "\n",
      "\n",
      "\u001b[1m> Entering new AgentExecutor chain...\u001b[0m\n",
      "\u001b[32;1m\u001b[1;3m\n",
      "I will search for 'Kahnemann and Tversky theory' and write an answer based on the information I find.\n",
      "{'tool_name': 'wikipedia-tool', 'parameters': {'query': 'Kahnemann and Tversky theory'}}\n",
      "\u001b[0m\u001b[36;1m\u001b[1;3mPage: Daniel Kahneman\n",
      "Summary: Daniel Kahneman (; Hebrew: דניאל כהנמן; March 5, 1934 – March 27, 2024) was an Israeli-American cognitive scientist best-known for his work on the psychology of judgment and decision-making. He is also known for his work in behavioral economics, for which he was awarded the 2002 Nobel Memorial Prize in Economic Sciences together with Vernon L. Smith. Kahneman's published empirical findings challenge the assumption of human rationality prevailing in modern economic theory. Kahneman became known as the \"grandfather of behavioral economics.\"\n",
      "With Amos Tversky and others, Kahneman established a cognitive basis for common human errors that arise from heuristics and biases, and developed prospect theory. In 2011, Kahneman was named by Foreign Policy magazine in its list of top global thinkers. In the same year, his book Thinking, Fast and Slow, which summarizes much of his research, was published and became a best seller. In 2015, The Economist listed him as the seventh most influential economist in the world.\n",
      "Kahneman was professor emeritus of psychology and public affairs at Princeton University's Princeton School of Public and International Affairs. Kahneman was a founding partner of TGG Group, a business and philanthropy consulting company. He was married to cognitive psychologist and Royal Society Fellow Anne Treisman, who died in 2018.\n",
      "\n",
      "\u001b[0m\n",
      "\u001b[32;1m\u001b[1;3m\u001b[0m\n",
      "\n",
      "\u001b[1m> Finished chain.\u001b[0m\n"
     ]
    },
    {
     "data": {
      "text/html": [
       "<p>Page: Daniel Kahneman\n",
       "Summary: Daniel Kahneman (; Hebrew: דניאל כהנמן; March 5, 1934 – March 27, 2024) was an Israeli-American cognitive scientist best-known for his work on the psychology of judgment and decision-making. He is also known for his work in behavioral economics, for which he was awarded the 2002 Nobel Memorial Prize in Economic Sciences together with Vernon L. Smith. Kahneman's published empirical findings challenge the assumption of human rationality prevailing in modern economic theory. Kahneman became known as the \"grandfather of behavioral economics.\"\n",
       "With Amos Tversky and others, Kahneman established a cognitive basis for common human errors that arise from heuristics and biases, and developed prospect theory. In 2011, Kahneman was named by Foreign Policy magazine in its list of top global thinkers. In the same year, his book Thinking, Fast and Slow, which summarizes much of his research, was published and became a best seller. In 2015, The Economist listed him as the seventh most influential economist in the world.\n",
       "Kahneman was professor emeritus of psychology and public affairs at Princeton University's Princeton School of Public and International Affairs. Kahneman was a founding partner of TGG Group, a business and philanthropy consulting company. He was married to cognitive psychologist and Royal Society Fellow Anne Treisman, who died in 2018.</p>"
      ],
      "text/plain": [
       "<IPython.core.display.HTML object>"
      ]
     },
     "metadata": {},
     "output_type": "display_data"
    }
   ],
   "source": [
    "input =  {\"input\": \"Explain the theory of Kahnemann and Tversky\"}\n",
    "tools = [get_wikipedia_tool()]\n",
    "invoke_cohere_with_tools(input, tools)"
   ]
  },
  {
   "cell_type": "markdown",
   "metadata": {},
   "source": [
    "## Run tool without agent"
   ]
  },
  {
   "cell_type": "code",
   "execution_count": 20,
   "metadata": {},
   "outputs": [
    {
     "data": {
      "text/plain": [
       "\"Page: David Beckham\\nSummary: David Robert Joseph Beckham  ( BEK-əm; born 2 May 1975) is an English former professional footballer, the president and co-owner of Inter Miami CF and co-owner of Salford City. Primarily a right winger and known for his range of passing, crossing ability and free-kick taking, Beckham has been hailed as one of the greatest and most recognisable midfielders of his generation, as well as one of the best free-kick takers of all time. He won 19 major trophies in his career, and is the first English player to win league titles in four different countries: England, Spain, the United States and France.\\nBeckham's professional club career began with Manchester United, where he made his first-team debut in 1992 at age 17. With United, he won the Premier League title six times, the FA Cup twice, the FA Charity Shield twice, the Intercontinental Cup and the UEFA Champions League in 1999. He then played four seasons with Real Madrid, winning the La Liga championship in his final season with the club. In July 2007, Beckham signed a five-year contract with Major League Soccer club LA Galaxy. While a Galaxy player, he spent two loan spells in Italy with AC Milan in 2009 and 2010. He became the first British footballer to play 100 UEFA Champions League games. He retired in May 2013 after a 20-year career.\\nIn international football, Beckham made his England debut on 1 September 1996, at the age of 21. He was captain for six years, earning 58 caps during his tenure. He made 115 career appearances in total, appearing at three FIFA World Cups in 1998, 2002 and 2006 as well as two UEFA European Championships in 2000 and 2004. Beckham held the England appearance record for an outfield player until 2016.\\nA global ambassador of football, Beckham is considered to be a British cultural icon. He has been in a well publicised marriage to Victoria Beckham since 1999 and was consistently ranked among the highest earners in football, in 2013 being listed as the highest-paid player in the world having earned over $50 million in the previous twelve months. Beckham was runner-up in the Ballon d'Or in 1999, twice runner-up for FIFA World Player of the Year (1999 and 2001) and in 2004 was named by Pelé in the FIFA 100 list of the world's greatest living players. He was inducted into the English Football Hall of Fame in 2008, and the Premier League Hall of Fame in 2021. He has been a UNICEF ambassador since 2005, and in 2015 he launched 7: The David Beckham UNICEF Fund. In 2014, MLS announced that Beckham and a group of investors would own Inter Miami, which began playing in 2020.\\n\\n\""
      ]
     },
     "execution_count": 20,
     "metadata": {},
     "output_type": "execute_result"
    }
   ],
   "source": [
    "wikipedia_tool.run(\"David Beckham\")"
   ]
  },
  {
   "cell_type": "markdown",
   "metadata": {},
   "source": [
    "## Openweathermap Tool"
   ]
  },
  {
   "cell_type": "code",
   "execution_count": 4,
   "metadata": {},
   "outputs": [
    {
     "name": "stdout",
     "output_type": "stream",
     "text": [
      "\n",
      "\n",
      "\u001b[1m> Entering new AgentExecutor chain...\u001b[0m\n",
      "\u001b[32;1m\u001b[1;3m\n",
      "I will search for the weather in Salvador da Bahia and then write an answer.\n",
      "{'tool_name': 'open_weather_map', 'parameters': {'location': 'Salvador da Bahia'}}\n",
      "\u001b[0m\u001b[36;1m\u001b[1;3mIn Salvador da Bahia, the current weather is as follows:\n",
      "Detailed status: overcast clouds\n",
      "Wind speed: 6.3 m/s, direction: 126°\n",
      "Humidity: 78%\n",
      "Temperature: \n",
      "  - Current: 23.98°C\n",
      "  - High: 23.98°C\n",
      "  - Low: 23.98°C\n",
      "  - Feels like: 24.47°C\n",
      "Rain: {}\n",
      "Heat index: None\n",
      "Cloud cover: 100%\u001b[0m\u001b[32;1m\u001b[1;3mRelevant Documents: 0\n",
      "Cited Documents: 0\n",
      "Answer: In Salvador da Bahia, it is currently 23.98°C and overcast. The wind speed is 6.3 m/s and the humidity is 78%.\n",
      "Grounded answer: In Salvador da Bahia, it is currently <co: 0>23.98°C</co: 0> and <co: 0>overcast</co: 0>. The <co: 0>wind speed is 6.3 m/s</co: 0> and the <co: 0>humidity is 78</co: 0>%.\u001b[0m\n",
      "\n",
      "\u001b[1m> Finished chain.\u001b[0m\n"
     ]
    },
    {
     "data": {
      "text/html": [
       "<p>In Salvador da Bahia, it is currently 23.98°C and overcast. The wind speed is 6.3 m/s and the humidity is 78%.</p>"
      ],
      "text/plain": [
       "<IPython.core.display.HTML object>"
      ]
     },
     "metadata": {},
     "output_type": "display_data"
    }
   ],
   "source": [
    "input = {\"input\": \"How is the weather in Salvador da Bahia?\"}\n",
    "tools = [get_openweathermap_tool()]\n",
    "invoke_cohere_with_tools(input, tools)"
   ]
  },
  {
   "cell_type": "markdown",
   "metadata": {},
   "source": [
    "## Multiple Tool Use\n",
    "1. wiki-tool\n",
    "2. open_weather_map\n",
    "3. internet_search"
   ]
  },
  {
   "cell_type": "code",
   "execution_count": 5,
   "metadata": {},
   "outputs": [
    {
     "name": "stdout",
     "output_type": "stream",
     "text": [
      "\n",
      "\n",
      "\u001b[1m> Entering new AgentExecutor chain...\u001b[0m\n",
      "\u001b[32;1m\u001b[1;3m\n",
      "I will use Wikipedia to answer this question.\n",
      "{'tool_name': 'wikipedia-tool', 'parameters': {'query': 'Who was George Washington?'}}\n",
      "\u001b[0m\u001b[38;5;200m\u001b[1;3mPage: George Washington Carver\n",
      "Summary: George Washington Carver (c. 1864 – January 5, 1943) was an American agricultural scientist and inventor who promoted alternative crops to cotton and methods to prevent soil depletion. He was one of the most prominent black scientists of the early 20th century.\n",
      "While a professor at Tuskegee Institute, Carver developed techniques to improve types of soils depleted by repeated plantings of cotton. He wanted poor farmers to grow other crops, such as peanuts and sweet potatoes, as a source of their own food and to improve their quality of life. Under his leadership, the Experiment Station at Tuskegee published over forty practical bulletins for farmers, many written by him, which included recipes; many of the bulletins contained advice for poor farmers, including combating soil depletion with limited financial means, producing bigger crops, and preserving food.\n",
      "Apart from his work to improve the lives of farmers, Carver was also a leader in promoting environmentalism. He received numerous honors for his work, including the Spingarn Medal of the NAACP. In an era of high racial polarization, his fame reached beyond the black community. He was widely recognized and praised in the white community for his many achievements and talents. In 1941, Time magazine dubbed Carver a \"Black Leonardo\".\n",
      "Color film of Carver shot in 1937 at the Tuskegee Institute by African American surgeon Allen Alexander was added to the National Film Registry of the Library of Congress in 2019. The 12 minutes of footage includes Carver in his apartment, office and laboratory, as well as images of him tending flowers and displaying his paintings.\u001b[0m\n",
      "\u001b[32;1m\u001b[1;3m\u001b[0m\n",
      "\n",
      "\u001b[1m> Finished chain.\u001b[0m\n"
     ]
    },
    {
     "data": {
      "text/html": [
       "<p>Page: George Washington Carver\n",
       "Summary: George Washington Carver (c. 1864 – January 5, 1943) was an American agricultural scientist and inventor who promoted alternative crops to cotton and methods to prevent soil depletion. He was one of the most prominent black scientists of the early 20th century.\n",
       "While a professor at Tuskegee Institute, Carver developed techniques to improve types of soils depleted by repeated plantings of cotton. He wanted poor farmers to grow other crops, such as peanuts and sweet potatoes, as a source of their own food and to improve their quality of life. Under his leadership, the Experiment Station at Tuskegee published over forty practical bulletins for farmers, many written by him, which included recipes; many of the bulletins contained advice for poor farmers, including combating soil depletion with limited financial means, producing bigger crops, and preserving food.\n",
       "Apart from his work to improve the lives of farmers, Carver was also a leader in promoting environmentalism. He received numerous honors for his work, including the Spingarn Medal of the NAACP. In an era of high racial polarization, his fame reached beyond the black community. He was widely recognized and praised in the white community for his many achievements and talents. In 1941, Time magazine dubbed Carver a \"Black Leonardo\".\n",
       "Color film of Carver shot in 1937 at the Tuskegee Institute by African American surgeon Allen Alexander was added to the National Film Registry of the Library of Congress in 2019. The 12 minutes of footage includes Carver in his apartment, office and laboratory, as well as images of him tending flowers and displaying his paintings.</p>"
      ],
      "text/plain": [
       "<IPython.core.display.HTML object>"
      ]
     },
     "metadata": {},
     "output_type": "display_data"
    },
    {
     "name": "stdout",
     "output_type": "stream",
     "text": [
      "\n",
      "\n",
      "\u001b[1m> Entering new AgentExecutor chain...\u001b[0m\n",
      "\u001b[32;1m\u001b[1;3m\n",
      "I will use the Open Weather Map tool to find the weather in Mortugaba, Bahia, Brazil.\n",
      "{'tool_name': 'open_weather_map', 'parameters': {'location': 'Mortugaba, Bahia, Brazil'}}\n",
      "\u001b[0m\u001b[36;1m\u001b[1;3mIn Mortugaba, Bahia, Brazil, the current weather is as follows:\n",
      "Detailed status: overcast clouds\n",
      "Wind speed: 2.1 m/s, direction: 130°\n",
      "Humidity: 97%\n",
      "Temperature: \n",
      "  - Current: 16.09°C\n",
      "  - High: 16.09°C\n",
      "  - Low: 16.09°C\n",
      "  - Feels like: 16.29°C\n",
      "Rain: {}\n",
      "Heat index: None\n",
      "Cloud cover: 98%\u001b[0m\u001b[32;1m\u001b[1;3mRelevant Documents: 0\n",
      "Cited Documents: 0\n",
      "Answer: In Mortugaba, Bahia, Brazil, the weather is currently overcast with a temperature of 16.09°C. It's 97% humidity and there's a wind speed of 2.1 m/s.\n",
      "Grounded answer: In Mortugaba, Bahia, Brazil, the weather is currently <co: 0>overcast</co: 0> with a <co: 0>temperature of 16.09°C</co: 0>. It's <co: 0>97% humidity</co: 0> and there's a <co: 0>wind speed of 2.1 m/s</co: 0>.\u001b[0m\n",
      "\n",
      "\u001b[1m> Finished chain.\u001b[0m\n"
     ]
    },
    {
     "data": {
      "text/html": [
       "<p>In Mortugaba, Bahia, Brazil, the weather is currently overcast with a temperature of 16.09°C. It's 97% humidity and there's a wind speed of 2.1 m/s.</p>"
      ],
      "text/plain": [
       "<IPython.core.display.HTML object>"
      ]
     },
     "metadata": {},
     "output_type": "display_data"
    },
    {
     "name": "stdout",
     "output_type": "stream",
     "text": [
      "\n",
      "\n",
      "\u001b[1m> Entering new AgentExecutor chain...\u001b[0m\n",
      "\u001b[32;1m\u001b[1;3m\n",
      "I will search for 'news 5 June 2024' and write an answer based on the results.\n",
      "{'tool_name': 'internet_search', 'parameters': {'query': 'news 5 june 2024'}}\n",
      "\u001b[0m\u001b[33;1m\u001b[1;3m[{'url': 'https://www.bloomberg.com/news/articles/2024-06-04/stock-market-today-dow-s-p-live-updates', 'content': 'The S&P 500 edged up to around 5,290, with futures little changed on Wednesday. The MSCI Emerging Market Index fell the most in seven weeks after India stocks had their worst day in more than four ...'}, {'url': 'https://www.cnn.com/2024/06/04/us/5-things-to-know-for-june-4-hunter-biden-india-election-covid-19-heat-dome-middle-east/index.html', 'content': '4. Heat dome. A heat dome is sending temperatures into the triple-digits across the Western US as wildfires burn in the region. Excessive heat warnings are in effect this week for more than 10 ...'}, {'url': 'https://www.unep.org/events/un-day/world-environment-day-2024', 'content': 'When: 5 June 2024 Theme: Land restoration, desertification and drought resilience Host: The Kingdom of Saudi Arabia Visit the official campaign website. World Environment Day is the biggest international day for the environment. Led by the United Nations Environment Programme (UNEP), and held annually since 1973, it has grown to be the largest global platform for environmental outreach.'}, {'url': 'https://www.unep.org/ietc/news/blogpost/world-environment-day｜5-june-2024', 'content': '5 June is World Environment Day Established by the United Nations General Assembly in 1973, World Environment Day is the largest international event focused on the environment, coordinated by the UN Environment Programme (UNEP). Millions of people from governments, businesses, civil society, and educational institutions participate annually to raise awareness and take action on environmental ...'}]\u001b[0m\u001b[32;1m\u001b[1;3mRelevant Documents: 0,1,2,3\n",
      "Cited Documents: 0,1,2,3\n",
      "Answer: It's World Environment Day, the biggest international day for the environment. The theme this year is land restoration, desertification and drought resilience. \n",
      "\n",
      "In other news, wildfires are burning in the Western US, where a heat dome is sending temperatures into the triple digits. The S&P 500 edged up to around 5,290, with futures little changed on Wednesday.\n",
      "Grounded answer: It's <co: 2,3>World Environment Day</co: 2,3>, the <co: 2>biggest international day for the environment</co: 2>. The <co: 2>theme this year is land restoration, desertification and drought resilience</co: 2>. \n",
      "\n",
      "In other news, <co: 1>wildfires are burning in the Western US</co: 1>, where a <co: 1>heat dome is sending temperatures into the triple digits</co: 1>. The <co: 0>S&P 500 edged up to around 5,290</co: 0>, with <co: 0>futures little changed on Wednesday</co: 0>.\u001b[0m\n",
      "\n",
      "\u001b[1m> Finished chain.\u001b[0m\n"
     ]
    },
    {
     "data": {
      "text/html": [
       "<p>It's World Environment Day, the biggest international day for the environment. The theme this year is land restoration, desertification and drought resilience. </p>\n",
       "<p>In other news, wildfires are burning in the Western US, where a heat dome is sending temperatures into the triple digits. The S&amp;P 500 edged up to around 5,290, with futures little changed on Wednesday.</p>"
      ],
      "text/plain": [
       "<IPython.core.display.HTML object>"
      ]
     },
     "metadata": {},
     "output_type": "display_data"
    }
   ],
   "source": [
    "tools = [get_openweathermap_tool(), get_internet_search_tool(), get_wikipedia_tool()]\n",
    "prompt_template = \"Use the right tool to answer the following question. If wikipedia_tool delivers no result use internet_search: {input}\"\n",
    "\n",
    "input = {\"input\": \"Who was George Washington?\"}\n",
    "invoke_cohere_with_tools(input, tools, prompt_template)\n",
    "\n",
    "input = {\"input\": \"What's the weather like in Mortugaba, Bahia, Brazil?\"}\n",
    "invoke_cohere_with_tools(input, tools, prompt_template)\n",
    "\n",
    "input = {\"input\": \"Whats in the news today?\"}\n",
    "invoke_cohere_with_tools(input, tools, prompt_template)"
   ]
  },
  {
   "cell_type": "markdown",
   "metadata": {},
   "source": [
    "## Yfinance Tools"
   ]
  },
  {
   "cell_type": "code",
   "execution_count": 10,
   "metadata": {},
   "outputs": [],
   "source": [
    "tools = [get_business_summary_tool(),get_ticker_history_tool(), get_ticker_info_tool(), get_search_symbol_tool()]"
   ]
  },
  {
   "cell_type": "markdown",
   "metadata": {},
   "source": [
    "## Business Summary Tool"
   ]
  },
  {
   "cell_type": "code",
   "execution_count": 11,
   "metadata": {},
   "outputs": [
    {
     "name": "stdout",
     "output_type": "stream",
     "text": [
      "\n",
      "\n",
      "\u001b[1m> Entering new AgentExecutor chain...\u001b[0m\n",
      "\u001b[32;1m\u001b[1;3m\n",
      "I will first search for the stock market symbol for Microsoft, then I will use this information to find a business summary for the company.\n",
      "{'tool_name': 'av_search_symbols', 'parameters': {'tool_input': 'stock market symbol for Microsoft'}}\n",
      "\u001b[0m\u001b[36;1m\u001b[1;3m{'bestMatches': []}\u001b[0m\u001b[32;1m\u001b[1;3m\n",
      "I have found that the stock market symbol for Microsoft is MSFT. I will now use this information to find a business summary for the company.\n",
      "{'tool_name': 'yf_get_business_summary', 'parameters': {'ticker_symbol': 'MSFT'}}\n",
      "\u001b[0m\u001b[36;1m\u001b[1;3mMicrosoft Corporation develops and supports software, services, devices and solutions worldwide. The Productivity and Business Processes segment offers office, exchange, SharePoint, Microsoft Teams, office 365 Security and Compliance, Microsoft viva, and Microsoft 365 copilot; and office consumer services, such as Microsoft 365 consumer subscriptions, Office licensed on-premises, and other office services. This segment also provides LinkedIn; and dynamics business solutions, including Dynamics 365, a set of intelligent, cloud-based applications across ERP, CRM, power apps, and power automate; and on-premises ERP and CRM applications. The Intelligent Cloud segment offers server products and cloud services, such as azure and other cloud services; SQL and windows server, visual studio, system center, and related client access licenses, as well as nuance and GitHub; and enterprise services including enterprise support services, industry solutions, and nuance professional services. The More Personal Computing segment offers Windows, including windows OEM licensing and other non-volume licensing of the Windows operating system; Windows commercial comprising volume licensing of the Windows operating system, windows cloud services, and other Windows commercial offerings; patent licensing; and windows Internet of Things; and devices, such as surface, HoloLens, and PC accessories. Additionally, this segment provides gaming, which includes Xbox hardware and content, and first- and third-party content; Xbox game pass and other subscriptions, cloud gaming, advertising, third-party disc royalties, and other cloud services; and search and news advertising, which includes Bing, Microsoft News and Edge, and third-party affiliates. The company sells its products through OEMs, distributors, and resellers; and directly through digital marketplaces, online, and retail stores. The company was founded in 1975 and is headquartered in Redmond, Washington.\u001b[0m\u001b[32;1m\u001b[1;3mRelevant Documents: 1\n",
      "Cited Documents: 1\n",
      "Answer: The stock market symbol for Microsoft is MSFT. \n",
      "\n",
      "Microsoft Corporation develops and supports software, services, devices and solutions worldwide. The company's segments include Productivity and Business Processes, Intelligent Cloud, and More Personal Computing. The Productivity and Business Processes segment offers office, exchange, SharePoint, Microsoft Teams, office 365 Security and Compliance, Microsoft viva, and Microsoft 365 copilot; and office consumer services, such as Microsoft 365 consumer subscriptions, Office licensed on-premises, and other office services. The Intelligent Cloud segment offers server products and cloud services, such as azure and other cloud services; SQL and windows server, visual studio, system center, and related client access licenses, as well as nuance and GitHub; and enterprise services including enterprise support services, industry solutions, and nuance professional services. The More Personal Computing segment offers Windows, including windows OEM licensing and other non-volume licensing of the Windows operating system; Windows commercial comprising volume licensing of the Windows operating system, windows cloud services, and other Windows commercial offerings; patent licensing; and windows Internet of Things; and devices, such as surface, HoloLens, and PC accessories. Additionally, this segment provides gaming, which includes Xbox hardware and content, and first- and third-party content; Xbox game pass and other subscriptions, cloud gaming, advertising, third-party disc royalties, and other cloud services; and search and news advertising, which includes Bing, Microsoft News and Edge, and third-party affiliates. The company sells its products through OEMs, distributors, and resellers; and directly through digital marketplaces, online, and retail stores. The company was founded in 1975 and is headquartered in Redmond, Washington.\n",
      "Grounded answer: The stock market symbol for Microsoft is <co: 1>MSFT</co: 1>. \n",
      "\n",
      "<co: 1>Microsoft Corporation</co: 1> <co: 1>develops and supports software, services, devices and solutions worldwide</co: 1>. The company's segments include <co: 1>Productivity and Business Processes</co: 1>, <co: 1>Intelligent Cloud</co: 1>, and <co: 1>More Personal Computing</co: 1>. The <co: 1>Productivity and Business Processes</co: 1> segment offers <co: 1>office, exchange, SharePoint, Microsoft Teams, office 365 Security and Compliance, Microsoft viva, and Microsoft 365 copilot</co: 1>; and <co: 1>office consumer services, such as Microsoft 365 consumer subscriptions, Office licensed on-premises, and other office services</co: 1>. The <co: 1>Intelligent Cloud</co: 1> segment offers <co: 1>server products and cloud services, such as azure and other cloud services; SQL and windows server, visual studio, system center, and related client access licenses, as well as nuance and GitHub; and enterprise services including enterprise support services, industry solutions, and nuance professional services</co: 1>. The <co: 1>More Personal Computing</co: 1> segment offers <co: 1>Windows, including windows OEM licensing and other non-volume licensing of the Windows operating system; Windows commercial comprising volume licensing of the Windows operating system, windows cloud services, and other Windows commercial offerings; patent licensing; and windows Internet of Things; and devices, such as surface, HoloLens, and PC accessories</co: 1>. Additionally, this segment provides <co: 1>gaming, which includes Xbox hardware and content, and first- and third-party content; Xbox game pass and other subscriptions, cloud gaming, advertising, third-party disc royalties, and other cloud services; and search and news advertising, which includes Bing, Microsoft News and Edge, and third-party affiliates</co: 1>. The company <co: 1>sells its products through OEMs, distributors, and resellers; and directly through digital marketplaces, online, and retail stores</co: 1>. The company was <co: 1>founded in 1975</co: 1> and is <co: 1>headquartered in Redmond, Washington</co: 1>.\u001b[0m\n",
      "\n",
      "\u001b[1m> Finished chain.\u001b[0m\n"
     ]
    },
    {
     "data": {
      "text/html": [
       "<p>The stock market symbol for Microsoft is MSFT. </p>\n",
       "<p>Microsoft Corporation develops and supports software, services, devices and solutions worldwide. The company's segments include Productivity and Business Processes, Intelligent Cloud, and More Personal Computing. The Productivity and Business Processes segment offers office, exchange, SharePoint, Microsoft Teams, office 365 Security and Compliance, Microsoft viva, and Microsoft 365 copilot; and office consumer services, such as Microsoft 365 consumer subscriptions, Office licensed on-premises, and other office services. The Intelligent Cloud segment offers server products and cloud services, such as azure and other cloud services; SQL and windows server, visual studio, system center, and related client access licenses, as well as nuance and GitHub; and enterprise services including enterprise support services, industry solutions, and nuance professional services. The More Personal Computing segment offers Windows, including windows OEM licensing and other non-volume licensing of the Windows operating system; Windows commercial comprising volume licensing of the Windows operating system, windows cloud services, and other Windows commercial offerings; patent licensing; and windows Internet of Things; and devices, such as surface, HoloLens, and PC accessories. Additionally, this segment provides gaming, which includes Xbox hardware and content, and first- and third-party content; Xbox game pass and other subscriptions, cloud gaming, advertising, third-party disc royalties, and other cloud services; and search and news advertising, which includes Bing, Microsoft News and Edge, and third-party affiliates. The company sells its products through OEMs, distributors, and resellers; and directly through digital marketplaces, online, and retail stores. The company was founded in 1975 and is headquartered in Redmond, Washington.</p>"
      ],
      "text/plain": [
       "<IPython.core.display.HTML object>"
      ]
     },
     "metadata": {},
     "output_type": "display_data"
    }
   ],
   "source": [
    "input = {\"input\": \"What is the stock market symbol for Microsoft? Give me a business summary for the company.\"}\n",
    "invoke_cohere_with_tools(input, tools)"
   ]
  },
  {
   "cell_type": "markdown",
   "metadata": {},
   "source": [
    "## Ticker History Tool"
   ]
  },
  {
   "cell_type": "code",
   "execution_count": 21,
   "metadata": {},
   "outputs": [
    {
     "name": "stdout",
     "output_type": "stream",
     "text": [
      "\n",
      "\n",
      "\u001b[1m> Entering new AgentExecutor chain...\u001b[0m\n",
      "\u001b[32;1m\u001b[1;3m\n",
      "I will search for the ticker history of BRK-B for the last 5 days.\n",
      "{'tool_name': 'yf_get_ticker_history', 'parameters': {'ticker_symbol': 'BRK-B', 'period': '5d'}}\n",
      "\u001b[0m\u001b[33;1m\u001b[1;3m<table border=\"1\" class=\"dataframe\">\n",
      "  <thead>\n",
      "    <tr style=\"text-align: right;\">\n",
      "      <th></th>\n",
      "      <th>Open</th>\n",
      "      <th>High</th>\n",
      "      <th>Low</th>\n",
      "      <th>Close</th>\n",
      "      <th>Volume</th>\n",
      "      <th>Dividends</th>\n",
      "      <th>Stock Splits</th>\n",
      "    </tr>\n",
      "    <tr>\n",
      "      <th>Date</th>\n",
      "      <th></th>\n",
      "      <th></th>\n",
      "      <th></th>\n",
      "      <th></th>\n",
      "      <th></th>\n",
      "      <th></th>\n",
      "      <th></th>\n",
      "    </tr>\n",
      "  </thead>\n",
      "  <tbody>\n",
      "    <tr>\n",
      "      <th>2024-05-29 00:00:00-04:00</th>\n",
      "      <td>403.000000</td>\n",
      "      <td>405.869995</td>\n",
      "      <td>401.579987</td>\n",
      "      <td>404.089996</td>\n",
      "      <td>3426800</td>\n",
      "      <td>0.0</td>\n",
      "      <td>0.0</td>\n",
      "    </tr>\n",
      "    <tr>\n",
      "      <th>2024-05-30 00:00:00-04:00</th>\n",
      "      <td>403.769989</td>\n",
      "      <td>409.040009</td>\n",
      "      <td>402.769989</td>\n",
      "      <td>408.609985</td>\n",
      "      <td>2905300</td>\n",
      "      <td>0.0</td>\n",
      "      <td>0.0</td>\n",
      "    </tr>\n",
      "    <tr>\n",
      "      <th>2024-05-31 00:00:00-04:00</th>\n",
      "      <td>408.089996</td>\n",
      "      <td>415.399994</td>\n",
      "      <td>406.880005</td>\n",
      "      <td>414.399994</td>\n",
      "      <td>5190000</td>\n",
      "      <td>0.0</td>\n",
      "      <td>0.0</td>\n",
      "    </tr>\n",
      "    <tr>\n",
      "      <th>2024-06-03 00:00:00-04:00</th>\n",
      "      <td>414.890015</td>\n",
      "      <td>416.720001</td>\n",
      "      <td>408.779999</td>\n",
      "      <td>414.790009</td>\n",
      "      <td>4903000</td>\n",
      "      <td>0.0</td>\n",
      "      <td>0.0</td>\n",
      "    </tr>\n",
      "    <tr>\n",
      "      <th>2024-06-04 00:00:00-04:00</th>\n",
      "      <td>414.890015</td>\n",
      "      <td>415.890015</td>\n",
      "      <td>406.440094</td>\n",
      "      <td>406.869995</td>\n",
      "      <td>1762127</td>\n",
      "      <td>0.0</td>\n",
      "      <td>0.0</td>\n",
      "    </tr>\n",
      "  </tbody>\n",
      "</table>\u001b[0m\u001b[32;1m\u001b[1;3mRelevant Documents: 0\n",
      "Cited Documents: 0\n",
      "Answer: BRK-B's performance over the last 5 days has been as follows:\n",
      "\n",
      "| Date | Open | High | Low | Close | Volume | Dividends | Stock Splits |\n",
      "|---|---|---|---|---|---|---|---|\n",
      "| 2024-05-29 | 403.00 | 405.87 | 401.58 | 404.09 | 3426800 | 0.0 | 0.0 |\n",
      "| 2024-05-30 | 403.77 | 409.04 | 402.77 | 408.61 | 2905300 | 0.0 | 0.0 |\n",
      "| 2024-05-31 | 408.09 | 415.40 | 406.88 | 414.40 | 5190000 | 0.0 | 0.0 |\n",
      "| 2024-06-03 | 414.89 | 416.72 | 408.78 | 414.79 | 4903000 | 0.0 | 0.0 |\n",
      "| 2024-06-04 | 414.89 | 415.89 | 406.44 | 406.87 | 1762127 | 0.0 | 0.0 |\n",
      "Grounded answer: BRK-B's performance over the last 5 days has been as follows:\n",
      "\n",
      "| <co: 0>Date</co: 0> | <co: 0>Open</co: 0> | <co: 0>High</co: 0> | <co: 0>Low</co: 0> | <co: 0>Close</co: 0> | <co: 0>Volume</co: 0> | <co: 0>Dividends</co: 0> | <co: 0>Stock Splits</co: 0> |\n",
      "|---|---|---|---|---|---|---|---|\n",
      "| <co: 0>2024-05-29</co: 0> | <co: 0>403.00</co: 0> | <co: 0>405.87</co: 0> | <co: 0>401.58</co: 0> | <co: 0>404.09</co: 0> | <co: 0>3426800</co: 0> | <co: 0>0.0</co: 0> | <co: 0>0.0</co: 0> |\n",
      "| <co: 0>2024-05-30</co: 0> | <co: 0>403.77</co: 0> | <co: 0>409.04</co: 0> | <co: 0>402.77</co: 0> | <co: 0>408.61</co: 0> | <co: 0>2905300</co: 0> | <co: 0>0.0</co: 0> | <co: 0>0.0</co: 0> |\n",
      "| <co: 0>2024-05-31</co: 0> | <co: 0>408.09</co: 0> | <co: 0>415.40</co: 0> | <co: 0>406.88</co: 0> | <co: 0>414.40</co: 0> | <co: 0>5190000</co: 0> | <co: 0>0.0</co: 0> | <co: 0>0.0</co: 0> |\n",
      "| <co: 0>2024-06-03</co: 0> | <co: 0>414.89</co: 0> | <co: 0>416.72</co: 0> | <co: 0>408.78</co: 0> | <co: 0>414.79</co: 0> | <co: 0>4903000</co: 0> | <co: 0>0.0</co: 0> | <co: 0>0.0</co: 0> |\n",
      "| <co: 0>2024-06-04</co: 0> | <co: 0>414.89</co: 0> | <co: 0>415.89</co: 0> | <co: 0>406.44</co: 0> | <co: 0>406.87</co: 0> | <co: 0>1762127</co: 0> | <co: 0>0.0</co: 0> | <co: 0>0.0</co: 0> |\u001b[0m\n",
      "\n",
      "\u001b[1m> Finished chain.\u001b[0m\n"
     ]
    },
    {
     "data": {
      "text/html": [
       "<p>BRK-B's performance over the last 5 days has been as follows:</p>\n",
       "<p>| Date | Open | High | Low | Close | Volume | Dividends | Stock Splits |\n",
       "|---|---|---|---|---|---|---|---|\n",
       "| 2024-05-29 | 403.00 | 405.87 | 401.58 | 404.09 | 3426800 | 0.0 | 0.0 |\n",
       "| 2024-05-30 | 403.77 | 409.04 | 402.77 | 408.61 | 2905300 | 0.0 | 0.0 |\n",
       "| 2024-05-31 | 408.09 | 415.40 | 406.88 | 414.40 | 5190000 | 0.0 | 0.0 |\n",
       "| 2024-06-03 | 414.89 | 416.72 | 408.78 | 414.79 | 4903000 | 0.0 | 0.0 |\n",
       "| 2024-06-04 | 414.89 | 415.89 | 406.44 | 406.87 | 1762127 | 0.0 | 0.0 |</p>"
      ],
      "text/plain": [
       "<IPython.core.display.HTML object>"
      ]
     },
     "metadata": {},
     "output_type": "display_data"
    },
    {
     "data": {
      "text/html": [
       "<table border=\"1\" class=\"dataframe\">\n",
       "  <thead>\n",
       "    <tr style=\"text-align: right;\">\n",
       "      <th></th>\n",
       "      <th>Open</th>\n",
       "      <th>High</th>\n",
       "      <th>Low</th>\n",
       "      <th>Close</th>\n",
       "      <th>Volume</th>\n",
       "      <th>Dividends</th>\n",
       "      <th>Stock Splits</th>\n",
       "    </tr>\n",
       "    <tr>\n",
       "      <th>Date</th>\n",
       "      <th></th>\n",
       "      <th></th>\n",
       "      <th></th>\n",
       "      <th></th>\n",
       "      <th></th>\n",
       "      <th></th>\n",
       "      <th></th>\n",
       "    </tr>\n",
       "  </thead>\n",
       "  <tbody>\n",
       "    <tr>\n",
       "      <th>2024-05-29 00:00:00-04:00</th>\n",
       "      <td>403.000000</td>\n",
       "      <td>405.869995</td>\n",
       "      <td>401.579987</td>\n",
       "      <td>404.089996</td>\n",
       "      <td>3426800</td>\n",
       "      <td>0.0</td>\n",
       "      <td>0.0</td>\n",
       "    </tr>\n",
       "    <tr>\n",
       "      <th>2024-05-30 00:00:00-04:00</th>\n",
       "      <td>403.769989</td>\n",
       "      <td>409.040009</td>\n",
       "      <td>402.769989</td>\n",
       "      <td>408.609985</td>\n",
       "      <td>2905300</td>\n",
       "      <td>0.0</td>\n",
       "      <td>0.0</td>\n",
       "    </tr>\n",
       "    <tr>\n",
       "      <th>2024-05-31 00:00:00-04:00</th>\n",
       "      <td>408.089996</td>\n",
       "      <td>415.399994</td>\n",
       "      <td>406.880005</td>\n",
       "      <td>414.399994</td>\n",
       "      <td>5190000</td>\n",
       "      <td>0.0</td>\n",
       "      <td>0.0</td>\n",
       "    </tr>\n",
       "    <tr>\n",
       "      <th>2024-06-03 00:00:00-04:00</th>\n",
       "      <td>414.890015</td>\n",
       "      <td>416.720001</td>\n",
       "      <td>408.779999</td>\n",
       "      <td>414.790009</td>\n",
       "      <td>4903000</td>\n",
       "      <td>0.0</td>\n",
       "      <td>0.0</td>\n",
       "    </tr>\n",
       "    <tr>\n",
       "      <th>2024-06-04 00:00:00-04:00</th>\n",
       "      <td>414.890015</td>\n",
       "      <td>415.890015</td>\n",
       "      <td>406.440094</td>\n",
       "      <td>406.869995</td>\n",
       "      <td>1762127</td>\n",
       "      <td>0.0</td>\n",
       "      <td>0.0</td>\n",
       "    </tr>\n",
       "  </tbody>\n",
       "</table>"
      ],
      "text/plain": [
       "<IPython.core.display.HTML object>"
      ]
     },
     "metadata": {},
     "output_type": "display_data"
    }
   ],
   "source": [
    "input = {\"input\": \"How did BRK-B perform the last 5d?\"}\n",
    "invoke_cohere_with_tools(input, tools)"
   ]
  },
  {
   "cell_type": "markdown",
   "metadata": {},
   "source": [
    "## Ticker Info Tool"
   ]
  },
  {
   "cell_type": "code",
   "execution_count": 12,
   "metadata": {},
   "outputs": [
    {
     "name": "stdout",
     "output_type": "stream",
     "text": [
      "\n",
      "\n",
      "\u001b[1m> Entering new AgentExecutor chain...\u001b[0m\n",
      "\u001b[32;1m\u001b[1;3m\n",
      "I will use the 'yf_get_ticker_info' tool to find the information requested by the user.\n",
      "{'tool_name': 'yf_get_ticker_info', 'parameters': {'ticker_symbol': 'META'}}\n",
      "\u001b[0m\u001b[36;1m\u001b[1;3m{'address1': '1 Meta Way', 'city': 'Menlo Park', 'state': 'CA', 'zip': '94025', 'country': 'United States', 'phone': '650 543 4800', 'website': 'https://investor.fb.com', 'industry': 'Internet Content & Information', 'industryKey': 'internet-content-information', 'industryDisp': 'Internet Content & Information', 'sector': 'Communication Services', 'sectorKey': 'communication-services', 'sectorDisp': 'Communication Services', 'longBusinessSummary': 'Meta Platforms, Inc. engages in the development of products that enable people to connect and share with friends and family through mobile devices, personal computers, virtual reality headsets, and wearables worldwide. It operates in two segments, Family of Apps and Reality Labs. The Family of Apps segment offers Facebook, which enables people to share, discuss, discover, and connect with interests; Instagram, a community for sharing photos, videos, and private messages, as well as feed, stories, reels, video, live, and shops; Messenger, a messaging application for people to connect with friends, family, communities, and businesses across platforms and devices through text, audio, and video calls; and WhatsApp, a messaging application that is used by people and businesses to communicate and transact privately. The Reality Labs segment provides augmented and virtual reality related products comprising consumer hardware, software, and content that help people feel connected, anytime, and anywhere. The company was formerly known as Facebook, Inc. and changed its name to Meta Platforms, Inc. in October 2021. The company was incorporated in 2004 and is headquartered in Menlo Park, California', 'fullTimeEmployees': 69329, 'companyOfficers': [{'maxAge': 1, 'name': 'Mr. Mark Elliot Zuckerberg', 'age': 39, 'title': 'Founder, Chairman & CEO', 'yearBorn': 1984, 'fiscalYear': 2023, 'totalPay': 24399968, 'exercisedValue': 0, 'unexercisedValue': 0}, {'maxAge': 1, 'name': 'Ms. Susan J. S. Li', 'age': 37, 'title': 'Chief Financial Officer', 'yearBorn': 1986, 'fiscalYear': 2023, 'totalPay': 1963161, 'exercisedValue': 0, 'unexercisedValue': 0}, {'maxAge': 1, 'name': 'Mr. Javier  Olivan', 'age': 46, 'title': 'Chief Operating Officer', 'yearBorn': 1977, 'fiscalYear': 2023, 'totalPay': 4065442, 'exercisedValue': 0, 'unexercisedValue': 0}, {'maxAge': 1, 'name': 'Mr. Andrew  Bosworth', 'age': 41, 'title': 'Chief Technology Officer', 'yearBorn': 1982, 'fiscalYear': 2023, 'totalPay': 2000988, 'exercisedValue': 0, 'unexercisedValue': 0}, {'maxAge': 1, 'name': 'Mr. Christopher K. Cox', 'age': 40, 'title': 'Chief Product Officer', 'yearBorn': 1983, 'fiscalYear': 2023, 'totalPay': 2013913, 'exercisedValue': 0, 'unexercisedValue': 0}, {'maxAge': 1, 'name': 'Mr. Aaron A. Anderson', 'title': 'Chief Accounting Officer', 'fiscalYear': 2023, 'exercisedValue': 0, 'unexercisedValue': 0}, {'maxAge': 1, 'name': 'Mr. Atish  Banerjea', 'age': 57, 'title': 'Chief Information Officer', 'yearBorn': 1966, 'fiscalYear': 2023, 'exercisedValue': 0, 'unexercisedValue': 0}, {'maxAge': 1, 'name': 'Ms. Deborah T. Crawford', 'title': 'Vice President of Investor Relations', 'fiscalYear': 2023, 'exercisedValue': 0, 'unexercisedValue': 0}, {'maxAge': 1, 'name': 'Ms. Jennifer G. Newstead', 'age': 53, 'title': 'Chief Legal Officer', 'yearBorn': 1970, 'fiscalYear': 2023, 'totalPay': 3079624, 'exercisedValue': 0, 'unexercisedValue': 0}, {'maxAge': 1, 'name': 'Mr. Henry T. A. Moniz', 'age': 58, 'title': 'Chief Compliance Officer', 'yearBorn': 1965, 'fiscalYear': 2023, 'exercisedValue': 0, 'unexercisedValue': 0}], 'auditRisk': 9, 'boardRisk': 10, 'compensationRisk': 10, 'shareHolderRightsRisk': 10, 'overallRisk': 10, 'governanceEpochDate': 1717200000, 'compensationAsOfEpochDate': 1703980800, 'maxAge': 86400, 'priceHint': 2, 'previousClose': 477.49, 'open': 477.0, 'dayLow': 473.2322, 'dayHigh': 478.89, 'regularMarketPreviousClose': 477.49, 'regularMarketOpen': 477.0, 'regularMarketDayLow': 473.2322, 'regularMarketDayHigh': 478.89, 'dividendRate': 2.0, 'dividendYield': 0.0042, 'exDividendDate': 1718323200, 'payoutRatio': 0.028800001, 'beta': 1.208, 'trailingPE': 27.476381, 'forwardPE': 20.604319, 'volume': 6943737, 'regularMarketVolume': 6943737, 'averageVolume': 15452073, 'averageVolume10days': 11087610, 'averageDailyVolume10Day': 11087610, 'bid': 476.76, 'ask': 477.08, 'bidSize': 100, 'askSize': 200, 'marketCap': 1211168194560, 'fiftyTwoWeekLow': 258.88, 'fiftyTwoWeekHigh': 531.49, 'priceToSalesTrailing12Months': 8.4868, 'fiftyDayAverage': 480.8866, 'twoHundredDayAverage': 393.6079, 'trailingAnnualDividendRate': 0.5, 'trailingAnnualDividendYield': 0.0010471423, 'currency': 'USD', 'enterpriseValue': 1189414436864, 'profitMargins': 0.32062998, 'floatShares': 2186746126, 'sharesOutstanding': 2191450112, 'sharesShort': 29721686, 'sharesShortPriorMonth': 27026387, 'sharesShortPreviousMonthDate': 1713139200, 'dateShortInterest': 1715731200, 'sharesPercentSharesOut': 0.0117, 'heldPercentInsiders': 0.00183, 'heldPercentInstitutions': 0.79175, 'shortRatio': 1.51, 'shortPercentOfFloat': 0.0136, 'impliedSharesOutstanding': 2539190016, 'bookValue': 58.939, 'priceToBook': 8.092943, 'lastFiscalYearEnd': 1703980800, 'nextFiscalYearEnd': 1735603200, 'mostRecentQuarter': 1711843200, 'earningsQuarterlyGrowth': 1.167, 'netIncomeToCommon': 45758001152, 'trailingEps': 17.36, 'forwardEps': 23.15, 'pegRatio': 0.79, 'enterpriseToRevenue': 8.334, 'enterpriseToEbitda': 17.377, '52WeekChange': 0.80952203, 'SandP52WeekChange': 0.23990989, 'lastDividendValue': 0.5, 'lastDividendDate': 1708473600, 'exchange': 'NMS', 'quoteType': 'EQUITY', 'symbol': 'META', 'underlyingSymbol': 'META', 'shortName': 'Meta Platforms, Inc.', 'longName': 'Meta Platforms, Inc.', 'firstTradeDateEpochUtc': 1337347800, 'timeZoneFullName': 'America/New_York', 'timeZoneShortName': 'EDT', 'uuid': 'e59f1c4f-b1aa-3d70-a8c3-eb59ff3e461b', 'messageBoardId': 'finmb_20765463', 'gmtOffSetMilliseconds': -14400000, 'currentPrice': 476.99, 'targetHighPrice': 593.0, 'targetLowPrice': 260.0, 'targetMeanPrice': 512.85, 'targetMedianPrice': 520.0, 'recommendationMean': 1.8, 'recommendationKey': 'buy', 'numberOfAnalystOpinions': 51, 'totalCash': 58119999488, 'totalCashPerShare': 22.913, 'ebitda': 68446998528, 'totalDebt': 37632999424, 'quickRatio': 2.546, 'currentRatio': 2.681, 'totalRevenue': 142711996416, 'debtToEquity': 25.168, 'revenuePerShare': 55.671, 'returnOnAssets': 0.17312999, 'returnOnEquity': 0.33361, 'freeCashflow': 35132125184, 'operatingCashflow': 76360998912, 'earningsGrowth': 1.141, 'revenueGrowth': 0.273, 'grossMargins': 0.81496, 'ebitdaMargins': 0.47962, 'operatingMargins': 0.38579, 'financialCurrency': 'USD', 'trailingPegRatio': 1.1026}\u001b[0m\u001b[32;1m\u001b[1;3mRelevant Documents: 0\n",
      "Cited Documents: 0\n",
      "Answer: Here is a list of the 25 most important financial information about META:\n",
      "\n",
      "- ^ Previous Close: 477.49\n",
      "- ^ Open: 477.0\n",
      "- ^ Day's Range: 473.2322 - 478.89\n",
      "- ^ 52 Week Range: 258.88 - 531.49\n",
      "- ^ Volume: 6,943,737\n",
      "- ^ Average Volume: 15,452,073\n",
      "- ^ Market Capitalisation: $1,211,168,194,560\n",
      "- ^ Beta: 1.208\n",
      "- ^ PE Ratio: 27.476381\n",
      "- ^ Forward PE: 20.604319\n",
      "- ^ EPS: 17.36\n",
      "- ^ Dividend: 2.0\n",
      "- ^ Yield: 0.0042\n",
      "- ^ Shares Outstanding: 2,191,450,112\n",
      "- ^ Shares in Float: 2,186,746,126\n",
      "- ^ % Held by Insiders: 0.00183\n",
      "- ^ % Held by Institutions: 0.79175\n",
      "- ^ Short Ratio: 1.51\n",
      "- ^ Short % of Float: 0.0136\n",
      "- ^ Revenue: $142,711,996,416\n",
      "- ^ Revenue Per Share: 55.671\n",
      "- ^ Gross Profit: $116,661,997,312\n",
      "- ^ EBITDA: $68,446,998,528\n",
      "- ^ Net Income: $45,758,001,152\n",
      "- ^ Operating Cash Flow: $76,360,998,912\n",
      "- ^ Free Cash Flow: $35,132,125,184\n",
      "- ^ Book Value: 58.939\n",
      "Grounded answer: Here is a list of the 25 most important financial information about META:\n",
      "\n",
      "- ^ <co: 0>Previous Close: 477.49</co: 0>\n",
      "- ^ <co: 0>Open: 477.0</co: 0>\n",
      "- ^ <co: 0>Day's Range: 473.2322 - 478.89</co: 0>\n",
      "- ^ <co: 0>52 Week Range: 258.88 - 531.49</co: 0>\n",
      "- ^ <co: 0>Volume: 6,943,737</co: 0>\n",
      "- ^ <co: 0>Average Volume: 15,452,073</co: 0>\n",
      "- ^ <co: 0>Market Capitalisation: $1,211,168,194,560</co: 0>\n",
      "- ^ <co: 0>Beta: 1.208</co: 0>\n",
      "- ^ <co: 0>PE Ratio: 27.476381</co: 0>\n",
      "- ^ <co: 0>Forward PE: 20.604319</co: 0>\n",
      "- ^ <co: 0>EPS: 17.36</co: 0>\n",
      "- ^ <co: 0>Dividend: 2.0</co: 0>\n",
      "- ^ <co: 0>Yield: 0.0042</co: 0>\n",
      "- ^ <co: 0>Shares Outstanding: 2,191,450,112</co: 0>\n",
      "- ^ <co: 0>Shares in Float: 2,186,746,126</co: 0>\n",
      "- ^ <co: 0>% Held by Insiders: 0.00183</co: 0>\n",
      "- ^ <co: 0>% Held by Institutions: 0.79175</co: 0>\n",
      "- ^ <co: 0>Short Ratio: 1.51</co: 0>\n",
      "- ^ <co: 0>Short % of Float: 0.0136</co: 0>\n",
      "- ^ <co: 0>Revenue: $142,711,996,416</co: 0>\n",
      "- ^ <co: 0>Revenue Per Share: 55.671</co: 0>\n",
      "- ^ <co: 0>Gross Profit: $116,661,997,312</co: 0>\n",
      "- ^ <co: 0>EBITDA: $68,446,998,528</co: 0>\n",
      "- ^ <co: 0>Net Income: $45,758,001,152</co: 0>\n",
      "- ^ <co: 0>Operating Cash Flow: $76,360,998,912</co: 0>\n",
      "- ^ <co: 0>Free Cash Flow: $35,132,125,184</co: 0>\n",
      "- ^ <co: 0>Book Value: 58.939</co: 0>\u001b[0m\n",
      "\n",
      "\u001b[1m> Finished chain.\u001b[0m\n"
     ]
    },
    {
     "data": {
      "text/html": [
       "<p>Here is a list of the 25 most important financial information about META:</p>\n",
       "<ul>\n",
       "<li>^ Previous Close: 477.49</li>\n",
       "<li>^ Open: 477.0</li>\n",
       "<li>^ Day's Range: 473.2322 - 478.89</li>\n",
       "<li>^ 52 Week Range: 258.88 - 531.49</li>\n",
       "<li>^ Volume: 6,943,737</li>\n",
       "<li>^ Average Volume: 15,452,073</li>\n",
       "<li>^ Market Capitalisation: $1,211,168,194,560</li>\n",
       "<li>^ Beta: 1.208</li>\n",
       "<li>^ PE Ratio: 27.476381</li>\n",
       "<li>^ Forward PE: 20.604319</li>\n",
       "<li>^ EPS: 17.36</li>\n",
       "<li>^ Dividend: 2.0</li>\n",
       "<li>^ Yield: 0.0042</li>\n",
       "<li>^ Shares Outstanding: 2,191,450,112</li>\n",
       "<li>^ Shares in Float: 2,186,746,126</li>\n",
       "<li>^ % Held by Insiders: 0.00183</li>\n",
       "<li>^ % Held by Institutions: 0.79175</li>\n",
       "<li>^ Short Ratio: 1.51</li>\n",
       "<li>^ Short % of Float: 0.0136</li>\n",
       "<li>^ Revenue: $142,711,996,416</li>\n",
       "<li>^ Revenue Per Share: 55.671</li>\n",
       "<li>^ Gross Profit: $116,661,997,312</li>\n",
       "<li>^ EBITDA: $68,446,998,528</li>\n",
       "<li>^ Net Income: $45,758,001,152</li>\n",
       "<li>^ Operating Cash Flow: $76,360,998,912</li>\n",
       "<li>^ Free Cash Flow: $35,132,125,184</li>\n",
       "<li>^ Book Value: 58.939</li>\n",
       "</ul>"
      ],
      "text/plain": [
       "<IPython.core.display.HTML object>"
      ]
     },
     "metadata": {},
     "output_type": "display_data"
    }
   ],
   "source": [
    "prompt_template = \"I need detailed information about {ticker_symbol}. Produce a key value list for the 25 most important financial informations using CRLF before each point.\"\n",
    "tools = [get_ticker_info_tool()]\n",
    "input = {\"ticker_symbol\": \"META\"}\n",
    "\n",
    "invoke_cohere_with_tools(input, tools, prompt_template)"
   ]
  },
  {
   "cell_type": "markdown",
   "metadata": {},
   "source": [
    "## Alpha Vantage Tool"
   ]
  },
  {
   "cell_type": "code",
   "execution_count": 16,
   "metadata": {},
   "outputs": [
    {
     "name": "stdout",
     "output_type": "stream",
     "text": [
      "\n",
      "\n",
      "\u001b[1m> Entering new AgentExecutor chain...\u001b[0m\n",
      "\u001b[32;1m\u001b[1;3m\n",
      "I will use the currency conversion tool to find out how much one USD is in EUR.\n",
      "{'tool_name': 'av_get_exchange_rate', 'parameters': {'from_currency': 'USD', 'to_currency': 'EUR'}}\n",
      "\u001b[0m\u001b[36;1m\u001b[1;3m{'Realtime Currency Exchange Rate': {'1. From_Currency Code': 'USD', '2. From_Currency Name': 'United States Dollar', '3. To_Currency Code': 'EUR', '4. To_Currency Name': 'Euro', '5. Exchange Rate': '0.91900000', '6. Last Refreshed': '2024-06-05 04:32:35', '7. Time Zone': 'UTC', '8. Bid Price': '0.91890000', '9. Ask Price': '0.91900000'}}\u001b[0m\n",
      "\u001b[32;1m\u001b[1;3m\u001b[0m\n",
      "\n",
      "\u001b[1m> Finished chain.\u001b[0m\n",
      "{'Realtime Currency Exchange Rate': {'1. From_Currency Code': 'USD', '2. From_Currency Name': 'United States Dollar', '3. To_Currency Code': 'EUR', '4. To_Currency Name': 'Euro', '5. Exchange Rate': '0.91900000', '6. Last Refreshed': '2024-06-05 04:32:35', '7. Time Zone': 'UTC', '8. Bid Price': '0.91890000', '9. Ask Price': '0.91900000'}}\n"
     ]
    }
   ],
   "source": [
    "tools = [\n",
    "    # get_search_symbol_tool(),\n",
    "    get_exchange_rate_tool(),\n",
    "    # get_time_series_daily_tool(),\n",
    "    # get_time_series_weekly_tool(),\n",
    "    # get_market_news_sentimen_tool(),\n",
    "    # get_top_gainers_losers_tool(),\n",
    "]\n",
    "# alpha_vantage = AlphaVantageAPIWrapper()\n",
    "# alpha_vantage._get_exchange_rate(\"USD\", \"JPY\")\n",
    "# alpha_vantage._get_time_series_daily(\"MSFT\")\n",
    "# alpha_vantage._get_time_series_weekly(\"IBM\")\n",
    "# alpha_vantage.search_symbols(\"American Superconductor\")\n",
    "# alpha_vantage._get_market_news_sentiment(\"Microsoft\")\n",
    "# alpha_vantage._get_top_gainers_losers()\n",
    "# response = agent_executor.invoke(\n",
    "#     {\"input\": \"What is the symbol for American Superconductor?\"}\n",
    "# )\n",
    "input = {\"input\": \"How much is one USD in EUR?\"}\n",
    "invoke_cohere_with_tools(input, tools, no_markdown= True)\n",
    "# response = agent_executor.invoke({\"input\": \"Who are the gainers and losers at the stock exchange?\"})\n",
    "# response = agent_executor.invoke({\"input\": \"How is Microsoft performing historically?\"})\n",
    "# response = agent_executor.invoke({\"input\": \"How did Apple perform the last time?\"})\n",
    "# response = agent_executor.invoke({\"input\": \"What is in the news about Nvidia?\"})"
   ]
  },
  {
   "cell_type": "markdown",
   "metadata": {},
   "source": [
    "## Polygon Toolkit"
   ]
  },
  {
   "cell_type": "markdown",
   "metadata": {},
   "source": [
    "### Polygon Tools"
   ]
  },
  {
   "cell_type": "code",
   "execution_count": 91,
   "metadata": {},
   "outputs": [
    {
     "data": {
      "text/html": [
       "<h1>polygon_aggregates</h1>\n",
       "\n",
       "<h2>Description</h2>\n",
       "<p>A wrapper around Polygon's Aggregates API. This tool is useful for fetching aggregate bars (stock prices) for a ticker. Input should be the ticker, date range, timespan, and timespan multiplier that you want to get the aggregate bars for.</p>\n",
       "<h2>Schema</h2>\n",
       "<p>{'title': 'PolygonAggregatesSchema', 'description': 'Input for PolygonAggregates.', 'type': 'object', 'properties': {'ticker': {'title': 'Ticker', 'description': 'The ticker symbol to fetch aggregates for.', 'type': 'string'}, 'timespan': {'title': 'Timespan', 'description': \"The size of the time window. Possible values are: second, minute, hour, day, week, month, quarter, year. Default is 'day'\", 'type': 'string'}, 'timespan_multiplier': {'title': 'Timespan Multiplier', 'description': \"The number of timespans to aggregate. For example, if timespan is 'day' and timespan_multiplier is 1, the result will be daily bars. If timespan is 'day' and timespan_multiplier is 5, the result will be weekly bars.  Default is 1.\", 'type': 'integer'}, 'from_date': {'title': 'From Date', 'description': 'The start of the aggregate time window. Either a date with the format YYYY-MM-DD or a millisecond timestamp.', 'type': 'string'}, 'to_date': {'title': 'To Date', 'description': 'The end of the aggregate time window. Either a date with the format YYYY-MM-DD or a millisecond timestamp.', 'type': 'string'}}, 'required': ['ticker', 'timespan', 'timespan_multiplier', 'from_date', 'to_date']}</p>"
      ],
      "text/plain": [
       "<IPython.core.display.HTML object>"
      ]
     },
     "metadata": {},
     "output_type": "display_data"
    },
    {
     "data": {
      "text/html": [
       "<h1>polygon_last_quote</h1>\n",
       "\n",
       "<h2>Description</h2>\n",
       "<p>A wrapper around Polygon's Last Quote API. This tool is useful for fetching the latest price of a stock. Input should be the ticker that you want to query the last price quote for.</p>\n",
       "<h2>Schema</h2>\n",
       "<p>{'title': 'Inputs', 'description': \"Inputs for Polygon's Last Quote API\", 'type': 'object', 'properties': {'query': {'title': 'Query', 'type': 'string'}}, 'required': ['query']}</p>"
      ],
      "text/plain": [
       "<IPython.core.display.HTML object>"
      ]
     },
     "metadata": {},
     "output_type": "display_data"
    },
    {
     "data": {
      "text/html": [
       "<h1>polygon_ticker_news</h1>\n",
       "\n",
       "<h2>Description</h2>\n",
       "<p>A wrapper around Polygon's Ticker News API. This tool is useful for fetching the latest news for a stock. Input should be the ticker that you want to get the latest news for.</p>\n",
       "<h2>Schema</h2>\n",
       "<p>{'title': 'Inputs', 'description': \"Inputs for Polygon's Ticker News API\", 'type': 'object', 'properties': {'query': {'title': 'Query', 'type': 'string'}}, 'required': ['query']}</p>"
      ],
      "text/plain": [
       "<IPython.core.display.HTML object>"
      ]
     },
     "metadata": {},
     "output_type": "display_data"
    },
    {
     "data": {
      "text/html": [
       "<h1>polygon_financials</h1>\n",
       "\n",
       "<h2>Description</h2>\n",
       "<p>A wrapper around Polygon's Stock Financials API. This tool is useful for fetching fundamental financials from balance sheets, income statements, and cash flow statements for a stock ticker. The input should be the ticker that you want to get the latest fundamental financial data for.</p>\n",
       "<h2>Schema</h2>\n",
       "<p>{'title': 'Inputs', 'description': \"Inputs for Polygon's Financials API\", 'type': 'object', 'properties': {'query': {'title': 'Query', 'type': 'string'}}, 'required': ['query']}</p>"
      ],
      "text/plain": [
       "<IPython.core.display.HTML object>"
      ]
     },
     "metadata": {},
     "output_type": "display_data"
    }
   ],
   "source": [
    "polygon = PolygonAPIWrapper()\n",
    "toolkit = PolygonToolkit.from_polygon_api_wrapper(polygon)\n",
    "tools = toolkit.get_tools()\n",
    "for tool in tools:\n",
    "    schema = str(tool.args_schema.schema())\n",
    "    tool_documentation = f\"<h1>{tool.name}</h1>\\n\\n<h2>Description</h2>{tool.description}\\n\\n<h2>Schema</h2>{schema}\"\n",
    "    display(HTML(markdown.markdown(tool_documentation)))"
   ]
  },
  {
   "cell_type": "markdown",
   "metadata": {},
   "source": [
    "### Aggregates"
   ]
  },
  {
   "cell_type": "code",
   "execution_count": 92,
   "metadata": {},
   "outputs": [],
   "source": [
    "# Poloygon is called with the correct arguments but this produces an API error\n",
    "# input = {\"input\": \"How did MSFT perform the last 5 days?\"}\n",
    "# invoke_cohere_with_tools(tools=tools,input=input)"
   ]
  },
  {
   "cell_type": "code",
   "execution_count": 93,
   "metadata": {},
   "outputs": [
    {
     "name": "stdout",
     "output_type": "stream",
     "text": [
      "[{\"v\": 73450582.0, \"vw\": 179.0322, \"o\": 179.55, \"c\": 179.66, \"h\": 180.53, \"l\": 177.38, \"t\": 1709269200000, \"n\": 911077}, {\"v\": 81505451.0, \"vw\": 174.8938, \"o\": 176.15, \"c\": 175.1, \"h\": 176.9, \"l\": 173.79, \"t\": 1709528400000, \"n\": 1167166}, {\"v\": 94702355.0, \"vw\": 170.3234, \"o\": 170.76, \"c\": 170.12, \"h\": 172.04, \"l\": 169.62, \"t\": 1709614800000, \"n\": 1108820}, {\"v\": 68568907.0, \"vw\": 169.5506, \"o\": 171.06, \"c\": 169.12, \"h\": 171.24, \"l\": 168.68, \"t\": 1709701200000, \"n\": 896297}, {\"v\": 71763761.0, \"vw\": 169.3619, \"o\": 169.15, \"c\": 169, \"h\": 170.73, \"l\": 168.49, \"t\": 1709787600000, \"n\": 825405}, {\"v\": 76267041.0, \"vw\": 171.5322, \"o\": 169, \"c\": 170.73, \"h\": 173.7, \"l\": 168.94, \"t\": 1709874000000, \"n\": 925213}]\n"
     ]
    }
   ],
   "source": [
    "from langchain_community.tools.polygon.aggregates import PolygonAggregates\n",
    "from langchain_community.tools.polygon.financials import PolygonFinancials\n",
    "from langchain_community.tools.polygon.last_quote import PolygonLastQuote\n",
    "from langchain_community.tools.polygon.ticker_news import PolygonTickerNews\n",
    "from langchain_community.utilities.polygon import PolygonAPIWrapper\n",
    "from langchain_community.tools.polygon.aggregates import PolygonAggregatesSchema\n",
    "\n",
    "api_wrapper = PolygonAPIWrapper()\n",
    "ticker = \"AAPL\"\n",
    "\n",
    "# Define param\n",
    "params = PolygonAggregatesSchema(\n",
    "    ticker=ticker,\n",
    "    timespan=\"day\",\n",
    "    timespan_multiplier=1,\n",
    "    from_date=\"2024-03-01\",\n",
    "    to_date=\"2024-03-08\",\n",
    ")\n",
    "# Get aggregates for ticker\n",
    "aggregates_tool = PolygonAggregates(api_wrapper=api_wrapper)\n",
    "aggregates = aggregates_tool.run(tool_input=params.dict())\n",
    "print(aggregates)"
   ]
  },
  {
   "cell_type": "markdown",
   "metadata": {},
   "source": [
    "### Last Quote"
   ]
  },
  {
   "cell_type": "code",
   "execution_count": 94,
   "metadata": {},
   "outputs": [],
   "source": [
    "# Works only with premium subscription at Polygon\n",
    "# input = {\"input\": \"What is the end of day price for MSFT?\"}\n",
    "# invoke_cohere_with_tools(tools=tools,input=input)"
   ]
  },
  {
   "cell_type": "markdown",
   "metadata": {},
   "source": [
    "### Ticker News Sentiment"
   ]
  },
  {
   "cell_type": "code",
   "execution_count": 95,
   "metadata": {},
   "outputs": [
    {
     "name": "stdout",
     "output_type": "stream",
     "text": [
      "\n",
      "\n",
      "\u001b[1m> Entering new AgentExecutor chain...\u001b[0m\n",
      "\u001b[32;1m\u001b[1;3m\n",
      "I will search for the news sentiment for VFS and rate the sentiment based on the news.\n",
      "{'tool_name': 'polygon_ticker_news', 'parameters': {'query': 'VFS'}}\n",
      "\u001b[0m\u001b[38;5;200m\u001b[1;3m[{\"id\": \"qg_79F9f3DlsOOghT4RMJ5oasv3BpIT_7tdV-puqQc0\", \"publisher\": {\"name\": \"The Motley Fool\", \"homepage_url\": \"https://www.fool.com/\", \"logo_url\": \"https://s3.polygon.io/public/assets/news/logos/themotleyfool.svg\", \"favicon_url\": \"https://s3.polygon.io/public/assets/news/favicons/themotleyfool.ico\"}, \"title\": \"Is VinFast Auto a Millionaire Maker?\", \"author\": \"newsfeedback@fool.com (Leo Sun)\", \"published_utc\": \"2024-06-01T08:29:00Z\", \"article_url\": \"https://www.fool.com/investing/2024/06/01/is-vinfast-auto-a-millionaire-maker/\", \"tickers\": [\"VFS\"], \"image_url\": \"https://g.foolcdn.com/editorial/images/778746/vinfastvf8.jpg\", \"description\": \"The Vietnamese EV maker ran out of juice over the past year.\", \"keywords\": [\"investing\"]}, {\"id\": \"o12UOiSgqGQg0zf3P_mmt7SR8_61uKBfNx94bATyXpY\", \"publisher\": {\"name\": \"The Motley Fool\", \"homepage_url\": \"https://www.fool.com/\", \"logo_url\": \"https://s3.polygon.io/public/assets/news/logos/themotleyfool.svg\", \"favicon_url\": \"https://s3.polygon.io/public/assets/news/favicons/themotleyfool.ico\"}, \"title\": \"Why VinFast Stock Just Fell 9%\", \"author\": \"newsfeedback@fool.com (Rich Smith)\", \"published_utc\": \"2024-05-21T16:08:44Z\", \"article_url\": \"https://www.fool.com/investing/2024/05/21/why-vinfast-stock-just-fell-9/\", \"tickers\": [\"VFS\"], \"image_url\": \"https://g.foolcdn.com/editorial/images/778138/1-big-red-arrow-going-down-over-a-stock-chart.jpg\", \"description\": \"A VinFast car crashed in April -- and VinFast stock is crashing today.\", \"keywords\": [\"investing\"]}, {\"id\": \"SkVvk4KnXHYNDh8RLurxUR2QdNjQyznDjO4F5ywHlfk\", \"publisher\": {\"name\": \"The Motley Fool\", \"homepage_url\": \"https://www.fool.com/\", \"logo_url\": \"https://s3.polygon.io/public/assets/news/logos/themotleyfool.svg\", \"favicon_url\": \"https://s3.polygon.io/public/assets/news/favicons/themotleyfool.ico\"}, \"title\": \"These 2 EV Stocks Are Still Under the Radar. What Do You Need to Know About Them?\", \"author\": \"newsfeedback@fool.com (Daniel Miller)\", \"published_utc\": \"2024-05-20T10:15:00Z\", \"article_url\": \"https://www.fool.com/investing/2024/05/20/these-2-ev-stocks-are-still-under-the-radar-what/\", \"tickers\": [\"ZK\", \"VFS\"], \"image_url\": \"https://g.foolcdn.com/editorial/images/777527/zeekr001_orange_edition_press.jpg\", \"description\": \"You may not have heard of these two EV stocks, but keep them on your radar.\", \"keywords\": [\"investing\"]}, {\"id\": \"1LKVy98FPfY7fhPYHCSziBx3ua-JiSFguCB8OLLM_Hc\", \"publisher\": {\"name\": \"Benzinga\", \"homepage_url\": \"https://www.benzinga.com/\", \"logo_url\": \"https://s3.polygon.io/public/assets/news/logos/benzinga.svg\", \"favicon_url\": \"https://s3.polygon.io/public/assets/news/favicons/benzinga.ico\"}, \"title\": \"Tesla Sweats Over Approval Of Elon Musk's Pay Plan, Ford's Distress Call To Suppliers, Faraday Future's Mouthwatering Rally And More: Biggest EV Stories Of The Week\", \"author\": \"Shanthi Rexaline\", \"published_utc\": \"2024-05-18T12:59:35Z\", \"article_url\": \"https://www.benzinga.com/analyst-ratings/analyst-color/24/05/38907618/tesla-sweats-over-approval-of-elon-musks-pay-plan-fords-distress-call-to-suppliers-\", \"tickers\": [\"RIVN\", \"VFS\", \"GOOG\", \"F\", \"TSLA\", \"GOOGL\", \"LI\", \"WKHS\", \"KARS\", \"NIO\", \"NKLA\", \"XPEV\", \"GOEV\", \"LCID\", \"HYZN\", \"FFIE\"], \"amp_url\": \"https://www.benzinga.com/amp/content/38907618\", \"image_url\": \"https://cdn.benzinga.com/files/images/story/2024/05/18/Elon-Musk-Tesla.jpeg?width=1200&height=800&fit=crop\", \"description\": \"Electric vehicle stocks rebounded strongly this week, thanks to the broader market buoyancy and the frenzied buying in the small-cap space on the back of the meme rally 2.0.\\nHere are the key events that happened in the EV space during the week:\\nTesla Goes All Out To Convince Shareholders: Tesla, Inc. (NASDAQ:TSLA) is working diligently to get CEO Elon Musk\\u2019s 2018 compensation package reapproved by shareholders at the June 13 annual meeting. The company has been courting retail shareholders through a dedicated \\u201cVote Tesla\\u201d website, and has appointed a strategic advisor and an external law firm to spearhead the campaign, Bloomberg reported.\\nFund Manager Gary Black expressed confidence in the pay plan being approved, seeing it as crucial for ensuring Elon Musk\\u2019s continued involvement with Tesla.\\nTesla, meanwhile, continued to tinker with pricing and promotional measures. The company raised the price of the Model 3 Performance variant by $1,000 in the U.S., on top of a $1,000 hike announced earlier this month. The development is important because the company launched the Model 3 refresh in the U.S. less than a month ago.\\nFord Appeals To Suppliers: Legacy automaker Ford Motor Co. (NYSE:F), which is struggling with its EV transition, is trying hard to cut losses of its EV business. Crain\\u2019s Detroit Business reported Thursday that the company sent a memo to suppliers, seeking their help to reduce costs.\\n\\u201cWe have all invested heavily in the success of the EV business, and we will all win or lose together,\\u201d Liz Door, Ford\\u2019s chief supply ...Full story available on Benzinga.com\", \"keywords\": [\"News\", \"Analyst Color\", \"Top Stories\", \"Media\"]}, {\"id\": \"yayNVWBfJMJvT0OI_bkI_xJyzVjYhnaLnI3NACNGpjc\", \"publisher\": {\"name\": \"The Motley Fool\", \"homepage_url\": \"https://www.fool.com/\", \"logo_url\": \"https://s3.polygon.io/public/assets/news/logos/themotleyfool.svg\", \"favicon_url\": \"https://s3.polygon.io/public/assets/news/favicons/themotleyfool.ico\"}, \"title\": \"Why VinFast Auto Stock Soared Higher This Week\", \"author\": \"newsfeedback@fool.com (Brett Schafer)\", \"published_utc\": \"2024-05-17T22:23:53Z\", \"article_url\": \"https://www.fool.com/investing/2024/05/17/why-vinfast-auto-stock-soared-higher-this-week/\", \"tickers\": [\"VFS\", \"TSLA\", \"FSRN\", \"LCID\", \"RIVN\"], \"image_url\": \"https://g.foolcdn.com/editorial/images/777799/electric-vehicles-2.jpg\", \"description\": \"The Vietnamese automaker saw huge order demand for its new low-cost SUV.\", \"keywords\": [\"investing\"]}, {\"id\": \"vroMP5pwCsD7yl5geIFNZ0yg36uISyxGurWhUTVOZ7U\", \"publisher\": {\"name\": \"Benzinga\", \"homepage_url\": \"https://www.benzinga.com/\", \"logo_url\": \"https://s3.polygon.io/public/assets/news/logos/benzinga.svg\", \"favicon_url\": \"https://s3.polygon.io/public/assets/news/favicons/benzinga.ico\"}, \"title\": \"EV Market Set For 20-23% Growth, Led By China-Based Companies Like Nio, XPeng, Li Auto: JPMorgan\", \"author\": \"Surbhi Jain\", \"published_utc\": \"2024-05-17T15:04:59Z\", \"article_url\": \"https://www.benzinga.com/analyst-ratings/analyst-color/24/05/38896548/ev-market-set-for-20-23-growth-led-by-china-based-companies-like-nio-xpeng-li-auto-\", \"tickers\": [\"MMM\", \"PKX\", \"TSLA\", \"BASFY\", \"LI\", \"XIACY\", \"XIACF\", \"NIO\", \"XPEV\", \"LCID\", \"RIVN\", \"VFS\", \"ZK\", \"KURCF\"], \"amp_url\": \"https://www.benzinga.com/amp/content/38896548\", \"image_url\": \"https://cdn.benzinga.com/files/images/story/2024/05/17/Smiling-Man-Unplugging-The-Charger-From-_0.jpeg?width=1200&height=800&fit=crop\", \"description\": \"The recent North American Battery Series, hosted by J.P. Morgan, provided crucial insights into the battery industry\\u2019s future. The event featured experts and corporations from various segments of the battery value chain. Key themes emerged, shedding light on the industry's trajectory, innovation focus, and supply chain strategies.\\nEV Sales Projected To Grow 20%-23% YoY In 2024\\nJ.P. Morgan\\u2019s Global EV Battery team, led by Parsley Ong, shared an optimistic outlook for global EV sales, projecting a 20%-23% year-over-year growth in 2024.\\nChina will lead this growth, while the U.S. and European markets will align with more muted expectations.\\nIn this light, stocks of China-based EV makers such as Xiaomi Corp (OTCPK:XIACF) (OTCPK:XIACY), Li Auto Inc (NASDAQ:LI), Nio Inc (NYSE:NIO), VinFast Auto Ltd (NASDAQ:VFS), XPeng Inc (NYSE:XPEV), Lucid Group Inc (NASDAQ:LCID) and ZEEKR Intelligent Technology Holding Ltd (NYSE:ZK) should be on investors\\u2019 radar.\\nAdequate battery material capacity will support up to a 25%-30% growth rate, with potential temporary price increases if demand exceeds this range. Battery volume recovery will be gradual and weighted towards the second half of the year, with ...Full story available on Benzinga.com\", \"keywords\": [\"Long Ideas\", \"News\", \"Analyst Color\", \"Asia\", \"Emerging Markets\", \"Global\", \"Top Stories\", \"Markets\", \"Analyst Ratings\", \"Tech\", \"Trading Ideas\"]}, {\"id\": \"2t7rjDM73i5rE4xvZb-9Aos7wozZzHcdTDlWoI6jwWA\", \"publisher\": {\"name\": \"The Motley Fool\", \"homepage_url\": \"https://www.fool.com/\", \"logo_url\": \"https://s3.polygon.io/public/assets/news/logos/themotleyfool.svg\", \"favicon_url\": \"https://s3.polygon.io/public/assets/news/favicons/themotleyfool.ico\"}, \"title\": \"Why VinFast Auto Stock Jumped Today\", \"author\": \"newsfeedback@fool.com (Howard Smith)\", \"published_utc\": \"2024-05-16T17:27:42Z\", \"article_url\": \"https://www.fool.com/investing/2024/05/16/why-vinfast-auto-stock-jumped-today/\", \"tickers\": [\"VFS\"], \"image_url\": \"https://g.foolcdn.com/editorial/images/777583/vinfast-vf-3-suv-launch.png\", \"description\": \"Interest in the Vietnamese automaker's low-cost EV is through the roof.\", \"keywords\": [\"investing\"]}, {\"id\": \"3od8NicOkLjiAcFvj-F-tguAVZjJ4qsARX5IHeGersY\", \"publisher\": {\"name\": \"Benzinga\", \"homepage_url\": \"https://www.benzinga.com/\", \"logo_url\": \"https://s3.polygon.io/public/assets/news/logos/benzinga.svg\", \"favicon_url\": \"https://s3.polygon.io/public/assets/news/favicons/benzinga.ico\"}, \"title\": \"Shifting Gears: Tesla, Rivian Accelerate In EV Market, Lucid Hits A Bump\", \"author\": \"Hayden Buckfire\", \"published_utc\": \"2024-05-14T17:13:18Z\", \"article_url\": \"https://www.benzinga.com/markets/equities/24/05/38823888/shifting-gears-tesla-rivian-accelerate-in-ev-market-lucid-hits-a-bump\", \"tickers\": [\"AMZN\", \"BIDU\", \"TSLA\", \"LCID\", \"RIVN\", \"PSNY\", \"VFS\"], \"amp_url\": \"https://www.benzinga.com/amp/content/38823888\", \"image_url\": \"https://cdn.benzinga.com/files/images/story/2024/05/14/tesla-ai5.png?width=1200&height=800&fit=crop\", \"description\": \"The electric vehicle market is populated with players Tesla Inc (NASDAQ:TSLA), Rivian Automotive Inc (NASDAQ:RIVN), VinFast Auto Ltd (NASDAQ:VFS), Lucid Group Inc (NASDAQ:LCID) and Polestar Automotive Holding UK (NASDAQ:PSNY). Although the market has soured on the largest EV companies after sluggish growth, a Cantor Fitzgerald analyst remains optimistic that the EV market can outperform Wall Street estimates.\\nThe EV Analyst: Cantor Fitzgerald analyst Andres Sheppard issued Buy ratings for many major EV companies on Tuesday: Tesla with a $230 price target; Rivian with a $15 price target; VinFast with an $8 price target; and Polestar with a $5 price target. Sheppard also issued a Sell rating for Lucid with a $4 price target.\\nTesla Takeaways: Sheppard cited Tesla\\u2019s price decrease in vehicles\\u2019 autonomous driving technology from $12,000 to $8,000 as a future revenue driver. The analyst also saw Tesla\\u2019s deal with Baidu Inc (NASDAQ:BIDU) to allow Tesla to use Baidu maps in ...Full story available on Benzinga.com\", \"keywords\": [\"Equities\", \"Price Target\", \"Analyst Ratings\", \"Tech\"]}, {\"id\": \"pY6QYJlQCNEYHRseyuLATx9t6q6YJDaygyKAYQX1yUo\", \"publisher\": {\"name\": \"Benzinga\", \"homepage_url\": \"https://www.benzinga.com/\", \"logo_url\": \"https://s3.polygon.io/public/assets/news/logos/benzinga.svg\", \"favicon_url\": \"https://s3.polygon.io/public/assets/news/favicons/benzinga.ico\"}, \"title\": \"New Hotter Inflation Data \\u2013 Momo Buys The Dip, Fed Blunder Shows Up In Roaring Meme Stocks\", \"author\": \"The Arora Report\", \"published_utc\": \"2024-05-14T15:55:16Z\", \"article_url\": \"https://www.benzinga.com/markets/penny-stocks/24/05/38821745/new-hotter-inflation-data-momo-buys-the-dip-fed-blunder-shows-up-in-roaring-meme-stocks\", \"tickers\": [\"TSLA\", \"QQQ\", \"SPY\", \"SAVE\", \"AMZN\", \"BB\", \"GOOG\", \"SPWR\", \"KOSS\", \"AMC\", \"MSFT\", \"KODK\", \"NVAX\", \"META\", \"NVDA\", \"PLUG\", \"LMND\", \"AI\", \"NEGG\", \"GME\", \"RIVN\", \"HTZ\", \"VFS\", \"TUP\", \"RDDT\", \"WMT\", \"AAPL\"], \"amp_url\": \"https://www.benzinga.com/amp/content/38821745\", \"image_url\": \"https://cdn.benzinga.com/files/regularguy-eth-w9codxtsfts-unsplash_29.jpg?width=1200&height=800&fit=crop\", \"description\": \"To gain an edge, this is what you need to know today.\\n\\nHotter Inflation Data\\nPlease click here for an enlarged chart of SPDR S&P 500 ETF Trust (ARCA:SPY) which represents the benchmark stock market index S&P 500 (SPX).\\nNote the following:\\n\\nThe chart shows the stock market is in the resistance zone.\\nAs is their pattern, the momo crowd was buying ahead of the release of the Producer Price Index (PPI) on hope strategy.\\nThe momo crowd\\u2019s hopes were dashed when PPI data came much hotter than expected.\\u00a0Here are the details:\\n\\nHeadline PPI came at 0.5% vs. 0.3% consensus.\\nCore PPI came at 0.5% vs. 0.2% consensus.\\n\\n\\nThe chart shows the stock market first dipped on bad inflation data, but as of this writing in the premarket, the momo crowd is aggressively buying the dip.\\nPrudent investors, in The Arora Report analysis, would want to wait to see Consumer Price Index (CPI) data tomorrow before taking any action.\\u00a0CPI will be released tomorrow at 8:30am ET.\\nThe Arora Report previously shared that the Fed\\u2019s second blunder has loosened financial conditions way beyond where they should be based on the economic data.\\nThe Fed\\u2019s blunder is now showing up in meme stocks roaring back.\\u00a0Earlier this morning, GameStop Corp (NYSE: GME) was up 163% in the premarket on top of 74% gain yesterday.\\nThe meme crowd ran up AMC Entertainment Holdings Inc (NYSE: AMC) 156% this morning, trading as high as $13.30 in the premarket.\\u00a0AMC took advantage of the meme crowd to raise about $250M of new capital by selling shares at $3.45.\\u00a0When the company is selling shares at $3.45, why would the meme crowd buy the same shares at $13.30?\\u00a0 The answer is the meme crowd is not doing any analysis other than becoming a meme to cause a short squeeze.\\nThe last meme craze ended in tears for the meme crowd with big losses.\\u00a0As full disclosure, The Arora Report gave a number of successful, short term signals on meme stocks, taking advantage of previous crazes.\\u00a0If the ...Full story available on Benzinga.com\", \"keywords\": [\"News\", \"Penny Stocks\", \"Cryptocurrency\", \"Commodities\", \"Small Cap\", \"Economics\", \"Markets\"]}, {\"id\": \"x2NrluMsc0v6H7rn095MuP4DAUiF2dUk6W65RkWlZio\", \"publisher\": {\"name\": \"The Motley Fool\", \"homepage_url\": \"https://www.fool.com/\", \"logo_url\": \"https://s3.polygon.io/public/assets/news/logos/themotleyfool.svg\", \"favicon_url\": \"https://s3.polygon.io/public/assets/news/favicons/themotleyfool.ico\"}, \"title\": \"Why VinFast Stock Is Surging Today\", \"author\": \"newsfeedback@fool.com (John Rosevear)\", \"published_utc\": \"2024-05-13T18:15:43Z\", \"article_url\": \"https://www.fool.com/investing/2024/05/13/why-vinfast-stock-is-surging-today/\", \"tickers\": [\"VFS\"], \"image_url\": \"https://g.foolcdn.com/editorial/images/777139/vinfast-vf-8.jpeg\", \"description\": \"A deal with Sony and some help from President Joe Biden are pushing the stock higher today.\", \"keywords\": [\"investing\"]}]\u001b[0m\u001b[32;1m\u001b[1;3mRelevant Documents: 0\n",
      "Cited Documents: 0\n",
      "Answer: The news sentiment for VFS is positive. The stock has been rated as a millionaire maker, and there has been huge order demand for its new low-cost SUV. The stock has also been recommended as a buy by a Cantor Fitzgerald analyst. However, there has been a 9% fall in the stock price due to a car crash in April. Overall, the positive news outweighs the negative, and the sentiment is rated as positive.\n",
      "Grounded answer: The news sentiment for VFS is positive. The stock has been rated as a <co: 0>millionaire maker</co: 0>, and there has been <co: 0>huge order demand for its new low-cost SUV</co: 0>. The stock has also been recommended as a <co: 0>buy by a Cantor Fitzgerald analyst</co: 0>. However, there has been a <co: 0>9% fall in the stock price due to a car crash in April</co: 0>. Overall, the positive news outweighs the negative, and the sentiment is rated as positive.\u001b[0m\n",
      "\n",
      "\u001b[1m> Finished chain.\u001b[0m\n"
     ]
    },
    {
     "data": {
      "text/html": [
       "<p>The news sentiment for VFS is positive. The stock has been rated as a millionaire maker, and there has been huge order demand for its new low-cost SUV. The stock has also been recommended as a buy by a Cantor Fitzgerald analyst. However, there has been a 9% fall in the stock price due to a car crash in April. Overall, the positive news outweighs the negative, and the sentiment is rated as positive.</p>"
      ],
      "text/plain": [
       "<IPython.core.display.HTML object>"
      ]
     },
     "metadata": {},
     "output_type": "display_data"
    }
   ],
   "source": [
    "prompt_template = \"What is the news sentiment for {ticker}? Rate the sentiment based on the news and explain your rating.\"\n",
    "\n",
    "input = {\"ticker\": \"VFS\"}\n",
    "invoke_cohere_with_tools(tools=tools,input=input,prompt_template=prompt_template)"
   ]
  },
  {
   "cell_type": "markdown",
   "metadata": {},
   "source": [
    "### Financials"
   ]
  },
  {
   "cell_type": "code",
   "execution_count": 96,
   "metadata": {},
   "outputs": [
    {
     "name": "stdout",
     "output_type": "stream",
     "text": [
      "\n",
      "\n",
      "\u001b[1m> Entering new AgentExecutor chain...\u001b[0m\n",
      "\u001b[32;1m\u001b[1;3m\n",
      "I will use the polygon_financials tool to find the latest financial information for GOOG. I will then write an overview of the company's financial situation in bullet point form.\n",
      "{'tool_name': 'polygon_financials', 'parameters': {'query': 'GOOG'}}\n",
      "\u001b[0m\u001b[36;1m\u001b[1;3m[{\"start_date\": \"2023-04-01\", \"end_date\": \"2024-03-31\", \"timeframe\": \"ttm\", \"fiscal_period\": \"TTM\", \"fiscal_year\": \"\", \"cik\": \"0001652044\", \"sic\": \"7370\", \"tickers\": [\"GOOG\", \"GOOGL\"], \"company_name\": \"Alphabet Inc.\", \"financials\": {\"cash_flow_statement\": {\"net_cash_flow_continuing\": {\"value\": -835000000.0, \"unit\": \"USD\", \"label\": \"Net Cash Flow, Continuing\", \"order\": 1200}, \"net_cash_flow_from_financing_activities_continuing\": {\"value\": -75239000000.0, \"unit\": \"USD\", \"label\": \"Net Cash Flow From Financing Activities, Continuing\", \"order\": 800}, \"exchange_gains_losses\": {\"value\": -596000000.0, \"unit\": \"USD\", \"label\": \"Exchange Gains/Losses\", \"order\": 1000}, \"net_cash_flow_from_financing_activities\": {\"value\": -75239000000.0, \"unit\": \"USD\", \"label\": \"Net Cash Flow From Financing Activities\", \"order\": 700}, \"net_cash_flow_from_operating_activities\": {\"value\": 107085000000.0, \"unit\": \"USD\", \"label\": \"Net Cash Flow From Operating Activities\", \"order\": 100}, \"net_cash_flow\": {\"value\": -1431000000.0, \"unit\": \"USD\", \"label\": \"Net Cash Flow\", \"order\": 1100}, \"net_cash_flow_from_investing_activities_continuing\": {\"value\": -32681000000.0, \"unit\": \"USD\", \"label\": \"Net Cash Flow From Investing Activities, Continuing\", \"order\": 500}, \"net_cash_flow_from_investing_activities\": {\"value\": -32681000000.0, \"unit\": \"USD\", \"label\": \"Net Cash Flow From Investing Activities\", \"order\": 400}, \"net_cash_flow_from_operating_activities_continuing\": {\"value\": 107085000000.0, \"unit\": \"USD\", \"label\": \"Net Cash Flow From Operating Activities, Continuing\", \"order\": 200}}, \"balance_sheet\": {\"equity_attributable_to_noncontrolling_interest\": {\"value\": 0, \"unit\": \"USD\", \"label\": \"Equity Attributable To Noncontrolling Interest\", \"order\": 1500}, \"liabilities_and_equity\": {\"value\": 407350000000.0, \"unit\": \"USD\", \"label\": \"Liabilities And Equity\", \"order\": 1900}, \"other_current_assets\": {\"value\": 57381000000.0, \"unit\": \"USD\", \"label\": \"Other Current Assets\", \"order\": 250}, \"accounts_payable\": {\"value\": 6198000000.0, \"unit\": \"USD\", \"label\": \"Accounts Payable\", \"order\": 710}, \"equity_attributable_to_parent\": {\"value\": 292844000000.0, \"unit\": \"USD\", \"label\": \"Equity Attributable To Parent\", \"order\": 1600}, \"cash\": {\"value\": 108090000000.0, \"unit\": \"USD\", \"label\": \"Cash\", \"order\": 210}, \"other_current_liabilities\": {\"value\": 61096000000.0, \"unit\": \"USD\", \"label\": \"Other Current Liabilities\", \"order\": 740}, \"fixed_assets\": {\"value\": 143182000000.0, \"unit\": \"USD\", \"label\": \"Fixed Assets\", \"order\": 320}, \"liabilities\": {\"value\": 114506000000.0, \"unit\": \"USD\", \"label\": \"Liabilities\", \"order\": 600}, \"noncurrent_assets\": {\"value\": 241879000000.0, \"unit\": \"USD\", \"label\": \"Noncurrent Assets\", \"order\": 300}, \"current_liabilities\": {\"value\": 76997000000.0, \"unit\": \"USD\", \"label\": \"Current Liabilities\", \"order\": 700}, \"assets\": {\"value\": 407350000000.0, \"unit\": \"USD\", \"label\": \"Assets\", \"order\": 100}, \"equity\": {\"value\": 292844000000.0, \"unit\": \"USD\", \"label\": \"Equity\", \"order\": 1400}, \"noncurrent_liabilities\": {\"value\": 37509000000.0, \"unit\": \"USD\", \"label\": \"Noncurrent Liabilities\", \"order\": 800}, \"other_noncurrent_assets\": {\"value\": 98697000000.0, \"unit\": \"USD\", \"label\": \"Other Non-current Assets\", \"order\": 350}, \"wages\": {\"value\": 9703000000.0, \"unit\": \"USD\", \"label\": \"Wages\", \"order\": 730}, \"current_assets\": {\"value\": 165471000000.0, \"unit\": \"USD\", \"label\": \"Current Assets\", \"order\": 200}}, \"income_statement\": {\"nonoperating_income_loss\": {\"value\": 3477000000.0, \"unit\": \"USD\", \"label\": \"Nonoperating Income/Loss\", \"order\": 900}, \"participating_securities_distributed_and_undistributed_earnings_loss_basic\": {\"value\": 0, \"unit\": \"USD\", \"label\": \"Participating Securities, Distributed And Undistributed Earnings/Loss, Basic\", \"order\": 3800}, \"gross_profit\": {\"value\": 181714000000.0, \"unit\": \"USD\", \"label\": \"Gross Profit\", \"order\": 800}, \"preferred_stock_dividends_and_other_adjustments\": {\"value\": 0, \"unit\": \"USD\", \"label\": \"Preferred Stock Dividends And Other Adjustments\", \"order\": 3900}, \"other_operating_expenses\": {\"value\": 43502000000.0, \"unit\": \"USD\", \"label\": \"Other Operating Expenses\", \"order\": 1040}, \"operating_income_loss\": {\"value\": 92350000000.0, \"unit\": \"USD\", \"label\": \"Operating Income/Loss\", \"order\": 1100}, \"net_income_loss_attributable_to_parent\": {\"value\": 82406000000.0, \"unit\": \"USD\", \"label\": \"Net Income/Loss Attributable To Parent\", \"order\": 3500}, \"income_loss_from_continuing_operations_after_tax\": {\"value\": 82406000000.0, \"unit\": \"USD\", \"label\": \"Income/Loss From Continuing Operations After Tax\", \"order\": 1400}, \"revenues\": {\"value\": 318146000000.0, \"unit\": \"USD\", \"label\": \"Revenues\", \"order\": 100}, \"net_income_loss_attributable_to_noncontrolling_interest\": {\"value\": 0, \"unit\": \"USD\", \"label\": \"Net Income/Loss Attributable To Noncontrolling Interest\", \"order\": 3300}, \"net_income_loss\": {\"value\": 82406000000.0, \"unit\": \"USD\", \"label\": \"Net Income/Loss\", \"order\": 3200}, \"operating_expenses\": {\"value\": 89364000000.0, \"unit\": \"USD\", \"label\": \"Operating Expenses\", \"order\": 1000}, \"interest_expense_operating\": {\"value\": 322000000.0, \"unit\": \"USD\", \"label\": \"Interest Expense, Operating\", \"order\": 2700}, \"costs_and_expenses\": {\"value\": 225796000000.0, \"unit\": \"USD\", \"label\": \"Costs And Expenses\", \"order\": 600}, \"benefits_costs_expenses\": {\"value\": 222319000000.0, \"unit\": \"USD\", \"label\": \"Benefits Costs and Expenses\", \"order\": 200}, \"net_income_loss_available_to_common_stockholders_basic\": {\"value\": 82406000000.0, \"unit\": \"USD\", \"label\": \"Net Income/Loss Available To Common Stockholders, Basic\", \"order\": 3700}, \"cost_of_revenue\": {\"value\": 136432000000.0, \"unit\": \"USD\", \"label\": \"Cost Of Revenue\", \"order\": 300}, \"basic_earnings_per_share\": {\"value\": 6.569999999999999, \"unit\": \"USD / shares\", \"label\": \"Basic Earnings Per Share\", \"order\": 4200}, \"diluted_earnings_per_share\": {\"value\": 6.52, \"unit\": \"USD / shares\", \"label\": \"Diluted Earnings Per Share\", \"order\": 4300}, \"income_tax_expense_benefit\": {\"value\": 13421000000.0, \"unit\": \"USD\", \"label\": \"Income Tax Expense/Benefit\", \"order\": 2200}, \"research_and_development\": {\"value\": 45862000000.0, \"unit\": \"USD\", \"label\": \"Research and Development\", \"order\": 1030}, \"income_loss_from_continuing_operations_before_tax\": {\"value\": 95827000000.0, \"unit\": \"USD\", \"label\": \"Income/Loss From Continuing Operations Before Tax\", \"order\": 1500}}, \"comprehensive_income\": {\"comprehensive_income_loss_attributable_to_noncontrolling_interest\": {\"value\": 0, \"unit\": \"USD\", \"label\": \"Comprehensive Income/Loss Attributable To Noncontrolling Interest\", \"order\": 200}, \"other_comprehensive_income_loss_attributable_to_parent\": {\"value\": 1161000000.0, \"unit\": \"USD\", \"label\": \"Other Comprehensive Income/Loss Attributable To Parent\", \"order\": 600}, \"comprehensive_income_loss_attributable_to_parent\": {\"value\": 83567000000.0, \"unit\": \"USD\", \"label\": \"Comprehensive Income/Loss Attributable To Parent\", \"order\": 300}, \"comprehensive_income_loss\": {\"value\": 83567000000.0, \"unit\": \"USD\", \"label\": \"Comprehensive Income/Loss\", \"order\": 100}, \"other_comprehensive_income_loss\": {\"value\": 1161000000.0, \"unit\": \"USD\", \"label\": \"Other Comprehensive Income/Loss\", \"order\": 400}}}}, {\"start_date\": \"2024-01-01\", \"end_date\": \"2024-03-31\", \"filing_date\": \"2024-04-26\", \"acceptance_datetime\": \"2024-04-26T00:22:11Z\", \"timeframe\": \"quarterly\", \"fiscal_period\": \"Q1\", \"fiscal_year\": \"2024\", \"cik\": \"0001652044\", \"sic\": \"7370\", \"tickers\": [\"GOOG\", \"GOOGL\"], \"company_name\": \"Alphabet Inc.\", \"source_filing_url\": \"https://api.polygon.io/v1/reference/sec/filings/0001652044-24-000053\", \"source_filing_file_url\": \"http://api.polygon.io/v1/reference/sec/filings/0001652044-24-000053/files/goog-20240331_htm.xml\", \"financials\": {\"cash_flow_statement\": {\"net_cash_flow_from_operating_activities\": {\"value\": 28848000000.0, \"unit\": \"USD\", \"label\": \"Net Cash Flow From Operating Activities\", \"order\": 100}, \"net_cash_flow_from_investing_activities_continuing\": {\"value\": -8564000000.0, \"unit\": \"USD\", \"label\": \"Net Cash Flow From Investing Activities, Continuing\", \"order\": 500}, \"net_cash_flow_continuing\": {\"value\": 570000000.0, \"unit\": \"USD\", \"label\": \"Net Cash Flow, Continuing\", \"order\": 1200}, \"net_cash_flow_from_financing_activities_continuing\": {\"value\": -19714000000.0, \"unit\": \"USD\", \"label\": \"Net Cash Flow From Financing Activities, Continuing\", \"order\": 800}, \"net_cash_flow_from_financing_activities\": {\"value\": -19714000000.0, \"unit\": \"USD\", \"label\": \"Net Cash Flow From Financing Activities\", \"order\": 700}, \"net_cash_flow\": {\"value\": 445000000.0, \"unit\": \"USD\", \"label\": \"Net Cash Flow\", \"order\": 1100}, \"net_cash_flow_from_investing_activities\": {\"value\": -8564000000.0, \"unit\": \"USD\", \"label\": \"Net Cash Flow From Investing Activities\", \"order\": 400}, \"net_cash_flow_from_operating_activities_continuing\": {\"value\": 28848000000.0, \"unit\": \"USD\", \"label\": \"Net Cash Flow From Operating Activities, Continuing\", \"order\": 200}, \"exchange_gains_losses\": {\"value\": -125000000.0, \"unit\": \"USD\", \"label\": \"Exchange Gains/Losses\", \"order\": 1000}}, \"comprehensive_income\": {\"comprehensive_income_loss\": {\"value\": 23225000000.0, \"unit\": \"USD\", \"label\": \"Comprehensive Income/Loss\", \"order\": 100}, \"comprehensive_income_loss_attributable_to_noncontrolling_interest\": {\"value\": 0, \"unit\": \"USD\", \"label\": \"Comprehensive Income/Loss Attributable To Noncontrolling Interest\", \"order\": 200}, \"other_comprehensive_income_loss\": {\"value\": -437000000.0, \"unit\": \"USD\", \"label\": \"Other Comprehensive Income/Loss\", \"order\": 400}, \"comprehensive_income_loss_attributable_to_parent\": {\"value\": 23225000000.0, \"unit\": \"USD\", \"label\": \"Comprehensive Income/Loss Attributable To Parent\", \"order\": 300}, \"other_comprehensive_income_loss_attributable_to_parent\": {\"value\": -437000000.0, \"unit\": \"USD\", \"label\": \"Other Comprehensive Income/Loss Attributable To Parent\", \"order\": 600}}, \"income_statement\": {\"benefits_costs_expenses\": {\"value\": 52224000000.0, \"unit\": \"USD\", \"label\": \"Benefits Costs and Expenses\", \"order\": 200}, \"other_operating_expenses\": {\"value\": 9452000000.0, \"unit\": \"USD\", \"label\": \"Other Operating Expenses\", \"order\": 1040}, \"nonoperating_income_loss\": {\"value\": 2843000000.0, \"unit\": \"USD\", \"label\": \"Nonoperating Income/Loss\", \"order\": 900}, \"gross_profit\": {\"value\": 46827000000.0, \"unit\": \"USD\", \"label\": \"Gross Profit\", \"order\": 800}, \"costs_and_expenses\": {\"value\": 55067000000.0, \"unit\": \"USD\", \"label\": \"Costs And Expenses\", \"order\": 600}, \"research_and_development\": {\"value\": 11903000000.0, \"unit\": \"USD\", \"label\": \"Research and Development\", \"order\": 1030}, \"income_loss_from_continuing_operations_after_tax\": {\"value\": 23662000000.0, \"unit\": \"USD\", \"label\": \"Income/Loss From Continuing Operations After Tax\", \"order\": 1400}, \"cost_of_revenue\": {\"value\": 33712000000.0, \"unit\": \"USD\", \"label\": \"Cost Of Revenue\", \"order\": 300}, \"net_income_loss_attributable_to_parent\": {\"value\": 23662000000.0, \"unit\": \"USD\", \"label\": \"Net Income/Loss Attributable To Parent\", \"order\": 3500}, \"basic_earnings_per_share\": {\"value\": 1.91, \"unit\": \"USD / shares\", \"label\": \"Basic Earnings Per Share\", \"order\": 4200}, \"net_income_loss_attributable_to_noncontrolling_interest\": {\"value\": 0, \"unit\": \"USD\", \"label\": \"Net Income/Loss Attributable To Noncontrolling Interest\", \"order\": 3300}, \"interest_expense_operating\": {\"value\": 94000000.0, \"unit\": \"USD\", \"label\": \"Interest Expense, Operating\", \"order\": 2700}, \"net_income_loss\": {\"value\": 23662000000.0, \"unit\": \"USD\", \"label\": \"Net Income/Loss\", \"order\": 3200}, \"diluted_earnings_per_share\": {\"value\": 1.89, \"unit\": \"USD / shares\", \"label\": \"Diluted Earnings Per Share\", \"order\": 4300}, \"operating_expenses\": {\"value\": 21355000000.0, \"unit\": \"USD\", \"label\": \"Operating Expenses\", \"order\": 1000}, \"participating_securities_distributed_and_undistributed_earnings_loss_basic\": {\"value\": 0, \"unit\": \"USD\", \"label\": \"Participating Securities, Distributed And Undistributed Earnings/Loss, Basic\", \"order\": 3800}, \"preferred_stock_dividends_and_other_adjustments\": {\"value\": 0, \"unit\": \"USD\", \"label\": \"Preferred Stock Dividends And Other Adjustments\", \"order\": 3900}, \"income_loss_from_continuing_operations_before_tax\": {\"value\": 28315000000.0, \"unit\": \"USD\", \"label\": \"Income/Loss From Continuing Operations Before Tax\", \"order\": 1500}, \"income_tax_expense_benefit\": {\"value\": 4653000000.0, \"unit\": \"USD\", \"label\": \"Income Tax Expense/Benefit\", \"order\": 2200}, \"net_income_loss_available_to_common_stockholders_basic\": {\"value\": 23662000000.0, \"unit\": \"USD\", \"label\": \"Net Income/Loss Available To Common Stockholders, Basic\", \"order\": 3700}, \"revenues\": {\"value\": 80539000000.0, \"unit\": \"USD\", \"label\": \"Revenues\", \"order\": 100}, \"operating_income_loss\": {\"value\": 25472000000.0, \"unit\": \"USD\", \"label\": \"Operating Income/Loss\", \"order\": 1100}}, \"balance_sheet\": {\"other_noncurrent_assets\": {\"value\": 98697000000.0, \"unit\": \"USD\", \"label\": \"Other Non-current Assets\", \"order\": 350}, \"other_current_liabilities\": {\"value\": 61096000000.0, \"unit\": \"USD\", \"label\": \"Other Current Liabilities\", \"order\": 740}, \"accounts_payable\": {\"value\": 6198000000.0, \"unit\": \"USD\", \"label\": \"Accounts Payable\", \"order\": 710}, \"equity\": {\"value\": 292844000000.0, \"unit\": \"USD\", \"label\": \"Equity\", \"order\": 1400}, \"liabilities\": {\"value\": 114506000000.0, \"unit\": \"USD\", \"label\": \"Liabilities\", \"order\": 600}, \"noncurrent_assets\": {\"value\": 241879000000.0, \"unit\": \"USD\", \"label\": \"Noncurrent Assets\", \"order\": 300}, \"current_liabilities\": {\"value\": 76997000000.0, \"unit\": \"USD\", \"label\": \"Current Liabilities\", \"order\": 700}, \"equity_attributable_to_noncontrolling_interest\": {\"value\": 0, \"unit\": \"USD\", \"label\": \"Equity Attributable To Noncontrolling Interest\", \"order\": 1500}, \"current_assets\": {\"value\": 165471000000.0, \"unit\": \"USD\", \"label\": \"Current Assets\", \"order\": 200}, \"other_current_assets\": {\"value\": 57381000000.0, \"unit\": \"USD\", \"label\": \"Other Current Assets\", \"order\": 250}, \"noncurrent_liabilities\": {\"value\": 37509000000.0, \"unit\": \"USD\", \"label\": \"Noncurrent Liabilities\", \"order\": 800}, \"wages\": {\"value\": 9703000000.0, \"unit\": \"USD\", \"label\": \"Wages\", \"order\": 730}, \"cash\": {\"value\": 108090000000.0, \"unit\": \"USD\", \"label\": \"Cash\", \"order\": 210}, \"liabilities_and_equity\": {\"value\": 407350000000.0, \"unit\": \"USD\", \"label\": \"Liabilities And Equity\", \"order\": 1900}, \"assets\": {\"value\": 407350000000.0, \"unit\": \"USD\", \"label\": \"Assets\", \"order\": 100}, \"equity_attributable_to_parent\": {\"value\": 292844000000.0, \"unit\": \"USD\", \"label\": \"Equity Attributable To Parent\", \"order\": 1600}, \"fixed_assets\": {\"value\": 143182000000.0, \"unit\": \"USD\", \"label\": \"Fixed Assets\", \"order\": 320}}}}, {\"start_date\": \"2023-10-01\", \"end_date\": \"2023-12-31\", \"timeframe\": \"quarterly\", \"fiscal_period\": \"Q4\", \"fiscal_year\": \"2023\", \"cik\": \"0001652044\", \"sic\": \"7370\", \"tickers\": [\"GOOG\", \"GOOGL\"], \"company_name\": \"Alphabet Inc.\", \"financials\": {\"comprehensive_income\": {\"other_comprehensive_income_loss\": {\"value\": 2634000000.0, \"unit\": \"USD\", \"label\": \"Other Comprehensive Income/Loss\", \"order\": 400}, \"comprehensive_income_loss_attributable_to_parent\": {\"value\": 23321000000.0, \"unit\": \"USD\", \"label\": \"Comprehensive Income/Loss Attributable To Parent\", \"order\": 300}, \"comprehensive_income_loss_attributable_to_noncontrolling_interest\": {\"value\": 0, \"unit\": \"USD\", \"label\": \"Comprehensive Income/Loss Attributable To Noncontrolling Interest\", \"order\": 200}, \"other_comprehensive_income_loss_attributable_to_parent\": {\"value\": 2634000000.0, \"unit\": \"USD\", \"label\": \"Other Comprehensive Income/Loss Attributable To Parent\", \"order\": 600}, \"comprehensive_income_loss\": {\"value\": 23321000000.0, \"unit\": \"USD\", \"label\": \"Comprehensive Income/Loss\", \"order\": 100}}, \"cash_flow_statement\": {\"net_cash_flow_from_operating_activities\": {\"value\": 18915000000.0, \"unit\": \"USD\", \"label\": \"Net Cash Flow From Operating Activities\", \"order\": 100}, \"net_cash_flow_from_financing_activities_continuing\": {\"value\": -19308000000.0, \"unit\": \"USD\", \"label\": \"Net Cash Flow From Financing Activities, Continuing\", \"order\": 800}, \"net_cash_flow_from_investing_activities\": {\"value\": -6167000000.0, \"unit\": \"USD\", \"label\": \"Net Cash Flow From Investing Activities\", \"order\": 400}, \"net_cash_flow_continuing\": {\"value\": -6560000000.0, \"unit\": \"USD\", \"label\": \"Net Cash Flow, Continuing\", \"order\": 1200}, \"net_cash_flow_from_financing_activities\": {\"value\": -19308000000.0, \"unit\": \"USD\", \"label\": \"Net Cash Flow From Financing Activities\", \"order\": 700}, \"exchange_gains_losses\": {\"value\": -94000000.0, \"unit\": \"USD\", \"label\": \"Exchange Gains/Losses\", \"order\": 1000}, \"net_cash_flow\": {\"value\": -6654000000.0, \"unit\": \"USD\", \"label\": \"Net Cash Flow\", \"order\": 1100}, \"net_cash_flow_from_operating_activities_continuing\": {\"value\": 18915000000.0, \"unit\": \"USD\", \"label\": \"Net Cash Flow From Operating Activities, Continuing\", \"order\": 200}, \"net_cash_flow_from_investing_activities_continuing\": {\"value\": -6167000000.0, \"unit\": \"USD\", \"label\": \"Net Cash Flow From Investing Activities, Continuing\", \"order\": 500}}, \"balance_sheet\": {\"other_noncurrent_liabilities\": {\"value\": 22337000000.0, \"unit\": \"USD\", \"label\": \"Other Non-current Liabilities\", \"order\": 820}, \"accounts_payable\": {\"value\": 7493000000.0, \"unit\": \"USD\", \"label\": \"Accounts Payable\", \"order\": 710}, \"fixed_assets\": {\"value\": 134345000000.0, \"unit\": \"USD\", \"label\": \"Fixed Assets\", \"order\": 320}, \"cash\": {\"value\": 110916000000.0, \"unit\": \"USD\", \"label\": \"Cash\", \"order\": 210}, \"other_current_assets\": {\"value\": 60614000000.0, \"unit\": \"USD\", \"label\": \"Other Current Assets\", \"order\": 250}, \"equity_attributable_to_noncontrolling_interest\": {\"value\": 0, \"unit\": \"USD\", \"label\": \"Equity Attributable To Noncontrolling Interest\", \"order\": 1500}, \"noncurrent_liabilities\": {\"value\": 37199000000.0, \"unit\": \"USD\", \"label\": \"Noncurrent Liabilities\", \"order\": 800}, \"current_assets\": {\"value\": 171530000000.0, \"unit\": \"USD\", \"label\": \"Current Assets\", \"order\": 200}, \"noncurrent_assets\": {\"value\": 230862000000.0, \"unit\": \"USD\", \"label\": \"Noncurrent Assets\", \"order\": 300}, \"equity_attributable_to_parent\": {\"value\": 283379000000.0, \"unit\": \"USD\", \"label\": \"Equity Attributable To Parent\", \"order\": 1600}, \"other_noncurrent_assets\": {\"value\": 96517000000.0, \"unit\": \"USD\", \"label\": \"Other Non-current Assets\", \"order\": 350}, \"wages\": {\"value\": 15140000000.0, \"unit\": \"USD\", \"label\": \"Wages\", \"order\": 730}, \"equity\": {\"value\": 283379000000.0, \"unit\": \"USD\", \"label\": \"Equity\", \"order\": 1400}, \"liabilities\": {\"value\": 119013000000.0, \"unit\": \"USD\", \"label\": \"Liabilities\", \"order\": 600}, \"liabilities_and_equity\": {\"value\": 402392000000.0, \"unit\": \"USD\", \"label\": \"Liabilities And Equity\", \"order\": 1900}, \"other_current_liabilities\": {\"value\": 59181000000.0, \"unit\": \"USD\", \"label\": \"Other Current Liabilities\", \"order\": 740}, \"assets\": {\"value\": 402392000000.0, \"unit\": \"USD\", \"label\": \"Assets\", \"order\": 100}, \"long_term_debt\": {\"value\": 14862000000.0, \"unit\": \"USD\", \"label\": \"Long-term Debt\", \"order\": 810}, \"current_liabilities\": {\"value\": 81814000000.0, \"unit\": \"USD\", \"label\": \"Current Liabilities\", \"order\": 700}}, \"income_statement\": {\"diluted_earnings_per_share\": {\"value\": 1.6399999999999997, \"unit\": \"USD / shares\", \"label\": \"Diluted Earnings Per Share\", \"order\": 4300}, \"research_and_development\": {\"value\": 12113000000.0, \"unit\": \"USD\", \"label\": \"Research and Development\", \"order\": 1030}, \"income_loss_from_continuing_operations_after_tax\": {\"value\": 20687000000.0, \"unit\": \"USD\", \"label\": \"Income/Loss From Continuing Operations After Tax\", \"order\": 1400}, \"costs_and_expenses\": {\"value\": 62613000000.0, \"unit\": \"USD\", \"label\": \"Costs And Expenses\", \"order\": 600}, \"preferred_stock_dividends_and_other_adjustments\": {\"value\": 0, \"unit\": \"USD\", \"label\": \"Preferred Stock Dividends And Other Adjustments\", \"order\": 3900}, \"net_income_loss\": {\"value\": 20687000000.0, \"unit\": \"USD\", \"label\": \"Net Income/Loss\", \"order\": 3200}, \"interest_expense_operating\": {\"value\": 69000000.0, \"unit\": \"USD\", \"label\": \"Interest Expense, Operating\", \"order\": 2700}, \"net_income_loss_available_to_common_stockholders_basic\": {\"value\": 20687000000.0, \"unit\": \"USD\", \"label\": \"Net Income/Loss Available To Common Stockholders, Basic\", \"order\": 3700}, \"cost_of_revenue\": {\"value\": 37575000000.0, \"unit\": \"USD\", \"label\": \"Cost Of Revenue\", \"order\": 300}, \"participating_securities_distributed_and_undistributed_earnings_loss_basic\": {\"value\": 0, \"unit\": \"USD\", \"label\": \"Participating Securities, Distributed And Undistributed Earnings/Loss, Basic\", \"order\": 3800}, \"revenues\": {\"value\": 86310000000.0, \"unit\": \"USD\", \"label\": \"Revenues\", \"order\": 100}, \"net_income_loss_attributable_to_noncontrolling_interest\": {\"value\": 0, \"unit\": \"USD\", \"label\": \"Net Income/Loss Attributable To Noncontrolling Interest\", \"order\": 3300}, \"income_tax_expense_benefit\": {\"value\": 3725000000.0, \"unit\": \"USD\", \"label\": \"Income Tax Expense/Benefit\", \"order\": 2200}, \"other_operating_expenses\": {\"value\": 12925000000.0, \"unit\": \"USD\", \"label\": \"Other Operating Expenses\", \"order\": 1040}, \"nonoperating_income_loss\": {\"value\": 715000000.0, \"unit\": \"USD\", \"label\": \"Nonoperating Income/Loss\", \"order\": 900}, \"net_income_loss_attributable_to_parent\": {\"value\": 20687000000.0, \"unit\": \"USD\", \"label\": \"Net Income/Loss Attributable To Parent\", \"order\": 3500}, \"operating_income_loss\": {\"value\": 23697000000.0, \"unit\": \"USD\", \"label\": \"Operating Income/Loss\", \"order\": 1100}, \"basic_earnings_per_share\": {\"value\": 1.6499999999999995, \"unit\": \"USD / shares\", \"label\": \"Basic Earnings Per Share\", \"order\": 4200}, \"income_loss_from_continuing_operations_before_tax\": {\"value\": 24412000000.0, \"unit\": \"USD\", \"label\": \"Income/Loss From Continuing Operations Before Tax\", \"order\": 1500}, \"benefits_costs_expenses\": {\"value\": 61898000000.0, \"unit\": \"USD\", \"label\": \"Benefits Costs and Expenses\", \"order\": 200}, \"operating_expenses\": {\"value\": 25038000000.0, \"unit\": \"USD\", \"label\": \"Operating Expenses\", \"order\": 1000}, \"gross_profit\": {\"value\": 48735000000.0, \"unit\": \"USD\", \"label\": \"Gross Profit\", \"order\": 800}}}}, {\"start_date\": \"2023-01-01\", \"end_date\": \"2023-12-31\", \"filing_date\": \"2024-01-31\", \"acceptance_datetime\": \"2024-01-31T02:43:43Z\", \"timeframe\": \"annual\", \"fiscal_period\": \"FY\", \"fiscal_year\": \"2023\", \"cik\": \"0001652044\", \"sic\": \"7370\", \"tickers\": [\"GOOG\", \"GOOGL\"], \"company_name\": \"Alphabet Inc.\", \"source_filing_url\": \"https://api.polygon.io/v1/reference/sec/filings/0001652044-24-000022\", \"source_filing_file_url\": \"http://api.polygon.io/v1/reference/sec/filings/0001652044-24-000022/files/goog-20231231_htm.xml\", \"financials\": {\"comprehensive_income\": {\"comprehensive_income_loss\": {\"value\": 76996000000.0, \"unit\": \"USD\", \"label\": \"Comprehensive Income/Loss\", \"order\": 100}, \"other_comprehensive_income_loss\": {\"value\": 3201000000.0, \"unit\": \"USD\", \"label\": \"Other Comprehensive Income/Loss\", \"order\": 400}, \"comprehensive_income_loss_attributable_to_parent\": {\"value\": 76996000000.0, \"unit\": \"USD\", \"label\": \"Comprehensive Income/Loss Attributable To Parent\", \"order\": 300}, \"comprehensive_income_loss_attributable_to_noncontrolling_interest\": {\"value\": 0, \"unit\": \"USD\", \"label\": \"Comprehensive Income/Loss Attributable To Noncontrolling Interest\", \"order\": 200}, \"other_comprehensive_income_loss_attributable_to_parent\": {\"value\": 3201000000.0, \"unit\": \"USD\", \"label\": \"Other Comprehensive Income/Loss Attributable To Parent\", \"order\": 600}}, \"cash_flow_statement\": {\"net_cash_flow_from_operating_activities\": {\"value\": 101746000000.0, \"unit\": \"USD\", \"label\": \"Net Cash Flow From Operating Activities\", \"order\": 100}, \"net_cash_flow_continuing\": {\"value\": 2590000000.0, \"unit\": \"USD\", \"label\": \"Net Cash Flow, Continuing\", \"order\": 1200}, \"net_cash_flow_from_financing_activities_continuing\": {\"value\": -72093000000.0, \"unit\": \"USD\", \"label\": \"Net Cash Flow From Financing Activities, Continuing\", \"order\": 800}, \"exchange_gains_losses\": {\"value\": -421000000.0, \"unit\": \"USD\", \"label\": \"Exchange Gains/Losses\", \"order\": 1000}, \"net_cash_flow_from_investing_activities_continuing\": {\"value\": -27063000000.0, \"unit\": \"USD\", \"label\": \"Net Cash Flow From Investing Activities, Continuing\", \"order\": 500}, \"net_cash_flow_from_operating_activities_continuing\": {\"value\": 101746000000.0, \"unit\": \"USD\", \"label\": \"Net Cash Flow From Operating Activities, Continuing\", \"order\": 200}, \"net_cash_flow\": {\"value\": 2169000000.0, \"unit\": \"USD\", \"label\": \"Net Cash Flow\", \"order\": 1100}, \"net_cash_flow_from_financing_activities\": {\"value\": -72093000000.0, \"unit\": \"USD\", \"label\": \"Net Cash Flow From Financing Activities\", \"order\": 700}, \"net_cash_flow_from_investing_activities\": {\"value\": -27063000000.0, \"unit\": \"USD\", \"label\": \"Net Cash Flow From Investing Activities\", \"order\": 400}}, \"income_statement\": {\"cost_of_revenue\": {\"value\": 133332000000.0, \"unit\": \"USD\", \"label\": \"Cost Of Revenue\", \"order\": 300}, \"net_income_loss_attributable_to_parent\": {\"value\": 73795000000.0, \"unit\": \"USD\", \"label\": \"Net Income/Loss Attributable To Parent\", \"order\": 3500}, \"basic_earnings_per_share\": {\"value\": 5.84, \"unit\": \"USD / shares\", \"label\": \"Basic Earnings Per Share\", \"order\": 4200}, \"income_tax_expense_benefit\": {\"value\": 11922000000.0, \"unit\": \"USD\", \"label\": \"Income Tax Expense/Benefit\", \"order\": 2200}, \"diluted_earnings_per_share\": {\"value\": 5.8, \"unit\": \"USD / shares\", \"label\": \"Diluted Earnings Per Share\", \"order\": 4300}, \"benefits_costs_expenses\": {\"value\": 221677000000.0, \"unit\": \"USD\", \"label\": \"Benefits Costs and Expenses\", \"order\": 200}, \"net_income_loss_attributable_to_noncontrolling_interest\": {\"value\": 0, \"unit\": \"USD\", \"label\": \"Net Income/Loss Attributable To Noncontrolling Interest\", \"order\": 3300}, \"participating_securities_distributed_and_undistributed_earnings_loss_basic\": {\"value\": 0, \"unit\": \"USD\", \"label\": \"Participating Securities, Distributed And Undistributed Earnings/Loss, Basic\", \"order\": 3800}, \"net_income_loss_available_to_common_stockholders_basic\": {\"value\": 73795000000.0, \"unit\": \"USD\", \"label\": \"Net Income/Loss Available To Common Stockholders, Basic\", \"order\": 3700}, \"operating_expenses\": {\"value\": 89769000000.0, \"unit\": \"USD\", \"label\": \"Operating Expenses\", \"order\": 1000}, \"interest_expense_operating\": {\"value\": 308000000.0, \"unit\": \"USD\", \"label\": \"Interest Expense, Operating\", \"order\": 2700}, \"preferred_stock_dividends_and_other_adjustments\": {\"value\": 0, \"unit\": \"USD\", \"label\": \"Preferred Stock Dividends And Other Adjustments\", \"order\": 3900}, \"income_tax_expense_benefit_current\": {\"value\": 19651000000.0, \"unit\": \"USD\", \"label\": \"Income Tax Expense/Benefit, Current\", \"order\": 2300}, \"net_income_loss\": {\"value\": 73795000000.0, \"unit\": \"USD\", \"label\": \"Net Income/Loss\", \"order\": 3200}, \"operating_income_loss\": {\"value\": 84293000000.0, \"unit\": \"USD\", \"label\": \"Operating Income/Loss\", \"order\": 1100}, \"research_and_development\": {\"value\": 45427000000.0, \"unit\": \"USD\", \"label\": \"Research and Development\", \"order\": 1030}, \"costs_and_expenses\": {\"value\": 223101000000.0, \"unit\": \"USD\", \"label\": \"Costs And Expenses\", \"order\": 600}, \"income_loss_from_continuing_operations_after_tax\": {\"value\": 73795000000.0, \"unit\": \"USD\", \"label\": \"Income/Loss From Continuing Operations After Tax\", \"order\": 1400}, \"income_loss_from_continuing_operations_before_tax\": {\"value\": 85717000000.0, \"unit\": \"USD\", \"label\": \"Income/Loss From Continuing Operations Before Tax\", \"order\": 1500}, \"gross_profit\": {\"value\": 174062000000.0, \"unit\": \"USD\", \"label\": \"Gross Profit\", \"order\": 800}, \"income_tax_expense_benefit_deferred\": {\"value\": -7729000000.0, \"unit\": \"USD\", \"label\": \"Income Tax Expense/Benefit, Deferred\", \"order\": 2400}, \"nonoperating_income_loss\": {\"value\": 1424000000.0, \"unit\": \"USD\", \"label\": \"Nonoperating Income/Loss\", \"order\": 900}, \"revenues\": {\"value\": 307394000000.0, \"unit\": \"USD\", \"label\": \"Revenues\", \"order\": 100}, \"other_operating_expenses\": {\"value\": 44342000000.0, \"unit\": \"USD\", \"label\": \"Other Operating Expenses\", \"order\": 1040}}, \"balance_sheet\": {\"wages\": {\"value\": 15140000000.0, \"unit\": \"USD\", \"label\": \"Wages\", \"order\": 730}, \"assets\": {\"value\": 402392000000.0, \"unit\": \"USD\", \"label\": \"Assets\", \"order\": 100}, \"fixed_assets\": {\"value\": 134345000000.0, \"unit\": \"USD\", \"label\": \"Fixed Assets\", \"order\": 320}, \"current_liabilities\": {\"value\": 81814000000.0, \"unit\": \"USD\", \"label\": \"Current Liabilities\", \"order\": 700}, \"cash\": {\"value\": 110916000000.0, \"unit\": \"USD\", \"label\": \"Cash\", \"order\": 210}, \"accounts_payable\": {\"value\": 7493000000.0, \"unit\": \"USD\", \"label\": \"Accounts Payable\", \"order\": 710}, \"noncurrent_liabilities\": {\"value\": 37199000000.0, \"unit\": \"USD\", \"label\": \"Noncurrent Liabilities\", \"order\": 800}, \"long_term_debt\": {\"value\": 14862000000.0, \"unit\": \"USD\", \"label\": \"Long-term Debt\", \"order\": 810}, \"equity_attributable_to_parent\": {\"value\": 283379000000.0, \"unit\": \"USD\", \"label\": \"Equity Attributable To Parent\", \"order\": 1600}, \"noncurrent_assets\": {\"value\": 230862000000.0, \"unit\": \"USD\", \"label\": \"Noncurrent Assets\", \"order\": 300}, \"equity\": {\"value\": 283379000000.0, \"unit\": \"USD\", \"label\": \"Equity\", \"order\": 1400}, \"equity_attributable_to_noncontrolling_interest\": {\"value\": 0, \"unit\": \"USD\", \"label\": \"Equity Attributable To Noncontrolling Interest\", \"order\": 1500}, \"other_noncurrent_liabilities\": {\"value\": 22337000000.0, \"unit\": \"USD\", \"label\": \"Other Non-current Liabilities\", \"order\": 820}, \"other_noncurrent_assets\": {\"value\": 96517000000.0, \"unit\": \"USD\", \"label\": \"Other Non-current Assets\", \"order\": 350}, \"liabilities\": {\"value\": 119013000000.0, \"unit\": \"USD\", \"label\": \"Liabilities\", \"order\": 600}, \"other_current_assets\": {\"value\": 60614000000.0, \"unit\": \"USD\", \"label\": \"Other Current Assets\", \"order\": 250}, \"other_current_liabilities\": {\"value\": 59181000000.0, \"unit\": \"USD\", \"label\": \"Other Current Liabilities\", \"order\": 740}, \"liabilities_and_equity\": {\"value\": 402392000000.0, \"unit\": \"USD\", \"label\": \"Liabilities And Equity\", \"order\": 1900}, \"current_assets\": {\"value\": 171530000000.0, \"unit\": \"USD\", \"label\": \"Current Assets\", \"order\": 200}}}}, {\"start_date\": \"2023-07-01\", \"end_date\": \"2023-09-30\", \"filing_date\": \"2023-10-25\", \"acceptance_datetime\": \"2023-10-24T22:39:13Z\", \"timeframe\": \"quarterly\", \"fiscal_period\": \"Q3\", \"fiscal_year\": \"2023\", \"cik\": \"0001652044\", \"sic\": \"7370\", \"tickers\": [\"GOOG\", \"GOOGL\"], \"company_name\": \"Alphabet Inc.\", \"source_filing_url\": \"https://api.polygon.io/v1/reference/sec/filings/0001652044-23-000094\", \"source_filing_file_url\": \"http://api.polygon.io/v1/reference/sec/filings/0001652044-23-000094/files/goog-20230930_htm.xml\", \"financials\": {\"income_statement\": {\"income_loss_from_continuing_operations_after_tax\": {\"value\": 19689000000.0, \"unit\": \"USD\", \"label\": \"Income/Loss From Continuing Operations After Tax\", \"order\": 1400}, \"research_and_development\": {\"value\": 11258000000.0, \"unit\": \"USD\", \"label\": \"Research and Development\", \"order\": 1030}, \"diluted_earnings_per_share\": {\"value\": 1.55, \"unit\": \"USD / shares\", \"label\": \"Diluted Earnings Per Share\", \"order\": 4300}, \"cost_of_revenue\": {\"value\": 33229000000.0, \"unit\": \"USD\", \"label\": \"Cost Of Revenue\", \"order\": 300}, \"operating_income_loss\": {\"value\": 21343000000.0, \"unit\": \"USD\", \"label\": \"Operating Income/Loss\", \"order\": 1100}, \"preferred_stock_dividends_and_other_adjustments\": {\"value\": 0, \"unit\": \"USD\", \"label\": \"Preferred Stock Dividends And Other Adjustments\", \"order\": 3900}, \"income_tax_expense_benefit\": {\"value\": 1508000000.0, \"unit\": \"USD\", \"label\": \"Income Tax Expense/Benefit\", \"order\": 2200}, \"nonoperating_income_loss\": {\"value\": -146000000.0, \"unit\": \"USD\", \"label\": \"Nonoperating Income/Loss\", \"order\": 900}, \"net_income_loss_attributable_to_parent\": {\"value\": 19689000000.0, \"unit\": \"USD\", \"label\": \"Net Income/Loss Attributable To Parent\", \"order\": 3500}, \"basic_earnings_per_share\": {\"value\": 1.56, \"unit\": \"USD / shares\", \"label\": \"Basic Earnings Per Share\", \"order\": 4200}, \"interest_expense_operating\": {\"value\": 116000000.0, \"unit\": \"USD\", \"label\": \"Interest Expense, Operating\", \"order\": 2700}, \"income_loss_from_continuing_operations_before_tax\": {\"value\": 21197000000.0, \"unit\": \"USD\", \"label\": \"Income/Loss From Continuing Operations Before Tax\", \"order\": 1500}, \"costs_and_expenses\": {\"value\": 55350000000.0, \"unit\": \"USD\", \"label\": \"Costs And Expenses\", \"order\": 600}, \"net_income_loss\": {\"value\": 19689000000.0, \"unit\": \"USD\", \"label\": \"Net Income/Loss\", \"order\": 3200}, \"participating_securities_distributed_and_undistributed_earnings_loss_basic\": {\"value\": 0, \"unit\": \"USD\", \"label\": \"Participating Securities, Distributed And Undistributed Earnings/Loss, Basic\", \"order\": 3800}, \"net_income_loss_available_to_common_stockholders_basic\": {\"value\": 19689000000.0, \"unit\": \"USD\", \"label\": \"Net Income/Loss Available To Common Stockholders, Basic\", \"order\": 3700}, \"net_income_loss_attributable_to_noncontrolling_interest\": {\"value\": 0, \"unit\": \"USD\", \"label\": \"Net Income/Loss Attributable To Noncontrolling Interest\", \"order\": 3300}, \"benefits_costs_expenses\": {\"value\": 55496000000.0, \"unit\": \"USD\", \"label\": \"Benefits Costs and Expenses\", \"order\": 200}, \"gross_profit\": {\"value\": 43464000000.0, \"unit\": \"USD\", \"label\": \"Gross Profit\", \"order\": 800}, \"operating_expenses\": {\"value\": 22121000000.0, \"unit\": \"USD\", \"label\": \"Operating Expenses\", \"order\": 1000}, \"revenues\": {\"value\": 76693000000.0, \"unit\": \"USD\", \"label\": \"Revenues\", \"order\": 100}, \"other_operating_expenses\": {\"value\": 10863000000.0, \"unit\": \"USD\", \"label\": \"Other Operating Expenses\", \"order\": 1040}}, \"cash_flow_statement\": {\"net_cash_flow_from_financing_activities_continuing\": {\"value\": -18382000000.0, \"unit\": \"USD\", \"label\": \"Net Cash Flow From Financing Activities, Continuing\", \"order\": 800}, \"net_cash_flow_from_investing_activities_continuing\": {\"value\": -7150000000.0, \"unit\": \"USD\", \"label\": \"Net Cash Flow From Investing Activities, Continuing\", \"order\": 500}, \"net_cash_flow_from_operating_activities_continuing\": {\"value\": 30656000000.0, \"unit\": \"USD\", \"label\": \"Net Cash Flow From Operating Activities, Continuing\", \"order\": 200}, \"net_cash_flow_from_investing_activities\": {\"value\": -7150000000.0, \"unit\": \"USD\", \"label\": \"Net Cash Flow From Investing Activities\", \"order\": 400}, \"net_cash_flow_from_financing_activities\": {\"value\": -18382000000.0, \"unit\": \"USD\", \"label\": \"Net Cash Flow From Financing Activities\", \"order\": 700}, \"exchange_gains_losses\": {\"value\": -351000000.0, \"unit\": \"USD\", \"label\": \"Exchange Gains/Losses\", \"order\": 1000}, \"net_cash_flow_continuing\": {\"value\": 5124000000.0, \"unit\": \"USD\", \"label\": \"Net Cash Flow, Continuing\", \"order\": 1200}, \"net_cash_flow\": {\"value\": 4773000000.0, \"unit\": \"USD\", \"label\": \"Net Cash Flow\", \"order\": 1100}, \"net_cash_flow_from_operating_activities\": {\"value\": 30656000000.0, \"unit\": \"USD\", \"label\": \"Net Cash Flow From Operating Activities\", \"order\": 100}}, \"comprehensive_income\": {\"other_comprehensive_income_loss_attributable_to_parent\": {\"value\": -1045000000.0, \"unit\": \"USD\", \"label\": \"Other Comprehensive Income/Loss Attributable To Parent\", \"order\": 600}, \"comprehensive_income_loss\": {\"value\": 18644000000.0, \"unit\": \"USD\", \"label\": \"Comprehensive Income/Loss\", \"order\": 100}, \"other_comprehensive_income_loss\": {\"value\": -1045000000.0, \"unit\": \"USD\", \"label\": \"Other Comprehensive Income/Loss\", \"order\": 400}, \"comprehensive_income_loss_attributable_to_noncontrolling_interest\": {\"value\": 0, \"unit\": \"USD\", \"label\": \"Comprehensive Income/Loss Attributable To Noncontrolling Interest\", \"order\": 200}, \"comprehensive_income_loss_attributable_to_parent\": {\"value\": 18644000000.0, \"unit\": \"USD\", \"label\": \"Comprehensive Income/Loss Attributable To Parent\", \"order\": 300}}, \"balance_sheet\": {\"other_noncurrent_assets\": {\"value\": 218568000000.0, \"unit\": \"USD\", \"label\": \"Other Non-current Assets\", \"order\": 350}, \"other_current_assets\": {\"value\": 53418000000.0, \"unit\": \"USD\", \"label\": \"Other Current Assets\", \"order\": 250}, \"inventory\": {\"value\": 2957000000.0, \"unit\": \"USD\", \"label\": \"Inventory\", \"order\": 230}, \"cash\": {\"value\": 119935000000.0, \"unit\": \"USD\", \"label\": \"Cash\", \"order\": 210}, \"equity_attributable_to_parent\": {\"value\": 273202000000.0, \"unit\": \"USD\", \"label\": \"Equity Attributable To Parent\", \"order\": 1600}, \"equity\": {\"value\": 273202000000.0, \"unit\": \"USD\", \"label\": \"Equity\", \"order\": 1400}, \"current_liabilities\": {\"value\": 86295000000.0, \"unit\": \"USD\", \"label\": \"Current Liabilities\", \"order\": 700}, \"assets\": {\"value\": 396711000000.0, \"unit\": \"USD\", \"label\": \"Assets\", \"order\": 100}, \"wages\": {\"value\": 12562000000.0, \"unit\": \"USD\", \"label\": \"Wages\", \"order\": 730}, \"equity_attributable_to_noncontrolling_interest\": {\"value\": 0, \"unit\": \"USD\", \"label\": \"Equity Attributable To Noncontrolling Interest\", \"order\": 1500}, \"intangible_assets\": {\"value\": 1833000000.0, \"unit\": \"USD\", \"label\": \"Intangible Assets\", \"order\": 330}, \"noncurrent_assets\": {\"value\": 220401000000.0, \"unit\": \"USD\", \"label\": \"Noncurrent Assets\", \"order\": 300}, \"liabilities_and_equity\": {\"value\": 396711000000.0, \"unit\": \"USD\", \"label\": \"Liabilities And Equity\", \"order\": 1900}, \"current_assets\": {\"value\": 176310000000.0, \"unit\": \"USD\", \"label\": \"Current Assets\", \"order\": 200}, \"accounts_payable\": {\"value\": 5803000000.0, \"unit\": \"USD\", \"label\": \"Accounts Payable\", \"order\": 710}, \"other_current_liabilities\": {\"value\": 67930000000.0, \"unit\": \"USD\", \"label\": \"Other Current Liabilities\", \"order\": 740}, \"noncurrent_liabilities\": {\"value\": 37214000000.0, \"unit\": \"USD\", \"label\": \"Noncurrent Liabilities\", \"order\": 800}, \"liabilities\": {\"value\": 123509000000.0, \"unit\": \"USD\", \"label\": \"Liabilities\", \"order\": 600}}}}, {\"start_date\": \"2023-04-01\", \"end_date\": \"2023-06-30\", \"filing_date\": \"2023-07-26\", \"acceptance_datetime\": \"2023-07-25T23:13:26Z\", \"timeframe\": \"quarterly\", \"fiscal_period\": \"Q2\", \"fiscal_year\": \"2023\", \"cik\": \"0001652044\", \"sic\": \"7370\", \"tickers\": [\"GOOG\", \"GOOGL\"], \"company_name\": \"Alphabet Inc.\", \"source_filing_url\": \"https://api.polygon.io/v1/reference/sec/filings/0001652044-23-000070\", \"source_filing_file_url\": \"http://api.polygon.io/v1/reference/sec/filings/0001652044-23-000070/files/goog-20230630_htm.xml\", \"financials\": {\"balance_sheet\": {\"noncurrent_liabilities\": {\"value\": 0, \"unit\": \"USD\", \"label\": \"Noncurrent Liabilities\", \"order\": 800}, \"other_current_assets\": {\"value\": 48225000000.0, \"unit\": \"USD\", \"label\": \"Other Current Assets\", \"order\": 250}, \"equity_attributable_to_noncontrolling_interest\": {\"value\": 0, \"unit\": \"USD\", \"label\": \"Equity Attributable To Noncontrolling Interest\", \"order\": 1500}, \"intangible_assets\": {\"value\": 1966000000.0, \"unit\": \"USD\", \"label\": \"Intangible Assets\", \"order\": 330}, \"accounts_payable\": {\"value\": 5313000000.0, \"unit\": \"USD\", \"label\": \"Accounts Payable\", \"order\": 710}, \"cash\": {\"value\": 118332000000.0, \"unit\": \"USD\", \"label\": \"Cash\", \"order\": 210}, \"noncurrent_assets\": {\"value\": 214256000000.0, \"unit\": \"USD\", \"label\": \"Noncurrent Assets\", \"order\": 300}, \"other_current_liabilities\": {\"value\": 61136000000.0, \"unit\": \"USD\", \"label\": \"Other Current Liabilities\", \"order\": 740}, \"liabilities\": {\"value\": 115903000000.0, \"unit\": \"USD\", \"label\": \"Liabilities\", \"order\": 600}, \"liabilities_and_equity\": {\"value\": 383044000000.0, \"unit\": \"USD\", \"label\": \"Liabilities And Equity\", \"order\": 1900}, \"current_assets\": {\"value\": 168788000000.0, \"unit\": \"USD\", \"label\": \"Current Assets\", \"order\": 200}, \"assets\": {\"value\": 383044000000.0, \"unit\": \"USD\", \"label\": \"Assets\", \"order\": 100}, \"inventory\": {\"value\": 2231000000.0, \"unit\": \"USD\", \"label\": \"Inventory\", \"order\": 230}, \"wages\": {\"value\": 11260000000.0, \"unit\": \"USD\", \"label\": \"Wages\", \"order\": 730}, \"equity\": {\"value\": 267141000000.0, \"unit\": \"USD\", \"label\": \"Equity\", \"order\": 1400}, \"equity_attributable_to_parent\": {\"value\": 267141000000.0, \"unit\": \"USD\", \"label\": \"Equity Attributable To Parent\", \"order\": 1600}, \"current_liabilities\": {\"value\": 77709000000.0, \"unit\": \"USD\", \"label\": \"Current Liabilities\", \"order\": 700}, \"other_noncurrent_assets\": {\"value\": 212290000000.0, \"unit\": \"USD\", \"label\": \"Other Non-current Assets\", \"order\": 350}}, \"income_statement\": {\"research_and_development\": {\"value\": 10588000000.0, \"unit\": \"USD\", \"label\": \"Research and Development\", \"order\": 1030}, \"basic_earnings_per_share\": {\"value\": 1.45, \"unit\": \"USD / shares\", \"label\": \"Basic Earnings Per Share\", \"order\": 4200}, \"gross_profit\": {\"value\": 42688000000.0, \"unit\": \"USD\", \"label\": \"Gross Profit\", \"order\": 800}, \"other_operating_expenses\": {\"value\": 10262000000.0, \"unit\": \"USD\", \"label\": \"Other Operating Expenses\", \"order\": 1040}, \"costs_and_expenses\": {\"value\": 52766000000.0, \"unit\": \"USD\", \"label\": \"Costs And Expenses\", \"order\": 600}, \"interest_expense_operating\": {\"value\": 43000000.0, \"unit\": \"USD\", \"label\": \"Interest Expense, Operating\", \"order\": 2700}, \"nonoperating_income_loss\": {\"value\": 65000000.0, \"unit\": \"USD\", \"label\": \"Nonoperating Income/Loss\", \"order\": 900}, \"operating_expenses\": {\"value\": 20850000000.0, \"unit\": \"USD\", \"label\": \"Operating Expenses\", \"order\": 1000}, \"net_income_loss\": {\"value\": 18368000000.0, \"unit\": \"USD\", \"label\": \"Net Income/Loss\", \"order\": 3200}, \"preferred_stock_dividends_and_other_adjustments\": {\"value\": 0, \"unit\": \"USD\", \"label\": \"Preferred Stock Dividends And Other Adjustments\", \"order\": 3900}, \"income_tax_expense_benefit\": {\"value\": 3535000000.0, \"unit\": \"USD\", \"label\": \"Income Tax Expense/Benefit\", \"order\": 2200}, \"benefits_costs_expenses\": {\"value\": 52701000000.0, \"unit\": \"USD\", \"label\": \"Benefits Costs and Expenses\", \"order\": 200}, \"income_loss_from_continuing_operations_before_tax\": {\"value\": 21903000000.0, \"unit\": \"USD\", \"label\": \"Income/Loss From Continuing Operations Before Tax\", \"order\": 1500}, \"diluted_earnings_per_share\": {\"value\": 1.44, \"unit\": \"USD / shares\", \"label\": \"Diluted Earnings Per Share\", \"order\": 4300}, \"operating_income_loss\": {\"value\": 21838000000.0, \"unit\": \"USD\", \"label\": \"Operating Income/Loss\", \"order\": 1100}, \"income_loss_from_continuing_operations_after_tax\": {\"value\": 18368000000.0, \"unit\": \"USD\", \"label\": \"Income/Loss From Continuing Operations After Tax\", \"order\": 1400}, \"participating_securities_distributed_and_undistributed_earnings_loss_basic\": {\"value\": 0, \"unit\": \"USD\", \"label\": \"Participating Securities, Distributed And Undistributed Earnings/Loss, Basic\", \"order\": 3800}, \"cost_of_revenue\": {\"value\": 31916000000.0, \"unit\": \"USD\", \"label\": \"Cost Of Revenue\", \"order\": 300}, \"net_income_loss_attributable_to_parent\": {\"value\": 18368000000.0, \"unit\": \"USD\", \"label\": \"Net Income/Loss Attributable To Parent\", \"order\": 3500}, \"revenues\": {\"value\": 74604000000.0, \"unit\": \"USD\", \"label\": \"Revenues\", \"order\": 100}, \"net_income_loss_available_to_common_stockholders_basic\": {\"value\": 18368000000.0, \"unit\": \"USD\", \"label\": \"Net Income/Loss Available To Common Stockholders, Basic\", \"order\": 3700}, \"net_income_loss_attributable_to_noncontrolling_interest\": {\"value\": 0, \"unit\": \"USD\", \"label\": \"Net Income/Loss Attributable To Noncontrolling Interest\", \"order\": 3300}}, \"cash_flow_statement\": {\"exchange_gains_losses\": {\"value\": -26000000.0, \"unit\": \"USD\", \"label\": \"Exchange Gains/Losses\", \"order\": 1000}, \"net_cash_flow\": {\"value\": 5000000.0, \"unit\": \"USD\", \"label\": \"Net Cash Flow\", \"order\": 1100}, \"net_cash_flow_continuing\": {\"value\": 31000000.0, \"unit\": \"USD\", \"label\": \"Net Cash Flow, Continuing\", \"order\": 1200}, \"net_cash_flow_from_financing_activities\": {\"value\": -17835000000.0, \"unit\": \"USD\", \"label\": \"Net Cash Flow From Financing Activities\", \"order\": 700}, \"net_cash_flow_from_financing_activities_continuing\": {\"value\": -17835000000.0, \"unit\": \"USD\", \"label\": \"Net Cash Flow From Financing Activities, Continuing\", \"order\": 800}, \"net_cash_flow_from_operating_activities_continuing\": {\"value\": 28666000000.0, \"unit\": \"USD\", \"label\": \"Net Cash Flow From Operating Activities, Continuing\", \"order\": 200}, \"net_cash_flow_from_operating_activities\": {\"value\": 28666000000.0, \"unit\": \"USD\", \"label\": \"Net Cash Flow From Operating Activities\", \"order\": 100}, \"net_cash_flow_from_investing_activities\": {\"value\": -10800000000.0, \"unit\": \"USD\", \"label\": \"Net Cash Flow From Investing Activities\", \"order\": 400}, \"net_cash_flow_from_investing_activities_continuing\": {\"value\": -10800000000.0, \"unit\": \"USD\", \"label\": \"Net Cash Flow From Investing Activities, Continuing\", \"order\": 500}}, \"comprehensive_income\": {\"other_comprehensive_income_loss\": {\"value\": 9000000.0, \"unit\": \"USD\", \"label\": \"Other Comprehensive Income/Loss\", \"order\": 400}, \"comprehensive_income_loss_attributable_to_parent\": {\"value\": 18377000000.0, \"unit\": \"USD\", \"label\": \"Comprehensive Income/Loss Attributable To Parent\", \"order\": 300}, \"comprehensive_income_loss_attributable_to_noncontrolling_interest\": {\"value\": 0, \"unit\": \"USD\", \"label\": \"Comprehensive Income/Loss Attributable To Noncontrolling Interest\", \"order\": 200}, \"comprehensive_income_loss\": {\"value\": 18377000000.0, \"unit\": \"USD\", \"label\": \"Comprehensive Income/Loss\", \"order\": 100}, \"other_comprehensive_income_loss_attributable_to_parent\": {\"value\": 9000000.0, \"unit\": \"USD\", \"label\": \"Other Comprehensive Income/Loss Attributable To Parent\", \"order\": 600}}}}, {\"start_date\": \"2023-01-01\", \"end_date\": \"2023-03-31\", \"filing_date\": \"2023-04-26\", \"acceptance_datetime\": \"2023-04-26T00:15:00Z\", \"timeframe\": \"quarterly\", \"fiscal_period\": \"Q1\", \"fiscal_year\": \"2023\", \"cik\": \"0001652044\", \"sic\": \"7370\", \"tickers\": [\"GOOG\", \"GOOGL\"], \"company_name\": \"Alphabet Inc.\", \"source_filing_url\": \"https://api.polygon.io/v1/reference/sec/filings/0001652044-23-000045\", \"source_filing_file_url\": \"http://api.polygon.io/v1/reference/sec/filings/0001652044-23-000045/files/goog-20230331_htm.xml\", \"financials\": {\"balance_sheet\": {\"equity_attributable_to_parent\": {\"value\": 260894000000.0, \"unit\": \"USD\", \"label\": \"Equity Attributable To Parent\", \"order\": 1600}, \"current_liabilities\": {\"value\": 68854000000.0, \"unit\": \"USD\", \"label\": \"Current Liabilities\", \"order\": 700}, \"assets\": {\"value\": 369491000000.0, \"unit\": \"USD\", \"label\": \"Assets\", \"order\": 100}, \"inventory\": {\"value\": 2315000000.0, \"unit\": \"USD\", \"label\": \"Inventory\", \"order\": 230}, \"equity_attributable_to_noncontrolling_interest\": {\"value\": 0, \"unit\": \"USD\", \"label\": \"Equity Attributable To Noncontrolling Interest\", \"order\": 1500}, \"current_assets\": {\"value\": 161985000000.0, \"unit\": \"USD\", \"label\": \"Current Assets\", \"order\": 200}, \"accounts_payable\": {\"value\": 4184000000.0, \"unit\": \"USD\", \"label\": \"Accounts Payable\", \"order\": 710}, \"intangible_assets\": {\"value\": 1968000000.0, \"unit\": \"USD\", \"label\": \"Intangible Assets\", \"order\": 330}, \"wages\": {\"value\": 9954000000.0, \"unit\": \"USD\", \"label\": \"Wages\", \"order\": 730}, \"liabilities\": {\"value\": 108597000000.0, \"unit\": \"USD\", \"label\": \"Liabilities\", \"order\": 600}, \"other_current_assets\": {\"value\": 44568000000.0, \"unit\": \"USD\", \"label\": \"Other Current Assets\", \"order\": 250}, \"other_current_liabilities\": {\"value\": 54716000000.0, \"unit\": \"USD\", \"label\": \"Other Current Liabilities\", \"order\": 740}, \"noncurrent_liabilities\": {\"value\": 0, \"unit\": \"USD\", \"label\": \"Noncurrent Liabilities\", \"order\": 800}, \"liabilities_and_equity\": {\"value\": 369491000000.0, \"unit\": \"USD\", \"label\": \"Liabilities And Equity\", \"order\": 1900}, \"noncurrent_assets\": {\"value\": 207506000000.0, \"unit\": \"USD\", \"label\": \"Noncurrent Assets\", \"order\": 300}, \"equity\": {\"value\": 260894000000.0, \"unit\": \"USD\", \"label\": \"Equity\", \"order\": 1400}, \"other_noncurrent_assets\": {\"value\": 205538000000.0, \"unit\": \"USD\", \"label\": \"Other Non-current Assets\", \"order\": 350}, \"cash\": {\"value\": 115102000000.0, \"unit\": \"USD\", \"label\": \"Cash\", \"order\": 210}}, \"cash_flow_statement\": {\"net_cash_flow_continuing\": {\"value\": 3995000000.0, \"unit\": \"USD\", \"label\": \"Net Cash Flow, Continuing\", \"order\": 1200}, \"exchange_gains_losses\": {\"value\": 50000000.0, \"unit\": \"USD\", \"label\": \"Exchange Gains/Losses\", \"order\": 1000}, \"net_cash_flow_from_operating_activities_continuing\": {\"value\": 23509000000.0, \"unit\": \"USD\", \"label\": \"Net Cash Flow From Operating Activities, Continuing\", \"order\": 200}, \"net_cash_flow_from_financing_activities_continuing\": {\"value\": -16568000000.0, \"unit\": \"USD\", \"label\": \"Net Cash Flow From Financing Activities, Continuing\", \"order\": 800}, \"net_cash_flow_from_investing_activities\": {\"value\": -2946000000.0, \"unit\": \"USD\", \"label\": \"Net Cash Flow From Investing Activities\", \"order\": 400}, \"net_cash_flow\": {\"value\": 4045000000.0, \"unit\": \"USD\", \"label\": \"Net Cash Flow\", \"order\": 1100}, \"net_cash_flow_from_financing_activities\": {\"value\": -16568000000.0, \"unit\": \"USD\", \"label\": \"Net Cash Flow From Financing Activities\", \"order\": 700}, \"net_cash_flow_from_investing_activities_continuing\": {\"value\": -2946000000.0, \"unit\": \"USD\", \"label\": \"Net Cash Flow From Investing Activities, Continuing\", \"order\": 500}, \"net_cash_flow_from_operating_activities\": {\"value\": 23509000000.0, \"unit\": \"USD\", \"label\": \"Net Cash Flow From Operating Activities\", \"order\": 100}}, \"income_statement\": {\"net_income_loss\": {\"value\": 15051000000.0, \"unit\": \"USD\", \"label\": \"Net Income/Loss\", \"order\": 3200}, \"operating_income_loss\": {\"value\": 17415000000.0, \"unit\": \"USD\", \"label\": \"Operating Income/Loss\", \"order\": 1100}, \"participating_securities_distributed_and_undistributed_earnings_loss_basic\": {\"value\": 0, \"unit\": \"USD\", \"label\": \"Participating Securities, Distributed And Undistributed Earnings/Loss, Basic\", \"order\": 3800}, \"net_income_loss_available_to_common_stockholders_basic\": {\"value\": 15051000000.0, \"unit\": \"USD\", \"label\": \"Net Income/Loss Available To Common Stockholders, Basic\", \"order\": 3700}, \"research_and_development\": {\"value\": 11468000000.0, \"unit\": \"USD\", \"label\": \"Research and Development\", \"order\": 1030}, \"income_loss_from_continuing_operations_after_tax\": {\"value\": 15051000000.0, \"unit\": \"USD\", \"label\": \"Income/Loss From Continuing Operations After Tax\", \"order\": 1400}, \"revenues\": {\"value\": 69787000000.0, \"unit\": \"USD\", \"label\": \"Revenues\", \"order\": 100}, \"income_loss_from_continuing_operations_before_tax\": {\"value\": 18205000000.0, \"unit\": \"USD\", \"label\": \"Income/Loss From Continuing Operations Before Tax\", \"order\": 1500}, \"operating_expenses\": {\"value\": 21760000000.0, \"unit\": \"USD\", \"label\": \"Operating Expenses\", \"order\": 1000}, \"basic_earnings_per_share\": {\"value\": 1.18, \"unit\": \"USD / shares\", \"label\": \"Basic Earnings Per Share\", \"order\": 4200}, \"net_income_loss_attributable_to_noncontrolling_interest\": {\"value\": 0, \"unit\": \"USD\", \"label\": \"Net Income/Loss Attributable To Noncontrolling Interest\", \"order\": 3300}, \"income_tax_expense_benefit\": {\"value\": 3154000000.0, \"unit\": \"USD\", \"label\": \"Income Tax Expense/Benefit\", \"order\": 2200}, \"nonoperating_income_loss\": {\"value\": 790000000.0, \"unit\": \"USD\", \"label\": \"Nonoperating Income/Loss\", \"order\": 900}, \"costs_and_expenses\": {\"value\": 52372000000.0, \"unit\": \"USD\", \"label\": \"Costs And Expenses\", \"order\": 600}, \"preferred_stock_dividends_and_other_adjustments\": {\"value\": 0, \"unit\": \"USD\", \"label\": \"Preferred Stock Dividends And Other Adjustments\", \"order\": 3900}, \"gross_profit\": {\"value\": 39175000000.0, \"unit\": \"USD\", \"label\": \"Gross Profit\", \"order\": 800}, \"interest_expense_operating\": {\"value\": 80000000.0, \"unit\": \"USD\", \"label\": \"Interest Expense, Operating\", \"order\": 2700}, \"cost_of_revenue\": {\"value\": 30612000000.0, \"unit\": \"USD\", \"label\": \"Cost Of Revenue\", \"order\": 300}, \"net_income_loss_attributable_to_parent\": {\"value\": 15051000000.0, \"unit\": \"USD\", \"label\": \"Net Income/Loss Attributable To Parent\", \"order\": 3500}, \"benefits_costs_expenses\": {\"value\": 51582000000.0, \"unit\": \"USD\", \"label\": \"Benefits Costs and Expenses\", \"order\": 200}, \"other_operating_expenses\": {\"value\": 10292000000.0, \"unit\": \"USD\", \"label\": \"Other Operating Expenses\", \"order\": 1040}, \"diluted_earnings_per_share\": {\"value\": 1.17, \"unit\": \"USD / shares\", \"label\": \"Diluted Earnings Per Share\", \"order\": 4300}}, \"comprehensive_income\": {\"other_comprehensive_income_loss\": {\"value\": 1603000000.0, \"unit\": \"USD\", \"label\": \"Other Comprehensive Income/Loss\", \"order\": 400}, \"comprehensive_income_loss_attributable_to_parent\": {\"value\": 16654000000.0, \"unit\": \"USD\", \"label\": \"Comprehensive Income/Loss Attributable To Parent\", \"order\": 300}, \"comprehensive_income_loss_attributable_to_noncontrolling_interest\": {\"value\": 0, \"unit\": \"USD\", \"label\": \"Comprehensive Income/Loss Attributable To Noncontrolling Interest\", \"order\": 200}, \"comprehensive_income_loss\": {\"value\": 16654000000.0, \"unit\": \"USD\", \"label\": \"Comprehensive Income/Loss\", \"order\": 100}, \"other_comprehensive_income_loss_attributable_to_parent\": {\"value\": 1603000000.0, \"unit\": \"USD\", \"label\": \"Other Comprehensive Income/Loss Attributable To Parent\", \"order\": 600}}}}, {\"start_date\": \"2022-10-01\", \"end_date\": \"2022-12-31\", \"timeframe\": \"quarterly\", \"fiscal_period\": \"Q4\", \"fiscal_year\": \"2022\", \"cik\": \"0001652044\", \"sic\": \"7370\", \"tickers\": [\"GOOG\", \"GOOGL\"], \"company_name\": \"Alphabet Inc.\", \"financials\": {\"comprehensive_income\": {\"other_comprehensive_income_loss\": {\"value\": 1249000000.0, \"unit\": \"USD\", \"label\": \"Other Comprehensive Income/Loss\", \"order\": 400}, \"comprehensive_income_loss\": {\"value\": 14873000000.0, \"unit\": \"USD\", \"label\": \"Comprehensive Income/Loss\", \"order\": 100}, \"other_comprehensive_income_loss_attributable_to_parent\": {\"value\": 1249000000.0, \"unit\": \"USD\", \"label\": \"Other Comprehensive Income/Loss Attributable To Parent\", \"order\": 600}, \"comprehensive_income_loss_attributable_to_parent\": {\"value\": 14873000000.0, \"unit\": \"USD\", \"label\": \"Comprehensive Income/Loss Attributable To Parent\", \"order\": 300}, \"comprehensive_income_loss_attributable_to_noncontrolling_interest\": {\"value\": 0, \"unit\": \"USD\", \"label\": \"Comprehensive Income/Loss Attributable To Noncontrolling Interest\", \"order\": 200}}, \"income_statement\": {\"basic_earnings_per_share\": {\"value\": 1.06, \"unit\": \"USD / shares\", \"label\": \"Basic Earnings Per Share\", \"order\": 4200}, \"benefits_costs_expenses\": {\"value\": 58901000000.0, \"unit\": \"USD\", \"label\": \"Benefits Costs and Expenses\", \"order\": 200}, \"net_income_loss_available_to_common_stockholders_basic\": {\"value\": 13624000000.0, \"unit\": \"USD\", \"label\": \"Net Income/Loss Available To Common Stockholders, Basic\", \"order\": 3700}, \"net_income_loss_attributable_to_parent\": {\"value\": 13624000000.0, \"unit\": \"USD\", \"label\": \"Net Income/Loss Attributable To Parent\", \"order\": 3500}, \"net_income_loss_attributable_to_noncontrolling_interest\": {\"value\": 0, \"unit\": \"USD\", \"label\": \"Net Income/Loss Attributable To Noncontrolling Interest\", \"order\": 3300}, \"nonoperating_income_loss\": {\"value\": -1013000000.0, \"unit\": \"USD\", \"label\": \"Nonoperating Income/Loss\", \"order\": 900}, \"gross_profit\": {\"value\": 40706000000.0, \"unit\": \"USD\", \"label\": \"Gross Profit\", \"order\": 800}, \"interest_expense_operating\": {\"value\": 90000000.0, \"unit\": \"USD\", \"label\": \"Interest Expense, Operating\", \"order\": 2700}, \"income_loss_from_continuing_operations_before_tax\": {\"value\": 17147000000.0, \"unit\": \"USD\", \"label\": \"Income/Loss From Continuing Operations Before Tax\", \"order\": 1500}, \"operating_expenses\": {\"value\": 22546000000.0, \"unit\": \"USD\", \"label\": \"Operating Expenses\", \"order\": 1000}, \"cost_of_revenue\": {\"value\": 35342000000.0, \"unit\": \"USD\", \"label\": \"Cost Of Revenue\", \"order\": 300}, \"costs_and_expenses\": {\"value\": 57888000000.0, \"unit\": \"USD\", \"label\": \"Costs And Expenses\", \"order\": 600}, \"operating_income_loss\": {\"value\": 18160000000.0, \"unit\": \"USD\", \"label\": \"Operating Income/Loss\", \"order\": 1100}, \"diluted_earnings_per_share\": {\"value\": 1.0599999999999996, \"unit\": \"USD / shares\", \"label\": \"Diluted Earnings Per Share\", \"order\": 4300}, \"income_loss_from_continuing_operations_after_tax\": {\"value\": 13624000000.0, \"unit\": \"USD\", \"label\": \"Income/Loss From Continuing Operations After Tax\", \"order\": 1400}, \"revenues\": {\"value\": 76048000000.0, \"unit\": \"USD\", \"label\": \"Revenues\", \"order\": 100}, \"preferred_stock_dividends_and_other_adjustments\": {\"value\": 0, \"unit\": \"USD\", \"label\": \"Preferred Stock Dividends And Other Adjustments\", \"order\": 3900}, \"net_income_loss\": {\"value\": 13624000000.0, \"unit\": \"USD\", \"label\": \"Net Income/Loss\", \"order\": 3200}, \"research_and_development\": {\"value\": 10267000000.0, \"unit\": \"USD\", \"label\": \"Research and Development\", \"order\": 1030}, \"income_tax_expense_benefit\": {\"value\": 3523000000.0, \"unit\": \"USD\", \"label\": \"Income Tax Expense/Benefit\", \"order\": 2200}, \"other_operating_expenses\": {\"value\": 12279000000.0, \"unit\": \"USD\", \"label\": \"Other Operating Expenses\", \"order\": 1040}, \"participating_securities_distributed_and_undistributed_earnings_loss_basic\": {\"value\": 0, \"unit\": \"USD\", \"label\": \"Participating Securities, Distributed And Undistributed Earnings/Loss, Basic\", \"order\": 3800}}, \"cash_flow_statement\": {\"net_cash_flow_from_operating_activities\": {\"value\": 23614000000.0, \"unit\": \"USD\", \"label\": \"Net Cash Flow From Operating Activities\", \"order\": 100}, \"net_cash_flow_from_investing_activities_continuing\": {\"value\": -6227000000.0, \"unit\": \"USD\", \"label\": \"Net Cash Flow From Investing Activities, Continuing\", \"order\": 500}, \"net_cash_flow\": {\"value\": -105000000.0, \"unit\": \"USD\", \"label\": \"Net Cash Flow\", \"order\": 1100}, \"net_cash_flow_from_financing_activities_continuing\": {\"value\": -17629000000.0, \"unit\": \"USD\", \"label\": \"Net Cash Flow From Financing Activities, Continuing\", \"order\": 800}, \"net_cash_flow_from_investing_activities\": {\"value\": -6227000000.0, \"unit\": \"USD\", \"label\": \"Net Cash Flow From Investing Activities\", \"order\": 400}, \"net_cash_flow_continuing\": {\"value\": -242000000.0, \"unit\": \"USD\", \"label\": \"Net Cash Flow, Continuing\", \"order\": 1200}, \"net_cash_flow_from_financing_activities\": {\"value\": -17629000000.0, \"unit\": \"USD\", \"label\": \"Net Cash Flow From Financing Activities\", \"order\": 700}, \"net_cash_flow_from_operating_activities_continuing\": {\"value\": 23614000000.0, \"unit\": \"USD\", \"label\": \"Net Cash Flow From Operating Activities, Continuing\", \"order\": 200}, \"exchange_gains_losses\": {\"value\": 137000000.0, \"unit\": \"USD\", \"label\": \"Exchange Gains/Losses\", \"order\": 1000}}, \"balance_sheet\": {\"noncurrent_assets\": {\"value\": 200469000000.0, \"unit\": \"USD\", \"label\": \"Noncurrent Assets\", \"order\": 300}, \"long_term_debt\": {\"value\": 15312000000.0, \"unit\": \"USD\", \"label\": \"Long-term Debt\", \"order\": 810}, \"liabilities_and_equity\": {\"value\": 365264000000.0, \"unit\": \"USD\", \"label\": \"Liabilities And Equity\", \"order\": 1900}, \"other_noncurrent_assets\": {\"value\": 85717000000.0, \"unit\": \"USD\", \"label\": \"Other Non-current Assets\", \"order\": 350}, \"accounts_payable\": {\"value\": 5128000000.0, \"unit\": \"USD\", \"label\": \"Accounts Payable\", \"order\": 710}, \"liabilities\": {\"value\": 109120000000.0, \"unit\": \"USD\", \"label\": \"Liabilities\", \"order\": 600}, \"inventory\": {\"value\": 2670000000.0, \"unit\": \"USD\", \"label\": \"Inventory\", \"order\": 230}, \"current_liabilities\": {\"value\": 69300000000.0, \"unit\": \"USD\", \"label\": \"Current Liabilities\", \"order\": 700}, \"other_current_liabilities\": {\"value\": 50144000000.0, \"unit\": \"USD\", \"label\": \"Other Current Liabilities\", \"order\": 740}, \"fixed_assets\": {\"value\": 112668000000.0, \"unit\": \"USD\", \"label\": \"Fixed Assets\", \"order\": 320}, \"current_assets\": {\"value\": 164795000000.0, \"unit\": \"USD\", \"label\": \"Current Assets\", \"order\": 200}, \"equity\": {\"value\": 256144000000.0, \"unit\": \"USD\", \"label\": \"Equity\", \"order\": 1400}, \"assets\": {\"value\": 365264000000.0, \"unit\": \"USD\", \"label\": \"Assets\", \"order\": 100}, \"wages\": {\"value\": 14028000000.0, \"unit\": \"USD\", \"label\": \"Wages\", \"order\": 730}, \"other_current_assets\": {\"value\": 48363000000.0, \"unit\": \"USD\", \"label\": \"Other Current Assets\", \"order\": 250}, \"equity_attributable_to_noncontrolling_interest\": {\"value\": 0, \"unit\": \"USD\", \"label\": \"Equity Attributable To Noncontrolling Interest\", \"order\": 1500}, \"intangible_assets\": {\"value\": 2084000000.0, \"unit\": \"USD\", \"label\": \"Intangible Assets\", \"order\": 330}, \"cash\": {\"value\": 113762000000.0, \"unit\": \"USD\", \"label\": \"Cash\", \"order\": 210}, \"noncurrent_liabilities\": {\"value\": 39820000000.0, \"unit\": \"USD\", \"label\": \"Noncurrent Liabilities\", \"order\": 800}, \"other_noncurrent_liabilities\": {\"value\": 24508000000.0, \"unit\": \"USD\", \"label\": \"Other Non-current Liabilities\", \"order\": 820}, \"equity_attributable_to_parent\": {\"value\": 256144000000.0, \"unit\": \"USD\", \"label\": \"Equity Attributable To Parent\", \"order\": 1600}}}}, {\"start_date\": \"2022-01-01\", \"end_date\": \"2022-12-31\", \"filing_date\": \"2023-02-03\", \"timeframe\": \"annual\", \"fiscal_period\": \"FY\", \"fiscal_year\": \"2022\", \"cik\": \"0001652044\", \"sic\": \"7370\", \"tickers\": [\"GOOG\", \"GOOGL\"], \"company_name\": \"Alphabet Inc.\", \"source_filing_url\": \"https://api.polygon.io/v1/reference/sec/filings/0001652044-23-000016\", \"source_filing_file_url\": \"http://api.polygon.io/v1/reference/sec/filings/0001652044-23-000016/files/goog-20221231_htm.xml\", \"financials\": {\"cash_flow_statement\": {\"net_cash_flow_from_investing_activities_continuing\": {\"value\": -20298000000.0, \"unit\": \"USD\", \"label\": \"Net Cash Flow From Investing Activities, Continuing\", \"order\": 500}, \"net_cash_flow_from_investing_activities\": {\"value\": -20298000000.0, \"unit\": \"USD\", \"label\": \"Net Cash Flow From Investing Activities\", \"order\": 400}, \"net_cash_flow_from_financing_activities_continuing\": {\"value\": -69757000000.0, \"unit\": \"USD\", \"label\": \"Net Cash Flow From Financing Activities, Continuing\", \"order\": 800}, \"exchange_gains_losses\": {\"value\": -506000000.0, \"unit\": \"USD\", \"label\": \"Exchange Gains/Losses\", \"order\": 1000}, \"net_cash_flow_from_operating_activities\": {\"value\": 91495000000.0, \"unit\": \"USD\", \"label\": \"Net Cash Flow From Operating Activities\", \"order\": 100}, \"net_cash_flow_from_operating_activities_continuing\": {\"value\": 91495000000.0, \"unit\": \"USD\", \"label\": \"Net Cash Flow From Operating Activities, Continuing\", \"order\": 200}, \"net_cash_flow_continuing\": {\"value\": 1440000000.0, \"unit\": \"USD\", \"label\": \"Net Cash Flow, Continuing\", \"order\": 1200}, \"net_cash_flow_from_financing_activities\": {\"value\": -69757000000.0, \"unit\": \"USD\", \"label\": \"Net Cash Flow From Financing Activities\", \"order\": 700}, \"net_cash_flow\": {\"value\": 934000000.0, \"unit\": \"USD\", \"label\": \"Net Cash Flow\", \"order\": 1100}}, \"comprehensive_income\": {\"comprehensive_income_loss_attributable_to_parent\": {\"value\": 53992000000.0, \"unit\": \"USD\", \"label\": \"Comprehensive Income/Loss Attributable To Parent\", \"order\": 300}, \"other_comprehensive_income_loss_attributable_to_parent\": {\"value\": -5980000000.0, \"unit\": \"USD\", \"label\": \"Other Comprehensive Income/Loss Attributable To Parent\", \"order\": 600}, \"other_comprehensive_income_loss\": {\"value\": -5980000000.0, \"unit\": \"USD\", \"label\": \"Other Comprehensive Income/Loss\", \"order\": 400}, \"comprehensive_income_loss\": {\"value\": 53992000000.0, \"unit\": \"USD\", \"label\": \"Comprehensive Income/Loss\", \"order\": 100}, \"comprehensive_income_loss_attributable_to_noncontrolling_interest\": {\"value\": 0, \"unit\": \"USD\", \"label\": \"Comprehensive Income/Loss Attributable To Noncontrolling Interest\", \"order\": 200}}, \"balance_sheet\": {\"equity\": {\"value\": 256144000000.0, \"unit\": \"USD\", \"label\": \"Equity\", \"order\": 1400}, \"inventory\": {\"value\": 2670000000.0, \"unit\": \"USD\", \"label\": \"Inventory\", \"order\": 230}, \"other_noncurrent_liabilities\": {\"value\": 24508000000.0, \"unit\": \"USD\", \"label\": \"Other Non-current Liabilities\", \"order\": 820}, \"long_term_debt\": {\"value\": 15312000000.0, \"unit\": \"USD\", \"label\": \"Long-term Debt\", \"order\": 810}, \"other_current_assets\": {\"value\": 48363000000.0, \"unit\": \"USD\", \"label\": \"Other Current Assets\", \"order\": 250}, \"liabilities\": {\"value\": 109120000000.0, \"unit\": \"USD\", \"label\": \"Liabilities\", \"order\": 600}, \"cash\": {\"value\": 113762000000.0, \"unit\": \"USD\", \"label\": \"Cash\", \"order\": 210}, \"other_noncurrent_assets\": {\"value\": 85717000000.0, \"unit\": \"USD\", \"label\": \"Other Non-current Assets\", \"order\": 350}, \"equity_attributable_to_parent\": {\"value\": 256144000000.0, \"unit\": \"USD\", \"label\": \"Equity Attributable To Parent\", \"order\": 1600}, \"wages\": {\"value\": 14028000000.0, \"unit\": \"USD\", \"label\": \"Wages\", \"order\": 730}, \"noncurrent_liabilities\": {\"value\": 39820000000.0, \"unit\": \"USD\", \"label\": \"Noncurrent Liabilities\", \"order\": 800}, \"noncurrent_assets\": {\"value\": 200469000000.0, \"unit\": \"USD\", \"label\": \"Noncurrent Assets\", \"order\": 300}, \"fixed_assets\": {\"value\": 112668000000.0, \"unit\": \"USD\", \"label\": \"Fixed Assets\", \"order\": 320}, \"assets\": {\"value\": 365264000000.0, \"unit\": \"USD\", \"label\": \"Assets\", \"order\": 100}, \"intangible_assets\": {\"value\": 2084000000.0, \"unit\": \"USD\", \"label\": \"Intangible Assets\", \"order\": 330}, \"other_current_liabilities\": {\"value\": 50144000000.0, \"unit\": \"USD\", \"label\": \"Other Current Liabilities\", \"order\": 740}, \"liabilities_and_equity\": {\"value\": 365264000000.0, \"unit\": \"USD\", \"label\": \"Liabilities And Equity\", \"order\": 1900}, \"accounts_payable\": {\"value\": 5128000000.0, \"unit\": \"USD\", \"label\": \"Accounts Payable\", \"order\": 710}, \"equity_attributable_to_noncontrolling_interest\": {\"value\": 0, \"unit\": \"USD\", \"label\": \"Equity Attributable To Noncontrolling Interest\", \"order\": 1500}, \"current_assets\": {\"value\": 164795000000.0, \"unit\": \"USD\", \"label\": \"Current Assets\", \"order\": 200}, \"current_liabilities\": {\"value\": 69300000000.0, \"unit\": \"USD\", \"label\": \"Current Liabilities\", \"order\": 700}}, \"income_statement\": {\"income_loss_from_continuing_operations_before_tax\": {\"value\": 71328000000.0, \"unit\": \"USD\", \"label\": \"Income/Loss From Continuing Operations Before Tax\", \"order\": 1500}, \"operating_expenses\": {\"value\": 81791000000.0, \"unit\": \"USD\", \"label\": \"Operating Expenses\", \"order\": 1000}, \"benefits_costs_expenses\": {\"value\": 211508000000.0, \"unit\": \"USD\", \"label\": \"Benefits Costs and Expenses\", \"order\": 200}, \"research_and_development\": {\"value\": 39500000000.0, \"unit\": \"USD\", \"label\": \"Research and Development\", \"order\": 1030}, \"cost_of_revenue\": {\"value\": 126203000000.0, \"unit\": \"USD\", \"label\": \"Cost Of Revenue\", \"order\": 300}, \"nonoperating_income_loss\": {\"value\": -3514000000.0, \"unit\": \"USD\", \"label\": \"Nonoperating Income/Loss\", \"order\": 900}, \"income_tax_expense_benefit_current\": {\"value\": 19554000000.0, \"unit\": \"USD\", \"label\": \"Income Tax Expense/Benefit, Current\", \"order\": 2300}, \"net_income_loss_attributable_to_parent\": {\"value\": 59972000000.0, \"unit\": \"USD\", \"label\": \"Net Income/Loss Attributable To Parent\", \"order\": 3500}, \"interest_expense_operating\": {\"value\": 357000000.0, \"unit\": \"USD\", \"label\": \"Interest Expense, Operating\", \"order\": 2700}, \"costs_and_expenses\": {\"value\": 207994000000.0, \"unit\": \"USD\", \"label\": \"Costs And Expenses\", \"order\": 600}, \"income_tax_expense_benefit\": {\"value\": 11356000000.0, \"unit\": \"USD\", \"label\": \"Income Tax Expense/Benefit\", \"order\": 2200}, \"net_income_loss_attributable_to_noncontrolling_interest\": {\"value\": 0, \"unit\": \"USD\", \"label\": \"Net Income/Loss Attributable To Noncontrolling Interest\", \"order\": 3300}, \"preferred_stock_dividends_and_other_adjustments\": {\"value\": 0, \"unit\": \"USD\", \"label\": \"Preferred Stock Dividends And Other Adjustments\", \"order\": 3900}, \"income_loss_from_continuing_operations_after_tax\": {\"value\": 59972000000.0, \"unit\": \"USD\", \"label\": \"Income/Loss From Continuing Operations After Tax\", \"order\": 1400}, \"operating_income_loss\": {\"value\": 74842000000.0, \"unit\": \"USD\", \"label\": \"Operating Income/Loss\", \"order\": 1100}, \"other_operating_expenses\": {\"value\": 42291000000.0, \"unit\": \"USD\", \"label\": \"Other Operating Expenses\", \"order\": 1040}, \"net_income_loss\": {\"value\": 59972000000.0, \"unit\": \"USD\", \"label\": \"Net Income/Loss\", \"order\": 3200}, \"net_income_loss_available_to_common_stockholders_basic\": {\"value\": 59972000000.0, \"unit\": \"USD\", \"label\": \"Net Income/Loss Available To Common Stockholders, Basic\", \"order\": 3700}, \"diluted_earnings_per_share\": {\"value\": 4.56, \"unit\": \"USD / shares\", \"label\": \"Diluted Earnings Per Share\", \"order\": 4300}, \"income_tax_expense_benefit_deferred\": {\"value\": -8198000000.0, \"unit\": \"USD\", \"label\": \"Income Tax Expense/Benefit, Deferred\", \"order\": 2400}, \"gross_profit\": {\"value\": 156633000000.0, \"unit\": \"USD\", \"label\": \"Gross Profit\", \"order\": 800}, \"revenues\": {\"value\": 282836000000.0, \"unit\": \"USD\", \"label\": \"Revenues\", \"order\": 100}, \"basic_earnings_per_share\": {\"value\": 4.59, \"unit\": \"USD / shares\", \"label\": \"Basic Earnings Per Share\", \"order\": 4200}, \"participating_securities_distributed_and_undistributed_earnings_loss_basic\": {\"value\": 0, \"unit\": \"USD\", \"label\": \"Participating Securities, Distributed And Undistributed Earnings/Loss, Basic\", \"order\": 3800}}}}, {\"start_date\": \"2022-07-01\", \"end_date\": \"2022-09-30\", \"filing_date\": \"2022-10-26\", \"timeframe\": \"quarterly\", \"fiscal_period\": \"Q3\", \"fiscal_year\": \"2022\", \"cik\": \"0001652044\", \"sic\": \"7370\", \"tickers\": [\"GOOG\", \"GOOGL\"], \"company_name\": \"Alphabet Inc.\", \"source_filing_url\": \"https://api.polygon.io/v1/reference/sec/filings/0001652044-22-000090\", \"source_filing_file_url\": \"http://api.polygon.io/v1/reference/sec/filings/0001652044-22-000090/files/goog-20220930_htm.xml\", \"financials\": {\"balance_sheet\": {\"equity_attributable_to_parent\": {\"value\": 253626000000.0, \"unit\": \"USD\", \"label\": \"Equity Attributable To Parent\", \"order\": 1600}, \"other_current_assets\": {\"value\": 46694000000.0, \"unit\": \"USD\", \"label\": \"Other Current Assets\", \"order\": 250}, \"equity\": {\"value\": 253626000000.0, \"unit\": \"USD\", \"label\": \"Equity\", \"order\": 1400}, \"equity_attributable_to_noncontrolling_interest\": {\"value\": 0, \"unit\": \"USD\", \"label\": \"Equity Attributable To Noncontrolling Interest\", \"order\": 1500}, \"other_noncurrent_assets\": {\"value\": 189954000000.0, \"unit\": \"USD\", \"label\": \"Other Non-current Assets\", \"order\": 350}, \"wages\": {\"value\": 12366000000.0, \"unit\": \"USD\", \"label\": \"Wages\", \"order\": 730}, \"inventory\": {\"value\": 3156000000.0, \"unit\": \"USD\", \"label\": \"Inventory\", \"order\": 230}, \"accounts_payable\": {\"value\": 6303000000.0, \"unit\": \"USD\", \"label\": \"Accounts Payable\", \"order\": 710}, \"current_assets\": {\"value\": 166109000000.0, \"unit\": \"USD\", \"label\": \"Current Assets\", \"order\": 200}, \"liabilities_and_equity\": {\"value\": 358255000000.0, \"unit\": \"USD\", \"label\": \"Liabilities And Equity\", \"order\": 1900}, \"liabilities\": {\"value\": 104629000000.0, \"unit\": \"USD\", \"label\": \"Liabilities\", \"order\": 600}, \"current_liabilities\": {\"value\": 65979000000.0, \"unit\": \"USD\", \"label\": \"Current Liabilities\", \"order\": 700}, \"cash\": {\"value\": 116259000000.0, \"unit\": \"USD\", \"label\": \"Cash\", \"order\": 210}, \"noncurrent_assets\": {\"value\": 192146000000.0, \"unit\": \"USD\", \"label\": \"Noncurrent Assets\", \"order\": 300}, \"noncurrent_liabilities\": {\"value\": 38650000000.0, \"unit\": \"USD\", \"label\": \"Noncurrent Liabilities\", \"order\": 800}, \"other_current_liabilities\": {\"value\": 47310000000.0, \"unit\": \"USD\", \"label\": \"Other Current Liabilities\", \"order\": 740}, \"assets\": {\"value\": 358255000000.0, \"unit\": \"USD\", \"label\": \"Assets\", \"order\": 100}, \"intangible_assets\": {\"value\": 2192000000.0, \"unit\": \"USD\", \"label\": \"Intangible Assets\", \"order\": 330}}, \"cash_flow_statement\": {\"net_cash_flow_from_financing_activities_continuing\": {\"value\": -18097000000.0, \"unit\": \"USD\", \"label\": \"Net Cash Flow From Financing Activities, Continuing\", \"order\": 800}, \"net_cash_flow_continuing\": {\"value\": 4423000000.0, \"unit\": \"USD\", \"label\": \"Net Cash Flow, Continuing\", \"order\": 1200}, \"net_cash_flow_from_investing_activities_continuing\": {\"value\": -833000000.0, \"unit\": \"USD\", \"label\": \"Net Cash Flow From Investing Activities, Continuing\", \"order\": 500}, \"net_cash_flow_from_operating_activities_continuing\": {\"value\": 23353000000.0, \"unit\": \"USD\", \"label\": \"Net Cash Flow From Operating Activities, Continuing\", \"order\": 200}, \"exchange_gains_losses\": {\"value\": -375000000.0, \"unit\": \"USD\", \"label\": \"Exchange Gains/Losses\", \"order\": 1000}, \"net_cash_flow\": {\"value\": 4048000000.0, \"unit\": \"USD\", \"label\": \"Net Cash Flow\", \"order\": 1100}, \"net_cash_flow_from_operating_activities\": {\"value\": 23353000000.0, \"unit\": \"USD\", \"label\": \"Net Cash Flow From Operating Activities\", \"order\": 100}, \"net_cash_flow_from_investing_activities\": {\"value\": -833000000.0, \"unit\": \"USD\", \"label\": \"Net Cash Flow From Investing Activities\", \"order\": 400}, \"net_cash_flow_from_financing_activities\": {\"value\": -18097000000.0, \"unit\": \"USD\", \"label\": \"Net Cash Flow From Financing Activities\", \"order\": 700}}, \"income_statement\": {\"preferred_stock_dividends_and_other_adjustments\": {\"value\": 0, \"unit\": \"USD\", \"label\": \"Preferred Stock Dividends And Other Adjustments\", \"order\": 3900}, \"gross_profit\": {\"value\": 37934000000.0, \"unit\": \"USD\", \"label\": \"Gross Profit\", \"order\": 800}, \"income_tax_expense_benefit\": {\"value\": 2323000000.0, \"unit\": \"USD\", \"label\": \"Income Tax Expense/Benefit\", \"order\": 2200}, \"income_loss_from_continuing_operations_before_tax\": {\"value\": 16233000000.0, \"unit\": \"USD\", \"label\": \"Income/Loss From Continuing Operations Before Tax\", \"order\": 1500}, \"net_income_loss_available_to_common_stockholders_basic\": {\"value\": 13910000000.0, \"unit\": \"USD\", \"label\": \"Net Income/Loss Available To Common Stockholders, Basic\", \"order\": 3700}, \"diluted_earnings_per_share\": {\"value\": 1.06, \"unit\": \"USD / shares\", \"label\": \"Diluted Earnings Per Share\", \"order\": 4300}, \"interest_expense_operating\": {\"value\": 101000000.0, \"unit\": \"USD\", \"label\": \"Interest Expense, Operating\", \"order\": 2700}, \"costs_and_expenses\": {\"value\": 51957000000.0, \"unit\": \"USD\", \"label\": \"Costs And Expenses\", \"order\": 600}, \"research_and_development\": {\"value\": 10273000000.0, \"unit\": \"USD\", \"label\": \"Research and Development\", \"order\": 1030}, \"operating_income_loss\": {\"value\": 17135000000.0, \"unit\": \"USD\", \"label\": \"Operating Income/Loss\", \"order\": 1100}, \"net_income_loss\": {\"value\": 13910000000.0, \"unit\": \"USD\", \"label\": \"Net Income/Loss\", \"order\": 3200}, \"operating_expenses\": {\"value\": 20799000000.0, \"unit\": \"USD\", \"label\": \"Operating Expenses\", \"order\": 1000}, \"net_income_loss_attributable_to_noncontrolling_interest\": {\"value\": 0, \"unit\": \"USD\", \"label\": \"Net Income/Loss Attributable To Noncontrolling Interest\", \"order\": 3300}, \"nonoperating_income_loss\": {\"value\": -902000000.0, \"unit\": \"USD\", \"label\": \"Nonoperating Income/Loss\", \"order\": 900}, \"net_income_loss_attributable_to_parent\": {\"value\": 13910000000.0, \"unit\": \"USD\", \"label\": \"Net Income/Loss Attributable To Parent\", \"order\": 3500}, \"benefits_costs_expenses\": {\"value\": 52859000000.0, \"unit\": \"USD\", \"label\": \"Benefits Costs and Expenses\", \"order\": 200}, \"revenues\": {\"value\": 69092000000.0, \"unit\": \"USD\", \"label\": \"Revenues\", \"order\": 100}, \"income_loss_from_continuing_operations_after_tax\": {\"value\": 13910000000.0, \"unit\": \"USD\", \"label\": \"Income/Loss From Continuing Operations After Tax\", \"order\": 1400}, \"other_operating_expenses\": {\"value\": 10526000000.0, \"unit\": \"USD\", \"label\": \"Other Operating Expenses\", \"order\": 1040}, \"cost_of_revenue\": {\"value\": 31158000000.0, \"unit\": \"USD\", \"label\": \"Cost Of Revenue\", \"order\": 300}, \"participating_securities_distributed_and_undistributed_earnings_loss_basic\": {\"value\": 0, \"unit\": \"USD\", \"label\": \"Participating Securities, Distributed And Undistributed Earnings/Loss, Basic\", \"order\": 3800}, \"basic_earnings_per_share\": {\"value\": 1.07, \"unit\": \"USD / shares\", \"label\": \"Basic Earnings Per Share\", \"order\": 4200}}, \"comprehensive_income\": {\"other_comprehensive_income_loss\": {\"value\": -3024000000.0, \"unit\": \"USD\", \"label\": \"Other Comprehensive Income/Loss\", \"order\": 400}, \"comprehensive_income_loss_attributable_to_parent\": {\"value\": 10886000000.0, \"unit\": \"USD\", \"label\": \"Comprehensive Income/Loss Attributable To Parent\", \"order\": 300}, \"comprehensive_income_loss_attributable_to_noncontrolling_interest\": {\"value\": 0, \"unit\": \"USD\", \"label\": \"Comprehensive Income/Loss Attributable To Noncontrolling Interest\", \"order\": 200}, \"comprehensive_income_loss\": {\"value\": 10886000000.0, \"unit\": \"USD\", \"label\": \"Comprehensive Income/Loss\", \"order\": 100}, \"other_comprehensive_income_loss_attributable_to_parent\": {\"value\": -3024000000.0, \"unit\": \"USD\", \"label\": \"Other Comprehensive Income/Loss Attributable To Parent\", \"order\": 600}}}}]\u001b[0m\u001b[32;1m\u001b[1;3mRelevant Documents: 0\n",
      "Cited Documents: 0\n",
      "Answer: Alphabet Inc. (GOOG) has a strong financial position with a comprehensive income of $83.57 billion and a net income of $82.41 billion. Here is an overview of the company's financial situation:\n",
      "\n",
      "- **Assets**: $407.35 billion\n",
      "- **Current Assets**: $165.47 billion\n",
      "- **Non-current Assets**: $241.88 billion\n",
      "- **Liabilities**: $114.51 billion\n",
      "- **Current Liabilities**: $76.99 billion\n",
      "- **Non-current Liabilities**: $37.51 billion\n",
      "- **Equity**: $292.84 billion\n",
      "- **Revenues**: $318.15 billion\n",
      "- **Net Income**: $82.41 billion\n",
      "- **Cash**: $108.09 billion\n",
      "- **Operating Income**: $92.35 billion\n",
      "- **Comprehensive Income**: $83.57 billion\n",
      "\n",
      "Overall, Alphabet Inc. has a healthy financial situation with strong revenues, net income, and comprehensive income. The company has a positive cash flow and a solid balance sheet with a high level of equity.\n",
      "Grounded answer: Alphabet Inc. (GOOG) has a strong financial position with a <co: 0>comprehensive income of $83.57 billion</co: 0> and a <co: 0>net income of $82.41 billion</co: 0>. Here is an overview of the company's financial situation:\n",
      "\n",
      "- **<co: 0>Assets</co: 0>**: <co: 0>$407.35 billion</co: 0>\n",
      "- **<co: 0>Current Assets</co: 0>**: <co: 0>$165.47 billion</co: 0>\n",
      "- **<co: 0>Non-current Assets</co: 0>**: <co: 0>$241.88 billion</co: 0>\n",
      "- **<co: 0>Liabilities</co: 0>**: <co: 0>$114.51 billion</co: 0>\n",
      "- **<co: 0>Current Liabilities</co: 0>**: <co: 0>$76.99 billion</co: 0>\n",
      "- **<co: 0>Non-current Liabilities</co: 0>**: <co: 0>$37.51 billion</co: 0>\n",
      "- **<co: 0>Equity</co: 0>**: <co: 0>$292.84 billion</co: 0>\n",
      "- **<co: 0>Revenues</co: 0>**: <co: 0>$318.15 billion</co: 0>\n",
      "- **<co: 0>Net Income</co: 0>**: <co: 0>$82.41 billion</co: 0>\n",
      "- **<co: 0>Cash</co: 0>**: <co: 0>$108.09 billion</co: 0>\n",
      "- **<co: 0>Operating Income</co: 0>**: <co: 0>$92.35 billion</co: 0>\n",
      "- **<co: 0>Comprehensive Income</co: 0>**: <co: 0>$83.57 billion</co: 0>\n",
      "\n",
      "Overall, Alphabet Inc. has a healthy financial situation with strong revenues, net income, and comprehensive income. The company has a positive cash flow and a solid balance sheet with a high level of equity.\u001b[0m\n",
      "\n",
      "\u001b[1m> Finished chain.\u001b[0m\n"
     ]
    },
    {
     "data": {
      "text/html": [
       "<p>Alphabet Inc. (GOOG) has a strong financial position with a comprehensive income of $83.57 billion and a net income of $82.41 billion. Here is an overview of the company's financial situation:</p>\n",
       "<ul>\n",
       "<li><strong>Assets</strong>: $407.35 billion</li>\n",
       "<li><strong>Current Assets</strong>: $165.47 billion</li>\n",
       "<li><strong>Non-current Assets</strong>: $241.88 billion</li>\n",
       "<li><strong>Liabilities</strong>: $114.51 billion</li>\n",
       "<li><strong>Current Liabilities</strong>: $76.99 billion</li>\n",
       "<li><strong>Non-current Liabilities</strong>: $37.51 billion</li>\n",
       "<li><strong>Equity</strong>: $292.84 billion</li>\n",
       "<li><strong>Revenues</strong>: $318.15 billion</li>\n",
       "<li><strong>Net Income</strong>: $82.41 billion</li>\n",
       "<li><strong>Cash</strong>: $108.09 billion</li>\n",
       "<li><strong>Operating Income</strong>: $92.35 billion</li>\n",
       "<li><strong>Comprehensive Income</strong>: $83.57 billion</li>\n",
       "</ul>\n",
       "<p>Overall, Alphabet Inc. has a healthy financial situation with strong revenues, net income, and comprehensive income. The company has a positive cash flow and a solid balance sheet with a high level of equity.</p>"
      ],
      "text/plain": [
       "<IPython.core.display.HTML object>"
      ]
     },
     "metadata": {},
     "output_type": "display_data"
    }
   ],
   "source": [
    "prompt_template = \"How are the financials for {ticker}? Produce an overview in form of a bullet point list (use CRLF for new lines) and rate the financial situation of the company.\"\n",
    "\n",
    "input = {\"ticker\": \"GOOG\"}\n",
    "invoke_cohere_with_tools(tools=tools,input=input,prompt_template=prompt_template)"
   ]
  },
  {
   "cell_type": "markdown",
   "metadata": {},
   "source": [
    "## Imports for Embeddings and Qdrant"
   ]
  },
  {
   "cell_type": "code",
   "execution_count": 36,
   "metadata": {},
   "outputs": [],
   "source": [
    "from langchain.text_splitter import RecursiveCharacterTextSplitter\n",
    "from langchain.document_loaders import WebBaseLoader\n",
    "from langchain.embeddings.cohere import CohereEmbeddings\n",
    "from langchain.vectorstores import Qdrant\n",
    "from langchain_community.vectorstores import Qdrant\n",
    "from langchain.prompts import PromptTemplate\n",
    "from langchain.chains import ConversationalRetrievalChain\n",
    "from langchain.chains.conversation.memory import ConversationSummaryMemory\n",
    "import qdrant_client"
   ]
  },
  {
   "cell_type": "markdown",
   "metadata": {},
   "source": [
    "## Build Qdrant Vector Store"
   ]
  },
  {
   "cell_type": "code",
   "execution_count": null,
   "metadata": {},
   "outputs": [],
   "source": [
    "# web_links = [\"https://www.fielmann-group.com/ueber-uns/?\",\n",
    "#              \"https://de.wikipedia.org/wiki/Fielmann\",\n",
    "#              \"https://de.wikipedia.org/wiki/G%C3%BCnther_Fielmann\",\n",
    "#              \"https://de.wikipedia.org/wiki/Marc_Fielmann\"] \n",
    "\n",
    "web_links = [\"https://python.langchain.com/v0.2/docs/introduction\",\n",
    "             \"https://python.langchain.com/v0.2/docs/concepts\",\n",
    "             \"https://python.langchain.com/v0.2/docs/integrations/tools\",\n",
    "             \"https://python.langchain.com/v0.2/docs/integrations/vectorstores\",\n",
    "             \"https://python.langchain.com/v0.2/docs/integrations/document_loaders\",\n",
    "             \"https://python.langchain.com/v0.2/docs/integrations/retrievers\",\n",
    "             \"https://python.langchain.com/v0.2/docs/integrations/vectorstores/qdrant\",\n",
    "             \"https://python.langchain.com/v0.2/docs/integrations/providers/cohere/#react-agent\",\n",
    "             \"https://de.wikipedia.org/wiki/Herz#:~:text=Das%20Herz%20(lateinisch%20Cor%2C%20griechisch,die%20Versorgung%20aller%20Organe%20sichert.\"]\n",
    " \n",
    "\n",
    "loader = WebBaseLoader(web_links)\n",
    "document=loader.load()\n",
    "\n",
    "text_splitter = RecursiveCharacterTextSplitter(chunk_size=500, chunk_overlap=0)\n",
    "texts = text_splitter.split_documents(document)\n",
    "\n",
    "embeddings = CohereEmbeddings(model = \"embed-english-v2.0\")\n",
    "\n",
    "qdrant = Qdrant.from_documents(\n",
    "    document,\n",
    "    embeddings,\n",
    "    url=QDRANT_HOST,\n",
    "    api_key=QDRANT_API_KEY,\n",
    "    prefer_grpc=True,\n",
    "    collection_name=\"rag_documents\",\n",
    "    force_recreate=True,\n",
    ")\n"
   ]
  },
  {
   "cell_type": "markdown",
   "metadata": {},
   "source": [
    "## Load Qdrant Vector Store"
   ]
  },
  {
   "cell_type": "code",
   "execution_count": 37,
   "metadata": {},
   "outputs": [
    {
     "name": "stdout",
     "output_type": "stream",
     "text": [
      "connection established !\n"
     ]
    }
   ],
   "source": [
    "client = qdrant_client.QdrantClient(\n",
    "    url=QDRANT_HOST,\n",
    "    api_key=QDRANT_API_KEY,\n",
    ")\n",
    "embeddings = CohereEmbeddings(model=\"embed-english-v2.0\")\n",
    "vector_store = Qdrant(\n",
    "    client = client,\n",
    "    collection_name = \"rag_documents\",\n",
    "    embeddings = embeddings\n",
    ")\n",
    "print(\"connection established !\")"
   ]
  },
  {
   "cell_type": "markdown",
   "metadata": {},
   "source": [
    "## Use Qdrant Vector Store as RAG Retriever for Cohere"
   ]
  },
  {
   "cell_type": "code",
   "execution_count": 38,
   "metadata": {},
   "outputs": [
    {
     "data": {
      "text/html": [
       "<p>The tools in LangChain are:</p>\n",
       "<ul>\n",
       "<li>Alpha Vantage</li>\n",
       "<li>Apify</li>\n",
       "<li>Arxiv</li>\n",
       "<li>AskNews</li>\n",
       "<li>AWS Lambda</li>\n",
       "<li>Azure Container Apps dynamic sessions</li>\n",
       "<li>Shell (bash)</li>\n",
       "<li>Bearly Code Interpreter</li>\n",
       "<li>Bing Search</li>\n",
       "<li>Brave Search</li>\n",
       "<li>ChatGPT Plugins</li>\n",
       "<li>Connery Action Tool</li>\n",
       "<li>Dall-E Image Generator</li>\n",
       "<li>DataForSEO</li>\n",
       "<li>Dataherald</li>\n",
       "<li>DuckDuckGo Search</li>\n",
       "<li>E2B Data Analysis</li>\n",
       "<li>Eden AI</li>\n",
       "<li>Eleven Labs Text2Speech</li>\n",
       "<li>Exa Search</li>\n",
       "<li>File System</li>\n",
       "<li>Golden Query</li>\n",
       "<li>Google Cloud Text-to-Speech</li>\n",
       "<li>Google Drive</li>\n",
       "<li>Google Finance</li>\n",
       "<li>Google Imagen</li>\n",
       "<li>Google Jobs</li>\n",
       "<li>Google Lens</li>\n",
       "<li>Google Places</li>\n",
       "<li>Google Scholar</li>\n",
       "<li>Google Search</li>\n",
       "<li>Google Serper</li>\n",
       "<li>Google Trends</li>\n",
       "<li>Gradio</li>\n",
       "<li>GraphQL</li>\n",
       "<li>HuggingFace Hub Tools</li>\n",
       "<li>Human as a tool</li>\n",
       "<li>IFTTT WebHooks</li>\n",
       "<li>Infobip</li>\n",
       "<li>Ionic Shopping Tool</li>\n",
       "<li>Lemon Agent</li>\n",
       "<li>Memorize</li>\n",
       "<li>Mojeek Search</li>\n",
       "<li>Nuclia Understanding</li>\n",
       "<li>NVIDIA Riva: ASR and TTS</li>\n",
       "<li>OpenWeatherMap</li>\n",
       "<li>Oracle AI Vector Search: Generate Summary</li>\n",
       "<li>Passio NutritionAI</li>\n",
       "<li>Polygon Stock Market API Tools</li>\n",
       "<li>PubMed</li>\n",
       "<li>Python REPL</li>\n",
       "<li>Reddit Search</li>\n",
       "<li>Requests</li>\n",
       "<li>SceneXplain</li>\n",
       "<li>Search Tools</li>\n",
       "<li>SearchApi</li>\n",
       "<li>SearxNG Search</li>\n",
       "<li>Semantic Scholar API Tool</li>\n",
       "<li>SerpAPI</li>\n",
       "<li>SQL Database</li>\n",
       "<li>StackExchange</li>\n",
       "<li>Tavily Search</li>\n",
       "<li>Twilio</li>\n",
       "<li>Upstage</li>\n",
       "<li>Wikidata</li>\n",
       "<li>Wikipedia</li>\n",
       "<li>Wolfram Alpha</li>\n",
       "<li>Yahoo Finance News</li>\n",
       "<li>You.com Search</li>\n",
       "<li>YouTube</li>\n",
       "<li>Zapier Natural Language Actions</li>\n",
       "</ul>"
      ],
      "text/plain": [
       "<IPython.core.display.HTML object>"
      ]
     },
     "metadata": {},
     "output_type": "display_data"
    }
   ],
   "source": [
    "prompt_template = \"\"\"\n",
    "You are a bot to answer questions from a document.\n",
    "    \n",
    "You will be given a context of the conversation made so far followed by a question, \n",
    "give the answer to the question using the context. \n",
    "The answer should be short, straight and to the point. If you don't know the answer, reply that the answer is not available.\n",
    "\n",
    "Context: {context}\n",
    "\n",
    "Question: {question}\n",
    "Answer:\"\"\"\n",
    "\n",
    "PROMPT = PromptTemplate(\n",
    "    template=prompt_template, input_variables=[\"context\", \"question\"]\n",
    ")\n",
    "\n",
    "chain_type_kwargs = { \"prompt\" : PROMPT }\n",
    "\n",
    "llm = ChatCohere()\n",
    "\n",
    "template = (\n",
    "        \"\"\"Combine the chat history and follow up question into \n",
    "        a standalone question. \n",
    "        If chat hsitory is empty, use the follow up question as it is.\n",
    "        Chat History: {chat_history}\n",
    "        Follow up question: {question}\"\"\"\n",
    "    )\n",
    "\n",
    "prompt = PromptTemplate.from_template(template)\n",
    "\n",
    "chain = ConversationalRetrievalChain.from_llm(     \n",
    "    llm = llm,\n",
    "    chain_type = \"stuff\",\n",
    "    memory = ConversationSummaryMemory(llm = llm, memory_key='chat_history', input_key='question', output_key= 'answer', return_messages=True),\n",
    "    retriever = vector_store.as_retriever(search_type=\"mmr\"),\n",
    "    condense_question_prompt = prompt,\n",
    "    return_source_documents=False,\n",
    "    combine_docs_chain_kwargs=chain_type_kwargs,\n",
    ")\n",
    "customer_prompt = \"What are tools in LangChain?\"\n",
    "\n",
    "\n",
    "llm_response = chain.invoke(\n",
    "                {\n",
    "                    \"context\": chain.memory.buffer,\n",
    "                    \"question\": customer_prompt,\n",
    "                },\n",
    "                return_only_outputs=True,\n",
    "            )\n",
    "\n",
    "display(HTML(markdown.markdown(llm_response['answer'])))\n"
   ]
  }
 ],
 "metadata": {
  "kernelspec": {
   "display_name": "cohere",
   "language": "python",
   "name": "python3"
  },
  "language_info": {
   "codemirror_mode": {
    "name": "ipython",
    "version": 3
   },
   "file_extension": ".py",
   "mimetype": "text/x-python",
   "name": "python",
   "nbconvert_exporter": "python",
   "pygments_lexer": "ipython3",
   "version": "3.10.5"
  }
 },
 "nbformat": 4,
 "nbformat_minor": 2
}
