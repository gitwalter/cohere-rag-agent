{
 "cells": [
  {
   "cell_type": "markdown",
   "metadata": {},
   "source": [
    "# LangChain Cohere Agent using Tools"
   ]
  },
  {
   "cell_type": "markdown",
   "metadata": {},
   "source": [
    "## Install Libraries"
   ]
  },
  {
   "cell_type": "code",
   "execution_count": null,
   "metadata": {},
   "outputs": [],
   "source": [
    "# ! pip install streamlit\n",
    "# ! pip install qdrant-client\n",
    "# ! pip install langchain\n",
    "# ! pip install langchain-community\n",
    "# ! pip install langchain-qdrant\n",
    "# ! pip install langchain-cohere\n",
    "# ! pip install tiktoken\n",
    "# ! pip install cohere\n",
    "# ! pip install bs4\n",
    "# ! pip install markdown\n",
    "# ! pip install wikipedia\n",
    "# ! pip install pyowm\n",
    "# ! pip install yfinance"
   ]
  },
  {
   "cell_type": "markdown",
   "metadata": {},
   "source": [
    "## Imports for Tool Use"
   ]
  },
  {
   "cell_type": "code",
   "execution_count": 23,
   "metadata": {},
   "outputs": [],
   "source": [
    "from IPython.display import HTML\n",
    "import markdown\n",
    "import warnings\n",
    "import streamlit as st\n",
    "import os\n",
    "from langchain_cohere.llms import Cohere\n",
    "from langchain_core.messages import HumanMessage\n",
    "from langchain_core.prompts import ChatPromptTemplate\n",
    "from langchain_cohere import ChatCohere, create_cohere_react_agent\n",
    "from langchain.agents import AgentExecutor\n",
    "from cohere_tools import get_internet_search_tool, get_wikipedia_tool, get_openweathermap_tool\n",
    "from alpha_vantage_tools import (\n",
    "    # get_search_symbol_tool,\n",
    "    get_exchange_rate_tool,\n",
    "    # get_time_series_daily_tool,\n",
    "    # get_time_series_weekly_tool,\n",
    "    # get_market_news_sentimen_tool,\n",
    "    # get_top_gainers_losers_tool,\n",
    ")"
   ]
  },
  {
   "cell_type": "markdown",
   "metadata": {},
   "source": [
    "## Ignore Warnings"
   ]
  },
  {
   "cell_type": "code",
   "execution_count": 5,
   "metadata": {},
   "outputs": [],
   "source": [
    "\n",
    "warnings.filterwarnings(\"ignore\")"
   ]
  },
  {
   "cell_type": "markdown",
   "metadata": {},
   "source": [
    "## Import API-Keys"
   ]
  },
  {
   "cell_type": "code",
   "execution_count": 7,
   "metadata": {},
   "outputs": [],
   "source": [
    "ALPHAVANTAGE_API_KEY = st.secrets[\"ALPHAVANTAGE_API_KEY\"]\n",
    "os.environ[\"ALPHAVANTAGE_API_KEY\"] = st.secrets[\"ALPHAVANTAGE_API_KEY\"]\n",
    "\n",
    "COHERE_API_KEY = st.secrets[\"COHERE_API_KEY\"]\n",
    "os.environ[\"COHERE_API_KEY\"] = st.secrets[\"COHERE_API_KEY\"]\n",
    "\n",
    "QDRANT_HOST = st.secrets[\"QDRANT_HOST\"]\n",
    "QDRANT_API_KEY = st.secrets[\"QDRANT_API_KEY\"]\n",
    "\n",
    "OPEN_WEATHER_API_KEY = st.secrets[\"OPEN_WEATHER_API_KEY\"]\n",
    "os.environ[\"OPENWEATHERMAP_API_KEY\"] = OPEN_WEATHER_API_KEY\n",
    "\n",
    "POLYGON_API_KEY = st.secrets[\"POLYGON_API_KEY\"]\n",
    "os.environ[\"POLYGON_API_KEY\"] = st.secrets[\"POLYGON_API_KEY\"]\n",
    "\n",
    "TAVILY_API_KEY = st.secrets[\"TAVILY_API_KEY\"]\n",
    "os.environ[\"TAVILY_API_KEY\"] = st.secrets[\"TAVILY_API_KEY\"]"
   ]
  },
  {
   "cell_type": "markdown",
   "metadata": {},
   "source": [
    "## Invoke ChatCohere"
   ]
  },
  {
   "cell_type": "code",
   "execution_count": 8,
   "metadata": {},
   "outputs": [
    {
     "name": "stdout",
     "output_type": "stream",
     "text": [
      "content=\"Who's there?\" additional_kwargs={'documents': None, 'citations': None, 'search_results': None, 'search_queries': None, 'is_search_required': None, 'generation_id': '8e78cb0d-af71-425c-aec0-73f4e2ac175f', 'token_count': {'input_tokens': 68, 'output_tokens': 4}} response_metadata={'documents': None, 'citations': None, 'search_results': None, 'search_queries': None, 'is_search_required': None, 'generation_id': '8e78cb0d-af71-425c-aec0-73f4e2ac175f', 'token_count': {'input_tokens': 68, 'output_tokens': 4}} id='run-5561524f-54ce-4c9d-bc1e-c55958d9d77a-0'\n"
     ]
    }
   ],
   "source": [
    "chat = ChatCohere()\n",
    "messages = [HumanMessage(content=\"knock knock\")]\n",
    "print(chat.invoke(messages))"
   ]
  },
  {
   "cell_type": "markdown",
   "metadata": {},
   "source": [
    "## Invoke ChatCohere using ChatPromptTemplate"
   ]
  },
  {
   "cell_type": "code",
   "execution_count": 9,
   "metadata": {},
   "outputs": [
    {
     "data": {
      "text/plain": [
       "AIMessage(content='Why don’t bears wear socks?\\n\\nThey have bear feet!', additional_kwargs={'documents': None, 'citations': None, 'search_results': None, 'search_queries': None, 'is_search_required': None, 'generation_id': 'c9c7e2b2-8d70-4a99-814f-c36f593e3de5', 'token_count': {'input_tokens': 72, 'output_tokens': 15}}, response_metadata={'documents': None, 'citations': None, 'search_results': None, 'search_queries': None, 'is_search_required': None, 'generation_id': 'c9c7e2b2-8d70-4a99-814f-c36f593e3de5', 'token_count': {'input_tokens': 72, 'output_tokens': 15}}, id='run-87c97268-c707-438f-8c86-ccc31919c308-0')"
      ]
     },
     "execution_count": 9,
     "metadata": {},
     "output_type": "execute_result"
    }
   ],
   "source": [
    "prompt = ChatPromptTemplate.from_template(\"Tell me a joke about {topic}\")\n",
    "chain = prompt | chat\n",
    "chain.invoke({\"topic\": \"bears\"})"
   ]
  },
  {
   "cell_type": "markdown",
   "metadata": {},
   "source": [
    "## Invoke Cohere"
   ]
  },
  {
   "cell_type": "code",
   "execution_count": 12,
   "metadata": {},
   "outputs": [
    {
     "data": {
      "text/html": [
       "<p>The theory of Kahnemann and Tversky is a collection of cognitive biases that affect how people make decisions and form beliefs. The theory consists of three components:</p>\n",
       "<ol>\n",
       "<li>\n",
       "<p>Cognitive Simplification: This component discusses how people often rely on heuristics or rules of thumb when making decisions. These heuristics can lead to biases and errors in judgment, as they may not always be accurate or logical.</p>\n",
       "</li>\n",
       "<li>\n",
       "<p>Cognitive Ease: This component talks about how people tend to gravitate towards choices that require less cognitive effort and are often predisposed to options that are easier to process and understand. This can result in decisions that may not always be the most optimal or rational.</p>\n",
       "</li>\n",
       "<li>\n",
       "<p>Altering Experience: This component explains how individuals adjust their experiences to alleviate cognitive dissonance. They presents examples such as the choice to ignore or minimize losses or to overestimate the likelihood of events with positive outcomes. </p>\n",
       "</li>\n",
       "</ol>\n",
       "<p>Overall, the theory of Kahnemann and Tversky highlights the numerous ways in which human reasoning can be flawed due to cognitive biases. </p>\n",
       "<p>The theory has been influential in the fields of psychology, behavioral economics, and decision-making, and has important implications for understanding human behavior in a variety of contexts. </p>"
      ],
      "text/plain": [
       "<IPython.core.display.HTML object>"
      ]
     },
     "metadata": {},
     "output_type": "display_data"
    }
   ],
   "source": [
    "llm = Cohere()\n",
    "display(HTML(markdown.markdown(llm.invoke(\"Summarize the theory of Kahnemann and Tversky\"))))"
   ]
  },
  {
   "cell_type": "markdown",
   "metadata": {},
   "source": [
    "## Tavily Internet Search Tool"
   ]
  },
  {
   "cell_type": "code",
   "execution_count": 44,
   "metadata": {},
   "outputs": [
    {
     "name": "stdout",
     "output_type": "stream",
     "text": [
      "\n",
      "\n",
      "\u001b[1m> Entering new AgentExecutor chain...\u001b[0m\n",
      "\u001b[32;1m\u001b[1;3m\n",
      "I will search for 'American Superconductor IPO date' and then write an answer.\n",
      "{'tool_name': 'internet_search', 'parameters': {'query': 'American Superconductor IPO date'}}\n",
      "\u001b[0m\u001b[36;1m\u001b[1;3m[{'url': 'https://stockanalysis.com/stocks/amsc/', 'content': 'Get a real-time American Superconductor Corporation (AMSC) stock price quote with breaking news, financials, statistics, charts and more. ... Earnings Date: May 29, 2024: ... IPO Date Dec 11, 1991. Employees 328. Stock Exchange NASDAQ. Ticker Symbol AMSC. Full Company Profile.'}, {'url': 'https://www.nasdaq.com/press-release/amsc-announces-proposed-public-offering-of-common-stock-2024-01-30', 'content': 'AYER, Mass., Jan. 30, 2024 (GLOBE NEWSWIRE) -- American Superconductor Corporation (Nasdaq: AMSC), a leading system provider of megawatt-scale power resiliency solutions that orchestrate the ...'}, {'url': 'https://finance.yahoo.com/news/amsc-announces-proposed-public-offering-210100534.html', 'content': 'AYER, Mass., Jan. 30, 2024 (GLOBE NEWSWIRE) -- American Superconductor Corporation (Nasdaq: AMSC), a leading system provider of megawatt-scale power resiliency solutions that orchestrate the ...'}, {'url': 'https://ir.amsc.com/news-releases/news-release-details/amsc-prices-upsized-60-million-public-offering-common-stock', 'content': \"AYER, Mass. , Jan. 31, 2024 (GLOBE NEWSWIRE) -- American Superconductor Corporation (Nasdaq: AMSC), a leading system provider of megawatt-scale power resiliency solutions that orchestrate the rhythm and harmony of power on the grid™ and protect and expand the capability and resiliency of our Navy's fleet, announced today that it has priced its underwritten public offering of 5,400,000 ...\"}]\u001b[0m\u001b[32;1m\u001b[1;3mRelevant Documents: 0\n",
      "Cited Documents: 0\n",
      "Answer: American Superconductor had its IPO on 11 December 1991.\n",
      "Grounded answer: American Superconductor had its IPO on <co: 0>11 December 1991</co: 0>.\u001b[0m\n",
      "\n",
      "\u001b[1m> Finished chain.\u001b[0m\n"
     ]
    },
    {
     "data": {
      "text/html": [
       "<p>American Superconductor had its IPO on 11 December 1991.</p>"
      ],
      "text/plain": [
       "<IPython.core.display.HTML object>"
      ]
     },
     "metadata": {},
     "output_type": "display_data"
    }
   ],
   "source": [
    "llm = ChatCohere()\n",
    "internet_search = get_internet_search_tool()\n",
    "prompt = ChatPromptTemplate.from_template(\"In which year had {stock_name} its IPO? Tell me the year and the date.\")\n",
    "agent = create_cohere_react_agent(llm, [internet_search], prompt)\n",
    "agent_executor = AgentExecutor(agent=agent, tools=[internet_search], verbose=True)\n",
    "response = agent_executor.invoke(\n",
    "    {\n",
    "        \"stock_name\": \"American Superconductor\",\n",
    "    }\n",
    ")\n",
    "\n",
    "display(HTML(markdown.markdown(response['output'])))"
   ]
  },
  {
   "cell_type": "markdown",
   "metadata": {},
   "source": [
    "## Wikipedia Tool"
   ]
  },
  {
   "cell_type": "code",
   "execution_count": 45,
   "metadata": {},
   "outputs": [
    {
     "name": "stdout",
     "output_type": "stream",
     "text": [
      "\n",
      "\n",
      "\u001b[1m> Entering new AgentExecutor chain...\u001b[0m\n",
      "\u001b[32;1m\u001b[1;3m\n",
      "I will search for 'Kahnemann and Tversky theory' and write an answer based on the results.\n",
      "{'tool_name': 'wikipedia-tool', 'parameters': {'query': 'Kahnemann and Tversky theory'}}\n",
      "\u001b[0m\u001b[36;1m\u001b[1;3mPage: Daniel Kahneman\n",
      "Summary: Daniel Kahneman (; Hebrew: דניאל כהנמן; March 5, 1934 – March 27, 2024) was an Israeli-American cognitive scientist best-known for his work on the psychology of judgment and decision-making. He is also known for his work in behavioral economics, for which he was awarded the 2002 Nobel Memorial Prize in Economic Sciences together with Vernon L. Smith. Kahneman's published empirical findings challenge the assumption of human rationality prevailing in modern economic theory. Kahneman became known as the \"grandfather of behavioral economics.\"\n",
      "With Amos Tversky and others, Kahneman established a cognitive basis for common human errors that arise from heuristics and biases, and developed prospect theory. In 2011, Kahneman was named by Foreign Policy magazine in its list of top global thinkers. In the same year, his book Thinking, Fast and Slow, which summarizes much of his research, was published and became a best seller. In 2015, The Economist listed him as the seventh most influential economist in the world.\n",
      "Kahneman was professor emeritus of psychology and public affairs at Princeton University's Princeton School of Public and International Affairs. Kahneman was a founding partner of TGG Group, a business and philanthropy consulting company. He was married to cognitive psychologist and Royal Society Fellow Anne Treisman, who died in 2018.\n",
      "\n",
      "\u001b[0m\n",
      "\u001b[32;1m\u001b[1;3m\u001b[0m\n",
      "\n",
      "\u001b[1m> Finished chain.\u001b[0m\n"
     ]
    },
    {
     "data": {
      "text/html": [
       "<p>Page: Daniel Kahneman\n",
       "Summary: Daniel Kahneman (; Hebrew: דניאל כהנמן; March 5, 1934 – March 27, 2024) was an Israeli-American cognitive scientist best-known for his work on the psychology of judgment and decision-making. He is also known for his work in behavioral economics, for which he was awarded the 2002 Nobel Memorial Prize in Economic Sciences together with Vernon L. Smith. Kahneman's published empirical findings challenge the assumption of human rationality prevailing in modern economic theory. Kahneman became known as the \"grandfather of behavioral economics.\"\n",
       "With Amos Tversky and others, Kahneman established a cognitive basis for common human errors that arise from heuristics and biases, and developed prospect theory. In 2011, Kahneman was named by Foreign Policy magazine in its list of top global thinkers. In the same year, his book Thinking, Fast and Slow, which summarizes much of his research, was published and became a best seller. In 2015, The Economist listed him as the seventh most influential economist in the world.\n",
       "Kahneman was professor emeritus of psychology and public affairs at Princeton University's Princeton School of Public and International Affairs. Kahneman was a founding partner of TGG Group, a business and philanthropy consulting company. He was married to cognitive psychologist and Royal Society Fellow Anne Treisman, who died in 2018.</p>"
      ],
      "text/plain": [
       "<IPython.core.display.HTML object>"
      ]
     },
     "metadata": {},
     "output_type": "display_data"
    }
   ],
   "source": [
    "llm = ChatCohere()\n",
    "prompt = ChatPromptTemplate.from_template(\"{input}\")\n",
    "wikipedia_tool = get_wikipedia_tool()\n",
    "agent = create_cohere_react_agent(llm, [wikipedia_tool], prompt)\n",
    "agent_executor = AgentExecutor(agent=agent, tools=[wikipedia_tool], verbose=True)\n",
    "response = agent_executor.invoke(\n",
    "    {\n",
    "        \"input\": \"Explain the theory of Kahnemann and Tversky\",\n",
    "    }\n",
    ")\n",
    "\n",
    "display(HTML(markdown.markdown(response[\"output\"])))"
   ]
  },
  {
   "cell_type": "markdown",
   "metadata": {},
   "source": [
    "## Run tool without agent"
   ]
  },
  {
   "cell_type": "code",
   "execution_count": 20,
   "metadata": {},
   "outputs": [
    {
     "data": {
      "text/plain": [
       "\"Page: David Beckham\\nSummary: David Robert Joseph Beckham  ( BEK-əm; born 2 May 1975) is an English former professional footballer, the president and co-owner of Inter Miami CF and co-owner of Salford City. Primarily a right winger and known for his range of passing, crossing ability and free-kick taking, Beckham has been hailed as one of the greatest and most recognisable midfielders of his generation, as well as one of the best free-kick takers of all time. He won 19 major trophies in his career, and is the first English player to win league titles in four different countries: England, Spain, the United States and France.\\nBeckham's professional club career began with Manchester United, where he made his first-team debut in 1992 at age 17. With United, he won the Premier League title six times, the FA Cup twice, the FA Charity Shield twice, the Intercontinental Cup and the UEFA Champions League in 1999. He then played four seasons with Real Madrid, winning the La Liga championship in his final season with the club. In July 2007, Beckham signed a five-year contract with Major League Soccer club LA Galaxy. While a Galaxy player, he spent two loan spells in Italy with AC Milan in 2009 and 2010. He became the first British footballer to play 100 UEFA Champions League games. He retired in May 2013 after a 20-year career.\\nIn international football, Beckham made his England debut on 1 September 1996, at the age of 21. He was captain for six years, earning 58 caps during his tenure. He made 115 career appearances in total, appearing at three FIFA World Cups in 1998, 2002 and 2006 as well as two UEFA European Championships in 2000 and 2004. Beckham held the England appearance record for an outfield player until 2016.\\nA global ambassador of football, Beckham is considered to be a British cultural icon. He has been in a well publicised marriage to Victoria Beckham since 1999 and was consistently ranked among the highest earners in football, in 2013 being listed as the highest-paid player in the world having earned over $50 million in the previous twelve months. Beckham was runner-up in the Ballon d'Or in 1999, twice runner-up for FIFA World Player of the Year (1999 and 2001) and in 2004 was named by Pelé in the FIFA 100 list of the world's greatest living players. He was inducted into the English Football Hall of Fame in 2008, and the Premier League Hall of Fame in 2021. He has been a UNICEF ambassador since 2005, and in 2015 he launched 7: The David Beckham UNICEF Fund. In 2014, MLS announced that Beckham and a group of investors would own Inter Miami, which began playing in 2020.\\n\\n\""
      ]
     },
     "execution_count": 20,
     "metadata": {},
     "output_type": "execute_result"
    }
   ],
   "source": [
    "wikipedia_tool.run(\"David Beckham\")"
   ]
  },
  {
   "cell_type": "markdown",
   "metadata": {},
   "source": [
    "## Openweathermap Tool"
   ]
  },
  {
   "cell_type": "code",
   "execution_count": 46,
   "metadata": {},
   "outputs": [
    {
     "name": "stdout",
     "output_type": "stream",
     "text": [
      "\n",
      "\n",
      "\u001b[1m> Entering new AgentExecutor chain...\u001b[0m\n",
      "\u001b[32;1m\u001b[1;3m\n",
      "I will search for the weather in Salvador da Bahia and write an answer based on the information I find.\n",
      "{'tool_name': 'open_weather_map', 'parameters': {'location': 'Salvador da Bahia'}}\n",
      "\u001b[0m\u001b[36;1m\u001b[1;3mIn Salvador da Bahia, the current weather is as follows:\n",
      "Detailed status: overcast clouds\n",
      "Wind speed: 7.42 m/s, direction: 180°\n",
      "Humidity: 79%\n",
      "Temperature: \n",
      "  - Current: 28.98°C\n",
      "  - High: 28.98°C\n",
      "  - Low: 28.98°C\n",
      "  - Feels like: 34.47°C\n",
      "Rain: {}\n",
      "Heat index: None\n",
      "Cloud cover: 100%\u001b[0m\u001b[32;1m\u001b[1;3mRelevant Documents: 0\n",
      "Cited Documents: 0\n",
      "Answer: In Salvador da Bahia, the weather is currently overcast with a temperature of 28.98°C. It feels like 34.47°C.\n",
      "Grounded answer: In Salvador da Bahia, the weather is currently <co: 0>overcast</co: 0> with a <co: 0>temperature of 28.98°C</co: 0>. It <co: 0>feels like 34.47°C</co: 0>.\u001b[0m\n",
      "\n",
      "\u001b[1m> Finished chain.\u001b[0m\n"
     ]
    },
    {
     "data": {
      "text/html": [
       "<p>In Salvador da Bahia, the weather is currently overcast with a temperature of 28.98°C. It feels like 34.47°C.</p>"
      ],
      "text/plain": [
       "<IPython.core.display.HTML object>"
      ]
     },
     "metadata": {},
     "output_type": "display_data"
    }
   ],
   "source": [
    "llm = ChatCohere()\n",
    "prompt = ChatPromptTemplate.from_template(\"{input}\")\n",
    "tools = [get_openweathermap_tool(llm), get_wikipedia_tool()]\n",
    "agent = create_cohere_react_agent(tools=tools, llm=llm, prompt=prompt)\n",
    "agent_executor = AgentExecutor(agent=agent, tools=tools, verbose=True)\n",
    "response = agent_executor.invoke({\"input\": \"How is the weather in Salvador da Bahia?\"})\n",
    "display(HTML(markdown.markdown(response[\"output\"])))"
   ]
  },
  {
   "cell_type": "markdown",
   "metadata": {},
   "source": [
    "## Multiple Tool Use\n",
    "1. wiki-tool\n",
    "2. open_weather_map\n",
    "3. internet_search"
   ]
  },
  {
   "cell_type": "code",
   "execution_count": 26,
   "metadata": {},
   "outputs": [
    {
     "name": "stdout",
     "output_type": "stream",
     "text": [
      "\n",
      "\n",
      "\u001b[1m> Entering new AgentExecutor chain...\u001b[0m\n",
      "\u001b[32;1m\u001b[1;3m\n",
      "I will use Wikipedia to answer this question.\n",
      "{'tool_name': 'wikipedia-tool', 'parameters': {'query': 'Who was George Washington?'}}\n",
      "\u001b[0m\u001b[38;5;200m\u001b[1;3mPage: George Washington Carver\n",
      "Summary: George Washington Carver (c. 1864 – January 5, 1943) was an American agricultural scientist and inventor who promoted alternative crops to cotton and methods to prevent soil depletion. He was one of the most prominent black scientists of the early 20th century.\n",
      "While a professor at Tuskegee Institute, Carver developed techniques to improve types of soils depleted by repeated plantings of cotton. He wanted poor farmers to grow other crops, such as peanuts and sweet potatoes, as a source of their own food and to improve their quality of life. Under his leadership, the Experiment Station at Tuskegee published over forty practical bulletins for farmers, many written by him, which included recipes; many of the bulletins contained advice for poor farmers, including combating soil depletion with limited financial means, producing bigger crops, and preserving food.\n",
      "Apart from his work to improve the lives of farmers, Carver was also a leader in promoting environmentalism. He received numerous honors for his work, including the Spingarn Medal of the NAACP. In an era of high racial polarization, his fame reached beyond the black community. He was widely recognized and praised in the white community for his many achievements and talents. In 1941, Time magazine dubbed Carver a \"Black Leonardo\".\n",
      "Color film of Carver shot in 1937 at the Tuskegee Institute by African American surgeon Allen Alexander was added to the National Film Registry of the Library of Congress in 2019. The 12 minutes of footage includes Carver in his apartment, office and laboratory, as well as images of him tending flowers and displaying his paintings.\u001b[0m\n",
      "\u001b[32;1m\u001b[1;3m\u001b[0m\n",
      "\n",
      "\u001b[1m> Finished chain.\u001b[0m\n",
      "{'input': 'Who was George Washington?', 'output': 'Page: George Washington Carver\\nSummary: George Washington Carver (c. 1864 – January 5, 1943) was an American agricultural scientist and inventor who promoted alternative crops to cotton and methods to prevent soil depletion. He was one of the most prominent black scientists of the early 20th century.\\nWhile a professor at Tuskegee Institute, Carver developed techniques to improve types of soils depleted by repeated plantings of cotton. He wanted poor farmers to grow other crops, such as peanuts and sweet potatoes, as a source of their own food and to improve their quality of life. Under his leadership, the Experiment Station at Tuskegee published over forty practical bulletins for farmers, many written by him, which included recipes; many of the bulletins contained advice for poor farmers, including combating soil depletion with limited financial means, producing bigger crops, and preserving food.\\nApart from his work to improve the lives of farmers, Carver was also a leader in promoting environmentalism. He received numerous honors for his work, including the Spingarn Medal of the NAACP. In an era of high racial polarization, his fame reached beyond the black community. He was widely recognized and praised in the white community for his many achievements and talents. In 1941, Time magazine dubbed Carver a \"Black Leonardo\".\\nColor film of Carver shot in 1937 at the Tuskegee Institute by African American surgeon Allen Alexander was added to the National Film Registry of the Library of Congress in 2019. The 12 minutes of footage includes Carver in his apartment, office and laboratory, as well as images of him tending flowers and displaying his paintings.'}\n",
      "\n",
      "\n",
      "\u001b[1m> Entering new AgentExecutor chain...\u001b[0m\n",
      "\u001b[32;1m\u001b[1;3m\n",
      "I will use the open_weather_map tool to answer this question.\n",
      "{'tool_name': 'open_weather_map', 'parameters': {'location': 'Mortugaba, Bahia, Brazil'}}\n",
      "\u001b[0m\u001b[36;1m\u001b[1;3mIn Mortugaba, Bahia, Brazil, the current weather is as follows:\n",
      "Detailed status: overcast clouds\n",
      "Wind speed: 3.88 m/s, direction: 127°\n",
      "Humidity: 46%\n",
      "Temperature: \n",
      "  - Current: 25.43°C\n",
      "  - High: 25.43°C\n",
      "  - Low: 25.43°C\n",
      "  - Feels like: 25.23°C\n",
      "Rain: {}\n",
      "Heat index: None\n",
      "Cloud cover: 100%\u001b[0m\u001b[32;1m\u001b[1;3mRelevant Documents: 0\n",
      "Cited Documents: 0\n",
      "Answer: In Mortugaba, Bahia, Brazil, the weather is currently overcast with 100% cloud cover. The temperature is 25.43°C, the wind speed is 3.88 m/s and the humidity is 46%.\n",
      "Grounded answer: In Mortugaba, Bahia, Brazil, the weather is currently <co: 0>overcast</co: 0> with <co: 0>100% cloud cover</co: 0>. The <co: 0>temperature is 25.43°C</co: 0>, the <co: 0>wind speed is 3.88 m/s</co: 0> and the <co: 0>humidity is 46</co: 0>%.\u001b[0m\n",
      "\n",
      "\u001b[1m> Finished chain.\u001b[0m\n",
      "{'input': \"What's the weather like in Mortugaba, Bahia, Brazil?\", 'output': 'In Mortugaba, Bahia, Brazil, the weather is currently overcast with 100% cloud cover. The temperature is 25.43°C, the wind speed is 3.88 m/s and the humidity is 46%.', 'citations': [CohereCitation(start=54, end=62, text='overcast', documents=[{'output': 'In Mortugaba, Bahia, Brazil, the current weather is as follows:\\nDetailed status: overcast clouds\\nWind speed: 3.88 m/s, direction: 127°\\nHumidity: 46%\\nTemperature: \\n  - Current: 25.43°C\\n  - High: 25.43°C\\n  - Low: 25.43°C\\n  - Feels like: 25.23°C\\nRain: {}\\nHeat index: None\\nCloud cover: 100%', 'id': 'doc_0'}], document_ids={'doc_0'}), CohereCitation(start=68, end=84, text='100% cloud cover', documents=[{'output': 'In Mortugaba, Bahia, Brazil, the current weather is as follows:\\nDetailed status: overcast clouds\\nWind speed: 3.88 m/s, direction: 127°\\nHumidity: 46%\\nTemperature: \\n  - Current: 25.43°C\\n  - High: 25.43°C\\n  - Low: 25.43°C\\n  - Feels like: 25.23°C\\nRain: {}\\nHeat index: None\\nCloud cover: 100%', 'id': 'doc_0'}], document_ids={'doc_0'}), CohereCitation(start=90, end=112, text='temperature is 25.43°C', documents=[{'output': 'In Mortugaba, Bahia, Brazil, the current weather is as follows:\\nDetailed status: overcast clouds\\nWind speed: 3.88 m/s, direction: 127°\\nHumidity: 46%\\nTemperature: \\n  - Current: 25.43°C\\n  - High: 25.43°C\\n  - Low: 25.43°C\\n  - Feels like: 25.23°C\\nRain: {}\\nHeat index: None\\nCloud cover: 100%', 'id': 'doc_0'}], document_ids={'doc_0'}), CohereCitation(start=118, end=140, text='wind speed is 3.88 m/s', documents=[{'output': 'In Mortugaba, Bahia, Brazil, the current weather is as follows:\\nDetailed status: overcast clouds\\nWind speed: 3.88 m/s, direction: 127°\\nHumidity: 46%\\nTemperature: \\n  - Current: 25.43°C\\n  - High: 25.43°C\\n  - Low: 25.43°C\\n  - Feels like: 25.23°C\\nRain: {}\\nHeat index: None\\nCloud cover: 100%', 'id': 'doc_0'}], document_ids={'doc_0'}), CohereCitation(start=149, end=163, text='humidity is 46', documents=[{'output': 'In Mortugaba, Bahia, Brazil, the current weather is as follows:\\nDetailed status: overcast clouds\\nWind speed: 3.88 m/s, direction: 127°\\nHumidity: 46%\\nTemperature: \\n  - Current: 25.43°C\\n  - High: 25.43°C\\n  - Low: 25.43°C\\n  - Feels like: 25.23°C\\nRain: {}\\nHeat index: None\\nCloud cover: 100%', 'id': 'doc_0'}], document_ids={'doc_0'})]}\n",
      "\n",
      "\n",
      "\u001b[1m> Entering new AgentExecutor chain...\u001b[0m\n",
      "\u001b[32;1m\u001b[1;3m\n",
      "I will search for 'news 4 June 2024' and write an answer based on what I find.\n",
      "{'tool_name': 'internet_search', 'parameters': {'query': 'news 4 June 2024'}}\n",
      "\u001b[0m\u001b[33;1m\u001b[1;3m[{'url': 'https://www.nbcnews.com/politics/2024-election/primary-elections-june-4-what-know-rcna154679', 'content': \"June 4, 2024, 9:00 AM UTC By Bridget Bowman and Ben Kamisar Sen. Bob Menendez isn't on the New Jersey primary ballot, but his bribery and corruption trial may be the most important factor in ...\"}, {'url': 'https://www.nytimes.com/issue/todaysheadlines/2024/06/04/todays-headlines', 'content': \"Headlines from The New York Times for Tuesday, June 4, 2024. Top News. Netanyahu's Far-Right Partners Reject Cease-Fire Compromise. By Adam Rasgon. Page A9.\"}, {'url': 'https://www.hindustantimes.com/india-news/election-results-2024-live-updates-india-general-elections-results-today-latest-news-04-june-2024-101717452970179.html', 'content': \"4:06 AM IST, June 4 What do the exit polls indicate? ... Election Results 2024 LIVE News: In Chandni Chowk, Congress' JP Aggarwal is leading by 3,211 votes against BJP's Praveen Khandelwal.\"}, {'url': 'https://www.usatoday.com/story/news/politics/elections/2024/05/30/2024-primary-election-preview/73890673007/', 'content': '1:24. The U.S. presidential primary season continues, with five states and the District of Columbia holding their elections on June 4. Voters in D.C., Iowa, Montana, New Jersey, New Mexico and ...'}]\u001b[0m\u001b[32;1m\u001b[1;3mRelevant Documents: 0,1,2,3\n",
      "Cited Documents: 0,1,2,3\n",
      "Answer: Here are some of the news stories from today:\n",
      "\n",
      "- Netanyahu's Far-Right Partners Reject Cease-Fire Compromise\n",
      "- Sen. Bob Menendez's bribery and corruption trial may be the most important factor in the New Jersey primary ballot\n",
      "- Election Results 2024 LIVE News: In Chandni Chowk, Congress' JP Aggarwal is leading by 3,211 votes against BJP's Praveen Khandelwal\n",
      "- The U.S. presidential primary season continues, with five states and the District of Columbia holding their elections today\n",
      "Grounded answer: Here are some of the news stories from today:\n",
      "\n",
      "- <co: 1>Netanyahu's Far-Right Partners Reject Cease-Fire Compromise</co: 1>\n",
      "- <co: 0>Sen. Bob Menendez's bribery and corruption trial may be the most important factor in the New Jersey primary ballot</co: 0>\n",
      "- <co: 2>Election Results 2024 LIVE News: In Chandni Chowk, Congress' JP Aggarwal is leading by 3,211 votes against BJP's Praveen Khandelwal</co: 2>\n",
      "- <co: 3>The U.S. presidential primary season continues, with five states and the District of Columbia holding their elections today</co: 3>\u001b[0m\n",
      "\n",
      "\u001b[1m> Finished chain.\u001b[0m\n",
      "{'input': 'Whats in the news today?', 'output': \"Here are some of the news stories from today:\\n\\n- Netanyahu's Far-Right Partners Reject Cease-Fire Compromise\\n- Sen. Bob Menendez's bribery and corruption trial may be the most important factor in the New Jersey primary ballot\\n- Election Results 2024 LIVE News: In Chandni Chowk, Congress' JP Aggarwal is leading by 3,211 votes against BJP's Praveen Khandelwal\\n- The U.S. presidential primary season continues, with five states and the District of Columbia holding their elections today\", 'citations': [CohereCitation(start=49, end=108, text=\"Netanyahu's Far-Right Partners Reject Cease-Fire Compromise\", documents=[{'url': 'https://www.nytimes.com/issue/todaysheadlines/2024/06/04/todays-headlines', 'content': \"Headlines from The New York Times for Tuesday, June 4, 2024. Top News. Netanyahu's Far-Right Partners Reject Cease-Fire Compromise. By Adam Rasgon. Page A9.\", 'id': 'doc_1'}], document_ids={'doc_1'}), CohereCitation(start=111, end=225, text=\"Sen. Bob Menendez's bribery and corruption trial may be the most important factor in the New Jersey primary ballot\", documents=[{'url': 'https://www.nbcnews.com/politics/2024-election/primary-elections-june-4-what-know-rcna154679', 'content': \"June 4, 2024, 9:00 AM UTC By Bridget Bowman and Ben Kamisar Sen. Bob Menendez isn't on the New Jersey primary ballot, but his bribery and corruption trial may be the most important factor in ...\", 'id': 'doc_0'}], document_ids={'doc_0'}), CohereCitation(start=228, end=359, text=\"Election Results 2024 LIVE News: In Chandni Chowk, Congress' JP Aggarwal is leading by 3,211 votes against BJP's Praveen Khandelwal\", documents=[{'url': 'https://www.hindustantimes.com/india-news/election-results-2024-live-updates-india-general-elections-results-today-latest-news-04-june-2024-101717452970179.html', 'content': \"4:06 AM IST, June 4 What do the exit polls indicate? ... Election Results 2024 LIVE News: In Chandni Chowk, Congress' JP Aggarwal is leading by 3,211 votes against BJP's Praveen Khandelwal.\", 'id': 'doc_2'}], document_ids={'doc_2'}), CohereCitation(start=362, end=485, text='The U.S. presidential primary season continues, with five states and the District of Columbia holding their elections today', documents=[{'url': 'https://www.usatoday.com/story/news/politics/elections/2024/05/30/2024-primary-election-preview/73890673007/', 'content': '1:24. The U.S. presidential primary season continues, with five states and the District of Columbia holding their elections on June 4. Voters in D.C., Iowa, Montana, New Jersey, New Mexico and ...', 'id': 'doc_3'}], document_ids={'doc_3'})]}\n",
      "\n",
      "\n",
      "\u001b[1m> Entering new AgentExecutor chain...\u001b[0m\n",
      "\u001b[32;1m\u001b[1;3m\n",
      "I will search for how Microsoft stock performed last week.\n",
      "{'tool_name': 'internet_search', 'parameters': {'query': 'Microsoft stock performance last week'}}\n",
      "\u001b[0m\u001b[33;1m\u001b[1;3m[{'url': 'https://www.macrotrends.net/stocks/charts/MSFT/microsoft/stock-price-history', 'content': 'The all-time high Microsoft stock closing price was 430.52 on May 22, 2024. The Microsoft 52-week high stock price is 433.60, which is 4.6% above the current share price. The Microsoft 52-week low stock price is 309.45, which is 25.4% below the current share price. The average Microsoft stock price for the last 52 weeks is 370.11.'}, {'url': 'https://finance.yahoo.com/quote/MSFT/', 'content': 'Find the latest Microsoft Corporation (MSFT) stock quote, history, news and other vital information to help you with your stock trading and investing.'}, {'url': 'https://www.google.com/finance/quote/MSFT:NASDAQ', 'content': 'Get the latest Microsoft Corp (MSFT) real-time quote, historical performance, charts, and other financial information to help you make more informed trading and investment decisions.'}, {'url': 'https://finance.yahoo.com/quote/MSFT/history/', 'content': 'Discover historical prices for MSFT stock on Yahoo Finance. View daily, weekly or monthly format back to when Microsoft Corporation stock was issued.'}]\u001b[0m\u001b[32;1m\u001b[1;3mRelevant Documents: 0,1,2,3\n",
      "Cited Documents: 0\n",
      "Answer: The Microsoft stock price closed at an all-time high of 430.52 on May 22, 2024. The 52-week high stock price is 433.60, which is 4.6% above the current share price. The 52-week low stock price is 309.45, which is 25.4% below the current share price. The average Microsoft stock price for the last 52 weeks is 370.11.\n",
      "Grounded answer: The Microsoft stock price <co: 0>closed at an all-time high of 430.52 on May 22, 2024</co: 0>. The <co: 0>52-week high stock price is 433.60</co: 0>, which is <co: 0>4.6% above the current share price</co: 0>. The <co: 0>52-week low stock price is 309.45</co: 0>, which is <co: 0>25.4% below the current share price</co: 0>. The <co: 0>average Microsoft stock price for the last 52 weeks is 370.11</co: 0>.\u001b[0m\n",
      "\n",
      "\u001b[1m> Finished chain.\u001b[0m\n",
      "{'input': 'How did the Microsoft stock perform last week?', 'output': 'The Microsoft stock price closed at an all-time high of 430.52 on May 22, 2024. The 52-week high stock price is 433.60, which is 4.6% above the current share price. The 52-week low stock price is 309.45, which is 25.4% below the current share price. The average Microsoft stock price for the last 52 weeks is 370.11.', 'citations': [CohereCitation(start=26, end=78, text='closed at an all-time high of 430.52 on May 22, 2024', documents=[{'url': 'https://www.macrotrends.net/stocks/charts/MSFT/microsoft/stock-price-history', 'content': 'The all-time high Microsoft stock closing price was 430.52 on May 22, 2024. The Microsoft 52-week high stock price is 433.60, which is 4.6% above the current share price. The Microsoft 52-week low stock price is 309.45, which is 25.4% below the current share price. The average Microsoft stock price for the last 52 weeks is 370.11.', 'id': 'doc_0'}], document_ids={'doc_0'}), CohereCitation(start=84, end=118, text='52-week high stock price is 433.60', documents=[{'url': 'https://www.macrotrends.net/stocks/charts/MSFT/microsoft/stock-price-history', 'content': 'The all-time high Microsoft stock closing price was 430.52 on May 22, 2024. The Microsoft 52-week high stock price is 433.60, which is 4.6% above the current share price. The Microsoft 52-week low stock price is 309.45, which is 25.4% below the current share price. The average Microsoft stock price for the last 52 weeks is 370.11.', 'id': 'doc_0'}], document_ids={'doc_0'}), CohereCitation(start=129, end=163, text='4.6% above the current share price', documents=[{'url': 'https://www.macrotrends.net/stocks/charts/MSFT/microsoft/stock-price-history', 'content': 'The all-time high Microsoft stock closing price was 430.52 on May 22, 2024. The Microsoft 52-week high stock price is 433.60, which is 4.6% above the current share price. The Microsoft 52-week low stock price is 309.45, which is 25.4% below the current share price. The average Microsoft stock price for the last 52 weeks is 370.11.', 'id': 'doc_0'}], document_ids={'doc_0'}), CohereCitation(start=169, end=202, text='52-week low stock price is 309.45', documents=[{'url': 'https://www.macrotrends.net/stocks/charts/MSFT/microsoft/stock-price-history', 'content': 'The all-time high Microsoft stock closing price was 430.52 on May 22, 2024. The Microsoft 52-week high stock price is 433.60, which is 4.6% above the current share price. The Microsoft 52-week low stock price is 309.45, which is 25.4% below the current share price. The average Microsoft stock price for the last 52 weeks is 370.11.', 'id': 'doc_0'}], document_ids={'doc_0'}), CohereCitation(start=213, end=248, text='25.4% below the current share price', documents=[{'url': 'https://www.macrotrends.net/stocks/charts/MSFT/microsoft/stock-price-history', 'content': 'The all-time high Microsoft stock closing price was 430.52 on May 22, 2024. The Microsoft 52-week high stock price is 433.60, which is 4.6% above the current share price. The Microsoft 52-week low stock price is 309.45, which is 25.4% below the current share price. The average Microsoft stock price for the last 52 weeks is 370.11.', 'id': 'doc_0'}], document_ids={'doc_0'}), CohereCitation(start=254, end=315, text='average Microsoft stock price for the last 52 weeks is 370.11', documents=[{'url': 'https://www.macrotrends.net/stocks/charts/MSFT/microsoft/stock-price-history', 'content': 'The all-time high Microsoft stock closing price was 430.52 on May 22, 2024. The Microsoft 52-week high stock price is 433.60, which is 4.6% above the current share price. The Microsoft 52-week low stock price is 309.45, which is 25.4% below the current share price. The average Microsoft stock price for the last 52 weeks is 370.11.', 'id': 'doc_0'}], document_ids={'doc_0'})]}\n"
     ]
    }
   ],
   "source": [
    "\n",
    "llm = ChatCohere()\n",
    "tools = [get_openweathermap_tool(llm), get_internet_search_tool(), get_wikipedia_tool()]\n",
    "\n",
    "prompt = ChatPromptTemplate.from_template(\n",
    "    \"Use the right tool to answer the following question. If wikipedia_tool delivers no result use internet_search: {input}\"\n",
    ")\n",
    "agent = create_cohere_react_agent(tools=tools, llm=llm, prompt=prompt)\n",
    "agent_executor = AgentExecutor(agent=agent, tools=tools, verbose=True)\n",
    "\n",
    "print(agent_executor.invoke({\"input\": \"Who was George Washington?\"}))\n",
    "print(\n",
    "    agent_executor.invoke(\n",
    "        {\"input\": \"What's the weather like in Mortugaba, Bahia, Brazil?\"}\n",
    "    )\n",
    ")\n",
    "print(agent_executor.invoke({\"input\": \"Whats in the news today?\"}))\n",
    "print(\n",
    "    agent_executor.invoke({\"input\": \"How did the Microsoft stock perform last week?\"})\n",
    ")"
   ]
  },
  {
   "cell_type": "markdown",
   "metadata": {},
   "source": [
    "## Yfinance Tools"
   ]
  },
  {
   "cell_type": "code",
   "execution_count": 29,
   "metadata": {},
   "outputs": [],
   "source": [
    "import yfinance as yf\n",
    "from langchain.tools import StructuredTool\n",
    "\n",
    "\n",
    "def get_ticker_info(ticker_symbol: str) -> str:\n",
    "    \"\"\"Gets the information about a stock market ticker symbol\"\"\"\n",
    "    ticker = yf.Ticker(ticker_symbol)\n",
    "    return ticker.info['longBusinessSummary']\n",
    "\n",
    "\n",
    "\n",
    "def get_ticker_history(ticker_symbol: str, period: str) -> str:\n",
    "    \"\"\"Gets the information about a stock market ticker symbol history for a period\"\"\"\n",
    "    ticker = yf.Ticker(ticker_symbol)\n",
    "    json = ticker.history(period=period).to_html()\n",
    "    return json\n",
    "\n",
    "\n",
    "def get_ticker_info_tool():\n",
    "    description = (\n",
    "        \"Useful for when you need ticker information about a company or a stock symbol. \"\n",
    "        \"Useful if somebody asks 'I need the ticker information for companyXXX' \"\n",
    "        \"Useful if somebody asks 'Give me a company summary for companyXXX' \"\n",
    "    )\n",
    "\n",
    "    return StructuredTool.from_function(\n",
    "        func=get_ticker_info, name=\"yf_get_ticker_info\", description=description\n",
    "    )\n",
    "    \n",
    "    \n",
    "    \n",
    "def get_ticker_history_tool():\n",
    "    description = (\n",
    "        \"Useful for when you need ticker history information about a company or a stock symbol for a period. \"\n",
    "        \"Useful if somebody asks 'How did companyXXX perform for the last ....' \"\n",
    "        \"Useful if somebody asks 'I need the ticker history information for companyXXX for the last ....' \"        \n",
    "    )\n",
    "\n",
    "    return StructuredTool.from_function(\n",
    "        func=get_ticker_history, name=\"yf_get_ticker_history\", description=description\n",
    "    )    "
   ]
  },
  {
   "cell_type": "code",
   "execution_count": 30,
   "metadata": {},
   "outputs": [
    {
     "name": "stdout",
     "output_type": "stream",
     "text": [
      "\n",
      "\n",
      "\u001b[1m> Entering new AgentExecutor chain...\u001b[0m\n",
      "\u001b[32;1m\u001b[1;3m\n",
      "I will search for the ticker history of GRMN for the last 5 days.\n",
      "{'tool_name': 'yf_get_ticker_history', 'parameters': {'ticker_symbol': 'GRMN', 'period': '5d'}}\n",
      "\u001b[0m\u001b[33;1m\u001b[1;3m<table border=\"1\" class=\"dataframe\">\n",
      "  <thead>\n",
      "    <tr style=\"text-align: right;\">\n",
      "      <th></th>\n",
      "      <th>Open</th>\n",
      "      <th>High</th>\n",
      "      <th>Low</th>\n",
      "      <th>Close</th>\n",
      "      <th>Volume</th>\n",
      "      <th>Dividends</th>\n",
      "      <th>Stock Splits</th>\n",
      "    </tr>\n",
      "    <tr>\n",
      "      <th>Date</th>\n",
      "      <th></th>\n",
      "      <th></th>\n",
      "      <th></th>\n",
      "      <th></th>\n",
      "      <th></th>\n",
      "      <th></th>\n",
      "      <th></th>\n",
      "    </tr>\n",
      "  </thead>\n",
      "  <tbody>\n",
      "    <tr>\n",
      "      <th>2024-05-29 00:00:00-04:00</th>\n",
      "      <td>161.479996</td>\n",
      "      <td>162.990005</td>\n",
      "      <td>161.080002</td>\n",
      "      <td>161.660004</td>\n",
      "      <td>471100</td>\n",
      "      <td>0.0</td>\n",
      "      <td>0.0</td>\n",
      "    </tr>\n",
      "    <tr>\n",
      "      <th>2024-05-30 00:00:00-04:00</th>\n",
      "      <td>162.479996</td>\n",
      "      <td>164.949997</td>\n",
      "      <td>161.820007</td>\n",
      "      <td>162.770004</td>\n",
      "      <td>778900</td>\n",
      "      <td>0.0</td>\n",
      "      <td>0.0</td>\n",
      "    </tr>\n",
      "    <tr>\n",
      "      <th>2024-05-31 00:00:00-04:00</th>\n",
      "      <td>162.679993</td>\n",
      "      <td>163.860001</td>\n",
      "      <td>161.449997</td>\n",
      "      <td>163.850006</td>\n",
      "      <td>1398400</td>\n",
      "      <td>0.0</td>\n",
      "      <td>0.0</td>\n",
      "    </tr>\n",
      "    <tr>\n",
      "      <th>2024-06-03 00:00:00-04:00</th>\n",
      "      <td>163.309998</td>\n",
      "      <td>164.000000</td>\n",
      "      <td>162.529999</td>\n",
      "      <td>163.199997</td>\n",
      "      <td>624000</td>\n",
      "      <td>0.0</td>\n",
      "      <td>0.0</td>\n",
      "    </tr>\n",
      "    <tr>\n",
      "      <th>2024-06-04 00:00:00-04:00</th>\n",
      "      <td>162.720001</td>\n",
      "      <td>164.220001</td>\n",
      "      <td>162.669998</td>\n",
      "      <td>163.374496</td>\n",
      "      <td>99548</td>\n",
      "      <td>0.0</td>\n",
      "      <td>0.0</td>\n",
      "    </tr>\n",
      "  </tbody>\n",
      "</table>\u001b[0m\u001b[32;1m\u001b[1;3mRelevant Documents: 0\n",
      "Cited Documents: 0\n",
      "Answer: Over the last 5 days, GRMN's performance has been as follows:\n",
      "- 29/05/2024: Open: 161.479996, High: 162.990005, Low: 161.080002, Close: 161.660004\n",
      "- 30/05/2024: Open: 162.479996, High: 164.949997, Low: 161.820007, Close: 162.770004\n",
      "- 31/05/2024: Open: 162.679993, High: 163.860001, Low: 161.449997, Close: 163.850006\n",
      "- 03/06/2024: Open: 163.309998, High: 164.000000, Low: 162.529999, Close: 163.199997\n",
      "- 04/06/2024: Open: 162.720001, High: 164.220001, Low: 162.669998, Close: 163.374496\n",
      "Grounded answer: Over the last 5 days, GRMN's performance has been as follows:\n",
      "- <co: 0>29/05/2024</co: 0>: <co: 0>Open: 161.479996</co: 0>, <co: 0>High: 162.990005</co: 0>, <co: 0>Low: 161.080002</co: 0>, <co: 0>Close: 161.660004</co: 0>\n",
      "- <co: 0>30/05/2024</co: 0>: <co: 0>Open: 162.479996</co: 0>, <co: 0>High: 164.949997</co: 0>, <co: 0>Low: 161.820007</co: 0>, <co: 0>Close: 162.770004</co: 0>\n",
      "- <co: 0>31/05/2024</co: 0>: <co: 0>Open: 162.679993</co: 0>, <co: 0>High: 163.860001</co: 0>, <co: 0>Low: 161.449997</co: 0>, <co: 0>Close: 163.850006</co: 0>\n",
      "- <co: 0>03/06/2024</co: 0>: <co: 0>Open: 163.309998</co: 0>, <co: 0>High: 164.000000</co: 0>, <co: 0>Low: 162.529999</co: 0>, <co: 0>Close: 163.199997</co: 0>\n",
      "- <co: 0>04/06/2024</co: 0>: <co: 0>Open: 162.720001</co: 0>, <co: 0>High: 164.220001</co: 0>, <co: 0>Low: 162.669998</co: 0>, <co: 0>Close: 163.374496</co: 0>\u001b[0m\n",
      "\n",
      "\u001b[1m> Finished chain.\u001b[0m\n"
     ]
    },
    {
     "data": {
      "text/html": [
       "<p>Over the last 5 days, GRMN's performance has been as follows:\n",
       "- 29/05/2024: Open: 161.479996, High: 162.990005, Low: 161.080002, Close: 161.660004\n",
       "- 30/05/2024: Open: 162.479996, High: 164.949997, Low: 161.820007, Close: 162.770004\n",
       "- 31/05/2024: Open: 162.679993, High: 163.860001, Low: 161.449997, Close: 163.850006\n",
       "- 03/06/2024: Open: 163.309998, High: 164.000000, Low: 162.529999, Close: 163.199997\n",
       "- 04/06/2024: Open: 162.720001, High: 164.220001, Low: 162.669998, Close: 163.374496</p>"
      ],
      "text/plain": [
       "<IPython.core.display.HTML object>"
      ]
     },
     "metadata": {},
     "output_type": "display_data"
    },
    {
     "data": {
      "text/html": [
       "<table border=\"1\" class=\"dataframe\">\n",
       "  <thead>\n",
       "    <tr style=\"text-align: right;\">\n",
       "      <th></th>\n",
       "      <th>Open</th>\n",
       "      <th>High</th>\n",
       "      <th>Low</th>\n",
       "      <th>Close</th>\n",
       "      <th>Volume</th>\n",
       "      <th>Dividends</th>\n",
       "      <th>Stock Splits</th>\n",
       "    </tr>\n",
       "    <tr>\n",
       "      <th>Date</th>\n",
       "      <th></th>\n",
       "      <th></th>\n",
       "      <th></th>\n",
       "      <th></th>\n",
       "      <th></th>\n",
       "      <th></th>\n",
       "      <th></th>\n",
       "    </tr>\n",
       "  </thead>\n",
       "  <tbody>\n",
       "    <tr>\n",
       "      <th>2024-05-29 00:00:00-04:00</th>\n",
       "      <td>161.479996</td>\n",
       "      <td>162.990005</td>\n",
       "      <td>161.080002</td>\n",
       "      <td>161.660004</td>\n",
       "      <td>471100</td>\n",
       "      <td>0.0</td>\n",
       "      <td>0.0</td>\n",
       "    </tr>\n",
       "    <tr>\n",
       "      <th>2024-05-30 00:00:00-04:00</th>\n",
       "      <td>162.479996</td>\n",
       "      <td>164.949997</td>\n",
       "      <td>161.820007</td>\n",
       "      <td>162.770004</td>\n",
       "      <td>778900</td>\n",
       "      <td>0.0</td>\n",
       "      <td>0.0</td>\n",
       "    </tr>\n",
       "    <tr>\n",
       "      <th>2024-05-31 00:00:00-04:00</th>\n",
       "      <td>162.679993</td>\n",
       "      <td>163.860001</td>\n",
       "      <td>161.449997</td>\n",
       "      <td>163.850006</td>\n",
       "      <td>1398400</td>\n",
       "      <td>0.0</td>\n",
       "      <td>0.0</td>\n",
       "    </tr>\n",
       "    <tr>\n",
       "      <th>2024-06-03 00:00:00-04:00</th>\n",
       "      <td>163.309998</td>\n",
       "      <td>164.000000</td>\n",
       "      <td>162.529999</td>\n",
       "      <td>163.199997</td>\n",
       "      <td>624000</td>\n",
       "      <td>0.0</td>\n",
       "      <td>0.0</td>\n",
       "    </tr>\n",
       "    <tr>\n",
       "      <th>2024-06-04 00:00:00-04:00</th>\n",
       "      <td>162.720001</td>\n",
       "      <td>164.220001</td>\n",
       "      <td>162.669998</td>\n",
       "      <td>163.374496</td>\n",
       "      <td>99548</td>\n",
       "      <td>0.0</td>\n",
       "      <td>0.0</td>\n",
       "    </tr>\n",
       "  </tbody>\n",
       "</table>"
      ],
      "text/plain": [
       "<IPython.core.display.HTML object>"
      ]
     },
     "metadata": {},
     "output_type": "display_data"
    }
   ],
   "source": [
    "llm = ChatCohere()\n",
    "prompt = ChatPromptTemplate.from_template(\"{input}\")\n",
    "tools = [get_ticker_info_tool(),get_ticker_history_tool()]\n",
    "agent = create_cohere_react_agent(tools=tools, llm=llm, prompt=prompt)\n",
    "agent_executor = AgentExecutor(agent=agent, tools=tools, verbose=True)\n",
    "# response = agent_executor.invoke({\"input\": \"I need ticker information for MSFT\"})\n",
    "response = agent_executor.invoke({\"input\": \"How did GRMN perform for the last 5d\"})\n",
    "\n",
    "display(HTML(markdown.markdown(response['output'])))\n",
    "documents = response['citations'][0].documents\n",
    "content = documents[0]['output']\n",
    "display(HTML(markdown.markdown(content)))"
   ]
  },
  {
   "cell_type": "markdown",
   "metadata": {},
   "source": [
    "## Alpha Vantage Tool"
   ]
  },
  {
   "cell_type": "code",
   "execution_count": 32,
   "metadata": {},
   "outputs": [
    {
     "name": "stdout",
     "output_type": "stream",
     "text": [
      "\n",
      "\n",
      "\u001b[1m> Entering new AgentExecutor chain...\u001b[0m\n",
      "\u001b[32;1m\u001b[1;3m\n",
      "I will use the currency conversion tool to find out how much one USD is in EUR.\n",
      "{'tool_name': 'av_get_exchange_rate', 'parameters': {'from_currency': 'USD', 'to_currency': 'EUR'}}\n",
      "\u001b[0m\u001b[36;1m\u001b[1;3m{'Realtime Currency Exchange Rate': {'1. From_Currency Code': 'USD', '2. From_Currency Name': 'United States Dollar', '3. To_Currency Code': 'EUR', '4. To_Currency Name': 'Euro', '5. Exchange Rate': '0.91890000', '6. Last Refreshed': '2024-06-04 15:00:33', '7. Time Zone': 'UTC', '8. Bid Price': '0.91887000', '9. Ask Price': '0.91894000'}}\u001b[0m\n",
      "\u001b[32;1m\u001b[1;3m\u001b[0m\n",
      "\n",
      "\u001b[1m> Finished chain.\u001b[0m\n"
     ]
    }
   ],
   "source": [
    "llm = ChatCohere()\n",
    "\n",
    "prompt = ChatPromptTemplate.from_template(\"{input}\")\n",
    "\n",
    "tools = [\n",
    "    # get_search_symbol_tool(),\n",
    "    get_exchange_rate_tool(),\n",
    "    # get_time_series_daily_tool(),\n",
    "    # get_time_series_weekly_tool(),\n",
    "    # get_market_news_sentimen_tool(),\n",
    "    # get_top_gainers_losers_tool(),\n",
    "]\n",
    "\n",
    "agent = create_cohere_react_agent(tools=tools, llm=llm, prompt=prompt)\n",
    "\n",
    "agent_executor = AgentExecutor(agent=agent, tools=tools, verbose=True)\n",
    "# alpha_vantage = AlphaVantageAPIWrapper()\n",
    "# alpha_vantage._get_exchange_rate(\"USD\", \"JPY\")\n",
    "# alpha_vantage._get_time_series_daily(\"MSFT\")\n",
    "# alpha_vantage._get_time_series_weekly(\"IBM\")\n",
    "# alpha_vantage.search_symbols(\"American Superconductor\")\n",
    "# alpha_vantage._get_market_news_sentiment(\"Microsoft\")\n",
    "# alpha_vantage._get_top_gainers_losers()\n",
    "# response = agent_executor.invoke(\n",
    "#     {\"input\": \"What is the symbol for American Superconductor?\"}\n",
    "# )\n",
    "response = agent_executor.invoke({\"input\": \"How much is one USD in EUR?\"})\n",
    "# response = agent_executor.invoke({\"input\": \"Who are the gainers and losers at the stock exchange?\"})\n",
    "# response = agent_executor.invoke({\"input\": \"How is Microsoft performing historically?\"})\n",
    "# response = agent_executor.invoke({\"input\": \"How did Apple perform the last time?\"})\n",
    "# response = agent_executor.invoke({\"input\": \"What is in the news about Nvidia?\"})"
   ]
  },
  {
   "cell_type": "code",
   "execution_count": 35,
   "metadata": {},
   "outputs": [
    {
     "data": {
      "text/plain": [
       "{'Realtime Currency Exchange Rate': {'1. From_Currency Code': 'USD',\n",
       "  '2. From_Currency Name': 'United States Dollar',\n",
       "  '3. To_Currency Code': 'EUR',\n",
       "  '4. To_Currency Name': 'Euro',\n",
       "  '5. Exchange Rate': '0.91890000',\n",
       "  '6. Last Refreshed': '2024-06-04 15:00:33',\n",
       "  '7. Time Zone': 'UTC',\n",
       "  '8. Bid Price': '0.91887000',\n",
       "  '9. Ask Price': '0.91894000'}}"
      ]
     },
     "execution_count": 35,
     "metadata": {},
     "output_type": "execute_result"
    }
   ],
   "source": [
    "response['output']"
   ]
  },
  {
   "cell_type": "markdown",
   "metadata": {},
   "source": [
    "## Imports for Embeddings and Qdrant"
   ]
  },
  {
   "cell_type": "code",
   "execution_count": 36,
   "metadata": {},
   "outputs": [],
   "source": [
    "from langchain.text_splitter import RecursiveCharacterTextSplitter\n",
    "from langchain.document_loaders import WebBaseLoader\n",
    "from langchain.embeddings.cohere import CohereEmbeddings\n",
    "from langchain.vectorstores import Qdrant\n",
    "from langchain_community.vectorstores import Qdrant\n",
    "from langchain.prompts import PromptTemplate\n",
    "from langchain.chains import ConversationalRetrievalChain\n",
    "from langchain.chains.conversation.memory import ConversationSummaryMemory\n",
    "import qdrant_client"
   ]
  },
  {
   "cell_type": "markdown",
   "metadata": {},
   "source": [
    "## Build Qdrant Vector Store"
   ]
  },
  {
   "cell_type": "code",
   "execution_count": null,
   "metadata": {},
   "outputs": [],
   "source": [
    "# web_links = [\"https://www.fielmann-group.com/ueber-uns/?\",\n",
    "#              \"https://de.wikipedia.org/wiki/Fielmann\",\n",
    "#              \"https://de.wikipedia.org/wiki/G%C3%BCnther_Fielmann\",\n",
    "#              \"https://de.wikipedia.org/wiki/Marc_Fielmann\"] \n",
    "\n",
    "web_links = [\"https://python.langchain.com/v0.2/docs/introduction\",\n",
    "             \"https://python.langchain.com/v0.2/docs/concepts\",\n",
    "             \"https://python.langchain.com/v0.2/docs/integrations/tools\",\n",
    "             \"https://python.langchain.com/v0.2/docs/integrations/vectorstores\",\n",
    "             \"https://python.langchain.com/v0.2/docs/integrations/document_loaders\",\n",
    "             \"https://python.langchain.com/v0.2/docs/integrations/retrievers\",\n",
    "             \"https://python.langchain.com/v0.2/docs/integrations/vectorstores/qdrant\",\n",
    "             \"https://python.langchain.com/v0.2/docs/integrations/providers/cohere/#react-agent\",\n",
    "             \"https://de.wikipedia.org/wiki/Herz#:~:text=Das%20Herz%20(lateinisch%20Cor%2C%20griechisch,die%20Versorgung%20aller%20Organe%20sichert.\"]\n",
    " \n",
    "\n",
    "loader = WebBaseLoader(web_links)\n",
    "document=loader.load()\n",
    "\n",
    "text_splitter = RecursiveCharacterTextSplitter(chunk_size=500, chunk_overlap=0)\n",
    "texts = text_splitter.split_documents(document)\n",
    "\n",
    "embeddings = CohereEmbeddings(model = \"embed-english-v2.0\")\n",
    "\n",
    "qdrant = Qdrant.from_documents(\n",
    "    document,\n",
    "    embeddings,\n",
    "    url=QDRANT_HOST,\n",
    "    api_key=QDRANT_API_KEY,\n",
    "    prefer_grpc=True,\n",
    "    collection_name=\"rag_documents\",\n",
    "    force_recreate=True,\n",
    ")\n"
   ]
  },
  {
   "cell_type": "markdown",
   "metadata": {},
   "source": [
    "## Load Qdrant Vector Store"
   ]
  },
  {
   "cell_type": "code",
   "execution_count": 37,
   "metadata": {},
   "outputs": [
    {
     "name": "stdout",
     "output_type": "stream",
     "text": [
      "connection established !\n"
     ]
    }
   ],
   "source": [
    "client = qdrant_client.QdrantClient(\n",
    "    url=QDRANT_HOST,\n",
    "    api_key=QDRANT_API_KEY,\n",
    ")\n",
    "embeddings = CohereEmbeddings(model=\"embed-english-v2.0\")\n",
    "vector_store = Qdrant(\n",
    "    client = client,\n",
    "    collection_name = \"rag_documents\",\n",
    "    embeddings = embeddings\n",
    ")\n",
    "print(\"connection established !\")"
   ]
  },
  {
   "cell_type": "markdown",
   "metadata": {},
   "source": [
    "## Use Qdrant Vector Store as RAG Retriever for Cohere"
   ]
  },
  {
   "cell_type": "code",
   "execution_count": 38,
   "metadata": {},
   "outputs": [
    {
     "data": {
      "text/html": [
       "<p>The tools in LangChain are:</p>\n",
       "<ul>\n",
       "<li>Alpha Vantage</li>\n",
       "<li>Apify</li>\n",
       "<li>Arxiv</li>\n",
       "<li>AskNews</li>\n",
       "<li>AWS Lambda</li>\n",
       "<li>Azure Container Apps dynamic sessions</li>\n",
       "<li>Shell (bash)</li>\n",
       "<li>Bearly Code Interpreter</li>\n",
       "<li>Bing Search</li>\n",
       "<li>Brave Search</li>\n",
       "<li>ChatGPT Plugins</li>\n",
       "<li>Connery Action Tool</li>\n",
       "<li>Dall-E Image Generator</li>\n",
       "<li>DataForSEO</li>\n",
       "<li>Dataherald</li>\n",
       "<li>DuckDuckGo Search</li>\n",
       "<li>E2B Data Analysis</li>\n",
       "<li>Eden AI</li>\n",
       "<li>Eleven Labs Text2Speech</li>\n",
       "<li>Exa Search</li>\n",
       "<li>File System</li>\n",
       "<li>Golden Query</li>\n",
       "<li>Google Cloud Text-to-Speech</li>\n",
       "<li>Google Drive</li>\n",
       "<li>Google Finance</li>\n",
       "<li>Google Imagen</li>\n",
       "<li>Google Jobs</li>\n",
       "<li>Google Lens</li>\n",
       "<li>Google Places</li>\n",
       "<li>Google Scholar</li>\n",
       "<li>Google Search</li>\n",
       "<li>Google Serper</li>\n",
       "<li>Google Trends</li>\n",
       "<li>Gradio</li>\n",
       "<li>GraphQL</li>\n",
       "<li>HuggingFace Hub Tools</li>\n",
       "<li>Human as a tool</li>\n",
       "<li>IFTTT WebHooks</li>\n",
       "<li>Infobip</li>\n",
       "<li>Ionic Shopping Tool</li>\n",
       "<li>Lemon Agent</li>\n",
       "<li>Memorize</li>\n",
       "<li>Mojeek Search</li>\n",
       "<li>Nuclia Understanding</li>\n",
       "<li>NVIDIA Riva: ASR and TTS</li>\n",
       "<li>OpenWeatherMap</li>\n",
       "<li>Oracle AI Vector Search: Generate Summary</li>\n",
       "<li>Passio NutritionAI</li>\n",
       "<li>Polygon Stock Market API Tools</li>\n",
       "<li>PubMed</li>\n",
       "<li>Python REPL</li>\n",
       "<li>Reddit Search</li>\n",
       "<li>Requests</li>\n",
       "<li>SceneXplain</li>\n",
       "<li>Search Tools</li>\n",
       "<li>SearchApi</li>\n",
       "<li>SearxNG Search</li>\n",
       "<li>Semantic Scholar API Tool</li>\n",
       "<li>SerpAPI</li>\n",
       "<li>SQL Database</li>\n",
       "<li>StackExchange</li>\n",
       "<li>Tavily Search</li>\n",
       "<li>Twilio</li>\n",
       "<li>Upstage</li>\n",
       "<li>Wikidata</li>\n",
       "<li>Wikipedia</li>\n",
       "<li>Wolfram Alpha</li>\n",
       "<li>Yahoo Finance News</li>\n",
       "<li>You.com Search</li>\n",
       "<li>YouTube</li>\n",
       "<li>Zapier Natural Language Actions</li>\n",
       "</ul>"
      ],
      "text/plain": [
       "<IPython.core.display.HTML object>"
      ]
     },
     "metadata": {},
     "output_type": "display_data"
    }
   ],
   "source": [
    "prompt_template = \"\"\"\n",
    "You are a bot to answer questions from a document.\n",
    "    \n",
    "You will be given a context of the conversation made so far followed by a question, \n",
    "give the answer to the question using the context. \n",
    "The answer should be short, straight and to the point. If you don't know the answer, reply that the answer is not available.\n",
    "\n",
    "Context: {context}\n",
    "\n",
    "Question: {question}\n",
    "Answer:\"\"\"\n",
    "\n",
    "PROMPT = PromptTemplate(\n",
    "    template=prompt_template, input_variables=[\"context\", \"question\"]\n",
    ")\n",
    "\n",
    "chain_type_kwargs = { \"prompt\" : PROMPT }\n",
    "\n",
    "llm = ChatCohere()\n",
    "\n",
    "template = (\n",
    "        \"\"\"Combine the chat history and follow up question into \n",
    "        a standalone question. \n",
    "        If chat hsitory is empty, use the follow up question as it is.\n",
    "        Chat History: {chat_history}\n",
    "        Follow up question: {question}\"\"\"\n",
    "    )\n",
    "\n",
    "prompt = PromptTemplate.from_template(template)\n",
    "\n",
    "chain = ConversationalRetrievalChain.from_llm(     \n",
    "    llm = llm,\n",
    "    chain_type = \"stuff\",\n",
    "    memory = ConversationSummaryMemory(llm = llm, memory_key='chat_history', input_key='question', output_key= 'answer', return_messages=True),\n",
    "    retriever = vector_store.as_retriever(search_type=\"mmr\"),\n",
    "    condense_question_prompt = prompt,\n",
    "    return_source_documents=False,\n",
    "    combine_docs_chain_kwargs=chain_type_kwargs,\n",
    ")\n",
    "customer_prompt = \"What are tools in LangChain?\"\n",
    "\n",
    "\n",
    "llm_response = chain.invoke(\n",
    "                {\n",
    "                    \"context\": chain.memory.buffer,\n",
    "                    \"question\": customer_prompt,\n",
    "                },\n",
    "                return_only_outputs=True,\n",
    "            )\n",
    "\n",
    "display(HTML(markdown.markdown(llm_response['answer'])))\n"
   ]
  }
 ],
 "metadata": {
  "kernelspec": {
   "display_name": "cohere",
   "language": "python",
   "name": "python3"
  },
  "language_info": {
   "codemirror_mode": {
    "name": "ipython",
    "version": 3
   },
   "file_extension": ".py",
   "mimetype": "text/x-python",
   "name": "python",
   "nbconvert_exporter": "python",
   "pygments_lexer": "ipython3",
   "version": "3.12.3"
  }
 },
 "nbformat": 4,
 "nbformat_minor": 2
}
