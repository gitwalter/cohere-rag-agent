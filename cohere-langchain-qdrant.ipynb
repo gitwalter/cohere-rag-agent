{
 "cells": [
  {
   "cell_type": "code",
   "execution_count": 79,
   "metadata": {},
   "outputs": [],
   "source": [
    "import warnings\n",
    "warnings.filterwarnings('ignore')"
   ]
  },
  {
   "cell_type": "code",
   "execution_count": null,
   "metadata": {},
   "outputs": [],
   "source": [
    "! pip install streamlit\n",
    "! pip install qdrant-client\n",
    "! pip install langchain\n",
    "! pip install langchain-community\n",
    "! pip install langchain-qdrant\n",
    "! pip install langchain-cohere\n",
    "! pip install tiktoken\n",
    "! pip install cohere\n",
    "! pip install bs4"
   ]
  },
  {
   "cell_type": "code",
   "execution_count": 80,
   "metadata": {},
   "outputs": [],
   "source": [
    "import streamlit as st\n",
    "import os\n",
    "COHERE_API_KEY = st.secrets[\"COHERE_API_KEY\"]\n",
    "os.environ[\"COHERE_API_KEY\"] = st.secrets[\"COHERE_API_KEY\"]\n",
    "QDRANT_HOST = st.secrets[\"QDRANT_HOST\"]\n",
    "QDRANT_API_KEY = st.secrets[\"QDRANT_API_KEY\"]"
   ]
  },
  {
   "cell_type": "code",
   "execution_count": 50,
   "metadata": {},
   "outputs": [
    {
     "name": "stdout",
     "output_type": "stream",
     "text": [
      "content=\"Who's there?\" additional_kwargs={'documents': None, 'citations': None, 'search_results': None, 'search_queries': None, 'is_search_required': None, 'generation_id': '18878e2f-a49c-4e5d-943b-87652b2dc38b', 'token_count': {'input_tokens': 73, 'output_tokens': 4}} response_metadata={'documents': None, 'citations': None, 'search_results': None, 'search_queries': None, 'is_search_required': None, 'generation_id': '18878e2f-a49c-4e5d-943b-87652b2dc38b', 'token_count': {'input_tokens': 73, 'output_tokens': 4}} id='run-77b6d559-eee2-4dd8-b480-0f50b44f3674-0'\n"
     ]
    }
   ],
   "source": [
    "from langchain_cohere import ChatCohere\n",
    "from langchain_core.messages import HumanMessage\n",
    "chat = ChatCohere()\n",
    "messages = [HumanMessage(content=\"knock knock\")]\n",
    "print(chat.invoke(messages))"
   ]
  },
  {
   "cell_type": "code",
   "execution_count": 51,
   "metadata": {},
   "outputs": [
    {
     "data": {
      "text/plain": [
       "AIMessage(content='Why did the bear become a magician? \\nHe wanted to be a master of bear-monies!', additional_kwargs={'documents': None, 'citations': None, 'search_results': None, 'search_queries': None, 'is_search_required': None, 'generation_id': '993efad9-3793-480e-a032-d1269d975796', 'token_count': {'input_tokens': 81, 'output_tokens': 22}}, response_metadata={'documents': None, 'citations': None, 'search_results': None, 'search_queries': None, 'is_search_required': None, 'generation_id': '993efad9-3793-480e-a032-d1269d975796', 'token_count': {'input_tokens': 81, 'output_tokens': 22}}, id='run-9d45bccb-5b8c-4d83-b408-c28fbbb2d063-0')"
      ]
     },
     "execution_count": 51,
     "metadata": {},
     "output_type": "execute_result"
    }
   ],
   "source": [
    "from langchain_core.prompts import ChatPromptTemplate\n",
    "\n",
    "prompt = ChatPromptTemplate.from_template(\"Tell me a joke about {topic}\")\n",
    "chain = prompt | chat\n",
    "chain.invoke({\"topic\": \"bears\"})"
   ]
  },
  {
   "cell_type": "code",
   "execution_count": 47,
   "metadata": {},
   "outputs": [
    {
     "name": "stdout",
     "output_type": "stream",
     "text": [
      " Of course! Here are a few suggestions for pet names: \n",
      "\n",
      "- Sweetheart \n",
      "- Love \n",
      "- Honey\n",
      "- Doll \n",
      "- Cutie \n",
      "- Babe \n",
      "\n",
      "These are some relatively common pet names people use for their loved ones. If you're looking for something more specific, let me know and we can work on a pet name that best suits your relationship with the person you have in mind. \n"
     ]
    }
   ],
   "source": [
    "from langchain_cohere.llms import Cohere\n",
    "\n",
    "llm = Cohere()\n",
    "print(llm.invoke(\"Come up with a pet name\"))"
   ]
  },
  {
   "cell_type": "code",
   "execution_count": 48,
   "metadata": {},
   "outputs": [
    {
     "name": "stdout",
     "output_type": "stream",
     "text": [
      " The theory of Kahnemann and Tversky is a collection of cognitive biases that affect how people make decisions and form beliefs. The theory focuses on the idea that people use two different systems to make decisions:\n",
      "\n",
      "1. System 1: This is the fast, intuitive part of the brain that forms impressions and judgments quickly. It tends to be emotional, subjective, and biased. It often leads to cognitive biases, such as anchoring, availability heuristics, and representativeness heuristics. This system is often used to make decisions quickly and efficiently, and it is often very effective at doing so. It relies on instinct and emotions rather than logical reasoning. \n",
      "\n",
      "2. System 2: This is the slower, more deliberate part of the brain that analyzes decisions and corrections. It tends to be more logical and rational. This system is used when the decisions required more thought and analysis. \n",
      "\n",
      "The theory also highlights the concept of cognitive ease and discomfort. Overall, their theory demonstrates how decision-making is often influenced by cognitive biases and heuristics, leading to deviations from strict rationality, and provides a framework for understanding the various biases inherent in these processes. \n",
      "\n",
      "It's important to note that these two systems are not distinct entities but rather represent different modes of cognitive processing. They work in tandem, often leading to accurate decisions, but sometimes leading to errors due to cognitive biases. \n"
     ]
    }
   ],
   "source": [
    "print(llm.invoke(\"Summarize the theory of Kahnemann and Tversky\"))"
   ]
  },
  {
   "cell_type": "code",
   "execution_count": 81,
   "metadata": {},
   "outputs": [],
   "source": [
    "import os\n",
    "TAVILY_API_KEY = st.secrets[\"TAVILY_API_KEY\"]\n",
    "os.environ[\"TAVILY_API_KEY\"] = st.secrets[\"TAVILY_API_KEY\"]"
   ]
  },
  {
   "cell_type": "code",
   "execution_count": 55,
   "metadata": {},
   "outputs": [
    {
     "name": "stdout",
     "output_type": "stream",
     "text": [
      "\n",
      "\n",
      "\u001b[1m> Entering new AgentExecutor chain...\u001b[0m\n",
      "\u001b[32;1m\u001b[1;3m\n",
      "I will search for 'Palantir IPO NYSE' and write an answer based on the results.\n",
      "{'tool_name': 'internet_search', 'parameters': {'query': 'Palantir IPO NYSE'}}\n",
      "\u001b[0m\u001b[36;1m\u001b[1;3m[{'url': 'https://www.investopedia.com/palantir-ipo-what-you-need-to-know-5080082', 'content': 'Published September 30, 2020. Palantir to make public debut via direct listing with ticker: PLTR. Reference price $7.25/share, banks expect $10/share, valuation of $22B. Provides U.S. government ...'}, {'url': 'https://www.reuters.com/article/idUSKBN26L3DQ/', 'content': 'Item 1 of 3 A person poses in front of a banner featuring the logo of Palantir Technologies (PLTR) at the New York Stock Exchange (NYSE) on the day of their initial public offering (IPO) in ...'}, {'url': 'https://www.cnbc.com/2020/09/30/palantir-goes-public-pltr-starts-trading-on-the-nyse.html', 'content': 'Palantir shares traded actively in the private market, selling for between $4.17 and $11.50 this year. Alex Karp, CEO of Palantir, speaking at the 2019 WEF in Davos, Switzerland on Jan. 23rd, 2019 ...'}, {'url': 'https://finance.yahoo.com/quote/PLTR/', 'content': '166.90. +0.09%. Find the latest Palantir Technologies Inc. (PLTR) stock quote, history, news and other vital information to help you with your stock trading and investing.'}]\u001b[0m\u001b[32;1m\u001b[1;3mRelevant Documents: 0,1,2,3\n",
      "Cited Documents: 0,1,2,3\n",
      "Answer: Palantir Technologies Inc. (PLTR) went public on 30 September 2020.\n",
      "Grounded answer: <co: 1,3>Palantir Technologies Inc</co: 1,3>. <co: 0,1,2,3>(PLTR</co: 0,1,2,3>) went public on <co: 0>30 September 2020</co: 0>.\u001b[0m\n",
      "\n",
      "\u001b[1m> Finished chain.\u001b[0m\n"
     ]
    },
    {
     "data": {
      "text/plain": [
       "{'input': 'When has Palantir had its IPO at the NYSE?',\n",
       " 'output': 'Palantir Technologies Inc. (PLTR) went public on 30 September 2020.',\n",
       " 'citations': [CohereCitation(start=0, end=25, text='Palantir Technologies Inc', documents=[{'url': 'https://www.reuters.com/article/idUSKBN26L3DQ/', 'content': 'Item 1 of 3 A person poses in front of a banner featuring the logo of Palantir Technologies (PLTR) at the New York Stock Exchange (NYSE) on the day of their initial public offering (IPO) in ...', 'id': 'doc_1'}, {'url': 'https://finance.yahoo.com/quote/PLTR/', 'content': '166.90. +0.09%. Find the latest Palantir Technologies Inc. (PLTR) stock quote, history, news and other vital information to help you with your stock trading and investing.', 'id': 'doc_3'}], document_ids={'doc_1', 'doc_3'}),\n",
       "  CohereCitation(start=27, end=32, text='(PLTR', documents=[{'url': 'https://www.investopedia.com/palantir-ipo-what-you-need-to-know-5080082', 'content': 'Published September 30, 2020. Palantir to make public debut via direct listing with ticker: PLTR. Reference price $7.25/share, banks expect $10/share, valuation of $22B. Provides U.S. government ...', 'id': 'doc_0'}, {'url': 'https://www.reuters.com/article/idUSKBN26L3DQ/', 'content': 'Item 1 of 3 A person poses in front of a banner featuring the logo of Palantir Technologies (PLTR) at the New York Stock Exchange (NYSE) on the day of their initial public offering (IPO) in ...', 'id': 'doc_1'}, {'url': 'https://www.cnbc.com/2020/09/30/palantir-goes-public-pltr-starts-trading-on-the-nyse.html', 'content': 'Palantir shares traded actively in the private market, selling for between $4.17 and $11.50 this year. Alex Karp, CEO of Palantir, speaking at the 2019 WEF in Davos, Switzerland on Jan. 23rd, 2019 ...', 'id': 'doc_2'}, {'url': 'https://finance.yahoo.com/quote/PLTR/', 'content': '166.90. +0.09%. Find the latest Palantir Technologies Inc. (PLTR) stock quote, history, news and other vital information to help you with your stock trading and investing.', 'id': 'doc_3'}], document_ids={'doc_2', 'doc_3', 'doc_0', 'doc_1'}),\n",
       "  CohereCitation(start=49, end=66, text='30 September 2020', documents=[{'url': 'https://www.investopedia.com/palantir-ipo-what-you-need-to-know-5080082', 'content': 'Published September 30, 2020. Palantir to make public debut via direct listing with ticker: PLTR. Reference price $7.25/share, banks expect $10/share, valuation of $22B. Provides U.S. government ...', 'id': 'doc_0'}], document_ids={'doc_0'})]}"
      ]
     },
     "execution_count": 55,
     "metadata": {},
     "output_type": "execute_result"
    }
   ],
   "source": [
    "from langchain_community.tools.tavily_search import TavilySearchResults\n",
    "from langchain_cohere import ChatCohere, create_cohere_react_agent\n",
    "from langchain_core.prompts import ChatPromptTemplate\n",
    "from langchain.agents import AgentExecutor\n",
    "\n",
    "llm = ChatCohere()\n",
    "\n",
    "internet_search = TavilySearchResults(max_results=4)\n",
    "internet_search.name = \"internet_search\"\n",
    "internet_search.description = \"Route a user query to the internet\"\n",
    "\n",
    "prompt = ChatPromptTemplate.from_template(\"{input}\")\n",
    "\n",
    "agent = create_cohere_react_agent(\n",
    "    llm,\n",
    "    [internet_search],\n",
    "    prompt\n",
    ")\n",
    "\n",
    "agent_executor = AgentExecutor(agent=agent, tools=[internet_search], verbose=True)\n",
    "\n",
    "agent_executor.invoke({\n",
    "    \"input\": \"When has Palantir had its IPO at the NYSE?\",\n",
    "})"
   ]
  },
  {
   "cell_type": "code",
   "execution_count": 82,
   "metadata": {},
   "outputs": [],
   "source": [
    "from langchain_core.pydantic_v1 import BaseModel, Field\n",
    "from langchain_community.tools import WikipediaQueryRun\n",
    "from langchain_community.utilities import WikipediaAPIWrapper\n",
    "\n",
    "api_wrapper = WikipediaAPIWrapper(top_k_results=1)\n",
    "\n",
    "class WikiInputs(BaseModel):\n",
    "    \"\"\"Inputs to the wikipedia tool.\"\"\"\n",
    "\n",
    "    query: str = Field(\n",
    "        description=\"query to look up in Wikipedia\"\n",
    "    )\n",
    "    \n",
    "wikipedia_tool = WikipediaQueryRun(\n",
    "    name=\"wiki-tool\",\n",
    "    description=\"look up things in wikipedia\",\n",
    "    args_schema=WikiInputs,\n",
    "    api_wrapper=api_wrapper,\n",
    "    return_direct=True,\n",
    ")    "
   ]
  },
  {
   "cell_type": "code",
   "execution_count": 46,
   "metadata": {},
   "outputs": [
    {
     "name": "stdout",
     "output_type": "stream",
     "text": [
      "\n",
      "\n",
      "\u001b[1m> Entering new AgentExecutor chain...\u001b[0m\n",
      "\u001b[32;1m\u001b[1;3m\n",
      "I will search for 'Kahnemann and Tversky theory' and write an answer based on the information I find.\n",
      "{'tool_name': 'wiki-tool', 'parameters': {'query': 'Kahnemann and Tversky theory'}}\n",
      "\u001b[0m\u001b[36;1m\u001b[1;3mPage: Daniel Kahneman\n",
      "Summary: Daniel Kahneman (; Hebrew: דניאל כהנמן; March 5, 1934 – March 27, 2024) was an Israeli-American cognitive scientist best-known for his work on the psychology of judgment and decision-making. He is also known for his work in behavioral economics, for which he was awarded the 2002 Nobel Memorial Prize in Economic Sciences together with Vernon L. Smith. Kahneman's published empirical findings challenge the assumption of human rationality prevailing in modern economic theory. Kahneman became known as the \"grandfather of behavioral economics.\"\n",
      "With Amos Tversky and others, Kahneman established a cognitive basis for common human errors that arise from heuristics and biases, and developed prospect theory. In 2011, Kahneman was named by Foreign Policy magazine in its list of top global thinkers. In the same year, his book Thinking, Fast and Slow, which summarizes much of his research, was published and became a best seller. In 2015, The Economist listed him as the seventh most influential economist in the world.\n",
      "Kahneman was professor emeritus of psychology and public affairs at Princeton University's Princeton School of Public and International Affairs. Kahneman was a founding partner of TGG Group, a business and philanthropy consulting company. He was married to cognitive psychologist and Royal Society Fellow Anne Treisman, who died in 2018.\n",
      "\n",
      "\u001b[0m\n",
      "\u001b[32;1m\u001b[1;3m\u001b[0m\n",
      "\n",
      "\u001b[1m> Finished chain.\u001b[0m\n"
     ]
    }
   ],
   "source": [
    "prompt = ChatPromptTemplate.from_template(\"{input}\")\n",
    "\n",
    "agent = create_cohere_react_agent(\n",
    "    llm,\n",
    "    [wikipedia_tool],\n",
    "    prompt\n",
    ")\n",
    "\n",
    "agent_executor = AgentExecutor(agent=agent, tools=[wikipedia_tool], verbose=True)\n",
    "\n",
    "response = agent_executor.invoke({\n",
    "                \"input\": \"Explain the theory of Kahnemann and Tversky\",\n",
    "            })"
   ]
  },
  {
   "cell_type": "code",
   "execution_count": 40,
   "metadata": {},
   "outputs": [
    {
     "data": {
      "text/plain": [
       "'Page: David Hilbert\\nSummary: David Hilbert  (; German: [ˈdaːvɪt ˈhɪlbɐt]; 23 January 1862 – 14 Febru'"
      ]
     },
     "execution_count": 40,
     "metadata": {},
     "output_type": "execute_result"
    }
   ],
   "source": [
    "response[\"output\"]"
   ]
  },
  {
   "cell_type": "code",
   "execution_count": 63,
   "metadata": {},
   "outputs": [
    {
     "data": {
      "text/plain": [
       "\"Page: David Beckham\\nSummary: David Robert Joseph Beckham  ( BEK-əm; born 2 May 1975) is an English former professional footballer, the president and co-owner of Inter Miami CF and co-owner of Salford City. Primarily a right winger and known for his range of passing, crossing ability and free-kick taking, Beckham has been hailed as one of the greatest and most recognisable midfielders of his generation, as well as one of the best free-kick takers of all time. He won 19 major trophies in his career, and is the first English player to win league titles in four different countries: England, Spain, the United States and France.\\nBeckham's professional club career began with Manchester United, where he made his first-team debut in 1992 at age 17. With United, he won the Premier League title six times, the FA Cup twice, the FA Charity Shield twice, the Intercontinental Cup and the UEFA Champions League in 1999. He then played four seasons with Real Madrid, winning the La Liga championship in his final season with the club. In July 2007, Beckham signed a five-year contract with Major League Soccer club LA Galaxy. While a Galaxy player, he spent two loan spells in Italy with AC Milan in 2009 and 2010. He became the first British footballer to play 100 UEFA Champions League games. He retired in May 2013 after a 20-year career.\\nIn international football, Beckham made his England debut on 1 September 1996, at the age of 21. He was captain for six years, earning 58 caps during his tenure. He made 115 career appearances in total, appearing at three FIFA World Cups in 1998, 2002 and 2006 as well as two UEFA European Championships in 2000 and 2004. Beckham held the England appearance record for an outfield player until 2016.\\nA global ambassador of football, Beckham is considered to be a British cultural icon. He has been in a well publicised marriage to Victoria Beckham since 1999 and was consistently ranked among the highest earners in football, in 2013 being listed as the highest-paid player in the world having earned over $50 million in the previous twelve months. Beckham was runner-up in the Ballon d'Or in 1999, twice runner-up for FIFA World Player of the Year (1999 and 2001) and in 2004 was named by Pelé in the FIFA 100 list of the world's greatest living players. He was inducted into the English Football Hall of Fame in 2008, and the Premier League Hall of Fame in 2021. He has been a UNICEF ambassador since 2005, and in 2015 he launched 7: The David Beckham UNICEF Fund. In 2014, MLS announced that Beckham and a group of investors would own Inter Miami, which began playing in 2020.\\n\\n\""
      ]
     },
     "execution_count": 63,
     "metadata": {},
     "output_type": "execute_result"
    }
   ],
   "source": [
    "wikipedia_tool.run(\"David Beckham\")"
   ]
  },
  {
   "cell_type": "code",
   "execution_count": 69,
   "metadata": {},
   "outputs": [
    {
     "name": "stdout",
     "output_type": "stream",
     "text": [
      "\n",
      "\n",
      "\u001b[1m> Entering new AgentExecutor chain...\u001b[0m\n",
      "\u001b[32;1m\u001b[1;3m\n",
      "I will search for the weather in London and then write an answer.\n",
      "{'tool_name': 'open_weather_map', 'parameters': {'location': 'London, UK'}}\n",
      "\u001b[0mopen_weather_map is not a valid tool, try one of [wiki-tool].\u001b[32;1m\u001b[1;3mRelevant Documents: None\n",
      "Cited Documents: None\n",
      "Answer: Sorry, I am unable to answer this question.\n",
      "Grounded answer: Sorry, I am unable to answer this question.\u001b[0m\n",
      "\n",
      "\u001b[1m> Finished chain.\u001b[0m\n"
     ]
    }
   ],
   "source": [
    "import os\n",
    "import streamlit as st\n",
    "from langchain_core.prompts import ChatPromptTemplate\n",
    "from langchain.agents import AgentType, initialize_agent, load_tools\n",
    "from langchain_cohere import ChatCohere, create_cohere_react_agent\n",
    "\n",
    "OPEN_WEATHER_API_KEY = st.secrets[\"OPEN_WEATHER_API_KEY\"]\n",
    "os.environ[\"OPENWEATHERMAP_API_KEY\"] = OPEN_WEATHER_API_KEY\n",
    "\n",
    "\n",
    "\n",
    "llm = ChatCohere()\n",
    "\n",
    "prompt = ChatPromptTemplate.from_template(\"{input}\")\n",
    "\n",
    "\n",
    "tools = [wikipedia_tool]\n",
    "\n",
    "tools = load_tools([\"openweathermap-api\"], llm)\n",
    "# tools.append(wikipedia_tool)\n",
    "\n",
    "agent = create_cohere_react_agent(\n",
    "    tools=tools, llm=llm, prompt=prompt\n",
    ")\n",
    "\n",
    "agent_executor = AgentExecutor(agent=agent, tools=[wikipedia_tool], verbose=True)\n",
    "\n",
    "response = agent_executor.invoke({\"input\": \"How is the weather in London?\"})"
   ]
  },
  {
   "cell_type": "code",
   "execution_count": 58,
   "metadata": {},
   "outputs": [
    {
     "data": {
      "text/plain": [
       "'Page: Alan Turing\\nSummary: Alan Mathison Turing  (; 23 June 1912 – 7 June 1954) was an English mathe'"
      ]
     },
     "execution_count": 58,
     "metadata": {},
     "output_type": "execute_result"
    }
   ],
   "source": [
    "response[\"output\"]"
   ]
  },
  {
   "cell_type": "code",
   "execution_count": 95,
   "metadata": {},
   "outputs": [
    {
     "name": "stdout",
     "output_type": "stream",
     "text": [
      "\n",
      "\n",
      "\u001b[1m> Entering new AgentExecutor chain...\u001b[0m\n",
      "\u001b[32;1m\u001b[1;3m\n",
      "I will search for the weather in Graz, Austria and write an answer based on the information I find.\n",
      "{'tool_name': 'open_weather_map', 'parameters': {'location': 'Graz, Austria'}}\n",
      "\u001b[0m\u001b[36;1m\u001b[1;3mIn Graz, Austria, the current weather is as follows:\n",
      "Detailed status: broken clouds\n",
      "Wind speed: 1.54 m/s, direction: 330°\n",
      "Humidity: 96%\n",
      "Temperature: \n",
      "  - Current: 16.12°C\n",
      "  - High: 18.28°C\n",
      "  - Low: 15.59°C\n",
      "  - Feels like: 16.29°C\n",
      "Rain: {}\n",
      "Heat index: None\n",
      "Cloud cover: 75%\u001b[0m\u001b[32;1m\u001b[1;3mRelevant Documents: 0\n",
      "Cited Documents: 0\n",
      "Answer: In Graz, Austria, the weather is currently 16.12°C, with a high of 18.28°C and a low of 15.59°C. There are broken clouds, 96% humidity, and a wind speed of 1.54 m/s.\n",
      "Grounded answer: In Graz, Austria, the weather is currently <co: 0>16.12°C</co: 0>, with a <co: 0>high of 18.28°C</co: 0> and a <co: 0>low of 15.59°C</co: 0>. There are <co: 0>broken clouds</co: 0>, <co: 0>96% humidity</co: 0>, and a <co: 0>wind speed of 1.54 m/s</co: 0>.\u001b[0m\n",
      "\n",
      "\u001b[1m> Finished chain.\u001b[0m\n"
     ]
    }
   ],
   "source": [
    "from langchain.agents import AgentExecutor\n",
    "\n",
    "def call_weather_agent(input):\n",
    "    OPEN_WEATHER_API_KEY = st.secrets[\"OPEN_WEATHER_API_KEY\"]\n",
    "    os.environ[\"OPENWEATHERMAP_API_KEY\"] = OPEN_WEATHER_API_KEY\n",
    "    tools = load_tools([\"openweathermap-api\"], llm)\n",
    "    prompt = ChatPromptTemplate.from_template(\"What's the weather like in {location}?\")\n",
    "    agent = create_cohere_react_agent(\n",
    "        tools=tools, llm=llm, prompt=prompt\n",
    "    )\n",
    "\n",
    "    agent_executor = AgentExecutor(agent=agent, tools=tools, verbose=True)\n",
    "\n",
    "    agent_executor.invoke({\n",
    "        \"location\": input,\n",
    "    })\n",
    "    \n",
    "\n",
    "call_weather_agent(\"Graz, Austria\")"
   ]
  },
  {
   "cell_type": "code",
   "execution_count": 96,
   "metadata": {},
   "outputs": [
    {
     "data": {
      "text/plain": [
       "[TavilySearchResults(name='internet_search', description='Route a user query to the internet', max_results=4),\n",
       " OpenWeatherMapQueryRun(api_wrapper=OpenWeatherMapAPIWrapper(owm=<pyowm.owm.OWM - API key=************************77bc3a62, subscription type=free, PyOWM version=(3, 3, 0)>, openweathermap_api_key=None))]"
      ]
     },
     "execution_count": 96,
     "metadata": {},
     "output_type": "execute_result"
    }
   ],
   "source": [
    "tools"
   ]
  },
  {
   "cell_type": "code",
   "execution_count": 108,
   "metadata": {},
   "outputs": [],
   "source": [
    "tools = load_tools([\"openweathermap-api\"], llm)\n",
    "internet_search = TavilySearchResults(max_results=4)\n",
    "internet_search.name = \"internet_search\"\n",
    "internet_search.description = \"Route a user query to the internet\"\n",
    "tools.append(internet_search)\n",
    "tools.append(wikipedia_tool)\n"
   ]
  },
  {
   "cell_type": "code",
   "execution_count": 119,
   "metadata": {},
   "outputs": [],
   "source": [
    "prompt = ChatPromptTemplate.from_template(\"Use the right tool to answer the following question: {input}\")"
   ]
  },
  {
   "cell_type": "code",
   "execution_count": 125,
   "metadata": {},
   "outputs": [
    {
     "name": "stdout",
     "output_type": "stream",
     "text": [
      "\n",
      "\n",
      "\u001b[1m> Entering new AgentExecutor chain...\u001b[0m\n",
      "\u001b[32;1m\u001b[1;3m\n",
      "I will search for 'Fielmann stock performance' in the Wikipedia tool.\n",
      "{'tool_name': 'wiki-tool', 'parameters': {'query': 'Fielmann stock performance'}}\n",
      "\u001b[0m\u001b[38;5;200m\u001b[1;3mNo good Wikipedia Search Result was found\u001b[0m\n",
      "\u001b[32;1m\u001b[1;3m\u001b[0m\n",
      "\n",
      "\u001b[1m> Finished chain.\u001b[0m\n"
     ]
    }
   ],
   "source": [
    "agent = create_cohere_react_agent(\n",
    "    tools=tools, llm=llm, prompt=prompt\n",
    ")\n",
    "\n",
    "agent_executor = AgentExecutor(agent=agent, tools=tools, verbose=True)\n",
    "\n",
    "#response = agent_executor.invoke({\"input\": \"Who was George Washington?\"})\n",
    "# response = agent_executor.invoke({\"input\": \"What's the weather like in New Orleans?\"})\n",
    "# response = agent_executor.invoke({\"input\": \"Who did win the Indian elections this year?\"})\n",
    "response = agent_executor.invoke({\"input\": \"How does the Fielmann stock perform?\"})"
   ]
  },
  {
   "cell_type": "code",
   "execution_count": 94,
   "metadata": {},
   "outputs": [
    {
     "data": {
      "text/plain": [
       "[TavilySearchResults(name='internet_search', description='Route a user query to the internet', max_results=4),\n",
       " OpenWeatherMapQueryRun(api_wrapper=OpenWeatherMapAPIWrapper(owm=<pyowm.owm.OWM - API key=************************77bc3a62, subscription type=free, PyOWM version=(3, 3, 0)>, openweathermap_api_key=None))]"
      ]
     },
     "execution_count": 94,
     "metadata": {},
     "output_type": "execute_result"
    }
   ],
   "source": [
    "tools"
   ]
  },
  {
   "cell_type": "code",
   "execution_count": 92,
   "metadata": {},
   "outputs": [],
   "source": [
    "tools = tools + load_tools([\"openweathermap-api\"], llm)"
   ]
  },
  {
   "cell_type": "code",
   "execution_count": 93,
   "metadata": {},
   "outputs": [
    {
     "data": {
      "text/plain": [
       "[TavilySearchResults(name='internet_search', description='Route a user query to the internet', max_results=4),\n",
       " OpenWeatherMapQueryRun(api_wrapper=OpenWeatherMapAPIWrapper(owm=<pyowm.owm.OWM - API key=************************77bc3a62, subscription type=free, PyOWM version=(3, 3, 0)>, openweathermap_api_key=None))]"
      ]
     },
     "execution_count": 93,
     "metadata": {},
     "output_type": "execute_result"
    }
   ],
   "source": [
    "tools"
   ]
  },
  {
   "cell_type": "code",
   "execution_count": null,
   "metadata": {},
   "outputs": [],
   "source": []
  }
 ],
 "metadata": {
  "kernelspec": {
   "display_name": "cohere",
   "language": "python",
   "name": "python3"
  },
  "language_info": {
   "codemirror_mode": {
    "name": "ipython",
    "version": 3
   },
   "file_extension": ".py",
   "mimetype": "text/x-python",
   "name": "python",
   "nbconvert_exporter": "python",
   "pygments_lexer": "ipython3",
   "version": "3.12.3"
  }
 },
 "nbformat": 4,
 "nbformat_minor": 2
}
