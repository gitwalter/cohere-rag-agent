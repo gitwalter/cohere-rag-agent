{
 "cells": [
  {
   "cell_type": "markdown",
   "metadata": {},
   "source": [
    "# Cohere agent with LangChain"
   ]
  },
  {
   "cell_type": "markdown",
   "metadata": {},
   "source": [
    "Install Libraries"
   ]
  },
  {
   "cell_type": "code",
   "execution_count": 6,
   "metadata": {},
   "outputs": [],
   "source": [
    "# ! pip install streamlit\n",
    "# ! pip install qdrant-client\n",
    "# ! pip install langchain\n",
    "# ! pip install langchain-community\n",
    "# ! pip install langchain-qdrant\n",
    "# ! pip install langchain-cohere\n",
    "# ! pip install tiktoken\n",
    "# ! pip install cohere\n",
    "# ! pip install bs4"
   ]
  },
  {
   "cell_type": "markdown",
   "metadata": {},
   "source": [
    "Ignore Warnings"
   ]
  },
  {
   "cell_type": "code",
   "execution_count": 7,
   "metadata": {},
   "outputs": [],
   "source": [
    "import warnings\n",
    "warnings.filterwarnings('ignore')"
   ]
  },
  {
   "cell_type": "markdown",
   "metadata": {},
   "source": [
    "Import API-Keys"
   ]
  },
  {
   "cell_type": "code",
   "execution_count": 23,
   "metadata": {},
   "outputs": [],
   "source": [
    "import streamlit as st\n",
    "import os\n",
    "\n",
    "\n",
    "ALPHAVANTAGE_API_KEY = st.secrets[\"ALPHAVANTAGE_API_KEY\"]\n",
    "os.environ[\"ALPHAVANTAGE_API_KEY\"] = st.secrets[\"ALPHAVANTAGE_API_KEY\"]\n",
    "\n",
    "COHERE_API_KEY = st.secrets[\"COHERE_API_KEY\"]\n",
    "os.environ[\"COHERE_API_KEY\"] = st.secrets[\"COHERE_API_KEY\"]\n",
    "\n",
    "QDRANT_HOST = st.secrets[\"QDRANT_HOST\"]\n",
    "QDRANT_API_KEY = st.secrets[\"QDRANT_API_KEY\"]\n",
    "\n",
    "OPEN_WEATHER_API_KEY = st.secrets[\"OPEN_WEATHER_API_KEY\"]\n",
    "os.environ[\"OPENWEATHERMAP_API_KEY\"] = OPEN_WEATHER_API_KEY\n",
    "\n",
    "POLYGON_API_KEY = st.secrets[\"POLYGON_API_KEY\"]\n",
    "os.environ[\"POLYGON_API_KEY\"] = st.secrets[\"POLYGON_API_KEY\"]\n",
    "\n",
    "\n",
    "TAVILY_API_KEY = st.secrets[\"TAVILY_API_KEY\"]\n",
    "os.environ[\"TAVILY_API_KEY\"] = st.secrets[\"TAVILY_API_KEY\"]"
   ]
  },
  {
   "cell_type": "markdown",
   "metadata": {},
   "source": [
    "Invoke ChatCohere"
   ]
  },
  {
   "cell_type": "code",
   "execution_count": 9,
   "metadata": {},
   "outputs": [
    {
     "name": "stdout",
     "output_type": "stream",
     "text": [
      "content=\"Who's there?\" additional_kwargs={'documents': None, 'citations': None, 'search_results': None, 'search_queries': None, 'is_search_required': None, 'generation_id': '8c7b69ad-1a4f-40aa-b365-910b679dc73f', 'token_count': {'input_tokens': 68, 'output_tokens': 4}} response_metadata={'documents': None, 'citations': None, 'search_results': None, 'search_queries': None, 'is_search_required': None, 'generation_id': '8c7b69ad-1a4f-40aa-b365-910b679dc73f', 'token_count': {'input_tokens': 68, 'output_tokens': 4}} id='run-3c2fb0b9-aba8-4378-b81a-03a069da25b2-0'\n"
     ]
    }
   ],
   "source": [
    "from langchain_cohere import ChatCohere\n",
    "from langchain_core.messages import HumanMessage\n",
    "chat = ChatCohere()\n",
    "messages = [HumanMessage(content=\"knock knock\")]\n",
    "print(chat.invoke(messages))"
   ]
  },
  {
   "cell_type": "markdown",
   "metadata": {},
   "source": [
    "Invoke ChatCohere using ChatPromptTemplate"
   ]
  },
  {
   "cell_type": "code",
   "execution_count": 10,
   "metadata": {},
   "outputs": [
    {
     "data": {
      "text/plain": [
       "AIMessage(content='Why don’t bears wear socks? \\n\\nThey have bear feet!', additional_kwargs={'documents': None, 'citations': None, 'search_results': None, 'search_queries': None, 'is_search_required': None, 'generation_id': '96aec7ab-7bb7-47c9-a38e-10d1ba5d99cf', 'token_count': {'input_tokens': 72, 'output_tokens': 15}}, response_metadata={'documents': None, 'citations': None, 'search_results': None, 'search_queries': None, 'is_search_required': None, 'generation_id': '96aec7ab-7bb7-47c9-a38e-10d1ba5d99cf', 'token_count': {'input_tokens': 72, 'output_tokens': 15}}, id='run-db8eb780-c8ee-4220-8bd5-75c9b3c37435-0')"
      ]
     },
     "execution_count": 10,
     "metadata": {},
     "output_type": "execute_result"
    }
   ],
   "source": [
    "from langchain_core.prompts import ChatPromptTemplate\n",
    "\n",
    "prompt = ChatPromptTemplate.from_template(\"Tell me a joke about {topic}\")\n",
    "chain = prompt | chat\n",
    "chain.invoke({\"topic\": \"bears\"})"
   ]
  },
  {
   "cell_type": "markdown",
   "metadata": {},
   "source": [
    "Invoke Cohere"
   ]
  },
  {
   "cell_type": "code",
   "execution_count": 11,
   "metadata": {},
   "outputs": [
    {
     "name": "stdout",
     "output_type": "stream",
     "text": [
      " The theory of Kahnemann and Tversky is a collection of cognitive biases that affect how people make decisions and form beliefs. The theory consists of a list of heuristics (mental shortcuts) that are used by humans to make decisions, and the cognitive biases that result from these heuristics.\n",
      "\n",
      "One of the most well-known heuristics is the availability heuristic, which is the tendency for people to make judgments based on how easy it is to think of examples for or against a particular issue. It is also known as the availability bias, which is a cognitive bias that causes people to overestimate the likelihood of events that are more easy to recall than events that are less easy to recall. For instance, individuals are more likely to believe that siblings resemble each other and that emigration rates are higher in the destination country when this country is next door, simply because these statements seem more available or easier to bring to mind. \n",
      "\n",
      "Let me know if you'd like to know more about Kahnemann and Tversky's theory or any of the specific heuristics and cognitive biases it entails. \n"
     ]
    }
   ],
   "source": [
    "from langchain_cohere.llms import Cohere\n",
    "\n",
    "llm = Cohere()\n",
    "print(llm.invoke(\"Summarize the theory of Kahnemann and Tversky\"))"
   ]
  },
  {
   "cell_type": "markdown",
   "metadata": {},
   "source": [
    "Tavily Internet Search Tool"
   ]
  },
  {
   "cell_type": "code",
   "execution_count": 12,
   "metadata": {},
   "outputs": [
    {
     "name": "stdout",
     "output_type": "stream",
     "text": [
      "\n",
      "\n",
      "\u001b[1m> Entering new AgentExecutor chain...\u001b[0m\n",
      "\u001b[32;1m\u001b[1;3m\n",
      "I will search for 'Palantir IPO NYSE' and write an answer based on the information I find.\n",
      "{'tool_name': 'internet_search', 'parameters': {'query': 'Palantir IPO NYSE'}}\n",
      "\u001b[0m\u001b[36;1m\u001b[1;3m[{'url': 'https://www.investopedia.com/palantir-ipo-what-you-need-to-know-5080082', 'content': \"(If you want to hear us talk about it, check out this week's Express podcast)\\n475.8 million Class A shares can be sold today (the remaining locked up, a rarity for direct listings) and the reference price is $7.25 a share, which translates to a valuation of nearly $16 billion. Financials\\nControversy\\nPalantir is seen as controversial because of the nature of some of the work its clients conduct, its inability to share much information on the projects and its unconventional corporate governance structure. What Does It Do\\nNamed after the sinister seeing stones in the Lord of the Rings series, Palantir helps its clients analyze data to solve complicated problems or optimize operations by building them platforms with search features and visualizations. Its tools are primarily adopted for surveillance and security, and its biggest customers are law enforcement agencies like the FBI, CIA, and ICE, police departments and the U.S. Army. The secretive company has raised $2.6 billion in the past and is part of the Big Data and data mining boom.\"}, {'url': 'https://www.cnn.com/2020/09/30/tech/palantir-ipo/index.html', 'content': 'The company began trading on the New York Stock Exchange under the ticker symbol \"PLTR\" just after 1:30pm ET at $10 a share, up from the reference price listed by the NYSE of $7.25 a share ...'}, {'url': 'https://finance.yahoo.com/news/palantir-technologies-ipo-investor-comprehensive-193224055.html', 'content': 'Palantir Stock IPO: A Direct Listing. Palantir stock begins trading on the NYSE on Tuesday, Sept. 30 under the ticker \"PLTR\". The company will pursue a direct listing, rather than a ...'}, {'url': 'https://www.cnbc.com/2020/09/30/palantir-goes-public-pltr-starts-trading-on-the-nyse.html', 'content': 'Palantir shares traded actively in the private market, selling for between $4.17 and $11.50 this year. Alex Karp, CEO of Palantir, speaking at the 2019 WEF in Davos, Switzerland on Jan. 23rd, 2019 ...'}]\u001b[0m\u001b[32;1m\u001b[1;3mRelevant Documents: 1,2,3\n",
      "Cited Documents: 1,2,3\n",
      "Answer: Palantir began trading on the New York Stock Exchange on Tuesday 30 September 2020.\n",
      "Grounded answer: Palantir began trading on the New York Stock Exchange on <co: 2>Tuesday</co: 2> <co: 1,2>30 September</co: 1,2> <co: 1>2020</co: 1>.\u001b[0m\n",
      "\n",
      "\u001b[1m> Finished chain.\u001b[0m\n"
     ]
    },
    {
     "data": {
      "text/plain": [
       "{'input': 'When has Palantir had its IPO at the NYSE?',\n",
       " 'output': 'Palantir began trading on the New York Stock Exchange on Tuesday 30 September 2020.',\n",
       " 'citations': [CohereCitation(start=57, end=64, text='Tuesday', documents=[{'url': 'https://finance.yahoo.com/news/palantir-technologies-ipo-investor-comprehensive-193224055.html', 'content': 'Palantir Stock IPO: A Direct Listing. Palantir stock begins trading on the NYSE on Tuesday, Sept. 30 under the ticker \"PLTR\". The company will pursue a direct listing, rather than a ...', 'id': 'doc_2'}], document_ids={'doc_2'}),\n",
       "  CohereCitation(start=65, end=77, text='30 September', documents=[{'url': 'https://www.cnn.com/2020/09/30/tech/palantir-ipo/index.html', 'content': 'The company began trading on the New York Stock Exchange under the ticker symbol \"PLTR\" just after 1:30pm ET at $10 a share, up from the reference price listed by the NYSE of $7.25 a share ...', 'id': 'doc_1'}, {'url': 'https://finance.yahoo.com/news/palantir-technologies-ipo-investor-comprehensive-193224055.html', 'content': 'Palantir Stock IPO: A Direct Listing. Palantir stock begins trading on the NYSE on Tuesday, Sept. 30 under the ticker \"PLTR\". The company will pursue a direct listing, rather than a ...', 'id': 'doc_2'}], document_ids={'doc_1', 'doc_2'}),\n",
       "  CohereCitation(start=78, end=82, text='2020', documents=[{'url': 'https://www.cnn.com/2020/09/30/tech/palantir-ipo/index.html', 'content': 'The company began trading on the New York Stock Exchange under the ticker symbol \"PLTR\" just after 1:30pm ET at $10 a share, up from the reference price listed by the NYSE of $7.25 a share ...', 'id': 'doc_1'}], document_ids={'doc_1'})]}"
      ]
     },
     "execution_count": 12,
     "metadata": {},
     "output_type": "execute_result"
    }
   ],
   "source": [
    "from langchain_community.tools.tavily_search import TavilySearchResults\n",
    "from langchain_cohere import ChatCohere, create_cohere_react_agent\n",
    "from langchain_core.prompts import ChatPromptTemplate\n",
    "from langchain.agents import AgentExecutor\n",
    "\n",
    "llm = ChatCohere()\n",
    "\n",
    "internet_search = TavilySearchResults(max_results=4)\n",
    "internet_search.name = \"internet_search\"\n",
    "internet_search.description = \"Route a user query to the internet\"\n",
    "\n",
    "prompt = ChatPromptTemplate.from_template(\"{input}\")\n",
    "\n",
    "agent = create_cohere_react_agent(\n",
    "    llm,\n",
    "    [internet_search],\n",
    "    prompt\n",
    ")\n",
    "\n",
    "agent_executor = AgentExecutor(agent=agent, tools=[internet_search], verbose=True)\n",
    "\n",
    "agent_executor.invoke({\n",
    "    \"input\": \"When has Palantir had its IPO at the NYSE?\",\n",
    "})"
   ]
  },
  {
   "cell_type": "markdown",
   "metadata": {},
   "source": [
    "Wikipedia Tool"
   ]
  },
  {
   "cell_type": "code",
   "execution_count": 13,
   "metadata": {},
   "outputs": [
    {
     "name": "stdout",
     "output_type": "stream",
     "text": [
      "\n",
      "\n",
      "\u001b[1m> Entering new AgentExecutor chain...\u001b[0m\n",
      "\u001b[32;1m\u001b[1;3m\n",
      "I will search for 'Kahnemann and Tversky theory' and write an answer based on what I find.\n",
      "{'tool_name': 'wiki-tool', 'parameters': {'query': 'Kahnemann and Tversky theory'}}\n",
      "\u001b[0m\u001b[36;1m\u001b[1;3mPage: Daniel Kahneman\n",
      "Summary: Daniel Kahneman (; Hebrew: דניאל כהנמן; March 5, 1934 – March 27, 2024) was an Israeli-American cognitive scientist best-known for his work on the psychology of judgment and decision-making. He is also known for his work in behavioral economics, for which he was awarded the 2002 Nobel Memorial Prize in Economic Sciences together with Vernon L. Smith. Kahneman's published empirical findings challenge the assumption of human rationality prevailing in modern economic theory. Kahneman became known as the \"grandfather of behavioral economics.\"\n",
      "With Amos Tversky and others, Kahneman established a cognitive basis for common human errors that arise from heuristics and biases, and developed prospect theory. In 2011, Kahneman was named by Foreign Policy magazine in its list of top global thinkers. In the same year, his book Thinking, Fast and Slow, which summarizes much of his research, was published and became a best seller. In 2015, The Economist listed him as the seventh most influential economist in the world.\n",
      "Kahneman was professor emeritus of psychology and public affairs at Princeton University's Princeton School of Public and International Affairs. Kahneman was a founding partner of TGG Group, a business and philanthropy consulting company. He was married to cognitive psychologist and Royal Society Fellow Anne Treisman, who died in 2018.\n",
      "\n",
      "\u001b[0m\n",
      "\u001b[32;1m\u001b[1;3m\u001b[0m\n",
      "\n",
      "\u001b[1m> Finished chain.\u001b[0m\n"
     ]
    }
   ],
   "source": [
    "from langchain_core.pydantic_v1 import BaseModel, Field\n",
    "from langchain_community.tools import WikipediaQueryRun\n",
    "from langchain_community.utilities import WikipediaAPIWrapper\n",
    "\n",
    "api_wrapper = WikipediaAPIWrapper(top_k_results=1)\n",
    "\n",
    "class WikiInputs(BaseModel):\n",
    "    \"\"\"Inputs to the wikipedia tool.\"\"\"\n",
    "\n",
    "    query: str = Field(\n",
    "        description=\"query to look up in Wikipedia\"\n",
    "    )\n",
    "    \n",
    "wikipedia_tool = WikipediaQueryRun(\n",
    "    name=\"wiki-tool\",\n",
    "    description=\"look up things in wikipedia\",\n",
    "    args_schema=WikiInputs,\n",
    "    api_wrapper=api_wrapper,\n",
    "    return_direct=True,\n",
    ")\n",
    "\n",
    "prompt = ChatPromptTemplate.from_template(\"{input}\")\n",
    "\n",
    "agent = create_cohere_react_agent(\n",
    "    llm,\n",
    "    [wikipedia_tool],\n",
    "    prompt\n",
    ")\n",
    "\n",
    "agent_executor = AgentExecutor(agent=agent, tools=[wikipedia_tool], verbose=True)\n",
    "\n",
    "response = agent_executor.invoke({\n",
    "                \"input\": \"Explain the theory of Kahnemann and Tversky\",\n",
    "            })"
   ]
  },
  {
   "cell_type": "markdown",
   "metadata": {},
   "source": [
    "Run tool without agent"
   ]
  },
  {
   "cell_type": "code",
   "execution_count": 14,
   "metadata": {},
   "outputs": [
    {
     "data": {
      "text/plain": [
       "\"Page: David Beckham\\nSummary: David Robert Joseph Beckham  ( BEK-əm; born 2 May 1975) is an English former professional footballer, the president and co-owner of Inter Miami CF and co-owner of Salford City. Primarily a right winger and known for his range of passing, crossing ability and free-kick taking, Beckham has been hailed as one of the greatest and most recognisable midfielders of his generation, as well as one of the best free-kick takers of all time. He won 19 major trophies in his career, and is the first English player to win league titles in four different countries: England, Spain, the United States and France.\\nBeckham's professional club career began with Manchester United, where he made his first-team debut in 1992 at age 17. With United, he won the Premier League title six times, the FA Cup twice, the FA Charity Shield twice, the Intercontinental Cup and the UEFA Champions League in 1999. He then played four seasons with Real Madrid, winning the La Liga championship in his final season with the club. In July 2007, Beckham signed a five-year contract with Major League Soccer club LA Galaxy. While a Galaxy player, he spent two loan spells in Italy with AC Milan in 2009 and 2010. He became the first British footballer to play 100 UEFA Champions League games. He retired in May 2013 after a 20-year career.\\nIn international football, Beckham made his England debut on 1 September 1996, at the age of 21. He was captain for six years, earning 58 caps during his tenure. He made 115 career appearances in total, appearing at three FIFA World Cups in 1998, 2002 and 2006 as well as two UEFA European Championships in 2000 and 2004. Beckham held the England appearance record for an outfield player until 2016.\\nA global ambassador of football, Beckham is considered to be a British cultural icon. He has been in a well publicised marriage to Victoria Beckham since 1999 and was consistently ranked among the highest earners in football, in 2013 being listed as the highest-paid player in the world having earned over $50 million in the previous twelve months. Beckham was runner-up in the Ballon d'Or in 1999, twice runner-up for FIFA World Player of the Year (1999 and 2001) and in 2004 was named by Pelé in the FIFA 100 list of the world's greatest living players. He was inducted into the English Football Hall of Fame in 2008, and the Premier League Hall of Fame in 2021. He has been a UNICEF ambassador since 2005, and in 2015 he launched 7: The David Beckham UNICEF Fund. In 2014, MLS announced that Beckham and a group of investors would own Inter Miami, which began playing in 2020.\\n\\n\""
      ]
     },
     "execution_count": 14,
     "metadata": {},
     "output_type": "execute_result"
    }
   ],
   "source": [
    "wikipedia_tool.run(\"David Beckham\")"
   ]
  },
  {
   "cell_type": "markdown",
   "metadata": {},
   "source": [
    "Openweathermap Tool"
   ]
  },
  {
   "cell_type": "code",
   "execution_count": 15,
   "metadata": {},
   "outputs": [
    {
     "name": "stdout",
     "output_type": "stream",
     "text": [
      "\n",
      "\n",
      "\u001b[1m> Entering new AgentExecutor chain...\u001b[0m\n",
      "\u001b[32;1m\u001b[1;3m\n",
      "I will use the Open Weather Map tool to find out the weather in London.\n",
      "{'tool_name': 'open_weather_map', 'parameters': {'location': 'London'}}\n",
      "\u001b[0m\u001b[36;1m\u001b[1;3mIn London, the current weather is as follows:\n",
      "Detailed status: overcast clouds\n",
      "Wind speed: 3.13 m/s, direction: 187°\n",
      "Humidity: 84%\n",
      "Temperature: \n",
      "  - Current: 16.68°C\n",
      "  - High: 18.33°C\n",
      "  - Low: 14.98°C\n",
      "  - Feels like: 16.6°C\n",
      "Rain: {}\n",
      "Heat index: None\n",
      "Cloud cover: 100%\u001b[0m\u001b[32;1m\u001b[1;3mRelevant Documents: 0\n",
      "Cited Documents: 0\n",
      "Answer: The weather in London is currently overcast with a temperature of 16.68°C.\n",
      "Grounded answer: The weather in London is currently <co: 0>overcast</co: 0> with a <co: 0>temperature of 16.68°C</co: 0>.\u001b[0m\n",
      "\n",
      "\u001b[1m> Finished chain.\u001b[0m\n"
     ]
    }
   ],
   "source": [
    "import os\n",
    "import streamlit as st\n",
    "from langchain_core.prompts import ChatPromptTemplate\n",
    "from langchain.agents import AgentType, initialize_agent, load_tools\n",
    "from langchain_cohere import ChatCohere, create_cohere_react_agent\n",
    "\n",
    "llm = ChatCohere()\n",
    "\n",
    "prompt = ChatPromptTemplate.from_template(\"{input}\")\n",
    "\n",
    "\n",
    "tools = load_tools([\"openweathermap-api\"], llm)\n",
    "tools.append(wikipedia_tool)\n",
    "\n",
    "\n",
    "agent = create_cohere_react_agent(\n",
    "    tools=tools, llm=llm, prompt=prompt\n",
    ")\n",
    "\n",
    "agent_executor = AgentExecutor(agent=agent, tools=tools, verbose=True)\n",
    "\n",
    "response = agent_executor.invoke({\"input\": \"How is the weather in London?\"})"
   ]
  },
  {
   "cell_type": "markdown",
   "metadata": {},
   "source": [
    "Access Output"
   ]
  },
  {
   "cell_type": "code",
   "execution_count": 16,
   "metadata": {},
   "outputs": [
    {
     "data": {
      "text/plain": [
       "'The weather in London is currently overcast with a temperature of 16.68°C.'"
      ]
     },
     "execution_count": 16,
     "metadata": {},
     "output_type": "execute_result"
    }
   ],
   "source": [
    "response[\"output\"]"
   ]
  },
  {
   "cell_type": "markdown",
   "metadata": {},
   "source": [
    "Multiple Tools"
   ]
  },
  {
   "cell_type": "code",
   "execution_count": 17,
   "metadata": {},
   "outputs": [],
   "source": [
    "tools = load_tools([\"openweathermap-api\"], llm)\n",
    "internet_search = TavilySearchResults(max_results=4)\n",
    "internet_search.name = \"internet_search\"\n",
    "internet_search.description = \"Route a user query to the internet\"\n",
    "tools.append(internet_search)\n",
    "tools.append(wikipedia_tool)"
   ]
  },
  {
   "cell_type": "markdown",
   "metadata": {},
   "source": [
    "Multiple Tool Use\n",
    "1. wiki-tool\n",
    "2. open_weather_map\n",
    "3. internet_search"
   ]
  },
  {
   "cell_type": "code",
   "execution_count": 21,
   "metadata": {},
   "outputs": [
    {
     "name": "stdout",
     "output_type": "stream",
     "text": [
      "\n",
      "\n",
      "\u001b[1m> Entering new AgentExecutor chain...\u001b[0m\n",
      "\u001b[32;1m\u001b[1;3m\n",
      "I will use the Wikipedia tool to answer this question.\n",
      "{'tool_name': 'wiki-tool', 'parameters': {'query': 'Who was George Washington?'}}\n",
      "\u001b[0m\u001b[38;5;200m\u001b[1;3mPage: George Washington Carver\n",
      "Summary: George Washington Carver (c. 1864 – January 5, 1943) was an American agricultural scientist and inventor who promoted alternative crops to cotton and methods to prevent soil depletion. He was one of the most prominent black scientists of the early 20th century.\n",
      "While a professor at Tuskegee Institute, Carver developed techniques to improve types of soils depleted by repeated plantings of cotton. He wanted poor farmers to grow other crops, such as peanuts and sweet potatoes, as a source of their own food and to improve their quality of life. Under his leadership, the Experiment Station at Tuskegee published over forty practical bulletins for farmers, many written by him, which included recipes; many of the bulletins contained advice for poor farmers, including combating soil depletion with limited financial means, producing bigger crops, and preserving food.\n",
      "Apart from his work to improve the lives of farmers, Carver was also a leader in promoting environmentalism. He received numerous honors for his work, including the Spingarn Medal of the NAACP. In an era of high racial polarization, his fame reached beyond the black community. He was widely recognized and praised in the white community for his many achievements and talents. In 1941, Time magazine dubbed Carver a \"Black Leonardo\".\n",
      "Color film of Carver shot in 1937 at the Tuskegee Institute by African American surgeon Allen Alexander was added to the National Film Registry of the Library of Congress in 2019. The 12 minutes of footage includes Carver in his apartment, office and laboratory, as well as images of him tending flowers and displaying his paintings.\u001b[0m\n",
      "\u001b[32;1m\u001b[1;3m\u001b[0m\n",
      "\n",
      "\u001b[1m> Finished chain.\u001b[0m\n",
      "{'input': 'Who was George Washington?', 'output': 'Page: George Washington Carver\\nSummary: George Washington Carver (c. 1864 – January 5, 1943) was an American agricultural scientist and inventor who promoted alternative crops to cotton and methods to prevent soil depletion. He was one of the most prominent black scientists of the early 20th century.\\nWhile a professor at Tuskegee Institute, Carver developed techniques to improve types of soils depleted by repeated plantings of cotton. He wanted poor farmers to grow other crops, such as peanuts and sweet potatoes, as a source of their own food and to improve their quality of life. Under his leadership, the Experiment Station at Tuskegee published over forty practical bulletins for farmers, many written by him, which included recipes; many of the bulletins contained advice for poor farmers, including combating soil depletion with limited financial means, producing bigger crops, and preserving food.\\nApart from his work to improve the lives of farmers, Carver was also a leader in promoting environmentalism. He received numerous honors for his work, including the Spingarn Medal of the NAACP. In an era of high racial polarization, his fame reached beyond the black community. He was widely recognized and praised in the white community for his many achievements and talents. In 1941, Time magazine dubbed Carver a \"Black Leonardo\".\\nColor film of Carver shot in 1937 at the Tuskegee Institute by African American surgeon Allen Alexander was added to the National Film Registry of the Library of Congress in 2019. The 12 minutes of footage includes Carver in his apartment, office and laboratory, as well as images of him tending flowers and displaying his paintings.'}\n",
      "\n",
      "\n",
      "\u001b[1m> Entering new AgentExecutor chain...\u001b[0m\n",
      "\u001b[32;1m\u001b[1;3m\n",
      "I will use the open_weather_map tool to find out what the weather is like in Mortugaba, Bahia, Brazil.\n",
      "{'tool_name': 'open_weather_map', 'parameters': {'location': 'Mortugaba, Bahia, Brazil'}}\n",
      "\u001b[0m\u001b[36;1m\u001b[1;3mIn Mortugaba, Bahia, Brazil, the current weather is as follows:\n",
      "Detailed status: overcast clouds\n",
      "Wind speed: 1.79 m/s, direction: 140°\n",
      "Humidity: 98%\n",
      "Temperature: \n",
      "  - Current: 15.35°C\n",
      "  - High: 15.35°C\n",
      "  - Low: 15.35°C\n",
      "  - Feels like: 15.5°C\n",
      "Rain: {}\n",
      "Heat index: None\n",
      "Cloud cover: 100%\u001b[0m\u001b[32;1m\u001b[1;3mRelevant Documents: 0\n",
      "Cited Documents: 0\n",
      "Answer: In Mortugaba, Bahia, Brazil, the weather is currently overcast with a temperature of 15.35°C. It is 98% humid, with a wind speed of 1.79 m/s.\n",
      "Grounded answer: In Mortugaba, Bahia, Brazil, the weather is currently <co: 0>overcast</co: 0> with a <co: 0>temperature of 15.35°C</co: 0>. It is <co: 0>98% humid</co: 0>, with a <co: 0>wind speed of 1.79 m/s</co: 0>.\u001b[0m\n",
      "\n",
      "\u001b[1m> Finished chain.\u001b[0m\n",
      "{'input': \"What's the weather like in Mortugaba, Bahia, Brazil?\", 'output': 'In Mortugaba, Bahia, Brazil, the weather is currently overcast with a temperature of 15.35°C. It is 98% humid, with a wind speed of 1.79 m/s.', 'citations': [CohereCitation(start=54, end=62, text='overcast', documents=[{'output': 'In Mortugaba, Bahia, Brazil, the current weather is as follows:\\nDetailed status: overcast clouds\\nWind speed: 1.79 m/s, direction: 140°\\nHumidity: 98%\\nTemperature: \\n  - Current: 15.35°C\\n  - High: 15.35°C\\n  - Low: 15.35°C\\n  - Feels like: 15.5°C\\nRain: {}\\nHeat index: None\\nCloud cover: 100%', 'id': 'doc_0'}], document_ids={'doc_0'}), CohereCitation(start=70, end=92, text='temperature of 15.35°C', documents=[{'output': 'In Mortugaba, Bahia, Brazil, the current weather is as follows:\\nDetailed status: overcast clouds\\nWind speed: 1.79 m/s, direction: 140°\\nHumidity: 98%\\nTemperature: \\n  - Current: 15.35°C\\n  - High: 15.35°C\\n  - Low: 15.35°C\\n  - Feels like: 15.5°C\\nRain: {}\\nHeat index: None\\nCloud cover: 100%', 'id': 'doc_0'}], document_ids={'doc_0'}), CohereCitation(start=100, end=109, text='98% humid', documents=[{'output': 'In Mortugaba, Bahia, Brazil, the current weather is as follows:\\nDetailed status: overcast clouds\\nWind speed: 1.79 m/s, direction: 140°\\nHumidity: 98%\\nTemperature: \\n  - Current: 15.35°C\\n  - High: 15.35°C\\n  - Low: 15.35°C\\n  - Feels like: 15.5°C\\nRain: {}\\nHeat index: None\\nCloud cover: 100%', 'id': 'doc_0'}], document_ids={'doc_0'}), CohereCitation(start=118, end=140, text='wind speed of 1.79 m/s', documents=[{'output': 'In Mortugaba, Bahia, Brazil, the current weather is as follows:\\nDetailed status: overcast clouds\\nWind speed: 1.79 m/s, direction: 140°\\nHumidity: 98%\\nTemperature: \\n  - Current: 15.35°C\\n  - High: 15.35°C\\n  - Low: 15.35°C\\n  - Feels like: 15.5°C\\nRain: {}\\nHeat index: None\\nCloud cover: 100%', 'id': 'doc_0'}], document_ids={'doc_0'})]}\n",
      "\n",
      "\n",
      "\u001b[1m> Entering new AgentExecutor chain...\u001b[0m\n",
      "\u001b[32;1m\u001b[1;3m\n",
      "I will search for 'news 4th June 2024' and write an answer based on the results.\n",
      "{'tool_name': 'internet_search', 'parameters': {'query': 'news 4th june 2024'}}\n",
      "\u001b[0m\u001b[33;1m\u001b[1;3m[{'url': 'https://www.nasa.gov/2024-news-releases/', 'content': 'Deep Space Network Turns 60 and Prepares for the Future\\nMissions\\nHumans in Space\\nEarth & Climate\\nThe Solar System\\nThe Universe\\nScience\\nAeronautics\\nTechnology\\nLearning Resources\\nAbout NASA\\nEspañol\\nNews & Events\\nMultimedia\\nHighlights\\nCommercial Lunar Payload Services\\nNASA Sending Five Payloads to Moon on Astrobotic’s Peregrine Lander\\nNASA Adjusts Agreements to Benefit Commercial Station Development\\nHighlights\\nNASA Adjusts Agreements to Benefit Commercial Station Development\\nFormer Astronaut Ronald E. McNair\\nAn Apollo 8 Christmas Dinner Surprise: Turkey and Gravy Make Space History\\nHighlights\\nCommercial Lunar Payload Services\\nCLPS Deliveries\\nNASA Sending Five Payloads to Moon on Astrobotic’s Peregrine Lander\\nHighlights\\nSave the Date: Sending Five Payloads to Moon on Astrobotic’s Peregrine Lander\\nHighlights\\nCommercial Lunar Payload Services\\nCLPS Deliveries\\nNASA Sending Five Payloads to Moon on Astrobotic’s Peregrine Lander\\nHighlights\\nNASA Invites You to X-59 Rollout Watch Party\\nNASA Aeronautics Highlights for 2023\\nNASA Flies Drones Autonomously for Air Taxi Research\\nHighlights\\nNASA’s In 2023, as NASA pushed the limits of exploration for the benefit of humanity, the agency celebrated astronaut Frank Rubio becoming the first American astronaut to spend more than one year in space; delivered samples from an asteroid to Earth;…\\nThe National Aeronautics and Space Administration\\nNASA explores the unknown in air and space, innovates for the benefit of humanity, and inspires the world through discovery.\\n Monthly e-Newsletter With Earth and Climate Science Resources\\nHighlights\\nJoshua Schlieder: Feet on the Ground, Head in the Stars\\nNASA’s Agency Chief Technologist presents their first annual year-in-review for 2023\\nKennedy Space Center Looks Ahead to a Busy Year in 2024\\nFeatured\\nCiencia destacada del año en el espacio del astronauta Review 2023 News Releases\\n2024 NASA News Releases\\nNASA, United Arab Emirates Announce Artemis Lunar Gateway Airlock\\nNASA and the Mohammed bin Rashid Space Centre (MBRSC) of the United Arab Emirates (UAE) announced Sunday plans for the space centre to provide an airlock for Gateway, humanity’s first space station that will orbit the Moon.'}, {'url': 'https://www.usatoday.com/story/news/politics/elections/2024/05/30/2024-primary-election-preview/73890673007/', 'content': '1:24. The U.S. presidential primary season continues, with five states and the District of Columbia holding their elections on June 4. Voters in D.C., Iowa, Montana, New Jersey, New Mexico and ...'}, {'url': 'https://www.hindustantimes.com/india-news/election-results-2024-live-updates-india-general-elections-results-today-latest-news-04-june-2024-101717452970179.html', 'content': 'Election Results 2024 LIVE News: In Kerala, Congress-led UDF leads in 6 seats, LDF in 4 and BJP 1 Election Results 2024 LIVE News: According to initial trends, BJP is leading in one seat in Kerala.'}, {'url': 'https://www.indiatvnews.com/news/india/assembly-election-results-2024-andhra-pradesh-and-odisha-results-to-be-declared-on-june-4-check-details-2024-06-03-934898', 'content': 'Assembly Election 2024: The counting of votes for the Assembly elections in Andhra Pradesh and Odisha will take place on June 4 along with the counting of votes for the Lok Sabha Elections 2024 ...'}]\u001b[0m\u001b[32;1m\u001b[1;3mRelevant Documents: 1,2,3\n",
      "Cited Documents: 1,2,3\n",
      "Answer: Today's news includes election results from India and the US. In the US, five states and the District of Columbia are holding their elections. In India, the Congress-led UDF leads in 6 seats in Kerala, with the LDF in 4 and BJP in 1.\n",
      "Grounded answer: Today's news includes <co: 2,3>election results from India</co: 2,3> and the <co: 1>US</co: 1>. In the US, <co: 1>five states and the District of Columbia are holding their elections</co: 1>. In India, the <co: 2>Congress-led UDF leads in 6 seats in Kerala, with the LDF in 4 and BJP in 1</co: 2>.\u001b[0m\n",
      "\n",
      "\u001b[1m> Finished chain.\u001b[0m\n",
      "{'input': 'Whats in the news today?', 'output': \"Today's news includes election results from India and the US. In the US, five states and the District of Columbia are holding their elections. In India, the Congress-led UDF leads in 6 seats in Kerala, with the LDF in 4 and BJP in 1.\", 'citations': [CohereCitation(start=22, end=49, text='election results from India', documents=[{'url': 'https://www.hindustantimes.com/india-news/election-results-2024-live-updates-india-general-elections-results-today-latest-news-04-june-2024-101717452970179.html', 'content': 'Election Results 2024 LIVE News: In Kerala, Congress-led UDF leads in 6 seats, LDF in 4 and BJP 1 Election Results 2024 LIVE News: According to initial trends, BJP is leading in one seat in Kerala.', 'id': 'doc_2'}, {'url': 'https://www.indiatvnews.com/news/india/assembly-election-results-2024-andhra-pradesh-and-odisha-results-to-be-declared-on-june-4-check-details-2024-06-03-934898', 'content': 'Assembly Election 2024: The counting of votes for the Assembly elections in Andhra Pradesh and Odisha will take place on June 4 along with the counting of votes for the Lok Sabha Elections 2024 ...', 'id': 'doc_3'}], document_ids={'doc_2', 'doc_3'}), CohereCitation(start=58, end=60, text='US', documents=[{'url': 'https://www.usatoday.com/story/news/politics/elections/2024/05/30/2024-primary-election-preview/73890673007/', 'content': '1:24. The U.S. presidential primary season continues, with five states and the District of Columbia holding their elections on June 4. Voters in D.C., Iowa, Montana, New Jersey, New Mexico and ...', 'id': 'doc_1'}], document_ids={'doc_1'}), CohereCitation(start=73, end=141, text='five states and the District of Columbia are holding their elections', documents=[{'url': 'https://www.usatoday.com/story/news/politics/elections/2024/05/30/2024-primary-election-preview/73890673007/', 'content': '1:24. The U.S. presidential primary season continues, with five states and the District of Columbia holding their elections on June 4. Voters in D.C., Iowa, Montana, New Jersey, New Mexico and ...', 'id': 'doc_1'}], document_ids={'doc_1'}), CohereCitation(start=157, end=232, text='Congress-led UDF leads in 6 seats in Kerala, with the LDF in 4 and BJP in 1', documents=[{'url': 'https://www.hindustantimes.com/india-news/election-results-2024-live-updates-india-general-elections-results-today-latest-news-04-june-2024-101717452970179.html', 'content': 'Election Results 2024 LIVE News: In Kerala, Congress-led UDF leads in 6 seats, LDF in 4 and BJP 1 Election Results 2024 LIVE News: According to initial trends, BJP is leading in one seat in Kerala.', 'id': 'doc_2'}], document_ids={'doc_2'})]}\n",
      "\n",
      "\n",
      "\u001b[1m> Entering new AgentExecutor chain...\u001b[0m\n",
      "\u001b[32;1m\u001b[1;3m\n",
      "I will search for how the Microsoft stock is performing using the Wikipedia tool. If this does not provide any results, I will use the internet search tool.\n",
      "{'tool_name': 'wiki-tool', 'parameters': {'query': 'How does the Microsoft stock perform?'}}\n",
      "\u001b[0m\u001b[38;5;200m\u001b[1;3mPage: Microsoft Bing\n",
      "Summary: Microsoft Bing, commonly referred to as Bing, is a search engine owned and operated by Microsoft. The service traces its roots back to Microsoft's earlier search engines, including MSN Search, Windows Live Search, and Live Search. Bing offers a broad spectrum of search services, encompassing web, video, image, and map search products, all developed using ASP.NET.\n",
      "The transition from Live Search to Bing was announced by Microsoft CEO Steve Ballmer on May 28, 2009, at the All Things Digital conference in San Diego, California. The official release followed on June 3, 2009. Bing introduced several notable features at its inception, such as search suggestions during query input and a list of related searches, known as the 'Explore pane'. These features leveraged semantic technology from Powerset, a company Microsoft acquired in 2008. Microsoft also struck a deal with Yahoo! that led to Bing powering Yahoo! Search.\n",
      "Microsoft made significant strides towards open-source technology in 2016, making the BitFunnel search engine indexing algorithm and various components of Bing open source. In February 2023, Microsoft launched Bing Chat (later renamed Microsoft Copilot), an artificial intelligence chatbot experience based on GPT-4, integrated directly into the search engine. This was well-received, with Bing reaching 100 million active users by the following month. \n",
      "As of April 2024, Bing holds the position of the second-largest search engine worldwide, with a market share of 3.64%, behind Google's 90.91%. Other competitors include Yandex with 1.61%, Baidu with 1.15%, and Yahoo!, which is largely powered by Bing, with 1.13%.\n",
      "\n",
      "\u001b[0m\n",
      "\u001b[32;1m\u001b[1;3m\u001b[0m\n",
      "\n",
      "\u001b[1m> Finished chain.\u001b[0m\n",
      "{'input': 'How does the Microsoft stock perform?', 'output': \"Page: Microsoft Bing\\nSummary: Microsoft Bing, commonly referred to as Bing, is a search engine owned and operated by Microsoft. The service traces its roots back to Microsoft's earlier search engines, including MSN Search, Windows Live Search, and Live Search. Bing offers a broad spectrum of search services, encompassing web, video, image, and map search products, all developed using ASP.NET.\\nThe transition from Live Search to Bing was announced by Microsoft CEO Steve Ballmer on May 28, 2009, at the All Things Digital conference in San Diego, California. The official release followed on June 3, 2009. Bing introduced several notable features at its inception, such as search suggestions during query input and a list of related searches, known as the 'Explore pane'. These features leveraged semantic technology from Powerset, a company Microsoft acquired in 2008. Microsoft also struck a deal with Yahoo! that led to Bing powering Yahoo! Search.\\nMicrosoft made significant strides towards open-source technology in 2016, making the BitFunnel search engine indexing algorithm and various components of Bing open source. In February 2023, Microsoft launched Bing Chat (later renamed Microsoft Copilot), an artificial intelligence chatbot experience based on GPT-4, integrated directly into the search engine. This was well-received, with Bing reaching 100 million active users by the following month. \\nAs of April 2024, Bing holds the position of the second-largest search engine worldwide, with a market share of 3.64%, behind Google's 90.91%. Other competitors include Yandex with 1.61%, Baidu with 1.15%, and Yahoo!, which is largely powered by Bing, with 1.13%.\\n\\n\"}\n"
     ]
    }
   ],
   "source": [
    "prompt = ChatPromptTemplate.from_template(\"Use the right tool to answer the following question. If wikipedia_tool delivers no result use internet_search: {input}\")\n",
    "agent = create_cohere_react_agent(\n",
    "    tools=tools, llm=llm, prompt=prompt\n",
    ")\n",
    "\n",
    "agent_executor = AgentExecutor(agent=agent, tools=tools, verbose=True)\n",
    "\n",
    "print(agent_executor.invoke({\"input\": \"Who was George Washington?\"}))\n",
    "print(agent_executor.invoke({\"input\": \"What's the weather like in Mortugaba, Bahia, Brazil?\"}))\n",
    "print(agent_executor.invoke({\"input\": \"Whats in the news today?\"}))\n",
    "print(agent_executor.invoke({\"input\": \"How did the Microsoft stock perform last week?\"}))"
   ]
  },
  {
   "cell_type": "markdown",
   "metadata": {},
   "source": [
    "Alpha Vantage Tool"
   ]
  },
  {
   "cell_type": "code",
   "execution_count": 65,
   "metadata": {},
   "outputs": [
    {
     "data": {
      "text/plain": [
       "{'bestMatches': [{'1. symbol': 'AMSC',\n",
       "   '2. name': 'American Superconductor Corp',\n",
       "   '3. type': 'Equity',\n",
       "   '4. region': 'United States',\n",
       "   '5. marketOpen': '09:30',\n",
       "   '6. marketClose': '16:00',\n",
       "   '7. timezone': 'UTC-04',\n",
       "   '8. currency': 'USD',\n",
       "   '9. matchScore': '0.9020'},\n",
       "  {'1. symbol': 'AMS1.FRK',\n",
       "   '2. name': 'American Superconductor Corporation',\n",
       "   '3. type': 'Equity',\n",
       "   '4. region': 'Frankfurt',\n",
       "   '5. marketOpen': '08:00',\n",
       "   '6. marketClose': '20:00',\n",
       "   '7. timezone': 'UTC+02',\n",
       "   '8. currency': 'EUR',\n",
       "   '9. matchScore': '0.7931'}]}"
      ]
     },
     "execution_count": 65,
     "metadata": {},
     "output_type": "execute_result"
    }
   ],
   "source": [
    "from langchain_community.utilities.alpha_vantage import AlphaVantageAPIWrapper\n",
    "alpha_vantage = AlphaVantageAPIWrapper()\n",
    "# alpha_vantage._get_exchange_rate(\"USD\", \"JPY\")\n",
    "# alpha_vantage._get_time_series_daily(\"MSFT\")\n",
    "# alpha_vantage._get_time_series_weekly(\"IBM\")\n",
    "alpha_vantage.search_symbols(\"American Superconductor\")\n",
    "# alpha_vantage._get_market_news_sentiment(\"Microsoft\")\n",
    "# alpha_vantage._get_top_gainers_losers()"
   ]
  },
  {
   "cell_type": "markdown",
   "metadata": {},
   "source": [
    "Tool using Alpha Vantage"
   ]
  },
  {
   "cell_type": "code",
   "execution_count": 66,
   "metadata": {},
   "outputs": [],
   "source": [
    "from langchain.agents import Tool\n",
    "\n",
    "def search_symbols(query: str) -> str:\n",
    "    \"\"\"Searches a stock market symbol or a company.\"\"\"\n",
    "    alpha_vantage = AlphaVantageAPIWrapper()\n",
    "    return alpha_vantage.search_symbols(query)\n",
    "\n",
    "\n",
    "\n",
    "description = (\n",
    "    \"Useful for when you need to search for a company or a stock symbol. \"\n",
    "    \"Useful if somebody asks 'How is the stock market symbol for...' \"    \n",
    "    \"Useful if somebody asks 'For which company stands this stock symbol...' \"\n",
    ")\n",
    "\n",
    "av_search_symbols = Tool(\n",
    "    name=\"av_search_symbols\",  # We'll just call it 'Data'\n",
    "    func=search_symbols,\n",
    "    description=description,\n",
    ")\n",
    "\n",
    "tools = load_tools([\"openweathermap-api\"], llm)\n",
    "internet_search = TavilySearchResults(max_results=4)\n",
    "internet_search.name = \"internet_search\"\n",
    "internet_search.description = \"Route a user query to the internet\"\n",
    "tools.append(internet_search)\n",
    "tools.append(wikipedia_tool)\n",
    "tools.append(av_search_symbols)\n",
    "\n"
   ]
  },
  {
   "cell_type": "code",
   "execution_count": 67,
   "metadata": {},
   "outputs": [
    {
     "data": {
      "text/plain": [
       "[OpenWeatherMapQueryRun(api_wrapper=OpenWeatherMapAPIWrapper(owm=<pyowm.owm.OWM - API key=************************77bc3a62, subscription type=free, PyOWM version=(3, 3, 0)>, openweathermap_api_key=None)),\n",
       " TavilySearchResults(name='internet_search', description='Route a user query to the internet', max_results=4),\n",
       " WikipediaQueryRun(name='wiki-tool', description='look up things in wikipedia', args_schema=<class '__main__.WikiInputs'>, return_direct=True, api_wrapper=WikipediaAPIWrapper(wiki_client=<module 'wikipedia' from 'c:\\\\App\\\\Anaconda\\\\envs\\\\cohere\\\\Lib\\\\site-packages\\\\wikipedia\\\\__init__.py'>, top_k_results=1, lang='en', load_all_available_meta=False, doc_content_chars_max=4000)),\n",
       " Tool(name='av_search_symbols', description=\"Useful for when you need to search for a company or a stock symbol. Useful if somebody asks 'How is the stock market symbol for...' Useful if somebody asks 'For which company stands this stock symbol...' \", func=<function search_symbols at 0x0000017F00007420>)]"
      ]
     },
     "execution_count": 67,
     "metadata": {},
     "output_type": "execute_result"
    }
   ],
   "source": [
    "tools"
   ]
  },
  {
   "cell_type": "code",
   "execution_count": 68,
   "metadata": {},
   "outputs": [
    {
     "name": "stdout",
     "output_type": "stream",
     "text": [
      "\n",
      "\n",
      "\u001b[1m> Entering new AgentExecutor chain...\u001b[0m\n",
      "\u001b[32;1m\u001b[1;3m\n",
      "I will search for 'news 4 June 2024' and write an answer based on the results.\n",
      "{'tool_name': 'internet_search', 'parameters': {'query': 'news 4 june 2024'}}\n",
      "\u001b[0m\u001b[33;1m\u001b[1;3m[{'url': 'https://www.state.gov/public-schedule-june-4-2024/', 'content': 'Assistant Secretary Stewart is on travel to Singapore and Qatar from May 29-June 5, 2024. BRIEFING SCHEDULE. 1:15 p.m. Department Press Briefing with Spokesperson Matthew Miller. (OPEN PRESS COVERAGE) The Department Press Briefing will be streamed live on the Department homepage and YouTube Channel. Office of the Spokesperson The Secretary of ...'}, {'url': 'https://www.usatoday.com/story/news/politics/elections/2024/05/30/2024-primary-election-preview/73890673007/', 'content': '1:24. The U.S. presidential primary season continues, with five states and the District of Columbia holding their elections on June 4. Voters in D.C., Iowa, Montana, New Jersey, New Mexico and ...'}, {'url': 'https://www.desmoinesregister.com/story/news/politics/elections/2024/05/06/everything-to-know-about-the-june-4-2024-primary-election-in-iowa/73532289007/', 'content': \"Here's what you should know: Iowans will head to the polls June 4 to vote in primary elections for Congress, state legislative seats and countywide positions. But early voting officially kicks off ...\"}, {'url': 'https://www.hindustantimes.com/india-news/election-results-2024-live-updates-india-general-elections-results-today-latest-news-04-june-2024-101717452970179.html', 'content': \"4:06 AM IST, June 4 What do the exit polls indicate? ... Election Results 2024 LIVE News: In Chandni Chowk, Congress' JP Aggarwal is leading by 3,211 votes against BJP's Praveen Khandelwal.\"}]\u001b[0m\u001b[32;1m\u001b[1;3mRelevant Documents: 0,1,2,3\n",
      "Cited Documents: 0,1,2,3\n",
      "Answer: Here are some of the stories in the news today:\n",
      "- Assistant Secretary Stewart is travelling to Singapore and Qatar from May 29 to June 5.\n",
      "- The U.S. presidential primary season continues, with five states and the District of Columbia holding their elections today.\n",
      "- India's election results are coming in, with Congress' JP Aggarwal leading in Chandni Chowk.\n",
      "Grounded answer: Here are some of the stories in the news today:\n",
      "- <co: 0>Assistant Secretary Stewart is travelling to Singapore and Qatar from May 29 to June 5</co: 0>.\n",
      "- <co: 1,2>The U.S. presidential primary season continues, with five states and the District of Columbia holding their elections today</co: 1,2>.\n",
      "- <co: 3>India's election results are coming in, with Congress' JP Aggarwal leading in Chandni Chowk</co: 3>.\u001b[0m\n",
      "\n",
      "\u001b[1m> Finished chain.\u001b[0m\n",
      "{'input': 'Whats in the news today?', 'output': \"Here are some of the stories in the news today:\\n- Assistant Secretary Stewart is travelling to Singapore and Qatar from May 29 to June 5.\\n- The U.S. presidential primary season continues, with five states and the District of Columbia holding their elections today.\\n- India's election results are coming in, with Congress' JP Aggarwal leading in Chandni Chowk.\", 'citations': [CohereCitation(start=50, end=136, text='Assistant Secretary Stewart is travelling to Singapore and Qatar from May 29 to June 5', documents=[{'url': 'https://www.state.gov/public-schedule-june-4-2024/', 'content': 'Assistant Secretary Stewart is on travel to Singapore and Qatar from May 29-June 5, 2024. BRIEFING SCHEDULE. 1:15 p.m. Department Press Briefing with Spokesperson Matthew Miller. (OPEN PRESS COVERAGE) The Department Press Briefing will be streamed live on the Department homepage and YouTube Channel. Office of the Spokesperson The Secretary of ...', 'id': 'doc_0'}], document_ids={'doc_0'}), CohereCitation(start=140, end=263, text='The U.S. presidential primary season continues, with five states and the District of Columbia holding their elections today', documents=[{'url': 'https://www.usatoday.com/story/news/politics/elections/2024/05/30/2024-primary-election-preview/73890673007/', 'content': '1:24. The U.S. presidential primary season continues, with five states and the District of Columbia holding their elections on June 4. Voters in D.C., Iowa, Montana, New Jersey, New Mexico and ...', 'id': 'doc_1'}, {'url': 'https://www.desmoinesregister.com/story/news/politics/elections/2024/05/06/everything-to-know-about-the-june-4-2024-primary-election-in-iowa/73532289007/', 'content': \"Here's what you should know: Iowans will head to the polls June 4 to vote in primary elections for Congress, state legislative seats and countywide positions. But early voting officially kicks off ...\", 'id': 'doc_2'}], document_ids={'doc_1', 'doc_2'}), CohereCitation(start=267, end=358, text=\"India's election results are coming in, with Congress' JP Aggarwal leading in Chandni Chowk\", documents=[{'url': 'https://www.hindustantimes.com/india-news/election-results-2024-live-updates-india-general-elections-results-today-latest-news-04-june-2024-101717452970179.html', 'content': \"4:06 AM IST, June 4 What do the exit polls indicate? ... Election Results 2024 LIVE News: In Chandni Chowk, Congress' JP Aggarwal is leading by 3,211 votes against BJP's Praveen Khandelwal.\", 'id': 'doc_3'}], document_ids={'doc_3'})]}\n",
      "\n",
      "\n",
      "\u001b[1m> Entering new AgentExecutor chain...\u001b[0m\n",
      "\u001b[32;1m\u001b[1;3m\n",
      "I will use the av_search_symbols tool to find out which company the stock symbol MSFT stands for.\n",
      "{'tool_name': 'av_search_symbols', 'parameters': {'tool_input': 'MSFT'}}\n",
      "\u001b[0m\u001b[36;1m\u001b[1;3m{'bestMatches': [{'1. symbol': 'MSFT', '2. name': 'Microsoft Corporation', '3. type': 'Equity', '4. region': 'United States', '5. marketOpen': '09:30', '6. marketClose': '16:00', '7. timezone': 'UTC-04', '8. currency': 'USD', '9. matchScore': '1.0000'}, {'1. symbol': 'MSFT.AMS', '2. name': '1X MSFT', '3. type': 'ETF', '4. region': 'Amsterdam', '5. marketOpen': '09:00', '6. marketClose': '17:40', '7. timezone': 'UTC+01', '8. currency': 'EUR', '9. matchScore': '0.7273'}, {'1. symbol': 'MSFT34.SAO', '2. name': 'Microsoft Corporation', '3. type': 'Equity', '4. region': 'Brazil/Sao Paolo', '5. marketOpen': '10:00', '6. marketClose': '17:30', '7. timezone': 'UTC-03', '8. currency': 'BRL', '9. matchScore': '0.6154'}]}\u001b[0m\u001b[32;1m\u001b[1;3mRelevant Documents: 0\n",
      "Cited Documents: 0\n",
      "Answer: The stock symbol MSFT stands for Microsoft Corporation.\n",
      "Grounded answer: The stock symbol MSFT stands for <co: 0>Microsoft Corporation</co: 0>.\u001b[0m\n",
      "\n",
      "\u001b[1m> Finished chain.\u001b[0m\n",
      "{'input': 'Tell me for which company stands the symbol MSFT', 'output': 'The stock symbol MSFT stands for Microsoft Corporation.', 'citations': [CohereCitation(start=33, end=54, text='Microsoft Corporation', documents=[{'bestMatches': [{'1. symbol': 'MSFT', '2. name': 'Microsoft Corporation', '3. type': 'Equity', '4. region': 'United States', '5. marketOpen': '09:30', '6. marketClose': '16:00', '7. timezone': 'UTC-04', '8. currency': 'USD', '9. matchScore': '1.0000'}, {'1. symbol': 'MSFT.AMS', '2. name': '1X MSFT', '3. type': 'ETF', '4. region': 'Amsterdam', '5. marketOpen': '09:00', '6. marketClose': '17:40', '7. timezone': 'UTC+01', '8. currency': 'EUR', '9. matchScore': '0.7273'}, {'1. symbol': 'MSFT34.SAO', '2. name': 'Microsoft Corporation', '3. type': 'Equity', '4. region': 'Brazil/Sao Paolo', '5. marketOpen': '10:00', '6. marketClose': '17:30', '7. timezone': 'UTC-03', '8. currency': 'BRL', '9. matchScore': '0.6154'}], 'id': 'doc_0'}], document_ids={'doc_0'})]}\n",
      "\n",
      "\n",
      "\u001b[1m> Entering new AgentExecutor chain...\u001b[0m\n",
      "\u001b[32;1m\u001b[1;3m\n",
      "I will use the av_search_symbols tool to find the stock market symbol for Cameco Corp.\n",
      "{'tool_name': 'av_search_symbols', 'parameters': {'tool_input': 'Cameco Corp'}}\n",
      "\u001b[0m\u001b[36;1m\u001b[1;3m{'bestMatches': [{'1. symbol': 'CCJ', '2. name': 'Cameco Corp', '3. type': 'Equity', '4. region': 'United States', '5. marketOpen': '09:30', '6. marketClose': '16:00', '7. timezone': 'UTC-04', '8. currency': 'USD', '9. matchScore': '1.0000'}, {'1. symbol': 'CCO.FRK', '2. name': 'Cameco Corp', '3. type': 'Equity', '4. region': 'Frankfurt', '5. marketOpen': '08:00', '6. marketClose': '20:00', '7. timezone': 'UTC+02', '8. currency': 'EUR', '9. matchScore': '1.0000'}, {'1. symbol': 'CCO.TRT', '2. name': 'Cameco Corp', '3. type': 'Equity', '4. region': 'Toronto', '5. marketOpen': '09:30', '6. marketClose': '16:00', '7. timezone': 'UTC-05', '8. currency': 'CAD', '9. matchScore': '1.0000'}, {'1. symbol': '0R35.LON', '2. name': 'Cameco Corp.', '3. type': 'Equity', '4. region': 'United Kingdom', '5. marketOpen': '08:00', '6. marketClose': '16:30', '7. timezone': 'UTC+01', '8. currency': 'CAD', '9. matchScore': '0.9565'}, {'1. symbol': 'CJ6.FRK', '2. name': 'Cameco Corporation', '3. type': 'Equity', '4. region': 'Frankfurt', '5. marketOpen': '08:00', '6. marketClose': '20:00', '7. timezone': 'UTC+02', '8. currency': 'EUR', '9. matchScore': '0.7586'}]}\u001b[0m\u001b[32;1m\u001b[1;3mRelevant Documents: 0\n",
      "Cited Documents: 0\n",
      "Answer: The symbol for Cameco Corp is CCJ.\n",
      "Grounded answer: The symbol for Cameco Corp is <co: 0>CCJ</co: 0>.\u001b[0m\n",
      "\n",
      "\u001b[1m> Finished chain.\u001b[0m\n",
      "{'input': 'What is the symbol for Cameco Corp?', 'output': 'The symbol for Cameco Corp is CCJ.', 'citations': [CohereCitation(start=30, end=33, text='CCJ', documents=[{'bestMatches': [{'1. symbol': 'CCJ', '2. name': 'Cameco Corp', '3. type': 'Equity', '4. region': 'United States', '5. marketOpen': '09:30', '6. marketClose': '16:00', '7. timezone': 'UTC-04', '8. currency': 'USD', '9. matchScore': '1.0000'}, {'1. symbol': 'CCO.FRK', '2. name': 'Cameco Corp', '3. type': 'Equity', '4. region': 'Frankfurt', '5. marketOpen': '08:00', '6. marketClose': '20:00', '7. timezone': 'UTC+02', '8. currency': 'EUR', '9. matchScore': '1.0000'}, {'1. symbol': 'CCO.TRT', '2. name': 'Cameco Corp', '3. type': 'Equity', '4. region': 'Toronto', '5. marketOpen': '09:30', '6. marketClose': '16:00', '7. timezone': 'UTC-05', '8. currency': 'CAD', '9. matchScore': '1.0000'}, {'1. symbol': '0R35.LON', '2. name': 'Cameco Corp.', '3. type': 'Equity', '4. region': 'United Kingdom', '5. marketOpen': '08:00', '6. marketClose': '16:30', '7. timezone': 'UTC+01', '8. currency': 'CAD', '9. matchScore': '0.9565'}, {'1. symbol': 'CJ6.FRK', '2. name': 'Cameco Corporation', '3. type': 'Equity', '4. region': 'Frankfurt', '5. marketOpen': '08:00', '6. marketClose': '20:00', '7. timezone': 'UTC+02', '8. currency': 'EUR', '9. matchScore': '0.7586'}], 'id': 'doc_0'}], document_ids={'doc_0'})]}\n"
     ]
    }
   ],
   "source": [
    "prompt = ChatPromptTemplate.from_template(\"Use the right tool to answer the following question. If wikipedia_tool delivers no result use internet_search: {input}\")\n",
    "agent = create_cohere_react_agent(\n",
    "    tools=tools, llm=llm, prompt=prompt\n",
    ")\n",
    "\n",
    "agent_executor = AgentExecutor(agent=agent, tools=tools, verbose=True)\n",
    "\n",
    "\n",
    "print(agent_executor.invoke({\"input\": \"Whats in the news today?\"}))\n",
    "print(agent_executor.invoke({\"input\": \"Tell me for which company stands the symbol MSFT\"}))\n",
    "print(agent_executor.invoke({\"input\": \"What is the symbol for Cameco Corp?\"}))"
   ]
  }
 ],
 "metadata": {
  "kernelspec": {
   "display_name": "cohere",
   "language": "python",
   "name": "python3"
  },
  "language_info": {
   "codemirror_mode": {
    "name": "ipython",
    "version": 3
   },
   "file_extension": ".py",
   "mimetype": "text/x-python",
   "name": "python",
   "nbconvert_exporter": "python",
   "pygments_lexer": "ipython3",
   "version": "3.12.3"
  }
 },
 "nbformat": 4,
 "nbformat_minor": 2
}
