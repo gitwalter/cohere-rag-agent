{
 "cells": [
  {
   "cell_type": "markdown",
   "metadata": {},
   "source": [
    "# LangChain Cohere Agent using Tools"
   ]
  },
  {
   "cell_type": "markdown",
   "metadata": {},
   "source": [
    "## Install Libraries"
   ]
  },
  {
   "cell_type": "code",
   "execution_count": 1,
   "metadata": {},
   "outputs": [],
   "source": [
    "# ! pip install streamlit\n",
    "# ! pip install qdrant-client\n",
    "# ! pip install langchain\n",
    "# ! pip install langchain-community\n",
    "# ! pip install langchain-qdrant\n",
    "# ! pip install langchain-cohere\n",
    "# ! pip install tiktoken\n",
    "# ! pip install cohere\n",
    "# ! pip install bs4\n",
    "# ! pip install markdown\n",
    "# ! pip install wikipedia\n",
    "# ! pip install pyowm\n",
    "# ! pip install yfinance"
   ]
  },
  {
   "cell_type": "markdown",
   "metadata": {},
   "source": [
    "## Imports for Tool Use and Keys\n",
    "### API Keys\n",
    "* https://cohere.com/\n",
    "* https://www.alphavantage.co/\n",
    "* https://qdrant.tech/\n",
    "* https://openweathermap.org/\n",
    "* https://tavily.com/\n",
    "* https://polygon.io/\n"
   ]
  },
  {
   "cell_type": "code",
   "execution_count": 1,
   "metadata": {},
   "outputs": [],
   "source": [
    "from IPython.display import HTML\n",
    "import markdown\n",
    "import warnings\n",
    "import streamlit as st\n",
    "import os\n",
    "from langchain_cohere.llms import Cohere\n",
    "from langchain_core.messages import HumanMessage\n",
    "from langchain_core.prompts import ChatPromptTemplate\n",
    "from langchain_cohere import ChatCohere, create_cohere_react_agent\n",
    "from langchain_community.agent_toolkits.polygon.toolkit import PolygonToolkit\n",
    "from langchain_community.utilities.polygon import PolygonAPIWrapper\n",
    "from langchain.agents import AgentExecutor\n",
    "from cohere_tools import get_internet_search_tool, get_wikipedia_tool, get_openweathermap_tool\n",
    "from yfinance_tools import get_business_summary_tool, get_ticker_history_tool, get_ticker_info_tool\n",
    "from alpha_vantage_tools import (\n",
    "    get_search_symbols_tool,\n",
    "    get_exchange_rate_tool,\n",
    "    # get_time_series_daily_tool,\n",
    "    # get_time_series_weekly_tool,\n",
    "    # get_market_news_sentimen_tool,\n",
    "    # get_top_gainers_losers_tool,\n",
    ")\n",
    "\n",
    "warnings.filterwarnings(\"ignore\")\n",
    "\n",
    "ALPHAVANTAGE_API_KEY = st.secrets[\"ALPHAVANTAGE_API_KEY\"]\n",
    "os.environ[\"ALPHAVANTAGE_API_KEY\"] = st.secrets[\"ALPHAVANTAGE_API_KEY\"]\n",
    "\n",
    "COHERE_API_KEY = st.secrets[\"COHERE_API_KEY\"]\n",
    "os.environ[\"COHERE_API_KEY\"] = st.secrets[\"COHERE_API_KEY\"]\n",
    "\n",
    "QDRANT_HOST = st.secrets[\"QDRANT_HOST\"]\n",
    "QDRANT_API_KEY = st.secrets[\"QDRANT_API_KEY\"]\n",
    "\n",
    "OPEN_WEATHER_API_KEY = st.secrets[\"OPEN_WEATHER_API_KEY\"]\n",
    "os.environ[\"OPENWEATHERMAP_API_KEY\"] = OPEN_WEATHER_API_KEY\n",
    "\n",
    "POLYGON_API_KEY = st.secrets[\"POLYGON_API_KEY\"]\n",
    "os.environ[\"POLYGON_API_KEY\"] = st.secrets[\"POLYGON_API_KEY\"]\n",
    "\n",
    "TAVILY_API_KEY = st.secrets[\"TAVILY_API_KEY\"]\n",
    "os.environ[\"TAVILY_API_KEY\"] = st.secrets[\"TAVILY_API_KEY\"]"
   ]
  },
  {
   "cell_type": "markdown",
   "metadata": {},
   "source": [
    "## Invoke ChatCohere"
   ]
  },
  {
   "cell_type": "code",
   "execution_count": 3,
   "metadata": {},
   "outputs": [
    {
     "name": "stdout",
     "output_type": "stream",
     "text": [
      "content=\"Who's there?\" additional_kwargs={'documents': None, 'citations': None, 'search_results': None, 'search_queries': None, 'is_search_required': None, 'generation_id': '507e08c2-3681-4fa5-8e12-b0203907215d', 'token_count': {'input_tokens': 68, 'output_tokens': 4}} response_metadata={'documents': None, 'citations': None, 'search_results': None, 'search_queries': None, 'is_search_required': None, 'generation_id': '507e08c2-3681-4fa5-8e12-b0203907215d', 'token_count': {'input_tokens': 68, 'output_tokens': 4}} id='run-caf585fa-de2d-4a32-99b4-49cd570f8130-0'\n"
     ]
    }
   ],
   "source": [
    "chat = ChatCohere()\n",
    "messages = [HumanMessage(content=\"knock knock\")]\n",
    "print(chat.invoke(messages))"
   ]
  },
  {
   "cell_type": "markdown",
   "metadata": {},
   "source": [
    "## Invoke ChatCohere using ChatPromptTemplate"
   ]
  },
  {
   "cell_type": "code",
   "execution_count": 4,
   "metadata": {},
   "outputs": [
    {
     "data": {
      "text/plain": [
       "AIMessage(content='Why don’t bears wear socks?\\n\\nThey have bear feet!', additional_kwargs={'documents': None, 'citations': None, 'search_results': None, 'search_queries': None, 'is_search_required': None, 'generation_id': 'ce428c02-da5f-4a6b-bedf-86bd2b8f9f88', 'token_count': {'input_tokens': 72, 'output_tokens': 15}}, response_metadata={'documents': None, 'citations': None, 'search_results': None, 'search_queries': None, 'is_search_required': None, 'generation_id': 'ce428c02-da5f-4a6b-bedf-86bd2b8f9f88', 'token_count': {'input_tokens': 72, 'output_tokens': 15}}, id='run-9f05895f-09c1-4475-914f-ddebd173e9ab-0')"
      ]
     },
     "execution_count": 4,
     "metadata": {},
     "output_type": "execute_result"
    }
   ],
   "source": [
    "prompt = ChatPromptTemplate.from_template(\"Tell me a joke about {topic}\")\n",
    "chain = prompt | chat\n",
    "chain.invoke({\"topic\": \"bears\"})"
   ]
  },
  {
   "cell_type": "markdown",
   "metadata": {},
   "source": [
    "## Invoke Cohere"
   ]
  },
  {
   "cell_type": "code",
   "execution_count": 5,
   "metadata": {},
   "outputs": [
    {
     "data": {
      "text/html": [
       "<p>The theory of Kahnemann and Tversky is a collection of cognitive biases that affect how people make decisions and form beliefs. The theory covers a wide range of topics, including memory, decision-making, and behavioral economics. Here is a brief summary of their theory:</p>\n",
       "<ol>\n",
       "<li>\n",
       "<p>Heuristics and Biases: Kahnemann and Tversky proposed that people often rely on heuristics or mental shortcuts to make decisions, rather than rigorously weighing all available evidence. These heuristics can lead to cognitive biases, where errors in judgment arise due to systematic deviations from strict rationality. Some common biases include the availability heuristic (relying on easily recalled examples), representativeness heuristic (making judgments based on similarities to a reference class), and confirmation bias (seeking out information that supports existing beliefs).</p>\n",
       "</li>\n",
       "<li>\n",
       "<p>Prospect Theory: This theory explains how people choose between options that involve risk, like potential gains or losses. It challenges the assumption that individuals are always risk-averse, presenting a model that differentiates between choices involving certain outcomes and choices involving uncertain ones. The theory suggests that individuals tend to avoid losses and take more risks when facing potential losses, a phenomenon known as \"loss aversion.\" </p>\n",
       "</li>\n",
       "<li>\n",
       "<p>Cognitive Reflection Task: Kahnemann and Tversky introduced this task as a measure of individual differences in decision-making. It involves a set of problems where a quick answer leads to an incorrect answer, requiring participants to suppress their intuitive response and engage in more careful cognitive reflection to arrive at the correct solution. The task has been used to study the interplay between intuitive and reflective forms of reasoning.</p>\n",
       "</li>\n",
       "<li>\n",
       "<p>Anchoring and Adjustment: Anchoring is the tendency to rely heavily on the first piece of information we encounter (the \"anchor\") when making judgments, and adjust from that starting point rather than relying on more relevant information. This can lead to biases in judgment, as subsequent information is interpreted in a way that is biased towards the anchor.</p>\n",
       "</li>\n",
       "<li>\n",
       "<p>framing effect: This refers to the tendency of individuals to make different choices depending on how information is presented, often influenced by the framing of the decision. Factors like whether the frame is positive or negative, or the presentation of gains or losses can significantly impact decisions.</p>\n",
       "</li>\n",
       "<li>\n",
       "<p>Availability Cascade: This phenomenon refers to how collective perceptions can be formed and reinforced by the availability of information. When something becomes widely discussed (often due to dramatic or emotional events), it becomes more prominent in people's minds and can lead to a self-perpetuating belief that something is more true or relevant than it may actually be. </p>\n",
       "</li>\n",
       "</ol>\n",
       "<p>These are some of the key areas of research and findings from Kahnemann and Tversky's theory, offering important insights into how humans think, choose, and make decisions, and the potential pitfalls and biases that can affect these processes. </p>"
      ],
      "text/plain": [
       "<IPython.core.display.HTML object>"
      ]
     },
     "metadata": {},
     "output_type": "display_data"
    }
   ],
   "source": [
    "llm = Cohere()\n",
    "display(HTML(markdown.markdown(llm.invoke(\"Summarize the theory of Kahnemann and Tversky\"))))"
   ]
  },
  {
   "cell_type": "markdown",
   "metadata": {},
   "source": [
    "## Invoke Cohere with Tools"
   ]
  },
  {
   "cell_type": "code",
   "execution_count": 2,
   "metadata": {},
   "outputs": [],
   "source": [
    "def invoke_cohere_with_tools(input, tools, prompt_template=\"{input}\",no_markdown=False,verbose=False):\n",
    "    llm = ChatCohere()\n",
    "    prompt = ChatPromptTemplate.from_template(prompt_template)\n",
    "    agent = create_cohere_react_agent(llm, tools, prompt)\n",
    "    agent_executor = AgentExecutor(agent=agent, tools=tools, verbose=verbose)\n",
    "    response = agent_executor.invoke(input)\n",
    "    if no_markdown:\n",
    "        print(response['output'])\n",
    "    else:\n",
    "        display(HTML(markdown.markdown(response['output'])))\n",
    "\n"
   ]
  },
  {
   "cell_type": "markdown",
   "metadata": {},
   "source": [
    "## Tavily Internet Search Tool"
   ]
  },
  {
   "cell_type": "code",
   "execution_count": 7,
   "metadata": {},
   "outputs": [
    {
     "data": {
      "text/html": [
       "<p>Amazon held its initial public offering (IPO) on 15 May 1997.</p>"
      ],
      "text/plain": [
       "<IPython.core.display.HTML object>"
      ]
     },
     "metadata": {},
     "output_type": "display_data"
    }
   ],
   "source": [
    "prompt_template = \"In which year had {stock_name} its IPO? Tell me the year and the date.\"\n",
    "input =  {\"stock_name\": \"Amazon\"}\n",
    "tools = [get_internet_search_tool()]\n",
    "invoke_cohere_with_tools(input, tools, prompt_template)"
   ]
  },
  {
   "cell_type": "markdown",
   "metadata": {},
   "source": [
    "## Wikipedia Tool"
   ]
  },
  {
   "cell_type": "code",
   "execution_count": 8,
   "metadata": {},
   "outputs": [
    {
     "data": {
      "text/html": [
       "<p>Page: Daniel Kahneman\n",
       "Summary: Daniel Kahneman (; Hebrew: דניאל כהנמן; March 5, 1934 – March 27, 2024) was an Israeli-American cognitive scientist best-known for his work on the psychology of judgment and decision-making. He is also known for his work in behavioral economics, for which he was awarded the 2002 Nobel Memorial Prize in Economic Sciences together with Vernon L. Smith. Kahneman's published empirical findings challenge the assumption of human rationality prevailing in modern economic theory. Kahneman became known as the \"grandfather of behavioral economics.\"\n",
       "With Amos Tversky and others, Kahneman established a cognitive basis for common human errors that arise from heuristics and biases, and developed prospect theory. In 2011, Kahneman was named by Foreign Policy magazine in its list of top global thinkers. In the same year, his book Thinking, Fast and Slow, which summarizes much of his research, was published and became a best seller. In 2015, The Economist listed him as the seventh most influential economist in the world.\n",
       "Kahneman was professor emeritus of psychology and public affairs at Princeton University's Princeton School of Public and International Affairs. Kahneman was a founding partner of TGG Group, a business and philanthropy consulting company. He was married to cognitive psychologist and Royal Society Fellow Anne Treisman, who died in 2018.</p>"
      ],
      "text/plain": [
       "<IPython.core.display.HTML object>"
      ]
     },
     "metadata": {},
     "output_type": "display_data"
    }
   ],
   "source": [
    "input =  {\"input\": \"Explain the theory of Kahnemann and Tversky\"}\n",
    "tools = [get_wikipedia_tool()]\n",
    "invoke_cohere_with_tools(input, tools)"
   ]
  },
  {
   "cell_type": "markdown",
   "metadata": {},
   "source": [
    "## Run tool without agent"
   ]
  },
  {
   "cell_type": "code",
   "execution_count": 9,
   "metadata": {},
   "outputs": [
    {
     "data": {
      "text/plain": [
       "\"Page: David Beckham\\nSummary: David Robert Joseph Beckham  ( BEK-əm; born 2 May 1975) is an English former professional footballer, the president and co-owner of Inter Miami CF and co-owner of Salford City. Primarily a right winger and known for his range of passing, crossing ability and free-kick taking, Beckham has been hailed as one of the greatest and most recognisable midfielders of his generation, as well as one of the best free-kick takers of all time. He won 19 major trophies in his career, and is the first English player to win league titles in four different countries: England, Spain, the United States and France.\\nBeckham's professional club career began with Manchester United, where he made his first-team debut in 1992 at age 17. With United, he won the Premier League title six times, the FA Cup twice, the FA Charity Shield twice, the Intercontinental Cup and the UEFA Champions League in 1999. He then played four seasons with Real Madrid, winning the La Liga championship in his final season with the club. In July 2007, Beckham signed a five-year contract with Major League Soccer club LA Galaxy. While a Galaxy player, he spent two loan spells in Italy with AC Milan in 2009 and 2010. He became the first British footballer to play 100 UEFA Champions League games. He retired in May 2013 after a 20-year career.\\nIn international football, Beckham made his England debut on 1 September 1996, at the age of 21. He was captain for six years, earning 58 caps during his tenure. He made 115 career appearances in total, appearing at three FIFA World Cups in 1998, 2002 and 2006 as well as two UEFA European Championships in 2000 and 2004. Beckham held the England appearance record for an outfield player until 2016.\\nA global ambassador of football, Beckham is considered to be a British cultural icon. He has been in a well publicised marriage to Victoria Beckham since 1999 and was consistently ranked among the highest earners in football, in 2013 being listed as the highest-paid player in the world having earned over $50 million in the previous twelve months. Beckham was runner-up in the Ballon d'Or in 1999, twice runner-up for FIFA World Player of the Year (1999 and 2001) and in 2004 was named by Pelé in the FIFA 100 list of the world's greatest living players. He was inducted into the English Football Hall of Fame in 2008, and the Premier League Hall of Fame in 2021. He has been a UNICEF ambassador since 2005, and in 2015 he launched 7: The David Beckham UNICEF Fund. In 2014, MLS announced that Beckham and a group of investors would own Inter Miami, which began playing in 2020.\\n\\n\""
      ]
     },
     "execution_count": 9,
     "metadata": {},
     "output_type": "execute_result"
    }
   ],
   "source": [
    "wikipedia_tool = get_wikipedia_tool()\n",
    "wikipedia_tool.run(\"David Beckham\")"
   ]
  },
  {
   "cell_type": "markdown",
   "metadata": {},
   "source": [
    "## Openweathermap Tool"
   ]
  },
  {
   "cell_type": "code",
   "execution_count": 10,
   "metadata": {},
   "outputs": [
    {
     "data": {
      "text/html": [
       "<p>In Salvador da Bahia, it is currently 25.98°C and overcast with 100% cloud cover. The humidity is 79% and the wind speed is 3.42 m/s.</p>"
      ],
      "text/plain": [
       "<IPython.core.display.HTML object>"
      ]
     },
     "metadata": {},
     "output_type": "display_data"
    }
   ],
   "source": [
    "input = {\"input\": \"How is the weather in Salvador da Bahia?\"}\n",
    "tools = [get_openweathermap_tool()]\n",
    "invoke_cohere_with_tools(input, tools)"
   ]
  },
  {
   "cell_type": "markdown",
   "metadata": {},
   "source": [
    "## Multiple Tool Use\n",
    "1. wiki-tool\n",
    "2. open_weather_map\n",
    "3. internet_search"
   ]
  },
  {
   "cell_type": "code",
   "execution_count": null,
   "metadata": {},
   "outputs": [],
   "source": [
    "multiple_tools = [get_openweathermap_tool(), get_internet_search_tool(), get_wikipedia_tool()]\n",
    "prompt_template = \"Use the right tool to answer the following question. If wikipedia_tool delivers no result use internet_search: {input}\"\n",
    "\n",
    "input = {\"input\": \"Who was George Washington?\"}\n",
    "invoke_cohere_with_tools(input, multiple_tools, prompt_template)\n",
    "\n",
    "input = {\"input\": \"What's the weather like in Mortugaba, Bahia, Brazil?\"}\n",
    "invoke_cohere_with_tools(input, multiple_tools, prompt_template)\n",
    "\n",
    "input = {\"input\": \"Whats in the news today?\"}\n",
    "invoke_cohere_with_tools(input, multiple_tools, prompt_template)"
   ]
  },
  {
   "cell_type": "markdown",
   "metadata": {},
   "source": [
    "## Yfinance Tools"
   ]
  },
  {
   "cell_type": "code",
   "execution_count": 3,
   "metadata": {},
   "outputs": [],
   "source": [
    "yfinance_tools = [get_business_summary_tool(),get_ticker_history_tool(), get_ticker_info_tool()]"
   ]
  },
  {
   "cell_type": "markdown",
   "metadata": {},
   "source": [
    "### Business Summary Tool"
   ]
  },
  {
   "cell_type": "code",
   "execution_count": 13,
   "metadata": {},
   "outputs": [
    {
     "data": {
      "text/html": [
       "<p>Microsoft Corporation develops and supports software, services, devices and solutions worldwide. The company's Productivity and Business Processes segment offers office, exchange, SharePoint, Microsoft Teams, office 365 Security and Compliance, Microsoft viva, and Microsoft 365 copilot; and office consumer services, such as Microsoft 365 consumer subscriptions, Office licensed on-premises, and other office services. The Intelligent Cloud segment offers server products and cloud services, such as azure and other cloud services; SQL and windows server, visual studio, system center, and related client access licenses, as well as nuance and GitHub; and enterprise services including enterprise support services, industry solutions, and nuance professional services. The More Personal Computing segment offers Windows, including windows OEM licensing and other non-volume licensing of the Windows operating system; Windows commercial comprising volume licensing of the Windows operating system, windows cloud services, and other Windows commercial offerings; patent licensing; and windows Internet of Things; and devices, such as surface, HoloLens, and PC accessories. Additionally, this segment provides gaming, which includes Xbox hardware and content, and first- and third-party content; Xbox game pass and other subscriptions, cloud gaming, advertising, third-party disc royalties, and other cloud services; and search and news advertising, which includes Bing, Microsoft News and Edge, and third-party affiliates. The company sells its products through OEMs, distributors, and resellers; and directly through digital marketplaces, online, and retail stores. The company was founded in 1975 and is headquartered in Redmond, Washington.</p>"
      ],
      "text/plain": [
       "<IPython.core.display.HTML object>"
      ]
     },
     "metadata": {},
     "output_type": "display_data"
    }
   ],
   "source": [
    "prompt_template_summary = \"Give me a business summary for {ticker}.\" \n",
    "input = {\"ticker\": \"MSFT\"}\n",
    "invoke_cohere_with_tools(input=input,tools=yfinance_tools,prompt_template=prompt_template_summary)"
   ]
  },
  {
   "cell_type": "markdown",
   "metadata": {},
   "source": [
    "### Ticker History Tool"
   ]
  },
  {
   "cell_type": "code",
   "execution_count": 14,
   "metadata": {},
   "outputs": [
    {
     "data": {
      "text/html": [
       "<p>Here is the timeseries for AMZN over the last 5 days:</p>\n",
       "<p>| Date | Open | High | Low | Close | Volume | Dividends | Stock Splits |\n",
       "|---|---|---|---|---|---|---|---|\n",
       "| 2024-05-29 00:00:00-04:00 | 181.699997 | 184.080002 | 181.550003 | 182.020004 | 32009300 | 0.0 | 0.0 |\n",
       "| 2024-05-30 00:00:00-04:00 | 181.309998 | 181.339996 | 178.360001 | 179.320007 | 29249200 | 0.0 | 0.0 |\n",
       "| 2024-05-31 00:00:00-04:00 | 178.300003 | 179.210007 | 173.869995 | 176.440002 | 58903900 | 0.0 | 0.0 |\n",
       "| 2024-06-03 00:00:00-04:00 | 177.699997 | 178.699997 | 175.919998 | 178.339996 | 30786600 | 0.0 | 0.0 |\n",
       "| 2024-06-04 00:00:00-04:00 | 177.639999 | 179.820007 | 176.440002 | 179.339996 | 26177000 | 0.0 | 0.0 |</p>\n",
       "<p>AMZN's performance over the last 5 days has been poor, with the stock price decreasing from 182.020004 to 179.339996.</p>"
      ],
      "text/plain": [
       "<IPython.core.display.HTML object>"
      ]
     },
     "metadata": {},
     "output_type": "display_data"
    }
   ],
   "source": [
    "prompt_template_history = \"How did {ticker} perform the last {period}? Show the timeseries in a dataframe and calculate and rate the performance.\"\n",
    "ticker = 'AMZN'\n",
    "period = '5d'\n",
    "input = {\"ticker\": {ticker}, \"period\": {period}}\n",
    "invoke_cohere_with_tools(input=input, tools=yfinance_tools,prompt_template=prompt_template_history)"
   ]
  },
  {
   "cell_type": "markdown",
   "metadata": {},
   "source": [
    "### Ticker Info Tool with Investment Rating"
   ]
  },
  {
   "cell_type": "code",
   "execution_count": 15,
   "metadata": {},
   "outputs": [
    {
     "data": {
      "text/html": [
       "<h2>Key figures, technical indicators and analyst recommendations:</h2>\n",
       "<ul>\n",
       "<li>Address: 114 East Main Street, Ayer, MA, 01432, United States</li>\n",
       "<li>Phone: 978 842 3000</li>\n",
       "<li>Fax: 978 842 3024</li>\n",
       "<li>Website: https://www.amsc.com</li>\n",
       "<li>Industry: Specialty Industrial Machinery</li>\n",
       "<li>Sector: Industrials</li>\n",
       "<li>Previous close: 20.77</li>\n",
       "<li>Open: 20.49</li>\n",
       "<li>Day low: 19.41</li>\n",
       "<li>Day high: 21.19</li>\n",
       "<li>Forward PE: 65.71875</li>\n",
       "<li>Volume: 1,313,239</li>\n",
       "<li>Average volume: 520,309</li>\n",
       "<li>Average volume (10 days): 1,303,420</li>\n",
       "<li>Bid: 20.98</li>\n",
       "<li>Ask: 21.05</li>\n",
       "<li>Market cap: $777,994,368</li>\n",
       "<li>52-week low: 5.25</li>\n",
       "<li>52-week high: 21.19</li>\n",
       "<li>Price to sales trailing 12 months: 5.3419366</li>\n",
       "<li>50-day average: 13.82</li>\n",
       "<li>200-day average: 10.8763</li>\n",
       "<li>Currency: USD</li>\n",
       "<li>Enterprise value: $690,181,696</li>\n",
       "<li>Profit margins: -0.076290004</li>\n",
       "<li>Float shares: 32,639,892</li>\n",
       "<li>Shares outstanding: 36,994,500</li>\n",
       "<li>Shares short: 1,850,417</li>\n",
       "<li>Shares short prior month: 2,163,328</li>\n",
       "<li>Shares short date: 1715731200</li>\n",
       "<li>Shares percent shares out: 0.050100002</li>\n",
       "<li>Held percent insiders: 0.04301</li>\n",
       "<li>Held percent institutions: 0.63358</li>\n",
       "<li>Short ratio: 6.35</li>\n",
       "<li>Short percent of float: 0.052699998</li>\n",
       "<li>Implied shares outstanding: 36,994,500</li>\n",
       "<li>Book value: 3.913</li>\n",
       "<li>Price to book: 5.374393</li>\n",
       "<li>Last fiscal year end: 1711843200</li>\n",
       "<li>Next fiscal year end: 1743379200</li>\n",
       "<li>Most recent quarter: 1711843200</li>\n",
       "<li>Net income to common: -11,111,000</li>\n",
       "<li>Trailing EPS: -0.37</li>\n",
       "<li>Forward EPS: 0.32</li>\n",
       "<li>PEG ratio: 13.85</li>\n",
       "<li>Target high price: 23.0</li>\n",
       "<li>Target low price: 20.0</li>\n",
       "<li>Target mean price: 22.0</li>\n",
       "<li>Target median price: 23.0</li>\n",
       "<li>Recommendation mean: 1.7</li>\n",
       "<li>Recommendation key: buy</li>\n",
       "<li>Number of analyst opinions: 3</li>\n",
       "<li>Total cash: $90,522,000</li>\n",
       "<li>Total cash per share: $2.447</li>\n",
       "<li>EBITDA: -$1,966,000</li>\n",
       "<li>Total debt: $2,709,000</li>\n",
       "<li>Quick ratio: 1.483</li>\n",
       "<li>Current ratio: 2.112</li>\n",
       "<li>Total revenue: $145,639,008</li>\n",
       "<li>Debt to equity: 1.874</li>\n",
       "<li>Revenue per share: $4.883</li>\n",
       "<li>Return on assets: -0.01978</li>\n",
       "<li>Return on equity: -0.098170005</li>\n",
       "<li>Free cash flow: $1,232,500</li>\n",
       "<li>Operating cash flow: $2,138,000</li>\n",
       "<li>Revenue growth: 0.324</li>\n",
       "<li>Gross margins: 0.24226</li>\n",
       "<li>EBITDA margins: -0.0135</li>\n",
       "<li>Operating margins: -0.00849</li>\n",
       "</ul>\n",
       "<h2>Fundamental and technical data analysis:</h2>\n",
       "<p>AMSC has a \"buy\" recommendation from analysts, with a mean recommendation of 1.7 and a target mean price of $22. The stock is currently trading above its 50-day and 200-day averages, indicating upward momentum. The company has strong revenue growth of 0.324 and healthy gross margins of 0.24226. However, it has negative profit margins and return on assets, and its return on equity is also negative. The company has a high short interest, with 5.27% of the float short, which could indicate that some investors are betting against the stock. Overall, AMSC appears to be a speculative investment with potential upside, but it may be best suited for investors with a higher risk tolerance.</p>"
      ],
      "text/plain": [
       "<IPython.core.display.HTML object>"
      ]
     },
     "metadata": {},
     "output_type": "display_data"
    }
   ],
   "source": [
    "prompt_template_ticker_info = \"\"\"I need detailed information about {ticker_symbol}. Produce a key value list for the 25 most important {topics} using CRLF before each point.\n",
    "                                 After that analyze the fundamental and technical data and rate the company. Is it a good buy? Is it oversold or overbought? Is it a stable investment\n",
    "                                 with a good sharpe ratio?\"\"\"\n",
    "yfinance_tools = [get_ticker_info_tool()]\n",
    "input = {\"ticker_symbol\": \"AMSC\", \"topics\": \"key figures, technical indicators and analyst recommendations\"}\n",
    "\n",
    "invoke_cohere_with_tools(input=input, tools=yfinance_tools, prompt_template=prompt_template_ticker_info)"
   ]
  },
  {
   "cell_type": "markdown",
   "metadata": {},
   "source": [
    "## Alpha Vantage Tool"
   ]
  },
  {
   "cell_type": "code",
   "execution_count": null,
   "metadata": {},
   "outputs": [],
   "source": [
    "yfinance_tools = [\n",
    "    # get_search_symbol_tool(),\n",
    "    get_exchange_rate_tool(),\n",
    "    # get_time_series_daily_tool(),\n",
    "    # get_time_series_weekly_tool(),\n",
    "    # get_market_news_sentimen_tool(),\n",
    "    # get_top_gainers_losers_tool(),\n",
    "]\n",
    "# alpha_vantage = AlphaVantageAPIWrapper()\n",
    "# alpha_vantage._get_exchange_rate(\"USD\", \"JPY\")\n",
    "# alpha_vantage._get_time_series_daily(\"MSFT\")\n",
    "# alpha_vantage._get_time_series_weekly(\"IBM\")\n",
    "# alpha_vantage.search_symbols(\"American Superconductor\")\n",
    "# alpha_vantage._get_market_news_sentiment(\"Microsoft\")\n",
    "# alpha_vantage._get_top_gainers_losers()\n",
    "# response = agent_executor.invoke(\n",
    "#     {\"input\": \"What is the symbol for American Superconductor?\"}\n",
    "# )\n",
    "input = {\"input\": \"How much is one USD in EUR?\"}\n",
    "invoke_cohere_with_tools(input, yfinance_tools, no_markdown= True)\n",
    "# response = agent_executor.invoke({\"input\": \"Who are the gainers and losers at the stock exchange?\"})\n",
    "# response = agent_executor.invoke({\"input\": \"How is Microsoft performing historically?\"})\n",
    "# response = agent_executor.invoke({\"input\": \"How did Apple perform the last time?\"})\n",
    "# response = agent_executor.invoke({\"input\": \"What is in the news about Nvidia?\"})"
   ]
  },
  {
   "cell_type": "markdown",
   "metadata": {},
   "source": [
    "## Polygon Toolkit"
   ]
  },
  {
   "cell_type": "markdown",
   "metadata": {},
   "source": [
    "### Polygon Tools"
   ]
  },
  {
   "cell_type": "code",
   "execution_count": 4,
   "metadata": {},
   "outputs": [],
   "source": [
    "polygon = PolygonAPIWrapper()\n",
    "toolkit = PolygonToolkit.from_polygon_api_wrapper(polygon)\n",
    "polygon_tools = toolkit.get_tools()"
   ]
  },
  {
   "cell_type": "code",
   "execution_count": 5,
   "metadata": {},
   "outputs": [
    {
     "data": {
      "text/html": [
       "<h1>polygon_aggregates</h1>\n",
       "\n",
       "<h2>Description</h2>\n",
       "<p>A wrapper around Polygon's Aggregates API. This tool is useful for fetching aggregate bars (stock prices) for a ticker. Input should be the ticker, date range, timespan, and timespan multiplier that you want to get the aggregate bars for.</p>\n",
       "<h2>Schema</h2>\n",
       "<p>{'title': 'PolygonAggregatesSchema', 'description': 'Input for PolygonAggregates.', 'type': 'object', 'properties': {'ticker': {'title': 'Ticker', 'description': 'The ticker symbol to fetch aggregates for.', 'type': 'string'}, 'timespan': {'title': 'Timespan', 'description': \"The size of the time window. Possible values are: second, minute, hour, day, week, month, quarter, year. Default is 'day'\", 'type': 'string'}, 'timespan_multiplier': {'title': 'Timespan Multiplier', 'description': \"The number of timespans to aggregate. For example, if timespan is 'day' and timespan_multiplier is 1, the result will be daily bars. If timespan is 'day' and timespan_multiplier is 5, the result will be weekly bars.  Default is 1.\", 'type': 'integer'}, 'from_date': {'title': 'From Date', 'description': 'The start of the aggregate time window. Either a date with the format YYYY-MM-DD or a millisecond timestamp.', 'type': 'string'}, 'to_date': {'title': 'To Date', 'description': 'The end of the aggregate time window. Either a date with the format YYYY-MM-DD or a millisecond timestamp.', 'type': 'string'}}, 'required': ['ticker', 'timespan', 'timespan_multiplier', 'from_date', 'to_date']}</p>"
      ],
      "text/plain": [
       "<IPython.core.display.HTML object>"
      ]
     },
     "metadata": {},
     "output_type": "display_data"
    },
    {
     "data": {
      "text/html": [
       "<h1>polygon_last_quote</h1>\n",
       "\n",
       "<h2>Description</h2>\n",
       "<p>A wrapper around Polygon's Last Quote API. This tool is useful for fetching the latest price of a stock. Input should be the ticker that you want to query the last price quote for.</p>\n",
       "<h2>Schema</h2>\n",
       "<p>{'title': 'Inputs', 'description': \"Inputs for Polygon's Last Quote API\", 'type': 'object', 'properties': {'query': {'title': 'Query', 'type': 'string'}}, 'required': ['query']}</p>"
      ],
      "text/plain": [
       "<IPython.core.display.HTML object>"
      ]
     },
     "metadata": {},
     "output_type": "display_data"
    },
    {
     "data": {
      "text/html": [
       "<h1>polygon_ticker_news</h1>\n",
       "\n",
       "<h2>Description</h2>\n",
       "<p>A wrapper around Polygon's Ticker News API. This tool is useful for fetching the latest news for a stock. Input should be the ticker that you want to get the latest news for.</p>\n",
       "<h2>Schema</h2>\n",
       "<p>{'title': 'Inputs', 'description': \"Inputs for Polygon's Ticker News API\", 'type': 'object', 'properties': {'query': {'title': 'Query', 'type': 'string'}}, 'required': ['query']}</p>"
      ],
      "text/plain": [
       "<IPython.core.display.HTML object>"
      ]
     },
     "metadata": {},
     "output_type": "display_data"
    },
    {
     "data": {
      "text/html": [
       "<h1>polygon_financials</h1>\n",
       "\n",
       "<h2>Description</h2>\n",
       "<p>A wrapper around Polygon's Stock Financials API. This tool is useful for fetching fundamental financials from balance sheets, income statements, and cash flow statements for a stock ticker. The input should be the ticker that you want to get the latest fundamental financial data for.</p>\n",
       "<h2>Schema</h2>\n",
       "<p>{'title': 'Inputs', 'description': \"Inputs for Polygon's Financials API\", 'type': 'object', 'properties': {'query': {'title': 'Query', 'type': 'string'}}, 'required': ['query']}</p>"
      ],
      "text/plain": [
       "<IPython.core.display.HTML object>"
      ]
     },
     "metadata": {},
     "output_type": "display_data"
    }
   ],
   "source": [
    "for tool in polygon_tools:\n",
    "    schema = str(tool.args_schema.schema())\n",
    "    tool_documentation = f\"<h1>{tool.name}</h1>\\n\\n<h2>Description</h2>{tool.description}\\n\\n<h2>Schema</h2>{schema}\"\n",
    "    display(HTML(markdown.markdown(tool_documentation)))"
   ]
  },
  {
   "cell_type": "markdown",
   "metadata": {},
   "source": [
    "### Aggregates"
   ]
  },
  {
   "cell_type": "code",
   "execution_count": null,
   "metadata": {},
   "outputs": [],
   "source": [
    "# Poloygon is called with the correct arguments but this produces an API error\n",
    "# input = {\"input\": \"How did MSFT perform the last 5 days?\"}\n",
    "# invoke_cohere_with_tools(tools=tools,input=input)"
   ]
  },
  {
   "cell_type": "code",
   "execution_count": null,
   "metadata": {},
   "outputs": [],
   "source": [
    "from langchain_community.tools.polygon.aggregates import PolygonAggregates\n",
    "from langchain_community.tools.polygon.financials import PolygonFinancials\n",
    "from langchain_community.tools.polygon.last_quote import PolygonLastQuote\n",
    "from langchain_community.tools.polygon.ticker_news import PolygonTickerNews\n",
    "from langchain_community.utilities.polygon import PolygonAPIWrapper\n",
    "from langchain_community.tools.polygon.aggregates import PolygonAggregatesSchema\n",
    "\n",
    "api_wrapper = PolygonAPIWrapper()\n",
    "ticker = \"AAPL\"\n",
    "\n",
    "# Define param\n",
    "params = PolygonAggregatesSchema(\n",
    "    ticker=ticker,\n",
    "    timespan=\"day\",\n",
    "    timespan_multiplier=1,\n",
    "    from_date=\"2024-03-01\",\n",
    "    to_date=\"2024-03-08\",\n",
    ")\n",
    "# Get aggregates for ticker\n",
    "aggregates_tool = PolygonAggregates(api_wrapper=api_wrapper)\n",
    "aggregates = aggregates_tool.run(tool_input=params.dict())\n",
    "print(aggregates)"
   ]
  },
  {
   "cell_type": "markdown",
   "metadata": {},
   "source": [
    "### Last Quote"
   ]
  },
  {
   "cell_type": "code",
   "execution_count": null,
   "metadata": {},
   "outputs": [],
   "source": [
    "# Works only with premium subscription at Polygon\n",
    "# input = {\"input\": \"What is the end of day price for MSFT?\"}\n",
    "# invoke_cohere_with_tools(tools=polygon_tools,input=input)"
   ]
  },
  {
   "cell_type": "markdown",
   "metadata": {},
   "source": [
    "### Ticker News Sentiment"
   ]
  },
  {
   "cell_type": "code",
   "execution_count": null,
   "metadata": {},
   "outputs": [],
   "source": [
    "prompt_template_av_sentiment = \"What is the news sentiment for {ticker}? Rate the sentiment based on the news and explain your rating.\"\n",
    "ticker = \"AMSC\"\n",
    "input = {\"ticker\": ticker}\n",
    "invoke_cohere_with_tools(tools=polygon_tools,input=input,prompt_template=prompt_template_av_sentiment)"
   ]
  },
  {
   "cell_type": "markdown",
   "metadata": {},
   "source": [
    "### Financials"
   ]
  },
  {
   "cell_type": "code",
   "execution_count": null,
   "metadata": {},
   "outputs": [],
   "source": [
    "prompt_template_av_financials = \"How are the financials for {ticker}? What is its market value? Produce an overview in form of a bullet point list (use CRLF for new lines) and rate the financial situation of the company.\"\n",
    "ticker = \"AMSC\"\n",
    "input = {\"ticker\": ticker}\n",
    "invoke_cohere_with_tools(tools=polygon_tools,input=input,prompt_template=prompt_template_av_financials)"
   ]
  },
  {
   "cell_type": "markdown",
   "metadata": {},
   "source": [
    "## Financials, News and Technical Combined"
   ]
  },
  {
   "cell_type": "code",
   "execution_count": 6,
   "metadata": {},
   "outputs": [
    {
     "data": {
      "text/html": [
       "<h2>Business Summary:</h2>\n",
       "<p>American Superconductor Corporation provides megawatt-scale power resiliency solutions worldwide. The company operates through Grid and Wind segments. The Grid segment offers products and services that enable electric utilities, industrial facilities, and renewable energy project developers to connect, transmit, and distribute power under the Gridtec Solutions brand. The Wind segment designs wind turbine systems and licenses these designs to third parties under the Windtec Solutions brand. It also supplies power electronics and software-based control systems, engineered designs, and support services; and provides customer support services to wind turbine manufacturers. American Superconductor Corporation was incorporated in 1987 and is headquartered in Ayer, Massachusetts.</p>\n",
       "<h2>Financials:</h2>\n",
       "<ul>\n",
       "<li>Current Assets: $166,467,000</li>\n",
       "<li>Current Liabilities: $78,808,000</li>\n",
       "<li>Equity: $144,571,000</li>\n",
       "<li>Liabilities &amp; Equity: $232,771,000</li>\n",
       "<li>Revenue: $145,639,000</li>\n",
       "<li>Net Income: -$11,111,000</li>\n",
       "</ul>\n",
       "<p>AMSC has a negative net income, which is not a good sign. However, its revenue is higher than its current liabilities, which could indicate that the company is generating enough cash flow to cover its short-term debts. Overall, the company's financial situation appears to be mixed, with some positive and negative indicators.</p>\n",
       "<h2>Rating:</h2>\n",
       "<p>AMSC's financial situation is rated as neutral.</p>"
      ],
      "text/plain": [
       "<IPython.core.display.HTML object>"
      ]
     },
     "metadata": {},
     "output_type": "display_data"
    }
   ],
   "source": [
    "combined_tools = []\n",
    "filtered_polygon_tools = [tool for tool in polygon_tools if tool.name in (\"polygon_financials\", \"polygon_ticker_news\")]\n",
    "\n",
    "combined_tools = filtered_polygon_tools\n",
    "for tool in yfinance_tools:\n",
    "    combined_tools.append(tool)\n",
    "\n",
    "prompt_template_av_financials = \"\"\" How are the financials for {ticker}? What is its market value?\n",
    "                                    Produce an overview in form of a bullet point list (use CRLF for new lines)\n",
    "                                    and rate the financial situation of the company. \"\"\"\n",
    "\n",
    "\n",
    "prompt_template_av_sentiment = \" What is the news sentiment for {ticker}? Rate the sentiment based on the news and explain your rating. \"\n",
    "\n",
    "prompt_template_ticker_info = \"\"\" I need detailed information about {ticker}. Produce a key value list for the 25 most important {topics} using CRLF before each point.\n",
    "                                 After that analyze the fundamental and technical data and rate the company. Is it a good buy? Is it oversold or overbought? Is it a stable investment\n",
    "                                 with a good sharpe ratio? \"\"\"\n",
    "\n",
    "prompt_template_history = \" How did {ticker} perform the last {period}? Show the timeseries in a dataframe and calculate and rate the performance. \"\n",
    "\n",
    "prompt_template_summary = \" Give me a business summary for {ticker}. \" \n",
    "\n",
    "prompt_template_rating = \"Based on the information for {ticker} produce a profound investment rating and explain why the stock is a buy or not.\"\n",
    "\n",
    "prompt_template_combined = prompt_template_summary + prompt_template_av_financials + prompt_template_av_sentiment + prompt_template_history + prompt_template_ticker_info + prompt_template_rating\n",
    "\n",
    "ticker = \"AMSC\"\n",
    "period = \"1y\"\n",
    "topics = \"key figures, technical indicators and analyst recommendations\"\n",
    "input = {\"ticker\": ticker, \"topics\": topics, \"period\": period}\n",
    "invoke_cohere_with_tools(input=input,tools=combined_tools,prompt_template=prompt_template_combined)"
   ]
  },
  {
   "cell_type": "markdown",
   "metadata": {},
   "source": [
    "## Imports for Embeddings and Qdrant"
   ]
  },
  {
   "cell_type": "code",
   "execution_count": null,
   "metadata": {},
   "outputs": [],
   "source": [
    "from langchain.text_splitter import RecursiveCharacterTextSplitter\n",
    "from langchain.document_loaders import WebBaseLoader\n",
    "from langchain.embeddings.cohere import CohereEmbeddings\n",
    "from langchain.vectorstores import Qdrant\n",
    "from langchain_community.vectorstores import Qdrant\n",
    "from langchain.prompts import PromptTemplate\n",
    "from langchain.chains import ConversationalRetrievalChain\n",
    "from langchain.chains.conversation.memory import ConversationSummaryMemory\n",
    "import qdrant_client"
   ]
  },
  {
   "cell_type": "markdown",
   "metadata": {},
   "source": [
    "## Build Qdrant Vector Store"
   ]
  },
  {
   "cell_type": "code",
   "execution_count": null,
   "metadata": {},
   "outputs": [],
   "source": [
    "# web_links = [\"https://www.fielmann-group.com/ueber-uns/?\",\n",
    "#              \"https://de.wikipedia.org/wiki/Fielmann\",\n",
    "#              \"https://de.wikipedia.org/wiki/G%C3%BCnther_Fielmann\",\n",
    "#              \"https://de.wikipedia.org/wiki/Marc_Fielmann\"] \n",
    "\n",
    "web_links = [\"https://python.langchain.com/v0.2/docs/introduction\",\n",
    "             \"https://python.langchain.com/v0.2/docs/concepts\",\n",
    "             \"https://python.langchain.com/v0.2/docs/integrations/tools\",\n",
    "             \"https://python.langchain.com/v0.2/docs/integrations/vectorstores\",\n",
    "             \"https://python.langchain.com/v0.2/docs/integrations/document_loaders\",\n",
    "             \"https://python.langchain.com/v0.2/docs/integrations/retrievers\",\n",
    "             \"https://python.langchain.com/v0.2/docs/integrations/vectorstores/qdrant\",\n",
    "             \"https://python.langchain.com/v0.2/docs/integrations/providers/cohere/#react-agent\",\n",
    "             \"https://de.wikipedia.org/wiki/Herz#:~:text=Das%20Herz%20(lateinisch%20Cor%2C%20griechisch,die%20Versorgung%20aller%20Organe%20sichert.\"]\n",
    " \n",
    "\n",
    "loader = WebBaseLoader(web_links)\n",
    "document=loader.load()\n",
    "\n",
    "text_splitter = RecursiveCharacterTextSplitter(chunk_size=500, chunk_overlap=0)\n",
    "texts = text_splitter.split_documents(document)\n",
    "\n",
    "embeddings = CohereEmbeddings(model = \"embed-english-v2.0\")\n",
    "\n",
    "qdrant = Qdrant.from_documents(\n",
    "    document,\n",
    "    embeddings,\n",
    "    url=QDRANT_HOST,\n",
    "    api_key=QDRANT_API_KEY,\n",
    "    prefer_grpc=True,\n",
    "    collection_name=\"rag_documents\",\n",
    "    force_recreate=True,\n",
    ")\n"
   ]
  },
  {
   "cell_type": "markdown",
   "metadata": {},
   "source": [
    "## Load Qdrant Vector Store"
   ]
  },
  {
   "cell_type": "code",
   "execution_count": null,
   "metadata": {},
   "outputs": [],
   "source": [
    "client = qdrant_client.QdrantClient(\n",
    "    url=QDRANT_HOST,\n",
    "    api_key=QDRANT_API_KEY,\n",
    ")\n",
    "embeddings = CohereEmbeddings(model=\"embed-english-v2.0\")\n",
    "vector_store = Qdrant(\n",
    "    client = client,\n",
    "    collection_name = \"rag_documents\",\n",
    "    embeddings = embeddings\n",
    ")\n",
    "print(\"connection established !\")"
   ]
  },
  {
   "cell_type": "markdown",
   "metadata": {},
   "source": [
    "## Use Qdrant Vector Store as RAG Retriever for Cohere"
   ]
  },
  {
   "cell_type": "code",
   "execution_count": null,
   "metadata": {},
   "outputs": [],
   "source": [
    "prompt_template = \"\"\"\n",
    "You are a bot to answer questions from a document.\n",
    "    \n",
    "You will be given a context of the conversation made so far followed by a question, \n",
    "give the answer to the question using the context. \n",
    "The answer should be short, straight and to the point. If you don't know the answer, reply that the answer is not available.\n",
    "\n",
    "Context: {context}\n",
    "\n",
    "Question: {question}\n",
    "Answer:\"\"\"\n",
    "\n",
    "PROMPT = PromptTemplate(\n",
    "    template=prompt_template, input_variables=[\"context\", \"question\"]\n",
    ")\n",
    "\n",
    "chain_type_kwargs = { \"prompt\" : PROMPT }\n",
    "\n",
    "llm = ChatCohere()\n",
    "\n",
    "template = (\n",
    "        \"\"\"Combine the chat history and follow up question into \n",
    "        a standalone question. \n",
    "        If chat hsitory is empty, use the follow up question as it is.\n",
    "        Chat History: {chat_history}\n",
    "        Follow up question: {question}\"\"\"\n",
    "    )\n",
    "\n",
    "prompt = PromptTemplate.from_template(template)\n",
    "\n",
    "chain = ConversationalRetrievalChain.from_llm(     \n",
    "    llm = llm,\n",
    "    chain_type = \"stuff\",\n",
    "    memory = ConversationSummaryMemory(llm = llm, memory_key='chat_history', input_key='question', output_key= 'answer', return_messages=True),\n",
    "    retriever = vector_store.as_retriever(search_type=\"mmr\"),\n",
    "    condense_question_prompt = prompt,\n",
    "    return_source_documents=False,\n",
    "    combine_docs_chain_kwargs=chain_type_kwargs,\n",
    ")\n",
    "customer_prompt = \"What are tools in LangChain?\"\n",
    "\n",
    "\n",
    "llm_response = chain.invoke(\n",
    "                {\n",
    "                    \"context\": chain.memory.buffer,\n",
    "                    \"question\": customer_prompt,\n",
    "                },\n",
    "                return_only_outputs=True,\n",
    "            )\n",
    "\n",
    "display(HTML(markdown.markdown(llm_response['answer'])))\n"
   ]
  }
 ],
 "metadata": {
  "kernelspec": {
   "display_name": "cohere",
   "language": "python",
   "name": "python3"
  },
  "language_info": {
   "codemirror_mode": {
    "name": "ipython",
    "version": 3
   },
   "file_extension": ".py",
   "mimetype": "text/x-python",
   "name": "python",
   "nbconvert_exporter": "python",
   "pygments_lexer": "ipython3",
   "version": "3.12.3"
  }
 },
 "nbformat": 4,
 "nbformat_minor": 2
}
