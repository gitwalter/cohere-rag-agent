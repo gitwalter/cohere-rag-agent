{
 "cells": [
  {
   "cell_type": "markdown",
   "metadata": {},
   "source": [
    "# LangChain Cohere Agent using Tools"
   ]
  },
  {
   "cell_type": "markdown",
   "metadata": {},
   "source": [
    "## Install Libraries"
   ]
  },
  {
   "cell_type": "code",
   "execution_count": 1,
   "metadata": {},
   "outputs": [],
   "source": [
    "# ! pip install streamlit\n",
    "# ! pip install qdrant-client\n",
    "# ! pip install langchain\n",
    "# ! pip install langchain-community\n",
    "# ! pip install langchain-qdrant\n",
    "# ! pip install langchain-cohere\n",
    "# ! pip install tiktoken\n",
    "# ! pip install cohere\n",
    "# ! pip install bs4\n",
    "# ! pip install markdown\n",
    "# ! pip install wikipedia\n",
    "# ! pip install pyowm\n",
    "# ! pip install yfinance"
   ]
  },
  {
   "cell_type": "markdown",
   "metadata": {},
   "source": [
    "## Imports for Tool Use and Keys\n",
    "### API Keys\n",
    "* https://cohere.com/\n",
    "* https://www.alphavantage.co/\n",
    "* https://qdrant.tech/\n",
    "* https://openweathermap.org/\n",
    "* https://tavily.com/\n",
    "* https://polygon.io/\n"
   ]
  },
  {
   "cell_type": "code",
   "execution_count": 1,
   "metadata": {},
   "outputs": [],
   "source": [
    "from IPython.display import HTML\n",
    "import markdown\n",
    "import warnings\n",
    "import streamlit as st\n",
    "import os\n",
    "from langchain_cohere.llms import Cohere\n",
    "from langchain_core.messages import HumanMessage\n",
    "from langchain_core.prompts import ChatPromptTemplate\n",
    "from langchain_cohere import ChatCohere, create_cohere_react_agent\n",
    "from langchain_community.agent_toolkits.polygon.toolkit import PolygonToolkit\n",
    "from langchain_community.utilities.polygon import PolygonAPIWrapper\n",
    "from langchain.agents import AgentExecutor\n",
    "from cohere_tools import get_internet_search_tool, get_wikipedia_tool, get_openweathermap_tool\n",
    "from yfinance_tools import get_business_summary_tool, get_ticker_history_tool, get_ticker_info_tool\n",
    "from alpha_vantage_tools import (\n",
    "    get_search_symbols_tool,\n",
    "    get_exchange_rate_tool,\n",
    "    # get_time_series_daily_tool,\n",
    "    # get_time_series_weekly_tool,\n",
    "    # get_market_news_sentimen_tool,\n",
    "    # get_top_gainers_losers_tool,\n",
    ")\n",
    "\n",
    "warnings.filterwarnings(\"ignore\")\n",
    "\n",
    "ALPHAVANTAGE_API_KEY = st.secrets[\"ALPHAVANTAGE_API_KEY\"]\n",
    "os.environ[\"ALPHAVANTAGE_API_KEY\"] = st.secrets[\"ALPHAVANTAGE_API_KEY\"]\n",
    "\n",
    "COHERE_API_KEY = st.secrets[\"COHERE_API_KEY\"]\n",
    "os.environ[\"COHERE_API_KEY\"] = st.secrets[\"COHERE_API_KEY\"]\n",
    "\n",
    "QDRANT_HOST = st.secrets[\"QDRANT_HOST\"]\n",
    "QDRANT_API_KEY = st.secrets[\"QDRANT_API_KEY\"]\n",
    "\n",
    "OPEN_WEATHER_API_KEY = st.secrets[\"OPEN_WEATHER_API_KEY\"]\n",
    "os.environ[\"OPENWEATHERMAP_API_KEY\"] = OPEN_WEATHER_API_KEY\n",
    "\n",
    "POLYGON_API_KEY = st.secrets[\"POLYGON_API_KEY\"]\n",
    "os.environ[\"POLYGON_API_KEY\"] = st.secrets[\"POLYGON_API_KEY\"]\n",
    "\n",
    "TAVILY_API_KEY = st.secrets[\"TAVILY_API_KEY\"]\n",
    "os.environ[\"TAVILY_API_KEY\"] = st.secrets[\"TAVILY_API_KEY\"]"
   ]
  },
  {
   "cell_type": "markdown",
   "metadata": {},
   "source": [
    "## Invoke ChatCohere"
   ]
  },
  {
   "cell_type": "code",
   "execution_count": 12,
   "metadata": {},
   "outputs": [
    {
     "name": "stdout",
     "output_type": "stream",
     "text": [
      "content=\"Who's there?\" additional_kwargs={'documents': None, 'citations': None, 'search_results': None, 'search_queries': None, 'is_search_required': None, 'generation_id': '481912a6-f20a-4afa-8510-7ff8ada7602c', 'token_count': {'input_tokens': 68, 'output_tokens': 4}} response_metadata={'documents': None, 'citations': None, 'search_results': None, 'search_queries': None, 'is_search_required': None, 'generation_id': '481912a6-f20a-4afa-8510-7ff8ada7602c', 'token_count': {'input_tokens': 68, 'output_tokens': 4}} id='run-6264a1de-6ea7-43a2-adcf-e67617c0b032-0'\n"
     ]
    }
   ],
   "source": [
    "chat = ChatCohere()\n",
    "messages = [HumanMessage(content=\"knock knock\")]\n",
    "print(chat.invoke(messages))"
   ]
  },
  {
   "cell_type": "markdown",
   "metadata": {},
   "source": [
    "## Invoke ChatCohere using ChatPromptTemplate"
   ]
  },
  {
   "cell_type": "code",
   "execution_count": 13,
   "metadata": {},
   "outputs": [
    {
     "data": {
      "text/plain": [
       "AIMessage(content='Why did the rabbit go to the dance?\\n\\nHe wanted to hop around!', additional_kwargs={'documents': None, 'citations': None, 'search_results': None, 'search_queries': None, 'is_search_required': None, 'generation_id': '1943673b-0426-4f70-a693-be8e4f305c30', 'token_count': {'input_tokens': 72, 'output_tokens': 17}}, response_metadata={'documents': None, 'citations': None, 'search_results': None, 'search_queries': None, 'is_search_required': None, 'generation_id': '1943673b-0426-4f70-a693-be8e4f305c30', 'token_count': {'input_tokens': 72, 'output_tokens': 17}}, id='run-65cafa38-72d6-4658-b397-7107fb027bf1-0')"
      ]
     },
     "execution_count": 13,
     "metadata": {},
     "output_type": "execute_result"
    }
   ],
   "source": [
    "prompt = ChatPromptTemplate.from_template(\"Tell me a joke about {topic}\")\n",
    "chain = prompt | chat\n",
    "chain.invoke({\"topic\": \"rabbits\"})"
   ]
  },
  {
   "cell_type": "markdown",
   "metadata": {},
   "source": [
    "## Invoke Cohere"
   ]
  },
  {
   "cell_type": "code",
   "execution_count": 5,
   "metadata": {},
   "outputs": [
    {
     "data": {
      "text/html": [
       "<p>The theory of Kahnemann and Tversky is a collection of cognitive biases that affect how people make decisions and form beliefs. The theory covers a wide range of topics, including memory, decision-making, and behavioral economics. Here is a brief summary of their theory:</p>\n",
       "<ol>\n",
       "<li>\n",
       "<p>Heuristics and Biases: Kahnemann and Tversky proposed that people often rely on heuristics or mental shortcuts to make decisions, rather than rigorously weighing all available evidence. These heuristics can lead to cognitive biases, where errors in judgment arise due to systematic deviations from strict rationality. Some common biases include the availability heuristic (relying on easily recalled examples), representativeness heuristic (making judgments based on similarities to a reference class), and confirmation bias (seeking out information that supports existing beliefs).</p>\n",
       "</li>\n",
       "<li>\n",
       "<p>Prospect Theory: This theory explains how people choose between options that involve risk, like potential gains or losses. It challenges the assumption that individuals are always risk-averse, presenting a model that differentiates between choices involving certain outcomes and choices involving uncertain ones. The theory suggests that individuals tend to avoid losses and take more risks when facing potential losses, a phenomenon known as \"loss aversion.\" </p>\n",
       "</li>\n",
       "<li>\n",
       "<p>Cognitive Reflection Task: Kahnemann and Tversky introduced this task as a measure of individual differences in decision-making. It involves a set of problems where a quick answer leads to an incorrect answer, requiring participants to suppress their intuitive response and engage in more careful cognitive reflection to arrive at the correct solution. The task has been used to study the interplay between intuitive and reflective forms of reasoning.</p>\n",
       "</li>\n",
       "<li>\n",
       "<p>Anchoring and Adjustment: Anchoring is the tendency to rely heavily on the first piece of information we encounter (the \"anchor\") when making judgments, and adjust from that starting point rather than relying on more relevant information. This can lead to biases in judgment, as subsequent information is interpreted in a way that is biased towards the anchor.</p>\n",
       "</li>\n",
       "<li>\n",
       "<p>framing effect: This refers to the tendency of individuals to make different choices depending on how information is presented, often influenced by the framing of the decision. Factors like whether the frame is positive or negative, or the presentation of gains or losses can significantly impact decisions.</p>\n",
       "</li>\n",
       "<li>\n",
       "<p>Availability Cascade: This phenomenon refers to how collective perceptions can be formed and reinforced by the availability of information. When something becomes widely discussed (often due to dramatic or emotional events), it becomes more prominent in people's minds and can lead to a self-perpetuating belief that something is more true or relevant than it may actually be. </p>\n",
       "</li>\n",
       "</ol>\n",
       "<p>These are some of the key areas of research and findings from Kahnemann and Tversky's theory, offering important insights into how humans think, choose, and make decisions, and the potential pitfalls and biases that can affect these processes. </p>"
      ],
      "text/plain": [
       "<IPython.core.display.HTML object>"
      ]
     },
     "metadata": {},
     "output_type": "display_data"
    }
   ],
   "source": [
    "llm = Cohere()\n",
    "display(HTML(markdown.markdown(llm.invoke(\"Summarize the theory of Kahnemann and Tversky\"))))"
   ]
  },
  {
   "cell_type": "markdown",
   "metadata": {},
   "source": [
    "## Invoke Cohere with Tools"
   ]
  },
  {
   "cell_type": "code",
   "execution_count": 2,
   "metadata": {},
   "outputs": [],
   "source": [
    "def invoke_cohere_with_tools(input, tools, prompt_template=\"{input}\",no_markdown=False,verbose=False):\n",
    "    llm = ChatCohere()\n",
    "    prompt = ChatPromptTemplate.from_template(prompt_template)\n",
    "    agent = create_cohere_react_agent(llm, tools, prompt)\n",
    "    agent_executor = AgentExecutor(agent=agent, tools=tools, verbose=verbose)\n",
    "    response = agent_executor.invoke(input)\n",
    "    if no_markdown:\n",
    "        print(response['output'])\n",
    "    else:\n",
    "        display(HTML(markdown.markdown(response['output'])))\n",
    "    \n",
    "    return response\n",
    "\n",
    "\n",
    "\n",
    "def display_response_output(response,no_markdown=True):\n",
    "    if no_markdown:\n",
    "        print(response)\n",
    "    else:\n",
    "        display(HTML(markdown.markdown(response['output'])))\n",
    "    \n",
    "def display_response_citations(response,no_markdown=True):\n",
    "    if no_markdown:\n",
    "        print(response['citations'])\n",
    "    else:\n",
    "        display(HTML(markdown.markdown(response['citations'])))\n",
    "\n"
   ]
  },
  {
   "cell_type": "markdown",
   "metadata": {},
   "source": [
    "## Tavily Internet Search Tool"
   ]
  },
  {
   "cell_type": "code",
   "execution_count": 16,
   "metadata": {},
   "outputs": [
    {
     "data": {
      "text/html": [
       "<p>Oracle had its IPO on 12 March 1986.</p>"
      ],
      "text/plain": [
       "<IPython.core.display.HTML object>"
      ]
     },
     "metadata": {},
     "output_type": "display_data"
    }
   ],
   "source": [
    "prompt_template = \"In which year had {stock_name} its IPO? Tell me the year and the date.\"\n",
    "input =  {\"stock_name\": \"Oracle\"}\n",
    "tools = [get_internet_search_tool()]\n",
    "invoke_cohere_with_tools(input, tools, prompt_template)"
   ]
  },
  {
   "cell_type": "markdown",
   "metadata": {},
   "source": [
    "## Wikipedia Tool"
   ]
  },
  {
   "cell_type": "code",
   "execution_count": 8,
   "metadata": {},
   "outputs": [
    {
     "data": {
      "text/html": [
       "<p>Page: Daniel Kahneman\n",
       "Summary: Daniel Kahneman (; Hebrew: דניאל כהנמן; March 5, 1934 – March 27, 2024) was an Israeli-American cognitive scientist best-known for his work on the psychology of judgment and decision-making. He is also known for his work in behavioral economics, for which he was awarded the 2002 Nobel Memorial Prize in Economic Sciences together with Vernon L. Smith. Kahneman's published empirical findings challenge the assumption of human rationality prevailing in modern economic theory. Kahneman became known as the \"grandfather of behavioral economics.\"\n",
       "With Amos Tversky and others, Kahneman established a cognitive basis for common human errors that arise from heuristics and biases, and developed prospect theory. In 2011, Kahneman was named by Foreign Policy magazine in its list of top global thinkers. In the same year, his book Thinking, Fast and Slow, which summarizes much of his research, was published and became a best seller. In 2015, The Economist listed him as the seventh most influential economist in the world.\n",
       "Kahneman was professor emeritus of psychology and public affairs at Princeton University's Princeton School of Public and International Affairs. Kahneman was a founding partner of TGG Group, a business and philanthropy consulting company. He was married to cognitive psychologist and Royal Society Fellow Anne Treisman, who died in 2018.</p>"
      ],
      "text/plain": [
       "<IPython.core.display.HTML object>"
      ]
     },
     "metadata": {},
     "output_type": "display_data"
    }
   ],
   "source": [
    "input =  {\"input\": \"Explain the theory of Kahnemann and Tversky\"}\n",
    "tools = [get_wikipedia_tool()]\n",
    "invoke_cohere_with_tools(input, tools)"
   ]
  },
  {
   "cell_type": "markdown",
   "metadata": {},
   "source": [
    "## Run tool without agent"
   ]
  },
  {
   "cell_type": "code",
   "execution_count": 9,
   "metadata": {},
   "outputs": [
    {
     "data": {
      "text/plain": [
       "\"Page: David Beckham\\nSummary: David Robert Joseph Beckham  ( BEK-əm; born 2 May 1975) is an English former professional footballer, the president and co-owner of Inter Miami CF and co-owner of Salford City. Primarily a right winger and known for his range of passing, crossing ability and free-kick taking, Beckham has been hailed as one of the greatest and most recognisable midfielders of his generation, as well as one of the best free-kick takers of all time. He won 19 major trophies in his career, and is the first English player to win league titles in four different countries: England, Spain, the United States and France.\\nBeckham's professional club career began with Manchester United, where he made his first-team debut in 1992 at age 17. With United, he won the Premier League title six times, the FA Cup twice, the FA Charity Shield twice, the Intercontinental Cup and the UEFA Champions League in 1999. He then played four seasons with Real Madrid, winning the La Liga championship in his final season with the club. In July 2007, Beckham signed a five-year contract with Major League Soccer club LA Galaxy. While a Galaxy player, he spent two loan spells in Italy with AC Milan in 2009 and 2010. He became the first British footballer to play 100 UEFA Champions League games. He retired in May 2013 after a 20-year career.\\nIn international football, Beckham made his England debut on 1 September 1996, at the age of 21. He was captain for six years, earning 58 caps during his tenure. He made 115 career appearances in total, appearing at three FIFA World Cups in 1998, 2002 and 2006 as well as two UEFA European Championships in 2000 and 2004. Beckham held the England appearance record for an outfield player until 2016.\\nA global ambassador of football, Beckham is considered to be a British cultural icon. He has been in a well publicised marriage to Victoria Beckham since 1999 and was consistently ranked among the highest earners in football, in 2013 being listed as the highest-paid player in the world having earned over $50 million in the previous twelve months. Beckham was runner-up in the Ballon d'Or in 1999, twice runner-up for FIFA World Player of the Year (1999 and 2001) and in 2004 was named by Pelé in the FIFA 100 list of the world's greatest living players. He was inducted into the English Football Hall of Fame in 2008, and the Premier League Hall of Fame in 2021. He has been a UNICEF ambassador since 2005, and in 2015 he launched 7: The David Beckham UNICEF Fund. In 2014, MLS announced that Beckham and a group of investors would own Inter Miami, which began playing in 2020.\\n\\n\""
      ]
     },
     "execution_count": 9,
     "metadata": {},
     "output_type": "execute_result"
    }
   ],
   "source": [
    "wikipedia_tool = get_wikipedia_tool()\n",
    "wikipedia_tool.run(\"David Beckham\")"
   ]
  },
  {
   "cell_type": "markdown",
   "metadata": {},
   "source": [
    "## Openweathermap Tool"
   ]
  },
  {
   "cell_type": "code",
   "execution_count": 17,
   "metadata": {},
   "outputs": [
    {
     "name": "stdout",
     "output_type": "stream",
     "text": [
      "\n",
      "\n",
      "\u001b[1m> Entering new AgentExecutor chain...\u001b[0m\n",
      "\u001b[32;1m\u001b[1;3m\n",
      "I will search for the weather in Salvador da Bahia and then write an answer.\n",
      "{'tool_name': 'open_weather_map', 'parameters': {'location': 'Salvador da Bahia'}}\n",
      "\u001b[0m\u001b[36;1m\u001b[1;3mIn Salvador da Bahia, the current weather is as follows:\n",
      "Detailed status: overcast clouds\n",
      "Wind speed: 3.36 m/s, direction: 105°\n",
      "Humidity: 77%\n",
      "Temperature: \n",
      "  - Current: 23.98°C\n",
      "  - High: 23.98°C\n",
      "  - Low: 23.98°C\n",
      "  - Feels like: 24.44°C\n",
      "Rain: {}\n",
      "Heat index: None\n",
      "Cloud cover: 100%\u001b[0m\u001b[32;1m\u001b[1;3mRelevant Documents: 0\n",
      "Cited Documents: 0\n",
      "Answer: In Salvador da Bahia, it is currently 23.98°C and overcast with 77% humidity. The wind speed is 3.36 m/s and it is blowing in a south-easterly direction.\n",
      "Grounded answer: In Salvador da Bahia, it is currently <co: 0>23.98°C</co: 0> and <co: 0>overcast</co: 0> with <co: 0>77% humidity</co: 0>. The <co: 0>wind speed is 3.36 m/s</co: 0> and it is blowing in a <co: 0>south-easterly direction</co: 0>.\u001b[0m\n",
      "\n",
      "\u001b[1m> Finished chain.\u001b[0m\n"
     ]
    },
    {
     "data": {
      "text/html": [
       "<p>In Salvador da Bahia, it is currently 23.98°C and overcast with 77% humidity. The wind speed is 3.36 m/s and it is blowing in a south-easterly direction.</p>"
      ],
      "text/plain": [
       "<IPython.core.display.HTML object>"
      ]
     },
     "metadata": {},
     "output_type": "display_data"
    }
   ],
   "source": [
    "input = {\"input\": \"How is the weather in Salvador da Bahia?\"}\n",
    "tools = [get_openweathermap_tool()]\n",
    "invoke_cohere_with_tools(input, tools, verbose=True)"
   ]
  },
  {
   "cell_type": "markdown",
   "metadata": {},
   "source": [
    "## Multiple Tool Use"
   ]
  },
  {
   "cell_type": "markdown",
   "metadata": {},
   "source": [
    "1. wiki-tool\n",
    "2. open_weather_map\n",
    "3. internet_search"
   ]
  },
  {
   "cell_type": "code",
   "execution_count": 19,
   "metadata": {},
   "outputs": [
    {
     "name": "stdout",
     "output_type": "stream",
     "text": [
      "\n",
      "\n",
      "\u001b[1m> Entering new AgentExecutor chain...\u001b[0m\n",
      "\u001b[32;1m\u001b[1;3m\n",
      "I will use Wikipedia to answer this question.\n",
      "{'tool_name': 'wikipedia-tool', 'parameters': {'query': 'George Washington'}}\n",
      "\u001b[0m\u001b[38;5;200m\u001b[1;3mPage: George Washington\n",
      "Summary: George Washington (February 22, 1732 – December 14, 1799) was an American Founding Father, military officer, and politician who served as the first president of the United States from 1789 to 1797. Appointed by the Second Continental Congress as commander of the Continental Army in 1775, Washington led Patriot forces to victory in the American Revolutionary War and then served as president of the Constitutional Convention in 1787, which drafted the current Constitution of the United States. Washington has thus become commonly known as the \"Father of his Country\".\n",
      "Washington's first public office, from 1749 to 1750, was as surveyor of Culpeper County in the Colony of Virginia. He subsequently received military training and was assigned command of the Virginia Regiment during the French and Indian War. He was later elected to the Virginia House of Burgesses and was named a delegate to the Continental Congress in Philadelphia, which appointed him commander-in-chief of the Continental Army. Washington led American forces to a decisive victory over the British in the Revolutionary War, leading the British to sign the Treaty of Paris, which acknowledged the sovereignty and independence of the United States. He resigned his commission in 1783 after the conclusion of the Revolutionary War.\n",
      "Washington played an indispensable role in adopting and ratifying the Constitution, which replaced the Articles of Confederation in 1789. He was then twice elected president by the Electoral College unanimously. As the first U.S. president, Washington implemented a strong, well-financed national government while remaining impartial in a fierce rivalry that emerged between cabinet members Thomas Jefferson and Alexander Hamilton. During the French Revolution, he proclaimed a policy of neutrality while additionally sanctioning the Jay Treaty. He set enduring precedents for the office of president, including republicanism, a peaceful transfer of power, the use of the title \"Mr. President\", and the two-term tradition. His 1796 farewell address became a preeminent statement on republicanism in which he wrote about the importance of national unity and the dangers that regionalism, partisanship, and foreign influence pose to it.\n",
      "Washington's image is an icon of American culture. He has been memorialized by monuments, a federal holiday, various media depictions, geographical locations including the national capital, the State of Washington, stamps, and currency. In 1976, Washington was posthumously promoted to the rank of general of the Armies, the highest rank in the U.S. Army. Washington consistently ranks in both popular and scholarly polls as one of the greatest presidents in American history.\u001b[0m\n",
      "\u001b[32;1m\u001b[1;3m\u001b[0m\n",
      "\n",
      "\u001b[1m> Finished chain.\u001b[0m\n"
     ]
    },
    {
     "data": {
      "text/html": [
       "<p>Page: George Washington\n",
       "Summary: George Washington (February 22, 1732 – December 14, 1799) was an American Founding Father, military officer, and politician who served as the first president of the United States from 1789 to 1797. Appointed by the Second Continental Congress as commander of the Continental Army in 1775, Washington led Patriot forces to victory in the American Revolutionary War and then served as president of the Constitutional Convention in 1787, which drafted the current Constitution of the United States. Washington has thus become commonly known as the \"Father of his Country\".\n",
       "Washington's first public office, from 1749 to 1750, was as surveyor of Culpeper County in the Colony of Virginia. He subsequently received military training and was assigned command of the Virginia Regiment during the French and Indian War. He was later elected to the Virginia House of Burgesses and was named a delegate to the Continental Congress in Philadelphia, which appointed him commander-in-chief of the Continental Army. Washington led American forces to a decisive victory over the British in the Revolutionary War, leading the British to sign the Treaty of Paris, which acknowledged the sovereignty and independence of the United States. He resigned his commission in 1783 after the conclusion of the Revolutionary War.\n",
       "Washington played an indispensable role in adopting and ratifying the Constitution, which replaced the Articles of Confederation in 1789. He was then twice elected president by the Electoral College unanimously. As the first U.S. president, Washington implemented a strong, well-financed national government while remaining impartial in a fierce rivalry that emerged between cabinet members Thomas Jefferson and Alexander Hamilton. During the French Revolution, he proclaimed a policy of neutrality while additionally sanctioning the Jay Treaty. He set enduring precedents for the office of president, including republicanism, a peaceful transfer of power, the use of the title \"Mr. President\", and the two-term tradition. His 1796 farewell address became a preeminent statement on republicanism in which he wrote about the importance of national unity and the dangers that regionalism, partisanship, and foreign influence pose to it.\n",
       "Washington's image is an icon of American culture. He has been memorialized by monuments, a federal holiday, various media depictions, geographical locations including the national capital, the State of Washington, stamps, and currency. In 1976, Washington was posthumously promoted to the rank of general of the Armies, the highest rank in the U.S. Army. Washington consistently ranks in both popular and scholarly polls as one of the greatest presidents in American history.</p>"
      ],
      "text/plain": [
       "<IPython.core.display.HTML object>"
      ]
     },
     "metadata": {},
     "output_type": "display_data"
    },
    {
     "name": "stdout",
     "output_type": "stream",
     "text": [
      "\n",
      "\n",
      "\u001b[1m> Entering new AgentExecutor chain...\u001b[0m\n",
      "\u001b[32;1m\u001b[1;3m\n",
      "I will use the Open Weather Map tool to find out what the weather is like in Mortugaba, Bahia, Brazil.\n",
      "{'tool_name': 'open_weather_map', 'parameters': {'location': 'Mortugaba, Bahia, Brazil'}}\n",
      "\u001b[0m\u001b[36;1m\u001b[1;3mIn Mortugaba, Bahia, Brazil, the current weather is as follows:\n",
      "Detailed status: overcast clouds\n",
      "Wind speed: 3.13 m/s, direction: 117°\n",
      "Humidity: 94%\n",
      "Temperature: \n",
      "  - Current: 16.93°C\n",
      "  - High: 16.93°C\n",
      "  - Low: 16.93°C\n",
      "  - Feels like: 17.13°C\n",
      "Rain: {}\n",
      "Heat index: None\n",
      "Cloud cover: 100%\u001b[0m\u001b[32;1m\u001b[1;3mRelevant Documents: 0\n",
      "Cited Documents: 0\n",
      "Answer: It's currently 16.93°C in Mortugaba, Bahia, Brazil. The weather is overcast with 100% cloud cover and 94% humidity.\n",
      "Grounded answer: It's currently <co: 0>16.93°C</co: 0> in Mortugaba, Bahia, Brazil. The weather is <co: 0>overcast</co: 0> with <co: 0>100% cloud cover</co: 0> and <co: 0>94% humidity</co: 0>.\u001b[0m\n",
      "\n",
      "\u001b[1m> Finished chain.\u001b[0m\n"
     ]
    },
    {
     "data": {
      "text/html": [
       "<p>It's currently 16.93°C in Mortugaba, Bahia, Brazil. The weather is overcast with 100% cloud cover and 94% humidity.</p>"
      ],
      "text/plain": [
       "<IPython.core.display.HTML object>"
      ]
     },
     "metadata": {},
     "output_type": "display_data"
    },
    {
     "name": "stdout",
     "output_type": "stream",
     "text": [
      "\n",
      "\n",
      "\u001b[1m> Entering new AgentExecutor chain...\u001b[0m\n",
      "\u001b[32;1m\u001b[1;3m\n",
      "I will search for 'news 5 June 2024' and write an answer based on the results.\n",
      "{'tool_name': 'internet_search', 'parameters': {'query': 'news 5 June 2024'}}\n",
      "\u001b[0m\u001b[33;1m\u001b[1;3m[{'url': 'https://www.nytimes.com/issue/todaysheadlines/2024/06/05/todays-headlines', 'content': 'Headlines from The New York Times for Wednesday, June 5, 2024. Top News. In Shift, Biden Issues Order Allowing Temporary Border Closure to Migrants. By Zolan Kanno-Youngs and Hamed Aleaziz.'}, {'url': 'https://www.cnn.com/2024/06/04/us/5-things-to-know-for-june-4-hunter-biden-india-election-covid-19-heat-dome-middle-east/index.html', 'content': \"CNN's 5 Things brings you the news you need to know every morning. Ad Feedback. US. Crime + Justice ... Published 6:40 AM EDT, Tue June 4, 2024 Link Copied! Follow: Biden family See ...\"}, {'url': 'https://wng.org/podcasts/wednesday-morning-news-june-5-2024-1717511922', 'content': 'WORLD Radio - Wednesday morning news: June 5, 2024. News of the day, including President Biden issues an executive order curbing the number of immigrants and he blames Republicans for not approving earlier legislation . President Joe Biden speaks during a Congressional picnic at the White House on Tuesday. Associated Press/Photo by Alex Brandon ...'}, {'url': 'https://www.unep.org/events/un-day/world-environment-day-2024', 'content': 'When: 5 June 2024 Theme: Land restoration, desertification and drought resilience Host: The Kingdom of Saudi Arabia Visit the official campaign website. World Environment Day is the biggest international day for the environment. Led by the United Nations Environment Programme (UNEP), and held annually since 1973, it has grown to be the largest global platform for environmental outreach.'}]\u001b[0m\u001b[32;1m\u001b[1;3mRelevant Documents: 0,2,3\n",
      "Cited Documents: 0,2,3\n",
      "Answer: Today's news includes President Biden issuing an executive order to curb the number of immigrants entering the US, and World Environment Day, led by the United Nations Environment Programme.\n",
      "Grounded answer: Today's news includes <co: 0,2>President Biden issuing an executive order to curb the number of immigrants</co: 0,2> entering the US, and <co: 3>World Environment Day</co: 3>, led by the <co: 3>United Nations Environment Programme</co: 3>.\u001b[0m\n",
      "\n",
      "\u001b[1m> Finished chain.\u001b[0m\n"
     ]
    },
    {
     "data": {
      "text/html": [
       "<p>Today's news includes President Biden issuing an executive order to curb the number of immigrants entering the US, and World Environment Day, led by the United Nations Environment Programme.</p>"
      ],
      "text/plain": [
       "<IPython.core.display.HTML object>"
      ]
     },
     "metadata": {},
     "output_type": "display_data"
    }
   ],
   "source": [
    "multiple_tools = [get_openweathermap_tool(), get_internet_search_tool(), get_wikipedia_tool()]\n",
    "prompt_template = \"Use the right tool to answer the following question. If wikipedia_tool delivers no result use internet_search: {input}\"\n",
    "\n",
    "input = {\"input\": \"Who was George Washington?\"}\n",
    "invoke_cohere_with_tools(input, multiple_tools, prompt_template, verbose=True)\n",
    "\n",
    "input = {\"input\": \"What's the weather like in Mortugaba, Bahia, Brazil?\"}\n",
    "invoke_cohere_with_tools(input, multiple_tools, prompt_template, verbose=True)\n",
    "\n",
    "input = {\"input\": \"Whats in the news today?\"}\n",
    "invoke_cohere_with_tools(input, multiple_tools, prompt_template, verbose=True)"
   ]
  },
  {
   "cell_type": "markdown",
   "metadata": {},
   "source": [
    "## Yfinance Tools"
   ]
  },
  {
   "cell_type": "code",
   "execution_count": 3,
   "metadata": {},
   "outputs": [],
   "source": [
    "yfinance_tools = [get_business_summary_tool(),get_ticker_history_tool(), get_ticker_info_tool()]"
   ]
  },
  {
   "cell_type": "markdown",
   "metadata": {},
   "source": [
    "### Business Summary Tool"
   ]
  },
  {
   "cell_type": "code",
   "execution_count": 13,
   "metadata": {},
   "outputs": [
    {
     "data": {
      "text/html": [
       "<p>Microsoft Corporation develops and supports software, services, devices and solutions worldwide. The company's Productivity and Business Processes segment offers office, exchange, SharePoint, Microsoft Teams, office 365 Security and Compliance, Microsoft viva, and Microsoft 365 copilot; and office consumer services, such as Microsoft 365 consumer subscriptions, Office licensed on-premises, and other office services. The Intelligent Cloud segment offers server products and cloud services, such as azure and other cloud services; SQL and windows server, visual studio, system center, and related client access licenses, as well as nuance and GitHub; and enterprise services including enterprise support services, industry solutions, and nuance professional services. The More Personal Computing segment offers Windows, including windows OEM licensing and other non-volume licensing of the Windows operating system; Windows commercial comprising volume licensing of the Windows operating system, windows cloud services, and other Windows commercial offerings; patent licensing; and windows Internet of Things; and devices, such as surface, HoloLens, and PC accessories. Additionally, this segment provides gaming, which includes Xbox hardware and content, and first- and third-party content; Xbox game pass and other subscriptions, cloud gaming, advertising, third-party disc royalties, and other cloud services; and search and news advertising, which includes Bing, Microsoft News and Edge, and third-party affiliates. The company sells its products through OEMs, distributors, and resellers; and directly through digital marketplaces, online, and retail stores. The company was founded in 1975 and is headquartered in Redmond, Washington.</p>"
      ],
      "text/plain": [
       "<IPython.core.display.HTML object>"
      ]
     },
     "metadata": {},
     "output_type": "display_data"
    }
   ],
   "source": [
    "prompt_template_summary = \"Give me a business summary for {ticker}.\" \n",
    "input = {\"ticker\": \"MSFT\"}\n",
    "invoke_cohere_with_tools(input=input,tools=yfinance_tools,prompt_template=prompt_template_summary)"
   ]
  },
  {
   "cell_type": "markdown",
   "metadata": {},
   "source": [
    "### Ticker History Tool"
   ]
  },
  {
   "cell_type": "code",
   "execution_count": 14,
   "metadata": {},
   "outputs": [
    {
     "data": {
      "text/html": [
       "<p>Here is the timeseries for AMZN over the last 5 days:</p>\n",
       "<p>| Date | Open | High | Low | Close | Volume | Dividends | Stock Splits |\n",
       "|---|---|---|---|---|---|---|---|\n",
       "| 2024-05-29 00:00:00-04:00 | 181.699997 | 184.080002 | 181.550003 | 182.020004 | 32009300 | 0.0 | 0.0 |\n",
       "| 2024-05-30 00:00:00-04:00 | 181.309998 | 181.339996 | 178.360001 | 179.320007 | 29249200 | 0.0 | 0.0 |\n",
       "| 2024-05-31 00:00:00-04:00 | 178.300003 | 179.210007 | 173.869995 | 176.440002 | 58903900 | 0.0 | 0.0 |\n",
       "| 2024-06-03 00:00:00-04:00 | 177.699997 | 178.699997 | 175.919998 | 178.339996 | 30786600 | 0.0 | 0.0 |\n",
       "| 2024-06-04 00:00:00-04:00 | 177.639999 | 179.820007 | 176.440002 | 179.339996 | 26177000 | 0.0 | 0.0 |</p>\n",
       "<p>AMZN's performance over the last 5 days has been poor, with the stock price decreasing from 182.020004 to 179.339996.</p>"
      ],
      "text/plain": [
       "<IPython.core.display.HTML object>"
      ]
     },
     "metadata": {},
     "output_type": "display_data"
    }
   ],
   "source": [
    "prompt_template_history = \"How did {ticker} perform the last {period}? Show the timeseries in a dataframe and calculate and rate the performance.\"\n",
    "ticker = 'AMZN'\n",
    "period = '5d'\n",
    "input = {\"ticker\": {ticker}, \"period\": {period}}\n",
    "invoke_cohere_with_tools(input=input, tools=yfinance_tools,prompt_template=prompt_template_history)"
   ]
  },
  {
   "cell_type": "markdown",
   "metadata": {},
   "source": [
    "### Ticker Info Tool with Investment Rating"
   ]
  },
  {
   "cell_type": "code",
   "execution_count": 15,
   "metadata": {},
   "outputs": [
    {
     "data": {
      "text/html": [
       "<h2>Key figures, technical indicators and analyst recommendations:</h2>\n",
       "<ul>\n",
       "<li>Address: 114 East Main Street, Ayer, MA, 01432, United States</li>\n",
       "<li>Phone: 978 842 3000</li>\n",
       "<li>Fax: 978 842 3024</li>\n",
       "<li>Website: https://www.amsc.com</li>\n",
       "<li>Industry: Specialty Industrial Machinery</li>\n",
       "<li>Sector: Industrials</li>\n",
       "<li>Previous close: 20.77</li>\n",
       "<li>Open: 20.49</li>\n",
       "<li>Day low: 19.41</li>\n",
       "<li>Day high: 21.19</li>\n",
       "<li>Forward PE: 65.71875</li>\n",
       "<li>Volume: 1,313,239</li>\n",
       "<li>Average volume: 520,309</li>\n",
       "<li>Average volume (10 days): 1,303,420</li>\n",
       "<li>Bid: 20.98</li>\n",
       "<li>Ask: 21.05</li>\n",
       "<li>Market cap: $777,994,368</li>\n",
       "<li>52-week low: 5.25</li>\n",
       "<li>52-week high: 21.19</li>\n",
       "<li>Price to sales trailing 12 months: 5.3419366</li>\n",
       "<li>50-day average: 13.82</li>\n",
       "<li>200-day average: 10.8763</li>\n",
       "<li>Currency: USD</li>\n",
       "<li>Enterprise value: $690,181,696</li>\n",
       "<li>Profit margins: -0.076290004</li>\n",
       "<li>Float shares: 32,639,892</li>\n",
       "<li>Shares outstanding: 36,994,500</li>\n",
       "<li>Shares short: 1,850,417</li>\n",
       "<li>Shares short prior month: 2,163,328</li>\n",
       "<li>Shares short date: 1715731200</li>\n",
       "<li>Shares percent shares out: 0.050100002</li>\n",
       "<li>Held percent insiders: 0.04301</li>\n",
       "<li>Held percent institutions: 0.63358</li>\n",
       "<li>Short ratio: 6.35</li>\n",
       "<li>Short percent of float: 0.052699998</li>\n",
       "<li>Implied shares outstanding: 36,994,500</li>\n",
       "<li>Book value: 3.913</li>\n",
       "<li>Price to book: 5.374393</li>\n",
       "<li>Last fiscal year end: 1711843200</li>\n",
       "<li>Next fiscal year end: 1743379200</li>\n",
       "<li>Most recent quarter: 1711843200</li>\n",
       "<li>Net income to common: -11,111,000</li>\n",
       "<li>Trailing EPS: -0.37</li>\n",
       "<li>Forward EPS: 0.32</li>\n",
       "<li>PEG ratio: 13.85</li>\n",
       "<li>Target high price: 23.0</li>\n",
       "<li>Target low price: 20.0</li>\n",
       "<li>Target mean price: 22.0</li>\n",
       "<li>Target median price: 23.0</li>\n",
       "<li>Recommendation mean: 1.7</li>\n",
       "<li>Recommendation key: buy</li>\n",
       "<li>Number of analyst opinions: 3</li>\n",
       "<li>Total cash: $90,522,000</li>\n",
       "<li>Total cash per share: $2.447</li>\n",
       "<li>EBITDA: -$1,966,000</li>\n",
       "<li>Total debt: $2,709,000</li>\n",
       "<li>Quick ratio: 1.483</li>\n",
       "<li>Current ratio: 2.112</li>\n",
       "<li>Total revenue: $145,639,008</li>\n",
       "<li>Debt to equity: 1.874</li>\n",
       "<li>Revenue per share: $4.883</li>\n",
       "<li>Return on assets: -0.01978</li>\n",
       "<li>Return on equity: -0.098170005</li>\n",
       "<li>Free cash flow: $1,232,500</li>\n",
       "<li>Operating cash flow: $2,138,000</li>\n",
       "<li>Revenue growth: 0.324</li>\n",
       "<li>Gross margins: 0.24226</li>\n",
       "<li>EBITDA margins: -0.0135</li>\n",
       "<li>Operating margins: -0.00849</li>\n",
       "</ul>\n",
       "<h2>Fundamental and technical data analysis:</h2>\n",
       "<p>AMSC has a \"buy\" recommendation from analysts, with a mean recommendation of 1.7 and a target mean price of $22. The stock is currently trading above its 50-day and 200-day averages, indicating upward momentum. The company has strong revenue growth of 0.324 and healthy gross margins of 0.24226. However, it has negative profit margins and return on assets, and its return on equity is also negative. The company has a high short interest, with 5.27% of the float short, which could indicate that some investors are betting against the stock. Overall, AMSC appears to be a speculative investment with potential upside, but it may be best suited for investors with a higher risk tolerance.</p>"
      ],
      "text/plain": [
       "<IPython.core.display.HTML object>"
      ]
     },
     "metadata": {},
     "output_type": "display_data"
    }
   ],
   "source": [
    "prompt_template_ticker_info = \"\"\"I need detailed information about {ticker_symbol}. Produce a key value list for the 25 most important {topics} using CRLF before each point.\n",
    "                                 After that analyze the fundamental and technical data and rate the company. Is it a good buy? Is it oversold or overbought? Is it a stable investment\n",
    "                                 with a good sharpe ratio?\"\"\"\n",
    "yfinance_tools = [get_ticker_info_tool()]\n",
    "input = {\"ticker_symbol\": \"AMSC\", \"topics\": \"key figures, technical indicators and analyst recommendations\"}\n",
    "\n",
    "invoke_cohere_with_tools(input=input, tools=yfinance_tools, prompt_template=prompt_template_ticker_info)"
   ]
  },
  {
   "cell_type": "markdown",
   "metadata": {},
   "source": [
    "## Alpha Vantage Tool"
   ]
  },
  {
   "cell_type": "code",
   "execution_count": 21,
   "metadata": {},
   "outputs": [
    {
     "name": "stdout",
     "output_type": "stream",
     "text": [
      "\n",
      "\n",
      "\u001b[1m> Entering new AgentExecutor chain...\u001b[0m\n",
      "\u001b[32;1m\u001b[1;3m\n",
      "I will use the currency conversion tool to find out how much one USD is in EUR.\n",
      "{'tool_name': 'av_get_exchange_rate', 'parameters': {'from_currency': 'USD', 'to_currency': 'EUR'}}\n",
      "\u001b[0m\u001b[36;1m\u001b[1;3m{'Realtime Currency Exchange Rate': {'1. From_Currency Code': 'USD', '2. From_Currency Name': 'United States Dollar', '3. To_Currency Code': 'EUR', '4. To_Currency Name': 'Euro', '5. Exchange Rate': '0.91920000', '6. Last Refreshed': '2024-06-05 09:52:32', '7. Time Zone': 'UTC', '8. Bid Price': '0.91917000', '9. Ask Price': '0.91920000'}}\u001b[0m\n",
      "\u001b[32;1m\u001b[1;3m\u001b[0m\n",
      "\n",
      "\u001b[1m> Finished chain.\u001b[0m\n",
      "{'Realtime Currency Exchange Rate': {'1. From_Currency Code': 'USD', '2. From_Currency Name': 'United States Dollar', '3. To_Currency Code': 'EUR', '4. To_Currency Name': 'Euro', '5. Exchange Rate': '0.91920000', '6. Last Refreshed': '2024-06-05 09:52:32', '7. Time Zone': 'UTC', '8. Bid Price': '0.91917000', '9. Ask Price': '0.91920000'}}\n"
     ]
    }
   ],
   "source": [
    "yfinance_tools = [\n",
    "    # get_search_symbol_tool(),\n",
    "    get_exchange_rate_tool(),\n",
    "    # get_time_series_daily_tool(),\n",
    "    # get_time_series_weekly_tool(),\n",
    "    # get_market_news_sentimen_tool(),\n",
    "    # get_top_gainers_losers_tool(),\n",
    "]\n",
    "# alpha_vantage = AlphaVantageAPIWrapper()\n",
    "# alpha_vantage._get_exchange_rate(\"USD\", \"JPY\")\n",
    "# alpha_vantage._get_time_series_daily(\"MSFT\")\n",
    "# alpha_vantage._get_time_series_weekly(\"IBM\")\n",
    "# alpha_vantage.search_symbols(\"American Superconductor\")\n",
    "# alpha_vantage._get_market_news_sentiment(\"Microsoft\")\n",
    "# alpha_vantage._get_top_gainers_losers()\n",
    "# response = agent_executor.invoke(\n",
    "#     {\"input\": \"What is the symbol for American Superconductor?\"}\n",
    "# )\n",
    "input = {\"input\": \"How much is one USD in EUR?\"}\n",
    "invoke_cohere_with_tools(input, yfinance_tools, no_markdown= True, verbose=True)\n",
    "# response = agent_executor.invoke({\"input\": \"Who are the gainers and losers at the stock exchange?\"})\n",
    "# response = agent_executor.invoke({\"input\": \"How is Microsoft performing historically?\"})\n",
    "# response = agent_executor.invoke({\"input\": \"How did Apple perform the last time?\"})\n",
    "# response = agent_executor.invoke({\"input\": \"What is in the news about Nvidia?\"})"
   ]
  },
  {
   "cell_type": "markdown",
   "metadata": {},
   "source": [
    "## Polygon Toolkit"
   ]
  },
  {
   "cell_type": "markdown",
   "metadata": {},
   "source": [
    "### Polygon Tools"
   ]
  },
  {
   "cell_type": "markdown",
   "metadata": {},
   "source": [
    "#### Get Tools"
   ]
  },
  {
   "cell_type": "code",
   "execution_count": 4,
   "metadata": {},
   "outputs": [],
   "source": [
    "polygon = PolygonAPIWrapper()\n",
    "toolkit = PolygonToolkit.from_polygon_api_wrapper(polygon)\n",
    "polygon_tools = toolkit.get_tools()"
   ]
  },
  {
   "cell_type": "markdown",
   "metadata": {},
   "source": [
    "#### Display Tools"
   ]
  },
  {
   "cell_type": "code",
   "execution_count": 6,
   "metadata": {},
   "outputs": [
    {
     "data": {
      "text/html": [
       "<h1>polygon_aggregates</h1>\n",
       "\n",
       "<h2>Description</h2>\n",
       "<p>A wrapper around Polygon's Aggregates API. This tool is useful for fetching aggregate bars (stock prices) for a ticker. Input should be the ticker, date range, timespan, and timespan multiplier that you want to get the aggregate bars for.</p>\n",
       "<h2>Schema</h2>\n",
       "<p>{'title': 'PolygonAggregatesSchema', 'description': 'Input for PolygonAggregates.', 'type': 'object', 'properties': {'ticker': {'title': 'Ticker', 'description': 'The ticker symbol to fetch aggregates for.', 'type': 'string'}, 'timespan': {'title': 'Timespan', 'description': \"The size of the time window. Possible values are: second, minute, hour, day, week, month, quarter, year. Default is 'day'\", 'type': 'string'}, 'timespan_multiplier': {'title': 'Timespan Multiplier', 'description': \"The number of timespans to aggregate. For example, if timespan is 'day' and timespan_multiplier is 1, the result will be daily bars. If timespan is 'day' and timespan_multiplier is 5, the result will be weekly bars.  Default is 1.\", 'type': 'integer'}, 'from_date': {'title': 'From Date', 'description': 'The start of the aggregate time window. Either a date with the format YYYY-MM-DD or a millisecond timestamp.', 'type': 'string'}, 'to_date': {'title': 'To Date', 'description': 'The end of the aggregate time window. Either a date with the format YYYY-MM-DD or a millisecond timestamp.', 'type': 'string'}}, 'required': ['ticker', 'timespan', 'timespan_multiplier', 'from_date', 'to_date']}</p>"
      ],
      "text/plain": [
       "<IPython.core.display.HTML object>"
      ]
     },
     "metadata": {},
     "output_type": "display_data"
    },
    {
     "data": {
      "text/html": [
       "<h1>polygon_last_quote</h1>\n",
       "\n",
       "<h2>Description</h2>\n",
       "<p>A wrapper around Polygon's Last Quote API. This tool is useful for fetching the latest price of a stock. Input should be the ticker that you want to query the last price quote for.</p>\n",
       "<h2>Schema</h2>\n",
       "<p>{'title': 'Inputs', 'description': \"Inputs for Polygon's Last Quote API\", 'type': 'object', 'properties': {'query': {'title': 'Query', 'type': 'string'}}, 'required': ['query']}</p>"
      ],
      "text/plain": [
       "<IPython.core.display.HTML object>"
      ]
     },
     "metadata": {},
     "output_type": "display_data"
    },
    {
     "data": {
      "text/html": [
       "<h1>polygon_ticker_news</h1>\n",
       "\n",
       "<h2>Description</h2>\n",
       "<p>A wrapper around Polygon's Ticker News API. This tool is useful for fetching the latest news for a stock. Input should be the ticker that you want to get the latest news for.</p>\n",
       "<h2>Schema</h2>\n",
       "<p>{'title': 'Inputs', 'description': \"Inputs for Polygon's Ticker News API\", 'type': 'object', 'properties': {'query': {'title': 'Query', 'type': 'string'}}, 'required': ['query']}</p>"
      ],
      "text/plain": [
       "<IPython.core.display.HTML object>"
      ]
     },
     "metadata": {},
     "output_type": "display_data"
    },
    {
     "data": {
      "text/html": [
       "<h1>polygon_financials</h1>\n",
       "\n",
       "<h2>Description</h2>\n",
       "<p>A wrapper around Polygon's Stock Financials API. This tool is useful for fetching fundamental financials from balance sheets, income statements, and cash flow statements for a stock ticker. The input should be the ticker that you want to get the latest fundamental financial data for.</p>\n",
       "<h2>Schema</h2>\n",
       "<p>{'title': 'Inputs', 'description': \"Inputs for Polygon's Financials API\", 'type': 'object', 'properties': {'query': {'title': 'Query', 'type': 'string'}}, 'required': ['query']}</p>"
      ],
      "text/plain": [
       "<IPython.core.display.HTML object>"
      ]
     },
     "metadata": {},
     "output_type": "display_data"
    }
   ],
   "source": [
    "for tool in polygon_tools:\n",
    "    schema = str(tool.args_schema.schema())\n",
    "    tool_documentation = f\"<h1>{tool.name}</h1>\\n\\n<h2>Description</h2>{tool.description}\\n\\n<h2>Schema</h2>{schema}\"\n",
    "    display(HTML(markdown.markdown(tool_documentation)))"
   ]
  },
  {
   "cell_type": "markdown",
   "metadata": {},
   "source": [
    "### Financials"
   ]
  },
  {
   "cell_type": "code",
   "execution_count": 7,
   "metadata": {},
   "outputs": [
    {
     "data": {
      "text/html": [
       "<p>I was unable to find the market value of AMSC, but here is an overview of the company's financial situation:</p>\n",
       "<ul>\n",
       "<li>AMSC has a net income loss of -$11,111,000.</li>\n",
       "<li>The company's gross profit is $35,283,000.</li>\n",
       "<li>AMSC's operating expenses are $46,651,000.</li>\n",
       "<li>The company's total assets are $232,771,000.</li>\n",
       "<li>AMSC's total liabilities are $88,200,000.</li>\n",
       "<li>The company's net cash flow is $66,618,000.</li>\n",
       "</ul>\n",
       "<p>Based on this information, it appears that AMSC is currently operating at a loss, with a negative net income and operating expenses that exceed gross profit. However, the company does have positive net cash flow and total assets that exceed total liabilities. Overall, the financial situation of AMSC appears to be mixed, with some positive and negative indicators.</p>"
      ],
      "text/plain": [
       "<IPython.core.display.HTML object>"
      ]
     },
     "metadata": {},
     "output_type": "display_data"
    }
   ],
   "source": [
    "prompt_template_av_financials = \"\"\"How are the financials for {ticker}? What is its market value? \n",
    "                                   Produce an overview in form of a bullet point list (use CRLF for new lines)\n",
    "                                   and rate the financial situation of the company.\"\"\"\n",
    "ticker = \"AMSC\"\n",
    "input = {\"ticker\": ticker}\n",
    "invoke_cohere_with_tools(tools=polygon_tools,input=input,prompt_template=prompt_template_av_financials)"
   ]
  },
  {
   "cell_type": "markdown",
   "metadata": {},
   "source": [
    "### Ticker News Sentiment"
   ]
  },
  {
   "cell_type": "code",
   "execution_count": null,
   "metadata": {},
   "outputs": [],
   "source": [
    "prompt_template_av_sentiment = \"What is the news sentiment for {ticker}? Rate the sentiment based on the news and explain your rating.\"\n",
    "ticker = \"AMSC\"\n",
    "input = {\"ticker\": ticker}\n",
    "invoke_cohere_with_tools(tools=polygon_tools,input=input,prompt_template=prompt_template_av_sentiment)"
   ]
  },
  {
   "cell_type": "markdown",
   "metadata": {},
   "source": [
    "### Aggregates"
   ]
  },
  {
   "cell_type": "markdown",
   "metadata": {},
   "source": [
    "#### Invoke LLM with Tool"
   ]
  },
  {
   "cell_type": "code",
   "execution_count": null,
   "metadata": {},
   "outputs": [],
   "source": [
    "# Poloygon is called with the correct arguments but this produces an API error\n",
    "# input = {\"input\": \"How did MSFT perform the last 5 days?\"}\n",
    "# invoke_cohere_with_tools(tools=tools,input=input)"
   ]
  },
  {
   "cell_type": "markdown",
   "metadata": {},
   "source": [
    "#### Run Tool"
   ]
  },
  {
   "cell_type": "code",
   "execution_count": 7,
   "metadata": {},
   "outputs": [
    {
     "name": "stdout",
     "output_type": "stream",
     "text": [
      "[{\"v\": 73450582.0, \"vw\": 179.0322, \"o\": 179.55, \"c\": 179.66, \"h\": 180.53, \"l\": 177.38, \"t\": 1709269200000, \"n\": 911077}, {\"v\": 81505451.0, \"vw\": 174.8938, \"o\": 176.15, \"c\": 175.1, \"h\": 176.9, \"l\": 173.79, \"t\": 1709528400000, \"n\": 1167166}, {\"v\": 94702355.0, \"vw\": 170.3234, \"o\": 170.76, \"c\": 170.12, \"h\": 172.04, \"l\": 169.62, \"t\": 1709614800000, \"n\": 1108820}, {\"v\": 68568907.0, \"vw\": 169.5506, \"o\": 171.06, \"c\": 169.12, \"h\": 171.24, \"l\": 168.68, \"t\": 1709701200000, \"n\": 896297}, {\"v\": 71763761.0, \"vw\": 169.3619, \"o\": 169.15, \"c\": 169, \"h\": 170.73, \"l\": 168.49, \"t\": 1709787600000, \"n\": 825405}, {\"v\": 76267041.0, \"vw\": 171.5322, \"o\": 169, \"c\": 170.73, \"h\": 173.7, \"l\": 168.94, \"t\": 1709874000000, \"n\": 925213}]\n"
     ]
    }
   ],
   "source": [
    "from langchain_community.tools.polygon.aggregates import PolygonAggregates\n",
    "from langchain_community.tools.polygon.financials import PolygonFinancials\n",
    "from langchain_community.tools.polygon.last_quote import PolygonLastQuote\n",
    "from langchain_community.tools.polygon.ticker_news import PolygonTickerNews\n",
    "from langchain_community.utilities.polygon import PolygonAPIWrapper\n",
    "from langchain_community.tools.polygon.aggregates import PolygonAggregatesSchema\n",
    "\n",
    "api_wrapper = PolygonAPIWrapper()\n",
    "ticker = \"AAPL\"\n",
    "\n",
    "# Define param\n",
    "params = PolygonAggregatesSchema(\n",
    "    ticker=ticker,\n",
    "    timespan=\"day\",\n",
    "    timespan_multiplier=1,\n",
    "    from_date=\"2024-03-01\",\n",
    "    to_date=\"2024-03-08\",\n",
    ")\n",
    "# Get aggregates for ticker\n",
    "aggregates_tool = PolygonAggregates(api_wrapper=api_wrapper)\n",
    "aggregates = aggregates_tool.run(tool_input=params.dict())\n",
    "print(aggregates)"
   ]
  },
  {
   "cell_type": "markdown",
   "metadata": {},
   "source": [
    "### Last Quote"
   ]
  },
  {
   "cell_type": "code",
   "execution_count": 9,
   "metadata": {},
   "outputs": [],
   "source": [
    "# Works only with premium subscription at Polygon\n",
    "# input = {\"input\": \"What is the end of day price for MSFT?\"}\n",
    "# invoke_cohere_with_tools(tools=polygon_tools,input=input)"
   ]
  },
  {
   "cell_type": "markdown",
   "metadata": {},
   "source": [
    "## Financials, News and Technical Combined"
   ]
  },
  {
   "cell_type": "code",
   "execution_count": 5,
   "metadata": {},
   "outputs": [
    {
     "name": "stdout",
     "output_type": "stream",
     "text": [
      "\n",
      "\n",
      "\u001b[1m> Entering new AgentExecutor chain...\u001b[0m\n",
      "\u001b[32;1m\u001b[1;3m\n",
      "I will first search for the current macroeconomic situation, the performance of the big indices, the performance of the different sectors, the actual value of the fear and greed index, and the sentiment at the stock market exchanges. Then, I will answer the user's queries about TER. Finally, I will provide an investment and trading advice based on the gathered information.\n",
      "{'tool_name': 'internet_search', 'parameters': {'query': 'current macroeconomic situation'}}\n",
      "\u001b[0m\u001b[38;5;200m\u001b[1;3m[{'url': 'https://www.npr.org/2024/01/25/1226811891/economy-gdp-recession-growth-interest-rates-inflation-federal-reserve', 'content': '\"\\nBusiness\\nThese 5 charts show how life got pricier, but also cheaper, in 2023\\nSo far, forecasters have been pleasantly surprised that the economy has avoided such pitfalls, and Zandi is optimistic that the encouraging trends will continue.\\n Consumers lead the way\\nConsumer spending is the biggest driver of the U.S. economy, and Americans kept their foot on the gas — eating out in restaurants, buying sporting goods, and paying for travel.\\n Business\\nThe S&P 500 surges to a record high as hopes about the economy — and Big Tech — grow\\nThat was substantially faster than forecasters had expected.\\n Instead, the economy has continued to soar\\nScott Horsley\\nA person carries shopping bags at a shopping center on the day after Christmas on Dec. 26, 2023 in Glendale, Calif. The nation\\'s gross domestic product — the broadest measure of economic activity — grew at an annual pace of 3.3% in October, November, and December, according to a report Thursday from the Commerce Department.\\n'}, {'url': 'https://www2.deloitte.com/us/en/insights/economy/global-economic-outlook/weekly-update.html', 'content': 'The Federal Reserve, the European Central Bank (ECB), the Bank of England, and the Bank of Canada have all recently held interest rates steady after a prolonged period of rising rates—with the Fed and the Bank of England acting last week.\\n Week of November 6, 2023\\nMore evidence the US economy is likely headed toward a soft landing\\nHere are the details: The government releases two reports on the job market; one based on a survey of establishments, the other based on a survey of households. Week of November 20, 2023\\nUS inflation continues to recede\\nEconomy\\nExplore from Deloitte Insights’ economics collection\\nIn any event, here are the details of the inflation report: In October, the consumer price index (CPI) was up 3.2% from a year earlier after having risen 3.7% in September. Given the current relationship between China and the United States, there is risk that the United States could impose restrictions on the ability of China to obtain access to its dollars.\\n In any event, following the release of the inflation data, the yield on the US Treasury’s 10-year bond fell 17 basis points, hitting the lowest level since mid-September.'}, {'url': 'https://www.imf.org/en/Publications/WEO/Issues/2024/01/30/world-economic-outlook-update-january-2024', 'content': 'Global growth is projected at 3.1 percent in 2024 and 3.2 percent in 2025, with the 2024 forecast 0.2 percentage point higher than that in the October 2023 World Economic Outlook (WEO) on account of greater-than-expected resilience in the United States and several large emerging market and developing economies, as well as fiscal support in China.'}, {'url': 'https://www.bea.gov/news/glance', 'content': \"The U.S. net international investment position, the difference between U.S. residents' foreign financial assets and liabilities, was -$19.77 trillion at the end of the fourth quarter of 2023, according to statistics released today by the U.S. Bureau of Economic Analysis (BEA). Assets totaled $34.54 trillion, and liabilities were $54.31 trillion.\"}]\u001b[0m\u001b[32;1m\u001b[1;3m\n",
      "{'tool_name': 'internet_search', 'parameters': {'query': 'performance of the big indices'}}\n",
      "\u001b[0m\u001b[38;5;200m\u001b[1;3m[{'url': 'https://www.macrotrends.net/charts/stock-indexes', 'content': 'A series of current and historical charts tracking major U.S. stock market indices. Charts of the Dow Jones, S&P 500, NASDAQ and many more. Stock Screener. Stock Research. Delisted Stocks. Market Indexes. Precious Metals ... Stock Market Performance by President. S&P 500 by President. Dow Jones - 1929 Bear Market. S&P 500 - 10 Year Daily ...'}, {'url': 'https://www.morningstar.com/markets', 'content': \"Featured Markets and Investing\\nMarket Movers\\nMost Active Stocks\\nTop Stock Gainers\\nBiggest Stock Losers\\nMorningstar Stock Sectors\\nLatest Markets and Investing\\nIs the Stock Market Cheap or Expensive\\nOvervalued\\nUndervalued\\nGlobal Market Barometer\\nBond Market Performance\\nEven with a slowing economy next year, investors should expect higher rates.\\n Data Week Ahead\\nDJIA Rises 1.27% This Week to 35390.15 — Data Talk\\nS&P 500 Rises 1.00% This Week to 4559.34 — Data Talk\\nMore Articles and Videos\\nSponsor Center\\nTransparency is how we protect the integrity of our work and keep\\nempowering investors to achieve their goals and dreams. The Week Ahead — Barron's\\nIPC Indice de Precios Y Cotizaciones Ends the Week 0.48% Higher at 52938.42 — Data Talk\\nBOVESPA Index Ends the Week 0.60% Higher at 125517.27 — Data Talk\\nS&P/TSX Composite Index Ends the Week 0.36% Lower at 20103.11 — Data Talk\\nS&P MERVAL Index Ends the Week 42.25% Higher at 917599.31 — Data Talk\\nPersonal Income on Tap — Markets\\nMarket Indexes\\nU.S. Market Barometer\\nU.S. STOCK MARKET CLOSED\\nMorningstar US Market Index\\nStocks ended the day slightly higher on Friday, with the Morningstar US Market Index gaining 0.11%, led by gains in healthcare stocks.\\n Market Outlooks and Quarter-End Insights\\nQ2 2023 in Review and Market Outlook\\n2023 Midyear Markets Outlook\\nQ3 Stock Market Outlook: Time to Batten Down the Hatches or Raise the Sail?\\n14 Charts On New Bull Market for Stocks, Mixed Returns for Bonds in Q2\\n\"}, {'url': 'https://www.wsj.com/livecoverage/stock-market-today-dow-sp-500-nasdaq-live-06-03-2024', 'content': 'Stock indexes finished mixed.The Nasdaq rose 0.6%. The S&P 500 ticked 0.1% higher, while the Dow was off 0.3%, or 115 points. All three indexes closed out May with monthly gains on Friday.'}, {'url': 'https://www.google.com/finance/markets/indexes', 'content': 'Get the latest real-time quotes, historical performance, charts, and other stock market data across major world indexes.'}]\u001b[0m\u001b[32;1m\u001b[1;3m\n",
      "{'tool_name': 'internet_search', 'parameters': {'query': 'performance of the different sectors'}}\n",
      "\u001b[0m\u001b[38;5;200m\u001b[1;3m[{'url': 'https://novelinvestor.com/sector-performance/', 'content': 'Past performance does not guarantee future returns. The historical performance is meant to show changes in market trends across the different S&P 500 sectors over the past ten years. Returns represent total annual returns (reinvestment of all distributions) and does not include fees and expenses. The investments you choose should reflect your financial goals and risk tolerance. For assistance ...'}, {'url': 'https://money.usnews.com/investing/articles/stock-market-sectors-101-a-guide-to-all-11-sectors', 'content': 'The information technology sector has a market cap of more than $13.6 trillion as of October 2023, making it the most valuable of the 11 sectors. Major examples: Apple Inc. ( AAPL ), Cisco Systems ...'}, {'url': 'https://www.bloomberg.com/markets/sectors', 'content': 'Research the performance of U.S. sectors & industries. Find the latest new and performance information on the markets and track the top global sectors.'}, {'url': 'https://finance.yahoo.com/sectors/', 'content': \"USB. -1.50%. USB-PR. +0.89%. Yahoo Finance's collection of sector and industry dashboards and free screeners help you examine economic performance and trends to inform your investing decisions.\"}]\u001b[0m\u001b[32;1m\u001b[1;3m\n",
      "{'tool_name': 'internet_search', 'parameters': {'query': 'actual value of the fear and greed index'}}\n",
      "\u001b[0m\u001b[38;5;200m\u001b[1;3m[{'url': 'https://www.forbes.com/sites/investor-hub/article/what-is-the-fear-and-greed-index-and-how-to-use-it/', 'content': 'Labels are applied to index ranges, so you can easily interpret the prevailing sentiment:\\nFear & Greed Sentiments By Index Scores\\nIf you agree with the logic that investor sentiment pushes stock prices up or down, you can use the Fear and Greed Index as a general valuation indicator. Pros And Cons Of Using The Fear And Greed Index\\nAs with any investing resource, there are pros and cons to using the Fear and Greed Index to inform your investing. \"\\nThe brain trust at Forbes has run the numbers, conducted the research, and done the analysis to come up with some of the best places for you to make money in 2024. Interpreting the Fear and Greed Index\\nAs noted, a lower Fear and Greed Index value implies a fearful investing climate, and a higher number can indicate investor optimism. The brain trust at Forbes has run the numbers, conducted the research, and done the analysis to come up with some of the best places for you to make money in 2024.'}, {'url': 'https://www.cnn.com/markets/fear-and-greed', 'content': 'The Fear & Greed Index uses a bearish options ratio as a signal for Fear.\\nVIX and its 50-day moving average\\nVIX\\n50-day moving average\\nThe most well-known measure of market sentiment is the CBOE Volatility Index, or VIX. Learn more about the index\\n7 fear & greed indicators\\nS&P 500 and its 125-day moving average\\nS&P 500\\n125-day moving average\\nIt’s useful to look at stock market levels compared to where they’ve been over the past few months. The Fear & Greed Index uses decreasing trading volume as a signal for Fear.\\n5-day average put/call ratio\\nOptions are contracts that give investors the right to buy or sell stocks, indexes or other financial securities at an agreed upon price and date. CNN values your feedback\\nMarkets\\nFear & Greed Index\\nLatest Market News\\nFear & Greed Index\\nWhat emotion is driving the market now? How to use Fear & Greed Index?\\nThe Fear & Greed Index is used to gauge the mood of the market.'}, {'url': 'https://www.investopedia.com/terms/f/fear-and-greed-index.asp', 'content': 'The seven fear and greed indicators include:\\nThe Fear & Greed Index vs. the Cryptocurrency Index\\nA similar index based on fear and greed and tailored to the cryptocurrency market was introduced by Alternative. The Fear & Greed Index: What It Is and How It Works\\nDaniel Liberto is a journalist with over 10 years of experience working with publications such as the Financial Times, The Independent, and Investors Chronicle.\\n The index sank to a low of 12 in September 2008, when the S&P 500 fell to a three-year low in the aftermath of the Lehman Brothers bankruptcy and the near-demise of insurance giant AIG. On March 12, 2020, during the rise of the COVID-19 pandemic, the index fell to an annual low of 2 when stocks plunged 10%\\xa0and entered a\\xa0bear market\\xa0after President Donald Trump announced a U.S. travel ban due to the escalating coronavirus fears. The Fear & Greed index is calculated daily, weekly, monthly, and yearly and is based on the logic that excessive fear will drive share prices down, and too much greed will drive prices up.\\n'}, {'url': 'https://finance.yahoo.com/news/fear-greed-index-definition-examples-173249677.html', 'content': 'The Fear and Greed index is a metric published by CNN Money that measures investor sentiments across the stock market on a scale that ranges from zero, or \"Extreme Fear,\" to 100, or \"Extreme ...'}]\u001b[0m\u001b[32;1m\u001b[1;3m\n",
      "{'tool_name': 'internet_search', 'parameters': {'query': 'sentiment at the stock market exchanges'}}\n",
      "\u001b[0m\u001b[38;5;200m\u001b[1;3m[{'url': 'https://www.dailyfx.com/education/understanding-the-stock-market/stock-market-sentiment-analysis.html', 'content': 'Recent Currencies Headlines\\nRecent Commodities Headlines\\nRecent Stocks Headlines\\nRecent Cryptocurrencies Headlines\\nFree Guide\\nHow to Use IG Client Sentiment in Your Trading\\nTrading Tools\\nRates\\nLive forex rates at a glance\\nEarnings Calendar\\nKeep track of companies that are about to announce their earnings\\nSentiment\\nDiscover who is going long and short\\nDNA FX\\nCheck what kind of trader you are\\nEconomic Calendar\\nExplore key global events on the horizon\\nLive Chart\\nLatest price data across forex and major assets\\nSupport & Resistance\\nView S&R levels for forex, commodities and indices\\nView All Tools\\nEconomic Calendar\\nFree Trading Guides\\nForex for Beginners\\nTraits of Successful Traders\\nCryptocurrency Trading\\nNotify me about\\nH\\nM\\nL\\nNote: Low and High figures are for the trading day.\\n When the demand for put options increases, this can lead to an increase in the VIX, which is one of the reasons why many refer to it as the ‘fear gauge’.\\n3) Client Sentiment\\nClient sentiment data is derived from retail traders and indicates the percentage who are long or short an asset at a given time. Investors that are bullish in a stock may look at buying call options to take advantage of the higher prices that they’re expecting; while an investor that’s bearish may look at buying a put option, so that when the stock price falls they can later sell the stock at the higher strike price of the option.\\n Stock Market Sentiment Analysis: Key Takeaways\\nFurther Readings on Trading with Market Sentiment\\nStock Market Sentiment FAQs\\nWhat does it mean to be bullish or bearish in the stock market?\\n When sentiment is negative, it likely means that investors are pessimistic about the value of the stock and this could lead to it being oversold, at which point reversal potential may appear from oversold conditions, thereby leading to the potential contrarian implementation of sentiment analysis.\\n'}, {'url': 'https://www.nasdaq.com/market-activity', 'content': 'Find the latest stock market trends and activity today. Compare key indexes, including Nasdaq Composite, Nasdaq-100, Dow Jones Industrial & more.'}, {'url': 'https://www.investopedia.com/terms/s/sentimentindicator.asp', 'content': \"Sentiment Indicators vs. Technical Indicators\\nWhile some sentiment indicators will also fall under the heading of a technical indicator, or vice versa, sentiment indicators are meant to show how consumers or investors have positioned themselves—or what their current beliefs are about the economy or market.\\n These market psychology-based indicators attempt to quantify sentiment, in the form of figures or graphically, to predict how current beliefs and positions may affect future market behavior\\nSentiment indicators look at how bullish or bearish market actors and what they are thinking and feeling, which may help forecast investors' future behavior. A technical indicator is a broad term used to describe formulas that manipulate the price or volume data (and sometimes other types of data) of an asset to provide a different perspective on what is happening on a price/volume chart.\\n The theory behind this sentiment indicator is that retail investors, who typically have the least amount of money are likely to buy and sell odd lots, buy when bullish sentiment has peaked, and sell when bearish sentiment reaches a climax. The Bottom Line\\nMarket sentiment indicators are tools that assess the prevailing emotional tone of investors and traders, offering insights into whether the market is predominantly optimistic, pessimistic, or neutral.\"}, {'url': 'https://www.investopedia.com/terms/m/marketsentiment.asp', 'content': 'They use several indicators to measure market sentiment to help them determine the best stocks to trade, including the CBOE Volatility Index (VIX), the high-low index, the bullish percent index (BPI), and moving averages.\\n The High-Low Index\\nThe high-low index compares the number of stocks that have reached 52-week highs to the number of stocks that are at 52-week lows.\\n Day traders\\xa0and\\xa0technical analysts\\xa0rely on measurements of market sentiment since it influences the indicators used to measure and profit from short-term price moves caused by the crowd psychology of active investors.\\n Key Takeaways\\nUnderstanding Market Sentiment\\nMarket sentiment, sometimes called investor sentiment, does not correlate to\\xa0fundamental changes in the market. Market sentiment is the current attitude of investors overall regarding a company, a sector, or the financial market as a whole.'}]\u001b[0m\u001b[32;1m\u001b[1;3m\n",
      "I will first search for the current macroeconomic situation, the performance of the big indices, the performance of the different sectors, the actual value of the fear and greed index, and the sentiment at the stock market exchanges. Then, I will answer the user's queries about TER. Finally, I will provide an investment and trading advice based on the gathered information.\n",
      "{'tool_name': 'yf_get_business_summary', 'parameters': {'ticker_symbol': 'TER'}}\n",
      "\u001b[0m\u001b[38;5;200m\u001b[1;3mTeradyne, Inc. designs, develops, manufactures, and sells automated test systems and robotics products worldwide. It operates through four segments; Semiconductor Test, System Test, Robotics, and Wireless Test. The Semiconductor Test segment offers products and services for wafer level and device package testing of semiconductor devices in automotive, industrial, communications, consumer, smartphones, cloud, computer and electronic game, and other applications. This segment also provides FLEX test platform systems; J750 test system to address the volume semiconductor devices, including microcontrollers; Magnum platform that tests memory devices, such as flash memory and DRAM; and ETS platform for semiconductor manufacturers, and assembly and test subcontractors in the analog/mixed signal markets. It serves integrated device manufacturers that integrate the fabrication of silicon wafers into their business; fabless companies that outsource the manufacturing of silicon wafers; foundries; and semiconductor assembly and test providers. The System Test segment offers defense/aerospace test instrumentation and systems; storage and system level test systems; and circuit-board test and inspection systems. The Wireless Test segment provides wireless test solutions for silicon validation, wireless module manufacturing, and wireless end device manufacturing under the LitePoint brand. This segment also offers IQxel-MX and IQxel-MW7G series products for edge measurement performance in the manufacturing of connectivity products; IQxstream-5G and IQgig-5G family products to support 4G and 5G technologies; and IQgig-UWB+ for certification and manufacturing test support for ultra wideband products. The Robotics segment provides collaborative robotic arms, autonomous mobile robots, and advanced robotic control software for manufacturing, logistics, and industrial customers. The company was incorporated in 1960 and is headquartered in North Reading, Massachusetts.\u001b[0m\u001b[32;1m\u001b[1;3m\n",
      "{'tool_name': 'yf_get_ticker_info', 'parameters': {'ticker_symbol': 'TER'}}\n",
      "\u001b[0m\u001b[33;1m\u001b[1;3m{'address1': '600 Riverpark Drive', 'city': 'North Reading', 'state': 'MA', 'zip': '01864', 'country': 'United States', 'phone': '978 370 2700', 'website': 'https://www.teradyne.com', 'industry': 'Semiconductor Equipment & Materials', 'industryKey': 'semiconductor-equipment-materials', 'industryDisp': 'Semiconductor Equipment & Materials', 'sector': 'Technology', 'sectorKey': 'technology', 'sectorDisp': 'Technology', 'longBusinessSummary': 'Teradyne, Inc. designs, develops, manufactures, and sells automated test systems and robotics products worldwide. It operates through four segments; Semiconductor Test, System Test, Robotics, and Wireless Test. The Semiconductor Test segment offers products and services for wafer level and device package testing of semiconductor devices in automotive, industrial, communications, consumer, smartphones, cloud, computer and electronic game, and other applications. This segment also provides FLEX test platform systems; J750 test system to address the volume semiconductor devices, including microcontrollers; Magnum platform that tests memory devices, such as flash memory and DRAM; and ETS platform for semiconductor manufacturers, and assembly and test subcontractors in the analog/mixed signal markets. It serves integrated device manufacturers that integrate the fabrication of silicon wafers into their business; fabless companies that outsource the manufacturing of silicon wafers; foundries; and semiconductor assembly and test providers. The System Test segment offers defense/aerospace test instrumentation and systems; storage and system level test systems; and circuit-board test and inspection systems. The Wireless Test segment provides wireless test solutions for silicon validation, wireless module manufacturing, and wireless end device manufacturing under the LitePoint brand. This segment also offers IQxel-MX and IQxel-MW7G series products for edge measurement performance in the manufacturing of connectivity products; IQxstream-5G and IQgig-5G family products to support 4G and 5G technologies; and IQgig-UWB+ for certification and manufacturing test support for ultra wideband products. The Robotics segment provides collaborative robotic arms, autonomous mobile robots, and advanced robotic control software for manufacturing, logistics, and industrial customers. The company was incorporated in 1960 and is headquartered in North Reading, Massachusetts.', 'fullTimeEmployees': 6600, 'companyOfficers': [{'maxAge': 1, 'name': 'Mr. Gregory S. Smith', 'age': 59, 'title': 'President, CEO & Director', 'yearBorn': 1964, 'fiscalYear': 2023, 'totalPay': 1915138, 'exercisedValue': 0, 'unexercisedValue': 274247}, {'maxAge': 1, 'name': 'Mr. Sanjay  Mehta', 'age': 54, 'title': 'CFO, VP & Treasurer', 'yearBorn': 1969, 'fiscalYear': 2023, 'totalPay': 1134158, 'exercisedValue': 269030, 'unexercisedValue': 68288}, {'maxAge': 1, 'name': 'Mr. Richard J. Burns', 'age': 59, 'title': 'President of Semiconductor Test Division', 'yearBorn': 1964, 'fiscalYear': 2023, 'totalPay': 1032788, 'exercisedValue': 0, 'unexercisedValue': 64348}, {'maxAge': 1, 'name': 'Mr. Ujjwal  Kumar', 'title': 'Group President of Teradyne Robotics', 'fiscalYear': 2023, 'totalPay': 506832, 'exercisedValue': 0, 'unexercisedValue': 0}, {'maxAge': 1, 'name': 'Ms. Shannon  Gath', 'title': 'VP & Chief Information Officer', 'fiscalYear': 2023, 'exercisedValue': 0, 'unexercisedValue': 0}, {'maxAge': 1, 'name': 'Mr. Ryan E. Driscoll', 'title': 'Vice President, General Counsel & Secretary', 'fiscalYear': 2023, 'exercisedValue': 0, 'unexercisedValue': 0}, {'maxAge': 1, 'name': 'Mr. Timothy F. Moriarty', 'age': 61, 'title': 'Vice President of Corporate Development', 'yearBorn': 1962, 'fiscalYear': 2023, 'exercisedValue': 0, 'unexercisedValue': 0}, {'maxAge': 1, 'name': 'Mr. Jim  Mahon', 'title': 'VP & Chief Human Resources Officer', 'fiscalYear': 2023, 'exercisedValue': 0, 'unexercisedValue': 0}, {'maxAge': 1, 'name': 'Mr. Kim  Povlsen', 'title': 'President of Universal Robots', 'fiscalYear': 2023, 'exercisedValue': 0, 'unexercisedValue': 0}, {'maxAge': 1, 'name': 'Mr. Jean-Pierre  Hathout', 'title': 'President of Mobile Industrial Robots', 'fiscalYear': 2023, 'exercisedValue': 0, 'unexercisedValue': 0}], 'auditRisk': 2, 'boardRisk': 3, 'compensationRisk': 6, 'shareHolderRightsRisk': 1, 'overallRisk': 1, 'governanceEpochDate': 1717200000, 'compensationAsOfEpochDate': 1703980800, 'irWebsite': 'http://investor.teradyne.com/', 'maxAge': 86400, 'priceHint': 2, 'previousClose': 141.02, 'open': 140.35, 'dayLow': 138.59, 'dayHigh': 141.78, 'regularMarketPreviousClose': 141.02, 'regularMarketOpen': 140.35, 'regularMarketDayLow': 138.59, 'regularMarketDayHigh': 141.78, 'dividendRate': 0.48, 'dividendYield': 0.0034, 'exDividendDate': 1716249600, 'payoutRatio': 0.1711, 'fiveYearAvgDividendYield': 0.44, 'beta': 1.503, 'trailingPE': 53.290077, 'forwardPE': 28.906832, 'volume': 2042068, 'regularMarketVolume': 2042068, 'averageVolume': 2186850, 'averageVolume10days': 2213690, 'averageDailyVolume10Day': 2213690, 'bid': 139.58, 'ask': 139.69, 'bidSize': 100, 'askSize': 200, 'marketCap': 21796356096, 'fiftyTwoWeekLow': 81.08, 'fiftyTwoWeekHigh': 146.53, 'priceToSalesTrailing12Months': 8.198471, 'fiftyDayAverage': 119.1118, 'twoHundredDayAverage': 104.3488, 'trailingAnnualDividendRate': 0.45, 'trailingAnnualDividendYield': 0.0031910366, 'currency': 'USD', 'enterpriseValue': 21130592256, 'profitMargins': 0.16152, 'floatShares': 155423432, 'sharesOutstanding': 156112000, 'sharesShort': 4476102, 'sharesShortPriorMonth': 5225162, 'sharesShortPreviousMonthDate': 1713139200, 'dateShortInterest': 1715731200, 'sharesPercentSharesOut': 0.0287, 'heldPercentInsiders': 0.0033000002, 'heldPercentInstitutions': 0.81046, 'shortRatio': 1.71, 'shortPercentOfFloat': 0.0325, 'impliedSharesOutstanding': 156112000, 'bookValue': 16.636, 'priceToBook': 8.392642, 'lastFiscalYearEnd': 1703980800, 'nextFiscalYearEnd': 1735603200, 'mostRecentQuarter': 1711843200, 'earningsQuarterlyGrowth': -0.231, 'netIncomeToCommon': 429417984, 'trailingEps': 2.62, 'forwardEps': 4.83, 'pegRatio': 5.9, 'lastSplitFactor': '2:1', 'lastSplitDate': 936144000, 'enterpriseToRevenue': 7.948, 'enterpriseToEbitda': 34.349, '52WeekChange': 0.33966613, 'SandP52WeekChange': 0.23990989, 'lastDividendValue': 0.12, 'lastDividendDate': 1716249600, 'exchange': 'NMS', 'quoteType': 'EQUITY', 'symbol': 'TER', 'underlyingSymbol': 'TER', 'shortName': 'Teradyne, Inc.', 'longName': 'Teradyne, Inc.', 'firstTradeDateEpochUtc': 99153000, 'timeZoneFullName': 'America/New_York', 'timeZoneShortName': 'EDT', 'uuid': '6797ee0d-e4e6-3451-9b6d-d0cf4ab28e88', 'messageBoardId': 'finmb_94728', 'gmtOffSetMilliseconds': -14400000, 'currentPrice': 139.62, 'targetHighPrice': 161.0, 'targetLowPrice': 100.0, 'targetMeanPrice': 128.13, 'targetMedianPrice': 125.5, 'recommendationMean': 2.3, 'recommendationKey': 'buy', 'numberOfAnalystOpinions': 16, 'totalCash': 748702976, 'totalCashPerShare': 4.796, 'ebitda': 615169984, 'totalDebt': 82954000, 'quickRatio': 2.12, 'currentRatio': 3.726, 'totalRevenue': 2658587904, 'debtToEquity': 3.243, 'revenuePerShare': 17.309, 'returnOnAssets': 0.09268, 'returnOnEquity': 0.17152001, 'freeCashflow': 333559264, 'operatingCashflow': 573174016, 'earningsGrowth': -0.2, 'revenueGrowth': -0.029, 'grossMargins': 0.57159, 'ebitdaMargins': 0.23139, 'operatingMargins': 0.13668, 'financialCurrency': 'USD', 'trailingPegRatio': 1.9178}\u001b[0m\u001b[32;1m\u001b[1;3m\n",
      "{'tool_name': 'polygon_financials', 'parameters': {'query': 'TER'}}\n",
      "\u001b[0m\u001b[33;1m\u001b[1;3m[{\"start_date\": \"2023-04-01\", \"end_date\": \"2024-03-31\", \"timeframe\": \"ttm\", \"fiscal_period\": \"TTM\", \"fiscal_year\": \"\", \"cik\": \"0000097210\", \"sic\": \"3825\", \"tickers\": [\"TER\"], \"company_name\": \"TERADYNE, INC\", \"financials\": {\"income_statement\": {\"costs_and_expenses\": {\"value\": 2157198000.0, \"unit\": \"USD\", \"label\": \"Costs And Expenses\", \"order\": 600}, \"gross_profit\": {\"value\": 1519609000.0, \"unit\": \"USD\", \"label\": \"Gross Profit\", \"order\": 800}, \"net_income_loss_attributable_to_noncontrolling_interest\": {\"value\": 0, \"unit\": \"USD\", \"label\": \"Net Income/Loss Attributable To Noncontrolling Interest\", \"order\": 3300}, \"selling_general_and_administrative_expenses\": {\"value\": 575549000.0, \"unit\": \"USD\", \"label\": \"Selling, General, and Administrative Expenses\", \"order\": 1010}, \"preferred_stock_dividends_and_other_adjustments\": {\"value\": 0, \"unit\": \"USD\", \"label\": \"Preferred Stock Dividends And Other Adjustments\", \"order\": 3900}, \"net_income_loss_attributable_to_parent\": {\"value\": 429417000.0, \"unit\": \"USD\", \"label\": \"Net Income/Loss Attributable To Parent\", \"order\": 3500}, \"other_operating_expenses\": {\"value\": 458086000.0, \"unit\": \"USD\", \"label\": \"Other Operating Expenses\", \"order\": 1040}, \"benefits_costs_expenses\": {\"value\": 2157198000.0, \"unit\": \"USD\", \"label\": \"Benefits Costs and Expenses\", \"order\": 200}, \"common_stock_dividends\": {\"value\": 0.45, \"unit\": \"USD / shares\", \"label\": \"Common Stock Dividends\", \"order\": 4600}, \"basic_earnings_per_share\": {\"value\": 2.8, \"unit\": \"USD / shares\", \"label\": \"Basic Earnings Per Share\", \"order\": 4200}, \"revenues\": {\"value\": 2658587000.0, \"unit\": \"USD\", \"label\": \"Revenues\", \"order\": 100}, \"income_loss_from_continuing_operations_after_tax\": {\"value\": 429417000.0, \"unit\": \"USD\", \"label\": \"Income/Loss From Continuing Operations After Tax\", \"order\": 1400}, \"income_tax_expense_benefit_deferred\": {\"value\": -39677000.0, \"unit\": \"USD\", \"label\": \"Income Tax Expense/Benefit, Deferred\", \"order\": 2400}, \"income_tax_expense_benefit\": {\"value\": 71972000.0, \"unit\": \"USD\", \"label\": \"Income Tax Expense/Benefit\", \"order\": 2200}, \"net_income_loss_available_to_common_stockholders_basic\": {\"value\": 429417000.0, \"unit\": \"USD\", \"label\": \"Net Income/Loss Available To Common Stockholders, Basic\", \"order\": 3700}, \"participating_securities_distributed_and_undistributed_earnings_loss_basic\": {\"value\": 0, \"unit\": \"USD\", \"label\": \"Participating Securities, Distributed And Undistributed Earnings/Loss, Basic\", \"order\": 3800}, \"interest_expense_operating\": {\"value\": 3481000.0, \"unit\": \"USD\", \"label\": \"Interest Expense, Operating\", \"order\": 2700}, \"basic_average_shares\": {\"value\": 462115953.0, \"unit\": \"shares\", \"label\": \"Basic Average Shares\", \"order\": 4400}, \"operating_expenses\": {\"value\": 1033635000.0, \"unit\": \"USD\", \"label\": \"Operating Expenses\", \"order\": 1000}, \"diluted_earnings_per_share\": {\"value\": 2.63, \"unit\": \"USD / shares\", \"label\": \"Diluted Earnings Per Share\", \"order\": 4300}, \"income_loss_from_continuing_operations_before_tax\": {\"value\": 501389000.0, \"unit\": \"USD\", \"label\": \"Income/Loss From Continuing Operations Before Tax\", \"order\": 1500}, \"diluted_average_shares\": {\"value\": 491402013.0, \"unit\": \"shares\", \"label\": \"Diluted Average Shares\", \"order\": 4500}, \"operating_income_loss\": {\"value\": 485974000.0, \"unit\": \"USD\", \"label\": \"Operating Income/Loss\", \"order\": 1100}, \"cost_of_revenue\": {\"value\": 1138978000.0, \"unit\": \"USD\", \"label\": \"Cost Of Revenue\", \"order\": 300}, \"net_income_loss\": {\"value\": 429417000.0, \"unit\": \"USD\", \"label\": \"Net Income/Loss\", \"order\": 3200}}, \"balance_sheet\": {\"liabilities_and_equity\": {\"value\": 3410720000.0, \"unit\": \"USD\", \"label\": \"Liabilities And Equity\", \"order\": 1900}, \"equity_attributable_to_parent\": {\"value\": 2557829000.0, \"unit\": \"USD\", \"label\": \"Equity Attributable To Parent\", \"order\": 1600}, \"assets\": {\"value\": 3410720000.0, \"unit\": \"USD\", \"label\": \"Assets\", \"order\": 100}, \"other_current_assets\": {\"value\": 1213519000.0, \"unit\": \"USD\", \"label\": \"Other Current Assets\", \"order\": 250}, \"noncurrent_assets\": {\"value\": 1345327000.0, \"unit\": \"USD\", \"label\": \"Noncurrent Assets\", \"order\": 300}, \"prepaid_expenses\": {\"value\": 537642000.0, \"unit\": \"USD\", \"label\": \"Prepaid Expenses\", \"order\": 240}, \"intangible_assets\": {\"value\": 30234000.0, \"unit\": \"USD\", \"label\": \"Intangible Assets\", \"order\": 330}, \"inventory\": {\"value\": 314232000.0, \"unit\": \"USD\", \"label\": \"Inventory\", \"order\": 230}, \"liabilities\": {\"value\": 852891000.0, \"unit\": \"USD\", \"label\": \"Liabilities\", \"order\": 600}, \"equity\": {\"value\": 2557829000.0, \"unit\": \"USD\", \"label\": \"Equity\", \"order\": 1400}, \"wages\": {\"value\": 121144000.0, \"unit\": \"USD\", \"label\": \"Wages\", \"order\": 730}, \"equity_attributable_to_noncontrolling_interest\": {\"value\": 0, \"unit\": \"USD\", \"label\": \"Equity Attributable To Noncontrolling Interest\", \"order\": 1500}, \"current_liabilities\": {\"value\": 554359000.0, \"unit\": \"USD\", \"label\": \"Current Liabilities\", \"order\": 700}, \"noncurrent_liabilities\": {\"value\": 298532000.0, \"unit\": \"USD\", \"label\": \"Noncurrent Liabilities\", \"order\": 800}, \"other_noncurrent_assets\": {\"value\": 857845000.0, \"unit\": \"USD\", \"label\": \"Other Non-current Assets\", \"order\": 350}, \"fixed_assets\": {\"value\": 457248000.0, \"unit\": \"USD\", \"label\": \"Fixed Assets\", \"order\": 320}, \"other_current_liabilities\": {\"value\": 279342000.0, \"unit\": \"USD\", \"label\": \"Other Current Liabilities\", \"order\": 740}, \"current_assets\": {\"value\": 2065393000.0, \"unit\": \"USD\", \"label\": \"Current Assets\", \"order\": 200}, \"accounts_payable\": {\"value\": 153873000.0, \"unit\": \"USD\", \"label\": \"Accounts Payable\", \"order\": 710}}, \"cash_flow_statement\": {\"net_cash_flow_from_investing_activities\": {\"value\": -108802000.0, \"unit\": \"USD\", \"label\": \"Net Cash Flow From Investing Activities\", \"order\": 400}, \"net_cash_flow_from_financing_activities_continuing\": {\"value\": -409079000.0, \"unit\": \"USD\", \"label\": \"Net Cash Flow From Financing Activities, Continuing\", \"order\": 800}, \"net_cash_flow\": {\"value\": 55293000.0, \"unit\": \"USD\", \"label\": \"Net Cash Flow\", \"order\": 1100}, \"net_cash_flow_from_financing_activities\": {\"value\": -409079000.0, \"unit\": \"USD\", \"label\": \"Net Cash Flow From Financing Activities\", \"order\": 700}, \"net_cash_flow_from_operating_activities\": {\"value\": 573174000.0, \"unit\": \"USD\", \"label\": \"Net Cash Flow From Operating Activities\", \"order\": 100}, \"net_cash_flow_continuing\": {\"value\": 55293000.0, \"unit\": \"USD\", \"label\": \"Net Cash Flow, Continuing\", \"order\": 1200}, \"net_cash_flow_from_operating_activities_continuing\": {\"value\": 573174000.0, \"unit\": \"USD\", \"label\": \"Net Cash Flow From Operating Activities, Continuing\", \"order\": 200}, \"net_cash_flow_from_investing_activities_continuing\": {\"value\": -108802000.0, \"unit\": \"USD\", \"label\": \"Net Cash Flow From Investing Activities, Continuing\", \"order\": 500}}, \"comprehensive_income\": {\"comprehensive_income_loss_attributable_to_parent\": {\"value\": 426144000.0, \"unit\": \"USD\", \"label\": \"Comprehensive Income/Loss Attributable To Parent\", \"order\": 300}, \"other_comprehensive_income_loss\": {\"value\": -3273000.0, \"unit\": \"USD\", \"label\": \"Other Comprehensive Income/Loss\", \"order\": 400}, \"comprehensive_income_loss\": {\"value\": 426144000.0, \"unit\": \"USD\", \"label\": \"Comprehensive Income/Loss\", \"order\": 100}, \"comprehensive_income_loss_attributable_to_noncontrolling_interest\": {\"value\": 0, \"unit\": \"USD\", \"label\": \"Comprehensive Income/Loss Attributable To Noncontrolling Interest\", \"order\": 200}}}}, {\"start_date\": \"2024-01-01\", \"end_date\": \"2024-03-31\", \"filing_date\": \"2024-05-03\", \"acceptance_datetime\": \"2024-05-03T19:00:46Z\", \"timeframe\": \"quarterly\", \"fiscal_period\": \"Q1\", \"fiscal_year\": \"2024\", \"cik\": \"0000097210\", \"sic\": \"3825\", \"tickers\": [\"TER\"], \"company_name\": \"TERADYNE, INC\", \"source_filing_url\": \"https://api.polygon.io/v1/reference/sec/filings/0000950170-24-052761\", \"source_filing_file_url\": \"http://api.polygon.io/v1/reference/sec/filings/0000950170-24-052761/files/ter-20240331_htm.xml\", \"financials\": {\"balance_sheet\": {\"equity_attributable_to_parent\": {\"value\": 2557829000.0, \"unit\": \"USD\", \"label\": \"Equity Attributable To Parent\", \"order\": 1600}, \"noncurrent_liabilities\": {\"value\": 298532000.0, \"unit\": \"USD\", \"label\": \"Noncurrent Liabilities\", \"order\": 800}, \"accounts_payable\": {\"value\": 153873000.0, \"unit\": \"USD\", \"label\": \"Accounts Payable\", \"order\": 710}, \"noncurrent_assets\": {\"value\": 1345327000.0, \"unit\": \"USD\", \"label\": \"Noncurrent Assets\", \"order\": 300}, \"intangible_assets\": {\"value\": 30234000.0, \"unit\": \"USD\", \"label\": \"Intangible Assets\", \"order\": 330}, \"current_liabilities\": {\"value\": 554359000.0, \"unit\": \"USD\", \"label\": \"Current Liabilities\", \"order\": 700}, \"prepaid_expenses\": {\"value\": 537642000.0, \"unit\": \"USD\", \"label\": \"Prepaid Expenses\", \"order\": 240}, \"inventory\": {\"value\": 314232000.0, \"unit\": \"USD\", \"label\": \"Inventory\", \"order\": 230}, \"other_current_liabilities\": {\"value\": 279342000.0, \"unit\": \"USD\", \"label\": \"Other Current Liabilities\", \"order\": 740}, \"fixed_assets\": {\"value\": 457248000.0, \"unit\": \"USD\", \"label\": \"Fixed Assets\", \"order\": 320}, \"equity\": {\"value\": 2557829000.0, \"unit\": \"USD\", \"label\": \"Equity\", \"order\": 1400}, \"wages\": {\"value\": 121144000.0, \"unit\": \"USD\", \"label\": \"Wages\", \"order\": 730}, \"other_current_assets\": {\"value\": 1213519000.0, \"unit\": \"USD\", \"label\": \"Other Current Assets\", \"order\": 250}, \"other_noncurrent_assets\": {\"value\": 857845000.0, \"unit\": \"USD\", \"label\": \"Other Non-current Assets\", \"order\": 350}, \"liabilities_and_equity\": {\"value\": 3410720000.0, \"unit\": \"USD\", \"label\": \"Liabilities And Equity\", \"order\": 1900}, \"assets\": {\"value\": 3410720000.0, \"unit\": \"USD\", \"label\": \"Assets\", \"order\": 100}, \"current_assets\": {\"value\": 2065393000.0, \"unit\": \"USD\", \"label\": \"Current Assets\", \"order\": 200}, \"equity_attributable_to_noncontrolling_interest\": {\"value\": 0, \"unit\": \"USD\", \"label\": \"Equity Attributable To Noncontrolling Interest\", \"order\": 1500}, \"liabilities\": {\"value\": 852891000.0, \"unit\": \"USD\", \"label\": \"Liabilities\", \"order\": 600}}, \"comprehensive_income\": {\"comprehensive_income_loss_attributable_to_noncontrolling_interest\": {\"value\": 0, \"unit\": \"USD\", \"label\": \"Comprehensive Income/Loss Attributable To Noncontrolling Interest\", \"order\": 200}, \"comprehensive_income_loss_attributable_to_parent\": {\"value\": 51436000.0, \"unit\": \"USD\", \"label\": \"Comprehensive Income/Loss Attributable To Parent\", \"order\": 300}, \"other_comprehensive_income_loss\": {\"value\": -12761000.0, \"unit\": \"USD\", \"label\": \"Other Comprehensive Income/Loss\", \"order\": 400}, \"comprehensive_income_loss\": {\"value\": 51436000.0, \"unit\": \"USD\", \"label\": \"Comprehensive Income/Loss\", \"order\": 100}}, \"income_statement\": {\"net_income_loss\": {\"value\": 64197000.0, \"unit\": \"USD\", \"label\": \"Net Income/Loss\", \"order\": 3200}, \"selling_general_and_administrative_expenses\": {\"value\": 149188000.0, \"unit\": \"USD\", \"label\": \"Selling, General, and Administrative Expenses\", \"order\": 1010}, \"participating_securities_distributed_and_undistributed_earnings_loss_basic\": {\"value\": 0, \"unit\": \"USD\", \"label\": \"Participating Securities, Distributed And Undistributed Earnings/Loss, Basic\", \"order\": 3800}, \"income_tax_expense_benefit\": {\"value\": 8705000.0, \"unit\": \"USD\", \"label\": \"Income Tax Expense/Benefit\", \"order\": 2200}, \"income_loss_from_continuing_operations_after_tax\": {\"value\": 64197000.0, \"unit\": \"USD\", \"label\": \"Income/Loss From Continuing Operations After Tax\", \"order\": 1400}, \"net_income_loss_attributable_to_parent\": {\"value\": 64197000.0, \"unit\": \"USD\", \"label\": \"Net Income/Loss Attributable To Parent\", \"order\": 3500}, \"basic_average_shares\": {\"value\": 153047000.0, \"unit\": \"shares\", \"label\": \"Basic Average Shares\", \"order\": 4400}, \"diluted_earnings_per_share\": {\"value\": 0.4, \"unit\": \"USD / shares\", \"label\": \"Diluted Earnings Per Share\", \"order\": 4300}, \"income_tax_expense_benefit_deferred\": {\"value\": -9669000.0, \"unit\": \"USD\", \"label\": \"Income Tax Expense/Benefit, Deferred\", \"order\": 2400}, \"common_stock_dividends\": {\"value\": 0.12, \"unit\": \"USD / shares\", \"label\": \"Common Stock Dividends\", \"order\": 4600}, \"net_income_loss_attributable_to_noncontrolling_interest\": {\"value\": 0, \"unit\": \"USD\", \"label\": \"Net Income/Loss Attributable To Noncontrolling Interest\", \"order\": 3300}, \"operating_expenses\": {\"value\": 261511000.0, \"unit\": \"USD\", \"label\": \"Operating Expenses\", \"order\": 1000}, \"preferred_stock_dividends_and_other_adjustments\": {\"value\": 0, \"unit\": \"USD\", \"label\": \"Preferred Stock Dividends And Other Adjustments\", \"order\": 3900}, \"costs_and_expenses\": {\"value\": 526917000.0, \"unit\": \"USD\", \"label\": \"Costs And Expenses\", \"order\": 600}, \"other_operating_expenses\": {\"value\": 112323000.0, \"unit\": \"USD\", \"label\": \"Other Operating Expenses\", \"order\": 1040}, \"basic_earnings_per_share\": {\"value\": 0.42, \"unit\": \"USD / shares\", \"label\": \"Basic Earnings Per Share\", \"order\": 4200}, \"revenues\": {\"value\": 599819000.0, \"unit\": \"USD\", \"label\": \"Revenues\", \"order\": 100}, \"diluted_average_shares\": {\"value\": 162348000.0, \"unit\": \"shares\", \"label\": \"Diluted Average Shares\", \"order\": 4500}, \"net_income_loss_available_to_common_stockholders_basic\": {\"value\": 64197000.0, \"unit\": \"USD\", \"label\": \"Net Income/Loss Available To Common Stockholders, Basic\", \"order\": 3700}, \"gross_profit\": {\"value\": 339282000.0, \"unit\": \"USD\", \"label\": \"Gross Profit\", \"order\": 800}, \"cost_of_revenue\": {\"value\": 260537000.0, \"unit\": \"USD\", \"label\": \"Cost Of Revenue\", \"order\": 300}, \"income_loss_from_continuing_operations_before_tax\": {\"value\": 72902000.0, \"unit\": \"USD\", \"label\": \"Income/Loss From Continuing Operations Before Tax\", \"order\": 1500}, \"benefits_costs_expenses\": {\"value\": 526917000.0, \"unit\": \"USD\", \"label\": \"Benefits Costs and Expenses\", \"order\": 200}, \"interest_expense_operating\": {\"value\": 661000, \"unit\": \"USD\", \"label\": \"Interest Expense, Operating\", \"order\": 2700}, \"operating_income_loss\": {\"value\": 77771000.0, \"unit\": \"USD\", \"label\": \"Operating Income/Loss\", \"order\": 1100}}, \"cash_flow_statement\": {\"net_cash_flow\": {\"value\": -53409000.0, \"unit\": \"USD\", \"label\": \"Net Cash Flow\", \"order\": 1100}, \"net_cash_flow_from_operating_activities_continuing\": {\"value\": 7279000.0, \"unit\": \"USD\", \"label\": \"Net Cash Flow From Operating Activities, Continuing\", \"order\": 200}, \"net_cash_flow_from_financing_activities\": {\"value\": -36668000.0, \"unit\": \"USD\", \"label\": \"Net Cash Flow From Financing Activities\", \"order\": 700}, \"net_cash_flow_from_financing_activities_continuing\": {\"value\": -36668000.0, \"unit\": \"USD\", \"label\": \"Net Cash Flow From Financing Activities, Continuing\", \"order\": 800}, \"net_cash_flow_from_operating_activities\": {\"value\": 7279000.0, \"unit\": \"USD\", \"label\": \"Net Cash Flow From Operating Activities\", \"order\": 100}, \"net_cash_flow_from_investing_activities\": {\"value\": -24020000.0, \"unit\": \"USD\", \"label\": \"Net Cash Flow From Investing Activities\", \"order\": 400}, \"net_cash_flow_continuing\": {\"value\": -53409000.0, \"unit\": \"USD\", \"label\": \"Net Cash Flow, Continuing\", \"order\": 1200}, \"net_cash_flow_from_investing_activities_continuing\": {\"value\": -24020000.0, \"unit\": \"USD\", \"label\": \"Net Cash Flow From Investing Activities, Continuing\", \"order\": 500}}}}, {\"start_date\": \"2023-10-02\", \"end_date\": \"2023-12-31\", \"timeframe\": \"quarterly\", \"fiscal_period\": \"Q4\", \"fiscal_year\": \"2023\", \"cik\": \"0000097210\", \"sic\": \"3825\", \"tickers\": [\"TER\"], \"company_name\": \"TERADYNE, INC\", \"financials\": {\"comprehensive_income\": {\"comprehensive_income_loss\": {\"value\": 138004000.0, \"unit\": \"USD\", \"label\": \"Comprehensive Income/Loss\", \"order\": 100}, \"comprehensive_income_loss_attributable_to_parent\": {\"value\": 138004000.0, \"unit\": \"USD\", \"label\": \"Comprehensive Income/Loss Attributable To Parent\", \"order\": 300}, \"comprehensive_income_loss_attributable_to_noncontrolling_interest\": {\"value\": 0, \"unit\": \"USD\", \"label\": \"Comprehensive Income/Loss Attributable To Noncontrolling Interest\", \"order\": 200}, \"other_comprehensive_income_loss\": {\"value\": 20950000.0, \"unit\": \"USD\", \"label\": \"Other Comprehensive Income/Loss\", \"order\": 400}}, \"income_statement\": {\"net_income_loss_available_to_common_stockholders_basic\": {\"value\": 117054000.0, \"unit\": \"USD\", \"label\": \"Net Income/Loss Available To Common Stockholders, Basic\", \"order\": 3700}, \"operating_income_loss\": {\"value\": 124323000.0, \"unit\": \"USD\", \"label\": \"Operating Income/Loss\", \"order\": 1100}, \"revenues\": {\"value\": 670599000.0, \"unit\": \"USD\", \"label\": \"Revenues\", \"order\": 100}, \"income_loss_from_continuing_operations_after_tax\": {\"value\": 117054000.0, \"unit\": \"USD\", \"label\": \"Income/Loss From Continuing Operations After Tax\", \"order\": 1400}, \"gross_profit\": {\"value\": 379544000.0, \"unit\": \"USD\", \"label\": \"Gross Profit\", \"order\": 800}, \"diluted_earnings_per_share\": {\"value\": 0.7200000000000002, \"unit\": \"USD / shares\", \"label\": \"Diluted Earnings Per Share\", \"order\": 4300}, \"income_tax_expense_benefit\": {\"value\": 22751000.0, \"unit\": \"USD\", \"label\": \"Income Tax Expense/Benefit\", \"order\": 2200}, \"net_income_loss_attributable_to_parent\": {\"value\": 117054000.0, \"unit\": \"USD\", \"label\": \"Net Income/Loss Attributable To Parent\", \"order\": 3500}, \"net_income_loss_attributable_to_noncontrolling_interest\": {\"value\": 0, \"unit\": \"USD\", \"label\": \"Net Income/Loss Attributable To Noncontrolling Interest\", \"order\": 3300}, \"costs_and_expenses\": {\"value\": 530794000.0, \"unit\": \"USD\", \"label\": \"Costs And Expenses\", \"order\": 600}, \"basic_average_shares\": {\"value\": 154155191.0, \"unit\": \"shares\", \"label\": \"Basic Average Shares\", \"order\": 4400}, \"interest_expense_operating\": {\"value\": 812000, \"unit\": \"USD\", \"label\": \"Interest Expense, Operating\", \"order\": 2700}, \"other_operating_expenses\": {\"value\": 112885000.0, \"unit\": \"USD\", \"label\": \"Other Operating Expenses\", \"order\": 1040}, \"common_stock_dividends\": {\"value\": 0.10999999999999999, \"unit\": \"USD / shares\", \"label\": \"Common Stock Dividends\", \"order\": 4600}, \"income_loss_from_continuing_operations_before_tax\": {\"value\": 139805000.0, \"unit\": \"USD\", \"label\": \"Income/Loss From Continuing Operations Before Tax\", \"order\": 1500}, \"income_tax_expense_benefit_deferred\": {\"value\": -13616000.0, \"unit\": \"USD\", \"label\": \"Income Tax Expense/Benefit, Deferred\", \"order\": 2400}, \"selling_general_and_administrative_expenses\": {\"value\": 142336000.0, \"unit\": \"USD\", \"label\": \"Selling, General, and Administrative Expenses\", \"order\": 1010}, \"net_income_loss\": {\"value\": 117054000.0, \"unit\": \"USD\", \"label\": \"Net Income/Loss\", \"order\": 3200}, \"diluted_average_shares\": {\"value\": 164138963.0, \"unit\": \"shares\", \"label\": \"Diluted Average Shares\", \"order\": 4500}, \"cost_of_revenue\": {\"value\": 291055000.0, \"unit\": \"USD\", \"label\": \"Cost Of Revenue\", \"order\": 300}, \"preferred_stock_dividends_and_other_adjustments\": {\"value\": 0, \"unit\": \"USD\", \"label\": \"Preferred Stock Dividends And Other Adjustments\", \"order\": 3900}, \"benefits_costs_expenses\": {\"value\": 530794000.0, \"unit\": \"USD\", \"label\": \"Benefits Costs and Expenses\", \"order\": 200}, \"basic_earnings_per_share\": {\"value\": 0.77, \"unit\": \"USD / shares\", \"label\": \"Basic Earnings Per Share\", \"order\": 4200}, \"operating_expenses\": {\"value\": 255221000.0, \"unit\": \"USD\", \"label\": \"Operating Expenses\", \"order\": 1000}, \"participating_securities_distributed_and_undistributed_earnings_loss_basic\": {\"value\": 0, \"unit\": \"USD\", \"label\": \"Participating Securities, Distributed And Undistributed Earnings/Loss, Basic\", \"order\": 3800}}, \"balance_sheet\": {\"other_current_assets\": {\"value\": 1303091000.0, \"unit\": \"USD\", \"label\": \"Other Current Assets\", \"order\": 250}, \"prepaid_expenses\": {\"value\": 548970000.0, \"unit\": \"USD\", \"label\": \"Prepaid Expenses\", \"order\": 240}, \"liabilities_and_equity\": {\"value\": 3486824000.0, \"unit\": \"USD\", \"label\": \"Liabilities And Equity\", \"order\": 1900}, \"intangible_assets\": {\"value\": 35404000.0, \"unit\": \"USD\", \"label\": \"Intangible Assets\", \"order\": 330}, \"equity_attributable_to_parent\": {\"value\": 2525897000.0, \"unit\": \"USD\", \"label\": \"Equity Attributable To Parent\", \"order\": 1600}, \"liabilities\": {\"value\": 960927000.0, \"unit\": \"USD\", \"label\": \"Liabilities\", \"order\": 600}, \"other_noncurrent_assets\": {\"value\": 843893000.0, \"unit\": \"USD\", \"label\": \"Other Non-current Assets\", \"order\": 350}, \"assets\": {\"value\": 3486824000.0, \"unit\": \"USD\", \"label\": \"Assets\", \"order\": 100}, \"equity\": {\"value\": 2525897000.0, \"unit\": \"USD\", \"label\": \"Equity\", \"order\": 1400}, \"fixed_assets\": {\"value\": 445492000.0, \"unit\": \"USD\", \"label\": \"Fixed Assets\", \"order\": 320}, \"other_current_liabilities\": {\"value\": 288070000.0, \"unit\": \"USD\", \"label\": \"Other Current Liabilities\", \"order\": 740}, \"noncurrent_liabilities\": {\"value\": 300976000.0, \"unit\": \"USD\", \"label\": \"Noncurrent Liabilities\", \"order\": 800}, \"current_assets\": {\"value\": 2162035000.0, \"unit\": \"USD\", \"label\": \"Current Assets\", \"order\": 200}, \"inventory\": {\"value\": 309974000.0, \"unit\": \"USD\", \"label\": \"Inventory\", \"order\": 230}, \"noncurrent_assets\": {\"value\": 1324789000.0, \"unit\": \"USD\", \"label\": \"Noncurrent Assets\", \"order\": 300}, \"wages\": {\"value\": 191750000.0, \"unit\": \"USD\", \"label\": \"Wages\", \"order\": 730}, \"current_liabilities\": {\"value\": 659951000.0, \"unit\": \"USD\", \"label\": \"Current Liabilities\", \"order\": 700}, \"accounts_payable\": {\"value\": 180131000.0, \"unit\": \"USD\", \"label\": \"Accounts Payable\", \"order\": 710}, \"equity_attributable_to_noncontrolling_interest\": {\"value\": 0, \"unit\": \"USD\", \"label\": \"Equity Attributable To Noncontrolling Interest\", \"order\": 1500}}, \"cash_flow_statement\": {\"net_cash_flow_from_operating_activities\": {\"value\": 248780000.0, \"unit\": \"USD\", \"label\": \"Net Cash Flow From Operating Activities\", \"order\": 100}, \"net_cash_flow\": {\"value\": 127255000.0, \"unit\": \"USD\", \"label\": \"Net Cash Flow\", \"order\": 1100}, \"net_cash_flow_from_investing_activities\": {\"value\": -30423000.0, \"unit\": \"USD\", \"label\": \"Net Cash Flow From Investing Activities\", \"order\": 400}, \"net_cash_flow_from_operating_activities_continuing\": {\"value\": 248780000.0, \"unit\": \"USD\", \"label\": \"Net Cash Flow From Operating Activities, Continuing\", \"order\": 200}, \"net_cash_flow_continuing\": {\"value\": 127255000.0, \"unit\": \"USD\", \"label\": \"Net Cash Flow, Continuing\", \"order\": 1200}, \"net_cash_flow_from_investing_activities_continuing\": {\"value\": -30423000.0, \"unit\": \"USD\", \"label\": \"Net Cash Flow From Investing Activities, Continuing\", \"order\": 500}, \"net_cash_flow_from_financing_activities\": {\"value\": -91102000.0, \"unit\": \"USD\", \"label\": \"Net Cash Flow From Financing Activities\", \"order\": 700}, \"net_cash_flow_from_financing_activities_continuing\": {\"value\": -91102000.0, \"unit\": \"USD\", \"label\": \"Net Cash Flow From Financing Activities, Continuing\", \"order\": 800}}}}, {\"start_date\": \"2023-01-01\", \"end_date\": \"2023-12-31\", \"filing_date\": \"2024-02-22\", \"acceptance_datetime\": \"2024-02-22T20:34:26Z\", \"timeframe\": \"annual\", \"fiscal_period\": \"FY\", \"fiscal_year\": \"2023\", \"cik\": \"0000097210\", \"sic\": \"3825\", \"tickers\": [\"TER\"], \"company_name\": \"TERADYNE, INC\", \"source_filing_url\": \"https://api.polygon.io/v1/reference/sec/filings/0000950170-24-018701\", \"source_filing_file_url\": \"http://api.polygon.io/v1/reference/sec/filings/0000950170-24-018701/files/ter-20231231_htm.xml\", \"financials\": {\"balance_sheet\": {\"equity_attributable_to_noncontrolling_interest\": {\"value\": 0, \"unit\": \"USD\", \"label\": \"Equity Attributable To Noncontrolling Interest\", \"order\": 1500}, \"other_current_assets\": {\"value\": 1303091000.0, \"unit\": \"USD\", \"label\": \"Other Current Assets\", \"order\": 250}, \"fixed_assets\": {\"value\": 445492000.0, \"unit\": \"USD\", \"label\": \"Fixed Assets\", \"order\": 320}, \"prepaid_expenses\": {\"value\": 548970000.0, \"unit\": \"USD\", \"label\": \"Prepaid Expenses\", \"order\": 240}, \"inventory\": {\"value\": 309974000.0, \"unit\": \"USD\", \"label\": \"Inventory\", \"order\": 230}, \"intangible_assets\": {\"value\": 35404000.0, \"unit\": \"USD\", \"label\": \"Intangible Assets\", \"order\": 330}, \"equity\": {\"value\": 2525897000.0, \"unit\": \"USD\", \"label\": \"Equity\", \"order\": 1400}, \"wages\": {\"value\": 191750000.0, \"unit\": \"USD\", \"label\": \"Wages\", \"order\": 730}, \"noncurrent_assets\": {\"value\": 1324789000.0, \"unit\": \"USD\", \"label\": \"Noncurrent Assets\", \"order\": 300}, \"liabilities_and_equity\": {\"value\": 3486824000.0, \"unit\": \"USD\", \"label\": \"Liabilities And Equity\", \"order\": 1900}, \"equity_attributable_to_parent\": {\"value\": 2525897000.0, \"unit\": \"USD\", \"label\": \"Equity Attributable To Parent\", \"order\": 1600}, \"other_noncurrent_assets\": {\"value\": 843893000.0, \"unit\": \"USD\", \"label\": \"Other Non-current Assets\", \"order\": 350}, \"current_assets\": {\"value\": 2162035000.0, \"unit\": \"USD\", \"label\": \"Current Assets\", \"order\": 200}, \"other_current_liabilities\": {\"value\": 288070000.0, \"unit\": \"USD\", \"label\": \"Other Current Liabilities\", \"order\": 740}, \"liabilities\": {\"value\": 960927000.0, \"unit\": \"USD\", \"label\": \"Liabilities\", \"order\": 600}, \"current_liabilities\": {\"value\": 659951000.0, \"unit\": \"USD\", \"label\": \"Current Liabilities\", \"order\": 700}, \"assets\": {\"value\": 3486824000.0, \"unit\": \"USD\", \"label\": \"Assets\", \"order\": 100}, \"noncurrent_liabilities\": {\"value\": 300976000.0, \"unit\": \"USD\", \"label\": \"Noncurrent Liabilities\", \"order\": 800}, \"accounts_payable\": {\"value\": 180131000.0, \"unit\": \"USD\", \"label\": \"Accounts Payable\", \"order\": 710}}, \"cash_flow_statement\": {\"net_cash_flow_from_financing_activities_continuing\": {\"value\": -501912000.0, \"unit\": \"USD\", \"label\": \"Net Cash Flow From Financing Activities, Continuing\", \"order\": 800}, \"net_cash_flow\": {\"value\": -96326000.0, \"unit\": \"USD\", \"label\": \"Net Cash Flow\", \"order\": 1100}, \"net_cash_flow_from_financing_activities\": {\"value\": -501912000.0, \"unit\": \"USD\", \"label\": \"Net Cash Flow From Financing Activities\", \"order\": 700}, \"net_cash_flow_from_operating_activities\": {\"value\": 585231000.0, \"unit\": \"USD\", \"label\": \"Net Cash Flow From Operating Activities\", \"order\": 100}, \"net_cash_flow_from_investing_activities_continuing\": {\"value\": -179645000.0, \"unit\": \"USD\", \"label\": \"Net Cash Flow From Investing Activities, Continuing\", \"order\": 500}, \"net_cash_flow_from_operating_activities_continuing\": {\"value\": 585231000.0, \"unit\": \"USD\", \"label\": \"Net Cash Flow From Operating Activities, Continuing\", \"order\": 200}, \"net_cash_flow_from_investing_activities\": {\"value\": -179645000.0, \"unit\": \"USD\", \"label\": \"Net Cash Flow From Investing Activities\", \"order\": 400}, \"net_cash_flow_continuing\": {\"value\": -96326000.0, \"unit\": \"USD\", \"label\": \"Net Cash Flow, Continuing\", \"order\": 1200}}, \"income_statement\": {\"costs_and_expenses\": {\"value\": 2150726000.0, \"unit\": \"USD\", \"label\": \"Costs And Expenses\", \"order\": 600}, \"net_income_loss_attributable_to_noncontrolling_interest\": {\"value\": 0, \"unit\": \"USD\", \"label\": \"Net Income/Loss Attributable To Noncontrolling Interest\", \"order\": 3300}, \"income_loss_from_continuing_operations_after_tax\": {\"value\": 448752000.0, \"unit\": \"USD\", \"label\": \"Income/Loss From Continuing Operations After Tax\", \"order\": 1400}, \"participating_securities_distributed_and_undistributed_earnings_loss_basic\": {\"value\": 0, \"unit\": \"USD\", \"label\": \"Participating Securities, Distributed And Undistributed Earnings/Loss, Basic\", \"order\": 3800}, \"interest_expense_operating\": {\"value\": 3806000.0, \"unit\": \"USD\", \"label\": \"Interest Expense, Operating\", \"order\": 2700}, \"basic_earnings_per_share\": {\"value\": 2.91, \"unit\": \"USD / shares\", \"label\": \"Basic Earnings Per Share\", \"order\": 4200}, \"diluted_earnings_per_share\": {\"value\": 2.73, \"unit\": \"USD / shares\", \"label\": \"Diluted Earnings Per Share\", \"order\": 4300}, \"common_stock_dividends\": {\"value\": 0.44, \"unit\": \"USD / shares\", \"label\": \"Common Stock Dividends\", \"order\": 4600}, \"revenues\": {\"value\": 2676298000.0, \"unit\": \"USD\", \"label\": \"Revenues\", \"order\": 100}, \"basic_average_shares\": {\"value\": 154310000.0, \"unit\": \"shares\", \"label\": \"Basic Average Shares\", \"order\": 4400}, \"income_tax_expense_benefit\": {\"value\": 76820000.0, \"unit\": \"USD\", \"label\": \"Income Tax Expense/Benefit\", \"order\": 2200}, \"benefits_costs_expenses\": {\"value\": 2150726000.0, \"unit\": \"USD\", \"label\": \"Benefits Costs and Expenses\", \"order\": 200}, \"income_tax_expense_benefit_deferred\": {\"value\": -37642000.0, \"unit\": \"USD\", \"label\": \"Income Tax Expense/Benefit, Deferred\", \"order\": 2400}, \"selling_general_and_administrative_expenses\": {\"value\": 577315000.0, \"unit\": \"USD\", \"label\": \"Selling, General, and Administrative Expenses\", \"order\": 1010}, \"income_tax_expense_benefit_current\": {\"value\": 114462000.0, \"unit\": \"USD\", \"label\": \"Income Tax Expense/Benefit, Current\", \"order\": 2300}, \"gross_profit\": {\"value\": 1536748000.0, \"unit\": \"USD\", \"label\": \"Gross Profit\", \"order\": 800}, \"income_loss_from_continuing_operations_before_tax\": {\"value\": 525572000.0, \"unit\": \"USD\", \"label\": \"Income/Loss From Continuing Operations Before Tax\", \"order\": 1500}, \"cost_of_revenue\": {\"value\": 1139550000.0, \"unit\": \"USD\", \"label\": \"Cost Of Revenue\", \"order\": 300}, \"diluted_average_shares\": {\"value\": 164304000.0, \"unit\": \"shares\", \"label\": \"Diluted Average Shares\", \"order\": 4500}, \"operating_income_loss\": {\"value\": 501068000.0, \"unit\": \"USD\", \"label\": \"Operating Income/Loss\", \"order\": 1100}, \"net_income_loss\": {\"value\": 448752000.0, \"unit\": \"USD\", \"label\": \"Net Income/Loss\", \"order\": 3200}, \"other_operating_expenses\": {\"value\": 458365000.0, \"unit\": \"USD\", \"label\": \"Other Operating Expenses\", \"order\": 1040}, \"net_income_loss_attributable_to_parent\": {\"value\": 448752000.0, \"unit\": \"USD\", \"label\": \"Net Income/Loss Attributable To Parent\", \"order\": 3500}, \"net_income_loss_available_to_common_stockholders_basic\": {\"value\": 448752000.0, \"unit\": \"USD\", \"label\": \"Net Income/Loss Available To Common Stockholders, Basic\", \"order\": 3700}, \"operating_expenses\": {\"value\": 1035680000.0, \"unit\": \"USD\", \"label\": \"Operating Expenses\", \"order\": 1000}, \"preferred_stock_dividends_and_other_adjustments\": {\"value\": 0, \"unit\": \"USD\", \"label\": \"Preferred Stock Dividends And Other Adjustments\", \"order\": 3900}}, \"comprehensive_income\": {\"other_comprehensive_income_loss\": {\"value\": 22890000.0, \"unit\": \"USD\", \"label\": \"Other Comprehensive Income/Loss\", \"order\": 400}, \"comprehensive_income_loss_attributable_to_parent\": {\"value\": 471642000.0, \"unit\": \"USD\", \"label\": \"Comprehensive Income/Loss Attributable To Parent\", \"order\": 300}, \"comprehensive_income_loss\": {\"value\": 471642000.0, \"unit\": \"USD\", \"label\": \"Comprehensive Income/Loss\", \"order\": 100}, \"comprehensive_income_loss_attributable_to_noncontrolling_interest\": {\"value\": 0, \"unit\": \"USD\", \"label\": \"Comprehensive Income/Loss Attributable To Noncontrolling Interest\", \"order\": 200}}}}, {\"start_date\": \"2023-07-03\", \"end_date\": \"2023-10-01\", \"filing_date\": \"2023-11-03\", \"acceptance_datetime\": \"2023-11-03T17:25:17Z\", \"timeframe\": \"quarterly\", \"fiscal_period\": \"Q3\", \"fiscal_year\": \"2023\", \"cik\": \"0000097210\", \"sic\": \"3825\", \"tickers\": [\"TER\"], \"company_name\": \"TERADYNE, INC\", \"source_filing_url\": \"https://api.polygon.io/v1/reference/sec/filings/0000950170-23-058679\", \"source_filing_file_url\": \"http://api.polygon.io/v1/reference/sec/filings/0000950170-23-058679/files/ter-20231001_htm.xml\", \"financials\": {\"comprehensive_income\": {\"comprehensive_income_loss_attributable_to_parent\": {\"value\": 110660000.0, \"unit\": \"USD\", \"label\": \"Comprehensive Income/Loss Attributable To Parent\", \"order\": 300}, \"comprehensive_income_loss_attributable_to_noncontrolling_interest\": {\"value\": 0, \"unit\": \"USD\", \"label\": \"Comprehensive Income/Loss Attributable To Noncontrolling Interest\", \"order\": 200}, \"comprehensive_income_loss\": {\"value\": 110660000.0, \"unit\": \"USD\", \"label\": \"Comprehensive Income/Loss\", \"order\": 100}, \"other_comprehensive_income_loss\": {\"value\": -17456000.0, \"unit\": \"USD\", \"label\": \"Other Comprehensive Income/Loss\", \"order\": 400}}, \"income_statement\": {\"income_loss_from_continuing_operations_after_tax\": {\"value\": 128116000.0, \"unit\": \"USD\", \"label\": \"Income/Loss From Continuing Operations After Tax\", \"order\": 1400}, \"income_loss_from_continuing_operations_before_tax\": {\"value\": 144280000.0, \"unit\": \"USD\", \"label\": \"Income/Loss From Continuing Operations Before Tax\", \"order\": 1500}, \"common_stock_dividends\": {\"value\": 0.11, \"unit\": \"USD / shares\", \"label\": \"Common Stock Dividends\", \"order\": 4600}, \"interest_expense_operating\": {\"value\": 963000, \"unit\": \"USD\", \"label\": \"Interest Expense, Operating\", \"order\": 2700}, \"basic_average_shares\": {\"value\": 153762, \"unit\": \"shares\", \"label\": \"Basic Average Shares\", \"order\": 4400}, \"costs_and_expenses\": {\"value\": 559452000.0, \"unit\": \"USD\", \"label\": \"Costs And Expenses\", \"order\": 600}, \"operating_expenses\": {\"value\": 254319000.0, \"unit\": \"USD\", \"label\": \"Operating Expenses\", \"order\": 1000}, \"participating_securities_distributed_and_undistributed_earnings_loss_basic\": {\"value\": 0, \"unit\": \"USD\", \"label\": \"Participating Securities, Distributed And Undistributed Earnings/Loss, Basic\", \"order\": 3800}, \"income_tax_expense_benefit_deferred\": {\"value\": -10455000.0, \"unit\": \"USD\", \"label\": \"Income Tax Expense/Benefit, Deferred\", \"order\": 2400}, \"other_operating_expenses\": {\"value\": 115989000.0, \"unit\": \"USD\", \"label\": \"Other Operating Expenses\", \"order\": 1040}, \"diluted_average_shares\": {\"value\": 164050, \"unit\": \"shares\", \"label\": \"Diluted Average Shares\", \"order\": 4500}, \"preferred_stock_dividends_and_other_adjustments\": {\"value\": 0, \"unit\": \"USD\", \"label\": \"Preferred Stock Dividends And Other Adjustments\", \"order\": 3900}, \"net_income_loss_attributable_to_noncontrolling_interest\": {\"value\": 0, \"unit\": \"USD\", \"label\": \"Net Income/Loss Attributable To Noncontrolling Interest\", \"order\": 3300}, \"income_tax_expense_benefit\": {\"value\": 16164000.0, \"unit\": \"USD\", \"label\": \"Income Tax Expense/Benefit\", \"order\": 2200}, \"benefits_costs_expenses\": {\"value\": 559452000.0, \"unit\": \"USD\", \"label\": \"Benefits Costs and Expenses\", \"order\": 200}, \"revenues\": {\"value\": 703732000.0, \"unit\": \"USD\", \"label\": \"Revenues\", \"order\": 100}, \"net_income_loss_attributable_to_parent\": {\"value\": 128116000.0, \"unit\": \"USD\", \"label\": \"Net Income/Loss Attributable To Parent\", \"order\": 3500}, \"operating_income_loss\": {\"value\": 143972000.0, \"unit\": \"USD\", \"label\": \"Operating Income/Loss\", \"order\": 1100}, \"gross_profit\": {\"value\": 398291000.0, \"unit\": \"USD\", \"label\": \"Gross Profit\", \"order\": 800}, \"basic_earnings_per_share\": {\"value\": 0.83, \"unit\": \"USD / shares\", \"label\": \"Basic Earnings Per Share\", \"order\": 4200}, \"net_income_loss\": {\"value\": 128116000.0, \"unit\": \"USD\", \"label\": \"Net Income/Loss\", \"order\": 3200}, \"selling_general_and_administrative_expenses\": {\"value\": 138330000.0, \"unit\": \"USD\", \"label\": \"Selling, General, and Administrative Expenses\", \"order\": 1010}, \"net_income_loss_available_to_common_stockholders_basic\": {\"value\": 128116000.0, \"unit\": \"USD\", \"label\": \"Net Income/Loss Available To Common Stockholders, Basic\", \"order\": 3700}, \"cost_of_revenue\": {\"value\": 305441000.0, \"unit\": \"USD\", \"label\": \"Cost Of Revenue\", \"order\": 300}, \"diluted_earnings_per_share\": {\"value\": 0.78, \"unit\": \"USD / shares\", \"label\": \"Diluted Earnings Per Share\", \"order\": 4300}}, \"balance_sheet\": {\"equity_attributable_to_noncontrolling_interest\": {\"value\": 0, \"unit\": \"USD\", \"label\": \"Equity Attributable To Noncontrolling Interest\", \"order\": 1500}, \"current_assets\": {\"value\": 2099359000.0, \"unit\": \"USD\", \"label\": \"Current Assets\", \"order\": 200}, \"noncurrent_assets\": {\"value\": 1271296000.0, \"unit\": \"USD\", \"label\": \"Noncurrent Assets\", \"order\": 300}, \"other_current_assets\": {\"value\": 1183361000.0, \"unit\": \"USD\", \"label\": \"Other Current Assets\", \"order\": 250}, \"other_noncurrent_assets\": {\"value\": 795682000.0, \"unit\": \"USD\", \"label\": \"Other Non-current Assets\", \"order\": 350}, \"accounts_payable\": {\"value\": 176117000.0, \"unit\": \"USD\", \"label\": \"Accounts Payable\", \"order\": 710}, \"fixed_assets\": {\"value\": 436449000.0, \"unit\": \"USD\", \"label\": \"Fixed Assets\", \"order\": 320}, \"inventory\": {\"value\": 322632000.0, \"unit\": \"USD\", \"label\": \"Inventory\", \"order\": 230}, \"prepaid_expenses\": {\"value\": 593366000.0, \"unit\": \"USD\", \"label\": \"Prepaid Expenses\", \"order\": 240}, \"intangible_assets\": {\"value\": 39165000.0, \"unit\": \"USD\", \"label\": \"Intangible Assets\", \"order\": 330}, \"equity_attributable_to_parent\": {\"value\": 2441300000.0, \"unit\": \"USD\", \"label\": \"Equity Attributable To Parent\", \"order\": 1600}, \"noncurrent_liabilities\": {\"value\": 288696000.0, \"unit\": \"USD\", \"label\": \"Noncurrent Liabilities\", \"order\": 800}, \"liabilities\": {\"value\": 929355000.0, \"unit\": \"USD\", \"label\": \"Liabilities\", \"order\": 600}, \"other_current_liabilities\": {\"value\": 309296000.0, \"unit\": \"USD\", \"label\": \"Other Current Liabilities\", \"order\": 740}, \"wages\": {\"value\": 155246000.0, \"unit\": \"USD\", \"label\": \"Wages\", \"order\": 730}, \"liabilities_and_equity\": {\"value\": 3370655000.0, \"unit\": \"USD\", \"label\": \"Liabilities And Equity\", \"order\": 1900}, \"equity\": {\"value\": 2441300000.0, \"unit\": \"USD\", \"label\": \"Equity\", \"order\": 1400}, \"current_liabilities\": {\"value\": 640659000.0, \"unit\": \"USD\", \"label\": \"Current Liabilities\", \"order\": 700}, \"assets\": {\"value\": 3370655000.0, \"unit\": \"USD\", \"label\": \"Assets\", \"order\": 100}}, \"cash_flow_statement\": {\"net_cash_flow_from_financing_activities_continuing\": {\"value\": -127614000.0, \"unit\": \"USD\", \"label\": \"Net Cash Flow From Financing Activities, Continuing\", \"order\": 800}, \"net_cash_flow_from_operating_activities\": {\"value\": 174347000.0, \"unit\": \"USD\", \"label\": \"Net Cash Flow From Operating Activities\", \"order\": 100}, \"net_cash_flow_continuing\": {\"value\": 19197000.0, \"unit\": \"USD\", \"label\": \"Net Cash Flow, Continuing\", \"order\": 1200}, \"net_cash_flow_from_investing_activities_continuing\": {\"value\": -27536000.0, \"unit\": \"USD\", \"label\": \"Net Cash Flow From Investing Activities, Continuing\", \"order\": 500}, \"net_cash_flow_from_operating_activities_continuing\": {\"value\": 174347000.0, \"unit\": \"USD\", \"label\": \"Net Cash Flow From Operating Activities, Continuing\", \"order\": 200}, \"net_cash_flow\": {\"value\": 19197000.0, \"unit\": \"USD\", \"label\": \"Net Cash Flow\", \"order\": 1100}, \"net_cash_flow_from_financing_activities\": {\"value\": -127614000.0, \"unit\": \"USD\", \"label\": \"Net Cash Flow From Financing Activities\", \"order\": 700}, \"net_cash_flow_from_investing_activities\": {\"value\": -27536000.0, \"unit\": \"USD\", \"label\": \"Net Cash Flow From Investing Activities\", \"order\": 400}}}}, {\"start_date\": \"2023-04-03\", \"end_date\": \"2023-07-02\", \"filing_date\": \"2023-08-04\", \"acceptance_datetime\": \"2023-08-04T19:11:43Z\", \"timeframe\": \"quarterly\", \"fiscal_period\": \"Q2\", \"fiscal_year\": \"2023\", \"cik\": \"0000097210\", \"sic\": \"3825\", \"tickers\": [\"TER\"], \"company_name\": \"TERADYNE, INC\", \"source_filing_url\": \"https://api.polygon.io/v1/reference/sec/filings/0001193125-23-203780\", \"source_filing_file_url\": \"http://api.polygon.io/v1/reference/sec/filings/0001193125-23-203780/files/d417157d10q_htm.xml\", \"financials\": {\"cash_flow_statement\": {\"net_cash_flow_continuing\": {\"value\": -37750000.0, \"unit\": \"USD\", \"label\": \"Net Cash Flow, Continuing\", \"order\": 1200}, \"net_cash_flow_from_operating_activities\": {\"value\": 142768000.0, \"unit\": \"USD\", \"label\": \"Net Cash Flow From Operating Activities\", \"order\": 100}, \"net_cash_flow\": {\"value\": -37750000.0, \"unit\": \"USD\", \"label\": \"Net Cash Flow\", \"order\": 1100}, \"net_cash_flow_from_investing_activities_continuing\": {\"value\": -26823000.0, \"unit\": \"USD\", \"label\": \"Net Cash Flow From Investing Activities, Continuing\", \"order\": 500}, \"net_cash_flow_from_financing_activities_continuing\": {\"value\": -153695000.0, \"unit\": \"USD\", \"label\": \"Net Cash Flow From Financing Activities, Continuing\", \"order\": 800}, \"net_cash_flow_from_operating_activities_continuing\": {\"value\": 142768000.0, \"unit\": \"USD\", \"label\": \"Net Cash Flow From Operating Activities, Continuing\", \"order\": 200}, \"net_cash_flow_from_financing_activities\": {\"value\": -153695000.0, \"unit\": \"USD\", \"label\": \"Net Cash Flow From Financing Activities\", \"order\": 700}, \"net_cash_flow_from_investing_activities\": {\"value\": -26823000.0, \"unit\": \"USD\", \"label\": \"Net Cash Flow From Investing Activities\", \"order\": 400}}, \"comprehensive_income\": {\"comprehensive_income_loss_attributable_to_parent\": {\"value\": 126044000.0, \"unit\": \"USD\", \"label\": \"Comprehensive Income/Loss Attributable To Parent\", \"order\": 300}, \"comprehensive_income_loss\": {\"value\": 126044000.0, \"unit\": \"USD\", \"label\": \"Comprehensive Income/Loss\", \"order\": 100}, \"comprehensive_income_loss_attributable_to_noncontrolling_interest\": {\"value\": 0, \"unit\": \"USD\", \"label\": \"Comprehensive Income/Loss Attributable To Noncontrolling Interest\", \"order\": 200}, \"other_comprehensive_income_loss\": {\"value\": 5994000.0, \"unit\": \"USD\", \"label\": \"Other Comprehensive Income/Loss\", \"order\": 400}}, \"balance_sheet\": {\"prepaid_expenses\": {\"value\": 560682000.0, \"unit\": \"USD\", \"label\": \"Prepaid Expenses\", \"order\": 240}, \"noncurrent_assets\": {\"value\": 1271056000.0, \"unit\": \"USD\", \"label\": \"Noncurrent Assets\", \"order\": 300}, \"other_current_assets\": {\"value\": 1215863000.0, \"unit\": \"USD\", \"label\": \"Other Current Assets\", \"order\": 250}, \"other_noncurrent_assets\": {\"value\": 789368000.0, \"unit\": \"USD\", \"label\": \"Other Non-current Assets\", \"order\": 350}, \"current_liabilities\": {\"value\": 669785000.0, \"unit\": \"USD\", \"label\": \"Current Liabilities\", \"order\": 700}, \"accounts_payable\": {\"value\": 153157000.0, \"unit\": \"USD\", \"label\": \"Accounts Payable\", \"order\": 710}, \"equity\": {\"value\": 2434883000.0, \"unit\": \"USD\", \"label\": \"Equity\", \"order\": 1400}, \"inventory\": {\"value\": 347295000.0, \"unit\": \"USD\", \"label\": \"Inventory\", \"order\": 230}, \"wages\": {\"value\": 163653000.0, \"unit\": \"USD\", \"label\": \"Wages\", \"order\": 730}, \"intangible_assets\": {\"value\": 44611000.0, \"unit\": \"USD\", \"label\": \"Intangible Assets\", \"order\": 330}, \"equity_attributable_to_parent\": {\"value\": 2434883000.0, \"unit\": \"USD\", \"label\": \"Equity Attributable To Parent\", \"order\": 1600}, \"assets\": {\"value\": 3394896000.0, \"unit\": \"USD\", \"label\": \"Assets\", \"order\": 100}, \"fixed_assets\": {\"value\": 437077000.0, \"unit\": \"USD\", \"label\": \"Fixed Assets\", \"order\": 320}, \"liabilities\": {\"value\": 960013000.0, \"unit\": \"USD\", \"label\": \"Liabilities\", \"order\": 600}, \"equity_attributable_to_noncontrolling_interest\": {\"value\": 0, \"unit\": \"USD\", \"label\": \"Equity Attributable To Noncontrolling Interest\", \"order\": 1500}, \"other_current_liabilities\": {\"value\": 352975000.0, \"unit\": \"USD\", \"label\": \"Other Current Liabilities\", \"order\": 740}, \"noncurrent_liabilities\": {\"value\": 0, \"unit\": \"USD\", \"label\": \"Noncurrent Liabilities\", \"order\": 800}, \"current_assets\": {\"value\": 2123840000.0, \"unit\": \"USD\", \"label\": \"Current Assets\", \"order\": 200}, \"liabilities_and_equity\": {\"value\": 3394896000.0, \"unit\": \"USD\", \"label\": \"Liabilities And Equity\", \"order\": 1900}}, \"income_statement\": {\"diluted_average_shares\": {\"value\": 164751000.0, \"unit\": \"shares\", \"label\": \"Diluted Average Shares\", \"order\": 4500}, \"income_tax_expense_benefit\": {\"value\": 24352000.0, \"unit\": \"USD\", \"label\": \"Income Tax Expense/Benefit\", \"order\": 2200}, \"operating_income_loss\": {\"value\": 139908000.0, \"unit\": \"USD\", \"label\": \"Operating Income/Loss\", \"order\": 1100}, \"selling_general_and_administrative_expenses\": {\"value\": 145695000.0, \"unit\": \"USD\", \"label\": \"Selling, General, and Administrative Expenses\", \"order\": 1010}, \"income_loss_from_continuing_operations_after_tax\": {\"value\": 120050000.0, \"unit\": \"USD\", \"label\": \"Income/Loss From Continuing Operations After Tax\", \"order\": 1400}, \"participating_securities_distributed_and_undistributed_earnings_loss_basic\": {\"value\": 0, \"unit\": \"USD\", \"label\": \"Participating Securities, Distributed And Undistributed Earnings/Loss, Basic\", \"order\": 3800}, \"diluted_earnings_per_share\": {\"value\": 0.73, \"unit\": \"USD / shares\", \"label\": \"Diluted Earnings Per Share\", \"order\": 4300}, \"costs_and_expenses\": {\"value\": 540035000.0, \"unit\": \"USD\", \"label\": \"Costs And Expenses\", \"order\": 600}, \"income_loss_from_continuing_operations_before_tax\": {\"value\": 144402000.0, \"unit\": \"USD\", \"label\": \"Income/Loss From Continuing Operations Before Tax\", \"order\": 1500}, \"interest_expense_operating\": {\"value\": 1045000.0, \"unit\": \"USD\", \"label\": \"Interest Expense, Operating\", \"order\": 2700}, \"gross_profit\": {\"value\": 402492000.0, \"unit\": \"USD\", \"label\": \"Gross Profit\", \"order\": 800}, \"operating_expenses\": {\"value\": 262584000.0, \"unit\": \"USD\", \"label\": \"Operating Expenses\", \"order\": 1000}, \"net_income_loss_available_to_common_stockholders_basic\": {\"value\": 120050000.0, \"unit\": \"USD\", \"label\": \"Net Income/Loss Available To Common Stockholders, Basic\", \"order\": 3700}, \"benefits_costs_expenses\": {\"value\": 540035000.0, \"unit\": \"USD\", \"label\": \"Benefits Costs and Expenses\", \"order\": 200}, \"net_income_loss_attributable_to_noncontrolling_interest\": {\"value\": 0, \"unit\": \"USD\", \"label\": \"Net Income/Loss Attributable To Noncontrolling Interest\", \"order\": 3300}, \"net_income_loss\": {\"value\": 120050000.0, \"unit\": \"USD\", \"label\": \"Net Income/Loss\", \"order\": 3200}, \"basic_earnings_per_share\": {\"value\": 0.78, \"unit\": \"USD / shares\", \"label\": \"Basic Earnings Per Share\", \"order\": 4200}, \"income_tax_expense_benefit_deferred\": {\"value\": -5937000.0, \"unit\": \"USD\", \"label\": \"Income Tax Expense/Benefit, Deferred\", \"order\": 2400}, \"cost_of_revenue\": {\"value\": 281945000.0, \"unit\": \"USD\", \"label\": \"Cost Of Revenue\", \"order\": 300}, \"net_income_loss_attributable_to_parent\": {\"value\": 120050000.0, \"unit\": \"USD\", \"label\": \"Net Income/Loss Attributable To Parent\", \"order\": 3500}, \"revenues\": {\"value\": 684437000.0, \"unit\": \"USD\", \"label\": \"Revenues\", \"order\": 100}, \"basic_average_shares\": {\"value\": 154760000.0, \"unit\": \"shares\", \"label\": \"Basic Average Shares\", \"order\": 4400}, \"other_operating_expenses\": {\"value\": 116889000.0, \"unit\": \"USD\", \"label\": \"Other Operating Expenses\", \"order\": 1040}, \"preferred_stock_dividends_and_other_adjustments\": {\"value\": 0, \"unit\": \"USD\", \"label\": \"Preferred Stock Dividends And Other Adjustments\", \"order\": 3900}}}}, {\"start_date\": \"2023-01-01\", \"end_date\": \"2023-04-02\", \"filing_date\": \"2023-05-05\", \"acceptance_datetime\": \"2023-05-05T19:14:46Z\", \"timeframe\": \"quarterly\", \"fiscal_period\": \"Q1\", \"fiscal_year\": \"2023\", \"cik\": \"0000097210\", \"sic\": \"3825\", \"tickers\": [\"TER\"], \"company_name\": \"TERADYNE, INC\", \"source_filing_url\": \"https://api.polygon.io/v1/reference/sec/filings/0001193125-23-136994\", \"source_filing_file_url\": \"http://api.polygon.io/v1/reference/sec/filings/0001193125-23-136994/files/d489720d10q_htm.xml\", \"financials\": {\"income_statement\": {\"net_income_loss_attributable_to_noncontrolling_interest\": {\"value\": 0, \"unit\": \"USD\", \"label\": \"Net Income/Loss Attributable To Noncontrolling Interest\", \"order\": 3300}, \"diluted_average_shares\": {\"value\": 166308000.0, \"unit\": \"shares\", \"label\": \"Diluted Average Shares\", \"order\": 4500}, \"other_operating_expenses\": {\"value\": 112601000.0, \"unit\": \"USD\", \"label\": \"Other Operating Expenses\", \"order\": 1040}, \"basic_earnings_per_share\": {\"value\": 0.54, \"unit\": \"USD / shares\", \"label\": \"Basic Earnings Per Share\", \"order\": 4200}, \"income_loss_from_continuing_operations_before_tax\": {\"value\": 97084000.0, \"unit\": \"USD\", \"label\": \"Income/Loss From Continuing Operations Before Tax\", \"order\": 1500}, \"diluted_earnings_per_share\": {\"value\": 0.5, \"unit\": \"USD / shares\", \"label\": \"Diluted Earnings Per Share\", \"order\": 4300}, \"income_tax_expense_benefit_deferred\": {\"value\": -7634000.0, \"unit\": \"USD\", \"label\": \"Income Tax Expense/Benefit, Deferred\", \"order\": 2400}, \"income_loss_from_continuing_operations_after_tax\": {\"value\": 83531000.0, \"unit\": \"USD\", \"label\": \"Income/Loss From Continuing Operations After Tax\", \"order\": 1400}, \"gross_profit\": {\"value\": 356420000.0, \"unit\": \"USD\", \"label\": \"Gross Profit\", \"order\": 800}, \"net_income_loss_available_to_common_stockholders_basic\": {\"value\": 83531000.0, \"unit\": \"USD\", \"label\": \"Net Income/Loss Available To Common Stockholders, Basic\", \"order\": 3700}, \"preferred_stock_dividends_and_other_adjustments\": {\"value\": 0, \"unit\": \"USD\", \"label\": \"Preferred Stock Dividends And Other Adjustments\", \"order\": 3900}, \"selling_general_and_administrative_expenses\": {\"value\": 150955000.0, \"unit\": \"USD\", \"label\": \"Selling, General, and Administrative Expenses\", \"order\": 1010}, \"benefits_costs_expenses\": {\"value\": 520445000.0, \"unit\": \"USD\", \"label\": \"Benefits Costs and Expenses\", \"order\": 200}, \"net_income_loss\": {\"value\": 83531000.0, \"unit\": \"USD\", \"label\": \"Net Income/Loss\", \"order\": 3200}, \"costs_and_expenses\": {\"value\": 520445000.0, \"unit\": \"USD\", \"label\": \"Costs And Expenses\", \"order\": 600}, \"cost_of_revenue\": {\"value\": 261109000.0, \"unit\": \"USD\", \"label\": \"Cost Of Revenue\", \"order\": 300}, \"operating_income_loss\": {\"value\": 92864000.0, \"unit\": \"USD\", \"label\": \"Operating Income/Loss\", \"order\": 1100}, \"common_stock_dividends\": {\"value\": 0.11, \"unit\": \"USD / shares\", \"label\": \"Common Stock Dividends\", \"order\": 4600}, \"net_income_loss_attributable_to_parent\": {\"value\": 83531000.0, \"unit\": \"USD\", \"label\": \"Net Income/Loss Attributable To Parent\", \"order\": 3500}, \"participating_securities_distributed_and_undistributed_earnings_loss_basic\": {\"value\": 0, \"unit\": \"USD\", \"label\": \"Participating Securities, Distributed And Undistributed Earnings/Loss, Basic\", \"order\": 3800}, \"operating_expenses\": {\"value\": 263556000.0, \"unit\": \"USD\", \"label\": \"Operating Expenses\", \"order\": 1000}, \"interest_expense_operating\": {\"value\": 987000, \"unit\": \"USD\", \"label\": \"Interest Expense, Operating\", \"order\": 2700}, \"basic_average_shares\": {\"value\": 155904000.0, \"unit\": \"shares\", \"label\": \"Basic Average Shares\", \"order\": 4400}, \"revenues\": {\"value\": 617529000.0, \"unit\": \"USD\", \"label\": \"Revenues\", \"order\": 100}, \"income_tax_expense_benefit\": {\"value\": 13553000.0, \"unit\": \"USD\", \"label\": \"Income Tax Expense/Benefit\", \"order\": 2200}}, \"comprehensive_income\": {\"comprehensive_income_loss\": {\"value\": 96933000.0, \"unit\": \"USD\", \"label\": \"Comprehensive Income/Loss\", \"order\": 100}, \"comprehensive_income_loss_attributable_to_parent\": {\"value\": 96933000.0, \"unit\": \"USD\", \"label\": \"Comprehensive Income/Loss Attributable To Parent\", \"order\": 300}, \"other_comprehensive_income_loss\": {\"value\": 13402000.0, \"unit\": \"USD\", \"label\": \"Other Comprehensive Income/Loss\", \"order\": 400}, \"comprehensive_income_loss_attributable_to_noncontrolling_interest\": {\"value\": 0, \"unit\": \"USD\", \"label\": \"Comprehensive Income/Loss Attributable To Noncontrolling Interest\", \"order\": 200}}, \"balance_sheet\": {\"intangible_assets\": {\"value\": 49246000.0, \"unit\": \"USD\", \"label\": \"Intangible Assets\", \"order\": 330}, \"wages\": {\"value\": 119433000.0, \"unit\": \"USD\", \"label\": \"Wages\", \"order\": 730}, \"equity_attributable_to_noncontrolling_interest\": {\"value\": 0, \"unit\": \"USD\", \"label\": \"Equity Attributable To Noncontrolling Interest\", \"order\": 1500}, \"noncurrent_liabilities\": {\"value\": 0, \"unit\": \"USD\", \"label\": \"Noncurrent Liabilities\", \"order\": 800}, \"other_current_liabilities\": {\"value\": 366277000.0, \"unit\": \"USD\", \"label\": \"Other Current Liabilities\", \"order\": 740}, \"assets\": {\"value\": 3383407000.0, \"unit\": \"USD\", \"label\": \"Assets\", \"order\": 100}, \"liabilities_and_equity\": {\"value\": 3383407000.0, \"unit\": \"USD\", \"label\": \"Liabilities And Equity\", \"order\": 1900}, \"current_assets\": {\"value\": 2111976000.0, \"unit\": \"USD\", \"label\": \"Current Assets\", \"order\": 200}, \"current_liabilities\": {\"value\": 628092000.0, \"unit\": \"USD\", \"label\": \"Current Liabilities\", \"order\": 700}, \"other_current_assets\": {\"value\": 1210804000.0, \"unit\": \"USD\", \"label\": \"Other Current Assets\", \"order\": 250}, \"equity_attributable_to_parent\": {\"value\": 2449462000.0, \"unit\": \"USD\", \"label\": \"Equity Attributable To Parent\", \"order\": 1600}, \"fixed_assets\": {\"value\": 432381000.0, \"unit\": \"USD\", \"label\": \"Fixed Assets\", \"order\": 320}, \"noncurrent_assets\": {\"value\": 1271431000.0, \"unit\": \"USD\", \"label\": \"Noncurrent Assets\", \"order\": 300}, \"inventory\": {\"value\": 352058000.0, \"unit\": \"USD\", \"label\": \"Inventory\", \"order\": 230}, \"prepaid_expenses\": {\"value\": 549114000.0, \"unit\": \"USD\", \"label\": \"Prepaid Expenses\", \"order\": 240}, \"equity\": {\"value\": 2449462000.0, \"unit\": \"USD\", \"label\": \"Equity\", \"order\": 1400}, \"liabilities\": {\"value\": 933945000.0, \"unit\": \"USD\", \"label\": \"Liabilities\", \"order\": 600}, \"other_noncurrent_assets\": {\"value\": 789804000.0, \"unit\": \"USD\", \"label\": \"Other Non-current Assets\", \"order\": 350}, \"accounts_payable\": {\"value\": 142382000.0, \"unit\": \"USD\", \"label\": \"Accounts Payable\", \"order\": 710}}, \"cash_flow_statement\": {\"net_cash_flow_continuing\": {\"value\": -205028000.0, \"unit\": \"USD\", \"label\": \"Net Cash Flow, Continuing\", \"order\": 1200}, \"net_cash_flow_from_investing_activities\": {\"value\": -94863000.0, \"unit\": \"USD\", \"label\": \"Net Cash Flow From Investing Activities\", \"order\": 400}, \"net_cash_flow_from_financing_activities_continuing\": {\"value\": -129501000.0, \"unit\": \"USD\", \"label\": \"Net Cash Flow From Financing Activities, Continuing\", \"order\": 800}, \"net_cash_flow_from_operating_activities\": {\"value\": 19336000.0, \"unit\": \"USD\", \"label\": \"Net Cash Flow From Operating Activities\", \"order\": 100}, \"net_cash_flow_from_financing_activities\": {\"value\": -129501000.0, \"unit\": \"USD\", \"label\": \"Net Cash Flow From Financing Activities\", \"order\": 700}, \"net_cash_flow_from_operating_activities_continuing\": {\"value\": 19336000.0, \"unit\": \"USD\", \"label\": \"Net Cash Flow From Operating Activities, Continuing\", \"order\": 200}, \"net_cash_flow\": {\"value\": -205028000.0, \"unit\": \"USD\", \"label\": \"Net Cash Flow\", \"order\": 1100}, \"net_cash_flow_from_investing_activities_continuing\": {\"value\": -94863000.0, \"unit\": \"USD\", \"label\": \"Net Cash Flow From Investing Activities, Continuing\", \"order\": 500}}}}, {\"start_date\": \"2022-10-03\", \"end_date\": \"2022-12-31\", \"timeframe\": \"quarterly\", \"fiscal_period\": \"Q4\", \"fiscal_year\": \"2022\", \"cik\": \"0000097210\", \"sic\": \"3825\", \"tickers\": [\"TER\"], \"company_name\": \"TERADYNE, INC\", \"financials\": {\"balance_sheet\": {\"equity_attributable_to_parent\": {\"value\": 2451294000.0, \"unit\": \"USD\", \"label\": \"Equity Attributable To Parent\", \"order\": 1600}, \"fixed_assets\": {\"value\": 418683000.0, \"unit\": \"USD\", \"label\": \"Fixed Assets\", \"order\": 320}, \"other_current_assets\": {\"value\": 1399934000.0, \"unit\": \"USD\", \"label\": \"Other Current Assets\", \"order\": 250}, \"liabilities_and_equity\": {\"value\": 3501252000.0, \"unit\": \"USD\", \"label\": \"Liabilities And Equity\", \"order\": 1900}, \"redeemable_noncontrolling_interest_common\": {\"value\": 0, \"unit\": \"USD\", \"label\": \"Redeemable Noncontrolling Interest, Common\", \"order\": 1100}, \"redeemable_noncontrolling_interest\": {\"value\": 0, \"unit\": \"USD\", \"label\": \"Redeemable Noncontrolling Interest\", \"order\": 1000}, \"inventory\": {\"value\": 325019000.0, \"unit\": \"USD\", \"label\": \"Inventory\", \"order\": 230}, \"current_liabilities\": {\"value\": 746263000.0, \"unit\": \"USD\", \"label\": \"Current Liabilities\", \"order\": 700}, \"current_assets\": {\"value\": 2257915000.0, \"unit\": \"USD\", \"label\": \"Current Assets\", \"order\": 200}, \"intangible_assets\": {\"value\": 53478000.0, \"unit\": \"USD\", \"label\": \"Intangible Assets\", \"order\": 330}, \"equity_attributable_to_noncontrolling_interest\": {\"value\": 0, \"unit\": \"USD\", \"label\": \"Equity Attributable To Noncontrolling Interest\", \"order\": 1500}, \"accounts_payable\": {\"value\": 139722000.0, \"unit\": \"USD\", \"label\": \"Accounts Payable\", \"order\": 710}, \"assets\": {\"value\": 3501252000.0, \"unit\": \"USD\", \"label\": \"Assets\", \"order\": 100}, \"equity\": {\"value\": 2451294000.0, \"unit\": \"USD\", \"label\": \"Equity\", \"order\": 1400}, \"prepaid_expenses\": {\"value\": 532962000.0, \"unit\": \"USD\", \"label\": \"Prepaid Expenses\", \"order\": 240}, \"noncurrent_liabilities\": {\"value\": 303695000.0, \"unit\": \"USD\", \"label\": \"Noncurrent Liabilities\", \"order\": 800}, \"liabilities\": {\"value\": 1049958000.0, \"unit\": \"USD\", \"label\": \"Liabilities\", \"order\": 600}, \"other_current_liabilities\": {\"value\": 394275000.0, \"unit\": \"USD\", \"label\": \"Other Current Liabilities\", \"order\": 740}, \"noncurrent_assets\": {\"value\": 1243337000.0, \"unit\": \"USD\", \"label\": \"Noncurrent Assets\", \"order\": 300}, \"wages\": {\"value\": 212266000.0, \"unit\": \"USD\", \"label\": \"Wages\", \"order\": 730}, \"other_noncurrent_assets\": {\"value\": 771176000.0, \"unit\": \"USD\", \"label\": \"Other Non-current Assets\", \"order\": 350}, \"temporary_equity\": {\"value\": 0, \"unit\": \"USD\", \"label\": \"Temporary Equity\", \"order\": 1700}}, \"income_statement\": {\"income_tax_expense_benefit\": {\"value\": 22936000.0, \"unit\": \"USD\", \"label\": \"Income Tax Expense/Benefit\", \"order\": 2200}, \"participating_securities_distributed_and_undistributed_earnings_loss_basic\": {\"value\": 0, \"unit\": \"USD\", \"label\": \"Participating Securities, Distributed And Undistributed Earnings/Loss, Basic\", \"order\": 3800}, \"preferred_stock_dividends_and_other_adjustments\": {\"value\": 0, \"unit\": \"USD\", \"label\": \"Preferred Stock Dividends And Other Adjustments\", \"order\": 3900}, \"revenues\": {\"value\": 731836000.0, \"unit\": \"USD\", \"label\": \"Revenues\", \"order\": 100}, \"net_income_loss\": {\"value\": 172301000.0, \"unit\": \"USD\", \"label\": \"Net Income/Loss\", \"order\": 3200}, \"operating_income_loss\": {\"value\": 166587000.0, \"unit\": \"USD\", \"label\": \"Operating Income/Loss\", \"order\": 1100}, \"other_operating_expenses\": {\"value\": 111111000.0, \"unit\": \"USD\", \"label\": \"Other Operating Expenses\", \"order\": 1040}, \"operating_expenses\": {\"value\": 253863000.0, \"unit\": \"USD\", \"label\": \"Operating Expenses\", \"order\": 1000}, \"net_income_loss_attributable_to_parent\": {\"value\": 172301000.0, \"unit\": \"USD\", \"label\": \"Net Income/Loss Attributable To Parent\", \"order\": 3500}, \"selling_general_and_administrative_expenses\": {\"value\": 142752000.0, \"unit\": \"USD\", \"label\": \"Selling, General, and Administrative Expenses\", \"order\": 1010}, \"diluted_average_shares\": {\"value\": -1422000.0, \"unit\": \"shares\", \"label\": \"Diluted Average Shares\", \"order\": 4500}, \"costs_and_expenses\": {\"value\": 536599000.0, \"unit\": \"USD\", \"label\": \"Costs And Expenses\", \"order\": 600}, \"income_loss_from_continuing_operations_after_tax\": {\"value\": 172301000.0, \"unit\": \"USD\", \"label\": \"Income/Loss From Continuing Operations After Tax\", \"order\": 1400}, \"interest_expense_operating\": {\"value\": 1015000.0, \"unit\": \"USD\", \"label\": \"Interest Expense, Operating\", \"order\": 2700}, \"gross_profit\": {\"value\": 420450000.0, \"unit\": \"USD\", \"label\": \"Gross Profit\", \"order\": 800}, \"income_loss_from_continuing_operations_before_tax\": {\"value\": 195237000.0, \"unit\": \"USD\", \"label\": \"Income/Loss From Continuing Operations Before Tax\", \"order\": 1500}, \"common_stock_dividends\": {\"value\": 0.10999999999999999, \"unit\": \"USD / shares\", \"label\": \"Common Stock Dividends\", \"order\": 4600}, \"income_tax_expense_benefit_deferred\": {\"value\": -10320000.0, \"unit\": \"USD\", \"label\": \"Income Tax Expense/Benefit, Deferred\", \"order\": 2400}, \"basic_earnings_per_share\": {\"value\": 1.1099999999999994, \"unit\": \"USD / shares\", \"label\": \"Basic Earnings Per Share\", \"order\": 4200}, \"net_income_loss_attributable_to_noncontrolling_interest\": {\"value\": 0, \"unit\": \"USD\", \"label\": \"Net Income/Loss Attributable To Noncontrolling Interest\", \"order\": 3300}, \"cost_of_revenue\": {\"value\": 311386000.0, \"unit\": \"USD\", \"label\": \"Cost Of Revenue\", \"order\": 300}, \"benefits_costs_expenses\": {\"value\": 536599000.0, \"unit\": \"USD\", \"label\": \"Benefits Costs and Expenses\", \"order\": 200}, \"basic_average_shares\": {\"value\": -891000, \"unit\": \"shares\", \"label\": \"Basic Average Shares\", \"order\": 4400}, \"net_income_loss_available_to_common_stockholders_basic\": {\"value\": 172301000.0, \"unit\": \"USD\", \"label\": \"Net Income/Loss Available To Common Stockholders, Basic\", \"order\": 3700}, \"diluted_earnings_per_share\": {\"value\": 1.0499999999999998, \"unit\": \"USD / shares\", \"label\": \"Diluted Earnings Per Share\", \"order\": 4300}}, \"cash_flow_statement\": {\"net_cash_flow_from_financing_activities_continuing\": {\"value\": -34152000.0, \"unit\": \"USD\", \"label\": \"Net Cash Flow From Financing Activities, Continuing\", \"order\": 800}, \"net_cash_flow\": {\"value\": 147556000.0, \"unit\": \"USD\", \"label\": \"Net Cash Flow\", \"order\": 1100}, \"net_cash_flow_from_operating_activities\": {\"value\": 183402000.0, \"unit\": \"USD\", \"label\": \"Net Cash Flow From Operating Activities\", \"order\": 100}, \"net_cash_flow_from_operating_activities_continuing\": {\"value\": 183402000.0, \"unit\": \"USD\", \"label\": \"Net Cash Flow From Operating Activities, Continuing\", \"order\": 200}, \"net_cash_flow_from_investing_activities_continuing\": {\"value\": -1694000.0, \"unit\": \"USD\", \"label\": \"Net Cash Flow From Investing Activities, Continuing\", \"order\": 500}, \"net_cash_flow_from_investing_activities\": {\"value\": -1694000.0, \"unit\": \"USD\", \"label\": \"Net Cash Flow From Investing Activities\", \"order\": 400}, \"net_cash_flow_from_financing_activities\": {\"value\": -34152000.0, \"unit\": \"USD\", \"label\": \"Net Cash Flow From Financing Activities\", \"order\": 700}, \"net_cash_flow_continuing\": {\"value\": 147556000.0, \"unit\": \"USD\", \"label\": \"Net Cash Flow, Continuing\", \"order\": 1200}}, \"comprehensive_income\": {\"comprehensive_income_loss_attributable_to_noncontrolling_interest\": {\"value\": 0, \"unit\": \"USD\", \"label\": \"Comprehensive Income/Loss Attributable To Noncontrolling Interest\", \"order\": 200}, \"other_comprehensive_income_loss\": {\"value\": 34911000.0, \"unit\": \"USD\", \"label\": \"Other Comprehensive Income/Loss\", \"order\": 400}, \"comprehensive_income_loss_attributable_to_parent\": {\"value\": 207212000.0, \"unit\": \"USD\", \"label\": \"Comprehensive Income/Loss Attributable To Parent\", \"order\": 300}, \"comprehensive_income_loss\": {\"value\": 207212000.0, \"unit\": \"USD\", \"label\": \"Comprehensive Income/Loss\", \"order\": 100}}}}, {\"start_date\": \"2022-01-01\", \"end_date\": \"2022-12-31\", \"filing_date\": \"2023-02-22\", \"timeframe\": \"annual\", \"fiscal_period\": \"FY\", \"fiscal_year\": \"2022\", \"cik\": \"0000097210\", \"sic\": \"3825\", \"tickers\": [\"TER\"], \"company_name\": \"TERADYNE, INC\", \"source_filing_url\": \"https://api.polygon.io/v1/reference/sec/filings/0001193125-23-044711\", \"source_filing_file_url\": \"http://api.polygon.io/v1/reference/sec/filings/0001193125-23-044711/files/d414778d10k_htm.xml\", \"financials\": {\"comprehensive_income\": {\"other_comprehensive_income_loss\": {\"value\": -43920000.0, \"unit\": \"USD\", \"label\": \"Other Comprehensive Income/Loss\", \"order\": 400}, \"comprehensive_income_loss\": {\"value\": 671581000.0, \"unit\": \"USD\", \"label\": \"Comprehensive Income/Loss\", \"order\": 100}, \"comprehensive_income_loss_attributable_to_parent\": {\"value\": 671581000.0, \"unit\": \"USD\", \"label\": \"Comprehensive Income/Loss Attributable To Parent\", \"order\": 300}, \"comprehensive_income_loss_attributable_to_noncontrolling_interest\": {\"value\": 0, \"unit\": \"USD\", \"label\": \"Comprehensive Income/Loss Attributable To Noncontrolling Interest\", \"order\": 200}}, \"income_statement\": {\"basic_earnings_per_share\": {\"value\": 4.52, \"unit\": \"USD / shares\", \"label\": \"Basic Earnings Per Share\", \"order\": 4200}, \"cost_of_revenue\": {\"value\": 1287894000.0, \"unit\": \"USD\", \"label\": \"Cost Of Revenue\", \"order\": 300}, \"costs_and_expenses\": {\"value\": 2314660000.0, \"unit\": \"USD\", \"label\": \"Costs And Expenses\", \"order\": 600}, \"income_tax_expense_benefit\": {\"value\": 124884000.0, \"unit\": \"USD\", \"label\": \"Income Tax Expense/Benefit\", \"order\": 2200}, \"interest_expense_operating\": {\"value\": 3719000.0, \"unit\": \"USD\", \"label\": \"Interest Expense, Operating\", \"order\": 2700}, \"income_loss_from_continuing_operations_before_tax\": {\"value\": 840385000.0, \"unit\": \"USD\", \"label\": \"Income/Loss From Continuing Operations Before Tax\", \"order\": 1500}, \"income_tax_expense_benefit_current\": {\"value\": 163577000.0, \"unit\": \"USD\", \"label\": \"Income Tax Expense/Benefit, Current\", \"order\": 2300}, \"income_tax_expense_benefit_deferred\": {\"value\": -38693000.0, \"unit\": \"USD\", \"label\": \"Income Tax Expense/Benefit, Deferred\", \"order\": 2400}, \"diluted_average_shares\": {\"value\": 169734000.0, \"unit\": \"shares\", \"label\": \"Diluted Average Shares\", \"order\": 4500}, \"preferred_stock_dividends_and_other_adjustments\": {\"value\": 0, \"unit\": \"USD\", \"label\": \"Preferred Stock Dividends And Other Adjustments\", \"order\": 3900}, \"operating_income_loss\": {\"value\": 831939000.0, \"unit\": \"USD\", \"label\": \"Operating Income/Loss\", \"order\": 1100}, \"gross_profit\": {\"value\": 1867151000.0, \"unit\": \"USD\", \"label\": \"Gross Profit\", \"order\": 800}, \"net_income_loss_attributable_to_parent\": {\"value\": 715501000.0, \"unit\": \"USD\", \"label\": \"Net Income/Loss Attributable To Parent\", \"order\": 3500}, \"net_income_loss\": {\"value\": 715501000.0, \"unit\": \"USD\", \"label\": \"Net Income/Loss\", \"order\": 3200}, \"selling_general_and_administrative_expenses\": {\"value\": 558103000.0, \"unit\": \"USD\", \"label\": \"Selling, General, and Administrative Expenses\", \"order\": 1010}, \"diluted_earnings_per_share\": {\"value\": 4.22, \"unit\": \"USD / shares\", \"label\": \"Diluted Earnings Per Share\", \"order\": 4300}, \"net_income_loss_available_to_common_stockholders_basic\": {\"value\": 715501000.0, \"unit\": \"USD\", \"label\": \"Net Income/Loss Available To Common Stockholders, Basic\", \"order\": 3700}, \"basic_average_shares\": {\"value\": 158434000.0, \"unit\": \"shares\", \"label\": \"Basic Average Shares\", \"order\": 4400}, \"common_stock_dividends\": {\"value\": 0.44, \"unit\": \"USD / shares\", \"label\": \"Common Stock Dividends\", \"order\": 4600}, \"participating_securities_distributed_and_undistributed_earnings_loss_basic\": {\"value\": 0, \"unit\": \"USD\", \"label\": \"Participating Securities, Distributed And Undistributed Earnings/Loss, Basic\", \"order\": 3800}, \"other_operating_expenses\": {\"value\": 477109000.0, \"unit\": \"USD\", \"label\": \"Other Operating Expenses\", \"order\": 1040}, \"net_income_loss_attributable_to_noncontrolling_interest\": {\"value\": 0, \"unit\": \"USD\", \"label\": \"Net Income/Loss Attributable To Noncontrolling Interest\", \"order\": 3300}, \"income_loss_from_continuing_operations_after_tax\": {\"value\": 715501000.0, \"unit\": \"USD\", \"label\": \"Income/Loss From Continuing Operations After Tax\", \"order\": 1400}, \"operating_expenses\": {\"value\": 1035212000.0, \"unit\": \"USD\", \"label\": \"Operating Expenses\", \"order\": 1000}, \"revenues\": {\"value\": 3155045000.0, \"unit\": \"USD\", \"label\": \"Revenues\", \"order\": 100}, \"benefits_costs_expenses\": {\"value\": 2314660000.0, \"unit\": \"USD\", \"label\": \"Benefits Costs and Expenses\", \"order\": 200}}, \"balance_sheet\": {\"current_assets\": {\"value\": 2257915000.0, \"unit\": \"USD\", \"label\": \"Current Assets\", \"order\": 200}, \"redeemable_noncontrolling_interest\": {\"value\": 0, \"unit\": \"USD\", \"label\": \"Redeemable Noncontrolling Interest\", \"order\": 1000}, \"intangible_assets\": {\"value\": 53478000.0, \"unit\": \"USD\", \"label\": \"Intangible Assets\", \"order\": 330}, \"inventory\": {\"value\": 325019000.0, \"unit\": \"USD\", \"label\": \"Inventory\", \"order\": 230}, \"equity_attributable_to_parent\": {\"value\": 2451294000.0, \"unit\": \"USD\", \"label\": \"Equity Attributable To Parent\", \"order\": 1600}, \"other_current_liabilities\": {\"value\": 394275000.0, \"unit\": \"USD\", \"label\": \"Other Current Liabilities\", \"order\": 740}, \"liabilities_and_equity\": {\"value\": 3501252000.0, \"unit\": \"USD\", \"label\": \"Liabilities And Equity\", \"order\": 1900}, \"redeemable_noncontrolling_interest_common\": {\"value\": 0, \"unit\": \"USD\", \"label\": \"Redeemable Noncontrolling Interest, Common\", \"order\": 1100}, \"equity_attributable_to_noncontrolling_interest\": {\"value\": 0, \"unit\": \"USD\", \"label\": \"Equity Attributable To Noncontrolling Interest\", \"order\": 1500}, \"other_current_assets\": {\"value\": 1399934000.0, \"unit\": \"USD\", \"label\": \"Other Current Assets\", \"order\": 250}, \"equity\": {\"value\": 2451294000.0, \"unit\": \"USD\", \"label\": \"Equity\", \"order\": 1400}, \"temporary_equity\": {\"value\": 0, \"unit\": \"USD\", \"label\": \"Temporary Equity\", \"order\": 1700}, \"other_noncurrent_assets\": {\"value\": 771176000.0, \"unit\": \"USD\", \"label\": \"Other Non-current Assets\", \"order\": 350}, \"current_liabilities\": {\"value\": 746263000.0, \"unit\": \"USD\", \"label\": \"Current Liabilities\", \"order\": 700}, \"liabilities\": {\"value\": 1049958000.0, \"unit\": \"USD\", \"label\": \"Liabilities\", \"order\": 600}, \"accounts_payable\": {\"value\": 139722000.0, \"unit\": \"USD\", \"label\": \"Accounts Payable\", \"order\": 710}, \"noncurrent_liabilities\": {\"value\": 303695000.0, \"unit\": \"USD\", \"label\": \"Noncurrent Liabilities\", \"order\": 800}, \"assets\": {\"value\": 3501252000.0, \"unit\": \"USD\", \"label\": \"Assets\", \"order\": 100}, \"prepaid_expenses\": {\"value\": 532962000.0, \"unit\": \"USD\", \"label\": \"Prepaid Expenses\", \"order\": 240}, \"wages\": {\"value\": 212266000.0, \"unit\": \"USD\", \"label\": \"Wages\", \"order\": 730}, \"noncurrent_assets\": {\"value\": 1243337000.0, \"unit\": \"USD\", \"label\": \"Noncurrent Assets\", \"order\": 300}, \"fixed_assets\": {\"value\": 418683000.0, \"unit\": \"USD\", \"label\": \"Fixed Assets\", \"order\": 320}}, \"cash_flow_statement\": {\"net_cash_flow_from_investing_activities_continuing\": {\"value\": 43751000.0, \"unit\": \"USD\", \"label\": \"Net Cash Flow From Investing Activities, Continuing\", \"order\": 500}, \"net_cash_flow\": {\"value\": -271315000.0, \"unit\": \"USD\", \"label\": \"Net Cash Flow\", \"order\": 1100}, \"net_cash_flow_from_operating_activities_continuing\": {\"value\": 577923000.0, \"unit\": \"USD\", \"label\": \"Net Cash Flow From Operating Activities, Continuing\", \"order\": 200}, \"net_cash_flow_from_operating_activities\": {\"value\": 577923000.0, \"unit\": \"USD\", \"label\": \"Net Cash Flow From Operating Activities\", \"order\": 100}, \"net_cash_flow_continuing\": {\"value\": -271315000.0, \"unit\": \"USD\", \"label\": \"Net Cash Flow, Continuing\", \"order\": 1200}, \"net_cash_flow_from_investing_activities\": {\"value\": 43751000.0, \"unit\": \"USD\", \"label\": \"Net Cash Flow From Investing Activities\", \"order\": 400}, \"net_cash_flow_from_financing_activities_continuing\": {\"value\": -892989000.0, \"unit\": \"USD\", \"label\": \"Net Cash Flow From Financing Activities, Continuing\", \"order\": 800}, \"net_cash_flow_from_financing_activities\": {\"value\": -892989000.0, \"unit\": \"USD\", \"label\": \"Net Cash Flow From Financing Activities\", \"order\": 700}}}}, {\"start_date\": \"2022-07-04\", \"end_date\": \"2022-10-02\", \"filing_date\": \"2022-11-04\", \"timeframe\": \"quarterly\", \"fiscal_period\": \"Q3\", \"fiscal_year\": \"2022\", \"cik\": \"0000097210\", \"sic\": \"3825\", \"tickers\": [\"TER\"], \"company_name\": \"TERADYNE, INC\", \"source_filing_url\": \"https://api.polygon.io/v1/reference/sec/filings/0001193125-22-277821\", \"source_filing_file_url\": \"http://api.polygon.io/v1/reference/sec/filings/0001193125-22-277821/files/d386683d10q_htm.xml\", \"financials\": {\"income_statement\": {\"gross_profit\": {\"value\": 485379000.0, \"unit\": \"USD\", \"label\": \"Gross Profit\", \"order\": 800}, \"income_loss_from_continuing_operations_before_tax\": {\"value\": 226197000.0, \"unit\": \"USD\", \"label\": \"Income/Loss From Continuing Operations Before Tax\", \"order\": 1500}, \"income_tax_expense_benefit\": {\"value\": 42712000.0, \"unit\": \"USD\", \"label\": \"Income Tax Expense/Benefit\", \"order\": 2200}, \"diluted_earnings_per_share\": {\"value\": 1.1, \"unit\": \"USD / shares\", \"label\": \"Diluted Earnings Per Share\", \"order\": 4300}, \"interest_expense_operating\": {\"value\": 779000, \"unit\": \"USD\", \"label\": \"Interest Expense, Operating\", \"order\": 2700}, \"revenues\": {\"value\": 827073000.0, \"unit\": \"USD\", \"label\": \"Revenues\", \"order\": 100}, \"net_income_loss_attributable_to_parent\": {\"value\": 183485000.0, \"unit\": \"USD\", \"label\": \"Net Income/Loss Attributable To Parent\", \"order\": 3500}, \"common_stock_dividends\": {\"value\": 0.11, \"unit\": \"USD / shares\", \"label\": \"Common Stock Dividends\", \"order\": 4600}, \"income_tax_expense_benefit_deferred\": {\"value\": -4776000.0, \"unit\": \"USD\", \"label\": \"Income Tax Expense/Benefit, Deferred\", \"order\": 2400}, \"benefits_costs_expenses\": {\"value\": 600876000.0, \"unit\": \"USD\", \"label\": \"Benefits Costs and Expenses\", \"order\": 200}, \"net_income_loss_attributable_to_noncontrolling_interest\": {\"value\": 0, \"unit\": \"USD\", \"label\": \"Net Income/Loss Attributable To Noncontrolling Interest\", \"order\": 3300}, \"cost_of_revenue\": {\"value\": 341694000.0, \"unit\": \"USD\", \"label\": \"Cost Of Revenue\", \"order\": 300}, \"costs_and_expenses\": {\"value\": 600876000.0, \"unit\": \"USD\", \"label\": \"Costs And Expenses\", \"order\": 600}, \"income_loss_from_continuing_operations_after_tax\": {\"value\": 183485000.0, \"unit\": \"USD\", \"label\": \"Income/Loss From Continuing Operations After Tax\", \"order\": 1400}, \"basic_earnings_per_share\": {\"value\": 1.17, \"unit\": \"USD / shares\", \"label\": \"Basic Earnings Per Share\", \"order\": 4200}, \"net_income_loss_available_to_common_stockholders_basic\": {\"value\": 183485000.0, \"unit\": \"USD\", \"label\": \"Net Income/Loss Available To Common Stockholders, Basic\", \"order\": 3700}, \"participating_securities_distributed_and_undistributed_earnings_loss_basic\": {\"value\": 0, \"unit\": \"USD\", \"label\": \"Participating Securities, Distributed And Undistributed Earnings/Loss, Basic\", \"order\": 3800}, \"other_operating_expenses\": {\"value\": 118240000.0, \"unit\": \"USD\", \"label\": \"Other Operating Expenses\", \"order\": 1040}, \"net_income_loss\": {\"value\": 183485000.0, \"unit\": \"USD\", \"label\": \"Net Income/Loss\", \"order\": 3200}, \"selling_general_and_administrative_expenses\": {\"value\": 135632000.0, \"unit\": \"USD\", \"label\": \"Selling, General, and Administrative Expenses\", \"order\": 1010}, \"diluted_average_shares\": {\"value\": 166733000.0, \"unit\": \"shares\", \"label\": \"Diluted Average Shares\", \"order\": 4500}, \"preferred_stock_dividends_and_other_adjustments\": {\"value\": 0, \"unit\": \"USD\", \"label\": \"Preferred Stock Dividends And Other Adjustments\", \"order\": 3900}, \"operating_income_loss\": {\"value\": 231507000.0, \"unit\": \"USD\", \"label\": \"Operating Income/Loss\", \"order\": 1100}, \"basic_average_shares\": {\"value\": 156364000.0, \"unit\": \"shares\", \"label\": \"Basic Average Shares\", \"order\": 4400}, \"operating_expenses\": {\"value\": 253872000.0, \"unit\": \"USD\", \"label\": \"Operating Expenses\", \"order\": 1000}}, \"cash_flow_statement\": {\"net_cash_flow_from_investing_activities\": {\"value\": 99775000.0, \"unit\": \"USD\", \"label\": \"Net Cash Flow From Investing Activities\", \"order\": 400}, \"net_cash_flow_continuing\": {\"value\": 139319000.0, \"unit\": \"USD\", \"label\": \"Net Cash Flow, Continuing\", \"order\": 1200}, \"net_cash_flow_from_operating_activities\": {\"value\": 271604000.0, \"unit\": \"USD\", \"label\": \"Net Cash Flow From Operating Activities\", \"order\": 100}, \"net_cash_flow_from_financing_activities_continuing\": {\"value\": -232060000.0, \"unit\": \"USD\", \"label\": \"Net Cash Flow From Financing Activities, Continuing\", \"order\": 800}, \"net_cash_flow_from_operating_activities_continuing\": {\"value\": 271604000.0, \"unit\": \"USD\", \"label\": \"Net Cash Flow From Operating Activities, Continuing\", \"order\": 200}, \"net_cash_flow_from_financing_activities\": {\"value\": -232060000.0, \"unit\": \"USD\", \"label\": \"Net Cash Flow From Financing Activities\", \"order\": 700}, \"net_cash_flow\": {\"value\": 139319000.0, \"unit\": \"USD\", \"label\": \"Net Cash Flow\", \"order\": 1100}, \"net_cash_flow_from_investing_activities_continuing\": {\"value\": 99775000.0, \"unit\": \"USD\", \"label\": \"Net Cash Flow From Investing Activities, Continuing\", \"order\": 500}}, \"comprehensive_income\": {\"comprehensive_income_loss\": {\"value\": 151665000.0, \"unit\": \"USD\", \"label\": \"Comprehensive Income/Loss\", \"order\": 100}, \"comprehensive_income_loss_attributable_to_parent\": {\"value\": 151665000.0, \"unit\": \"USD\", \"label\": \"Comprehensive Income/Loss Attributable To Parent\", \"order\": 300}, \"comprehensive_income_loss_attributable_to_noncontrolling_interest\": {\"value\": 0, \"unit\": \"USD\", \"label\": \"Comprehensive Income/Loss Attributable To Noncontrolling Interest\", \"order\": 200}, \"other_comprehensive_income_loss\": {\"value\": -31820000.0, \"unit\": \"USD\", \"label\": \"Other Comprehensive Income/Loss\", \"order\": 400}}, \"balance_sheet\": {\"noncurrent_liabilities\": {\"value\": 363840000.0, \"unit\": \"USD\", \"label\": \"Noncurrent Liabilities\", \"order\": 800}, \"inventory\": {\"value\": 310754000.0, \"unit\": \"USD\", \"label\": \"Inventory\", \"order\": 230}, \"equity\": {\"value\": 2254125000.0, \"unit\": \"USD\", \"label\": \"Equity\", \"order\": 1400}, \"noncurrent_assets\": {\"value\": 1192352000.0, \"unit\": \"USD\", \"label\": \"Noncurrent Assets\", \"order\": 300}, \"equity_attributable_to_parent\": {\"value\": 2254125000.0, \"unit\": \"USD\", \"label\": \"Equity Attributable To Parent\", \"order\": 1600}, \"liabilities\": {\"value\": 1065781000.0, \"unit\": \"USD\", \"label\": \"Liabilities\", \"order\": 600}, \"current_assets\": {\"value\": 2127554000.0, \"unit\": \"USD\", \"label\": \"Current Assets\", \"order\": 200}, \"other_current_liabilities\": {\"value\": 365864000.0, \"unit\": \"USD\", \"label\": \"Other Current Liabilities\", \"order\": 740}, \"prepaid_expenses\": {\"value\": 502678000.0, \"unit\": \"USD\", \"label\": \"Prepaid Expenses\", \"order\": 240}, \"wages\": {\"value\": 168102000.0, \"unit\": \"USD\", \"label\": \"Wages\", \"order\": 730}, \"equity_attributable_to_noncontrolling_interest\": {\"value\": 0, \"unit\": \"USD\", \"label\": \"Equity Attributable To Noncontrolling Interest\", \"order\": 1500}, \"intangible_assets\": {\"value\": 55580000.0, \"unit\": \"USD\", \"label\": \"Intangible Assets\", \"order\": 330}, \"other_current_assets\": {\"value\": 1314122000.0, \"unit\": \"USD\", \"label\": \"Other Current Assets\", \"order\": 250}, \"current_liabilities\": {\"value\": 701941000.0, \"unit\": \"USD\", \"label\": \"Current Liabilities\", \"order\": 700}, \"accounts_payable\": {\"value\": 167975000.0, \"unit\": \"USD\", \"label\": \"Accounts Payable\", \"order\": 710}, \"liabilities_and_equity\": {\"value\": 3319906000.0, \"unit\": \"USD\", \"label\": \"Liabilities And Equity\", \"order\": 1900}, \"fixed_assets\": {\"value\": 415181000.0, \"unit\": \"USD\", \"label\": \"Fixed Assets\", \"order\": 320}, \"assets\": {\"value\": 3319906000.0, \"unit\": \"USD\", \"label\": \"Assets\", \"order\": 100}, \"other_noncurrent_assets\": {\"value\": 721591000.0, \"unit\": \"USD\", \"label\": \"Other Non-current Assets\", \"order\": 350}}}}]\u001b[0m\u001b[32;1m\u001b[1;3m\n",
      "{'tool_name': 'polygon_ticker_news', 'parameters': {'query': 'TER'}}\n",
      "\u001b[0m\u001b[36;1m\u001b[1;3m[{\"id\": \"L74kAm8fHXMw1nOTGJxb3XxeTZiK85ny7nWDv2i8Zxk\", \"publisher\": {\"name\": \"Zacks Investment Research\", \"homepage_url\": \"https://www.zacks.com/\", \"logo_url\": \"https://s3.polygon.io/public/assets/news/logos/zacks.png\", \"favicon_url\": \"https://s3.polygon.io/public/assets/news/favicons/zacks.ico\"}, \"title\": \"Teradyne (TER) Stock Moves -0.42%: What You Should Know\", \"author\": \"Zacks Equity Research\", \"published_utc\": \"2024-05-30T22:00:11Z\", \"article_url\": \"https://www.zacks.com/stock/news/2281719/teradyne-ter-stock-moves--042-what-you-should-know\", \"tickers\": [\"TER\"], \"amp_url\": \"https://www.zacks.com/amp/stock/news/2281719/teradyne-ter-stock-moves--042-what-you-should-know\", \"image_url\": \"https://staticx-tuner.zacks.com/images/default_article_images/default27.jpg\", \"description\": \"In the most recent trading session, Teradyne (TER) closed at $141.27, indicating a -0.42% shift from the previous trading day.\"}, {\"id\": \"2nLZLXA0lmWvQOhCPGYWbumhwJvgg4jTtr0KhzPUlyo\", \"publisher\": {\"name\": \"Zacks Investment Research\", \"homepage_url\": \"https://www.zacks.com/\", \"logo_url\": \"https://s3.polygon.io/public/assets/news/logos/zacks.png\", \"favicon_url\": \"https://s3.polygon.io/public/assets/news/favicons/zacks.ico\"}, \"title\": \"Teradyne (TER) Up 28.8% Since Last Earnings Report: Can It Continue?\", \"author\": \"Zacks Equity Research\", \"published_utc\": \"2024-05-24T15:31:16Z\", \"article_url\": \"https://www.zacks.com/stock/news/2278736/teradyne-ter-up-288-since-last-earnings-report-can-it-continue\", \"tickers\": [\"TER\"], \"amp_url\": \"https://www.zacks.com/amp/stock/news/2278736/teradyne-ter-up-288-since-last-earnings-report-can-it-continue\", \"image_url\": \"https://staticx-tuner.zacks.com/images/default_article_images/default34.jpg\", \"description\": \"Teradyne (TER) reported earnings 30 days ago. What's next for the stock? We take a look at earnings estimates for some clues.\"}, {\"id\": \"mi9HdPFjxD_BqNm73hIF6-mncOpwzqXsCYOxoMwnx4I\", \"publisher\": {\"name\": \"Benzinga\", \"homepage_url\": \"https://www.benzinga.com/\", \"logo_url\": \"https://s3.polygon.io/public/assets/news/logos/benzinga.svg\", \"favicon_url\": \"https://s3.polygon.io/public/assets/news/favicons/benzinga.ico\"}, \"title\": \"EXCLUSIVE: Investing In AI? Diversify 'Beyond The Likes Of NVIDIA' Says WisdomTree's CIO\", \"author\": \"Surbhi Jain\", \"published_utc\": \"2024-05-21T12:10:08Z\", \"article_url\": \"https://www.benzinga.com/trading-ideas/long-ideas/24/05/38938354/exclusive-investing-in-ai-diversify-beyond-the-likes-of-nvidia-says-wisdomtrees-cio\", \"tickers\": [\"ANEW\", \"LRNZ\", \"WTAI\", \"ASML\", \"GOOG\", \"NVDA\", \"QCOM\", \"ARM\", \"MU\", \"TER\", \"TSM\", \"GOOGL\", \"BOTZ\", \"UBOT\", \"META\", \"CRWD\", \"THNQ\"], \"amp_url\": \"https://www.benzinga.com/amp/content/38938354\", \"image_url\": \"https://cdn.benzinga.com/files/images/story/2024/05/21/colorful-ai2.png?width=1200&height=800&fit=crop\", \"description\": \"In an exclusive interview with Benzinga, Jeremy Schwartz, Global Chief Investment Officer at WisdomTree, shared his insights on sectors and themes that are currently capturing the firm's attention. \\nAs we navigate through the first half of 2024, he pointed to one area that stands out prominently: artificial intelligence (AI) and its transformative potential across various industries.\\nAI: The Game Changer For 2024\\nSchwartz highlighted that global corporations are investing heavily in computing infrastructure, with over $100 billion being allocated annually. \\n\\u201cWe are also observing the emergence of superior chatbots and \\\"CoPilots\\\" that optimize existing software as well as conversations about how AI has the potential to increase productivity across nearly every industry,\\u201d said Schwartz. \\nThese advancements underscore AI\\u2019s potential to boost productivity across nearly every sector, a trend that investors cannot afford to overlook.\\nThematic ETFs: Diversified Exposure To AI\\nTo capture alpha from AI\\u2019s potential, Schwartz advocates that \\u201cinvestors can get diverse exposure to AI, beyond the likes of Nvidia Corp (NASDAQ:NVDA) that so many others are focusing on.\\u201d\\nAlso Read: Will Nvidia\\u2019s Earnings Stoke Market Rally Further? Strategist Weighs In: \\u2018I Would Think Investors Are Going To Be Nervous\\u2019\\nIn this regard, WisdomTree's approach to ...Full story available on Benzinga.com\", \"keywords\": [\"Long Ideas\", \"Specialty ETFs\", \"Top Stories\", \"Exclusives\", \"Tech\", \"Trading Ideas\", \"Interview\", \"ETFs\"]}, {\"id\": \"WMGfMbH7JRegCphKAdhocaduJodSTUFuEFAsu-EPZSc\", \"publisher\": {\"name\": \"Benzinga\", \"homepage_url\": \"https://www.benzinga.com/\", \"logo_url\": \"https://s3.polygon.io/public/assets/news/logos/benzinga.svg\", \"favicon_url\": \"https://s3.polygon.io/public/assets/news/favicons/benzinga.ico\"}, \"title\": \"This Micron Technology Analyst Is No Longer Bearish; Here Are Top 5 Upgrades For Today\", \"author\": \"Avi Kapoor\", \"published_utc\": \"2024-05-20T18:50:38Z\", \"article_url\": \"https://www.benzinga.com/news/24/05/38924982/this-micron-technology-analyst-is-no-longer-bearish-here-are-top-5-upgrades-for-today\", \"tickers\": [\"MELI\", \"MU\", \"TER\", \"UHS\", \"GMED\"], \"amp_url\": \"https://www.benzinga.com/amp/content/38924982\", \"image_url\": \"https://cdn.benzinga.com/files/images/story/2024/05/20/Micronimage-gallery-high-res-allen-texas.jpeg?width=1200&height=800&fit=crop\", \"description\": \"Top Wall Street analysts changed their outlook on these top names. For a complete view of all analyst rating changes, including upgrades and downgrades, please see our analyst ratings page.\\n\\nGoldman Sachs analyst Toshiya Hari upgraded the rating for Teradyne, Inc. (NASDAQ:TER) from Neutral to Buy, while increasing the price target from $118 to $161. Teradyne shares closed higher at $131.91 on Friday. See how other analysts view this stock.\\nMorgan Stanley analyst Joseph Moore upgraded Micron Technology, Inc. (NASDAQ:MU) from Underweight to Equal-Weight and boosted the price target from $98 to $130. Micron shares slipped 2% ...Full story available on Benzinga.com\", \"keywords\": [\"News\", \"Upgrades\", \"Markets\", \"Analyst Ratings\", \"Trading Ideas\"]}, {\"id\": \"0JOjF-KwmwkRcW3aH-EBbakv89HHPLQ0HsjYkOmXioY\", \"publisher\": {\"name\": \"Benzinga\", \"homepage_url\": \"https://www.benzinga.com/\", \"logo_url\": \"https://s3.polygon.io/public/assets/news/logos/benzinga.svg\", \"favicon_url\": \"https://s3.polygon.io/public/assets/news/favicons/benzinga.ico\"}, \"title\": \"Expert Outlook: Teradyne Through The Eyes Of 9 Analysts\", \"author\": \"Benzinga Insights\", \"published_utc\": \"2024-05-20T18:00:13Z\", \"article_url\": \"https://www.benzinga.com/insights/analyst-ratings/24/05/38924190/expert-outlook-teradyne-through-the-eyes-of-9-analysts\", \"tickers\": [\"TER\"], \"amp_url\": \"https://www.benzinga.com/amp/content/38924190\", \"image_url\": \"https://cdn.benzinga.com/files/images/story/2023/analyst_ratings_image_0.png?width=1200&height=800&fit=crop\", \"description\": \"Teradyne (NASDAQ:TER) underwent analysis by 9 analysts in the last quarter, revealing a spectrum of viewpoints from bullish to bearish.\\nThe table below provides a concise overview of recent ratings by analysts, offering insights into the changing sentiments over the past 30 days and drawing comparisons with the preceding months for a holistic perspective.\\n\\n\\n\\n\\nBullish\\nSomewhat Bullish\\nIndifferent\\nSomewhat Bearish\\nBearish\\n\\n\\n\\n\\nTotal Ratings\\n1\\n3\\n5\\n0\\n0\\n\\n\\nLast 30D\\n1\\n0\\n0\\n0\\n0\\n\\n\\n1M Ago\\n0\\n2\\n2\\n0\\n0\\n\\n\\n2M Ago\\n0\\n1\\n1\\n0\\n0\\n\\n\\n3M Ago\\n0\\n0\\n2\\n0\\n0\\n\\n\\n\\nThe 12-month price targets assessed by analysts reveal further insights, featuring an average target of $122.11, a high estimate of $161.00, and a low estimate of $110.00. This current average reflects an increase of 9.03% from the previous average price target of $112.00. \\n\\nUnderstanding Analyst Ratings: A Comprehensive Breakdown\\nThe standing of Teradyne among financial experts is revealed through an in-depth exploration of recent analyst actions. The summary below outlines key analysts, their recent evaluations, and adjustments to ratings and price targets.\\n\\n\\n\\nAnalyst\\nAnalyst Firm\\nAction Taken\\nRating\\nCurrent Price Target\\nPrior Price Target\\n\\n\\n\\n\\nToshiya Hari\\nGoldman Sachs\\nRaises\\nBuy\\n$161.00\\n$118.00\\n\\n\\nToshiya Hari\\nGoldman Sachs\\nRaises\\nNeutral\\n$118.00\\n$107.00\\n\\n\\nMehdi Hosseini\\nSusquehanna\\nRaises\\nPositive\\n$130.00\\n$125.00\\n\\n\\nRichard Eastman\\nBaird\\nRaises\\nOutperform\\n$120.00\\n$110.00\\n\\n\\nC J Muse\\nCantor Fitzgerald\\nMaintains\\nNeutral\\n$110.00\\n-\\n\\n\\nMark Lipacis\\nEvercore ISI Group\\nAnnounces\\nOutperform\\n$130.00\\n-\\n\\n\\nSamik Chatterjee\\nJP Morgan\\nRaises\\nNeutral\\n$110.00\\n$100.00\\n\\n\\nC J Muse\\nCantor Fitzgerald\\nMaintains\\nNeutral\\n$110.00\\n-\\n\\n\\nC J Muse\\nCantor Fitzgerald\\nMaintains\\nNeutral\\n$110.00\\n-\\n\\n\\n\\nKey Insights:\\n\\nAction Taken: Analysts frequently update their recommendations based on evolving market conditions and company performance. Whether they 'Maintain', 'Raise' ...Full story available on Benzinga.com\", \"keywords\": [\"Analyst Ratings\"]}, {\"id\": \"JWF_h2UGg4wl0zPaQX-Q7Kn5q9Tuws1emm3QquhaOJo\", \"publisher\": {\"name\": \"Benzinga\", \"homepage_url\": \"https://www.benzinga.com/\", \"logo_url\": \"https://s3.polygon.io/public/assets/news/logos/benzinga.svg\", \"favicon_url\": \"https://s3.polygon.io/public/assets/news/favicons/benzinga.ico\"}, \"title\": \"NVIDIA To Rally Around 30%? Here Are 10 Top Analyst Forecasts For Monday\", \"author\": \"Avi Kapoor\", \"published_utc\": \"2024-05-20T12:29:50Z\", \"article_url\": \"https://www.benzinga.com/news/24/05/38917167/nvidia-to-rally-around-30-here-are-10-top-analyst-forecasts-for-monday\", \"tickers\": [\"INTU\", \"NVDA\", \"TTWO\", \"ULTA\", \"ADI\", \"EPR\", \"MU\", \"TER\", \"ANET\", \"LITE\"], \"amp_url\": \"https://www.benzinga.com/amp/content/38917167\", \"image_url\": \"https://cdn.benzinga.com/files/images/story/2024/05/20/nvidia-chart-shutter.jpeg?width=1200&height=800&fit=crop\", \"description\": \"Top Wall Street analysts changed their outlook on these top names. For a complete view of all analyst rating changes, including upgrades and downgrades, please see our analyst ratings page.\\n\\nBaird boosted the price target for NVIDIA Corporation (NASDAQ:NVDA) from $1,050 to $1,200. Baird analyst Tristan Gerra maintained an Outperform rating. NVIDIA shares fell 2% to close at $924.79 on Friday. See how other analysts view this stock.\\nPiper Sandler slashed the price target for Ulta Beauty, Inc. (NASDAQ:ULTA) from $595 to $505. Piper Sandler analyst Korinne Wolfmeyer maintained an Overweight rating. Ulta Beauty shares fell 0.4% to close at $399.56 on Friday. See how other analysts view this stock.\\nB of A Securities cut EPR Properties (NYSE:EPR) price target from $45 to $40. B of A Securities analyst Joshua Dennerlein downgraded the stock from Neutral to Underperform. ...Full story available on Benzinga.com\", \"keywords\": [\"News\", \"Price Target\", \"Markets\", \"Trading Ideas\"]}, {\"id\": \"uQI7eEVWriIuJJXDAHMtuj83yPXtjgMncBZmZ1uOXGw\", \"publisher\": {\"name\": \"Zacks Investment Research\", \"homepage_url\": \"https://www.zacks.com/\", \"logo_url\": \"https://s3.polygon.io/public/assets/news/logos/zacks.png\", \"favicon_url\": \"https://s3.polygon.io/public/assets/news/favicons/zacks.ico\"}, \"title\": \"What Makes Teradyne (TER) a Strong Momentum Stock: Buy Now?\", \"author\": \"Zacks Equity Research\", \"published_utc\": \"2024-05-17T16:00:10Z\", \"article_url\": \"https://www.zacks.com/stock/news/2275604/what-makes-teradyne-ter-a-strong-momentum-stock-buy-now\", \"tickers\": [\"TER\"], \"amp_url\": \"https://www.zacks.com/amp/stock/news/2275604/what-makes-teradyne-ter-a-strong-momentum-stock-buy-now\", \"image_url\": \"https://staticx-tuner.zacks.com/images/default_article_images/default30.jpg\", \"description\": \"Does Teradyne (TER) have what it takes to be a top stock pick for momentum investors? Let's find out.\"}, {\"id\": \"eMEM2pIsnm0HZyV9tqlQ8iPi2f8Czpkl6yBqtj4-aPk\", \"publisher\": {\"name\": \"Zacks Investment Research\", \"homepage_url\": \"https://www.zacks.com/\", \"logo_url\": \"https://s3.polygon.io/public/assets/news/logos/zacks.png\", \"favicon_url\": \"https://s3.polygon.io/public/assets/news/favicons/zacks.ico\"}, \"title\": \"Here's What Key Metrics Tell Us About Teradyne (TER) Q1 Earnings (Revised)\", \"author\": \"Zacks Equity Research\", \"published_utc\": \"2024-05-06T14:57:00Z\", \"article_url\": \"https://www.zacks.com/stock/news/2268853/heres-what-key-metrics-tell-us-about-teradyne-ter-q1-earnings-revised\", \"tickers\": [\"TER\"], \"amp_url\": \"https://www.zacks.com/amp/stock/news/2268853/heres-what-key-metrics-tell-us-about-teradyne-ter-q1-earnings-revised\", \"image_url\": \"https://staticx-tuner.zacks.com/images/default_article_images/default147.jpg\", \"description\": \"While the top- and bottom-line numbers for Teradyne (TER) give a sense of how the business performed in the quarter ended March 2024, it could be worth looking at how some of its key metrics compare to Wall Street estimates and year-ago values.\"}, {\"id\": \"p0aRN0OoTgmEXmAz7fEb6r0RyNsI-dIu1KeSBSNN5vs\", \"publisher\": {\"name\": \"Zacks Investment Research\", \"homepage_url\": \"https://www.zacks.com/\", \"logo_url\": \"https://s3.polygon.io/public/assets/news/logos/zacks.png\", \"favicon_url\": \"https://s3.polygon.io/public/assets/news/favicons/zacks.ico\"}, \"title\": \"Why Teradyne (TER) Might be Well Poised for a Surge\", \"author\": \"Zacks Equity Research\", \"published_utc\": \"2024-05-01T16:20:02Z\", \"article_url\": \"https://www.zacks.com/stock/news/2266285/why-teradyne-ter-might-be-well-poised-for-a-surge\", \"tickers\": [\"TER\"], \"amp_url\": \"https://www.zacks.com/amp/stock/news/2266285/why-teradyne-ter-might-be-well-poised-for-a-surge\", \"image_url\": \"https://staticx-tuner.zacks.com/images/default_article_images/default3.jpg\", \"description\": \"Teradyne (TER) shares have started gaining and might continue moving higher in the near term, as indicated by solid earnings estimate revisions.\"}, {\"id\": \"oMzYs0QbAsxhCPc_hr4zyWnCpAxEaBazbnK1P6z8HLM\", \"publisher\": {\"name\": \"Zacks Investment Research\", \"homepage_url\": \"https://www.zacks.com/\", \"logo_url\": \"https://s3.polygon.io/public/assets/news/logos/zacks.png\", \"favicon_url\": \"https://s3.polygon.io/public/assets/news/favicons/zacks.ico\"}, \"title\": \"Here's Why Teradyne (TER) is a Great Momentum Stock to Buy\", \"author\": \"Zacks Equity Research\", \"published_utc\": \"2024-05-01T16:00:04Z\", \"article_url\": \"https://www.zacks.com/stock/news/2266264/heres-why-teradyne-ter-is-a-great-momentum-stock-to-buy\", \"tickers\": [\"TER\"], \"amp_url\": \"https://www.zacks.com/amp/stock/news/2266264/heres-why-teradyne-ter-is-a-great-momentum-stock-to-buy\", \"image_url\": \"https://staticx-tuner.zacks.com/images/default_article_images/default28.jpg\", \"description\": \"Does Teradyne (TER) have what it takes to be a top stock pick for momentum investors? Let's find out.\"}]\u001b[0m\u001b[32;1m\u001b[1;3m\n",
      "{'tool_name': 'yf_get_ticker_history', 'parameters': {'ticker_symbol': 'TER', 'period': '1y'}}\n",
      "\u001b[0m\u001b[36;1m\u001b[1;3m                                 Open        High         Low       Close  \\\n",
      "Date                                                                        \n",
      "2023-06-05 00:00:00-04:00  102.412958  102.811260  100.341795  101.088608   \n",
      "2023-06-06 00:00:00-04:00   99.993301  102.721663   99.664701  102.632042   \n",
      "2023-06-07 00:00:00-04:00  103.687524  105.350433  102.741564  103.777145   \n",
      "2023-06-08 00:00:00-04:00  104.095782  104.523956  102.552366  104.225227   \n",
      "2023-06-09 00:00:00-04:00  105.469915  106.037493  104.265058  104.573738   \n",
      "...                               ...         ...         ...         ...   \n",
      "2024-05-29 00:00:00-04:00  142.429993  144.119995  141.720001  141.869995   \n",
      "2024-05-30 00:00:00-04:00  142.080002  142.660004  140.130005  141.270004   \n",
      "2024-05-31 00:00:00-04:00  141.330002  142.660004  135.960007  140.940002   \n",
      "2024-06-03 00:00:00-04:00  143.839996  145.639999  138.949997  141.020004   \n",
      "2024-06-04 00:00:00-04:00  140.350006  141.779999  138.570007  139.619995   \n",
      "\n",
      "                            Volume  Dividends  Stock Splits  \n",
      "Date                                                         \n",
      "2023-06-05 00:00:00-04:00  1084000        0.0           0.0  \n",
      "2023-06-06 00:00:00-04:00  1335000        0.0           0.0  \n",
      "2023-06-07 00:00:00-04:00  1566100        0.0           0.0  \n",
      "2023-06-08 00:00:00-04:00  1129700        0.0           0.0  \n",
      "2023-06-09 00:00:00-04:00  1599100        0.0           0.0  \n",
      "...                            ...        ...           ...  \n",
      "2024-05-29 00:00:00-04:00  2079800        0.0           0.0  \n",
      "2024-05-30 00:00:00-04:00  2274400        0.0           0.0  \n",
      "2024-05-31 00:00:00-04:00  3212800        0.0           0.0  \n",
      "2024-06-03 00:00:00-04:00  1730500        0.0           0.0  \n",
      "2024-06-04 00:00:00-04:00  2349400        0.0           0.0  \n",
      "\n",
      "[252 rows x 7 columns]\u001b[0m\u001b[32;1m\u001b[1;3mRelevant Documents: 0,1,2,3,5,6,12,13,14,15,16,17,18,19,20,21,22,23,24\n",
      "Cited Documents: 0,1,2,3,5,6,12,13,14,15,16,17,18,19,20,21,22,23,24\n",
      "Answer: ## Overall Situation\n",
      "The macroeconomic situation is showing signs of improvement, with global growth projected at 3.1% in 2024 and 3.2% in 2025. The US economy is also showing resilience, and consumer spending remains strong. \n",
      "\n",
      "The performance of the big indices has been mixed, with the Nasdaq and S&P 500 rising, while the Dow fell slightly. \n",
      "\n",
      "## Company Summary\n",
      "Teradyne, Inc. is a company that designs, develops, manufactures, and sells automated test systems and robotics products worldwide. It operates through four segments: Semiconductor Test, System Test, Robotics, and Wireless Test. \n",
      "\n",
      "## Fundamental Analysis\n",
      "Teradyne's latest quarterly report shows a net income of $64.197 million, with revenues of $599.819 million. The company's net income for the last fiscal year was $448.752 million, with revenues of $2.676 billion. \n",
      "\n",
      "## Technical Analysis\n",
      "Teradyne's stock price has been on an upward trend over the past year, with a 52-week high of $146.53. The stock is currently trading at around $140, with a market cap of $21.796 billion. \n",
      "\n",
      "## Sentiment Analysis\n",
      "The sentiment for Teradyne is generally positive, with several analysts upgrading their ratings and price targets. Goldman Sachs recently upgraded the stock from Neutral to Buy, while increasing the price target from $118 to $161. Susquehanna also raised its rating to Positive, with a price target of $130. \n",
      "\n",
      "## Investment and Trading Advice\n",
      "Based on the positive sentiment and strong financial performance, Teradyne appears to be a good buy. A reasonable profit-target could be set at $161, which is the highest price target given by analysts. A reasonable stop-loss could be set at $110, which is the lowest price target given by analysts. The position size will depend on the investor's risk tolerance and portfolio allocation. \n",
      "\n",
      "Grounded answer: ## Overall Situation\n",
      "The <co: 0,1,2>macroeconomic situation</co: 0,1,2> is showing <co: 0,1,2>signs of improvement</co: 0,1,2>, with <co: 2>global growth projected at 3.1% in 2024 and 3.2% in 2025</co: 2>. The <co: 0>US economy is also showing resilience</co: 0>, and <co: 0>consumer spending remains strong</co: 0>. \n",
      "\n",
      "The <co: 5,6>performance of the big indices</co: 5,6> has been <co: 6>mixed</co: 6>, with the <co: 5,6>Nasdaq and S&P 500 rising</co: 5,6>, while the <co: 6>Dow fell slightly</co: 6>. \n",
      "\n",
      "## Company Summary\n",
      "Teradyne, Inc. is a company that <co: 20,21>designs, develops, manufactures, and sells automated test systems and robotics products worldwide</co: 20,21>. It operates through <co: 20,21>four segments: Semiconductor Test, System Test, Robotics, and Wireless Test</co: 20,21>. \n",
      "\n",
      "## Fundamental Analysis\n",
      "Teradyne's <co: 22>latest quarterly report</co: 22> shows a <co: 22>net income of $64.197 million</co: 22>, with <co: 22>revenues of $599.819 million</co: 22>. The company's <co: 22>net income for the last fiscal year was $448.752 million</co: 22>, with <co: 22>revenues of $2.676 billion</co: 22>. \n",
      "\n",
      "## Technical Analysis\n",
      "Teradyne's <co: 24>stock price has been on an upward trend over the past year</co: 24>, with a <co: 21>52-week high of $146.53</co: 21>. The stock is <co: 24>currently trading at around $140</co: 24>, with a <co: 21>market cap of $21.796 billion</co: 21>. \n",
      "\n",
      "## Sentiment Analysis\n",
      "The sentiment for Teradyne is <co: 23>generally positive</co: 23>, with <co: 23>several analysts upgrading their ratings and price targets</co: 23>. <co: 23>Goldman Sachs recently upgraded the stock from Neutral to Buy</co: 23>, while <co: 23>increasing the price target from $118 to $161</co: 23>. <co: 23>Susquehanna also raised its rating to Positive</co: 23>, with a <co: 23>price target of $130</co: 23>. \n",
      "\n",
      "## Investment and Trading Advice\n",
      "Based on the positive sentiment and strong financial performance, Teradyne appears to be a good buy. A reasonable profit-target could be set at $161, which is the <co: 21>highest price target given by analysts</co: 21>. A reasonable stop-loss could be set at $110, which is the <co: 21>lowest price target given by analysts</co: 21>. The position size will depend on the investor's risk tolerance and portfolio allocation.\u001b[0m\n",
      "\n",
      "\u001b[1m> Finished chain.\u001b[0m\n"
     ]
    },
    {
     "data": {
      "text/html": [
       "<h2>Overall Situation</h2>\n",
       "<p>The macroeconomic situation is showing signs of improvement, with global growth projected at 3.1% in 2024 and 3.2% in 2025. The US economy is also showing resilience, and consumer spending remains strong. </p>\n",
       "<p>The performance of the big indices has been mixed, with the Nasdaq and S&amp;P 500 rising, while the Dow fell slightly. </p>\n",
       "<h2>Company Summary</h2>\n",
       "<p>Teradyne, Inc. is a company that designs, develops, manufactures, and sells automated test systems and robotics products worldwide. It operates through four segments: Semiconductor Test, System Test, Robotics, and Wireless Test. </p>\n",
       "<h2>Fundamental Analysis</h2>\n",
       "<p>Teradyne's latest quarterly report shows a net income of $64.197 million, with revenues of $599.819 million. The company's net income for the last fiscal year was $448.752 million, with revenues of $2.676 billion. </p>\n",
       "<h2>Technical Analysis</h2>\n",
       "<p>Teradyne's stock price has been on an upward trend over the past year, with a 52-week high of $146.53. The stock is currently trading at around $140, with a market cap of $21.796 billion. </p>\n",
       "<h2>Sentiment Analysis</h2>\n",
       "<p>The sentiment for Teradyne is generally positive, with several analysts upgrading their ratings and price targets. Goldman Sachs recently upgraded the stock from Neutral to Buy, while increasing the price target from $118 to $161. Susquehanna also raised its rating to Positive, with a price target of $130. </p>\n",
       "<h2>Investment and Trading Advice</h2>\n",
       "<p>Based on the positive sentiment and strong financial performance, Teradyne appears to be a good buy. A reasonable profit-target could be set at $161, which is the highest price target given by analysts. A reasonable stop-loss could be set at $110, which is the lowest price target given by analysts. The position size will depend on the investor's risk tolerance and portfolio allocation.</p>"
      ],
      "text/plain": [
       "<IPython.core.display.HTML object>"
      ]
     },
     "metadata": {},
     "output_type": "display_data"
    }
   ],
   "source": [
    "combined_tools = []\n",
    "filtered_polygon_tools = [tool for tool in polygon_tools if tool.name in (\"polygon_financials\", \"polygon_ticker_news\")]\n",
    "\n",
    "combined_tools = filtered_polygon_tools\n",
    "\n",
    "for tool in yfinance_tools:\n",
    "    combined_tools.append(tool)\n",
    "    \n",
    "combined_tools.append(get_internet_search_tool())    \n",
    "    \n",
    "prompt_start = \"\"\"0. I want you to act as an investment advisor.\n",
    "                     Your advise is always reflected and based on sience and proven economic and investment theories.\n",
    "                     Think step-by-step and use the right tools and check your results against this instruction.\n",
    "                     Before analyzing make yourself a picture of 1. the current macroeconomic situation,\n",
    "                     2. the actual performance of the big indices, 3. the performance of the different sectors, 4. the actual value of the fear and greed index and 5. the sentiment\n",
    "                     at the stock market exchanges by doing a profound internet research.\n",
    "                     Use therefore the tools of your choice.\n",
    "                     Use always the right tools to answer each question.\n",
    "                     After answering each question, make a final analysis as described in step 7.\n",
    "                     Display the final analysis first and the detailed analysis from the steps 0 to 6 \n",
    "                     before after the final analysis with the following headers \n",
    "                     overall situation,\n",
    "                     company summary,\n",
    "                     fundamental analysis,\n",
    "                     technical analysis \n",
    "                     and sentiment analysis.                                         \n",
    "               \"\"\"    \n",
    "\n",
    "prompt_template_summary = \" 1. Get a summary for {ticker}. \" \n",
    "\n",
    "prompt_template_ticker_info = \"\"\" 2. I need detailed information about {ticker}. Produce a key value list for the 25 for your analysis most important {topics} using CRLF before each point.\n",
    "                                 After that analyze the fundamental and technical data and rate the company. Is it a good buy? Is it oversold or overbought? Is it a stable investment\n",
    "                                 with a good sharpe ratio? Is it risky or safe to hold stocks of {ticker}?\"\"\"\n",
    "\n",
    "\n",
    "prompt_template_av_financials = \"\"\" 3. How are the financials for {ticker}? What is its market value?\n",
    "                                    Produce an overview in form of a bullet point list and use CRLF for new lines\n",
    "                                    and rate the financial situation of the company. \"\"\"\n",
    "\n",
    "\n",
    "prompt_template_av_sentiment = \" 4. What is the news sentiment for {ticker}? Rate the sentiment based on the news and explain your rating. \"\n",
    "\n",
    "\n",
    "\n",
    "prompt_template_history = \" 5. How did {ticker} perform the last {period}? Get the timeseries in a dataframe and calculate and rate the performance. \"\n",
    "\n",
    "\n",
    "\n",
    "prompt_template_search = \"\"\" 6. Search news and articles in the internet what you find about {ticker} and judge the sentiment. \"\"\"\n",
    "\n",
    "prompt_template_rating = \"\"\" 7. Based on all relevant information about fundamental, technical and stentiment data \n",
    "                            determined in the steps before for {ticker}\n",
    "                            and the overall macroeconomic situation and sentiment at the stock market exchange\n",
    "                            produce now a profound and detailed investment and trading advice based on a factor analysis and your own ratings in your report.\n",
    "                            The rating should have an explicit header and explain why the stock is a buy or not.\n",
    "                            Make an educated advise for a trader about a reasonable profit-target above the stock price, a reasonable stop-loss under the stock price\n",
    "                            and a reasonable position size all in currency USD if the stock is a buy.                            \n",
    "                         \"\"\"\n",
    "\n",
    "prompt_template_combined = prompt_start + prompt_template_summary +  prompt_template_ticker_info + prompt_template_av_financials + \\\n",
    "                           prompt_template_search +  prompt_template_av_sentiment +  prompt_template_history + \\\n",
    "                           prompt_template_rating\n",
    "\n",
    "ticker = \"TER\"\n",
    "period = \"1y\"\n",
    "topics = \"key figures, fundamental indicators, technical indicators and analyst recommendations\"\n",
    "input = {\"ticker\": ticker, \"topics\": topics, \"period\": period}\n",
    "response = invoke_cohere_with_tools(input=input,tools=combined_tools,prompt_template=prompt_template_combined,verbose=False)"
   ]
  },
  {
   "cell_type": "code",
   "execution_count": 5,
   "metadata": {},
   "outputs": [
    {
     "name": "stdout",
     "output_type": "stream",
     "text": [
      "\n",
      "\n",
      "\u001b[1m> Entering new AgentExecutor chain...\u001b[0m\n",
      "\u001b[32;1m\u001b[1;3m\n",
      "I will answer the user's request in the order it was asked. First, I will provide a business summary for MSFT. Then, I will give an overview of MSFT's financials and rate its financial situation. Next, I will provide the news sentiment for MSFT and rate it. After that, I will show MSFT's performance over the last year and rate it. Finally, I will provide detailed information about MSFT and produce an investment rating based on the retrieved information.\n",
      "{'tool_name': 'yf_get_business_summary', 'parameters': {'ticker_symbol': 'MSFT'}}\n",
      "\u001b[0m\u001b[38;5;200m\u001b[1;3mMicrosoft Corporation develops and supports software, services, devices and solutions worldwide. The Productivity and Business Processes segment offers office, exchange, SharePoint, Microsoft Teams, office 365 Security and Compliance, Microsoft viva, and Microsoft 365 copilot; and office consumer services, such as Microsoft 365 consumer subscriptions, Office licensed on-premises, and other office services. This segment also provides LinkedIn; and dynamics business solutions, including Dynamics 365, a set of intelligent, cloud-based applications across ERP, CRM, power apps, and power automate; and on-premises ERP and CRM applications. The Intelligent Cloud segment offers server products and cloud services, such as azure and other cloud services; SQL and windows server, visual studio, system center, and related client access licenses, as well as nuance and GitHub; and enterprise services including enterprise support services, industry solutions, and nuance professional services. The More Personal Computing segment offers Windows, including windows OEM licensing and other non-volume licensing of the Windows operating system; Windows commercial comprising volume licensing of the Windows operating system, windows cloud services, and other Windows commercial offerings; patent licensing; and windows Internet of Things; and devices, such as surface, HoloLens, and PC accessories. Additionally, this segment provides gaming, which includes Xbox hardware and content, and first- and third-party content; Xbox game pass and other subscriptions, cloud gaming, advertising, third-party disc royalties, and other cloud services; and search and news advertising, which includes Bing, Microsoft News and Edge, and third-party affiliates. The company sells its products through OEMs, distributors, and resellers; and directly through digital marketplaces, online, and retail stores. The company was founded in 1975 and is headquartered in Redmond, Washington.\u001b[0m\u001b[32;1m\u001b[1;3m\n",
      "{'tool_name': 'polygon_financials', 'parameters': {'query': 'MSFT'}}\n",
      "\u001b[0m\u001b[33;1m\u001b[1;3m[{\"start_date\": \"2023-04-01\", \"end_date\": \"2024-03-31\", \"timeframe\": \"ttm\", \"fiscal_period\": \"TTM\", \"fiscal_year\": \"\", \"cik\": \"0000789019\", \"sic\": \"7372\", \"tickers\": [\"MSFT\"], \"company_name\": \"MICROSOFT CORP\", \"financials\": {\"balance_sheet\": {\"cash\": {\"value\": 80021000000.0, \"unit\": \"USD\", \"label\": \"Cash\", \"order\": 210}, \"equity_attributable_to_noncontrolling_interest\": {\"value\": 0, \"unit\": \"USD\", \"label\": \"Equity Attributable To Noncontrolling Interest\", \"order\": 1500}, \"other_current_liabilities\": {\"value\": 90006000000.0, \"unit\": \"USD\", \"label\": \"Other Current Liabilities\", \"order\": 740}, \"other_noncurrent_assets\": {\"value\": 215720000000.0, \"unit\": \"USD\", \"label\": \"Other Non-current Assets\", \"order\": 350}, \"inventory\": {\"value\": 1304000000.0, \"unit\": \"USD\", \"label\": \"Inventory\", \"order\": 230}, \"other_current_assets\": {\"value\": 65855000000.0, \"unit\": \"USD\", \"label\": \"Other Current Assets\", \"order\": 250}, \"equity_attributable_to_parent\": {\"value\": 253152000000.0, \"unit\": \"USD\", \"label\": \"Equity Attributable To Parent\", \"order\": 1600}, \"liabilities_and_equity\": {\"value\": 484275000000.0, \"unit\": \"USD\", \"label\": \"Liabilities And Equity\", \"order\": 1900}, \"liabilities\": {\"value\": 231123000000.0, \"unit\": \"USD\", \"label\": \"Liabilities\", \"order\": 600}, \"noncurrent_liabilities\": {\"value\": 112598000000.0, \"unit\": \"USD\", \"label\": \"Noncurrent Liabilities\", \"order\": 800}, \"noncurrent_assets\": {\"value\": 337095000000.0, \"unit\": \"USD\", \"label\": \"Noncurrent Assets\", \"order\": 300}, \"equity\": {\"value\": 253152000000.0, \"unit\": \"USD\", \"label\": \"Equity\", \"order\": 1400}, \"current_liabilities\": {\"value\": 118525000000.0, \"unit\": \"USD\", \"label\": \"Current Liabilities\", \"order\": 700}, \"wages\": {\"value\": 10432000000.0, \"unit\": \"USD\", \"label\": \"Wages\", \"order\": 730}, \"assets\": {\"value\": 484275000000.0, \"unit\": \"USD\", \"label\": \"Assets\", \"order\": 100}, \"long_term_debt\": {\"value\": 44907000000.0, \"unit\": \"USD\", \"label\": \"Long-term Debt\", \"order\": 810}, \"fixed_assets\": {\"value\": 121375000000.0, \"unit\": \"USD\", \"label\": \"Fixed Assets\", \"order\": 320}, \"accounts_payable\": {\"value\": 18087000000.0, \"unit\": \"USD\", \"label\": \"Accounts Payable\", \"order\": 710}, \"other_noncurrent_liabilities\": {\"value\": 67691000000.0, \"unit\": \"USD\", \"label\": \"Other Non-current Liabilities\", \"order\": 820}, \"current_assets\": {\"value\": 147180000000.0, \"unit\": \"USD\", \"label\": \"Current Assets\", \"order\": 200}}, \"income_statement\": {\"preferred_stock_dividends_and_other_adjustments\": {\"value\": 0, \"unit\": \"USD\", \"label\": \"Preferred Stock Dividends And Other Adjustments\", \"order\": 3900}, \"income_loss_from_continuing_operations_after_tax\": {\"value\": 86181000000.0, \"unit\": \"USD\", \"label\": \"Income/Loss From Continuing Operations After Tax\", \"order\": 1400}, \"diluted_average_shares\": {\"value\": 14935000000.0, \"unit\": \"shares\", \"label\": \"Diluted Average Shares\", \"order\": 4500}, \"basic_average_shares\": {\"value\": 22288000000.0, \"unit\": \"shares\", \"label\": \"Basic Average Shares\", \"order\": 4400}, \"participating_securities_distributed_and_undistributed_earnings_loss_basic\": {\"value\": 0, \"unit\": \"USD\", \"label\": \"Participating Securities, Distributed And Undistributed Earnings/Loss, Basic\", \"order\": 3800}, \"net_income_loss\": {\"value\": 86181000000.0, \"unit\": \"USD\", \"label\": \"Net Income/Loss\", \"order\": 3200}, \"operating_expenses\": {\"value\": 59597000000.0, \"unit\": \"USD\", \"label\": \"Operating Expenses\", \"order\": 1000}, \"income_tax_expense_benefit_deferred\": {\"value\": -5481000000.0, \"unit\": \"USD\", \"label\": \"Income Tax Expense/Benefit, Deferred\", \"order\": 2400}, \"interest_expense_operating\": {\"value\": 2716000000.0, \"unit\": \"USD\", \"label\": \"Interest Expense, Operating\", \"order\": 2700}, \"net_income_loss_available_to_common_stockholders_basic\": {\"value\": 86181000000.0, \"unit\": \"USD\", \"label\": \"Net Income/Loss Available To Common Stockholders, Basic\", \"order\": 3700}, \"income_loss_from_continuing_operations_before_tax\": {\"value\": 105264000000.0, \"unit\": \"USD\", \"label\": \"Income/Loss From Continuing Operations Before Tax\", \"order\": 1500}, \"benefits_costs_expenses\": {\"value\": 131320000000.0, \"unit\": \"USD\", \"label\": \"Benefits Costs and Expenses\", \"order\": 200}, \"cost_of_revenue\": {\"value\": 71225000000.0, \"unit\": \"USD\", \"label\": \"Cost Of Revenue\", \"order\": 300}, \"research_and_development\": {\"value\": 28193000000.0, \"unit\": \"USD\", \"label\": \"Research and Development\", \"order\": 1030}, \"other_operating_expenses\": {\"value\": 31404000000.0, \"unit\": \"USD\", \"label\": \"Other Operating Expenses\", \"order\": 1040}, \"costs_and_expenses\": {\"value\": 131320000000.0, \"unit\": \"USD\", \"label\": \"Costs And Expenses\", \"order\": 600}, \"basic_earnings_per_share\": {\"value\": 11.600000000000001, \"unit\": \"USD / shares\", \"label\": \"Basic Earnings Per Share\", \"order\": 4200}, \"net_income_loss_attributable_to_parent\": {\"value\": 86181000000.0, \"unit\": \"USD\", \"label\": \"Net Income/Loss Attributable To Parent\", \"order\": 3500}, \"income_tax_expense_benefit\": {\"value\": 19083000000.0, \"unit\": \"USD\", \"label\": \"Income Tax Expense/Benefit\", \"order\": 2200}, \"revenues\": {\"value\": 236584000000.0, \"unit\": \"USD\", \"label\": \"Revenues\", \"order\": 100}, \"operating_income_loss\": {\"value\": 105762000000.0, \"unit\": \"USD\", \"label\": \"Operating Income/Loss\", \"order\": 1100}, \"diluted_earnings_per_share\": {\"value\": 11.54, \"unit\": \"USD / shares\", \"label\": \"Diluted Earnings Per Share\", \"order\": 4300}, \"nonoperating_income_loss\": {\"value\": -498000000.0, \"unit\": \"USD\", \"label\": \"Nonoperating Income/Loss\", \"order\": 900}, \"gross_profit\": {\"value\": 165359000000.0, \"unit\": \"USD\", \"label\": \"Gross Profit\", \"order\": 800}, \"net_income_loss_attributable_to_noncontrolling_interest\": {\"value\": 0, \"unit\": \"USD\", \"label\": \"Net Income/Loss Attributable To Noncontrolling Interest\", \"order\": 3300}}, \"comprehensive_income\": {\"other_comprehensive_income_loss\": {\"value\": 86390000000.0, \"unit\": \"USD\", \"label\": \"Other Comprehensive Income/Loss\", \"order\": 400}, \"comprehensive_income_loss\": {\"value\": 86390000000.0, \"unit\": \"USD\", \"label\": \"Comprehensive Income/Loss\", \"order\": 100}, \"comprehensive_income_loss_attributable_to_parent\": {\"value\": 86390000000.0, \"unit\": \"USD\", \"label\": \"Comprehensive Income/Loss Attributable To Parent\", \"order\": 300}, \"comprehensive_income_loss_attributable_to_noncontrolling_interest\": {\"value\": 0, \"unit\": \"USD\", \"label\": \"Comprehensive Income/Loss Attributable To Noncontrolling Interest\", \"order\": 200}, \"other_comprehensive_income_loss_attributable_to_parent\": {\"value\": 209000000.0, \"unit\": \"USD\", \"label\": \"Other Comprehensive Income/Loss Attributable To Parent\", \"order\": 600}}, \"cash_flow_statement\": {\"net_cash_flow\": {\"value\": -6740000000.0, \"unit\": \"USD\", \"label\": \"Net Cash Flow\", \"order\": 1100}, \"net_cash_flow_from_operating_activities\": {\"value\": 110123000000.0, \"unit\": \"USD\", \"label\": \"Net Cash Flow From Operating Activities\", \"order\": 100}, \"net_cash_flow_from_financing_activities\": {\"value\": -25607000000.0, \"unit\": \"USD\", \"label\": \"Net Cash Flow From Financing Activities\", \"order\": 700}, \"net_cash_flow_continuing\": {\"value\": -6740000000.0, \"unit\": \"USD\", \"label\": \"Net Cash Flow, Continuing\", \"order\": 1200}, \"net_cash_flow_from_operating_activities_continuing\": {\"value\": 110123000000.0, \"unit\": \"USD\", \"label\": \"Net Cash Flow From Operating Activities, Continuing\", \"order\": 200}, \"net_cash_flow_from_financing_activities_continuing\": {\"value\": -25607000000.0, \"unit\": \"USD\", \"label\": \"Net Cash Flow From Financing Activities, Continuing\", \"order\": 800}, \"net_cash_flow_from_investing_activities\": {\"value\": -91256000000.0, \"unit\": \"USD\", \"label\": \"Net Cash Flow From Investing Activities\", \"order\": 400}, \"net_cash_flow_from_investing_activities_continuing\": {\"value\": -91256000000.0, \"unit\": \"USD\", \"label\": \"Net Cash Flow From Investing Activities, Continuing\", \"order\": 500}}}}, {\"start_date\": \"2024-01-01\", \"end_date\": \"2024-03-31\", \"filing_date\": \"2024-04-25\", \"acceptance_datetime\": \"2024-04-25T20:06:24Z\", \"timeframe\": \"quarterly\", \"fiscal_period\": \"Q3\", \"fiscal_year\": \"2024\", \"cik\": \"0000789019\", \"sic\": \"7372\", \"tickers\": [\"MSFT\"], \"company_name\": \"MICROSOFT CORP\", \"source_filing_url\": \"https://api.polygon.io/v1/reference/sec/filings/0000950170-24-048288\", \"source_filing_file_url\": \"http://api.polygon.io/v1/reference/sec/filings/0000950170-24-048288/files/msft-20240331_htm.xml\", \"financials\": {\"income_statement\": {\"net_income_loss_attributable_to_parent\": {\"value\": 21939000000.0, \"unit\": \"USD\", \"label\": \"Net Income/Loss Attributable To Parent\", \"order\": 3500}, \"operating_expenses\": {\"value\": 15772000000.0, \"unit\": \"USD\", \"label\": \"Operating Expenses\", \"order\": 1000}, \"income_tax_expense_benefit\": {\"value\": 4788000000.0, \"unit\": \"USD\", \"label\": \"Income Tax Expense/Benefit\", \"order\": 2200}, \"income_loss_from_continuing_operations_after_tax\": {\"value\": 21939000000.0, \"unit\": \"USD\", \"label\": \"Income/Loss From Continuing Operations After Tax\", \"order\": 1400}, \"nonoperating_income_loss\": {\"value\": -854000000.0, \"unit\": \"USD\", \"label\": \"Nonoperating Income/Loss\", \"order\": 900}, \"diluted_average_shares\": {\"value\": 7472000000.0, \"unit\": \"shares\", \"label\": \"Diluted Average Shares\", \"order\": 4500}, \"operating_income_loss\": {\"value\": 27581000000.0, \"unit\": \"USD\", \"label\": \"Operating Income/Loss\", \"order\": 1100}, \"net_income_loss\": {\"value\": 21939000000.0, \"unit\": \"USD\", \"label\": \"Net Income/Loss\", \"order\": 3200}, \"basic_earnings_per_share\": {\"value\": 2.95, \"unit\": \"USD / shares\", \"label\": \"Basic Earnings Per Share\", \"order\": 4200}, \"income_tax_expense_benefit_deferred\": {\"value\": -1323000000.0, \"unit\": \"USD\", \"label\": \"Income Tax Expense/Benefit, Deferred\", \"order\": 2400}, \"preferred_stock_dividends_and_other_adjustments\": {\"value\": 0, \"unit\": \"USD\", \"label\": \"Preferred Stock Dividends And Other Adjustments\", \"order\": 3900}, \"basic_average_shares\": {\"value\": 7431000000.0, \"unit\": \"shares\", \"label\": \"Basic Average Shares\", \"order\": 4400}, \"benefits_costs_expenses\": {\"value\": 35131000000.0, \"unit\": \"USD\", \"label\": \"Benefits Costs and Expenses\", \"order\": 200}, \"costs_and_expenses\": {\"value\": 35131000000.0, \"unit\": \"USD\", \"label\": \"Costs And Expenses\", \"order\": 600}, \"revenues\": {\"value\": 61858000000.0, \"unit\": \"USD\", \"label\": \"Revenues\", \"order\": 100}, \"net_income_loss_attributable_to_noncontrolling_interest\": {\"value\": 0, \"unit\": \"USD\", \"label\": \"Net Income/Loss Attributable To Noncontrolling Interest\", \"order\": 3300}, \"research_and_development\": {\"value\": 7653000000.0, \"unit\": \"USD\", \"label\": \"Research and Development\", \"order\": 1030}, \"participating_securities_distributed_and_undistributed_earnings_loss_basic\": {\"value\": 0, \"unit\": \"USD\", \"label\": \"Participating Securities, Distributed And Undistributed Earnings/Loss, Basic\", \"order\": 3800}, \"diluted_earnings_per_share\": {\"value\": 2.94, \"unit\": \"USD / shares\", \"label\": \"Diluted Earnings Per Share\", \"order\": 4300}, \"other_operating_expenses\": {\"value\": 8119000000.0, \"unit\": \"USD\", \"label\": \"Other Operating Expenses\", \"order\": 1040}, \"interest_expense_operating\": {\"value\": 800000000.0, \"unit\": \"USD\", \"label\": \"Interest Expense, Operating\", \"order\": 2700}, \"net_income_loss_available_to_common_stockholders_basic\": {\"value\": 21939000000.0, \"unit\": \"USD\", \"label\": \"Net Income/Loss Available To Common Stockholders, Basic\", \"order\": 3700}, \"income_loss_from_continuing_operations_before_tax\": {\"value\": 26727000000.0, \"unit\": \"USD\", \"label\": \"Income/Loss From Continuing Operations Before Tax\", \"order\": 1500}, \"cost_of_revenue\": {\"value\": 18505000000.0, \"unit\": \"USD\", \"label\": \"Cost Of Revenue\", \"order\": 300}, \"gross_profit\": {\"value\": 43353000000.0, \"unit\": \"USD\", \"label\": \"Gross Profit\", \"order\": 800}}, \"comprehensive_income\": {\"comprehensive_income_loss\": {\"value\": 21453000000.0, \"unit\": \"USD\", \"label\": \"Comprehensive Income/Loss\", \"order\": 100}, \"comprehensive_income_loss_attributable_to_parent\": {\"value\": 21453000000.0, \"unit\": \"USD\", \"label\": \"Comprehensive Income/Loss Attributable To Parent\", \"order\": 300}, \"other_comprehensive_income_loss\": {\"value\": 21453000000.0, \"unit\": \"USD\", \"label\": \"Other Comprehensive Income/Loss\", \"order\": 400}, \"other_comprehensive_income_loss_attributable_to_parent\": {\"value\": -486000000.0, \"unit\": \"USD\", \"label\": \"Other Comprehensive Income/Loss Attributable To Parent\", \"order\": 600}, \"comprehensive_income_loss_attributable_to_noncontrolling_interest\": {\"value\": 0, \"unit\": \"USD\", \"label\": \"Comprehensive Income/Loss Attributable To Noncontrolling Interest\", \"order\": 200}}, \"cash_flow_statement\": {\"net_cash_flow_continuing\": {\"value\": 2409000000.0, \"unit\": \"USD\", \"label\": \"Net Cash Flow, Continuing\", \"order\": 1200}, \"net_cash_flow_from_operating_activities\": {\"value\": 31917000000.0, \"unit\": \"USD\", \"label\": \"Net Cash Flow From Operating Activities\", \"order\": 100}, \"net_cash_flow_from_operating_activities_continuing\": {\"value\": 31917000000.0, \"unit\": \"USD\", \"label\": \"Net Cash Flow From Operating Activities, Continuing\", \"order\": 200}, \"net_cash_flow_from_investing_activities_continuing\": {\"value\": -10700000000.0, \"unit\": \"USD\", \"label\": \"Net Cash Flow From Investing Activities, Continuing\", \"order\": 500}, \"net_cash_flow\": {\"value\": 2409000000.0, \"unit\": \"USD\", \"label\": \"Net Cash Flow\", \"order\": 1100}, \"net_cash_flow_from_investing_activities\": {\"value\": -10700000000.0, \"unit\": \"USD\", \"label\": \"Net Cash Flow From Investing Activities\", \"order\": 400}, \"net_cash_flow_from_financing_activities\": {\"value\": -18808000000.0, \"unit\": \"USD\", \"label\": \"Net Cash Flow From Financing Activities\", \"order\": 700}, \"net_cash_flow_from_financing_activities_continuing\": {\"value\": -18808000000.0, \"unit\": \"USD\", \"label\": \"Net Cash Flow From Financing Activities, Continuing\", \"order\": 800}}, \"balance_sheet\": {\"wages\": {\"value\": 10432000000.0, \"unit\": \"USD\", \"label\": \"Wages\", \"order\": 730}, \"other_noncurrent_assets\": {\"value\": 215720000000.0, \"unit\": \"USD\", \"label\": \"Other Non-current Assets\", \"order\": 350}, \"equity\": {\"value\": 253152000000.0, \"unit\": \"USD\", \"label\": \"Equity\", \"order\": 1400}, \"equity_attributable_to_noncontrolling_interest\": {\"value\": 0, \"unit\": \"USD\", \"label\": \"Equity Attributable To Noncontrolling Interest\", \"order\": 1500}, \"liabilities_and_equity\": {\"value\": 484275000000.0, \"unit\": \"USD\", \"label\": \"Liabilities And Equity\", \"order\": 1900}, \"liabilities\": {\"value\": 231123000000.0, \"unit\": \"USD\", \"label\": \"Liabilities\", \"order\": 600}, \"current_liabilities\": {\"value\": 118525000000.0, \"unit\": \"USD\", \"label\": \"Current Liabilities\", \"order\": 700}, \"equity_attributable_to_parent\": {\"value\": 253152000000.0, \"unit\": \"USD\", \"label\": \"Equity Attributable To Parent\", \"order\": 1600}, \"noncurrent_liabilities\": {\"value\": 112598000000.0, \"unit\": \"USD\", \"label\": \"Noncurrent Liabilities\", \"order\": 800}, \"other_noncurrent_liabilities\": {\"value\": 67691000000.0, \"unit\": \"USD\", \"label\": \"Other Non-current Liabilities\", \"order\": 820}, \"other_current_liabilities\": {\"value\": 90006000000.0, \"unit\": \"USD\", \"label\": \"Other Current Liabilities\", \"order\": 740}, \"assets\": {\"value\": 484275000000.0, \"unit\": \"USD\", \"label\": \"Assets\", \"order\": 100}, \"current_assets\": {\"value\": 147180000000.0, \"unit\": \"USD\", \"label\": \"Current Assets\", \"order\": 200}, \"other_current_assets\": {\"value\": 65855000000.0, \"unit\": \"USD\", \"label\": \"Other Current Assets\", \"order\": 250}, \"accounts_payable\": {\"value\": 18087000000.0, \"unit\": \"USD\", \"label\": \"Accounts Payable\", \"order\": 710}, \"cash\": {\"value\": 80021000000.0, \"unit\": \"USD\", \"label\": \"Cash\", \"order\": 210}, \"long_term_debt\": {\"value\": 44907000000.0, \"unit\": \"USD\", \"label\": \"Long-term Debt\", \"order\": 810}, \"fixed_assets\": {\"value\": 121375000000.0, \"unit\": \"USD\", \"label\": \"Fixed Assets\", \"order\": 320}, \"noncurrent_assets\": {\"value\": 337095000000.0, \"unit\": \"USD\", \"label\": \"Noncurrent Assets\", \"order\": 300}, \"inventory\": {\"value\": 1304000000.0, \"unit\": \"USD\", \"label\": \"Inventory\", \"order\": 230}}}}, {\"start_date\": \"2023-10-01\", \"end_date\": \"2023-12-31\", \"filing_date\": \"2024-01-30\", \"acceptance_datetime\": \"2024-01-30T21:05:46Z\", \"timeframe\": \"quarterly\", \"fiscal_period\": \"Q2\", \"fiscal_year\": \"2024\", \"cik\": \"0000789019\", \"sic\": \"7372\", \"tickers\": [\"MSFT\"], \"company_name\": \"MICROSOFT CORP\", \"source_filing_url\": \"https://api.polygon.io/v1/reference/sec/filings/0000950170-24-008814\", \"source_filing_file_url\": \"http://api.polygon.io/v1/reference/sec/filings/0000950170-24-008814/files/msft-20231231_htm.xml\", \"financials\": {\"balance_sheet\": {\"cash\": {\"value\": 81017000000.0, \"unit\": \"USD\", \"label\": \"Cash\", \"order\": 210}, \"liabilities\": {\"value\": 232290000000.0, \"unit\": \"USD\", \"label\": \"Liabilities\", \"order\": 600}, \"long_term_debt\": {\"value\": 47178000000.0, \"unit\": \"USD\", \"label\": \"Long-term Debt\", \"order\": 810}, \"other_current_assets\": {\"value\": 64761000000.0, \"unit\": \"USD\", \"label\": \"Other Current Assets\", \"order\": 250}, \"other_current_liabilities\": {\"value\": 94508000000.0, \"unit\": \"USD\", \"label\": \"Other Current Liabilities\", \"order\": 740}, \"liabilities_and_equity\": {\"value\": 470558000000.0, \"unit\": \"USD\", \"label\": \"Liabilities And Equity\", \"order\": 1900}, \"current_liabilities\": {\"value\": 121016000000.0, \"unit\": \"USD\", \"label\": \"Current Liabilities\", \"order\": 700}, \"wages\": {\"value\": 8813000000.0, \"unit\": \"USD\", \"label\": \"Wages\", \"order\": 730}, \"current_assets\": {\"value\": 147393000000.0, \"unit\": \"USD\", \"label\": \"Current Assets\", \"order\": 200}, \"other_noncurrent_assets\": {\"value\": 210857000000.0, \"unit\": \"USD\", \"label\": \"Other Non-current Assets\", \"order\": 350}, \"assets\": {\"value\": 470558000000.0, \"unit\": \"USD\", \"label\": \"Assets\", \"order\": 100}, \"equity\": {\"value\": 238268000000.0, \"unit\": \"USD\", \"label\": \"Equity\", \"order\": 1400}, \"equity_attributable_to_noncontrolling_interest\": {\"value\": 0, \"unit\": \"USD\", \"label\": \"Equity Attributable To Noncontrolling Interest\", \"order\": 1500}, \"other_noncurrent_liabilities\": {\"value\": 64096000000.0, \"unit\": \"USD\", \"label\": \"Other Non-current Liabilities\", \"order\": 820}, \"noncurrent_assets\": {\"value\": 323165000000.0, \"unit\": \"USD\", \"label\": \"Noncurrent Assets\", \"order\": 300}, \"fixed_assets\": {\"value\": 112308000000.0, \"unit\": \"USD\", \"label\": \"Fixed Assets\", \"order\": 320}, \"noncurrent_liabilities\": {\"value\": 111274000000.0, \"unit\": \"USD\", \"label\": \"Noncurrent Liabilities\", \"order\": 800}, \"inventory\": {\"value\": 1615000000.0, \"unit\": \"USD\", \"label\": \"Inventory\", \"order\": 230}, \"accounts_payable\": {\"value\": 17695000000.0, \"unit\": \"USD\", \"label\": \"Accounts Payable\", \"order\": 710}, \"equity_attributable_to_parent\": {\"value\": 238268000000.0, \"unit\": \"USD\", \"label\": \"Equity Attributable To Parent\", \"order\": 1600}}, \"comprehensive_income\": {\"comprehensive_income_loss_attributable_to_parent\": {\"value\": 23858000000.0, \"unit\": \"USD\", \"label\": \"Comprehensive Income/Loss Attributable To Parent\", \"order\": 300}, \"comprehensive_income_loss_attributable_to_noncontrolling_interest\": {\"value\": 0, \"unit\": \"USD\", \"label\": \"Comprehensive Income/Loss Attributable To Noncontrolling Interest\", \"order\": 200}, \"comprehensive_income_loss\": {\"value\": 23858000000.0, \"unit\": \"USD\", \"label\": \"Comprehensive Income/Loss\", \"order\": 100}, \"other_comprehensive_income_loss_attributable_to_parent\": {\"value\": 1988000000.0, \"unit\": \"USD\", \"label\": \"Other Comprehensive Income/Loss Attributable To Parent\", \"order\": 600}, \"other_comprehensive_income_loss\": {\"value\": 23858000000.0, \"unit\": \"USD\", \"label\": \"Other Comprehensive Income/Loss\", \"order\": 400}}, \"cash_flow_statement\": {\"net_cash_flow\": {\"value\": -63219000000.0, \"unit\": \"USD\", \"label\": \"Net Cash Flow\", \"order\": 1100}, \"net_cash_flow_from_operating_activities\": {\"value\": 18853000000.0, \"unit\": \"USD\", \"label\": \"Net Cash Flow From Operating Activities\", \"order\": 100}, \"net_cash_flow_from_investing_activities_continuing\": {\"value\": -71925000000.0, \"unit\": \"USD\", \"label\": \"Net Cash Flow From Investing Activities, Continuing\", \"order\": 500}, \"net_cash_flow_continuing\": {\"value\": -63219000000.0, \"unit\": \"USD\", \"label\": \"Net Cash Flow, Continuing\", \"order\": 1200}, \"net_cash_flow_from_financing_activities\": {\"value\": -10147000000.0, \"unit\": \"USD\", \"label\": \"Net Cash Flow From Financing Activities\", \"order\": 700}, \"net_cash_flow_from_operating_activities_continuing\": {\"value\": 18853000000.0, \"unit\": \"USD\", \"label\": \"Net Cash Flow From Operating Activities, Continuing\", \"order\": 200}, \"net_cash_flow_from_investing_activities\": {\"value\": -71925000000.0, \"unit\": \"USD\", \"label\": \"Net Cash Flow From Investing Activities\", \"order\": 400}, \"net_cash_flow_from_financing_activities_continuing\": {\"value\": -10147000000.0, \"unit\": \"USD\", \"label\": \"Net Cash Flow From Financing Activities, Continuing\", \"order\": 800}}, \"income_statement\": {\"diluted_average_shares\": {\"value\": 7468000000.0, \"unit\": \"shares\", \"label\": \"Diluted Average Shares\", \"order\": 4500}, \"benefits_costs_expenses\": {\"value\": 35494000000.0, \"unit\": \"USD\", \"label\": \"Benefits Costs and Expenses\", \"order\": 200}, \"other_operating_expenses\": {\"value\": 8223000000.0, \"unit\": \"USD\", \"label\": \"Other Operating Expenses\", \"order\": 1040}, \"income_loss_from_continuing_operations_after_tax\": {\"value\": 21870000000.0, \"unit\": \"USD\", \"label\": \"Income/Loss From Continuing Operations After Tax\", \"order\": 1400}, \"net_income_loss_available_to_common_stockholders_basic\": {\"value\": 21870000000.0, \"unit\": \"USD\", \"label\": \"Net Income/Loss Available To Common Stockholders, Basic\", \"order\": 3700}, \"net_income_loss_attributable_to_parent\": {\"value\": 21870000000.0, \"unit\": \"USD\", \"label\": \"Net Income/Loss Attributable To Parent\", \"order\": 3500}, \"participating_securities_distributed_and_undistributed_earnings_loss_basic\": {\"value\": 0, \"unit\": \"USD\", \"label\": \"Participating Securities, Distributed And Undistributed Earnings/Loss, Basic\", \"order\": 3800}, \"nonoperating_income_loss\": {\"value\": -506000000.0, \"unit\": \"USD\", \"label\": \"Nonoperating Income/Loss\", \"order\": 900}, \"interest_expense_operating\": {\"value\": 909000000.0, \"unit\": \"USD\", \"label\": \"Interest Expense, Operating\", \"order\": 2700}, \"basic_average_shares\": {\"value\": 7432000000.0, \"unit\": \"shares\", \"label\": \"Basic Average Shares\", \"order\": 4400}, \"income_tax_expense_benefit_deferred\": {\"value\": -1702000000.0, \"unit\": \"USD\", \"label\": \"Income Tax Expense/Benefit, Deferred\", \"order\": 2400}, \"preferred_stock_dividends_and_other_adjustments\": {\"value\": 0, \"unit\": \"USD\", \"label\": \"Preferred Stock Dividends And Other Adjustments\", \"order\": 3900}, \"net_income_loss\": {\"value\": 21870000000.0, \"unit\": \"USD\", \"label\": \"Net Income/Loss\", \"order\": 3200}, \"income_tax_expense_benefit\": {\"value\": 4656000000.0, \"unit\": \"USD\", \"label\": \"Income Tax Expense/Benefit\", \"order\": 2200}, \"revenues\": {\"value\": 62020000000.0, \"unit\": \"USD\", \"label\": \"Revenues\", \"order\": 100}, \"basic_earnings_per_share\": {\"value\": 2.94, \"unit\": \"USD / shares\", \"label\": \"Basic Earnings Per Share\", \"order\": 4200}, \"gross_profit\": {\"value\": 42397000000.0, \"unit\": \"USD\", \"label\": \"Gross Profit\", \"order\": 800}, \"costs_and_expenses\": {\"value\": 35494000000.0, \"unit\": \"USD\", \"label\": \"Costs And Expenses\", \"order\": 600}, \"operating_income_loss\": {\"value\": 27032000000.0, \"unit\": \"USD\", \"label\": \"Operating Income/Loss\", \"order\": 1100}, \"research_and_development\": {\"value\": 7142000000.0, \"unit\": \"USD\", \"label\": \"Research and Development\", \"order\": 1030}, \"cost_of_revenue\": {\"value\": 19623000000.0, \"unit\": \"USD\", \"label\": \"Cost Of Revenue\", \"order\": 300}, \"income_loss_from_continuing_operations_before_tax\": {\"value\": 26526000000.0, \"unit\": \"USD\", \"label\": \"Income/Loss From Continuing Operations Before Tax\", \"order\": 1500}, \"diluted_earnings_per_share\": {\"value\": 2.93, \"unit\": \"USD / shares\", \"label\": \"Diluted Earnings Per Share\", \"order\": 4300}, \"net_income_loss_attributable_to_noncontrolling_interest\": {\"value\": 0, \"unit\": \"USD\", \"label\": \"Net Income/Loss Attributable To Noncontrolling Interest\", \"order\": 3300}, \"operating_expenses\": {\"value\": 15365000000.0, \"unit\": \"USD\", \"label\": \"Operating Expenses\", \"order\": 1000}}}}, {\"start_date\": \"2023-07-01\", \"end_date\": \"2023-09-30\", \"filing_date\": \"2023-10-24\", \"acceptance_datetime\": \"2023-10-24T20:07:40Z\", \"timeframe\": \"quarterly\", \"fiscal_period\": \"Q1\", \"fiscal_year\": \"2024\", \"cik\": \"0000789019\", \"sic\": \"7372\", \"tickers\": [\"MSFT\"], \"company_name\": \"MICROSOFT CORP\", \"source_filing_url\": \"https://api.polygon.io/v1/reference/sec/filings/0000950170-23-054855\", \"source_filing_file_url\": \"http://api.polygon.io/v1/reference/sec/filings/0000950170-23-054855/files/msft-20230930_htm.xml\", \"financials\": {\"income_statement\": {\"participating_securities_distributed_and_undistributed_earnings_loss_basic\": {\"value\": 0, \"unit\": \"USD\", \"label\": \"Participating Securities, Distributed And Undistributed Earnings/Loss, Basic\", \"order\": 3800}, \"cost_of_revenue\": {\"value\": 16302000000.0, \"unit\": \"USD\", \"label\": \"Cost Of Revenue\", \"order\": 300}, \"benefits_costs_expenses\": {\"value\": 29233000000.0, \"unit\": \"USD\", \"label\": \"Benefits Costs and Expenses\", \"order\": 200}, \"income_loss_from_continuing_operations_before_tax\": {\"value\": 27284000000.0, \"unit\": \"USD\", \"label\": \"Income/Loss From Continuing Operations Before Tax\", \"order\": 1500}, \"net_income_loss_attributable_to_parent\": {\"value\": 22291000000.0, \"unit\": \"USD\", \"label\": \"Net Income/Loss Attributable To Parent\", \"order\": 3500}, \"research_and_development\": {\"value\": 6659000000.0, \"unit\": \"USD\", \"label\": \"Research and Development\", \"order\": 1030}, \"interest_expense_operating\": {\"value\": 525000000.0, \"unit\": \"USD\", \"label\": \"Interest Expense, Operating\", \"order\": 2700}, \"basic_average_shares\": {\"value\": 7429000000.0, \"unit\": \"shares\", \"label\": \"Basic Average Shares\", \"order\": 4400}, \"diluted_earnings_per_share\": {\"value\": 2.99, \"unit\": \"USD / shares\", \"label\": \"Diluted Earnings Per Share\", \"order\": 4300}, \"net_income_loss\": {\"value\": 22291000000.0, \"unit\": \"USD\", \"label\": \"Net Income/Loss\", \"order\": 3200}, \"operating_expenses\": {\"value\": 13320000000.0, \"unit\": \"USD\", \"label\": \"Operating Expenses\", \"order\": 1000}, \"nonoperating_income_loss\": {\"value\": 389000000.0, \"unit\": \"USD\", \"label\": \"Nonoperating Income/Loss\", \"order\": 900}, \"diluted_average_shares\": {\"value\": 7462000000.0, \"unit\": \"shares\", \"label\": \"Diluted Average Shares\", \"order\": 4500}, \"revenues\": {\"value\": 56517000000.0, \"unit\": \"USD\", \"label\": \"Revenues\", \"order\": 100}, \"gross_profit\": {\"value\": 40215000000.0, \"unit\": \"USD\", \"label\": \"Gross Profit\", \"order\": 800}, \"income_tax_expense_benefit_deferred\": {\"value\": -568000000.0, \"unit\": \"USD\", \"label\": \"Income Tax Expense/Benefit, Deferred\", \"order\": 2400}, \"operating_income_loss\": {\"value\": 26895000000.0, \"unit\": \"USD\", \"label\": \"Operating Income/Loss\", \"order\": 1100}, \"preferred_stock_dividends_and_other_adjustments\": {\"value\": 0, \"unit\": \"USD\", \"label\": \"Preferred Stock Dividends And Other Adjustments\", \"order\": 3900}, \"basic_earnings_per_share\": {\"value\": 3, \"unit\": \"USD / shares\", \"label\": \"Basic Earnings Per Share\", \"order\": 4200}, \"income_loss_from_continuing_operations_after_tax\": {\"value\": 22291000000.0, \"unit\": \"USD\", \"label\": \"Income/Loss From Continuing Operations After Tax\", \"order\": 1400}, \"net_income_loss_available_to_common_stockholders_basic\": {\"value\": 22291000000.0, \"unit\": \"USD\", \"label\": \"Net Income/Loss Available To Common Stockholders, Basic\", \"order\": 3700}, \"costs_and_expenses\": {\"value\": 29233000000.0, \"unit\": \"USD\", \"label\": \"Costs And Expenses\", \"order\": 600}, \"net_income_loss_attributable_to_noncontrolling_interest\": {\"value\": 0, \"unit\": \"USD\", \"label\": \"Net Income/Loss Attributable To Noncontrolling Interest\", \"order\": 3300}, \"income_tax_expense_benefit\": {\"value\": 4993000000.0, \"unit\": \"USD\", \"label\": \"Income Tax Expense/Benefit\", \"order\": 2200}, \"other_operating_expenses\": {\"value\": 6661000000.0, \"unit\": \"USD\", \"label\": \"Other Operating Expenses\", \"order\": 1040}}, \"cash_flow_statement\": {\"net_cash_flow_from_financing_activities\": {\"value\": 14761000000.0, \"unit\": \"USD\", \"label\": \"Net Cash Flow From Financing Activities\", \"order\": 700}, \"net_cash_flow_from_financing_activities_continuing\": {\"value\": 14761000000.0, \"unit\": \"USD\", \"label\": \"Net Cash Flow From Financing Activities, Continuing\", \"order\": 800}, \"net_cash_flow_continuing\": {\"value\": 45847000000.0, \"unit\": \"USD\", \"label\": \"Net Cash Flow, Continuing\", \"order\": 1200}, \"net_cash_flow_from_investing_activities_continuing\": {\"value\": 503000000.0, \"unit\": \"USD\", \"label\": \"Net Cash Flow From Investing Activities, Continuing\", \"order\": 500}, \"net_cash_flow_from_operating_activities\": {\"value\": 30583000000.0, \"unit\": \"USD\", \"label\": \"Net Cash Flow From Operating Activities\", \"order\": 100}, \"net_cash_flow_from_operating_activities_continuing\": {\"value\": 30583000000.0, \"unit\": \"USD\", \"label\": \"Net Cash Flow From Operating Activities, Continuing\", \"order\": 200}, \"net_cash_flow\": {\"value\": 45847000000.0, \"unit\": \"USD\", \"label\": \"Net Cash Flow\", \"order\": 1100}, \"net_cash_flow_from_investing_activities\": {\"value\": 503000000.0, \"unit\": \"USD\", \"label\": \"Net Cash Flow From Investing Activities\", \"order\": 400}}, \"comprehensive_income\": {\"comprehensive_income_loss\": {\"value\": 21697000000.0, \"unit\": \"USD\", \"label\": \"Comprehensive Income/Loss\", \"order\": 100}, \"other_comprehensive_income_loss_attributable_to_parent\": {\"value\": -594000000.0, \"unit\": \"USD\", \"label\": \"Other Comprehensive Income/Loss Attributable To Parent\", \"order\": 600}, \"comprehensive_income_loss_attributable_to_parent\": {\"value\": 21697000000.0, \"unit\": \"USD\", \"label\": \"Comprehensive Income/Loss Attributable To Parent\", \"order\": 300}, \"other_comprehensive_income_loss\": {\"value\": 21697000000.0, \"unit\": \"USD\", \"label\": \"Other Comprehensive Income/Loss\", \"order\": 400}, \"comprehensive_income_loss_attributable_to_noncontrolling_interest\": {\"value\": 0, \"unit\": \"USD\", \"label\": \"Comprehensive Income/Loss Attributable To Noncontrolling Interest\", \"order\": 200}}, \"balance_sheet\": {\"long_term_debt\": {\"value\": 45694000000.0, \"unit\": \"USD\", \"label\": \"Long-term Debt\", \"order\": 810}, \"current_liabilities\": {\"value\": 124792000000.0, \"unit\": \"USD\", \"label\": \"Current Liabilities\", \"order\": 700}, \"wages\": {\"value\": 6990000000.0, \"unit\": \"USD\", \"label\": \"Wages\", \"order\": 730}, \"assets\": {\"value\": 445785000000.0, \"unit\": \"USD\", \"label\": \"Assets\", \"order\": 100}, \"liabilities_and_equity\": {\"value\": 445785000000.0, \"unit\": \"USD\", \"label\": \"Liabilities And Equity\", \"order\": 1900}, \"equity\": {\"value\": 220714000000.0, \"unit\": \"USD\", \"label\": \"Equity\", \"order\": 1400}, \"other_noncurrent_assets\": {\"value\": 135697000000.0, \"unit\": \"USD\", \"label\": \"Other Non-current Assets\", \"order\": 350}, \"equity_attributable_to_parent\": {\"value\": 220714000000.0, \"unit\": \"USD\", \"label\": \"Equity Attributable To Parent\", \"order\": 1600}, \"other_current_assets\": {\"value\": 60635000000.0, \"unit\": \"USD\", \"label\": \"Other Current Assets\", \"order\": 250}, \"other_noncurrent_liabilities\": {\"value\": 54585000000.0, \"unit\": \"USD\", \"label\": \"Other Non-current Liabilities\", \"order\": 820}, \"cash\": {\"value\": 143951000000.0, \"unit\": \"USD\", \"label\": \"Cash\", \"order\": 210}, \"accounts_payable\": {\"value\": 19307000000.0, \"unit\": \"USD\", \"label\": \"Accounts Payable\", \"order\": 710}, \"equity_attributable_to_noncontrolling_interest\": {\"value\": 0, \"unit\": \"USD\", \"label\": \"Equity Attributable To Noncontrolling Interest\", \"order\": 1500}, \"liabilities\": {\"value\": 225071000000.0, \"unit\": \"USD\", \"label\": \"Liabilities\", \"order\": 600}, \"inventory\": {\"value\": 3000000000.0, \"unit\": \"USD\", \"label\": \"Inventory\", \"order\": 230}, \"current_assets\": {\"value\": 207586000000.0, \"unit\": \"USD\", \"label\": \"Current Assets\", \"order\": 200}, \"fixed_assets\": {\"value\": 102502000000.0, \"unit\": \"USD\", \"label\": \"Fixed Assets\", \"order\": 320}, \"other_current_liabilities\": {\"value\": 98495000000.0, \"unit\": \"USD\", \"label\": \"Other Current Liabilities\", \"order\": 740}, \"noncurrent_liabilities\": {\"value\": 100279000000.0, \"unit\": \"USD\", \"label\": \"Noncurrent Liabilities\", \"order\": 800}, \"noncurrent_assets\": {\"value\": 238199000000.0, \"unit\": \"USD\", \"label\": \"Noncurrent Assets\", \"order\": 300}}}}, {\"start_date\": \"2023-04-01\", \"end_date\": \"2023-06-30\", \"timeframe\": \"quarterly\", \"fiscal_period\": \"Q4\", \"fiscal_year\": \"2023\", \"cik\": \"0000789019\", \"sic\": \"7372\", \"tickers\": [\"MSFT\"], \"company_name\": \"MICROSOFT CORP\", \"financials\": {\"balance_sheet\": {\"equity_attributable_to_parent\": {\"value\": 206223000000.0, \"unit\": \"USD\", \"label\": \"Equity Attributable To Parent\", \"order\": 1600}, \"other_noncurrent_liabilities\": {\"value\": 54367000000.0, \"unit\": \"USD\", \"label\": \"Other Non-current Liabilities\", \"order\": 820}, \"liabilities_and_equity\": {\"value\": 411976000000.0, \"unit\": \"USD\", \"label\": \"Liabilities And Equity\", \"order\": 1900}, \"noncurrent_assets\": {\"value\": 227719000000.0, \"unit\": \"USD\", \"label\": \"Noncurrent Assets\", \"order\": 300}, \"other_current_liabilities\": {\"value\": 75045000000.0, \"unit\": \"USD\", \"label\": \"Other Current Liabilities\", \"order\": 740}, \"current_liabilities\": {\"value\": 104149000000.0, \"unit\": \"USD\", \"label\": \"Current Liabilities\", \"order\": 700}, \"assets\": {\"value\": 411976000000.0, \"unit\": \"USD\", \"label\": \"Assets\", \"order\": 100}, \"equity\": {\"value\": 206223000000.0, \"unit\": \"USD\", \"label\": \"Equity\", \"order\": 1400}, \"accounts_payable\": {\"value\": 18095000000.0, \"unit\": \"USD\", \"label\": \"Accounts Payable\", \"order\": 710}, \"current_assets\": {\"value\": 184257000000.0, \"unit\": \"USD\", \"label\": \"Current Assets\", \"order\": 200}, \"noncurrent_liabilities\": {\"value\": 101604000000.0, \"unit\": \"USD\", \"label\": \"Noncurrent Liabilities\", \"order\": 800}, \"long_term_debt\": {\"value\": 47237000000.0, \"unit\": \"USD\", \"label\": \"Long-term Debt\", \"order\": 810}, \"equity_attributable_to_noncontrolling_interest\": {\"value\": 0, \"unit\": \"USD\", \"label\": \"Equity Attributable To Noncontrolling Interest\", \"order\": 1500}, \"wages\": {\"value\": 11009000000.0, \"unit\": \"USD\", \"label\": \"Wages\", \"order\": 730}, \"fixed_assets\": {\"value\": 95641000000.0, \"unit\": \"USD\", \"label\": \"Fixed Assets\", \"order\": 320}, \"liabilities\": {\"value\": 205753000000.0, \"unit\": \"USD\", \"label\": \"Liabilities\", \"order\": 600}, \"cash\": {\"value\": 111262000000.0, \"unit\": \"USD\", \"label\": \"Cash\", \"order\": 210}, \"inventory\": {\"value\": 2500000000.0, \"unit\": \"USD\", \"label\": \"Inventory\", \"order\": 230}, \"other_current_assets\": {\"value\": 70495000000.0, \"unit\": \"USD\", \"label\": \"Other Current Assets\", \"order\": 250}, \"other_noncurrent_assets\": {\"value\": 132078000000.0, \"unit\": \"USD\", \"label\": \"Other Non-current Assets\", \"order\": 350}}, \"comprehensive_income\": {\"comprehensive_income_loss_attributable_to_noncontrolling_interest\": {\"value\": 0, \"unit\": \"USD\", \"label\": \"Comprehensive Income/Loss Attributable To Noncontrolling Interest\", \"order\": 200}, \"other_comprehensive_income_loss_attributable_to_parent\": {\"value\": -699000000.0, \"unit\": \"USD\", \"label\": \"Other Comprehensive Income/Loss Attributable To Parent\", \"order\": 600}, \"comprehensive_income_loss\": {\"value\": 19382000000.0, \"unit\": \"USD\", \"label\": \"Comprehensive Income/Loss\", \"order\": 100}, \"comprehensive_income_loss_attributable_to_parent\": {\"value\": 19382000000.0, \"unit\": \"USD\", \"label\": \"Comprehensive Income/Loss Attributable To Parent\", \"order\": 300}, \"other_comprehensive_income_loss\": {\"value\": 19382000000.0, \"unit\": \"USD\", \"label\": \"Other Comprehensive Income/Loss\", \"order\": 400}}, \"income_statement\": {\"income_loss_from_continuing_operations_after_tax\": {\"value\": 20081000000.0, \"unit\": \"USD\", \"label\": \"Income/Loss From Continuing Operations After Tax\", \"order\": 1400}, \"income_tax_expense_benefit_deferred\": {\"value\": -1888000000.0, \"unit\": \"USD\", \"label\": \"Income Tax Expense/Benefit, Deferred\", \"order\": 2400}, \"preferred_stock_dividends_and_other_adjustments\": {\"value\": 0, \"unit\": \"USD\", \"label\": \"Preferred Stock Dividends And Other Adjustments\", \"order\": 3900}, \"basic_average_shares\": {\"value\": -4000000.0, \"unit\": \"shares\", \"label\": \"Basic Average Shares\", \"order\": 4400}, \"net_income_loss_available_to_common_stockholders_basic\": {\"value\": 20081000000.0, \"unit\": \"USD\", \"label\": \"Net Income/Loss Available To Common Stockholders, Basic\", \"order\": 3700}, \"net_income_loss_attributable_to_noncontrolling_interest\": {\"value\": 0, \"unit\": \"USD\", \"label\": \"Net Income/Loss Attributable To Noncontrolling Interest\", \"order\": 3300}, \"net_income_loss_attributable_to_parent\": {\"value\": 20081000000.0, \"unit\": \"USD\", \"label\": \"Net Income/Loss Attributable To Parent\", \"order\": 3500}, \"other_operating_expenses\": {\"value\": 8401000000.0, \"unit\": \"USD\", \"label\": \"Other Operating Expenses\", \"order\": 1040}, \"research_and_development\": {\"value\": 6739000000.0, \"unit\": \"USD\", \"label\": \"Research and Development\", \"order\": 1030}, \"diluted_average_shares\": {\"value\": -2000000.0, \"unit\": \"shares\", \"label\": \"Diluted Average Shares\", \"order\": 4500}, \"basic_earnings_per_share\": {\"value\": 2.700000000000001, \"unit\": \"USD / shares\", \"label\": \"Basic Earnings Per Share\", \"order\": 4200}, \"income_loss_from_continuing_operations_before_tax\": {\"value\": 24727000000.0, \"unit\": \"USD\", \"label\": \"Income/Loss From Continuing Operations Before Tax\", \"order\": 1500}, \"income_tax_expense_benefit\": {\"value\": 4646000000.0, \"unit\": \"USD\", \"label\": \"Income Tax Expense/Benefit\", \"order\": 2200}, \"nonoperating_income_loss\": {\"value\": 473000000.0, \"unit\": \"USD\", \"label\": \"Nonoperating Income/Loss\", \"order\": 900}, \"gross_profit\": {\"value\": 39394000000.0, \"unit\": \"USD\", \"label\": \"Gross Profit\", \"order\": 800}, \"benefits_costs_expenses\": {\"value\": 31462000000.0, \"unit\": \"USD\", \"label\": \"Benefits Costs and Expenses\", \"order\": 200}, \"diluted_earnings_per_share\": {\"value\": 2.6899999999999995, \"unit\": \"USD / shares\", \"label\": \"Diluted Earnings Per Share\", \"order\": 4300}, \"participating_securities_distributed_and_undistributed_earnings_loss_basic\": {\"value\": 0, \"unit\": \"USD\", \"label\": \"Participating Securities, Distributed And Undistributed Earnings/Loss, Basic\", \"order\": 3800}, \"cost_of_revenue\": {\"value\": 16795000000.0, \"unit\": \"USD\", \"label\": \"Cost Of Revenue\", \"order\": 300}, \"interest_expense_operating\": {\"value\": 482000000.0, \"unit\": \"USD\", \"label\": \"Interest Expense, Operating\", \"order\": 2700}, \"revenues\": {\"value\": 56189000000.0, \"unit\": \"USD\", \"label\": \"Revenues\", \"order\": 100}, \"operating_expenses\": {\"value\": 15140000000.0, \"unit\": \"USD\", \"label\": \"Operating Expenses\", \"order\": 1000}, \"net_income_loss\": {\"value\": 20081000000.0, \"unit\": \"USD\", \"label\": \"Net Income/Loss\", \"order\": 3200}, \"costs_and_expenses\": {\"value\": 31462000000.0, \"unit\": \"USD\", \"label\": \"Costs And Expenses\", \"order\": 600}, \"operating_income_loss\": {\"value\": 24254000000.0, \"unit\": \"USD\", \"label\": \"Operating Income/Loss\", \"order\": 1100}}, \"cash_flow_statement\": {\"net_cash_flow_continuing\": {\"value\": 8223000000.0, \"unit\": \"USD\", \"label\": \"Net Cash Flow, Continuing\", \"order\": 1200}, \"net_cash_flow_from_investing_activities_continuing\": {\"value\": -9134000000.0, \"unit\": \"USD\", \"label\": \"Net Cash Flow From Investing Activities, Continuing\", \"order\": 500}, \"net_cash_flow_from_financing_activities\": {\"value\": -11413000000.0, \"unit\": \"USD\", \"label\": \"Net Cash Flow From Financing Activities\", \"order\": 700}, \"net_cash_flow_from_investing_activities\": {\"value\": -9134000000.0, \"unit\": \"USD\", \"label\": \"Net Cash Flow From Investing Activities\", \"order\": 400}, \"net_cash_flow_from_operating_activities_continuing\": {\"value\": 28770000000.0, \"unit\": \"USD\", \"label\": \"Net Cash Flow From Operating Activities, Continuing\", \"order\": 200}, \"net_cash_flow_from_operating_activities\": {\"value\": 28770000000.0, \"unit\": \"USD\", \"label\": \"Net Cash Flow From Operating Activities\", \"order\": 100}, \"net_cash_flow_from_financing_activities_continuing\": {\"value\": -11413000000.0, \"unit\": \"USD\", \"label\": \"Net Cash Flow From Financing Activities, Continuing\", \"order\": 800}, \"net_cash_flow\": {\"value\": 8223000000.0, \"unit\": \"USD\", \"label\": \"Net Cash Flow\", \"order\": 1100}}}}, {\"start_date\": \"2022-07-01\", \"end_date\": \"2023-06-30\", \"filing_date\": \"2023-07-27\", \"acceptance_datetime\": \"2023-07-27T20:01:56Z\", \"timeframe\": \"annual\", \"fiscal_period\": \"FY\", \"fiscal_year\": \"2023\", \"cik\": \"0000789019\", \"sic\": \"7372\", \"tickers\": [\"MSFT\"], \"company_name\": \"MICROSOFT CORP\", \"source_filing_url\": \"https://api.polygon.io/v1/reference/sec/filings/0000950170-23-035122\", \"source_filing_file_url\": \"http://api.polygon.io/v1/reference/sec/filings/0000950170-23-035122/files/msft-20230630_htm.xml\", \"financials\": {\"balance_sheet\": {\"cash\": {\"value\": 111262000000.0, \"unit\": \"USD\", \"label\": \"Cash\", \"order\": 210}, \"equity_attributable_to_noncontrolling_interest\": {\"value\": 0, \"unit\": \"USD\", \"label\": \"Equity Attributable To Noncontrolling Interest\", \"order\": 1500}, \"noncurrent_liabilities\": {\"value\": 101604000000.0, \"unit\": \"USD\", \"label\": \"Noncurrent Liabilities\", \"order\": 800}, \"long_term_debt\": {\"value\": 47237000000.0, \"unit\": \"USD\", \"label\": \"Long-term Debt\", \"order\": 810}, \"wages\": {\"value\": 11009000000.0, \"unit\": \"USD\", \"label\": \"Wages\", \"order\": 730}, \"equity\": {\"value\": 206223000000.0, \"unit\": \"USD\", \"label\": \"Equity\", \"order\": 1400}, \"noncurrent_assets\": {\"value\": 227719000000.0, \"unit\": \"USD\", \"label\": \"Noncurrent Assets\", \"order\": 300}, \"liabilities\": {\"value\": 205753000000.0, \"unit\": \"USD\", \"label\": \"Liabilities\", \"order\": 600}, \"liabilities_and_equity\": {\"value\": 411976000000.0, \"unit\": \"USD\", \"label\": \"Liabilities And Equity\", \"order\": 1900}, \"current_assets\": {\"value\": 184257000000.0, \"unit\": \"USD\", \"label\": \"Current Assets\", \"order\": 200}, \"other_noncurrent_assets\": {\"value\": 132078000000.0, \"unit\": \"USD\", \"label\": \"Other Non-current Assets\", \"order\": 350}, \"assets\": {\"value\": 411976000000.0, \"unit\": \"USD\", \"label\": \"Assets\", \"order\": 100}, \"other_noncurrent_liabilities\": {\"value\": 54367000000.0, \"unit\": \"USD\", \"label\": \"Other Non-current Liabilities\", \"order\": 820}, \"other_current_assets\": {\"value\": 70495000000.0, \"unit\": \"USD\", \"label\": \"Other Current Assets\", \"order\": 250}, \"equity_attributable_to_parent\": {\"value\": 206223000000.0, \"unit\": \"USD\", \"label\": \"Equity Attributable To Parent\", \"order\": 1600}, \"inventory\": {\"value\": 2500000000.0, \"unit\": \"USD\", \"label\": \"Inventory\", \"order\": 230}, \"current_liabilities\": {\"value\": 104149000000.0, \"unit\": \"USD\", \"label\": \"Current Liabilities\", \"order\": 700}, \"other_current_liabilities\": {\"value\": 75045000000.0, \"unit\": \"USD\", \"label\": \"Other Current Liabilities\", \"order\": 740}, \"fixed_assets\": {\"value\": 95641000000.0, \"unit\": \"USD\", \"label\": \"Fixed Assets\", \"order\": 320}, \"accounts_payable\": {\"value\": 18095000000.0, \"unit\": \"USD\", \"label\": \"Accounts Payable\", \"order\": 710}}, \"comprehensive_income\": {\"comprehensive_income_loss\": {\"value\": 70696000000.0, \"unit\": \"USD\", \"label\": \"Comprehensive Income/Loss\", \"order\": 100}, \"other_comprehensive_income_loss\": {\"value\": 70696000000.0, \"unit\": \"USD\", \"label\": \"Other Comprehensive Income/Loss\", \"order\": 400}, \"comprehensive_income_loss_attributable_to_noncontrolling_interest\": {\"value\": 0, \"unit\": \"USD\", \"label\": \"Comprehensive Income/Loss Attributable To Noncontrolling Interest\", \"order\": 200}, \"other_comprehensive_income_loss_attributable_to_parent\": {\"value\": -1665000000.0, \"unit\": \"USD\", \"label\": \"Other Comprehensive Income/Loss Attributable To Parent\", \"order\": 600}, \"comprehensive_income_loss_attributable_to_parent\": {\"value\": 70696000000.0, \"unit\": \"USD\", \"label\": \"Comprehensive Income/Loss Attributable To Parent\", \"order\": 300}}, \"cash_flow_statement\": {\"net_cash_flow_from_investing_activities_continuing\": {\"value\": -22680000000.0, \"unit\": \"USD\", \"label\": \"Net Cash Flow From Investing Activities, Continuing\", \"order\": 500}, \"net_cash_flow_from_operating_activities_continuing\": {\"value\": 87582000000.0, \"unit\": \"USD\", \"label\": \"Net Cash Flow From Operating Activities, Continuing\", \"order\": 200}, \"net_cash_flow_from_financing_activities_continuing\": {\"value\": -43935000000.0, \"unit\": \"USD\", \"label\": \"Net Cash Flow From Financing Activities, Continuing\", \"order\": 800}, \"net_cash_flow_from_operating_activities\": {\"value\": 87582000000.0, \"unit\": \"USD\", \"label\": \"Net Cash Flow From Operating Activities\", \"order\": 100}, \"net_cash_flow\": {\"value\": 20967000000.0, \"unit\": \"USD\", \"label\": \"Net Cash Flow\", \"order\": 1100}, \"net_cash_flow_from_investing_activities\": {\"value\": -22680000000.0, \"unit\": \"USD\", \"label\": \"Net Cash Flow From Investing Activities\", \"order\": 400}, \"net_cash_flow_continuing\": {\"value\": 20967000000.0, \"unit\": \"USD\", \"label\": \"Net Cash Flow, Continuing\", \"order\": 1200}, \"net_cash_flow_from_financing_activities\": {\"value\": -43935000000.0, \"unit\": \"USD\", \"label\": \"Net Cash Flow From Financing Activities\", \"order\": 700}}, \"income_statement\": {\"operating_expenses\": {\"value\": 57529000000.0, \"unit\": \"USD\", \"label\": \"Operating Expenses\", \"order\": 1000}, \"income_tax_expense_benefit_current\": {\"value\": 23009000000.0, \"unit\": \"USD\", \"label\": \"Income Tax Expense/Benefit, Current\", \"order\": 2300}, \"benefits_costs_expenses\": {\"value\": 122604000000.0, \"unit\": \"USD\", \"label\": \"Benefits Costs and Expenses\", \"order\": 200}, \"diluted_average_shares\": {\"value\": 7472000000.0, \"unit\": \"shares\", \"label\": \"Diluted Average Shares\", \"order\": 4500}, \"income_loss_from_continuing_operations_after_tax\": {\"value\": 72361000000.0, \"unit\": \"USD\", \"label\": \"Income/Loss From Continuing Operations After Tax\", \"order\": 1400}, \"interest_expense_operating\": {\"value\": 1968000000.0, \"unit\": \"USD\", \"label\": \"Interest Expense, Operating\", \"order\": 2700}, \"preferred_stock_dividends_and_other_adjustments\": {\"value\": 0, \"unit\": \"USD\", \"label\": \"Preferred Stock Dividends And Other Adjustments\", \"order\": 3900}, \"participating_securities_distributed_and_undistributed_earnings_loss_basic\": {\"value\": 0, \"unit\": \"USD\", \"label\": \"Participating Securities, Distributed And Undistributed Earnings/Loss, Basic\", \"order\": 3800}, \"gross_profit\": {\"value\": 146052000000.0, \"unit\": \"USD\", \"label\": \"Gross Profit\", \"order\": 800}, \"research_and_development\": {\"value\": 27195000000.0, \"unit\": \"USD\", \"label\": \"Research and Development\", \"order\": 1030}, \"net_income_loss_attributable_to_parent\": {\"value\": 72361000000.0, \"unit\": \"USD\", \"label\": \"Net Income/Loss Attributable To Parent\", \"order\": 3500}, \"income_tax_expense_benefit_deferred\": {\"value\": -6059000000.0, \"unit\": \"USD\", \"label\": \"Income Tax Expense/Benefit, Deferred\", \"order\": 2400}, \"income_loss_from_continuing_operations_before_tax\": {\"value\": 89311000000.0, \"unit\": \"USD\", \"label\": \"Income/Loss From Continuing Operations Before Tax\", \"order\": 1500}, \"net_income_loss_attributable_to_noncontrolling_interest\": {\"value\": 0, \"unit\": \"USD\", \"label\": \"Net Income/Loss Attributable To Noncontrolling Interest\", \"order\": 3300}, \"income_tax_expense_benefit\": {\"value\": 16950000000.0, \"unit\": \"USD\", \"label\": \"Income Tax Expense/Benefit\", \"order\": 2200}, \"revenues\": {\"value\": 211915000000.0, \"unit\": \"USD\", \"label\": \"Revenues\", \"order\": 100}, \"nonoperating_income_loss\": {\"value\": 788000000.0, \"unit\": \"USD\", \"label\": \"Nonoperating Income/Loss\", \"order\": 900}, \"basic_average_shares\": {\"value\": 7446000000.0, \"unit\": \"shares\", \"label\": \"Basic Average Shares\", \"order\": 4400}, \"costs_and_expenses\": {\"value\": 122604000000.0, \"unit\": \"USD\", \"label\": \"Costs And Expenses\", \"order\": 600}, \"net_income_loss_available_to_common_stockholders_basic\": {\"value\": 72361000000.0, \"unit\": \"USD\", \"label\": \"Net Income/Loss Available To Common Stockholders, Basic\", \"order\": 3700}, \"diluted_earnings_per_share\": {\"value\": 9.68, \"unit\": \"USD / shares\", \"label\": \"Diluted Earnings Per Share\", \"order\": 4300}, \"cost_of_revenue\": {\"value\": 65863000000.0, \"unit\": \"USD\", \"label\": \"Cost Of Revenue\", \"order\": 300}, \"operating_income_loss\": {\"value\": 88523000000.0, \"unit\": \"USD\", \"label\": \"Operating Income/Loss\", \"order\": 1100}, \"basic_earnings_per_share\": {\"value\": 9.72, \"unit\": \"USD / shares\", \"label\": \"Basic Earnings Per Share\", \"order\": 4200}, \"net_income_loss\": {\"value\": 72361000000.0, \"unit\": \"USD\", \"label\": \"Net Income/Loss\", \"order\": 3200}, \"other_operating_expenses\": {\"value\": 30334000000.0, \"unit\": \"USD\", \"label\": \"Other Operating Expenses\", \"order\": 1040}}}}, {\"start_date\": \"2023-01-01\", \"end_date\": \"2023-03-31\", \"filing_date\": \"2023-04-25\", \"acceptance_datetime\": \"2023-04-25T20:07:43Z\", \"timeframe\": \"quarterly\", \"fiscal_period\": \"Q3\", \"fiscal_year\": \"2023\", \"cik\": \"0000789019\", \"sic\": \"7372\", \"tickers\": [\"MSFT\"], \"company_name\": \"MICROSOFT CORP\", \"source_filing_url\": \"https://api.polygon.io/v1/reference/sec/filings/0000950170-23-014423\", \"source_filing_file_url\": \"http://api.polygon.io/v1/reference/sec/filings/0000950170-23-014423/files/msft-20230331_htm.xml\", \"financials\": {\"comprehensive_income\": {\"comprehensive_income_loss\": {\"value\": 19112000000.0, \"unit\": \"USD\", \"label\": \"Comprehensive Income/Loss\", \"order\": 100}, \"comprehensive_income_loss_attributable_to_parent\": {\"value\": 19112000000.0, \"unit\": \"USD\", \"label\": \"Comprehensive Income/Loss Attributable To Parent\", \"order\": 300}, \"other_comprehensive_income_loss\": {\"value\": 19112000000.0, \"unit\": \"USD\", \"label\": \"Other Comprehensive Income/Loss\", \"order\": 400}, \"other_comprehensive_income_loss_attributable_to_parent\": {\"value\": 813000000.0, \"unit\": \"USD\", \"label\": \"Other Comprehensive Income/Loss Attributable To Parent\", \"order\": 600}, \"comprehensive_income_loss_attributable_to_noncontrolling_interest\": {\"value\": 0, \"unit\": \"USD\", \"label\": \"Comprehensive Income/Loss Attributable To Noncontrolling Interest\", \"order\": 200}}, \"income_statement\": {\"net_income_loss_attributable_to_parent\": {\"value\": 18299000000.0, \"unit\": \"USD\", \"label\": \"Net Income/Loss Attributable To Parent\", \"order\": 3500}, \"nonoperating_income_loss\": {\"value\": 321000000.0, \"unit\": \"USD\", \"label\": \"Nonoperating Income/Loss\", \"order\": 900}, \"net_income_loss\": {\"value\": 18299000000.0, \"unit\": \"USD\", \"label\": \"Net Income/Loss\", \"order\": 3200}, \"operating_income_loss\": {\"value\": 22352000000.0, \"unit\": \"USD\", \"label\": \"Operating Income/Loss\", \"order\": 1100}, \"net_income_loss_attributable_to_noncontrolling_interest\": {\"value\": 0, \"unit\": \"USD\", \"label\": \"Net Income/Loss Attributable To Noncontrolling Interest\", \"order\": 3300}, \"benefits_costs_expenses\": {\"value\": 30184000000.0, \"unit\": \"USD\", \"label\": \"Benefits Costs and Expenses\", \"order\": 200}, \"preferred_stock_dividends_and_other_adjustments\": {\"value\": 0, \"unit\": \"USD\", \"label\": \"Preferred Stock Dividends And Other Adjustments\", \"order\": 3900}, \"other_operating_expenses\": {\"value\": 7393000000.0, \"unit\": \"USD\", \"label\": \"Other Operating Expenses\", \"order\": 1040}, \"costs_and_expenses\": {\"value\": 30184000000.0, \"unit\": \"USD\", \"label\": \"Costs And Expenses\", \"order\": 600}, \"research_and_development\": {\"value\": 6984000000.0, \"unit\": \"USD\", \"label\": \"Research and Development\", \"order\": 1030}, \"diluted_average_shares\": {\"value\": 7464000000.0, \"unit\": \"shares\", \"label\": \"Diluted Average Shares\", \"order\": 4500}, \"income_tax_expense_benefit\": {\"value\": 4374000000.0, \"unit\": \"USD\", \"label\": \"Income Tax Expense/Benefit\", \"order\": 2200}, \"participating_securities_distributed_and_undistributed_earnings_loss_basic\": {\"value\": 0, \"unit\": \"USD\", \"label\": \"Participating Securities, Distributed And Undistributed Earnings/Loss, Basic\", \"order\": 3800}, \"gross_profit\": {\"value\": 36729000000.0, \"unit\": \"USD\", \"label\": \"Gross Profit\", \"order\": 800}, \"net_income_loss_available_to_common_stockholders_basic\": {\"value\": 18299000000.0, \"unit\": \"USD\", \"label\": \"Net Income/Loss Available To Common Stockholders, Basic\", \"order\": 3700}, \"income_tax_expense_benefit_deferred\": {\"value\": -1675000000.0, \"unit\": \"USD\", \"label\": \"Income Tax Expense/Benefit, Deferred\", \"order\": 2400}, \"income_loss_from_continuing_operations_after_tax\": {\"value\": 18299000000.0, \"unit\": \"USD\", \"label\": \"Income/Loss From Continuing Operations After Tax\", \"order\": 1400}, \"diluted_earnings_per_share\": {\"value\": 2.45, \"unit\": \"USD / shares\", \"label\": \"Diluted Earnings Per Share\", \"order\": 4300}, \"basic_average_shares\": {\"value\": 7441000000.0, \"unit\": \"shares\", \"label\": \"Basic Average Shares\", \"order\": 4400}, \"basic_earnings_per_share\": {\"value\": 2.46, \"unit\": \"USD / shares\", \"label\": \"Basic Earnings Per Share\", \"order\": 4200}, \"income_loss_from_continuing_operations_before_tax\": {\"value\": 22673000000.0, \"unit\": \"USD\", \"label\": \"Income/Loss From Continuing Operations Before Tax\", \"order\": 1500}, \"revenues\": {\"value\": 52857000000.0, \"unit\": \"USD\", \"label\": \"Revenues\", \"order\": 100}, \"cost_of_revenue\": {\"value\": 16128000000.0, \"unit\": \"USD\", \"label\": \"Cost Of Revenue\", \"order\": 300}, \"operating_expenses\": {\"value\": 14377000000.0, \"unit\": \"USD\", \"label\": \"Operating Expenses\", \"order\": 1000}, \"interest_expense_operating\": {\"value\": 496000000.0, \"unit\": \"USD\", \"label\": \"Interest Expense, Operating\", \"order\": 2700}}, \"balance_sheet\": {\"equity\": {\"value\": 194683000000.0, \"unit\": \"USD\", \"label\": \"Equity\", \"order\": 1400}, \"current_assets\": {\"value\": 163889000000.0, \"unit\": \"USD\", \"label\": \"Current Assets\", \"order\": 200}, \"other_noncurrent_liabilities\": {\"value\": 51504000000.0, \"unit\": \"USD\", \"label\": \"Other Non-current Liabilities\", \"order\": 820}, \"cash\": {\"value\": 104427000000.0, \"unit\": \"USD\", \"label\": \"Cash\", \"order\": 210}, \"noncurrent_liabilities\": {\"value\": 99714000000.0, \"unit\": \"USD\", \"label\": \"Noncurrent Liabilities\", \"order\": 800}, \"wages\": {\"value\": 10411000000.0, \"unit\": \"USD\", \"label\": \"Wages\", \"order\": 730}, \"equity_attributable_to_parent\": {\"value\": 194683000000.0, \"unit\": \"USD\", \"label\": \"Equity Attributable To Parent\", \"order\": 1600}, \"noncurrent_assets\": {\"value\": 216199000000.0, \"unit\": \"USD\", \"label\": \"Noncurrent Assets\", \"order\": 300}, \"liabilities\": {\"value\": 185405000000.0, \"unit\": \"USD\", \"label\": \"Liabilities\", \"order\": 600}, \"equity_attributable_to_noncontrolling_interest\": {\"value\": 0, \"unit\": \"USD\", \"label\": \"Equity Attributable To Noncontrolling Interest\", \"order\": 1500}, \"fixed_assets\": {\"value\": 88132000000.0, \"unit\": \"USD\", \"label\": \"Fixed Assets\", \"order\": 320}, \"other_noncurrent_assets\": {\"value\": 128067000000.0, \"unit\": \"USD\", \"label\": \"Other Non-current Assets\", \"order\": 350}, \"long_term_debt\": {\"value\": 48210000000.0, \"unit\": \"USD\", \"label\": \"Long-term Debt\", \"order\": 810}, \"liabilities_and_equity\": {\"value\": 380088000000.0, \"unit\": \"USD\", \"label\": \"Liabilities And Equity\", \"order\": 1900}, \"inventory\": {\"value\": 2877000000.0, \"unit\": \"USD\", \"label\": \"Inventory\", \"order\": 230}, \"accounts_payable\": {\"value\": 15305000000.0, \"unit\": \"USD\", \"label\": \"Accounts Payable\", \"order\": 710}, \"current_liabilities\": {\"value\": 85691000000.0, \"unit\": \"USD\", \"label\": \"Current Liabilities\", \"order\": 700}, \"assets\": {\"value\": 380088000000.0, \"unit\": \"USD\", \"label\": \"Assets\", \"order\": 100}, \"other_current_assets\": {\"value\": 56585000000.0, \"unit\": \"USD\", \"label\": \"Other Current Assets\", \"order\": 250}, \"other_current_liabilities\": {\"value\": 59975000000.0, \"unit\": \"USD\", \"label\": \"Other Current Liabilities\", \"order\": 740}}, \"cash_flow_statement\": {\"net_cash_flow_from_operating_activities_continuing\": {\"value\": 24441000000.0, \"unit\": \"USD\", \"label\": \"Net Cash Flow From Operating Activities, Continuing\", \"order\": 200}, \"net_cash_flow_from_investing_activities_continuing\": {\"value\": -3264000000.0, \"unit\": \"USD\", \"label\": \"Net Cash Flow From Investing Activities, Continuing\", \"order\": 500}, \"net_cash_flow_from_investing_activities\": {\"value\": -3264000000.0, \"unit\": \"USD\", \"label\": \"Net Cash Flow From Investing Activities\", \"order\": 400}, \"net_cash_flow_continuing\": {\"value\": 10887000000.0, \"unit\": \"USD\", \"label\": \"Net Cash Flow, Continuing\", \"order\": 1200}, \"net_cash_flow_from_operating_activities\": {\"value\": 24441000000.0, \"unit\": \"USD\", \"label\": \"Net Cash Flow From Operating Activities\", \"order\": 100}, \"net_cash_flow_from_financing_activities_continuing\": {\"value\": -10290000000.0, \"unit\": \"USD\", \"label\": \"Net Cash Flow From Financing Activities, Continuing\", \"order\": 800}, \"net_cash_flow_from_financing_activities\": {\"value\": -10290000000.0, \"unit\": \"USD\", \"label\": \"Net Cash Flow From Financing Activities\", \"order\": 700}, \"net_cash_flow\": {\"value\": 10887000000.0, \"unit\": \"USD\", \"label\": \"Net Cash Flow\", \"order\": 1100}}}}, {\"start_date\": \"2022-10-01\", \"end_date\": \"2022-12-31\", \"filing_date\": \"2023-01-24\", \"timeframe\": \"quarterly\", \"fiscal_period\": \"Q2\", \"fiscal_year\": \"2023\", \"cik\": \"0000789019\", \"sic\": \"7372\", \"tickers\": [\"MSFT\"], \"company_name\": \"MICROSOFT CORP\", \"source_filing_url\": \"https://api.polygon.io/v1/reference/sec/filings/0001564590-23-000733\", \"source_filing_file_url\": \"http://api.polygon.io/v1/reference/sec/filings/0001564590-23-000733/files/msft-10q_20221231_htm.xml\", \"financials\": {\"income_statement\": {\"revenues\": {\"value\": 52747000000.0, \"unit\": \"USD\", \"label\": \"Revenues\", \"order\": 100}, \"cost_of_revenue\": {\"value\": 17488000000.0, \"unit\": \"USD\", \"label\": \"Cost Of Revenue\", \"order\": 300}, \"net_income_loss\": {\"value\": 16425000000.0, \"unit\": \"USD\", \"label\": \"Net Income/Loss\", \"order\": 3200}, \"preferred_stock_dividends_and_other_adjustments\": {\"value\": 0, \"unit\": \"USD\", \"label\": \"Preferred Stock Dividends And Other Adjustments\", \"order\": 3900}, \"income_loss_from_continuing_operations_after_tax\": {\"value\": 16425000000.0, \"unit\": \"USD\", \"label\": \"Income/Loss From Continuing Operations After Tax\", \"order\": 1400}, \"research_and_development\": {\"value\": 6844000000.0, \"unit\": \"USD\", \"label\": \"Research and Development\", \"order\": 1030}, \"gross_profit\": {\"value\": 35259000000.0, \"unit\": \"USD\", \"label\": \"Gross Profit\", \"order\": 800}, \"income_tax_expense_benefit\": {\"value\": 3914000000.0, \"unit\": \"USD\", \"label\": \"Income Tax Expense/Benefit\", \"order\": 2200}, \"basic_earnings_per_share\": {\"value\": 2.2, \"unit\": \"USD / shares\", \"label\": \"Basic Earnings Per Share\", \"order\": 4200}, \"operating_expenses\": {\"value\": 14860000000.0, \"unit\": \"USD\", \"label\": \"Operating Expenses\", \"order\": 1000}, \"costs_and_expenses\": {\"value\": 32408000000.0, \"unit\": \"USD\", \"label\": \"Costs And Expenses\", \"order\": 600}, \"operating_income_loss\": {\"value\": 20399000000.0, \"unit\": \"USD\", \"label\": \"Operating Income/Loss\", \"order\": 1100}, \"diluted_average_shares\": {\"value\": 7473000000.0, \"unit\": \"shares\", \"label\": \"Diluted Average Shares\", \"order\": 4500}, \"net_income_loss_attributable_to_parent\": {\"value\": 16425000000.0, \"unit\": \"USD\", \"label\": \"Net Income/Loss Attributable To Parent\", \"order\": 3500}, \"diluted_earnings_per_share\": {\"value\": 2.2, \"unit\": \"USD / shares\", \"label\": \"Diluted Earnings Per Share\", \"order\": 4300}, \"net_income_loss_available_to_common_stockholders_basic\": {\"value\": 16425000000.0, \"unit\": \"USD\", \"label\": \"Net Income/Loss Available To Common Stockholders, Basic\", \"order\": 3700}, \"participating_securities_distributed_and_undistributed_earnings_loss_basic\": {\"value\": 0, \"unit\": \"USD\", \"label\": \"Participating Securities, Distributed And Undistributed Earnings/Loss, Basic\", \"order\": 3800}, \"basic_average_shares\": {\"value\": 7451000000.0, \"unit\": \"shares\", \"label\": \"Basic Average Shares\", \"order\": 4400}, \"income_loss_from_continuing_operations_before_tax\": {\"value\": 20339000000.0, \"unit\": \"USD\", \"label\": \"Income/Loss From Continuing Operations Before Tax\", \"order\": 1500}, \"nonoperating_income_loss\": {\"value\": -60000000.0, \"unit\": \"USD\", \"label\": \"Nonoperating Income/Loss\", \"order\": 900}, \"interest_expense_operating\": {\"value\": 490000000.0, \"unit\": \"USD\", \"label\": \"Interest Expense, Operating\", \"order\": 2700}, \"income_tax_expense_benefit_deferred\": {\"value\": -1305000000.0, \"unit\": \"USD\", \"label\": \"Income Tax Expense/Benefit, Deferred\", \"order\": 2400}, \"benefits_costs_expenses\": {\"value\": 32408000000.0, \"unit\": \"USD\", \"label\": \"Benefits Costs and Expenses\", \"order\": 200}, \"net_income_loss_attributable_to_noncontrolling_interest\": {\"value\": 0, \"unit\": \"USD\", \"label\": \"Net Income/Loss Attributable To Noncontrolling Interest\", \"order\": 3300}, \"other_operating_expenses\": {\"value\": 8016000000.0, \"unit\": \"USD\", \"label\": \"Other Operating Expenses\", \"order\": 1040}}, \"balance_sheet\": {\"current_assets\": {\"value\": 157823000000.0, \"unit\": \"USD\", \"label\": \"Current Assets\", \"order\": 200}, \"current_liabilities\": {\"value\": 81718000000.0, \"unit\": \"USD\", \"label\": \"Current Liabilities\", \"order\": 700}, \"cash\": {\"value\": 99508000000.0, \"unit\": \"USD\", \"label\": \"Cash\", \"order\": 210}, \"other_current_assets\": {\"value\": 55335000000.0, \"unit\": \"USD\", \"label\": \"Other Current Assets\", \"order\": 250}, \"equity\": {\"value\": 183136000000.0, \"unit\": \"USD\", \"label\": \"Equity\", \"order\": 1400}, \"wages\": {\"value\": 9030000000.0, \"unit\": \"USD\", \"label\": \"Wages\", \"order\": 730}, \"noncurrent_assets\": {\"value\": 206729000000.0, \"unit\": \"USD\", \"label\": \"Noncurrent Assets\", \"order\": 300}, \"other_current_liabilities\": {\"value\": 57334000000.0, \"unit\": \"USD\", \"label\": \"Other Current Liabilities\", \"order\": 740}, \"long_term_debt\": {\"value\": 48116000000.0, \"unit\": \"USD\", \"label\": \"Long-term Debt\", \"order\": 810}, \"equity_attributable_to_parent\": {\"value\": 183136000000.0, \"unit\": \"USD\", \"label\": \"Equity Attributable To Parent\", \"order\": 1600}, \"noncurrent_liabilities\": {\"value\": 99698000000.0, \"unit\": \"USD\", \"label\": \"Noncurrent Liabilities\", \"order\": 800}, \"liabilities\": {\"value\": 181416000000.0, \"unit\": \"USD\", \"label\": \"Liabilities\", \"order\": 600}, \"other_noncurrent_liabilities\": {\"value\": 51582000000.0, \"unit\": \"USD\", \"label\": \"Other Non-current Liabilities\", \"order\": 820}, \"other_noncurrent_assets\": {\"value\": 123974000000.0, \"unit\": \"USD\", \"label\": \"Other Non-current Assets\", \"order\": 350}, \"inventory\": {\"value\": 2980000000.0, \"unit\": \"USD\", \"label\": \"Inventory\", \"order\": 230}, \"equity_attributable_to_noncontrolling_interest\": {\"value\": 0, \"unit\": \"USD\", \"label\": \"Equity Attributable To Noncontrolling Interest\", \"order\": 1500}, \"assets\": {\"value\": 364552000000.0, \"unit\": \"USD\", \"label\": \"Assets\", \"order\": 100}, \"fixed_assets\": {\"value\": 82755000000.0, \"unit\": \"USD\", \"label\": \"Fixed Assets\", \"order\": 320}, \"liabilities_and_equity\": {\"value\": 364552000000.0, \"unit\": \"USD\", \"label\": \"Liabilities And Equity\", \"order\": 1900}, \"accounts_payable\": {\"value\": 15354000000.0, \"unit\": \"USD\", \"label\": \"Accounts Payable\", \"order\": 710}}, \"cash_flow_statement\": {\"net_cash_flow_from_financing_activities_continuing\": {\"value\": -11349000000.0, \"unit\": \"USD\", \"label\": \"Net Cash Flow From Financing Activities, Continuing\", \"order\": 800}, \"net_cash_flow_from_operating_activities\": {\"value\": 11173000000.0, \"unit\": \"USD\", \"label\": \"Net Cash Flow From Operating Activities\", \"order\": 100}, \"net_cash_flow_from_financing_activities\": {\"value\": -11349000000.0, \"unit\": \"USD\", \"label\": \"Net Cash Flow From Financing Activities\", \"order\": 700}, \"net_cash_flow_continuing\": {\"value\": -7326000000.0, \"unit\": \"USD\", \"label\": \"Net Cash Flow, Continuing\", \"order\": 1200}, \"net_cash_flow_from_operating_activities_continuing\": {\"value\": 11173000000.0, \"unit\": \"USD\", \"label\": \"Net Cash Flow From Operating Activities, Continuing\", \"order\": 200}, \"net_cash_flow_from_investing_activities\": {\"value\": -7150000000.0, \"unit\": \"USD\", \"label\": \"Net Cash Flow From Investing Activities\", \"order\": 400}, \"net_cash_flow\": {\"value\": -7326000000.0, \"unit\": \"USD\", \"label\": \"Net Cash Flow\", \"order\": 1100}, \"net_cash_flow_from_investing_activities_continuing\": {\"value\": -7150000000.0, \"unit\": \"USD\", \"label\": \"Net Cash Flow From Investing Activities, Continuing\", \"order\": 500}}, \"comprehensive_income\": {\"comprehensive_income_loss\": {\"value\": 17311000000.0, \"unit\": \"USD\", \"label\": \"Comprehensive Income/Loss\", \"order\": 100}, \"other_comprehensive_income_loss_attributable_to_parent\": {\"value\": 886000000.0, \"unit\": \"USD\", \"label\": \"Other Comprehensive Income/Loss Attributable To Parent\", \"order\": 600}, \"comprehensive_income_loss_attributable_to_noncontrolling_interest\": {\"value\": 0, \"unit\": \"USD\", \"label\": \"Comprehensive Income/Loss Attributable To Noncontrolling Interest\", \"order\": 200}, \"comprehensive_income_loss_attributable_to_parent\": {\"value\": 17311000000.0, \"unit\": \"USD\", \"label\": \"Comprehensive Income/Loss Attributable To Parent\", \"order\": 300}, \"other_comprehensive_income_loss\": {\"value\": 17311000000.0, \"unit\": \"USD\", \"label\": \"Other Comprehensive Income/Loss\", \"order\": 400}}}}, {\"start_date\": \"2022-07-01\", \"end_date\": \"2022-09-30\", \"filing_date\": \"2022-10-25\", \"timeframe\": \"quarterly\", \"fiscal_period\": \"Q1\", \"fiscal_year\": \"2023\", \"cik\": \"0000789019\", \"sic\": \"7372\", \"tickers\": [\"MSFT\"], \"company_name\": \"MICROSOFT CORP\", \"source_filing_url\": \"https://api.polygon.io/v1/reference/sec/filings/0001564590-22-035087\", \"source_filing_file_url\": \"http://api.polygon.io/v1/reference/sec/filings/0001564590-22-035087/files/msft-10q_20220930_htm.xml\", \"financials\": {\"income_statement\": {\"revenues\": {\"value\": 50122000000.0, \"unit\": \"USD\", \"label\": \"Revenues\", \"order\": 100}, \"benefits_costs_expenses\": {\"value\": 28550000000.0, \"unit\": \"USD\", \"label\": \"Benefits Costs and Expenses\", \"order\": 200}, \"diluted_average_shares\": {\"value\": 7485000000.0, \"unit\": \"shares\", \"label\": \"Diluted Average Shares\", \"order\": 4500}, \"income_tax_expense_benefit_deferred\": {\"value\": -1191000000.0, \"unit\": \"USD\", \"label\": \"Income Tax Expense/Benefit, Deferred\", \"order\": 2400}, \"nonoperating_income_loss\": {\"value\": 54000000.0, \"unit\": \"USD\", \"label\": \"Nonoperating Income/Loss\", \"order\": 900}, \"net_income_loss_available_to_common_stockholders_basic\": {\"value\": 17556000000.0, \"unit\": \"USD\", \"label\": \"Net Income/Loss Available To Common Stockholders, Basic\", \"order\": 3700}, \"research_and_development\": {\"value\": 6628000000.0, \"unit\": \"USD\", \"label\": \"Research and Development\", \"order\": 1030}, \"interest_expense_operating\": {\"value\": 500000000.0, \"unit\": \"USD\", \"label\": \"Interest Expense, Operating\", \"order\": 2700}, \"basic_earnings_per_share\": {\"value\": 2.35, \"unit\": \"USD / shares\", \"label\": \"Basic Earnings Per Share\", \"order\": 4200}, \"operating_expenses\": {\"value\": 13152000000.0, \"unit\": \"USD\", \"label\": \"Operating Expenses\", \"order\": 1000}, \"net_income_loss_attributable_to_noncontrolling_interest\": {\"value\": 0, \"unit\": \"USD\", \"label\": \"Net Income/Loss Attributable To Noncontrolling Interest\", \"order\": 3300}, \"income_loss_from_continuing_operations_after_tax\": {\"value\": 17556000000.0, \"unit\": \"USD\", \"label\": \"Income/Loss From Continuing Operations After Tax\", \"order\": 1400}, \"basic_average_shares\": {\"value\": 7457000000.0, \"unit\": \"shares\", \"label\": \"Basic Average Shares\", \"order\": 4400}, \"gross_profit\": {\"value\": 34670000000.0, \"unit\": \"USD\", \"label\": \"Gross Profit\", \"order\": 800}, \"costs_and_expenses\": {\"value\": 28550000000.0, \"unit\": \"USD\", \"label\": \"Costs And Expenses\", \"order\": 600}, \"other_operating_expenses\": {\"value\": 6524000000.0, \"unit\": \"USD\", \"label\": \"Other Operating Expenses\", \"order\": 1040}, \"cost_of_revenue\": {\"value\": 15452000000.0, \"unit\": \"USD\", \"label\": \"Cost Of Revenue\", \"order\": 300}, \"net_income_loss\": {\"value\": 17556000000.0, \"unit\": \"USD\", \"label\": \"Net Income/Loss\", \"order\": 3200}, \"net_income_loss_attributable_to_parent\": {\"value\": 17556000000.0, \"unit\": \"USD\", \"label\": \"Net Income/Loss Attributable To Parent\", \"order\": 3500}, \"income_tax_expense_benefit\": {\"value\": 4016000000.0, \"unit\": \"USD\", \"label\": \"Income Tax Expense/Benefit\", \"order\": 2200}, \"participating_securities_distributed_and_undistributed_earnings_loss_basic\": {\"value\": 0, \"unit\": \"USD\", \"label\": \"Participating Securities, Distributed And Undistributed Earnings/Loss, Basic\", \"order\": 3800}, \"preferred_stock_dividends_and_other_adjustments\": {\"value\": 0, \"unit\": \"USD\", \"label\": \"Preferred Stock Dividends And Other Adjustments\", \"order\": 3900}, \"operating_income_loss\": {\"value\": 21518000000.0, \"unit\": \"USD\", \"label\": \"Operating Income/Loss\", \"order\": 1100}, \"diluted_earnings_per_share\": {\"value\": 2.35, \"unit\": \"USD / shares\", \"label\": \"Diluted Earnings Per Share\", \"order\": 4300}, \"income_loss_from_continuing_operations_before_tax\": {\"value\": 21572000000.0, \"unit\": \"USD\", \"label\": \"Income/Loss From Continuing Operations Before Tax\", \"order\": 1500}}, \"balance_sheet\": {\"fixed_assets\": {\"value\": 77037000000.0, \"unit\": \"USD\", \"label\": \"Fixed Assets\", \"order\": 320}, \"liabilities_and_equity\": {\"value\": 359784000000.0, \"unit\": \"USD\", \"label\": \"Liabilities And Equity\", \"order\": 1900}, \"current_liabilities\": {\"value\": 87389000000.0, \"unit\": \"USD\", \"label\": \"Current Liabilities\", \"order\": 700}, \"long_term_debt\": {\"value\": 48622000000.0, \"unit\": \"USD\", \"label\": \"Long-term Debt\", \"order\": 810}, \"wages\": {\"value\": 7405000000.0, \"unit\": \"USD\", \"label\": \"Wages\", \"order\": 730}, \"other_current_assets\": {\"value\": 49282000000.0, \"unit\": \"USD\", \"label\": \"Other Current Assets\", \"order\": 250}, \"equity\": {\"value\": 173566000000.0, \"unit\": \"USD\", \"label\": \"Equity\", \"order\": 1400}, \"assets\": {\"value\": 359784000000.0, \"unit\": \"USD\", \"label\": \"Assets\", \"order\": 100}, \"equity_attributable_to_noncontrolling_interest\": {\"value\": 0, \"unit\": \"USD\", \"label\": \"Equity Attributable To Noncontrolling Interest\", \"order\": 1500}, \"equity_attributable_to_parent\": {\"value\": 173566000000.0, \"unit\": \"USD\", \"label\": \"Equity Attributable To Parent\", \"order\": 1600}, \"liabilities\": {\"value\": 186218000000.0, \"unit\": \"USD\", \"label\": \"Liabilities\", \"order\": 600}, \"noncurrent_liabilities\": {\"value\": 98829000000.0, \"unit\": \"USD\", \"label\": \"Noncurrent Liabilities\", \"order\": 800}, \"inventory\": {\"value\": 4268000000.0, \"unit\": \"USD\", \"label\": \"Inventory\", \"order\": 230}, \"noncurrent_assets\": {\"value\": 198972000000.0, \"unit\": \"USD\", \"label\": \"Noncurrent Assets\", \"order\": 300}, \"other_noncurrent_assets\": {\"value\": 121935000000.0, \"unit\": \"USD\", \"label\": \"Other Non-current Assets\", \"order\": 350}, \"accounts_payable\": {\"value\": 16609000000.0, \"unit\": \"USD\", \"label\": \"Accounts Payable\", \"order\": 710}, \"other_noncurrent_liabilities\": {\"value\": 50207000000.0, \"unit\": \"USD\", \"label\": \"Other Non-current Liabilities\", \"order\": 820}, \"current_assets\": {\"value\": 160812000000.0, \"unit\": \"USD\", \"label\": \"Current Assets\", \"order\": 200}, \"cash\": {\"value\": 107262000000.0, \"unit\": \"USD\", \"label\": \"Cash\", \"order\": 210}, \"other_current_liabilities\": {\"value\": 63375000000.0, \"unit\": \"USD\", \"label\": \"Other Current Liabilities\", \"order\": 740}}, \"cash_flow_statement\": {\"net_cash_flow_from_investing_activities_continuing\": {\"value\": -3132000000.0, \"unit\": \"USD\", \"label\": \"Net Cash Flow From Investing Activities, Continuing\", \"order\": 500}, \"net_cash_flow_from_operating_activities_continuing\": {\"value\": 23198000000.0, \"unit\": \"USD\", \"label\": \"Net Cash Flow From Operating Activities, Continuing\", \"order\": 200}, \"net_cash_flow_continuing\": {\"value\": 9183000000.0, \"unit\": \"USD\", \"label\": \"Net Cash Flow, Continuing\", \"order\": 1200}, \"net_cash_flow_from_operating_activities\": {\"value\": 23198000000.0, \"unit\": \"USD\", \"label\": \"Net Cash Flow From Operating Activities\", \"order\": 100}, \"net_cash_flow\": {\"value\": 9183000000.0, \"unit\": \"USD\", \"label\": \"Net Cash Flow\", \"order\": 1100}, \"net_cash_flow_from_investing_activities\": {\"value\": -3132000000.0, \"unit\": \"USD\", \"label\": \"Net Cash Flow From Investing Activities\", \"order\": 400}, \"net_cash_flow_from_financing_activities\": {\"value\": -10883000000.0, \"unit\": \"USD\", \"label\": \"Net Cash Flow From Financing Activities\", \"order\": 700}, \"net_cash_flow_from_financing_activities_continuing\": {\"value\": -10883000000.0, \"unit\": \"USD\", \"label\": \"Net Cash Flow From Financing Activities, Continuing\", \"order\": 800}}, \"comprehensive_income\": {\"comprehensive_income_loss_attributable_to_noncontrolling_interest\": {\"value\": 0, \"unit\": \"USD\", \"label\": \"Comprehensive Income/Loss Attributable To Noncontrolling Interest\", \"order\": 200}, \"comprehensive_income_loss\": {\"value\": 14891000000.0, \"unit\": \"USD\", \"label\": \"Comprehensive Income/Loss\", \"order\": 100}, \"comprehensive_income_loss_attributable_to_parent\": {\"value\": 14891000000.0, \"unit\": \"USD\", \"label\": \"Comprehensive Income/Loss Attributable To Parent\", \"order\": 300}, \"other_comprehensive_income_loss_attributable_to_parent\": {\"value\": -2665000000.0, \"unit\": \"USD\", \"label\": \"Other Comprehensive Income/Loss Attributable To Parent\", \"order\": 600}, \"other_comprehensive_income_loss\": {\"value\": 14891000000.0, \"unit\": \"USD\", \"label\": \"Other Comprehensive Income/Loss\", \"order\": 400}}}}, {\"start_date\": \"2022-04-01\", \"end_date\": \"2022-06-30\", \"timeframe\": \"quarterly\", \"fiscal_period\": \"Q4\", \"fiscal_year\": \"2022\", \"cik\": \"0000789019\", \"sic\": \"7372\", \"tickers\": [\"MSFT\"], \"company_name\": \"MICROSOFT CORP\", \"financials\": {\"cash_flow_statement\": {\"net_cash_flow\": {\"value\": 1574000000.0, \"unit\": \"USD\", \"label\": \"Net Cash Flow\", \"order\": 1100}, \"net_cash_flow_from_investing_activities_continuing\": {\"value\": -9729000000.0, \"unit\": \"USD\", \"label\": \"Net Cash Flow From Investing Activities, Continuing\", \"order\": 500}, \"net_cash_flow_from_operating_activities\": {\"value\": 24629000000.0, \"unit\": \"USD\", \"label\": \"Net Cash Flow From Operating Activities\", \"order\": 100}, \"net_cash_flow_continuing\": {\"value\": 1631000000.0, \"unit\": \"USD\", \"label\": \"Net Cash Flow, Continuing\", \"order\": 1200}, \"net_cash_flow_from_financing_activities_continuing\": {\"value\": -13269000000.0, \"unit\": \"USD\", \"label\": \"Net Cash Flow From Financing Activities, Continuing\", \"order\": 800}, \"net_cash_flow_from_investing_activities\": {\"value\": -9729000000.0, \"unit\": \"USD\", \"label\": \"Net Cash Flow From Investing Activities\", \"order\": 400}, \"net_cash_flow_from_operating_activities_continuing\": {\"value\": 24629000000.0, \"unit\": \"USD\", \"label\": \"Net Cash Flow From Operating Activities, Continuing\", \"order\": 200}, \"net_cash_flow_from_financing_activities\": {\"value\": -13269000000.0, \"unit\": \"USD\", \"label\": \"Net Cash Flow From Financing Activities\", \"order\": 700}}, \"comprehensive_income\": {\"other_comprehensive_income_loss\": {\"value\": 14538000000.0, \"unit\": \"USD\", \"label\": \"Other Comprehensive Income/Loss\", \"order\": 400}, \"comprehensive_income_loss_attributable_to_parent\": {\"value\": 14538000000.0, \"unit\": \"USD\", \"label\": \"Comprehensive Income/Loss Attributable To Parent\", \"order\": 300}, \"other_comprehensive_income_loss_attributable_to_parent\": {\"value\": -2202000000.0, \"unit\": \"USD\", \"label\": \"Other Comprehensive Income/Loss Attributable To Parent\", \"order\": 600}, \"comprehensive_income_loss\": {\"value\": 14538000000.0, \"unit\": \"USD\", \"label\": \"Comprehensive Income/Loss\", \"order\": 100}, \"comprehensive_income_loss_attributable_to_noncontrolling_interest\": {\"value\": 0, \"unit\": \"USD\", \"label\": \"Comprehensive Income/Loss Attributable To Noncontrolling Interest\", \"order\": 200}}, \"balance_sheet\": {\"noncurrent_assets\": {\"value\": 195156000000.0, \"unit\": \"USD\", \"label\": \"Noncurrent Assets\", \"order\": 300}, \"wages\": {\"value\": 10661000000.0, \"unit\": \"USD\", \"label\": \"Wages\", \"order\": 730}, \"equity\": {\"value\": 166542000000.0, \"unit\": \"USD\", \"label\": \"Equity\", \"order\": 1400}, \"other_current_assets\": {\"value\": 61185000000.0, \"unit\": \"USD\", \"label\": \"Other Current Assets\", \"order\": 250}, \"inventory\": {\"value\": 3742000000.0, \"unit\": \"USD\", \"label\": \"Inventory\", \"order\": 230}, \"cash\": {\"value\": 104757000000.0, \"unit\": \"USD\", \"label\": \"Cash\", \"order\": 210}, \"liabilities\": {\"value\": 198298000000.0, \"unit\": \"USD\", \"label\": \"Liabilities\", \"order\": 600}, \"current_assets\": {\"value\": 169684000000.0, \"unit\": \"USD\", \"label\": \"Current Assets\", \"order\": 200}, \"long_term_debt\": {\"value\": 49781000000.0, \"unit\": \"USD\", \"label\": \"Long-term Debt\", \"order\": 810}, \"other_noncurrent_liabilities\": {\"value\": 53435000000.0, \"unit\": \"USD\", \"label\": \"Other Non-current Liabilities\", \"order\": 820}, \"equity_attributable_to_parent\": {\"value\": 166542000000.0, \"unit\": \"USD\", \"label\": \"Equity Attributable To Parent\", \"order\": 1600}, \"accounts_payable\": {\"value\": 19000000000.0, \"unit\": \"USD\", \"label\": \"Accounts Payable\", \"order\": 710}, \"fixed_assets\": {\"value\": 74398000000.0, \"unit\": \"USD\", \"label\": \"Fixed Assets\", \"order\": 320}, \"liabilities_and_equity\": {\"value\": 364840000000.0, \"unit\": \"USD\", \"label\": \"Liabilities And Equity\", \"order\": 1900}, \"current_liabilities\": {\"value\": 95082000000.0, \"unit\": \"USD\", \"label\": \"Current Liabilities\", \"order\": 700}, \"assets\": {\"value\": 364840000000.0, \"unit\": \"USD\", \"label\": \"Assets\", \"order\": 100}, \"other_current_liabilities\": {\"value\": 65421000000.0, \"unit\": \"USD\", \"label\": \"Other Current Liabilities\", \"order\": 740}, \"noncurrent_liabilities\": {\"value\": 103216000000.0, \"unit\": \"USD\", \"label\": \"Noncurrent Liabilities\", \"order\": 800}, \"other_noncurrent_assets\": {\"value\": 120758000000.0, \"unit\": \"USD\", \"label\": \"Other Non-current Assets\", \"order\": 350}, \"equity_attributable_to_noncontrolling_interest\": {\"value\": 0, \"unit\": \"USD\", \"label\": \"Equity Attributable To Noncontrolling Interest\", \"order\": 1500}}, \"income_statement\": {\"gross_profit\": {\"value\": 35436000000.0, \"unit\": \"USD\", \"label\": \"Gross Profit\", \"order\": 800}, \"revenues\": {\"value\": 51865000000.0, \"unit\": \"USD\", \"label\": \"Revenues\", \"order\": 100}, \"preferred_stock_dividends_and_other_adjustments\": {\"value\": 0, \"unit\": \"USD\", \"label\": \"Preferred Stock Dividends And Other Adjustments\", \"order\": 3900}, \"net_income_loss_available_to_common_stockholders_basic\": {\"value\": 16740000000.0, \"unit\": \"USD\", \"label\": \"Net Income/Loss Available To Common Stockholders, Basic\", \"order\": 3700}, \"cost_of_revenue\": {\"value\": 16429000000.0, \"unit\": \"USD\", \"label\": \"Cost Of Revenue\", \"order\": 300}, \"research_and_development\": {\"value\": 6849000000.0, \"unit\": \"USD\", \"label\": \"Research and Development\", \"order\": 1030}, \"net_income_loss_attributable_to_noncontrolling_interest\": {\"value\": 0, \"unit\": \"USD\", \"label\": \"Net Income/Loss Attributable To Noncontrolling Interest\", \"order\": 3300}, \"income_tax_expense_benefit_deferred\": {\"value\": 283000000.0, \"unit\": \"USD\", \"label\": \"Income Tax Expense/Benefit, Deferred\", \"order\": 2400}, \"diluted_earnings_per_share\": {\"value\": 2.24, \"unit\": \"USD / shares\", \"label\": \"Diluted Earnings Per Share\", \"order\": 4300}, \"income_tax_expense_benefit\": {\"value\": 3747000000.0, \"unit\": \"USD\", \"label\": \"Income Tax Expense/Benefit\", \"order\": 2200}, \"net_income_loss\": {\"value\": 16740000000.0, \"unit\": \"USD\", \"label\": \"Net Income/Loss\", \"order\": 3200}, \"benefits_costs_expenses\": {\"value\": 31378000000.0, \"unit\": \"USD\", \"label\": \"Benefits Costs and Expenses\", \"order\": 200}, \"net_income_loss_attributable_to_parent\": {\"value\": 16740000000.0, \"unit\": \"USD\", \"label\": \"Net Income/Loss Attributable To Parent\", \"order\": 3500}, \"other_operating_expenses\": {\"value\": 8053000000.0, \"unit\": \"USD\", \"label\": \"Other Operating Expenses\", \"order\": 1040}, \"costs_and_expenses\": {\"value\": 31378000000.0, \"unit\": \"USD\", \"label\": \"Costs And Expenses\", \"order\": 600}, \"income_loss_from_continuing_operations_before_tax\": {\"value\": 20487000000.0, \"unit\": \"USD\", \"label\": \"Income/Loss From Continuing Operations Before Tax\", \"order\": 1500}, \"operating_expenses\": {\"value\": 14902000000.0, \"unit\": \"USD\", \"label\": \"Operating Expenses\", \"order\": 1000}, \"diluted_average_shares\": {\"value\": -12000000.0, \"unit\": \"shares\", \"label\": \"Diluted Average Shares\", \"order\": 4500}, \"interest_expense_operating\": {\"value\": 496000000.0, \"unit\": \"USD\", \"label\": \"Interest Expense, Operating\", \"order\": 2700}, \"income_loss_from_continuing_operations_after_tax\": {\"value\": 16740000000.0, \"unit\": \"USD\", \"label\": \"Income/Loss From Continuing Operations After Tax\", \"order\": 1400}, \"operating_income_loss\": {\"value\": 20534000000.0, \"unit\": \"USD\", \"label\": \"Operating Income/Loss\", \"order\": 1100}, \"nonoperating_income_loss\": {\"value\": -47000000.0, \"unit\": \"USD\", \"label\": \"Nonoperating Income/Loss\", \"order\": 900}, \"basic_earnings_per_share\": {\"value\": 2.2399999999999993, \"unit\": \"USD / shares\", \"label\": \"Basic Earnings Per Share\", \"order\": 4200}, \"participating_securities_distributed_and_undistributed_earnings_loss_basic\": {\"value\": 0, \"unit\": \"USD\", \"label\": \"Participating Securities, Distributed And Undistributed Earnings/Loss, Basic\", \"order\": 3800}, \"basic_average_shares\": {\"value\": -8000000.0, \"unit\": \"shares\", \"label\": \"Basic Average Shares\", \"order\": 4400}}}}]\u001b[0m\u001b[32;1m\u001b[1;3m\n",
      "{'tool_name': 'polygon_ticker_news', 'parameters': {'query': 'MSFT'}}\n",
      "\u001b[0m\u001b[36;1m\u001b[1;3m[{\"id\": \"v6XRrxdvp3pr4iPIKlIXFX_PuVvul9--ksqkJSt_DDM\", \"publisher\": {\"name\": \"The Motley Fool\", \"homepage_url\": \"https://www.fool.com/\", \"logo_url\": \"https://s3.polygon.io/public/assets/news/logos/themotleyfool.svg\", \"favicon_url\": \"https://s3.polygon.io/public/assets/news/favicons/themotleyfool.ico\"}, \"title\": \"Don't Buy the AI Hype: Avoid This Crashing Software Stock\", \"author\": \"newsfeedback@fool.com (Timothy Green)\", \"published_utc\": \"2024-06-05T09:35:00Z\", \"article_url\": \"https://www.fool.com/investing/2024/06/05/dont-buy-the-ai-hype-avoid-this-crashing-software/\", \"tickers\": [\"MDB\", \"MSFT\", \"GOOGL\", \"AMZN\", \"GOOG\"], \"image_url\": \"https://g.foolcdn.com/editorial/images/779496/gettyimages-1420039843-1.jpg\", \"description\": \"Not every company will benefit from AI.\", \"keywords\": [\"investing\"]}, {\"id\": \"LRm0iyjk820Z93tOuP7VdOevNpkzcDGs1xPWnu7k4uc\", \"publisher\": {\"name\": \"The Motley Fool\", \"homepage_url\": \"https://www.fool.com/\", \"logo_url\": \"https://s3.polygon.io/public/assets/news/logos/themotleyfool.svg\", \"favicon_url\": \"https://s3.polygon.io/public/assets/news/favicons/themotleyfool.ico\"}, \"title\": \"Billionaire Bill Gates Has 66% of His Portfolio Invested in 3 Brilliant Stocks\", \"author\": \"newsfeedback@fool.com (Trevor Jennewine)\", \"published_utc\": \"2024-06-05T09:12:00Z\", \"article_url\": \"https://www.fool.com/investing/2024/06/05/bill-gates-66-portfolio-invest-3-brilliant-stocks/\", \"tickers\": [\"MSFT\", \"BRK.A\", \"BRK.B\", \"WM\", \"MORN\"], \"image_url\": \"https://g.foolcdn.com/editorial/images/779535/strategy-1.jpg\", \"description\": \"The Bill and Melinda Gates Foundation Trust outperformed the S&P 500 over the last three years, with help from Microsoft, Berkshire Hathaway, and Waste Management.\", \"keywords\": [\"investing\"]}, {\"id\": \"ffcPA0rFF2F9rGzwKfPLFZcQcRERG5hHnCCcvxWUPOE\", \"publisher\": {\"name\": \"The Motley Fool\", \"homepage_url\": \"https://www.fool.com/\", \"logo_url\": \"https://s3.polygon.io/public/assets/news/logos/themotleyfool.svg\", \"favicon_url\": \"https://s3.polygon.io/public/assets/news/favicons/themotleyfool.ico\"}, \"title\": \"3 Top Cloud Software Growth Stocks That Are Too Cheap to Ignore\", \"author\": \"newsfeedback@fool.com (Daniel Foelber)\", \"published_utc\": \"2024-06-05T09:10:00Z\", \"article_url\": \"https://www.fool.com/investing/2024/06/05/3-top-cloud-software-growth-stocks-buy/\", \"tickers\": [\"ORCL\", \"CRM\", \"ADBE\", \"MSFT\", \"GOOGL\", \"AMZN\", \"GOOG\"], \"image_url\": \"https://g.foolcdn.com/editorial/images/779376/gettyimages-1131198259-1200x675-128554e.jpg\", \"description\": \"The sell-off in software stocks is a buying opportunity.\", \"keywords\": [\"investing\"]}, {\"id\": \"RviPBfohzvcKJCTqYmI9YkwMC0g02HfyofU-g1KAjX0\", \"publisher\": {\"name\": \"The Motley Fool\", \"homepage_url\": \"https://www.fool.com/\", \"logo_url\": \"https://s3.polygon.io/public/assets/news/logos/themotleyfool.svg\", \"favicon_url\": \"https://s3.polygon.io/public/assets/news/favicons/themotleyfool.ico\"}, \"title\": \"Billionaires Are Buying These 3 Artificial Intelligence (AI) Stocks, but Should You?\", \"author\": \"newsfeedback@fool.com (Robert Izquierdo)\", \"published_utc\": \"2024-06-05T07:45:00Z\", \"article_url\": \"https://www.fool.com/investing/2024/06/05/billionaires-are-buying-these-3-artificial-intelli/\", \"tickers\": [\"NVDA\", \"MSFT\", \"GOOGL\", \"INTC\", \"AMD\", \"GOOG\"], \"image_url\": \"https://g.foolcdn.com/editorial/images/778696/ai_robot_watching_stocks_rise-gettyimages-1389207041-1201x800-9b9f185.png\", \"description\": \"These companies are powerhouses in AI technology.\", \"keywords\": [\"investing\"]}, {\"id\": \"YwHaViD14d68zEt9I_PuWjNY5iIn3AcYHAIx9Hh85jo\", \"publisher\": {\"name\": \"Zacks Investment Research\", \"homepage_url\": \"https://www.zacks.com/\", \"logo_url\": \"https://s3.polygon.io/public/assets/news/logos/zacks.png\", \"favicon_url\": \"https://s3.polygon.io/public/assets/news/favicons/zacks.ico\"}, \"title\": \"Microsoft (MSFT) Exceeds Market Returns: Some Facts to Consider\", \"author\": \"Zacks Equity Research\", \"published_utc\": \"2024-06-04T21:45:21Z\", \"article_url\": \"https://www.zacks.com/stock/news/2283621/microsoft-msft-exceeds-market-returns-some-facts-to-consider\", \"tickers\": [\"MSFT\"], \"amp_url\": \"https://www.zacks.com/amp/stock/news/2283621/microsoft-msft-exceeds-market-returns-some-facts-to-consider\", \"image_url\": \"https://staticx-tuner.zacks.com/images/default_article_images/default43.jpg\", \"description\": \"Microsoft (MSFT) reachead $416.07 at the closing of the latest trading day, reflecting a +0.62% change compared to its last close.\"}, {\"id\": \"p1TtqwvgYrEH69Ntpc7jWCxYq9J9HNk_Sv7-ihoxM5k\", \"publisher\": {\"name\": \"Zacks Investment Research\", \"homepage_url\": \"https://www.zacks.com/\", \"logo_url\": \"https://s3.polygon.io/public/assets/news/logos/zacks.png\", \"favicon_url\": \"https://s3.polygon.io/public/assets/news/favicons/zacks.ico\"}, \"title\": \"Dropbox (DBX) is Trading Dirt-Cheap: Should You Buy the Stock?\", \"author\": \"Aniruddha Ganguly\", \"published_utc\": \"2024-06-04T19:00:00Z\", \"article_url\": \"https://www.zacks.com/stock/news/2283589/dropbox-dbx-is-trading-dirt-cheap-should-you-buy-the-stock\", \"tickers\": [\"MSFT\", \"NVDA\", \"DBX\"], \"amp_url\": \"https://www.zacks.com/amp/stock/news/2283589/dropbox-dbx-is-trading-dirt-cheap-should-you-buy-the-stock\", \"image_url\": \"https://staticx-tuner.zacks.com/images/default_article_images/default165.jpg\", \"description\": \"Dropbox's (DBX) cheap valuation and strong prospects, driven by an expanding AI-powered portfolio partnered with NVIDIA, make it an attractive pick.\"}, {\"id\": \"cLtqoaOjoa3jTjTtdzNT_oKcld1i5gPpRJyxjuRR8K8\", \"publisher\": {\"name\": \"Zacks Investment Research\", \"homepage_url\": \"https://www.zacks.com/\", \"logo_url\": \"https://s3.polygon.io/public/assets/news/logos/zacks.png\", \"favicon_url\": \"https://s3.polygon.io/public/assets/news/favicons/zacks.ico\"}, \"title\": \"Dropbox (DBX) is Trading Dirt-Cheap: Should You Buy the Stock?\", \"author\": \"Aniruddha Ganguly\", \"published_utc\": \"2024-06-04T19:00:00Z\", \"article_url\": \"https://www.zacks.com/stock/news/2283588/dropbox-dbx-is-trading-dirt-cheap-should-you-buy-the-stock\", \"tickers\": [\"MSFT\", \"NVDA\", \"DBX\"], \"amp_url\": \"https://www.zacks.com/amp/stock/news/2283588/dropbox-dbx-is-trading-dirt-cheap-should-you-buy-the-stock\", \"image_url\": \"https://staticx-tuner.zacks.com/images/articles/main/fc/854.jpg\", \"description\": \"Dropbox's (DBX) cheap valuation and strong prospects, driven by an expanding AI-powered portfolio, as well as a solid partner base that includes the likes of NVIDIA, make it an attractive pick.\"}, {\"id\": \"kTRguMi0dN6QhF848jpYZMlsB_soxzihnrdvbpJ54IQ\", \"publisher\": {\"name\": \"Zacks Investment Research\", \"homepage_url\": \"https://www.zacks.com/\", \"logo_url\": \"https://s3.polygon.io/public/assets/news/logos/zacks.png\", \"favicon_url\": \"https://s3.polygon.io/public/assets/news/favicons/zacks.ico\"}, \"title\": \"Alphabet (GOOGL) Rides on Cloud Momentum Led by Gen AI Strength\", \"author\": \"Zacks Equity Research\", \"published_utc\": \"2024-06-04T16:16:00Z\", \"article_url\": \"https://www.zacks.com/stock/news/2283500/alphabet-googl-rides-on-cloud-momentum-led-by-gen-ai-strength\", \"tickers\": [\"AMZN\", \"MSFT\", \"GOOGL\", \"VSCO\"], \"amp_url\": \"https://www.zacks.com/amp/stock/news/2283500/alphabet-googl-rides-on-cloud-momentum-led-by-gen-ai-strength\", \"image_url\": \"https://staticx-tuner.zacks.com/images/articles/main/aa/397.jpg\", \"description\": \"Alphabet's (GOOGL) Google Cloud witnesses strong customer momentum due to growing generative AI capabilities.\"}, {\"id\": \"wJCBTaX-U6BwNHvMuyQ6Cgyqb0geVrsUBNru_ywQoK8\", \"publisher\": {\"name\": \"Zacks Investment Research\", \"homepage_url\": \"https://www.zacks.com/\", \"logo_url\": \"https://s3.polygon.io/public/assets/news/logos/zacks.png\", \"favicon_url\": \"https://s3.polygon.io/public/assets/news/favicons/zacks.ico\"}, \"title\": \"Snowflake (SNOW) Partners NVIDIA to Extend AI Footprint\", \"author\": \"Zacks Equity Research\", \"published_utc\": \"2024-06-04T15:54:00Z\", \"article_url\": \"https://www.zacks.com/stock/news/2283472/snowflake-snow-partners-nvidia-to-extend-ai-footprint\", \"tickers\": [\"AMZN\", \"MSFT\", \"NVDA\", \"SNOW\"], \"amp_url\": \"https://www.zacks.com/amp/stock/news/2283472/snowflake-snow-partners-nvidia-to-extend-ai-footprint\", \"image_url\": \"https://staticx-tuner.zacks.com/images/articles/main/43/1261.jpg\", \"description\": \"Snowflake (SNOW) is partnering with NVIDIA, which will help customers and partners build customized AI data applications in its platform powered by NVIDIA AI.\"}, {\"id\": \"pFDbKvo_wa91AyD6RPUg6Y6q9wFe1zGY4IBcJiLVdPg\", \"publisher\": {\"name\": \"Zacks Investment Research\", \"homepage_url\": \"https://www.zacks.com/\", \"logo_url\": \"https://s3.polygon.io/public/assets/news/logos/zacks.png\", \"favicon_url\": \"https://s3.polygon.io/public/assets/news/favicons/zacks.ico\"}, \"title\": \"Microsoft (MSFT) Forges Billion-Dollar AI Deal With Hitachi\", \"author\": \"Zacks Equity Research\", \"published_utc\": \"2024-06-04T14:37:00Z\", \"article_url\": \"https://www.zacks.com/stock/news/2283441/microsoft-msft-forges-billion-dollar-ai-deal-with-hitachi\", \"tickers\": [\"AMZN\", \"MSFT\", \"NVDA\", \"META\"], \"amp_url\": \"https://www.zacks.com/amp/stock/news/2283441/microsoft-msft-forges-billion-dollar-ai-deal-with-hitachi\", \"image_url\": \"https://staticx-tuner.zacks.com/images/articles/main/75/44765.jpg\", \"description\": \"Microsoft (MSFT) announces a multibillion-dollar collaboration with Hitachi to accelerate the adoption of generative artificial intelligence.\"}]\u001b[0m\u001b[32;1m\u001b[1;3m\n",
      "{'tool_name': 'yf_get_ticker_history', 'parameters': {'ticker_symbol': 'MSFT', 'period': '1y'}}\n",
      "\u001b[0m\u001b[36;1m\u001b[1;3m                                 Open        High         Low       Close  \\\n",
      "Date                                                                        \n",
      "2023-06-05 00:00:00-04:00  332.618046  335.932117  332.062395  333.332458   \n",
      "2023-06-06 00:00:00-04:00  332.727152  332.766850  329.591707  331.089966   \n",
      "2023-06-07 00:00:00-04:00  329.075732  331.893684  319.996760  320.869934   \n",
      "2023-06-08 00:00:00-04:00  321.425590  324.104645  320.840173  322.735352   \n",
      "2023-06-09 00:00:00-04:00  322.467432  327.428623  321.891948  324.253479   \n",
      "...                               ...         ...         ...         ...   \n",
      "2024-05-29 00:00:00-04:00  425.690002  430.940002  425.690002  429.170013   \n",
      "2024-05-30 00:00:00-04:00  424.299988  424.299988  414.239990  414.670013   \n",
      "2024-05-31 00:00:00-04:00  416.750000  416.750000  404.510010  415.130005   \n",
      "2024-06-03 00:00:00-04:00  415.529999  416.429993  408.920013  413.519989   \n",
      "2024-06-04 00:00:00-04:00  412.429993  416.440002  409.679993  416.070007   \n",
      "\n",
      "                             Volume  Dividends  Stock Splits  \n",
      "Date                                                          \n",
      "2023-06-05 00:00:00-04:00  21307100        0.0           0.0  \n",
      "2023-06-06 00:00:00-04:00  20396200        0.0           0.0  \n",
      "2023-06-07 00:00:00-04:00  40717100        0.0           0.0  \n",
      "2023-06-08 00:00:00-04:00  23277700        0.0           0.0  \n",
      "2023-06-09 00:00:00-04:00  22514900        0.0           0.0  \n",
      "...                             ...        ...           ...  \n",
      "2024-05-29 00:00:00-04:00  15517100        0.0           0.0  \n",
      "2024-05-30 00:00:00-04:00  28424800        0.0           0.0  \n",
      "2024-05-31 00:00:00-04:00  47995300        0.0           0.0  \n",
      "2024-06-03 00:00:00-04:00  17484700        0.0           0.0  \n",
      "2024-06-04 00:00:00-04:00  13573800        0.0           0.0  \n",
      "\n",
      "[252 rows x 7 columns]\u001b[0m\u001b[32;1m\u001b[1;3m\n",
      "{'tool_name': 'yf_get_ticker_info', 'parameters': {'ticker_symbol': 'MSFT'}}\n",
      "\u001b[0m\u001b[33;1m\u001b[1;3m{'address1': 'One Microsoft Way', 'city': 'Redmond', 'state': 'WA', 'zip': '98052-6399', 'country': 'United States', 'phone': '425 882 8080', 'website': 'https://www.microsoft.com', 'industry': 'Software - Infrastructure', 'industryKey': 'software-infrastructure', 'industryDisp': 'Software - Infrastructure', 'sector': 'Technology', 'sectorKey': 'technology', 'sectorDisp': 'Technology', 'longBusinessSummary': 'Microsoft Corporation develops and supports software, services, devices and solutions worldwide. The Productivity and Business Processes segment offers office, exchange, SharePoint, Microsoft Teams, office 365 Security and Compliance, Microsoft viva, and Microsoft 365 copilot; and office consumer services, such as Microsoft 365 consumer subscriptions, Office licensed on-premises, and other office services. This segment also provides LinkedIn; and dynamics business solutions, including Dynamics 365, a set of intelligent, cloud-based applications across ERP, CRM, power apps, and power automate; and on-premises ERP and CRM applications. The Intelligent Cloud segment offers server products and cloud services, such as azure and other cloud services; SQL and windows server, visual studio, system center, and related client access licenses, as well as nuance and GitHub; and enterprise services including enterprise support services, industry solutions, and nuance professional services. The More Personal Computing segment offers Windows, including windows OEM licensing and other non-volume licensing of the Windows operating system; Windows commercial comprising volume licensing of the Windows operating system, windows cloud services, and other Windows commercial offerings; patent licensing; and windows Internet of Things; and devices, such as surface, HoloLens, and PC accessories. Additionally, this segment provides gaming, which includes Xbox hardware and content, and first- and third-party content; Xbox game pass and other subscriptions, cloud gaming, advertising, third-party disc royalties, and other cloud services; and search and news advertising, which includes Bing, Microsoft News and Edge, and third-party affiliates. The company sells its products through OEMs, distributors, and resellers; and directly through digital marketplaces, online, and retail stores. The company was founded in 1975 and is headquartered in Redmond, Washington.', 'fullTimeEmployees': 221000, 'companyOfficers': [{'maxAge': 1, 'name': 'Mr. Satya  Nadella', 'age': 56, 'title': 'Chairman & CEO', 'yearBorn': 1967, 'fiscalYear': 2023, 'totalPay': 9276400, 'exercisedValue': 0, 'unexercisedValue': 0}, {'maxAge': 1, 'name': 'Mr. Bradford L. Smith LCA', 'age': 64, 'title': 'President & Vice Chairman', 'yearBorn': 1959, 'fiscalYear': 2023, 'totalPay': 3591277, 'exercisedValue': 0, 'unexercisedValue': 0}, {'maxAge': 1, 'name': 'Ms. Amy E. Hood', 'age': 51, 'title': 'Executive VP & CFO', 'yearBorn': 1972, 'fiscalYear': 2023, 'totalPay': 3452196, 'exercisedValue': 0, 'unexercisedValue': 0}, {'maxAge': 1, 'name': 'Mr. Judson B. Althoff', 'age': 49, 'title': 'Executive VP & Chief Commercial Officer', 'yearBorn': 1974, 'fiscalYear': 2023, 'totalPay': 3355797, 'exercisedValue': 0, 'unexercisedValue': 0}, {'maxAge': 1, 'name': 'Mr. Christopher David Young', 'age': 51, 'title': 'Executive Vice President of Business Development, Strategy & Ventures', 'yearBorn': 1972, 'fiscalYear': 2023, 'totalPay': 2460507, 'exercisedValue': 0, 'unexercisedValue': 0}, {'maxAge': 1, 'name': 'Ms. Alice L. Jolla', 'age': 56, 'title': 'Corporate VP & Chief Accounting Officer', 'yearBorn': 1967, 'fiscalYear': 2023, 'exercisedValue': 0, 'unexercisedValue': 0}, {'maxAge': 1, 'name': 'Mr. James Kevin Scott', 'age': 51, 'title': 'Executive VP of AI & CTO', 'yearBorn': 1972, 'fiscalYear': 2023, 'exercisedValue': 0, 'unexercisedValue': 0}, {'maxAge': 1, 'name': 'Brett  Iversen', 'title': 'Vice President of Investor Relations', 'fiscalYear': 2023, 'exercisedValue': 0, 'unexercisedValue': 0}, {'maxAge': 1, 'name': 'Mr. Hossein  Nowbar', 'title': 'Chief Legal Officer', 'fiscalYear': 2023, 'exercisedValue': 0, 'unexercisedValue': 0}, {'maxAge': 1, 'name': 'Mr. Frank X. Shaw', 'title': 'Chief Communications Officer', 'fiscalYear': 2023, 'exercisedValue': 0, 'unexercisedValue': 0}], 'auditRisk': 3, 'boardRisk': 4, 'compensationRisk': 2, 'shareHolderRightsRisk': 2, 'overallRisk': 1, 'governanceEpochDate': 1717200000, 'compensationAsOfEpochDate': 1703980800, 'irWebsite': 'http://www.microsoft.com/investor/default.aspx', 'maxAge': 86400, 'priceHint': 2, 'previousClose': 413.52, 'open': 412.08, 'dayLow': 409.675, 'dayHigh': 416.44, 'regularMarketPreviousClose': 413.52, 'regularMarketOpen': 412.08, 'regularMarketDayLow': 409.675, 'regularMarketDayHigh': 416.44, 'dividendRate': 3.0, 'dividendYield': 0.0072000003, 'exDividendDate': 1715731200, 'payoutRatio': 0.24780001, 'fiveYearAvgDividendYield': 0.93, 'beta': 0.893, 'trailingPE': 36.085865, 'forwardPE': 31.377829, 'volume': 13557826, 'regularMarketVolume': 13557826, 'averageVolume': 19836049, 'averageVolume10days': 20729820, 'averageDailyVolume10Day': 20729820, 'bid': 415.95, 'ask': 416.12, 'bidSize': 100, 'askSize': 200, 'marketCap': 3092361248768, 'fiftyTwoWeekLow': 309.45, 'fiftyTwoWeekHigh': 433.6, 'priceToSalesTrailing12Months': 13.070881, 'fiftyDayAverage': 415.8776, 'twoHundredDayAverage': 379.92606, 'trailingAnnualDividendRate': 2.93, 'trailingAnnualDividendYield': 0.00708551, 'currency': 'USD', 'enterpriseValue': 3118575386624, 'profitMargins': 0.36426997, 'floatShares': 7421528951, 'sharesOutstanding': 7432309760, 'sharesShort': 43764126, 'sharesShortPriorMonth': 56321541, 'sharesShortPreviousMonthDate': 1713139200, 'dateShortInterest': 1715731200, 'sharesPercentSharesOut': 0.0058999998, 'heldPercentInsiders': 0.00054000004, 'heldPercentInstitutions': 0.73740995, 'shortRatio': 2.18, 'shortPercentOfFloat': 0.0058999998, 'impliedSharesOutstanding': 7432309760, 'bookValue': 34.058, 'priceToBook': 12.216514, 'lastFiscalYearEnd': 1688083200, 'nextFiscalYearEnd': 1719705600, 'mostRecentQuarter': 1711843200, 'earningsQuarterlyGrowth': 0.199, 'netIncomeToCommon': 86181003264, 'trailingEps': 11.53, 'forwardEps': 13.26, 'pegRatio': 2.16, 'lastSplitFactor': '2:1', 'lastSplitDate': 1045526400, 'enterpriseToRevenue': 13.182, 'enterpriseToEbitda': 24.912, '52WeekChange': 0.28662872, 'SandP52WeekChange': 0.23990989, 'lastDividendValue': 0.75, 'lastDividendDate': 1715731200, 'exchange': 'NMS', 'quoteType': 'EQUITY', 'symbol': 'MSFT', 'underlyingSymbol': 'MSFT', 'shortName': 'Microsoft Corporation', 'longName': 'Microsoft Corporation', 'firstTradeDateEpochUtc': 511108200, 'timeZoneFullName': 'America/New_York', 'timeZoneShortName': 'EDT', 'uuid': 'b004b3ec-de24-385e-b2c1-923f10d3fb62', 'messageBoardId': 'finmb_21835', 'gmtOffSetMilliseconds': -14400000, 'currentPrice': 416.07, 'targetHighPrice': 600.0, 'targetLowPrice': 436.0, 'targetMeanPrice': 483.33, 'targetMedianPrice': 477.33, 'recommendationMean': 1.7, 'recommendationKey': 'buy', 'numberOfAnalystOpinions': 47, 'totalCash': 80013000704, 'totalCashPerShare': 10.766, 'ebitda': 125182001152, 'totalDebt': 106228998144, 'quickRatio': 1.132, 'currentRatio': 1.242, 'totalRevenue': 236583993344, 'debtToEquity': 41.963, 'revenuePerShare': 31.834, 'returnOnAssets': 0.15295, 'returnOnEquity': 0.38487998, 'freeCashflow': 61497999360, 'operatingCashflow': 110122999808, 'earningsGrowth': 0.2, 'revenueGrowth': 0.17, 'grossMargins': 0.69894, 'ebitdaMargins': 0.52911997, 'operatingMargins': 0.44588003, 'financialCurrency': 'USD', 'trailingPegRatio': 2.0514}\u001b[0m\u001b[32;1m\u001b[1;3mRelevant Documents: 0,1,2,3,4\n",
      "Cited Documents: 0,1,2,3,4\n",
      "Answer: ## Business Summary:\n",
      "Microsoft Corporation develops and supports software, services, devices and solutions worldwide. The company was founded in 1975 and is headquartered in Redmond, Washington. It operates through three segments: Productivity and Business Processes, Intelligent Cloud, and More Personal Computing. The company sells its products through OEMs, distributors, and resellers, as well as directly through digital marketplaces, online, and retail stores. \n",
      "\n",
      "## Financials Overview:\n",
      "- Microsoft's market value (market cap) is $3.09 trillion. \n",
      "- The company's total revenue for the TTM period is $236.58 billion, with a gross profit of $165.36 billion and an operating income of $105.76 billion. \n",
      "- Microsoft has $8.00 billion in cash and $44.91 billion in long-term debt. \n",
      "- The company's total assets are $484.28 billion, with total liabilities of $231.12 billion, resulting in total equity of $253.15 billion. \n",
      "- Microsoft's current ratio is 1.24 and its quick ratio is 1.13. \n",
      "- The company's P/E ratio is 36.09, with a forward P/E of 31.38. \n",
      "- Microsoft's EPS is $11.54, with a dividend yield of 0.72%. \n",
      "\n",
      "## Financials Rating:\n",
      "Microsoft's financials show a healthy and stable company with strong revenue growth and profitability. The company has a large market cap and a solid financial position, with a current ratio above 1 and a quick ratio above 1. The company's debt levels are relatively high compared to its total equity, but its cash position is strong. Microsoft's profitability ratios, such as return on assets and return on equity, are also strong. Overall, the company's financials are rated as positive. \n",
      "\n",
      "## News Sentiment:\n",
      "The news sentiment for Microsoft is mostly positive, with a focus on the company's AI capabilities and partnerships. Recent news articles highlight Microsoft's collaboration with Hitachi to accelerate the adoption of generative AI, as well as its partnership with NVIDIA to extend its AI footprint. There is also news about Microsoft's cloud services and its performance in the stock market. The overall news sentiment is rated as positive. \n",
      "\n",
      "## Performance Over the Last Year:\n",
      "| Date | Open | High | Low | Close | \n",
      "|---|---|---|---|---| \n",
      "| 2023-06-05 | 332.62 | 335.93 | 332.06 | 333.33 | \n",
      "| 2023-06-06 | 332.73 | 332.77 | 329.60 | 331.09 | \n",
      "| 2023-06-07 | 329.08 | 331.90 | 319.99 | 320.87 | \n",
      "| 2023-06-08 | 321.43 | 324.10 | 320.84 | 322.74 | \n",
      "| 2023-06-09 | 322.47 | 327.43 | 321.89 | 324.25 | \n",
      "| ... | ... | ... | ... | ... | \n",
      "| 2024-05-29 | 425.69 | 430.94 | 425.69 | 429.17 | \n",
      "| 2024-05-30 | 424.30 | 424.30 | 414.24 | 414.67 | \n",
      "| 2024-05-31 | 416.75 | 416.75 | 404.51 | 415.13 | \n",
      "| 2024-06-03 | 415.53 | 416.43 | 408.92 | 413.52 | \n",
      "| 2024-06-04 | 412.43 | 416.44 | 409.68 | 416.07 | \n",
      "\n",
      "Microsoft's stock price has increased over the last year, with a 52-week low of $309.45 and a 52-week high of $433.60. The stock's performance over the last year is rated as positive. \n",
      "\n",
      "## Detailed Information:\n",
      "- Open: $412.08\n",
      "- Day's Low: $409.68\n",
      "- Day's High: $416.44\n",
      "- Previous Close: $413.52\n",
      "- Regular Market Previous Close: $413.52\n",
      "- Regular Market Open: $412.08\n",
      "- Regular Market Day's Low: $409.68\n",
      "- Regular Market Day's High: $416.44\n",
      "- Dividend Rate: $0.75\n",
      "- Dividend Yield: 0.73%\n",
      "- Ex-Dividend Date: 05/06/2024\n",
      "- Payout Ratio: 24.78%\n",
      "- 5-Year Avg. Dividend Yield: 0.93%\n",
      "- Beta: 0.893\n",
      "- Trailing P/E: 36.09\n",
      "- Forward P/E: 31.38\n",
      "- Volume: 13,557,826\n",
      "- Regular Market Volume: 13,557,826\n",
      "- Average Volume: 19,836,049\n",
      "- Average Volume (10 Days): 20,729,820\n",
      "- Average Daily Volume (10 Days): 2,072,982\n",
      "- Bid: $415.95\n",
      "- Ask: $416.12\n",
      "- Market Cap: $3.09 trillion\n",
      "- 52-Week Low: $309.45\n",
      "- 52-Week High: $433.60\n",
      "- Price to Sales Trailing 12 Months: 13.07\n",
      "- 50-Day Average: $415.88\n",
      "- 200-Day Average: $379.93\n",
      "- Trailing Annual Dividend Rate: $2.93\n",
      "- Trailing Annual Dividend Yield: 0.71%\n",
      "- Currency: USD\n",
      "- Enterprise Value: $3.12 trillion\n",
      "- Profit Margins: 36.43%\n",
      "- Float Shares: 7.42 billion\n",
      "- Shares Outstanding: 7.43 billion\n",
      "- Shares Short: 43.76 million\n",
      "- Shares Short Prior Month: 56.32 million\n",
      "- Date Short Interest: 05/06/2024\n",
      "- Shares Short as Percent of Float: 0.59%\n",
      "- Held Percent by Insiders: 0.05%\n",
      "- Held Percent by Institutions: 73.74%\n",
      "- Short Ratio: 2.18\n",
      "- Short Percent of Float: 0.59%\n",
      "- Implied Shares Outstanding: 7.43 billion\n",
      "- Book Value: $34.06\n",
      "- Price to Book: 12.22\n",
      "- Last Fiscal Year End: 30/06/2023\n",
      "- Next Fiscal Year End: 30/06/2024\n",
      "- Most Recent Quarter: 31/03/2024\n",
      "- Earnings Quarterly Growth: 19.9%\n",
      "- Net Income to Common: $86.18 billion\n",
      "- Trailing EPS: $11.53\n",
      "- Forward EPS: $13.26\n",
      "- PEG Ratio: 2.16\n",
      "- Last Split Factor: 2:1\n",
      "- Last Split Date: 26/04/2013\n",
      "- Enterprise to Revenue: 13.18\n",
      "- Enterprise to EBITDA: 24.91\n",
      "- 52-Week Change: 28.66%\n",
      "- S&P 52-Week Change: 23.99%\n",
      "- Last Dividend Value: $0.75\n",
      "- Last Dividend Date: 05/06/2024\n",
      "- Exchange: NMS\n",
      "- Quote Type: EQUITY\n",
      "- Symbol: MSFT\n",
      "- Underlying Symbol: MSFT\n",
      "- Short Name: Microsoft Corporation\n",
      "- Long Name: Microsoft Corporation\n",
      "- First Trade Date Epoch UTC: 26/04/1986\n",
      "- Time Zone Full Name: America/New York\n",
      "- Time Zone Short Name: EDT\n",
      "- UUID: b004b3ec-de24-385e-b2c1-923f10d3fb62\n",
      "- Message Board ID: finmb_21835\n",
      "- GMT Offset Milliseconds: -14,400,000\n",
      "- Current Price: $416.07\n",
      "- Target High Price: $600.00\n",
      "- Target Low Price: $436.00\n",
      "- Target Mean Price: $483.33\n",
      "- Target Median Price: $477.33\n",
      "- Recommendation Mean: 1.7\n",
      "- Number of Analyst Opinions: 47\n",
      "- Total Cash: $8.00 billion\n",
      "- Total Cash per Share: $10.77\n",
      "- EBITDA: $125.18 billion\n",
      "- Total Debt: $106.23 billion\n",
      "- Quick Ratio: 1.13\n",
      "- Current Ratio: 1.24\n",
      "- Total Revenue: $236.58 billion\n",
      "- Debt to Equity: 41.96\n",
      "- Revenue per Share: $31.83\n",
      "- Return on Assets: 15.30%\n",
      "- Return on Equity: 38.49%\n",
      "- Free Cash Flow: $61.50 billion\n",
      "- Operating Cash Flow: $110.12 billion\n",
      "- Earnings Growth: 20.0%\n",
      "- Revenue Growth: 17.0%\n",
      "- Gross Margins: 69.9%\n",
      "- EBITDA Margins: 52.91%\n",
      "- Operating Margins: 44.59%\n",
      "- Financial Currency: USD\n",
      "- Trailing PEG Ratio: 2.05\n",
      "\n",
      "## Investment Rating:\n",
      "Based on the retrieved information, Microsoft is rated as a buy. The company has strong financials, with healthy revenue and earnings growth, and a solid financial position. The news sentiment is positive, with a focus on AI partnerships and cloud services. The stock's performance over the last year has been strong, with a 52-week high of $433.60. Microsoft has a large market cap, strong profitability ratios, and a positive outlook for the future. The stock is currently trading below its 52-week high, which could indicate a buying opportunity. Overall, Microsoft is rated as a buy.\n",
      "Grounded answer: ## Business Summary:\n",
      "Microsoft Corporation <co: 0>develops and supports software, services, devices and solutions worldwide</co: 0>. The company was <co: 0>founded in 1975</co: 0> and is <co: 0>headquartered in Redmond, Washington</co: 0>. It operates through <co: 0>three segments: Productivity and Business Processes, Intelligent Cloud, and More Personal Computing</co: 0>. The company <co: 0>sells its products through OEMs, distributors, and resellers, as well as directly through digital marketplaces, online, and retail stores</co: 0>. \n",
      "\n",
      "## Financials Overview:\n",
      "- Microsoft's market value (market cap) is <co: 4>$3.09 trillion</co: 4>. \n",
      "- The company's <co: 1>total revenue for the TTM period</co: 1> is <co: 1>$236.58 billion</co: 1>, with a <co: 1>gross profit of $165.36 billion</co: 1> and an <co: 1>operating income of $105.76 billion</co: 1>. \n",
      "- Microsoft has <co: 1>$8.00 billion in cash</co: 1> and <co: 1>$44.91 billion in long-term debt</co: 1>. \n",
      "- The company's <co: 1>total assets are $484.28 billion</co: 1>, with <co: 1>total liabilities of $231.12 billion</co: 1>, resulting in <co: 1>total equity of $253.15 billion</co: 1>. \n",
      "- Microsoft's <co: 4>current ratio is 1.24</co: 4> and its <co: 4>quick ratio is 1.13</co: 4>. \n",
      "- The company's <co: 4>P/E ratio is 36.09</co: 4>, with a <co: 4>forward P/E of 31.38</co: 4>. \n",
      "- Microsoft's <co: 4>EPS is $11.54</co: 4>, with a <co: 4>dividend yield of 0.72%.</co: 4> \n",
      "\n",
      "## Financials Rating:\n",
      "Microsoft's financials show a healthy and stable company with strong revenue growth and profitability. The company has a large market cap and a solid financial position, with a current ratio above 1 and a quick ratio above 1. The company's debt levels are relatively high compared to its total equity, but its cash position is strong. Microsoft's profitability ratios, such as <co: 4>return on assets and return on equity</co: 4>, are also strong. Overall, the company's financials are rated as positive. \n",
      "\n",
      "## News Sentiment:\n",
      "The news sentiment for Microsoft is mostly positive, with a focus on the company's <co: 2>AI capabilities and partnerships</co: 2>. Recent news articles highlight Microsoft's <co: 2>collaboration with Hitachi to accelerate the adoption of generative AI</co: 2>, as well as its <co: 2>partnership with NVIDIA to extend its AI footprint</co: 2>. There is also news about Microsoft's <co: 2>cloud services</co: 2> and its <co: 2>performance in the stock market</co: 2>. The overall news sentiment is rated as positive. \n",
      "\n",
      "## Performance Over the Last Year:\n",
      "| Date | Open | High | Low | Close | \n",
      "|---|---|---|---|---| \n",
      "| <co: 3>2023-06-05</co: 3> | <co: 3>332.62</co: 3> | <co: 3>335.93</co: 3> | <co: 3>332.06</co: 3> | <co: 3>333.33</co: 3> | \n",
      "| <co: 3>2023-06-06</co: 3> | <co: 3>332.73</co: 3> | <co: 3>332.77</co: 3> | <co: 3>329.60</co: 3> | <co: 3>331.09</co: 3> | \n",
      "| <co: 3>2023-06-07</co: 3> | <co: 3>329.08</co: 3> | <co: 3>331.90</co: 3> | <co: 3>319.99</co: 3> | <co: 3>320.87</co: 3> | \n",
      "| <co: 3>2023-06-08</co: 3> | <co: 3>321.43</co: 3> | <co: 3>324.10</co: 3> | <co: 3>320.84</co: 3> | <co: 3>322.74</co: 3> | \n",
      "| <co: 3>2023-06-09</co: 3> | <co: 3>322.47</co: 3> | <co: 3>327.43</co: 3> | <co: 3>321.89</co: 3> | <co: 3>324.25</co: 3> | \n",
      "| ... | ... | ... | ... | ... | \n",
      "| <co: 3>2024-05-29</co: 3> | <co: 3>425.69</co: 3> | <co: 3>430.9\u001b[0m\n",
      "\n",
      "\u001b[1m> Finished chain.\u001b[0m\n"
     ]
    },
    {
     "data": {
      "text/html": [
       "<h2>Business Summary:</h2>\n",
       "<p>Microsoft Corporation develops and supports software, services, devices and solutions worldwide. The company was founded in 1975 and is headquartered in Redmond, Washington. It operates through three segments: Productivity and Business Processes, Intelligent Cloud, and More Personal Computing. The company sells its products through OEMs, distributors, and resellers, as well as directly through digital marketplaces, online, and retail stores. </p>\n",
       "<h2>Financials Overview:</h2>\n",
       "<ul>\n",
       "<li>Microsoft's market value (market cap) is $3.09 trillion. </li>\n",
       "<li>The company's total revenue for the TTM period is $236.58 billion, with a gross profit of $165.36 billion and an operating income of $105.76 billion. </li>\n",
       "<li>Microsoft has $8.00 billion in cash and $44.91 billion in long-term debt. </li>\n",
       "<li>The company's total assets are $484.28 billion, with total liabilities of $231.12 billion, resulting in total equity of $253.15 billion. </li>\n",
       "<li>Microsoft's current ratio is 1.24 and its quick ratio is 1.13. </li>\n",
       "<li>The company's P/E ratio is 36.09, with a forward P/E of 31.38. </li>\n",
       "<li>Microsoft's EPS is $11.54, with a dividend yield of 0.72%. </li>\n",
       "</ul>\n",
       "<h2>Financials Rating:</h2>\n",
       "<p>Microsoft's financials show a healthy and stable company with strong revenue growth and profitability. The company has a large market cap and a solid financial position, with a current ratio above 1 and a quick ratio above 1. The company's debt levels are relatively high compared to its total equity, but its cash position is strong. Microsoft's profitability ratios, such as return on assets and return on equity, are also strong. Overall, the company's financials are rated as positive. </p>\n",
       "<h2>News Sentiment:</h2>\n",
       "<p>The news sentiment for Microsoft is mostly positive, with a focus on the company's AI capabilities and partnerships. Recent news articles highlight Microsoft's collaboration with Hitachi to accelerate the adoption of generative AI, as well as its partnership with NVIDIA to extend its AI footprint. There is also news about Microsoft's cloud services and its performance in the stock market. The overall news sentiment is rated as positive. </p>\n",
       "<h2>Performance Over the Last Year:</h2>\n",
       "<p>| Date | Open | High | Low | Close | \n",
       "|---|---|---|---|---| \n",
       "| 2023-06-05 | 332.62 | 335.93 | 332.06 | 333.33 | \n",
       "| 2023-06-06 | 332.73 | 332.77 | 329.60 | 331.09 | \n",
       "| 2023-06-07 | 329.08 | 331.90 | 319.99 | 320.87 | \n",
       "| 2023-06-08 | 321.43 | 324.10 | 320.84 | 322.74 | \n",
       "| 2023-06-09 | 322.47 | 327.43 | 321.89 | 324.25 | \n",
       "| ... | ... | ... | ... | ... | \n",
       "| 2024-05-29 | 425.69 | 430.9</p>"
      ],
      "text/plain": [
       "<IPython.core.display.HTML object>"
      ]
     },
     "metadata": {},
     "output_type": "display_data"
    }
   ],
   "source": [
    "combined_tools = []\n",
    "filtered_polygon_tools = [tool for tool in polygon_tools if tool.name in (\"polygon_financials\", \"polygon_ticker_news\")]\n",
    "\n",
    "combined_tools = filtered_polygon_tools\n",
    "for tool in yfinance_tools:\n",
    "    combined_tools.append(tool)\n",
    "\n",
    "prompt_template_av_financials = \"\"\" How are the financials for {ticker}? What is its market value?\n",
    "                                    Produce an overview in form of a bullet point list (use CRLF for new lines)\n",
    "                                    and rate the financial situation of the company. \"\"\"\n",
    "\n",
    "\n",
    "prompt_template_av_sentiment = \" What is the news sentiment for {ticker}? Rate the sentiment based on the news and explain your rating. \"\n",
    "\n",
    "prompt_template_ticker_info = \"\"\" I need detailed information about {ticker}. Produce a key value list for the 25 most important {topics} using CRLF before each point.\n",
    "                                 After that analyze the fundamental and technical data and rate the company. Is it a good buy? Is it oversold or overbought? Is it a stable investment\n",
    "                                 with a good sharpe ratio? \"\"\"\n",
    "\n",
    "prompt_template_history = \" How did {ticker} perform the last {period}? Show the timeseries in a dataframe and calculate and rate the performance. \"\n",
    "\n",
    "prompt_template_summary = \" Give me a business summary for {ticker}. \" \n",
    "\n",
    "prompt_template_rating = \"Based on the by the tools retrieved information for {ticker} produce a profound investment rating in your report with a header and explain why the stock is a buy or not.\"\n",
    "\n",
    "prompt_template_combined = prompt_template_summary + prompt_template_av_financials + prompt_template_av_sentiment + prompt_template_history + prompt_template_ticker_info + prompt_template_rating\n",
    "\n",
    "ticker = \"MSFT\"\n",
    "period = \"1y\"\n",
    "topics = \"key figures, technical indicators and analyst recommendations\"\n",
    "input = {\"ticker\": ticker, \"topics\": topics, \"period\": period}\n",
    "invoke_cohere_with_tools(input=input,tools=combined_tools,prompt_template=prompt_template_combined,verbose=True)"
   ]
  },
  {
   "cell_type": "code",
   "execution_count": 6,
   "metadata": {},
   "outputs": [
    {
     "name": "stdout",
     "output_type": "stream",
     "text": [
      " Give me a business summary for {ticker}.  How are the financials for {ticker}? What is its market value?\n",
      "                                    Produce an overview in form of a bullet point list (use CRLF for new lines)\n",
      "                                    and rate the financial situation of the company.  What is the news sentiment for {ticker}? Rate the sentiment based on the news and explain your rating.  How did {ticker} perform the last {period}? Show the timeseries in a dataframe and calculate and rate the performance.  I need detailed information about {ticker}. Produce a key value list for the 25 most important {topics} using CRLF before each point.\n",
      "                                 After that analyze the fundamental and technical data and rate the company. Is it a good buy? Is it oversold or overbought? Is it a stable investment\n",
      "                                 with a good sharpe ratio? Based on the by the tools retrieved information for {ticker} produce a profound investment rating in your report with a header and explain why the stock is a buy or not.\n"
     ]
    }
   ],
   "source": [
    "print(prompt_template_combined)"
   ]
  },
  {
   "cell_type": "markdown",
   "metadata": {},
   "source": [
    "## Imports for Embeddings and Qdrant"
   ]
  },
  {
   "cell_type": "code",
   "execution_count": null,
   "metadata": {},
   "outputs": [],
   "source": [
    "from langchain.text_splitter import RecursiveCharacterTextSplitter\n",
    "from langchain.document_loaders import WebBaseLoader\n",
    "from langchain.embeddings.cohere import CohereEmbeddings\n",
    "from langchain.vectorstores import Qdrant\n",
    "from langchain_community.vectorstores import Qdrant\n",
    "from langchain.prompts import PromptTemplate\n",
    "from langchain.chains import ConversationalRetrievalChain\n",
    "from langchain.chains.conversation.memory import ConversationSummaryMemory\n",
    "import qdrant_client"
   ]
  },
  {
   "cell_type": "markdown",
   "metadata": {},
   "source": [
    "## Build Qdrant Vector Store"
   ]
  },
  {
   "cell_type": "code",
   "execution_count": null,
   "metadata": {},
   "outputs": [],
   "source": [
    "# web_links = [\"https://www.fielmann-group.com/ueber-uns/?\",\n",
    "#              \"https://de.wikipedia.org/wiki/Fielmann\",\n",
    "#              \"https://de.wikipedia.org/wiki/G%C3%BCnther_Fielmann\",\n",
    "#              \"https://de.wikipedia.org/wiki/Marc_Fielmann\"] \n",
    "\n",
    "web_links = [\"https://python.langchain.com/v0.2/docs/introduction\",\n",
    "             \"https://python.langchain.com/v0.2/docs/concepts\",\n",
    "             \"https://python.langchain.com/v0.2/docs/integrations/tools\",\n",
    "             \"https://python.langchain.com/v0.2/docs/integrations/vectorstores\",\n",
    "             \"https://python.langchain.com/v0.2/docs/integrations/document_loaders\",\n",
    "             \"https://python.langchain.com/v0.2/docs/integrations/retrievers\",\n",
    "             \"https://python.langchain.com/v0.2/docs/integrations/vectorstores/qdrant\",\n",
    "             \"https://python.langchain.com/v0.2/docs/integrations/providers/cohere/#react-agent\",\n",
    "             \"https://de.wikipedia.org/wiki/Herz#:~:text=Das%20Herz%20(lateinisch%20Cor%2C%20griechisch,die%20Versorgung%20aller%20Organe%20sichert.\"]\n",
    " \n",
    "\n",
    "loader = WebBaseLoader(web_links)\n",
    "document=loader.load()\n",
    "\n",
    "text_splitter = RecursiveCharacterTextSplitter(chunk_size=500, chunk_overlap=0)\n",
    "texts = text_splitter.split_documents(document)\n",
    "\n",
    "embeddings = CohereEmbeddings(model = \"embed-english-v2.0\")\n",
    "\n",
    "qdrant = Qdrant.from_documents(\n",
    "    document,\n",
    "    embeddings,\n",
    "    url=QDRANT_HOST,\n",
    "    api_key=QDRANT_API_KEY,\n",
    "    prefer_grpc=True,\n",
    "    collection_name=\"rag_documents\",\n",
    "    force_recreate=True,\n",
    ")\n"
   ]
  },
  {
   "cell_type": "markdown",
   "metadata": {},
   "source": [
    "## Load Qdrant Vector Store"
   ]
  },
  {
   "cell_type": "code",
   "execution_count": null,
   "metadata": {},
   "outputs": [],
   "source": [
    "client = qdrant_client.QdrantClient(\n",
    "    url=QDRANT_HOST,\n",
    "    api_key=QDRANT_API_KEY,\n",
    ")\n",
    "embeddings = CohereEmbeddings(model=\"embed-english-v2.0\")\n",
    "vector_store = Qdrant(\n",
    "    client = client,\n",
    "    collection_name = \"rag_documents\",\n",
    "    embeddings = embeddings\n",
    ")\n",
    "print(\"connection established !\")"
   ]
  },
  {
   "cell_type": "markdown",
   "metadata": {},
   "source": [
    "## Use Qdrant Vector Store as RAG Retriever for Cohere"
   ]
  },
  {
   "cell_type": "code",
   "execution_count": null,
   "metadata": {},
   "outputs": [],
   "source": [
    "prompt_template = \"\"\"\n",
    "You are a bot to answer questions from a document.\n",
    "    \n",
    "You will be given a context of the conversation made so far followed by a question, \n",
    "give the answer to the question using the context. \n",
    "The answer should be short, straight and to the point. If you don't know the answer, reply that the answer is not available.\n",
    "\n",
    "Context: {context}\n",
    "\n",
    "Question: {question}\n",
    "Answer:\"\"\"\n",
    "\n",
    "PROMPT = PromptTemplate(\n",
    "    template=prompt_template, input_variables=[\"context\", \"question\"]\n",
    ")\n",
    "\n",
    "chain_type_kwargs = { \"prompt\" : PROMPT }\n",
    "\n",
    "llm = ChatCohere()\n",
    "\n",
    "template = (\n",
    "        \"\"\"Combine the chat history and follow up question into \n",
    "        a standalone question. \n",
    "        If chat hsitory is empty, use the follow up question as it is.\n",
    "        Chat History: {chat_history}\n",
    "        Follow up question: {question}\"\"\"\n",
    "    )\n",
    "\n",
    "prompt = PromptTemplate.from_template(template)\n",
    "\n",
    "chain = ConversationalRetrievalChain.from_llm(     \n",
    "    llm = llm,\n",
    "    chain_type = \"stuff\",\n",
    "    memory = ConversationSummaryMemory(llm = llm, memory_key='chat_history', input_key='question', output_key= 'answer', return_messages=True),\n",
    "    retriever = vector_store.as_retriever(search_type=\"mmr\"),\n",
    "    condense_question_prompt = prompt,\n",
    "    return_source_documents=False,\n",
    "    combine_docs_chain_kwargs=chain_type_kwargs,\n",
    ")\n",
    "customer_prompt = \"What are tools in LangChain?\"\n",
    "\n",
    "\n",
    "llm_response = chain.invoke(\n",
    "                {\n",
    "                    \"context\": chain.memory.buffer,\n",
    "                    \"question\": customer_prompt,\n",
    "                },\n",
    "                return_only_outputs=True,\n",
    "            )\n",
    "\n",
    "display(HTML(markdown.markdown(llm_response['answer'])))\n"
   ]
  }
 ],
 "metadata": {
  "kernelspec": {
   "display_name": "cohere",
   "language": "python",
   "name": "python3"
  },
  "language_info": {
   "codemirror_mode": {
    "name": "ipython",
    "version": 3
   },
   "file_extension": ".py",
   "mimetype": "text/x-python",
   "name": "python",
   "nbconvert_exporter": "python",
   "pygments_lexer": "ipython3",
   "version": "3.12.3"
  }
 },
 "nbformat": 4,
 "nbformat_minor": 2
}
