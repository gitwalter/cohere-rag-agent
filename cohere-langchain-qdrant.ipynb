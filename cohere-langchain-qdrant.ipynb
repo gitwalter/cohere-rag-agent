{
 "cells": [
  {
   "cell_type": "code",
   "execution_count": null,
   "metadata": {},
   "outputs": [],
   "source": [
    "# ! pip install streamlit\n",
    "# ! pip install qdrant-client\n",
    "# ! pip install langchain\n",
    "# ! pip install langchain-community\n",
    "# ! pip install langchain-qdrant\n",
    "# ! pip install langchain-cohere\n",
    "# ! pip install tiktoken\n",
    "# ! pip install cohere\n",
    "# ! pip install bs4"
   ]
  },
  {
   "cell_type": "code",
   "execution_count": null,
   "metadata": {},
   "outputs": [
    {
     "ename": "",
     "evalue": "",
     "output_type": "error",
     "traceback": [
      "\u001b[1;31mDas Ausführen von Zellen mit \"cohere.conda (Python 3.10.14)\" erfordert das Paket ipykernel.\n",
      "\u001b[1;31mFühren Sie den folgenden Befehl aus, um „ipykernel“ in der Python-Umgebung zu installieren. \n",
      "\u001b[1;31mBefehl: 'conda install -p d:\\Users\\wpoga\\Documents\\Python Scripts\\cohere-rag-agent\\cohere.conda ipykernel --update-deps --force-reinstall'"
     ]
    }
   ],
   "source": [
    "import warnings\n",
    "warnings.filterwarnings('ignore')"
   ]
  },
  {
   "cell_type": "code",
   "execution_count": null,
   "metadata": {},
   "outputs": [],
   "source": [
    "import streamlit as st\n",
    "import os\n",
    "COHERE_API_KEY = st.secrets[\"COHERE_API_KEY\"]\n",
    "os.environ[\"COHERE_API_KEY\"] = st.secrets[\"COHERE_API_KEY\"]\n",
    "QDRANT_HOST = st.secrets[\"QDRANT_HOST\"]\n",
    "QDRANT_API_KEY = st.secrets[\"QDRANT_API_KEY\"]"
   ]
  },
  {
   "cell_type": "code",
   "execution_count": null,
   "metadata": {},
   "outputs": [],
   "source": [
    "from langchain_cohere import ChatCohere\n",
    "from langchain_core.messages import HumanMessage\n",
    "chat = ChatCohere()\n",
    "messages = [HumanMessage(content=\"knock knock\")]\n",
    "print(chat.invoke(messages))"
   ]
  },
  {
   "cell_type": "code",
   "execution_count": null,
   "metadata": {},
   "outputs": [],
   "source": [
    "from langchain_core.prompts import ChatPromptTemplate\n",
    "\n",
    "prompt = ChatPromptTemplate.from_template(\"Tell me a joke about {topic}\")\n",
    "chain = prompt | chat\n",
    "chain.invoke({\"topic\": \"bears\"})"
   ]
  },
  {
   "cell_type": "code",
   "execution_count": null,
   "metadata": {},
   "outputs": [],
   "source": [
    "from langchain_cohere.llms import Cohere\n",
    "\n",
    "llm = Cohere()\n",
    "print(llm.invoke(\"Come up with a pet name\"))"
   ]
  },
  {
   "cell_type": "code",
   "execution_count": null,
   "metadata": {},
   "outputs": [],
   "source": [
    "print(llm.invoke(\"Summarize the theory of Kahnemann and Tversky\"))"
   ]
  },
  {
   "cell_type": "code",
   "execution_count": null,
   "metadata": {},
   "outputs": [],
   "source": [
    "import os\n",
    "TAVILY_API_KEY = st.secrets[\"TAVILY_API_KEY\"]\n",
    "os.environ[\"TAVILY_API_KEY\"] = st.secrets[\"TAVILY_API_KEY\"]"
   ]
  },
  {
   "cell_type": "code",
   "execution_count": null,
   "metadata": {},
   "outputs": [],
   "source": [
    "from langchain_community.tools.tavily_search import TavilySearchResults\n",
    "from langchain_cohere import ChatCohere, create_cohere_react_agent\n",
    "from langchain_core.prompts import ChatPromptTemplate\n",
    "from langchain.agents import AgentExecutor\n",
    "\n",
    "llm = ChatCohere()\n",
    "\n",
    "internet_search = TavilySearchResults(max_results=4)\n",
    "internet_search.name = \"internet_search\"\n",
    "internet_search.description = \"Route a user query to the internet\"\n",
    "\n",
    "prompt = ChatPromptTemplate.from_template(\"{input}\")\n",
    "\n",
    "agent = create_cohere_react_agent(\n",
    "    llm,\n",
    "    [internet_search],\n",
    "    prompt\n",
    ")\n",
    "\n",
    "agent_executor = AgentExecutor(agent=agent, tools=[internet_search], verbose=True)\n",
    "\n",
    "agent_executor.invoke({\n",
    "    \"input\": \"When has Palantir had its IPO at the NYSE?\",\n",
    "})"
   ]
  },
  {
   "cell_type": "code",
   "execution_count": null,
   "metadata": {},
   "outputs": [],
   "source": [
    "from langchain_core.pydantic_v1 import BaseModel, Field\n",
    "from langchain_community.tools import WikipediaQueryRun\n",
    "from langchain_community.utilities import WikipediaAPIWrapper\n",
    "\n",
    "api_wrapper = WikipediaAPIWrapper(top_k_results=1)\n",
    "\n",
    "class WikiInputs(BaseModel):\n",
    "    \"\"\"Inputs to the wikipedia tool.\"\"\"\n",
    "\n",
    "    query: str = Field(\n",
    "        description=\"query to look up in Wikipedia\"\n",
    "    )\n",
    "    \n",
    "wikipedia_tool = WikipediaQueryRun(\n",
    "    name=\"wiki-tool\",\n",
    "    description=\"look up things in wikipedia\",\n",
    "    args_schema=WikiInputs,\n",
    "    api_wrapper=api_wrapper,\n",
    "    return_direct=True,\n",
    ")\n",
    "\n",
    "prompt = ChatPromptTemplate.from_template(\"{input}\")\n",
    "\n",
    "agent = create_cohere_react_agent(\n",
    "    llm,\n",
    "    [wikipedia_tool],\n",
    "    prompt\n",
    ")\n",
    "\n",
    "agent_executor = AgentExecutor(agent=agent, tools=[wikipedia_tool], verbose=True)\n",
    "\n",
    "response = agent_executor.invoke({\n",
    "                \"input\": \"Explain the theory of Kahnemann and Tversky\",\n",
    "            })"
   ]
  },
  {
   "cell_type": "code",
   "execution_count": null,
   "metadata": {},
   "outputs": [],
   "source": [
    "wikipedia_tool.run(\"David Beckham\")"
   ]
  },
  {
   "cell_type": "code",
   "execution_count": null,
   "metadata": {},
   "outputs": [],
   "source": [
    "import os\n",
    "import streamlit as st\n",
    "from langchain_core.prompts import ChatPromptTemplate\n",
    "from langchain.agents import AgentType, initialize_agent, load_tools\n",
    "from langchain_cohere import ChatCohere, create_cohere_react_agent\n",
    "\n",
    "OPEN_WEATHER_API_KEY = st.secrets[\"OPEN_WEATHER_API_KEY\"]\n",
    "os.environ[\"OPENWEATHERMAP_API_KEY\"] = OPEN_WEATHER_API_KEY\n",
    "\n",
    "\n",
    "\n",
    "llm = ChatCohere()\n",
    "\n",
    "prompt = ChatPromptTemplate.from_template(\"{input}\")\n",
    "\n",
    "\n",
    "tools = load_tools([\"openweathermap-api\"], llm)\n",
    "tools.append(wikipedia_tool)\n",
    "\n",
    "\n",
    "agent = create_cohere_react_agent(\n",
    "    tools=tools, llm=llm, prompt=prompt\n",
    ")\n",
    "\n",
    "agent_executor = AgentExecutor(agent=agent, tools=tools, verbose=True)\n",
    "\n",
    "response = agent_executor.invoke({\"input\": \"How is the weather in London?\"})"
   ]
  },
  {
   "cell_type": "code",
   "execution_count": null,
   "metadata": {},
   "outputs": [],
   "source": [
    "response[\"output\"]"
   ]
  },
  {
   "cell_type": "code",
   "execution_count": null,
   "metadata": {},
   "outputs": [],
   "source": [
    "! pip install --upgrade --quiet  yfinance"
   ]
  },
  {
   "cell_type": "code",
   "execution_count": null,
   "metadata": {},
   "outputs": [],
   "source": [
    "tools = load_tools([\"openweathermap-api\"], llm)\n",
    "internet_search = TavilySearchResults(max_results=4)\n",
    "internet_search.name = \"internet_search\"\n",
    "internet_search.description = \"Route a user query to the internet\"\n",
    "tools.append(internet_search)\n",
    "tools.append(wikipedia_tool)"
   ]
  },
  {
   "cell_type": "code",
   "execution_count": null,
   "metadata": {},
   "outputs": [],
   "source": [
    "prompt = ChatPromptTemplate.from_template(\"Use the right tool to answer the following question. If wikipedia_tool delivers no result use internet_search: {input}\")"
   ]
  },
  {
   "cell_type": "code",
   "execution_count": null,
   "metadata": {},
   "outputs": [],
   "source": [
    "agent = create_cohere_react_agent(\n",
    "    tools=tools, llm=llm, prompt=prompt\n",
    ")\n",
    "\n",
    "agent_executor = AgentExecutor(agent=agent, tools=tools, verbose=True)\n",
    "\n",
    "print(agent_executor.invoke({\"input\": \"Who was George Washington?\"}))\n",
    "print(agent_executor.invoke({\"input\": \"What's the weather like in New Orleans?\"}))\n",
    "print(agent_executor.invoke({\"input\": \"Who did win the Indian elections this year?\"}))\n",
    "print(agent_executor.invoke({\"input\": \"How does the Microsoft stock perform?\"}))"
   ]
  },
  {
   "cell_type": "code",
   "execution_count": null,
   "metadata": {},
   "outputs": [],
   "source": [
    "print(agent_executor.invoke({\"input\": \"What's the weather like in Mortugaba, Bahia, Brazil?\"}))"
   ]
  }
 ],
 "metadata": {
  "kernelspec": {
   "display_name": "cohere",
   "language": "python",
   "name": "python3"
  },
  "language_info": {
   "codemirror_mode": {
    "name": "ipython",
    "version": 3
   },
   "file_extension": ".py",
   "mimetype": "text/x-python",
   "name": "python",
   "nbconvert_exporter": "python",
   "pygments_lexer": "ipython3",
   "version": "3.10.14"
  }
 },
 "nbformat": 4,
 "nbformat_minor": 2
}
